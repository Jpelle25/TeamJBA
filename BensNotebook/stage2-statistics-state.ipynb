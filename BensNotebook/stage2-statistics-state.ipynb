{
 "cells": [
  {
   "cell_type": "code",
   "execution_count": 223,
   "id": "add3fee4-5edf-45cc-b11b-bdbe1a843e39",
   "metadata": {},
   "outputs": [],
   "source": [
    "%matplotlib inline\n",
    "import pandas as pd\n",
    "import numpy as np\n",
    "import seaborn as sns\n",
    "import matplotlib.pyplot as plt\n",
    "\n",
    "# Set some Pandas options\n",
    "pd.set_option('display.max_columns', 20)\n",
    "pd.set_option('display.max_rows', 25)\n",
    "\n",
    "from datetime import datetime"
   ]
  },
  {
   "cell_type": "code",
   "execution_count": 224,
   "id": "3e023746-bf2e-46af-908b-0cc9bd35f38b",
   "metadata": {},
   "outputs": [],
   "source": [
    "segments = pd.read_csv(\"covid19_superdata.csv\")"
   ]
  },
  {
   "cell_type": "code",
   "execution_count": 225,
   "id": "208488fb-d6cf-458f-98a4-19e22105287b",
   "metadata": {},
   "outputs": [
    {
     "data": {
      "text/html": [
       "<div>\n",
       "<style scoped>\n",
       "    .dataframe tbody tr th:only-of-type {\n",
       "        vertical-align: middle;\n",
       "    }\n",
       "\n",
       "    .dataframe tbody tr th {\n",
       "        vertical-align: top;\n",
       "    }\n",
       "\n",
       "    .dataframe thead th {\n",
       "        text-align: right;\n",
       "    }\n",
       "</style>\n",
       "<table border=\"1\" class=\"dataframe\">\n",
       "  <thead>\n",
       "    <tr style=\"text-align: right;\">\n",
       "      <th></th>\n",
       "      <th>2020-01-22_x</th>\n",
       "      <th>2020-01-23_x</th>\n",
       "      <th>2020-01-24_x</th>\n",
       "      <th>2020-01-25_x</th>\n",
       "      <th>2020-01-26_x</th>\n",
       "      <th>2020-01-27_x</th>\n",
       "      <th>2020-01-28_x</th>\n",
       "      <th>2020-01-29_x</th>\n",
       "      <th>2020-01-30_x</th>\n",
       "      <th>2020-01-31_x</th>\n",
       "      <th>...</th>\n",
       "      <th>2023-01-27_y</th>\n",
       "      <th>2023-01-28_y</th>\n",
       "      <th>2023-01-29_y</th>\n",
       "      <th>2023-01-30_y</th>\n",
       "      <th>2023-01-31_y</th>\n",
       "      <th>2023-02-01_y</th>\n",
       "      <th>2023-02-02_y</th>\n",
       "      <th>2023-02-03_y</th>\n",
       "      <th>2023-02-04_y</th>\n",
       "      <th>2023-02-05_y</th>\n",
       "    </tr>\n",
       "  </thead>\n",
       "  <tbody>\n",
       "    <tr>\n",
       "      <th>3093</th>\n",
       "      <td>0</td>\n",
       "      <td>0</td>\n",
       "      <td>0</td>\n",
       "      <td>0</td>\n",
       "      <td>0</td>\n",
       "      <td>0</td>\n",
       "      <td>0</td>\n",
       "      <td>0</td>\n",
       "      <td>0</td>\n",
       "      <td>0</td>\n",
       "      <td>...</td>\n",
       "      <td>70</td>\n",
       "      <td>70</td>\n",
       "      <td>70</td>\n",
       "      <td>70</td>\n",
       "      <td>70</td>\n",
       "      <td>70</td>\n",
       "      <td>70</td>\n",
       "      <td>70</td>\n",
       "      <td>70</td>\n",
       "      <td>70</td>\n",
       "    </tr>\n",
       "    <tr>\n",
       "      <th>3094</th>\n",
       "      <td>0</td>\n",
       "      <td>0</td>\n",
       "      <td>0</td>\n",
       "      <td>0</td>\n",
       "      <td>0</td>\n",
       "      <td>0</td>\n",
       "      <td>0</td>\n",
       "      <td>0</td>\n",
       "      <td>0</td>\n",
       "      <td>0</td>\n",
       "      <td>...</td>\n",
       "      <td>42</td>\n",
       "      <td>42</td>\n",
       "      <td>42</td>\n",
       "      <td>42</td>\n",
       "      <td>42</td>\n",
       "      <td>42</td>\n",
       "      <td>42</td>\n",
       "      <td>42</td>\n",
       "      <td>42</td>\n",
       "      <td>42</td>\n",
       "    </tr>\n",
       "    <tr>\n",
       "      <th>3095</th>\n",
       "      <td>0</td>\n",
       "      <td>0</td>\n",
       "      <td>0</td>\n",
       "      <td>0</td>\n",
       "      <td>0</td>\n",
       "      <td>0</td>\n",
       "      <td>0</td>\n",
       "      <td>0</td>\n",
       "      <td>0</td>\n",
       "      <td>0</td>\n",
       "      <td>...</td>\n",
       "      <td>153</td>\n",
       "      <td>153</td>\n",
       "      <td>153</td>\n",
       "      <td>153</td>\n",
       "      <td>153</td>\n",
       "      <td>153</td>\n",
       "      <td>153</td>\n",
       "      <td>153</td>\n",
       "      <td>153</td>\n",
       "      <td>153</td>\n",
       "    </tr>\n",
       "    <tr>\n",
       "      <th>3096</th>\n",
       "      <td>0</td>\n",
       "      <td>0</td>\n",
       "      <td>0</td>\n",
       "      <td>0</td>\n",
       "      <td>0</td>\n",
       "      <td>0</td>\n",
       "      <td>0</td>\n",
       "      <td>0</td>\n",
       "      <td>0</td>\n",
       "      <td>0</td>\n",
       "      <td>...</td>\n",
       "      <td>46</td>\n",
       "      <td>46</td>\n",
       "      <td>46</td>\n",
       "      <td>46</td>\n",
       "      <td>46</td>\n",
       "      <td>46</td>\n",
       "      <td>46</td>\n",
       "      <td>46</td>\n",
       "      <td>46</td>\n",
       "      <td>46</td>\n",
       "    </tr>\n",
       "    <tr>\n",
       "      <th>3097</th>\n",
       "      <td>0</td>\n",
       "      <td>0</td>\n",
       "      <td>0</td>\n",
       "      <td>0</td>\n",
       "      <td>0</td>\n",
       "      <td>0</td>\n",
       "      <td>0</td>\n",
       "      <td>0</td>\n",
       "      <td>0</td>\n",
       "      <td>0</td>\n",
       "      <td>...</td>\n",
       "      <td>620</td>\n",
       "      <td>620</td>\n",
       "      <td>620</td>\n",
       "      <td>620</td>\n",
       "      <td>620</td>\n",
       "      <td>620</td>\n",
       "      <td>620</td>\n",
       "      <td>620</td>\n",
       "      <td>620</td>\n",
       "      <td>620</td>\n",
       "    </tr>\n",
       "  </tbody>\n",
       "</table>\n",
       "<p>5 rows × 2222 columns</p>\n",
       "</div>"
      ],
      "text/plain": [
       "      2020-01-22_x  2020-01-23_x  2020-01-24_x  2020-01-25_x  2020-01-26_x  \\\n",
       "3093             0             0             0             0             0   \n",
       "3094             0             0             0             0             0   \n",
       "3095             0             0             0             0             0   \n",
       "3096             0             0             0             0             0   \n",
       "3097             0             0             0             0             0   \n",
       "\n",
       "      2020-01-27_x  2020-01-28_x  2020-01-29_x  2020-01-30_x  2020-01-31_x  \\\n",
       "3093             0             0             0             0             0   \n",
       "3094             0             0             0             0             0   \n",
       "3095             0             0             0             0             0   \n",
       "3096             0             0             0             0             0   \n",
       "3097             0             0             0             0             0   \n",
       "\n",
       "      ...  2023-01-27_y  2023-01-28_y  2023-01-29_y  2023-01-30_y  \\\n",
       "3093  ...            70            70            70            70   \n",
       "3094  ...            42            42            42            42   \n",
       "3095  ...           153           153           153           153   \n",
       "3096  ...            46            46            46            46   \n",
       "3097  ...           620           620           620           620   \n",
       "\n",
       "      2023-01-31_y  2023-02-01_y  2023-02-02_y  2023-02-03_y  2023-02-04_y  \\\n",
       "3093            70            70            70            70            70   \n",
       "3094            42            42            42            42            42   \n",
       "3095           153           153           153           153           153   \n",
       "3096            46            46            46            46            46   \n",
       "3097           620           620           620           620           620   \n",
       "\n",
       "      2023-02-05_y  \n",
       "3093            70  \n",
       "3094            42  \n",
       "3095           153  \n",
       "3096            46  \n",
       "3097           620  \n",
       "\n",
       "[5 rows x 2222 columns]"
      ]
     },
     "execution_count": 225,
     "metadata": {},
     "output_type": "execute_result"
    }
   ],
   "source": [
    "#get just the dates in wisconsin\n",
    "wisconsin = segments[segments.StateFIPS==55].iloc[1:,4:-1]\n",
    "\n",
    "#get population of state\n",
    "wi_pop = segments[segments.StateFIPS==55].iloc[:,-1:].sum()\n",
    "\n",
    "wisconsin.head()"
   ]
  },
  {
   "cell_type": "markdown",
   "id": "8b05de13-8d27-424b-aae2-113483531f53",
   "metadata": {},
   "source": [
    "## Weekly Case Info:"
   ]
  },
  {
   "cell_type": "code",
   "execution_count": 264,
   "id": "4c1a8385-47d2-4e43-a39b-09e3dad4e5b7",
   "metadata": {},
   "outputs": [],
   "source": [
    "#remove suffixes and convert to datetime\n",
    "wi_cases = wisconsin.filter(regex='_x')\n",
    "wi_cases.columns = wi_cases.columns.str.rstrip('_x')\n",
    "wi_cases.columns = pd.to_datetime(wi_cases.columns)\n",
    "#wi_cases = wi_cases.loc[:, '2022-06-01':'2022-12-31']\n",
    "wi_cases_week = wi_cases.T.reset_index()\n",
    "wi_cases_week = wi_cases_week.assign(Weeks = wi_cases_week['index']).drop(columns = 'index')\n",
    "wi_cases_week['Weeks'] = wi_cases_week['Weeks'].astype('datetime64[ns]')\n",
    "\n",
    "#get mean cases per week\n",
    "wi_cases_week_mean = wi_cases_week.resample('W-Mon', label='left', closed = 'left', on='Weeks').mean(numeric_only=True).astype(int)\n",
    "wi_cases_week_mean = wi_cases_week_mean.loc['2022-06-01':'2022-12-31', :]\n",
    "wi_cases_new_week_mean = wi_cases_week_mean.sum(axis=1).diff()"
   ]
  },
  {
   "cell_type": "code",
   "execution_count": 265,
   "id": "420c147d-8540-4d61-b789-db2550ce848b",
   "metadata": {},
   "outputs": [
    {
     "data": {
      "text/plain": [
       "<Axes: xlabel='Weeks'>"
      ]
     },
     "execution_count": 265,
     "metadata": {},
     "output_type": "execute_result"
    },
    {
     "data": {
      "image/png": "[encoded data removed]",
      "text/plain": [
       "<Figure size 432x288 with 1 Axes>"
      ]
     },
     "metadata": {
      "needs_background": "light"
     },
     "output_type": "display_data"
    }
   ],
   "source": [
    "wi_cases_new_week_mean.plot()"
   ]
  },
  {
   "cell_type": "code",
   "execution_count": 268,
   "id": "2be8ecbe-9120-4df3-ab50-f065cc18e13a",
   "metadata": {},
   "outputs": [
    {
     "name": "stdout",
     "output_type": "stream",
     "text": [
      "Mean:  9153.965517241379 Median:  8359.0 Mode:  14006.0\n"
     ]
    }
   ],
   "source": [
    "#get mean median and mode of the above dataframe\n",
    "print(\"Mean: \",wi_cases_new_week_mean.mean(),\"Median: \",wi_cases_new_week_mean.median(),\"Mode: \",wi_cases_new_week_mean.mode().max())"
   ]
  },
  {
   "cell_type": "markdown",
   "id": "10701734-bfe6-405c-80d7-a547e166db72",
   "metadata": {},
   "source": [
    "## Weekly Death Info:"
   ]
  },
  {
   "cell_type": "code",
   "execution_count": 276,
   "id": "b610366b-46fb-48f3-84cc-ede9e6de1af9",
   "metadata": {},
   "outputs": [],
   "source": [
    "#remove suffixes and convert to datetime\n",
    "wi_deaths = wisconsin.filter(regex='_y')\n",
    "wi_deaths.columns = wi_deaths.columns.str.rstrip('_y')\n",
    "wi_deaths.columns = pd.to_datetime(wi_deaths.columns)\n",
    "#wi_deaths = wi_deaths.loc[:, '2022-06-01':'2022-12-31']\n",
    "wi_deaths_week = wi_deaths.T.reset_index()\n",
    "wi_deaths_week = wi_deaths_week.assign(Weeks = wi_deaths_week['index']).drop(columns = 'index')\n",
    "wi_deaths_week['Weeks'] = wi_deaths_week['Weeks'].astype('datetime64[ns]')\n",
    "\n",
    "#get mean deaths per week\n",
    "wi_deaths_week_mean = wi_deaths_week.resample('W-Mon', label='left', closed = 'left', on='Weeks').mean(numeric_only=True).astype(int)\n",
    "wi_deaths_week_mean = wi_deaths_week_mean.loc['2022-06-01':'2022-12-31', :]\n",
    "wi_deaths_new_week_mean = wi_deaths_week_mean.sum(axis=1).diff()"
   ]
  },
  {
   "cell_type": "code",
   "execution_count": 262,
   "id": "606d59b4-f8ed-448d-b493-d85088af0c12",
   "metadata": {},
   "outputs": [
    {
     "data": {
      "text/plain": [
       "<Axes: xlabel='Weeks'>"
      ]
     },
     "execution_count": 262,
     "metadata": {},
     "output_type": "execute_result"
    },
    {
     "data": {
      "image/png": "[encoded data removed]",
      "text/plain": [
       "<Figure size 432x288 with 1 Axes>"
      ]
     },
     "metadata": {
      "needs_background": "light"
     },
     "output_type": "display_data"
    }
   ],
   "source": [
    "wi_deaths_new_week_mean.plot()"
   ]
  },
  {
   "cell_type": "code",
   "execution_count": 263,
   "id": "c6f2442b-75e2-4668-ab0d-01d2ccc59aa1",
   "metadata": {},
   "outputs": [
    {
     "name": "stdout",
     "output_type": "stream",
     "text": [
      "Mean:  38.62068965517241 Median:  39.0 Mode:  52.0\n"
     ]
    }
   ],
   "source": [
    "#get mean median and mode of the above dataframe\n",
    "print(\"Mean: \",wi_deaths_new_week_mean.mean(),\"Median: \",wi_deaths_new_week_mean.median(),\"Mode: \",wi_deaths_new_week_mean.mode().max())"
   ]
  },
  {
   "cell_type": "markdown",
   "id": "46e21872-328b-4561-afd7-ed8e8dcdb721",
   "metadata": {},
   "source": [
    "## Case Data Compared to Three More States:"
   ]
  },
  {
   "cell_type": "code",
   "execution_count": 230,
   "id": "adc41566-825d-4ed8-991d-8ac1fb6c8498",
   "metadata": {},
   "outputs": [],
   "source": [
    "#get just the dates in utah (UT)\n",
    "utah = segments[segments.StateFIPS==49].iloc[1:,4:-1]\n",
    "\n",
    "#get population of state\n",
    "ut_pop = segments[segments.StateFIPS==49].iloc[:,-1:].sum()\n",
    "\n",
    "#remove suffixes and convert to datetime\n",
    "ut_cases = utah.filter(regex='_x')\n",
    "ut_cases.columns = ut_cases.columns.str.rstrip('_x')\n",
    "ut_cases.columns = pd.to_datetime(ut_cases.columns)\n",
    "ut_cases_week = ut_cases.T.reset_index()\n",
    "ut_cases_week = ut_cases_week.assign(Weeks = ut_cases_week['index']).drop(columns = 'index')\n",
    "ut_cases_week['Weeks'] = ut_cases_week['Weeks'].astype('datetime64[ns]')\n",
    "\n",
    "#get mean cases per week\n",
    "ut_cases_week_mean = ut_cases_week.resample('W-Mon', label='left', closed = 'left', on='Weeks').mean(numeric_only=True)\n",
    "ut_cases_week_mean = ut_cases_week_mean.loc['2022-06-01':'2022-12-31', :]\n",
    "ut_cases_new_week_mean = ut_cases_week_mean.sum(axis=1).diff()\n",
    "\n",
    "\n",
    "#get just the dates in nebraska (NE)\n",
    "nebraska = segments[segments.StateFIPS==31].iloc[1:,4:-1]\n",
    "\n",
    "#get population of state\n",
    "ne_pop = segments[segments.StateFIPS==31].iloc[:,-1:].sum()\n",
    "\n",
    "#remove suffixes and convert to datetime\n",
    "ne_cases = nebraska.filter(regex='_x')\n",
    "ne_cases.columns = ne_cases.columns.str.rstrip('_x')\n",
    "ne_cases.columns = pd.to_datetime(ne_cases.columns)\n",
    "ne_cases_week = ne_cases.T.reset_index()\n",
    "ne_cases_week = ne_cases_week.assign(Weeks = ne_cases_week['index']).drop(columns = 'index')\n",
    "ne_cases_week['Weeks'] = ne_cases_week['Weeks'].astype('datetime64[ns]')\n",
    "\n",
    "#get mean cases per week\n",
    "ne_cases_week_mean = ne_cases_week.resample('W-Mon', label='left', closed = 'left', on='Weeks').mean(numeric_only=True)\n",
    "ne_cases_week_mean = ne_cases_week_mean.loc['2022-06-01':'2022-12-31', :]\n",
    "ne_cases_new_week_mean = ne_cases_week_mean.sum(axis=1).diff()\n",
    "\n",
    "\n",
    "#get just the dates in alaska (AK)\n",
    "alaska = segments[segments.StateFIPS==2].iloc[1:,4:-1]\n",
    "\n",
    "#get population of state\n",
    "ak_pop = segments[segments.StateFIPS==2].iloc[:,-1:].sum()\n",
    "\n",
    "#remove suffixes and convert to datetime\n",
    "ak_cases = alaska.filter(regex='_x')\n",
    "ak_cases.columns = ak_cases.columns.str.rstrip('_x')\n",
    "ak_cases.columns = pd.to_datetime(ak_cases.columns)\n",
    "ak_cases_week = ak_cases.T.reset_index()\n",
    "ak_cases_week = ak_cases_week.assign(Weeks = ak_cases_week['index']).drop(columns = 'index')\n",
    "ak_cases_week['Weeks'] = ak_cases_week['Weeks'].astype('datetime64[ns]')\n",
    "\n",
    "#get mean cases per week\n",
    "ak_cases_week_mean = ak_cases_week.resample('W-Mon', label='left', closed = 'left', on='Weeks').mean(numeric_only=True)\n",
    "ak_cases_week_mean = ak_cases_week_mean.loc['2022-06-01':'2022-12-31', :]\n",
    "ak_cases_new_week_mean = ak_cases_week_mean.sum(axis=1).diff()"
   ]
  },
  {
   "cell_type": "code",
   "execution_count": 272,
   "id": "91da468a-ddb2-4544-b9d5-63c16e7657d7",
   "metadata": {},
   "outputs": [
    {
     "data": {
      "text/plain": [
       "[<matplotlib.lines.Line2D at 0x7f409fee4dc0>]"
      ]
     },
     "execution_count": 272,
     "metadata": {},
     "output_type": "execute_result"
    },
    {
     "data": {
      "image/png": "[encoded data removed]",
      "text/plain": [
       "<Figure size 432x288 with 1 Axes>"
      ]
     },
     "metadata": {
      "needs_background": "light"
     },
     "output_type": "display_data"
    }
   ],
   "source": [
    "#mean data across the three states over the population\n",
    "fig1 = plt.figure()\n",
    "ax1 = fig1.add_subplot()\n",
    "\n",
    "ax1.plot((wi_cases_new_week_mean / wi_pop[0])*100, color=\"purple\")\n",
    "ax1.plot((ut_cases_new_week_mean / ut_pop[0])*100, color=\"blue\")\n",
    "ax1.plot((ne_cases_new_week_mean / ne_pop[0])*100, color=\"red\")\n",
    "ax1.plot((ak_cases_new_week_mean / ak_pop[0])*100, color=\"green\")"
   ]
  },
  {
   "cell_type": "markdown",
   "id": "334a9805-d9e2-4d70-a89a-58591140e543",
   "metadata": {},
   "source": [
    "## Deaths Data Compared to Three More States:"
   ]
  },
  {
   "cell_type": "code",
   "execution_count": 232,
   "id": "c1d77100-50cb-41c1-8622-0d68eed8c850",
   "metadata": {},
   "outputs": [],
   "source": [
    "#utah\n",
    "#remove suffixes and convert to datetime\n",
    "ut_deaths = utah.filter(regex='_x')\n",
    "ut_deaths.columns = ut_deaths.columns.str.rstrip('_x')\n",
    "ut_deaths.columns = pd.to_datetime(ut_deaths.columns)\n",
    "ut_deaths_week = ut_deaths.T.reset_index()\n",
    "ut_deaths_week = ut_deaths_week.assign(Weeks = ut_deaths_week['index']).drop(columns = 'index')\n",
    "ut_deaths_week['Weeks'] = ut_deaths_week['Weeks'].astype('datetime64[ns]')\n",
    "\n",
    "#get mean deaths per week\n",
    "ut_deaths_week_mean = ut_deaths_week.resample('W-Mon', label='left', closed = 'left', on='Weeks').mean(numeric_only=True)\n",
    "ut_deaths_week_mean = ut_deaths_week_mean.loc['2022-06-01':'2022-12-31', :]\n",
    "ut_deaths_new_week_mean = ut_deaths_week_mean.sum(axis=1).diff()\n",
    "\n",
    "\n",
    "#nebraska\n",
    "#remove suffixes and convert to datetime\n",
    "ne_deaths = nebraska.filter(regex='_x')\n",
    "ne_deaths.columns = ne_deaths.columns.str.rstrip('_x')\n",
    "ne_deaths.columns = pd.to_datetime(ne_deaths.columns)\n",
    "ne_deaths_week = ne_deaths.T.reset_index()\n",
    "ne_deaths_week = ne_deaths_week.assign(Weeks = ne_deaths_week['index']).drop(columns = 'index')\n",
    "ne_deaths_week['Weeks'] = ne_deaths_week['Weeks'].astype('datetime64[ns]')\n",
    "\n",
    "#get mean deaths per week\n",
    "ne_deaths_week_mean = ne_deaths_week.resample('W-Mon', label='left', closed = 'left', on='Weeks').mean(numeric_only=True)\n",
    "ne_deaths_week_mean = ne_deaths_week_mean.loc['2022-06-01':'2022-12-31', :]\n",
    "ne_deaths_new_week_mean = ne_deaths_week_mean.sum(axis=1).diff()\n",
    "\n",
    "\n",
    "#alaska\n",
    "#remove suffixes and convert to datetime\n",
    "ak_deaths = alaska.filter(regex='_x')\n",
    "ak_deaths.columns = ak_deaths.columns.str.rstrip('_x')\n",
    "ak_deaths.columns = pd.to_datetime(ak_deaths.columns)\n",
    "ak_deaths_week = ak_deaths.T.reset_index()\n",
    "ak_deaths_week = ak_deaths_week.assign(Weeks = ak_deaths_week['index']).drop(columns = 'index')\n",
    "ak_deaths_week['Weeks'] = ak_deaths_week['Weeks'].astype('datetime64[ns]')\n",
    "\n",
    "#get mean deaths per week\n",
    "ak_deaths_week_mean = ak_deaths_week.resample('W-Mon', label='left', closed = 'left', on='Weeks').mean(numeric_only=True)\n",
    "ak_deaths_week_mean = ak_deaths_week_mean.loc['2022-06-01':'2022-12-31', :]\n",
    "ak_deaths_new_week_mean = ak_deaths_week_mean.sum(axis=1).diff()"
   ]
  },
  {
   "cell_type": "code",
   "execution_count": 277,
   "id": "e9e02306-6722-4699-b7e4-d756946e2a01",
   "metadata": {},
   "outputs": [
    {
     "data": {
      "text/plain": [
       "[<matplotlib.lines.Line2D at 0x7f409fd4a520>]"
      ]
     },
     "execution_count": 277,
     "metadata": {},
     "output_type": "execute_result"
    },
    {
     "data": {
      "image/png": "[encoded data removed]",
      "text/plain": [
       "<Figure size 432x288 with 1 Axes>"
      ]
     },
     "metadata": {
      "needs_background": "light"
     },
     "output_type": "display_data"
    }
   ],
   "source": [
    "#mean data across the three states\n",
    "fig2 = plt.figure()\n",
    "ax2 = fig2.add_subplot()\n",
    "\n",
    "ax2.plot((wi_deaths_new_week_mean / wi_pop[0])*100, color=\"purple\")\n",
    "ax2.plot((ut_deaths_new_week_mean / ut_pop[0])*100, color=\"blue\")\n",
    "ax2.plot((ne_deaths_new_week_mean / ne_pop[0])*100, color=\"red\")\n",
    "ax2.plot((ak_deaths_new_week_mean / ak_pop[0])*100, color=\"green\")"
   ]
  },
  {
   "cell_type": "markdown",
   "id": "476efe99-aa2b-4a38-b918-f0f215893cbd",
   "metadata": {},
   "source": [
    "# Data Report:"
   ]
  },
  {
   "cell_type": "markdown",
   "id": "859d0cd1-96ea-451d-9bc9-2fec03161933",
   "metadata": {},
   "source": [
    "The data for both cases and deaths appears to follow a similar trend when compared to both the country and other states. There are noticeable peaks around holidays in the United States, as well as fall break for most schools. It is important to note that Wisconsin does not have the same peak in October when compared to the three other states, and that outside of Utah's peaks, Wisconsin consistently has the highest cases out of the chosen states. Utah has the highest peaks out of the observed states, but the shape of the peaks does closely resemble Alaska's."
   ]
  },
  {
   "cell_type": "code",
   "execution_count": null,
   "id": "93c64206-6dad-4ae9-ba97-e3b945fd6528",
   "metadata": {},
   "outputs": [],
   "source": []
  }
 ],
 "metadata": {
  "kernelspec": {
   "display_name": "Python 3",
   "language": "python",
   "name": "python3"
  },
  "language_info": {
   "codemirror_mode": {
    "name": "ipython",
    "version": 3
   },
   "file_extension": ".py",
   "mimetype": "text/x-python",
   "name": "python",
   "nbconvert_exporter": "python",
   "pygments_lexer": "ipython3",
   "version": "3.8.8"
  }
 },
 "nbformat": 4,
 "nbformat_minor": 5
}

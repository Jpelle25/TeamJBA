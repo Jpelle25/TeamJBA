{
 "cells": [
  {
   "cell_type": "markdown",
   "id": "f7ad0885",
   "metadata": {},
   "source": [
    "### Importing the libraries"
   ]
  },
  {
   "cell_type": "code",
   "execution_count": 1375,
   "id": "47682da2",
   "metadata": {},
   "outputs": [],
   "source": [
    "import pandas as pd\n",
    "import numpy as np\n",
    "from scipy import stats\n",
    "import plotly.express as px"
   ]
  },
  {
   "cell_type": "markdown",
   "id": "e2e43b2f",
   "metadata": {},
   "source": [
    "### Reading the Dataset\n",
    "From the feeback given for Stage 1 of project, (cases/deaths against dates), this is the updated data"
   ]
  },
  {
   "cell_type": "code",
   "execution_count": 1376,
   "id": "a65df21c",
   "metadata": {},
   "outputs": [
    {
     "data": {
      "text/html": [
       "<div>\n",
       "<style scoped>\n",
       "    .dataframe tbody tr th:only-of-type {\n",
       "        vertical-align: middle;\n",
       "    }\n",
       "\n",
       "    .dataframe tbody tr th {\n",
       "        vertical-align: top;\n",
       "    }\n",
       "\n",
       "    .dataframe thead th {\n",
       "        text-align: right;\n",
       "    }\n",
       "</style>\n",
       "<table border=\"1\" class=\"dataframe\">\n",
       "  <thead>\n",
       "    <tr style=\"text-align: right;\">\n",
       "      <th></th>\n",
       "      <th>countyFIPS</th>\n",
       "      <th>County Name</th>\n",
       "      <th>State</th>\n",
       "      <th>StateFIPS</th>\n",
       "      <th>date</th>\n",
       "      <th>cases</th>\n",
       "      <th>deaths</th>\n",
       "      <th>population</th>\n",
       "    </tr>\n",
       "  </thead>\n",
       "  <tbody>\n",
       "    <tr>\n",
       "      <th>0</th>\n",
       "      <td>1001</td>\n",
       "      <td>autauga county</td>\n",
       "      <td>AL</td>\n",
       "      <td>1</td>\n",
       "      <td>2020-01-22</td>\n",
       "      <td>0</td>\n",
       "      <td>0</td>\n",
       "      <td>55869</td>\n",
       "    </tr>\n",
       "    <tr>\n",
       "      <th>1</th>\n",
       "      <td>1001</td>\n",
       "      <td>autauga county</td>\n",
       "      <td>AL</td>\n",
       "      <td>1</td>\n",
       "      <td>2020-01-23</td>\n",
       "      <td>0</td>\n",
       "      <td>0</td>\n",
       "      <td>55869</td>\n",
       "    </tr>\n",
       "    <tr>\n",
       "      <th>2</th>\n",
       "      <td>1001</td>\n",
       "      <td>autauga county</td>\n",
       "      <td>AL</td>\n",
       "      <td>1</td>\n",
       "      <td>2020-01-24</td>\n",
       "      <td>0</td>\n",
       "      <td>0</td>\n",
       "      <td>55869</td>\n",
       "    </tr>\n",
       "    <tr>\n",
       "      <th>3</th>\n",
       "      <td>1001</td>\n",
       "      <td>autauga county</td>\n",
       "      <td>AL</td>\n",
       "      <td>1</td>\n",
       "      <td>2020-01-25</td>\n",
       "      <td>0</td>\n",
       "      <td>0</td>\n",
       "      <td>55869</td>\n",
       "    </tr>\n",
       "    <tr>\n",
       "      <th>4</th>\n",
       "      <td>1001</td>\n",
       "      <td>autauga county</td>\n",
       "      <td>AL</td>\n",
       "      <td>1</td>\n",
       "      <td>2020-01-26</td>\n",
       "      <td>0</td>\n",
       "      <td>0</td>\n",
       "      <td>55869</td>\n",
       "    </tr>\n",
       "    <tr>\n",
       "      <th>...</th>\n",
       "      <td>...</td>\n",
       "      <td>...</td>\n",
       "      <td>...</td>\n",
       "      <td>...</td>\n",
       "      <td>...</td>\n",
       "      <td>...</td>\n",
       "      <td>...</td>\n",
       "      <td>...</td>\n",
       "    </tr>\n",
       "    <tr>\n",
       "      <th>3487424</th>\n",
       "      <td>56045</td>\n",
       "      <td>weston county</td>\n",
       "      <td>WY</td>\n",
       "      <td>56</td>\n",
       "      <td>2023-02-01</td>\n",
       "      <td>1885</td>\n",
       "      <td>22</td>\n",
       "      <td>6927</td>\n",
       "    </tr>\n",
       "    <tr>\n",
       "      <th>3487425</th>\n",
       "      <td>56045</td>\n",
       "      <td>weston county</td>\n",
       "      <td>WY</td>\n",
       "      <td>56</td>\n",
       "      <td>2023-02-02</td>\n",
       "      <td>1880</td>\n",
       "      <td>22</td>\n",
       "      <td>6927</td>\n",
       "    </tr>\n",
       "    <tr>\n",
       "      <th>3487426</th>\n",
       "      <td>56045</td>\n",
       "      <td>weston county</td>\n",
       "      <td>WY</td>\n",
       "      <td>56</td>\n",
       "      <td>2023-02-03</td>\n",
       "      <td>1880</td>\n",
       "      <td>22</td>\n",
       "      <td>6927</td>\n",
       "    </tr>\n",
       "    <tr>\n",
       "      <th>3487427</th>\n",
       "      <td>56045</td>\n",
       "      <td>weston county</td>\n",
       "      <td>WY</td>\n",
       "      <td>56</td>\n",
       "      <td>2023-02-04</td>\n",
       "      <td>1880</td>\n",
       "      <td>22</td>\n",
       "      <td>6927</td>\n",
       "    </tr>\n",
       "    <tr>\n",
       "      <th>3487428</th>\n",
       "      <td>56045</td>\n",
       "      <td>weston county</td>\n",
       "      <td>WY</td>\n",
       "      <td>56</td>\n",
       "      <td>2023-02-05</td>\n",
       "      <td>1880</td>\n",
       "      <td>22</td>\n",
       "      <td>6927</td>\n",
       "    </tr>\n",
       "  </tbody>\n",
       "</table>\n",
       "<p>3487429 rows × 8 columns</p>\n",
       "</div>"
      ],
      "text/plain": [
       "         countyFIPS     County Name State  StateFIPS        date  cases  \\\n",
       "0              1001  autauga county    AL          1  2020-01-22      0   \n",
       "1              1001  autauga county    AL          1  2020-01-23      0   \n",
       "2              1001  autauga county    AL          1  2020-01-24      0   \n",
       "3              1001  autauga county    AL          1  2020-01-25      0   \n",
       "4              1001  autauga county    AL          1  2020-01-26      0   \n",
       "...             ...             ...   ...        ...         ...    ...   \n",
       "3487424       56045   weston county    WY         56  2023-02-01   1885   \n",
       "3487425       56045   weston county    WY         56  2023-02-02   1880   \n",
       "3487426       56045   weston county    WY         56  2023-02-03   1880   \n",
       "3487427       56045   weston county    WY         56  2023-02-04   1880   \n",
       "3487428       56045   weston county    WY         56  2023-02-05   1880   \n",
       "\n",
       "         deaths  population  \n",
       "0             0       55869  \n",
       "1             0       55869  \n",
       "2             0       55869  \n",
       "3             0       55869  \n",
       "4             0       55869  \n",
       "...         ...         ...  \n",
       "3487424      22        6927  \n",
       "3487425      22        6927  \n",
       "3487426      22        6927  \n",
       "3487427      22        6927  \n",
       "3487428      22        6927  \n",
       "\n",
       "[3487429 rows x 8 columns]"
      ]
     },
     "execution_count": 1376,
     "metadata": {},
     "output_type": "execute_result"
    }
   ],
   "source": [
    "superdata = pd.read_csv(\"covid19_superdata.csv\")\n",
    "superdata"
   ]
  },
  {
   "cell_type": "markdown",
   "id": "d2134262",
   "metadata": {},
   "source": [
    "### Generate weekly statistics (mean, median, mode) for number of new cases and deaths across a specific state."
   ]
  },
  {
   "cell_type": "code",
   "execution_count": 1377,
   "id": "dbd1102f",
   "metadata": {},
   "outputs": [
    {
     "data": {
      "text/html": [
       "<div>\n",
       "<style scoped>\n",
       "    .dataframe tbody tr th:only-of-type {\n",
       "        vertical-align: middle;\n",
       "    }\n",
       "\n",
       "    .dataframe tbody tr th {\n",
       "        vertical-align: top;\n",
       "    }\n",
       "\n",
       "    .dataframe thead th {\n",
       "        text-align: right;\n",
       "    }\n",
       "</style>\n",
       "<table border=\"1\" class=\"dataframe\">\n",
       "  <thead>\n",
       "    <tr style=\"text-align: right;\">\n",
       "      <th></th>\n",
       "      <th>countyFIPS</th>\n",
       "      <th>County Name</th>\n",
       "      <th>State</th>\n",
       "      <th>StateFIPS</th>\n",
       "      <th>date</th>\n",
       "      <th>cases</th>\n",
       "      <th>deaths</th>\n",
       "      <th>population</th>\n",
       "    </tr>\n",
       "  </thead>\n",
       "  <tbody>\n",
       "    <tr>\n",
       "      <th>658823</th>\n",
       "      <td>17001</td>\n",
       "      <td>adams county</td>\n",
       "      <td>IL</td>\n",
       "      <td>17</td>\n",
       "      <td>2020-01-22</td>\n",
       "      <td>0</td>\n",
       "      <td>0</td>\n",
       "      <td>65435</td>\n",
       "    </tr>\n",
       "    <tr>\n",
       "      <th>658824</th>\n",
       "      <td>17001</td>\n",
       "      <td>adams county</td>\n",
       "      <td>IL</td>\n",
       "      <td>17</td>\n",
       "      <td>2020-01-23</td>\n",
       "      <td>0</td>\n",
       "      <td>0</td>\n",
       "      <td>65435</td>\n",
       "    </tr>\n",
       "    <tr>\n",
       "      <th>658825</th>\n",
       "      <td>17001</td>\n",
       "      <td>adams county</td>\n",
       "      <td>IL</td>\n",
       "      <td>17</td>\n",
       "      <td>2020-01-24</td>\n",
       "      <td>0</td>\n",
       "      <td>0</td>\n",
       "      <td>65435</td>\n",
       "    </tr>\n",
       "    <tr>\n",
       "      <th>658826</th>\n",
       "      <td>17001</td>\n",
       "      <td>adams county</td>\n",
       "      <td>IL</td>\n",
       "      <td>17</td>\n",
       "      <td>2020-01-25</td>\n",
       "      <td>0</td>\n",
       "      <td>0</td>\n",
       "      <td>65435</td>\n",
       "    </tr>\n",
       "    <tr>\n",
       "      <th>658827</th>\n",
       "      <td>17001</td>\n",
       "      <td>adams county</td>\n",
       "      <td>IL</td>\n",
       "      <td>17</td>\n",
       "      <td>2020-01-26</td>\n",
       "      <td>0</td>\n",
       "      <td>0</td>\n",
       "      <td>65435</td>\n",
       "    </tr>\n",
       "    <tr>\n",
       "      <th>...</th>\n",
       "      <td>...</td>\n",
       "      <td>...</td>\n",
       "      <td>...</td>\n",
       "      <td>...</td>\n",
       "      <td>...</td>\n",
       "      <td>...</td>\n",
       "      <td>...</td>\n",
       "      <td>...</td>\n",
       "    </tr>\n",
       "    <tr>\n",
       "      <th>772140</th>\n",
       "      <td>17203</td>\n",
       "      <td>woodford county</td>\n",
       "      <td>IL</td>\n",
       "      <td>17</td>\n",
       "      <td>2023-02-01</td>\n",
       "      <td>12249</td>\n",
       "      <td>118</td>\n",
       "      <td>38459</td>\n",
       "    </tr>\n",
       "    <tr>\n",
       "      <th>772141</th>\n",
       "      <td>17203</td>\n",
       "      <td>woodford county</td>\n",
       "      <td>IL</td>\n",
       "      <td>17</td>\n",
       "      <td>2023-02-02</td>\n",
       "      <td>12249</td>\n",
       "      <td>118</td>\n",
       "      <td>38459</td>\n",
       "    </tr>\n",
       "    <tr>\n",
       "      <th>772142</th>\n",
       "      <td>17203</td>\n",
       "      <td>woodford county</td>\n",
       "      <td>IL</td>\n",
       "      <td>17</td>\n",
       "      <td>2023-02-03</td>\n",
       "      <td>12249</td>\n",
       "      <td>118</td>\n",
       "      <td>38459</td>\n",
       "    </tr>\n",
       "    <tr>\n",
       "      <th>772143</th>\n",
       "      <td>17203</td>\n",
       "      <td>woodford county</td>\n",
       "      <td>IL</td>\n",
       "      <td>17</td>\n",
       "      <td>2023-02-04</td>\n",
       "      <td>12249</td>\n",
       "      <td>118</td>\n",
       "      <td>38459</td>\n",
       "    </tr>\n",
       "    <tr>\n",
       "      <th>772144</th>\n",
       "      <td>17203</td>\n",
       "      <td>woodford county</td>\n",
       "      <td>IL</td>\n",
       "      <td>17</td>\n",
       "      <td>2023-02-05</td>\n",
       "      <td>12249</td>\n",
       "      <td>118</td>\n",
       "      <td>38459</td>\n",
       "    </tr>\n",
       "  </tbody>\n",
       "</table>\n",
       "<p>113322 rows × 8 columns</p>\n",
       "</div>"
      ],
      "text/plain": [
       "        countyFIPS      County Name State  StateFIPS        date  cases  \\\n",
       "658823       17001     adams county    IL         17  2020-01-22      0   \n",
       "658824       17001     adams county    IL         17  2020-01-23      0   \n",
       "658825       17001     adams county    IL         17  2020-01-24      0   \n",
       "658826       17001     adams county    IL         17  2020-01-25      0   \n",
       "658827       17001     adams county    IL         17  2020-01-26      0   \n",
       "...            ...              ...   ...        ...         ...    ...   \n",
       "772140       17203  woodford county    IL         17  2023-02-01  12249   \n",
       "772141       17203  woodford county    IL         17  2023-02-02  12249   \n",
       "772142       17203  woodford county    IL         17  2023-02-03  12249   \n",
       "772143       17203  woodford county    IL         17  2023-02-04  12249   \n",
       "772144       17203  woodford county    IL         17  2023-02-05  12249   \n",
       "\n",
       "        deaths  population  \n",
       "658823       0       65435  \n",
       "658824       0       65435  \n",
       "658825       0       65435  \n",
       "658826       0       65435  \n",
       "658827       0       65435  \n",
       "...        ...         ...  \n",
       "772140     118       38459  \n",
       "772141     118       38459  \n",
       "772142     118       38459  \n",
       "772143     118       38459  \n",
       "772144     118       38459  \n",
       "\n",
       "[113322 rows x 8 columns]"
      ]
     },
     "execution_count": 1377,
     "metadata": {},
     "output_type": "execute_result"
    }
   ],
   "source": [
    "#Filtering data based on a specific state\n",
    "IL_data = superdata[superdata['State']=='IL']\n",
    "IL_data"
   ]
  },
  {
   "cell_type": "code",
   "execution_count": 1378,
   "id": "74c4cc5a",
   "metadata": {},
   "outputs": [
    {
     "data": {
      "text/html": [
       "<div>\n",
       "<style scoped>\n",
       "    .dataframe tbody tr th:only-of-type {\n",
       "        vertical-align: middle;\n",
       "    }\n",
       "\n",
       "    .dataframe tbody tr th {\n",
       "        vertical-align: top;\n",
       "    }\n",
       "\n",
       "    .dataframe thead th {\n",
       "        text-align: right;\n",
       "    }\n",
       "</style>\n",
       "<table border=\"1\" class=\"dataframe\">\n",
       "  <thead>\n",
       "    <tr style=\"text-align: right;\">\n",
       "      <th></th>\n",
       "      <th>date</th>\n",
       "      <th>State</th>\n",
       "      <th>cases</th>\n",
       "      <th>deaths</th>\n",
       "      <th>population</th>\n",
       "    </tr>\n",
       "  </thead>\n",
       "  <tbody>\n",
       "    <tr>\n",
       "      <th>0</th>\n",
       "      <td>2020-01-22</td>\n",
       "      <td>IL</td>\n",
       "      <td>0</td>\n",
       "      <td>0</td>\n",
       "      <td>12671821</td>\n",
       "    </tr>\n",
       "    <tr>\n",
       "      <th>1</th>\n",
       "      <td>2020-01-23</td>\n",
       "      <td>IL</td>\n",
       "      <td>0</td>\n",
       "      <td>0</td>\n",
       "      <td>12671821</td>\n",
       "    </tr>\n",
       "    <tr>\n",
       "      <th>2</th>\n",
       "      <td>2020-01-24</td>\n",
       "      <td>IL</td>\n",
       "      <td>1</td>\n",
       "      <td>0</td>\n",
       "      <td>12671821</td>\n",
       "    </tr>\n",
       "    <tr>\n",
       "      <th>3</th>\n",
       "      <td>2020-01-25</td>\n",
       "      <td>IL</td>\n",
       "      <td>1</td>\n",
       "      <td>0</td>\n",
       "      <td>12671821</td>\n",
       "    </tr>\n",
       "    <tr>\n",
       "      <th>4</th>\n",
       "      <td>2020-01-26</td>\n",
       "      <td>IL</td>\n",
       "      <td>1</td>\n",
       "      <td>0</td>\n",
       "      <td>12671821</td>\n",
       "    </tr>\n",
       "    <tr>\n",
       "      <th>...</th>\n",
       "      <td>...</td>\n",
       "      <td>...</td>\n",
       "      <td>...</td>\n",
       "      <td>...</td>\n",
       "      <td>...</td>\n",
       "    </tr>\n",
       "    <tr>\n",
       "      <th>1106</th>\n",
       "      <td>2023-02-01</td>\n",
       "      <td>IL</td>\n",
       "      <td>3125454</td>\n",
       "      <td>27998</td>\n",
       "      <td>12671821</td>\n",
       "    </tr>\n",
       "    <tr>\n",
       "      <th>1107</th>\n",
       "      <td>2023-02-02</td>\n",
       "      <td>IL</td>\n",
       "      <td>3125454</td>\n",
       "      <td>27998</td>\n",
       "      <td>12671821</td>\n",
       "    </tr>\n",
       "    <tr>\n",
       "      <th>1108</th>\n",
       "      <td>2023-02-03</td>\n",
       "      <td>IL</td>\n",
       "      <td>3125454</td>\n",
       "      <td>27998</td>\n",
       "      <td>12671821</td>\n",
       "    </tr>\n",
       "    <tr>\n",
       "      <th>1109</th>\n",
       "      <td>2023-02-04</td>\n",
       "      <td>IL</td>\n",
       "      <td>3125454</td>\n",
       "      <td>27998</td>\n",
       "      <td>12671821</td>\n",
       "    </tr>\n",
       "    <tr>\n",
       "      <th>1110</th>\n",
       "      <td>2023-02-05</td>\n",
       "      <td>IL</td>\n",
       "      <td>3125454</td>\n",
       "      <td>27998</td>\n",
       "      <td>12671821</td>\n",
       "    </tr>\n",
       "  </tbody>\n",
       "</table>\n",
       "<p>1111 rows × 5 columns</p>\n",
       "</div>"
      ],
      "text/plain": [
       "            date State    cases  deaths  population\n",
       "0     2020-01-22    IL        0       0    12671821\n",
       "1     2020-01-23    IL        0       0    12671821\n",
       "2     2020-01-24    IL        1       0    12671821\n",
       "3     2020-01-25    IL        1       0    12671821\n",
       "4     2020-01-26    IL        1       0    12671821\n",
       "...          ...   ...      ...     ...         ...\n",
       "1106  2023-02-01    IL  3125454   27998    12671821\n",
       "1107  2023-02-02    IL  3125454   27998    12671821\n",
       "1108  2023-02-03    IL  3125454   27998    12671821\n",
       "1109  2023-02-04    IL  3125454   27998    12671821\n",
       "1110  2023-02-05    IL  3125454   27998    12671821\n",
       "\n",
       "[1111 rows x 5 columns]"
      ]
     },
     "execution_count": 1378,
     "metadata": {},
     "output_type": "execute_result"
    }
   ],
   "source": [
    "#Grouping the data based on date and state\n",
    "IL_data=IL_data[['date', 'State', 'cases','deaths', 'population']].groupby(['date','State']).sum().reset_index()\n",
    "IL_data"
   ]
  },
  {
   "cell_type": "code",
   "execution_count": 1379,
   "id": "ffbce45b",
   "metadata": {},
   "outputs": [
    {
     "data": {
      "text/html": [
       "<div>\n",
       "<style scoped>\n",
       "    .dataframe tbody tr th:only-of-type {\n",
       "        vertical-align: middle;\n",
       "    }\n",
       "\n",
       "    .dataframe tbody tr th {\n",
       "        vertical-align: top;\n",
       "    }\n",
       "\n",
       "    .dataframe thead th {\n",
       "        text-align: right;\n",
       "    }\n",
       "</style>\n",
       "<table border=\"1\" class=\"dataframe\">\n",
       "  <thead>\n",
       "    <tr style=\"text-align: right;\">\n",
       "      <th></th>\n",
       "      <th>State</th>\n",
       "      <th>date</th>\n",
       "      <th>cases</th>\n",
       "      <th>deaths</th>\n",
       "      <th>population</th>\n",
       "    </tr>\n",
       "  </thead>\n",
       "  <tbody>\n",
       "    <tr>\n",
       "      <th>0</th>\n",
       "      <td>IL</td>\n",
       "      <td>2020-01-22</td>\n",
       "      <td>0</td>\n",
       "      <td>0</td>\n",
       "      <td>12671821</td>\n",
       "    </tr>\n",
       "    <tr>\n",
       "      <th>1</th>\n",
       "      <td>IL</td>\n",
       "      <td>2020-01-29</td>\n",
       "      <td>6</td>\n",
       "      <td>0</td>\n",
       "      <td>12671821</td>\n",
       "    </tr>\n",
       "    <tr>\n",
       "      <th>2</th>\n",
       "      <td>IL</td>\n",
       "      <td>2020-02-05</td>\n",
       "      <td>13</td>\n",
       "      <td>0</td>\n",
       "      <td>12671821</td>\n",
       "    </tr>\n",
       "    <tr>\n",
       "      <th>3</th>\n",
       "      <td>IL</td>\n",
       "      <td>2020-02-12</td>\n",
       "      <td>14</td>\n",
       "      <td>0</td>\n",
       "      <td>12671821</td>\n",
       "    </tr>\n",
       "    <tr>\n",
       "      <th>4</th>\n",
       "      <td>IL</td>\n",
       "      <td>2020-02-19</td>\n",
       "      <td>14</td>\n",
       "      <td>0</td>\n",
       "      <td>12671821</td>\n",
       "    </tr>\n",
       "    <tr>\n",
       "      <th>...</th>\n",
       "      <td>...</td>\n",
       "      <td>...</td>\n",
       "      <td>...</td>\n",
       "      <td>...</td>\n",
       "      <td>...</td>\n",
       "    </tr>\n",
       "    <tr>\n",
       "      <th>155</th>\n",
       "      <td>IL</td>\n",
       "      <td>2023-01-11</td>\n",
       "      <td>21860791</td>\n",
       "      <td>195933</td>\n",
       "      <td>12671821</td>\n",
       "    </tr>\n",
       "    <tr>\n",
       "      <th>156</th>\n",
       "      <td>IL</td>\n",
       "      <td>2023-01-18</td>\n",
       "      <td>21869246</td>\n",
       "      <td>195958</td>\n",
       "      <td>12671821</td>\n",
       "    </tr>\n",
       "    <tr>\n",
       "      <th>157</th>\n",
       "      <td>IL</td>\n",
       "      <td>2023-01-25</td>\n",
       "      <td>21878178</td>\n",
       "      <td>195986</td>\n",
       "      <td>12671821</td>\n",
       "    </tr>\n",
       "    <tr>\n",
       "      <th>158</th>\n",
       "      <td>IL</td>\n",
       "      <td>2023-02-01</td>\n",
       "      <td>21878178</td>\n",
       "      <td>195986</td>\n",
       "      <td>12671821</td>\n",
       "    </tr>\n",
       "    <tr>\n",
       "      <th>159</th>\n",
       "      <td>IL</td>\n",
       "      <td>2023-02-08</td>\n",
       "      <td>12501816</td>\n",
       "      <td>111992</td>\n",
       "      <td>12671821</td>\n",
       "    </tr>\n",
       "  </tbody>\n",
       "</table>\n",
       "<p>160 rows × 5 columns</p>\n",
       "</div>"
      ],
      "text/plain": [
       "    State       date     cases  deaths  population\n",
       "0      IL 2020-01-22         0       0    12671821\n",
       "1      IL 2020-01-29         6       0    12671821\n",
       "2      IL 2020-02-05        13       0    12671821\n",
       "3      IL 2020-02-12        14       0    12671821\n",
       "4      IL 2020-02-19        14       0    12671821\n",
       "..    ...        ...       ...     ...         ...\n",
       "155    IL 2023-01-11  21860791  195933    12671821\n",
       "156    IL 2023-01-18  21869246  195958    12671821\n",
       "157    IL 2023-01-25  21878178  195986    12671821\n",
       "158    IL 2023-02-01  21878178  195986    12671821\n",
       "159    IL 2023-02-08  12501816  111992    12671821\n",
       "\n",
       "[160 rows x 5 columns]"
      ]
     },
     "execution_count": 1379,
     "metadata": {},
     "output_type": "execute_result"
    }
   ],
   "source": [
    "#converting the date column to datetime format, easier to use this way.\n",
    "IL_data['date'] = pd.to_datetime(IL_data['date'])  \n",
    "\n",
    "#Aggregating and grouping the data by weekly intervals.\n",
    "IL_weekly_data = IL_data.groupby(['State', pd.Grouper(key=\"date\", freq=\"W-Wed\")]).agg({\n",
    "    \"cases\": \"sum\",\n",
    "    \"deaths\": \"sum\",\n",
    "    \"population\": \"first\"\n",
    "}).reset_index()\n",
    "IL_weekly_data"
   ]
  },
  {
   "cell_type": "code",
   "execution_count": 1380,
   "id": "32b78a1f",
   "metadata": {},
   "outputs": [
    {
     "data": {
      "text/html": [
       "<div>\n",
       "<style scoped>\n",
       "    .dataframe tbody tr th:only-of-type {\n",
       "        vertical-align: middle;\n",
       "    }\n",
       "\n",
       "    .dataframe tbody tr th {\n",
       "        vertical-align: top;\n",
       "    }\n",
       "\n",
       "    .dataframe thead th {\n",
       "        text-align: right;\n",
       "    }\n",
       "</style>\n",
       "<table border=\"1\" class=\"dataframe\">\n",
       "  <thead>\n",
       "    <tr style=\"text-align: right;\">\n",
       "      <th></th>\n",
       "      <th>State</th>\n",
       "      <th>date</th>\n",
       "      <th>cases</th>\n",
       "      <th>deaths</th>\n",
       "      <th>population</th>\n",
       "      <th>new_cases</th>\n",
       "      <th>new_deaths</th>\n",
       "    </tr>\n",
       "  </thead>\n",
       "  <tbody>\n",
       "    <tr>\n",
       "      <th>0</th>\n",
       "      <td>IL</td>\n",
       "      <td>2020-01-22</td>\n",
       "      <td>0</td>\n",
       "      <td>0</td>\n",
       "      <td>12671821</td>\n",
       "      <td>0</td>\n",
       "      <td>0</td>\n",
       "    </tr>\n",
       "    <tr>\n",
       "      <th>1</th>\n",
       "      <td>IL</td>\n",
       "      <td>2020-01-29</td>\n",
       "      <td>6</td>\n",
       "      <td>0</td>\n",
       "      <td>12671821</td>\n",
       "      <td>6</td>\n",
       "      <td>0</td>\n",
       "    </tr>\n",
       "    <tr>\n",
       "      <th>2</th>\n",
       "      <td>IL</td>\n",
       "      <td>2020-02-05</td>\n",
       "      <td>13</td>\n",
       "      <td>0</td>\n",
       "      <td>12671821</td>\n",
       "      <td>7</td>\n",
       "      <td>0</td>\n",
       "    </tr>\n",
       "    <tr>\n",
       "      <th>3</th>\n",
       "      <td>IL</td>\n",
       "      <td>2020-02-12</td>\n",
       "      <td>14</td>\n",
       "      <td>0</td>\n",
       "      <td>12671821</td>\n",
       "      <td>1</td>\n",
       "      <td>0</td>\n",
       "    </tr>\n",
       "    <tr>\n",
       "      <th>4</th>\n",
       "      <td>IL</td>\n",
       "      <td>2020-02-19</td>\n",
       "      <td>14</td>\n",
       "      <td>0</td>\n",
       "      <td>12671821</td>\n",
       "      <td>0</td>\n",
       "      <td>0</td>\n",
       "    </tr>\n",
       "    <tr>\n",
       "      <th>...</th>\n",
       "      <td>...</td>\n",
       "      <td>...</td>\n",
       "      <td>...</td>\n",
       "      <td>...</td>\n",
       "      <td>...</td>\n",
       "      <td>...</td>\n",
       "      <td>...</td>\n",
       "    </tr>\n",
       "    <tr>\n",
       "      <th>155</th>\n",
       "      <td>IL</td>\n",
       "      <td>2023-01-11</td>\n",
       "      <td>21860791</td>\n",
       "      <td>195933</td>\n",
       "      <td>12671821</td>\n",
       "      <td>5387</td>\n",
       "      <td>33</td>\n",
       "    </tr>\n",
       "    <tr>\n",
       "      <th>156</th>\n",
       "      <td>IL</td>\n",
       "      <td>2023-01-18</td>\n",
       "      <td>21869246</td>\n",
       "      <td>195958</td>\n",
       "      <td>12671821</td>\n",
       "      <td>8455</td>\n",
       "      <td>25</td>\n",
       "    </tr>\n",
       "    <tr>\n",
       "      <th>157</th>\n",
       "      <td>IL</td>\n",
       "      <td>2023-01-25</td>\n",
       "      <td>21878178</td>\n",
       "      <td>195986</td>\n",
       "      <td>12671821</td>\n",
       "      <td>8932</td>\n",
       "      <td>28</td>\n",
       "    </tr>\n",
       "    <tr>\n",
       "      <th>158</th>\n",
       "      <td>IL</td>\n",
       "      <td>2023-02-01</td>\n",
       "      <td>21878178</td>\n",
       "      <td>195986</td>\n",
       "      <td>12671821</td>\n",
       "      <td>0</td>\n",
       "      <td>0</td>\n",
       "    </tr>\n",
       "    <tr>\n",
       "      <th>159</th>\n",
       "      <td>IL</td>\n",
       "      <td>2023-02-08</td>\n",
       "      <td>12501816</td>\n",
       "      <td>111992</td>\n",
       "      <td>12671821</td>\n",
       "      <td>0</td>\n",
       "      <td>0</td>\n",
       "    </tr>\n",
       "  </tbody>\n",
       "</table>\n",
       "<p>160 rows × 7 columns</p>\n",
       "</div>"
      ],
      "text/plain": [
       "    State       date     cases  deaths  population  new_cases  new_deaths\n",
       "0      IL 2020-01-22         0       0    12671821          0           0\n",
       "1      IL 2020-01-29         6       0    12671821          6           0\n",
       "2      IL 2020-02-05        13       0    12671821          7           0\n",
       "3      IL 2020-02-12        14       0    12671821          1           0\n",
       "4      IL 2020-02-19        14       0    12671821          0           0\n",
       "..    ...        ...       ...     ...         ...        ...         ...\n",
       "155    IL 2023-01-11  21860791  195933    12671821       5387          33\n",
       "156    IL 2023-01-18  21869246  195958    12671821       8455          25\n",
       "157    IL 2023-01-25  21878178  195986    12671821       8932          28\n",
       "158    IL 2023-02-01  21878178  195986    12671821          0           0\n",
       "159    IL 2023-02-08  12501816  111992    12671821          0           0\n",
       "\n",
       "[160 rows x 7 columns]"
      ]
     },
     "execution_count": 1380,
     "metadata": {},
     "output_type": "execute_result"
    }
   ],
   "source": [
    "#Adding new columns to see the no. of new cases and deaths each week.\n",
    "IL_weekly_data = IL_weekly_data.assign(new_cases = IL_weekly_data.cases.diff())\n",
    "IL_weekly_data = IL_weekly_data.assign(new_deaths = IL_weekly_data.deaths.diff())\n",
    "\n",
    "#Handling Nan values converting values to int\n",
    "IL_weekly_data[\"new_cases\"] = IL_weekly_data[\"new_cases\"].fillna(0).astype(int)\n",
    "IL_weekly_data[\"new_deaths\"] = IL_weekly_data[\"new_deaths\"].fillna(0).astype(int)\n",
    "\n",
    "#Handling negative values\n",
    "IL_weekly_data.loc[IL_weekly_data['new_cases'] < 0, 'new_cases'] = 0\n",
    "IL_weekly_data.loc[IL_weekly_data['new_deaths'] < 0, 'new_deaths'] = 0\n",
    "IL_weekly_data"
   ]
  },
  {
   "cell_type": "code",
   "execution_count": 1381,
   "id": "c0a5c74e",
   "metadata": {},
   "outputs": [
    {
     "name": "stdout",
     "output_type": "stream",
     "text": [
      "Mean of new cases 151863.30625\n",
      "Median of new cases 87391.5\n",
      "Mode of new cases 0\n",
      "Mean of new deaths 1632.81875\n",
      "Median of new deaths 991.5\n",
      "Median of new deaths 0\n"
     ]
    }
   ],
   "source": [
    "#Weekly statistics\n",
    "mean_cases = IL_weekly_data[\"new_cases\"].mean()\n",
    "median_cases = IL_weekly_data[\"new_cases\"].median()\n",
    "mode_cases = stats.mode(IL_weekly_data[\"new_cases\"], keepdims=True).mode[0]\n",
    "\n",
    "mean_deaths = IL_weekly_data[\"new_deaths\"].mean()\n",
    "median_deaths = IL_weekly_data[\"new_deaths\"].median()\n",
    "mode_deaths = stats.mode(IL_weekly_data[\"new_deaths\"], keepdims=True).mode[0]\n",
    "\n",
    "print(\"Mean of new cases\", mean_cases)\n",
    "print(\"Median of new cases\", median_cases)\n",
    "print(\"Mode of new cases\", mode_cases)\n",
    "print(\"Mean of new deaths\", mean_deaths)\n",
    "print(\"Median of new deaths\", median_deaths)\n",
    "print(\"Median of new deaths\", mode_deaths)"
   ]
  },
  {
   "cell_type": "markdown",
   "id": "1f750732",
   "metadata": {},
   "source": [
    "### Compare the data against 3 other states. Normalize by population, use a normalization factor which is able to identify cases and deaths, for example try per 10,000 or 100,000 (this depends on the population). Plot the values across the weeks in a line plot for the 3 states in a single graph. Describe why the rates differ across these states in the notebook. Identify the peaks, are they consistent with the US pattern?"
   ]
  },
  {
   "cell_type": "code",
   "execution_count": 1382,
   "id": "4a30f3c0",
   "metadata": {},
   "outputs": [
    {
     "data": {
      "text/html": [
       "<div>\n",
       "<style scoped>\n",
       "    .dataframe tbody tr th:only-of-type {\n",
       "        vertical-align: middle;\n",
       "    }\n",
       "\n",
       "    .dataframe tbody tr th {\n",
       "        vertical-align: top;\n",
       "    }\n",
       "\n",
       "    .dataframe thead th {\n",
       "        text-align: right;\n",
       "    }\n",
       "</style>\n",
       "<table border=\"1\" class=\"dataframe\">\n",
       "  <thead>\n",
       "    <tr style=\"text-align: right;\">\n",
       "      <th></th>\n",
       "      <th>countyFIPS</th>\n",
       "      <th>County Name</th>\n",
       "      <th>State</th>\n",
       "      <th>StateFIPS</th>\n",
       "      <th>date</th>\n",
       "      <th>cases</th>\n",
       "      <th>deaths</th>\n",
       "      <th>population</th>\n",
       "    </tr>\n",
       "  </thead>\n",
       "  <tbody>\n",
       "    <tr>\n",
       "      <th>2266440</th>\n",
       "      <td>39001</td>\n",
       "      <td>adams county</td>\n",
       "      <td>OH</td>\n",
       "      <td>39</td>\n",
       "      <td>2020-01-22</td>\n",
       "      <td>0</td>\n",
       "      <td>0</td>\n",
       "      <td>27698</td>\n",
       "    </tr>\n",
       "    <tr>\n",
       "      <th>2266441</th>\n",
       "      <td>39001</td>\n",
       "      <td>adams county</td>\n",
       "      <td>OH</td>\n",
       "      <td>39</td>\n",
       "      <td>2020-01-23</td>\n",
       "      <td>0</td>\n",
       "      <td>0</td>\n",
       "      <td>27698</td>\n",
       "    </tr>\n",
       "    <tr>\n",
       "      <th>2266442</th>\n",
       "      <td>39001</td>\n",
       "      <td>adams county</td>\n",
       "      <td>OH</td>\n",
       "      <td>39</td>\n",
       "      <td>2020-01-24</td>\n",
       "      <td>0</td>\n",
       "      <td>0</td>\n",
       "      <td>27698</td>\n",
       "    </tr>\n",
       "    <tr>\n",
       "      <th>2266443</th>\n",
       "      <td>39001</td>\n",
       "      <td>adams county</td>\n",
       "      <td>OH</td>\n",
       "      <td>39</td>\n",
       "      <td>2020-01-25</td>\n",
       "      <td>0</td>\n",
       "      <td>0</td>\n",
       "      <td>27698</td>\n",
       "    </tr>\n",
       "    <tr>\n",
       "      <th>2266444</th>\n",
       "      <td>39001</td>\n",
       "      <td>adams county</td>\n",
       "      <td>OH</td>\n",
       "      <td>39</td>\n",
       "      <td>2020-01-26</td>\n",
       "      <td>0</td>\n",
       "      <td>0</td>\n",
       "      <td>27698</td>\n",
       "    </tr>\n",
       "    <tr>\n",
       "      <th>...</th>\n",
       "      <td>...</td>\n",
       "      <td>...</td>\n",
       "      <td>...</td>\n",
       "      <td>...</td>\n",
       "      <td>...</td>\n",
       "      <td>...</td>\n",
       "      <td>...</td>\n",
       "      <td>...</td>\n",
       "    </tr>\n",
       "    <tr>\n",
       "      <th>2364203</th>\n",
       "      <td>39175</td>\n",
       "      <td>wyandot county</td>\n",
       "      <td>OH</td>\n",
       "      <td>39</td>\n",
       "      <td>2023-02-01</td>\n",
       "      <td>6612</td>\n",
       "      <td>111</td>\n",
       "      <td>21772</td>\n",
       "    </tr>\n",
       "    <tr>\n",
       "      <th>2364204</th>\n",
       "      <td>39175</td>\n",
       "      <td>wyandot county</td>\n",
       "      <td>OH</td>\n",
       "      <td>39</td>\n",
       "      <td>2023-02-02</td>\n",
       "      <td>6614</td>\n",
       "      <td>111</td>\n",
       "      <td>21772</td>\n",
       "    </tr>\n",
       "    <tr>\n",
       "      <th>2364205</th>\n",
       "      <td>39175</td>\n",
       "      <td>wyandot county</td>\n",
       "      <td>OH</td>\n",
       "      <td>39</td>\n",
       "      <td>2023-02-03</td>\n",
       "      <td>6614</td>\n",
       "      <td>111</td>\n",
       "      <td>21772</td>\n",
       "    </tr>\n",
       "    <tr>\n",
       "      <th>2364206</th>\n",
       "      <td>39175</td>\n",
       "      <td>wyandot county</td>\n",
       "      <td>OH</td>\n",
       "      <td>39</td>\n",
       "      <td>2023-02-04</td>\n",
       "      <td>6614</td>\n",
       "      <td>111</td>\n",
       "      <td>21772</td>\n",
       "    </tr>\n",
       "    <tr>\n",
       "      <th>2364207</th>\n",
       "      <td>39175</td>\n",
       "      <td>wyandot county</td>\n",
       "      <td>OH</td>\n",
       "      <td>39</td>\n",
       "      <td>2023-02-05</td>\n",
       "      <td>6614</td>\n",
       "      <td>111</td>\n",
       "      <td>21772</td>\n",
       "    </tr>\n",
       "  </tbody>\n",
       "</table>\n",
       "<p>97768 rows × 8 columns</p>\n",
       "</div>"
      ],
      "text/plain": [
       "         countyFIPS     County Name State  StateFIPS        date  cases  \\\n",
       "2266440       39001    adams county    OH         39  2020-01-22      0   \n",
       "2266441       39001    adams county    OH         39  2020-01-23      0   \n",
       "2266442       39001    adams county    OH         39  2020-01-24      0   \n",
       "2266443       39001    adams county    OH         39  2020-01-25      0   \n",
       "2266444       39001    adams county    OH         39  2020-01-26      0   \n",
       "...             ...             ...   ...        ...         ...    ...   \n",
       "2364203       39175  wyandot county    OH         39  2023-02-01   6612   \n",
       "2364204       39175  wyandot county    OH         39  2023-02-02   6614   \n",
       "2364205       39175  wyandot county    OH         39  2023-02-03   6614   \n",
       "2364206       39175  wyandot county    OH         39  2023-02-04   6614   \n",
       "2364207       39175  wyandot county    OH         39  2023-02-05   6614   \n",
       "\n",
       "         deaths  population  \n",
       "2266440       0       27698  \n",
       "2266441       0       27698  \n",
       "2266442       0       27698  \n",
       "2266443       0       27698  \n",
       "2266444       0       27698  \n",
       "...         ...         ...  \n",
       "2364203     111       21772  \n",
       "2364204     111       21772  \n",
       "2364205     111       21772  \n",
       "2364206     111       21772  \n",
       "2364207     111       21772  \n",
       "\n",
       "[97768 rows x 8 columns]"
      ]
     },
     "execution_count": 1382,
     "metadata": {},
     "output_type": "execute_result"
    }
   ],
   "source": [
    "OH_data = superdata[superdata['State']=='OH']\n",
    "OH_data"
   ]
  },
  {
   "cell_type": "code",
   "execution_count": 1383,
   "id": "67217291",
   "metadata": {},
   "outputs": [
    {
     "data": {
      "text/html": [
       "<div>\n",
       "<style scoped>\n",
       "    .dataframe tbody tr th:only-of-type {\n",
       "        vertical-align: middle;\n",
       "    }\n",
       "\n",
       "    .dataframe tbody tr th {\n",
       "        vertical-align: top;\n",
       "    }\n",
       "\n",
       "    .dataframe thead th {\n",
       "        text-align: right;\n",
       "    }\n",
       "</style>\n",
       "<table border=\"1\" class=\"dataframe\">\n",
       "  <thead>\n",
       "    <tr style=\"text-align: right;\">\n",
       "      <th></th>\n",
       "      <th>countyFIPS</th>\n",
       "      <th>County Name</th>\n",
       "      <th>State</th>\n",
       "      <th>StateFIPS</th>\n",
       "      <th>date</th>\n",
       "      <th>cases</th>\n",
       "      <th>deaths</th>\n",
       "      <th>population</th>\n",
       "    </tr>\n",
       "  </thead>\n",
       "  <tbody>\n",
       "    <tr>\n",
       "      <th>205535</th>\n",
       "      <td>6001</td>\n",
       "      <td>alameda county</td>\n",
       "      <td>CA</td>\n",
       "      <td>6</td>\n",
       "      <td>2020-01-22</td>\n",
       "      <td>4</td>\n",
       "      <td>0</td>\n",
       "      <td>1671329</td>\n",
       "    </tr>\n",
       "    <tr>\n",
       "      <th>205536</th>\n",
       "      <td>6001</td>\n",
       "      <td>alameda county</td>\n",
       "      <td>CA</td>\n",
       "      <td>6</td>\n",
       "      <td>2020-01-23</td>\n",
       "      <td>4</td>\n",
       "      <td>0</td>\n",
       "      <td>1671329</td>\n",
       "    </tr>\n",
       "    <tr>\n",
       "      <th>205537</th>\n",
       "      <td>6001</td>\n",
       "      <td>alameda county</td>\n",
       "      <td>CA</td>\n",
       "      <td>6</td>\n",
       "      <td>2020-01-24</td>\n",
       "      <td>4</td>\n",
       "      <td>0</td>\n",
       "      <td>1671329</td>\n",
       "    </tr>\n",
       "    <tr>\n",
       "      <th>205538</th>\n",
       "      <td>6001</td>\n",
       "      <td>alameda county</td>\n",
       "      <td>CA</td>\n",
       "      <td>6</td>\n",
       "      <td>2020-01-25</td>\n",
       "      <td>5</td>\n",
       "      <td>0</td>\n",
       "      <td>1671329</td>\n",
       "    </tr>\n",
       "    <tr>\n",
       "      <th>205539</th>\n",
       "      <td>6001</td>\n",
       "      <td>alameda county</td>\n",
       "      <td>CA</td>\n",
       "      <td>6</td>\n",
       "      <td>2020-01-26</td>\n",
       "      <td>5</td>\n",
       "      <td>0</td>\n",
       "      <td>1671329</td>\n",
       "    </tr>\n",
       "    <tr>\n",
       "      <th>...</th>\n",
       "      <td>...</td>\n",
       "      <td>...</td>\n",
       "      <td>...</td>\n",
       "      <td>...</td>\n",
       "      <td>...</td>\n",
       "      <td>...</td>\n",
       "      <td>...</td>\n",
       "      <td>...</td>\n",
       "    </tr>\n",
       "    <tr>\n",
       "      <th>269968</th>\n",
       "      <td>6115</td>\n",
       "      <td>yuba county</td>\n",
       "      <td>CA</td>\n",
       "      <td>6</td>\n",
       "      <td>2023-02-01</td>\n",
       "      <td>19903</td>\n",
       "      <td>122</td>\n",
       "      <td>78668</td>\n",
       "    </tr>\n",
       "    <tr>\n",
       "      <th>269969</th>\n",
       "      <td>6115</td>\n",
       "      <td>yuba county</td>\n",
       "      <td>CA</td>\n",
       "      <td>6</td>\n",
       "      <td>2023-02-02</td>\n",
       "      <td>19903</td>\n",
       "      <td>122</td>\n",
       "      <td>78668</td>\n",
       "    </tr>\n",
       "    <tr>\n",
       "      <th>269970</th>\n",
       "      <td>6115</td>\n",
       "      <td>yuba county</td>\n",
       "      <td>CA</td>\n",
       "      <td>6</td>\n",
       "      <td>2023-02-03</td>\n",
       "      <td>19903</td>\n",
       "      <td>122</td>\n",
       "      <td>78668</td>\n",
       "    </tr>\n",
       "    <tr>\n",
       "      <th>269971</th>\n",
       "      <td>6115</td>\n",
       "      <td>yuba county</td>\n",
       "      <td>CA</td>\n",
       "      <td>6</td>\n",
       "      <td>2023-02-04</td>\n",
       "      <td>19903</td>\n",
       "      <td>122</td>\n",
       "      <td>78668</td>\n",
       "    </tr>\n",
       "    <tr>\n",
       "      <th>269972</th>\n",
       "      <td>6115</td>\n",
       "      <td>yuba county</td>\n",
       "      <td>CA</td>\n",
       "      <td>6</td>\n",
       "      <td>2023-02-05</td>\n",
       "      <td>19903</td>\n",
       "      <td>122</td>\n",
       "      <td>78668</td>\n",
       "    </tr>\n",
       "  </tbody>\n",
       "</table>\n",
       "<p>64438 rows × 8 columns</p>\n",
       "</div>"
      ],
      "text/plain": [
       "        countyFIPS     County Name State  StateFIPS        date  cases  \\\n",
       "205535        6001  alameda county    CA          6  2020-01-22      4   \n",
       "205536        6001  alameda county    CA          6  2020-01-23      4   \n",
       "205537        6001  alameda county    CA          6  2020-01-24      4   \n",
       "205538        6001  alameda county    CA          6  2020-01-25      5   \n",
       "205539        6001  alameda county    CA          6  2020-01-26      5   \n",
       "...            ...             ...   ...        ...         ...    ...   \n",
       "269968        6115     yuba county    CA          6  2023-02-01  19903   \n",
       "269969        6115     yuba county    CA          6  2023-02-02  19903   \n",
       "269970        6115     yuba county    CA          6  2023-02-03  19903   \n",
       "269971        6115     yuba county    CA          6  2023-02-04  19903   \n",
       "269972        6115     yuba county    CA          6  2023-02-05  19903   \n",
       "\n",
       "        deaths  population  \n",
       "205535       0     1671329  \n",
       "205536       0     1671329  \n",
       "205537       0     1671329  \n",
       "205538       0     1671329  \n",
       "205539       0     1671329  \n",
       "...        ...         ...  \n",
       "269968     122       78668  \n",
       "269969     122       78668  \n",
       "269970     122       78668  \n",
       "269971     122       78668  \n",
       "269972     122       78668  \n",
       "\n",
       "[64438 rows x 8 columns]"
      ]
     },
     "execution_count": 1383,
     "metadata": {},
     "output_type": "execute_result"
    }
   ],
   "source": [
    "CA_data = superdata[superdata['State']=='CA']\n",
    "CA_data"
   ]
  },
  {
   "cell_type": "code",
   "execution_count": 1384,
   "id": "cddbddb7",
   "metadata": {},
   "outputs": [
    {
     "data": {
      "text/html": [
       "<div>\n",
       "<style scoped>\n",
       "    .dataframe tbody tr th:only-of-type {\n",
       "        vertical-align: middle;\n",
       "    }\n",
       "\n",
       "    .dataframe tbody tr th {\n",
       "        vertical-align: top;\n",
       "    }\n",
       "\n",
       "    .dataframe thead th {\n",
       "        text-align: right;\n",
       "    }\n",
       "</style>\n",
       "<table border=\"1\" class=\"dataframe\">\n",
       "  <thead>\n",
       "    <tr style=\"text-align: right;\">\n",
       "      <th></th>\n",
       "      <th>countyFIPS</th>\n",
       "      <th>County Name</th>\n",
       "      <th>State</th>\n",
       "      <th>StateFIPS</th>\n",
       "      <th>date</th>\n",
       "      <th>cases</th>\n",
       "      <th>deaths</th>\n",
       "      <th>population</th>\n",
       "    </tr>\n",
       "  </thead>\n",
       "  <tbody>\n",
       "    <tr>\n",
       "      <th>269973</th>\n",
       "      <td>8001</td>\n",
       "      <td>adams county</td>\n",
       "      <td>CO</td>\n",
       "      <td>8</td>\n",
       "      <td>2020-01-22</td>\n",
       "      <td>0</td>\n",
       "      <td>0</td>\n",
       "      <td>517421</td>\n",
       "    </tr>\n",
       "    <tr>\n",
       "      <th>269974</th>\n",
       "      <td>8001</td>\n",
       "      <td>adams county</td>\n",
       "      <td>CO</td>\n",
       "      <td>8</td>\n",
       "      <td>2020-01-23</td>\n",
       "      <td>0</td>\n",
       "      <td>0</td>\n",
       "      <td>517421</td>\n",
       "    </tr>\n",
       "    <tr>\n",
       "      <th>269975</th>\n",
       "      <td>8001</td>\n",
       "      <td>adams county</td>\n",
       "      <td>CO</td>\n",
       "      <td>8</td>\n",
       "      <td>2020-01-24</td>\n",
       "      <td>0</td>\n",
       "      <td>0</td>\n",
       "      <td>517421</td>\n",
       "    </tr>\n",
       "    <tr>\n",
       "      <th>269976</th>\n",
       "      <td>8001</td>\n",
       "      <td>adams county</td>\n",
       "      <td>CO</td>\n",
       "      <td>8</td>\n",
       "      <td>2020-01-25</td>\n",
       "      <td>0</td>\n",
       "      <td>0</td>\n",
       "      <td>517421</td>\n",
       "    </tr>\n",
       "    <tr>\n",
       "      <th>269977</th>\n",
       "      <td>8001</td>\n",
       "      <td>adams county</td>\n",
       "      <td>CO</td>\n",
       "      <td>8</td>\n",
       "      <td>2020-01-26</td>\n",
       "      <td>0</td>\n",
       "      <td>0</td>\n",
       "      <td>517421</td>\n",
       "    </tr>\n",
       "    <tr>\n",
       "      <th>...</th>\n",
       "      <td>...</td>\n",
       "      <td>...</td>\n",
       "      <td>...</td>\n",
       "      <td>...</td>\n",
       "      <td>...</td>\n",
       "      <td>...</td>\n",
       "      <td>...</td>\n",
       "      <td>...</td>\n",
       "    </tr>\n",
       "    <tr>\n",
       "      <th>341072</th>\n",
       "      <td>8125</td>\n",
       "      <td>yuma county</td>\n",
       "      <td>CO</td>\n",
       "      <td>8</td>\n",
       "      <td>2023-02-01</td>\n",
       "      <td>2315</td>\n",
       "      <td>27</td>\n",
       "      <td>10019</td>\n",
       "    </tr>\n",
       "    <tr>\n",
       "      <th>341073</th>\n",
       "      <td>8125</td>\n",
       "      <td>yuma county</td>\n",
       "      <td>CO</td>\n",
       "      <td>8</td>\n",
       "      <td>2023-02-02</td>\n",
       "      <td>2315</td>\n",
       "      <td>27</td>\n",
       "      <td>10019</td>\n",
       "    </tr>\n",
       "    <tr>\n",
       "      <th>341074</th>\n",
       "      <td>8125</td>\n",
       "      <td>yuma county</td>\n",
       "      <td>CO</td>\n",
       "      <td>8</td>\n",
       "      <td>2023-02-03</td>\n",
       "      <td>2315</td>\n",
       "      <td>27</td>\n",
       "      <td>10019</td>\n",
       "    </tr>\n",
       "    <tr>\n",
       "      <th>341075</th>\n",
       "      <td>8125</td>\n",
       "      <td>yuma county</td>\n",
       "      <td>CO</td>\n",
       "      <td>8</td>\n",
       "      <td>2023-02-04</td>\n",
       "      <td>2315</td>\n",
       "      <td>27</td>\n",
       "      <td>10019</td>\n",
       "    </tr>\n",
       "    <tr>\n",
       "      <th>341076</th>\n",
       "      <td>8125</td>\n",
       "      <td>yuma county</td>\n",
       "      <td>CO</td>\n",
       "      <td>8</td>\n",
       "      <td>2023-02-05</td>\n",
       "      <td>2315</td>\n",
       "      <td>27</td>\n",
       "      <td>10019</td>\n",
       "    </tr>\n",
       "  </tbody>\n",
       "</table>\n",
       "<p>71104 rows × 8 columns</p>\n",
       "</div>"
      ],
      "text/plain": [
       "        countyFIPS   County Name State  StateFIPS        date  cases  deaths  \\\n",
       "269973        8001  adams county    CO          8  2020-01-22      0       0   \n",
       "269974        8001  adams county    CO          8  2020-01-23      0       0   \n",
       "269975        8001  adams county    CO          8  2020-01-24      0       0   \n",
       "269976        8001  adams county    CO          8  2020-01-25      0       0   \n",
       "269977        8001  adams county    CO          8  2020-01-26      0       0   \n",
       "...            ...           ...   ...        ...         ...    ...     ...   \n",
       "341072        8125   yuma county    CO          8  2023-02-01   2315      27   \n",
       "341073        8125   yuma county    CO          8  2023-02-02   2315      27   \n",
       "341074        8125   yuma county    CO          8  2023-02-03   2315      27   \n",
       "341075        8125   yuma county    CO          8  2023-02-04   2315      27   \n",
       "341076        8125   yuma county    CO          8  2023-02-05   2315      27   \n",
       "\n",
       "        population  \n",
       "269973      517421  \n",
       "269974      517421  \n",
       "269975      517421  \n",
       "269976      517421  \n",
       "269977      517421  \n",
       "...            ...  \n",
       "341072       10019  \n",
       "341073       10019  \n",
       "341074       10019  \n",
       "341075       10019  \n",
       "341076       10019  \n",
       "\n",
       "[71104 rows x 8 columns]"
      ]
     },
     "execution_count": 1384,
     "metadata": {},
     "output_type": "execute_result"
    }
   ],
   "source": [
    "CO_data = superdata[superdata['State']=='CO']\n",
    "CO_data"
   ]
  },
  {
   "cell_type": "code",
   "execution_count": 1385,
   "id": "c1147ba5",
   "metadata": {},
   "outputs": [],
   "source": [
    "OH_data=OH_data[['date', 'State', 'cases', 'deaths', 'population']].groupby(['date','State']).sum().reset_index()\n",
    "CA_data=CA_data[['date', 'State', 'cases', 'deaths', 'population']].groupby(['date','State']).sum().reset_index()\n",
    "CO_data=CO_data[['date', 'State', 'cases', 'deaths', 'population']].groupby(['date','State']).sum().reset_index()"
   ]
  },
  {
   "cell_type": "code",
   "execution_count": 1386,
   "id": "436b8527",
   "metadata": {},
   "outputs": [],
   "source": [
    "OH_data['date'] = pd.to_datetime(OH_data['date'])\n",
    "OH_weekly_data = OH_data.groupby(['State', pd.Grouper(key=\"date\", freq=\"W-Wed\")]).agg({\n",
    "    \"cases\": \"sum\",\n",
    "    \"deaths\": \"sum\",\n",
    "    \"population\": \"first\"\n",
    "}).reset_index()\n",
    "\n",
    "CA_data['date'] = pd.to_datetime(CA_data['date'])\n",
    "CA_weekly_data = CA_data.groupby(['State', pd.Grouper(key=\"date\", freq=\"W-Wed\")]).agg({\n",
    "    \"cases\": \"sum\",\n",
    "    \"deaths\": \"sum\",\n",
    "    \"population\": \"first\"\n",
    "}).reset_index()\n",
    "\n",
    "CO_data['date'] = pd.to_datetime(CO_data['date'])\n",
    "CO_weekly_data = CO_data.groupby(['State', pd.Grouper(key=\"date\", freq=\"W-Wed\")]).agg({\n",
    "    \"cases\": \"sum\",\n",
    "    \"deaths\": \"sum\",\n",
    "    \"population\": \"first\"\n",
    "}).reset_index()"
   ]
  },
  {
   "cell_type": "code",
   "execution_count": 1387,
   "id": "25377e97",
   "metadata": {},
   "outputs": [],
   "source": [
    "OH_weekly_data = OH_weekly_data.assign(new_cases = OH_weekly_data.cases.diff())\n",
    "OH_weekly_data = OH_weekly_data.assign(new_deaths = OH_weekly_data.deaths.diff())\n",
    "OH_weekly_data[\"new_cases\"] = OH_weekly_data[\"new_cases\"].fillna(0).astype(int)\n",
    "OH_weekly_data[\"new_deaths\"] = OH_weekly_data[\"new_deaths\"].fillna(0).astype(int)\n",
    "OH_weekly_data.loc[OH_weekly_data['new_cases'] < 0, 'new_cases'] = 0\n",
    "OH_weekly_data.loc[OH_weekly_data['new_deaths'] < 0, 'new_deaths'] = 0\n",
    "\n",
    "CA_weekly_data = CA_weekly_data.assign(new_cases = CA_weekly_data.cases.diff())\n",
    "CA_weekly_data = CA_weekly_data.assign(new_deaths = CA_weekly_data.deaths.diff())\n",
    "CA_weekly_data[\"new_cases\"] = CA_weekly_data[\"new_cases\"].fillna(0).astype(int)\n",
    "CA_weekly_data[\"new_deaths\"] = CA_weekly_data[\"new_deaths\"].fillna(0).astype(int)\n",
    "CA_weekly_data.loc[CA_weekly_data['new_cases'] < 0, 'new_cases'] = 0\n",
    "CA_weekly_data.loc[CA_weekly_data['new_deaths'] < 0, 'new_deaths'] = 0\n",
    "\n",
    "CO_weekly_data = CO_weekly_data.assign(new_cases = CO_weekly_data.cases.diff())\n",
    "CO_weekly_data = CO_weekly_data.assign(new_deaths = CO_weekly_data.deaths.diff())\n",
    "CO_weekly_data[\"new_cases\"] = CO_weekly_data[\"new_cases\"].fillna(0).astype(int)\n",
    "CO_weekly_data[\"new_deaths\"] = CO_weekly_data[\"new_deaths\"].fillna(0).astype(int)\n",
    "CO_weekly_data.loc[CO_weekly_data['new_cases'] < 0, 'new_cases'] = 0\n",
    "CO_weekly_data.loc[CO_weekly_data['new_deaths'] < 0, 'new_deaths'] = 0"
   ]
  },
  {
   "cell_type": "code",
   "execution_count": 1388,
   "id": "c4886732",
   "metadata": {},
   "outputs": [
    {
     "data": {
      "text/html": [
       "<div>\n",
       "<style scoped>\n",
       "    .dataframe tbody tr th:only-of-type {\n",
       "        vertical-align: middle;\n",
       "    }\n",
       "\n",
       "    .dataframe tbody tr th {\n",
       "        vertical-align: top;\n",
       "    }\n",
       "\n",
       "    .dataframe thead th {\n",
       "        text-align: right;\n",
       "    }\n",
       "</style>\n",
       "<table border=\"1\" class=\"dataframe\">\n",
       "  <thead>\n",
       "    <tr style=\"text-align: right;\">\n",
       "      <th></th>\n",
       "      <th>State</th>\n",
       "      <th>date</th>\n",
       "      <th>cases</th>\n",
       "      <th>deaths</th>\n",
       "      <th>population</th>\n",
       "      <th>new_cases</th>\n",
       "      <th>new_deaths</th>\n",
       "    </tr>\n",
       "  </thead>\n",
       "  <tbody>\n",
       "    <tr>\n",
       "      <th>0</th>\n",
       "      <td>OH</td>\n",
       "      <td>2020-01-22</td>\n",
       "      <td>0</td>\n",
       "      <td>0</td>\n",
       "      <td>11689100</td>\n",
       "      <td>0</td>\n",
       "      <td>0</td>\n",
       "    </tr>\n",
       "    <tr>\n",
       "      <th>1</th>\n",
       "      <td>OH</td>\n",
       "      <td>2020-01-29</td>\n",
       "      <td>0</td>\n",
       "      <td>0</td>\n",
       "      <td>11689100</td>\n",
       "      <td>0</td>\n",
       "      <td>0</td>\n",
       "    </tr>\n",
       "    <tr>\n",
       "      <th>2</th>\n",
       "      <td>OH</td>\n",
       "      <td>2020-02-05</td>\n",
       "      <td>0</td>\n",
       "      <td>0</td>\n",
       "      <td>11689100</td>\n",
       "      <td>0</td>\n",
       "      <td>0</td>\n",
       "    </tr>\n",
       "    <tr>\n",
       "      <th>3</th>\n",
       "      <td>OH</td>\n",
       "      <td>2020-02-12</td>\n",
       "      <td>0</td>\n",
       "      <td>0</td>\n",
       "      <td>11689100</td>\n",
       "      <td>0</td>\n",
       "      <td>0</td>\n",
       "    </tr>\n",
       "    <tr>\n",
       "      <th>4</th>\n",
       "      <td>OH</td>\n",
       "      <td>2020-02-19</td>\n",
       "      <td>0</td>\n",
       "      <td>0</td>\n",
       "      <td>11689100</td>\n",
       "      <td>0</td>\n",
       "      <td>0</td>\n",
       "    </tr>\n",
       "    <tr>\n",
       "      <th>...</th>\n",
       "      <td>...</td>\n",
       "      <td>...</td>\n",
       "      <td>...</td>\n",
       "      <td>...</td>\n",
       "      <td>...</td>\n",
       "      <td>...</td>\n",
       "      <td>...</td>\n",
       "    </tr>\n",
       "    <tr>\n",
       "      <th>155</th>\n",
       "      <td>OH</td>\n",
       "      <td>2023-01-11</td>\n",
       "      <td>23250241</td>\n",
       "      <td>287196</td>\n",
       "      <td>11689100</td>\n",
       "      <td>97265</td>\n",
       "      <td>735</td>\n",
       "    </tr>\n",
       "    <tr>\n",
       "      <th>156</th>\n",
       "      <td>OH</td>\n",
       "      <td>2023-01-18</td>\n",
       "      <td>23321557</td>\n",
       "      <td>287931</td>\n",
       "      <td>11689100</td>\n",
       "      <td>71316</td>\n",
       "      <td>735</td>\n",
       "    </tr>\n",
       "    <tr>\n",
       "      <th>157</th>\n",
       "      <td>OH</td>\n",
       "      <td>2023-01-25</td>\n",
       "      <td>23377284</td>\n",
       "      <td>288701</td>\n",
       "      <td>11689100</td>\n",
       "      <td>55727</td>\n",
       "      <td>770</td>\n",
       "    </tr>\n",
       "    <tr>\n",
       "      <th>158</th>\n",
       "      <td>OH</td>\n",
       "      <td>2023-02-01</td>\n",
       "      <td>23434369</td>\n",
       "      <td>289443</td>\n",
       "      <td>11689100</td>\n",
       "      <td>57085</td>\n",
       "      <td>742</td>\n",
       "    </tr>\n",
       "    <tr>\n",
       "      <th>159</th>\n",
       "      <td>OH</td>\n",
       "      <td>2023-02-08</td>\n",
       "      <td>13424108</td>\n",
       "      <td>165832</td>\n",
       "      <td>11689100</td>\n",
       "      <td>0</td>\n",
       "      <td>0</td>\n",
       "    </tr>\n",
       "  </tbody>\n",
       "</table>\n",
       "<p>160 rows × 7 columns</p>\n",
       "</div>"
      ],
      "text/plain": [
       "    State       date     cases  deaths  population  new_cases  new_deaths\n",
       "0      OH 2020-01-22         0       0    11689100          0           0\n",
       "1      OH 2020-01-29         0       0    11689100          0           0\n",
       "2      OH 2020-02-05         0       0    11689100          0           0\n",
       "3      OH 2020-02-12         0       0    11689100          0           0\n",
       "4      OH 2020-02-19         0       0    11689100          0           0\n",
       "..    ...        ...       ...     ...         ...        ...         ...\n",
       "155    OH 2023-01-11  23250241  287196    11689100      97265         735\n",
       "156    OH 2023-01-18  23321557  287931    11689100      71316         735\n",
       "157    OH 2023-01-25  23377284  288701    11689100      55727         770\n",
       "158    OH 2023-02-01  23434369  289443    11689100      57085         742\n",
       "159    OH 2023-02-08  13424108  165832    11689100          0           0\n",
       "\n",
       "[160 rows x 7 columns]"
      ]
     },
     "execution_count": 1388,
     "metadata": {},
     "output_type": "execute_result"
    }
   ],
   "source": [
    "OH_weekly_data"
   ]
  },
  {
   "cell_type": "code",
   "execution_count": 1389,
   "id": "2e522ea4",
   "metadata": {},
   "outputs": [
    {
     "data": {
      "text/html": [
       "<div>\n",
       "<style scoped>\n",
       "    .dataframe tbody tr th:only-of-type {\n",
       "        vertical-align: middle;\n",
       "    }\n",
       "\n",
       "    .dataframe tbody tr th {\n",
       "        vertical-align: top;\n",
       "    }\n",
       "\n",
       "    .dataframe thead th {\n",
       "        text-align: right;\n",
       "    }\n",
       "</style>\n",
       "<table border=\"1\" class=\"dataframe\">\n",
       "  <thead>\n",
       "    <tr style=\"text-align: right;\">\n",
       "      <th></th>\n",
       "      <th>State</th>\n",
       "      <th>date</th>\n",
       "      <th>cases</th>\n",
       "      <th>deaths</th>\n",
       "      <th>population</th>\n",
       "      <th>new_cases</th>\n",
       "      <th>new_deaths</th>\n",
       "    </tr>\n",
       "  </thead>\n",
       "  <tbody>\n",
       "    <tr>\n",
       "      <th>0</th>\n",
       "      <td>CA</td>\n",
       "      <td>2020-01-22</td>\n",
       "      <td>722</td>\n",
       "      <td>0</td>\n",
       "      <td>39512223</td>\n",
       "      <td>0</td>\n",
       "      <td>0</td>\n",
       "    </tr>\n",
       "    <tr>\n",
       "      <th>1</th>\n",
       "      <td>CA</td>\n",
       "      <td>2020-01-29</td>\n",
       "      <td>5291</td>\n",
       "      <td>0</td>\n",
       "      <td>39512223</td>\n",
       "      <td>4569</td>\n",
       "      <td>0</td>\n",
       "    </tr>\n",
       "    <tr>\n",
       "      <th>2</th>\n",
       "      <td>CA</td>\n",
       "      <td>2020-02-05</td>\n",
       "      <td>2544</td>\n",
       "      <td>0</td>\n",
       "      <td>39512223</td>\n",
       "      <td>0</td>\n",
       "      <td>0</td>\n",
       "    </tr>\n",
       "    <tr>\n",
       "      <th>3</th>\n",
       "      <td>CA</td>\n",
       "      <td>2020-02-12</td>\n",
       "      <td>573</td>\n",
       "      <td>6</td>\n",
       "      <td>39512223</td>\n",
       "      <td>0</td>\n",
       "      <td>6</td>\n",
       "    </tr>\n",
       "    <tr>\n",
       "      <th>4</th>\n",
       "      <td>CA</td>\n",
       "      <td>2020-02-19</td>\n",
       "      <td>968</td>\n",
       "      <td>9</td>\n",
       "      <td>39512223</td>\n",
       "      <td>395</td>\n",
       "      <td>3</td>\n",
       "    </tr>\n",
       "    <tr>\n",
       "      <th>...</th>\n",
       "      <td>...</td>\n",
       "      <td>...</td>\n",
       "      <td>...</td>\n",
       "      <td>...</td>\n",
       "      <td>...</td>\n",
       "      <td>...</td>\n",
       "      <td>...</td>\n",
       "    </tr>\n",
       "    <tr>\n",
       "      <th>155</th>\n",
       "      <td>CA</td>\n",
       "      <td>2023-01-11</td>\n",
       "      <td>76645756</td>\n",
       "      <td>687113</td>\n",
       "      <td>39512223</td>\n",
       "      <td>370624</td>\n",
       "      <td>3623</td>\n",
       "    </tr>\n",
       "    <tr>\n",
       "      <th>156</th>\n",
       "      <td>CA</td>\n",
       "      <td>2023-01-18</td>\n",
       "      <td>76954237</td>\n",
       "      <td>691670</td>\n",
       "      <td>39512223</td>\n",
       "      <td>308481</td>\n",
       "      <td>4557</td>\n",
       "    </tr>\n",
       "    <tr>\n",
       "      <th>157</th>\n",
       "      <td>CA</td>\n",
       "      <td>2023-01-25</td>\n",
       "      <td>77108590</td>\n",
       "      <td>694000</td>\n",
       "      <td>39512223</td>\n",
       "      <td>154353</td>\n",
       "      <td>2330</td>\n",
       "    </tr>\n",
       "    <tr>\n",
       "      <th>158</th>\n",
       "      <td>CA</td>\n",
       "      <td>2023-02-01</td>\n",
       "      <td>77214261</td>\n",
       "      <td>694406</td>\n",
       "      <td>39512223</td>\n",
       "      <td>105671</td>\n",
       "      <td>406</td>\n",
       "    </tr>\n",
       "    <tr>\n",
       "      <th>159</th>\n",
       "      <td>CA</td>\n",
       "      <td>2023-02-08</td>\n",
       "      <td>44133840</td>\n",
       "      <td>396824</td>\n",
       "      <td>39512223</td>\n",
       "      <td>0</td>\n",
       "      <td>0</td>\n",
       "    </tr>\n",
       "  </tbody>\n",
       "</table>\n",
       "<p>160 rows × 7 columns</p>\n",
       "</div>"
      ],
      "text/plain": [
       "    State       date     cases  deaths  population  new_cases  new_deaths\n",
       "0      CA 2020-01-22       722       0    39512223          0           0\n",
       "1      CA 2020-01-29      5291       0    39512223       4569           0\n",
       "2      CA 2020-02-05      2544       0    39512223          0           0\n",
       "3      CA 2020-02-12       573       6    39512223          0           6\n",
       "4      CA 2020-02-19       968       9    39512223        395           3\n",
       "..    ...        ...       ...     ...         ...        ...         ...\n",
       "155    CA 2023-01-11  76645756  687113    39512223     370624        3623\n",
       "156    CA 2023-01-18  76954237  691670    39512223     308481        4557\n",
       "157    CA 2023-01-25  77108590  694000    39512223     154353        2330\n",
       "158    CA 2023-02-01  77214261  694406    39512223     105671         406\n",
       "159    CA 2023-02-08  44133840  396824    39512223          0           0\n",
       "\n",
       "[160 rows x 7 columns]"
      ]
     },
     "execution_count": 1389,
     "metadata": {},
     "output_type": "execute_result"
    }
   ],
   "source": [
    "CA_weekly_data"
   ]
  },
  {
   "cell_type": "code",
   "execution_count": 1390,
   "id": "9f4dd5cf",
   "metadata": {},
   "outputs": [
    {
     "data": {
      "text/html": [
       "<div>\n",
       "<style scoped>\n",
       "    .dataframe tbody tr th:only-of-type {\n",
       "        vertical-align: middle;\n",
       "    }\n",
       "\n",
       "    .dataframe tbody tr th {\n",
       "        vertical-align: top;\n",
       "    }\n",
       "\n",
       "    .dataframe thead th {\n",
       "        text-align: right;\n",
       "    }\n",
       "</style>\n",
       "<table border=\"1\" class=\"dataframe\">\n",
       "  <thead>\n",
       "    <tr style=\"text-align: right;\">\n",
       "      <th></th>\n",
       "      <th>State</th>\n",
       "      <th>date</th>\n",
       "      <th>cases</th>\n",
       "      <th>deaths</th>\n",
       "      <th>population</th>\n",
       "      <th>new_cases</th>\n",
       "      <th>new_deaths</th>\n",
       "    </tr>\n",
       "  </thead>\n",
       "  <tbody>\n",
       "    <tr>\n",
       "      <th>0</th>\n",
       "      <td>CO</td>\n",
       "      <td>2020-01-22</td>\n",
       "      <td>0</td>\n",
       "      <td>0</td>\n",
       "      <td>5758736</td>\n",
       "      <td>0</td>\n",
       "      <td>0</td>\n",
       "    </tr>\n",
       "    <tr>\n",
       "      <th>1</th>\n",
       "      <td>CO</td>\n",
       "      <td>2020-01-29</td>\n",
       "      <td>0</td>\n",
       "      <td>0</td>\n",
       "      <td>5758736</td>\n",
       "      <td>0</td>\n",
       "      <td>0</td>\n",
       "    </tr>\n",
       "    <tr>\n",
       "      <th>2</th>\n",
       "      <td>CO</td>\n",
       "      <td>2020-02-05</td>\n",
       "      <td>0</td>\n",
       "      <td>0</td>\n",
       "      <td>5758736</td>\n",
       "      <td>0</td>\n",
       "      <td>0</td>\n",
       "    </tr>\n",
       "    <tr>\n",
       "      <th>3</th>\n",
       "      <td>CO</td>\n",
       "      <td>2020-02-12</td>\n",
       "      <td>0</td>\n",
       "      <td>0</td>\n",
       "      <td>5758736</td>\n",
       "      <td>0</td>\n",
       "      <td>0</td>\n",
       "    </tr>\n",
       "    <tr>\n",
       "      <th>4</th>\n",
       "      <td>CO</td>\n",
       "      <td>2020-02-19</td>\n",
       "      <td>0</td>\n",
       "      <td>0</td>\n",
       "      <td>5758736</td>\n",
       "      <td>0</td>\n",
       "      <td>0</td>\n",
       "    </tr>\n",
       "    <tr>\n",
       "      <th>...</th>\n",
       "      <td>...</td>\n",
       "      <td>...</td>\n",
       "      <td>...</td>\n",
       "      <td>...</td>\n",
       "      <td>...</td>\n",
       "      <td>...</td>\n",
       "      <td>...</td>\n",
       "    </tr>\n",
       "    <tr>\n",
       "      <th>155</th>\n",
       "      <td>CO</td>\n",
       "      <td>2023-01-11</td>\n",
       "      <td>12048323</td>\n",
       "      <td>96675</td>\n",
       "      <td>5758736</td>\n",
       "      <td>33740</td>\n",
       "      <td>243</td>\n",
       "    </tr>\n",
       "    <tr>\n",
       "      <th>156</th>\n",
       "      <td>CO</td>\n",
       "      <td>2023-01-18</td>\n",
       "      <td>12070959</td>\n",
       "      <td>96958</td>\n",
       "      <td>5758736</td>\n",
       "      <td>22636</td>\n",
       "      <td>283</td>\n",
       "    </tr>\n",
       "    <tr>\n",
       "      <th>157</th>\n",
       "      <td>CO</td>\n",
       "      <td>2023-01-25</td>\n",
       "      <td>12090515</td>\n",
       "      <td>97250</td>\n",
       "      <td>5758736</td>\n",
       "      <td>19556</td>\n",
       "      <td>292</td>\n",
       "    </tr>\n",
       "    <tr>\n",
       "      <th>158</th>\n",
       "      <td>CO</td>\n",
       "      <td>2023-02-01</td>\n",
       "      <td>12106525</td>\n",
       "      <td>97469</td>\n",
       "      <td>5758736</td>\n",
       "      <td>16010</td>\n",
       "      <td>219</td>\n",
       "    </tr>\n",
       "    <tr>\n",
       "      <th>159</th>\n",
       "      <td>CO</td>\n",
       "      <td>2023-02-08</td>\n",
       "      <td>6928060</td>\n",
       "      <td>55748</td>\n",
       "      <td>5758736</td>\n",
       "      <td>0</td>\n",
       "      <td>0</td>\n",
       "    </tr>\n",
       "  </tbody>\n",
       "</table>\n",
       "<p>160 rows × 7 columns</p>\n",
       "</div>"
      ],
      "text/plain": [
       "    State       date     cases  deaths  population  new_cases  new_deaths\n",
       "0      CO 2020-01-22         0       0     5758736          0           0\n",
       "1      CO 2020-01-29         0       0     5758736          0           0\n",
       "2      CO 2020-02-05         0       0     5758736          0           0\n",
       "3      CO 2020-02-12         0       0     5758736          0           0\n",
       "4      CO 2020-02-19         0       0     5758736          0           0\n",
       "..    ...        ...       ...     ...         ...        ...         ...\n",
       "155    CO 2023-01-11  12048323   96675     5758736      33740         243\n",
       "156    CO 2023-01-18  12070959   96958     5758736      22636         283\n",
       "157    CO 2023-01-25  12090515   97250     5758736      19556         292\n",
       "158    CO 2023-02-01  12106525   97469     5758736      16010         219\n",
       "159    CO 2023-02-08   6928060   55748     5758736          0           0\n",
       "\n",
       "[160 rows x 7 columns]"
      ]
     },
     "execution_count": 1390,
     "metadata": {},
     "output_type": "execute_result"
    }
   ],
   "source": [
    "CO_weekly_data"
   ]
  },
  {
   "cell_type": "code",
   "execution_count": 1391,
   "id": "ed6c80ea",
   "metadata": {},
   "outputs": [],
   "source": [
    "#Normalizing the values per 100k population\n",
    "IL_weekly_data[\"new_cases_norm_100K\"] = IL_weekly_data[\"new_cases\"] / IL_weekly_data[\"population\"] * 100000\n",
    "IL_weekly_data[\"new_deaths_norm_100K\"] = IL_weekly_data[\"new_deaths\"] / IL_weekly_data[\"population\"] * 100000\n",
    "IL_weekly_data.loc[IL_weekly_data['new_cases_norm_100K'] < 0, 'new_cases_norm_100K'] = 0\n",
    "IL_weekly_data.loc[IL_weekly_data['new_deaths_norm_100K'] < 0, 'new_deaths_norm_100K'] = 0\n",
    "\n",
    "OH_weekly_data[\"new_cases_norm_100K\"] = OH_weekly_data[\"new_cases\"] / OH_weekly_data[\"population\"] * 100000\n",
    "OH_weekly_data[\"new_deaths_norm_100K\"] = OH_weekly_data[\"new_deaths\"] / OH_weekly_data[\"population\"] * 100000\n",
    "OH_weekly_data.loc[OH_weekly_data['new_cases_norm_100K'] < 0, 'new_cases_norm_100K'] = 0\n",
    "OH_weekly_data.loc[OH_weekly_data['new_deaths_norm_100K'] < 0, 'new_deaths_norm_100K'] = 0\n",
    "\n",
    "CA_weekly_data[\"new_cases_norm_100K\"] = CA_weekly_data[\"new_cases\"] / CA_weekly_data[\"population\"] * 100000\n",
    "CA_weekly_data[\"new_deaths_norm_100K\"] = CA_weekly_data[\"new_deaths\"] / CA_weekly_data[\"population\"] * 100000\n",
    "CA_weekly_data.loc[CA_weekly_data['new_cases_norm_100K'] < 0, 'new_cases_norm_100K'] = 0\n",
    "CA_weekly_data.loc[CA_weekly_data['new_deaths_norm_100K'] < 0, 'new_deaths_norm_100K'] = 0\n",
    "\n",
    "CO_weekly_data[\"new_cases_norm_100K\"] = CO_weekly_data[\"new_cases\"] / CO_weekly_data[\"population\"] * 100000\n",
    "CO_weekly_data[\"new_deaths_norm_100K\"] = CO_weekly_data[\"new_deaths\"] / CO_weekly_data[\"population\"] * 100000\n",
    "CO_weekly_data.loc[CO_weekly_data['new_cases_norm_100K'] < 0, 'new_cases_norm_100K'] = 0\n",
    "CO_weekly_data.loc[CO_weekly_data['new_deaths_norm_100K'] < 0, 'new_deaths_norm_100K'] = 0"
   ]
  },
  {
   "cell_type": "code",
   "execution_count": 1392,
   "id": "143506bc",
   "metadata": {},
   "outputs": [
    {
     "data": {
      "text/html": [
       "<div>\n",
       "<style scoped>\n",
       "    .dataframe tbody tr th:only-of-type {\n",
       "        vertical-align: middle;\n",
       "    }\n",
       "\n",
       "    .dataframe tbody tr th {\n",
       "        vertical-align: top;\n",
       "    }\n",
       "\n",
       "    .dataframe thead th {\n",
       "        text-align: right;\n",
       "    }\n",
       "</style>\n",
       "<table border=\"1\" class=\"dataframe\">\n",
       "  <thead>\n",
       "    <tr style=\"text-align: right;\">\n",
       "      <th></th>\n",
       "      <th>State</th>\n",
       "      <th>date</th>\n",
       "      <th>cases</th>\n",
       "      <th>deaths</th>\n",
       "      <th>population</th>\n",
       "      <th>new_cases</th>\n",
       "      <th>new_deaths</th>\n",
       "      <th>new_cases_norm_100K</th>\n",
       "      <th>new_deaths_norm_100K</th>\n",
       "    </tr>\n",
       "  </thead>\n",
       "  <tbody>\n",
       "    <tr>\n",
       "      <th>0</th>\n",
       "      <td>IL</td>\n",
       "      <td>2020-01-22</td>\n",
       "      <td>0</td>\n",
       "      <td>0</td>\n",
       "      <td>12671821</td>\n",
       "      <td>0</td>\n",
       "      <td>0</td>\n",
       "      <td>0.000000</td>\n",
       "      <td>0.000000</td>\n",
       "    </tr>\n",
       "    <tr>\n",
       "      <th>1</th>\n",
       "      <td>IL</td>\n",
       "      <td>2020-01-29</td>\n",
       "      <td>6</td>\n",
       "      <td>0</td>\n",
       "      <td>12671821</td>\n",
       "      <td>6</td>\n",
       "      <td>0</td>\n",
       "      <td>0.047349</td>\n",
       "      <td>0.000000</td>\n",
       "    </tr>\n",
       "    <tr>\n",
       "      <th>2</th>\n",
       "      <td>IL</td>\n",
       "      <td>2020-02-05</td>\n",
       "      <td>13</td>\n",
       "      <td>0</td>\n",
       "      <td>12671821</td>\n",
       "      <td>7</td>\n",
       "      <td>0</td>\n",
       "      <td>0.055241</td>\n",
       "      <td>0.000000</td>\n",
       "    </tr>\n",
       "    <tr>\n",
       "      <th>3</th>\n",
       "      <td>IL</td>\n",
       "      <td>2020-02-12</td>\n",
       "      <td>14</td>\n",
       "      <td>0</td>\n",
       "      <td>12671821</td>\n",
       "      <td>1</td>\n",
       "      <td>0</td>\n",
       "      <td>0.007892</td>\n",
       "      <td>0.000000</td>\n",
       "    </tr>\n",
       "    <tr>\n",
       "      <th>4</th>\n",
       "      <td>IL</td>\n",
       "      <td>2020-02-19</td>\n",
       "      <td>14</td>\n",
       "      <td>0</td>\n",
       "      <td>12671821</td>\n",
       "      <td>0</td>\n",
       "      <td>0</td>\n",
       "      <td>0.000000</td>\n",
       "      <td>0.000000</td>\n",
       "    </tr>\n",
       "    <tr>\n",
       "      <th>...</th>\n",
       "      <td>...</td>\n",
       "      <td>...</td>\n",
       "      <td>...</td>\n",
       "      <td>...</td>\n",
       "      <td>...</td>\n",
       "      <td>...</td>\n",
       "      <td>...</td>\n",
       "      <td>...</td>\n",
       "      <td>...</td>\n",
       "    </tr>\n",
       "    <tr>\n",
       "      <th>155</th>\n",
       "      <td>IL</td>\n",
       "      <td>2023-01-11</td>\n",
       "      <td>21860791</td>\n",
       "      <td>195933</td>\n",
       "      <td>12671821</td>\n",
       "      <td>5387</td>\n",
       "      <td>33</td>\n",
       "      <td>42.511648</td>\n",
       "      <td>0.260420</td>\n",
       "    </tr>\n",
       "    <tr>\n",
       "      <th>156</th>\n",
       "      <td>IL</td>\n",
       "      <td>2023-01-18</td>\n",
       "      <td>21869246</td>\n",
       "      <td>195958</td>\n",
       "      <td>12671821</td>\n",
       "      <td>8455</td>\n",
       "      <td>25</td>\n",
       "      <td>66.722849</td>\n",
       "      <td>0.197288</td>\n",
       "    </tr>\n",
       "    <tr>\n",
       "      <th>157</th>\n",
       "      <td>IL</td>\n",
       "      <td>2023-01-25</td>\n",
       "      <td>21878178</td>\n",
       "      <td>195986</td>\n",
       "      <td>12671821</td>\n",
       "      <td>8932</td>\n",
       "      <td>28</td>\n",
       "      <td>70.487107</td>\n",
       "      <td>0.220963</td>\n",
       "    </tr>\n",
       "    <tr>\n",
       "      <th>158</th>\n",
       "      <td>IL</td>\n",
       "      <td>2023-02-01</td>\n",
       "      <td>21878178</td>\n",
       "      <td>195986</td>\n",
       "      <td>12671821</td>\n",
       "      <td>0</td>\n",
       "      <td>0</td>\n",
       "      <td>0.000000</td>\n",
       "      <td>0.000000</td>\n",
       "    </tr>\n",
       "    <tr>\n",
       "      <th>159</th>\n",
       "      <td>IL</td>\n",
       "      <td>2023-02-08</td>\n",
       "      <td>12501816</td>\n",
       "      <td>111992</td>\n",
       "      <td>12671821</td>\n",
       "      <td>0</td>\n",
       "      <td>0</td>\n",
       "      <td>0.000000</td>\n",
       "      <td>0.000000</td>\n",
       "    </tr>\n",
       "  </tbody>\n",
       "</table>\n",
       "<p>160 rows × 9 columns</p>\n",
       "</div>"
      ],
      "text/plain": [
       "    State       date     cases  deaths  population  new_cases  new_deaths  \\\n",
       "0      IL 2020-01-22         0       0    12671821          0           0   \n",
       "1      IL 2020-01-29         6       0    12671821          6           0   \n",
       "2      IL 2020-02-05        13       0    12671821          7           0   \n",
       "3      IL 2020-02-12        14       0    12671821          1           0   \n",
       "4      IL 2020-02-19        14       0    12671821          0           0   \n",
       "..    ...        ...       ...     ...         ...        ...         ...   \n",
       "155    IL 2023-01-11  21860791  195933    12671821       5387          33   \n",
       "156    IL 2023-01-18  21869246  195958    12671821       8455          25   \n",
       "157    IL 2023-01-25  21878178  195986    12671821       8932          28   \n",
       "158    IL 2023-02-01  21878178  195986    12671821          0           0   \n",
       "159    IL 2023-02-08  12501816  111992    12671821          0           0   \n",
       "\n",
       "     new_cases_norm_100K  new_deaths_norm_100K  \n",
       "0               0.000000              0.000000  \n",
       "1               0.047349              0.000000  \n",
       "2               0.055241              0.000000  \n",
       "3               0.007892              0.000000  \n",
       "4               0.000000              0.000000  \n",
       "..                   ...                   ...  \n",
       "155            42.511648              0.260420  \n",
       "156            66.722849              0.197288  \n",
       "157            70.487107              0.220963  \n",
       "158             0.000000              0.000000  \n",
       "159             0.000000              0.000000  \n",
       "\n",
       "[160 rows x 9 columns]"
      ]
     },
     "execution_count": 1392,
     "metadata": {},
     "output_type": "execute_result"
    }
   ],
   "source": [
    "IL_weekly_data"
   ]
  },
  {
   "cell_type": "code",
   "execution_count": 1393,
   "id": "aca0b179",
   "metadata": {},
   "outputs": [
    {
     "data": {
      "text/html": [
       "<div>\n",
       "<style scoped>\n",
       "    .dataframe tbody tr th:only-of-type {\n",
       "        vertical-align: middle;\n",
       "    }\n",
       "\n",
       "    .dataframe tbody tr th {\n",
       "        vertical-align: top;\n",
       "    }\n",
       "\n",
       "    .dataframe thead th {\n",
       "        text-align: right;\n",
       "    }\n",
       "</style>\n",
       "<table border=\"1\" class=\"dataframe\">\n",
       "  <thead>\n",
       "    <tr style=\"text-align: right;\">\n",
       "      <th></th>\n",
       "      <th>State</th>\n",
       "      <th>date</th>\n",
       "      <th>cases</th>\n",
       "      <th>deaths</th>\n",
       "      <th>population</th>\n",
       "      <th>new_cases</th>\n",
       "      <th>new_deaths</th>\n",
       "      <th>new_cases_norm_100K</th>\n",
       "      <th>new_deaths_norm_100K</th>\n",
       "    </tr>\n",
       "  </thead>\n",
       "  <tbody>\n",
       "    <tr>\n",
       "      <th>0</th>\n",
       "      <td>CA</td>\n",
       "      <td>2020-01-22</td>\n",
       "      <td>722</td>\n",
       "      <td>0</td>\n",
       "      <td>39512223</td>\n",
       "      <td>0</td>\n",
       "      <td>0</td>\n",
       "      <td>0.000000</td>\n",
       "      <td>0.000000</td>\n",
       "    </tr>\n",
       "    <tr>\n",
       "      <th>1</th>\n",
       "      <td>CA</td>\n",
       "      <td>2020-01-29</td>\n",
       "      <td>5291</td>\n",
       "      <td>0</td>\n",
       "      <td>39512223</td>\n",
       "      <td>4569</td>\n",
       "      <td>0</td>\n",
       "      <td>11.563510</td>\n",
       "      <td>0.000000</td>\n",
       "    </tr>\n",
       "    <tr>\n",
       "      <th>2</th>\n",
       "      <td>CA</td>\n",
       "      <td>2020-02-05</td>\n",
       "      <td>2544</td>\n",
       "      <td>0</td>\n",
       "      <td>39512223</td>\n",
       "      <td>0</td>\n",
       "      <td>0</td>\n",
       "      <td>0.000000</td>\n",
       "      <td>0.000000</td>\n",
       "    </tr>\n",
       "    <tr>\n",
       "      <th>3</th>\n",
       "      <td>CA</td>\n",
       "      <td>2020-02-12</td>\n",
       "      <td>573</td>\n",
       "      <td>6</td>\n",
       "      <td>39512223</td>\n",
       "      <td>0</td>\n",
       "      <td>6</td>\n",
       "      <td>0.000000</td>\n",
       "      <td>0.015185</td>\n",
       "    </tr>\n",
       "    <tr>\n",
       "      <th>4</th>\n",
       "      <td>CA</td>\n",
       "      <td>2020-02-19</td>\n",
       "      <td>968</td>\n",
       "      <td>9</td>\n",
       "      <td>39512223</td>\n",
       "      <td>395</td>\n",
       "      <td>3</td>\n",
       "      <td>0.999691</td>\n",
       "      <td>0.007593</td>\n",
       "    </tr>\n",
       "    <tr>\n",
       "      <th>...</th>\n",
       "      <td>...</td>\n",
       "      <td>...</td>\n",
       "      <td>...</td>\n",
       "      <td>...</td>\n",
       "      <td>...</td>\n",
       "      <td>...</td>\n",
       "      <td>...</td>\n",
       "      <td>...</td>\n",
       "      <td>...</td>\n",
       "    </tr>\n",
       "    <tr>\n",
       "      <th>155</th>\n",
       "      <td>CA</td>\n",
       "      <td>2023-01-11</td>\n",
       "      <td>76645756</td>\n",
       "      <td>687113</td>\n",
       "      <td>39512223</td>\n",
       "      <td>370624</td>\n",
       "      <td>3623</td>\n",
       "      <td>937.998351</td>\n",
       "      <td>9.169315</td>\n",
       "    </tr>\n",
       "    <tr>\n",
       "      <th>156</th>\n",
       "      <td>CA</td>\n",
       "      <td>2023-01-18</td>\n",
       "      <td>76954237</td>\n",
       "      <td>691670</td>\n",
       "      <td>39512223</td>\n",
       "      <td>308481</td>\n",
       "      <td>4557</td>\n",
       "      <td>780.722968</td>\n",
       "      <td>11.533140</td>\n",
       "    </tr>\n",
       "    <tr>\n",
       "      <th>157</th>\n",
       "      <td>CA</td>\n",
       "      <td>2023-01-25</td>\n",
       "      <td>77108590</td>\n",
       "      <td>694000</td>\n",
       "      <td>39512223</td>\n",
       "      <td>154353</td>\n",
       "      <td>2330</td>\n",
       "      <td>390.646206</td>\n",
       "      <td>5.896909</td>\n",
       "    </tr>\n",
       "    <tr>\n",
       "      <th>158</th>\n",
       "      <td>CA</td>\n",
       "      <td>2023-02-01</td>\n",
       "      <td>77214261</td>\n",
       "      <td>694406</td>\n",
       "      <td>39512223</td>\n",
       "      <td>105671</td>\n",
       "      <td>406</td>\n",
       "      <td>267.438762</td>\n",
       "      <td>1.027530</td>\n",
       "    </tr>\n",
       "    <tr>\n",
       "      <th>159</th>\n",
       "      <td>CA</td>\n",
       "      <td>2023-02-08</td>\n",
       "      <td>44133840</td>\n",
       "      <td>396824</td>\n",
       "      <td>39512223</td>\n",
       "      <td>0</td>\n",
       "      <td>0</td>\n",
       "      <td>0.000000</td>\n",
       "      <td>0.000000</td>\n",
       "    </tr>\n",
       "  </tbody>\n",
       "</table>\n",
       "<p>160 rows × 9 columns</p>\n",
       "</div>"
      ],
      "text/plain": [
       "    State       date     cases  deaths  population  new_cases  new_deaths  \\\n",
       "0      CA 2020-01-22       722       0    39512223          0           0   \n",
       "1      CA 2020-01-29      5291       0    39512223       4569           0   \n",
       "2      CA 2020-02-05      2544       0    39512223          0           0   \n",
       "3      CA 2020-02-12       573       6    39512223          0           6   \n",
       "4      CA 2020-02-19       968       9    39512223        395           3   \n",
       "..    ...        ...       ...     ...         ...        ...         ...   \n",
       "155    CA 2023-01-11  76645756  687113    39512223     370624        3623   \n",
       "156    CA 2023-01-18  76954237  691670    39512223     308481        4557   \n",
       "157    CA 2023-01-25  77108590  694000    39512223     154353        2330   \n",
       "158    CA 2023-02-01  77214261  694406    39512223     105671         406   \n",
       "159    CA 2023-02-08  44133840  396824    39512223          0           0   \n",
       "\n",
       "     new_cases_norm_100K  new_deaths_norm_100K  \n",
       "0               0.000000              0.000000  \n",
       "1              11.563510              0.000000  \n",
       "2               0.000000              0.000000  \n",
       "3               0.000000              0.015185  \n",
       "4               0.999691              0.007593  \n",
       "..                   ...                   ...  \n",
       "155           937.998351              9.169315  \n",
       "156           780.722968             11.533140  \n",
       "157           390.646206              5.896909  \n",
       "158           267.438762              1.027530  \n",
       "159             0.000000              0.000000  \n",
       "\n",
       "[160 rows x 9 columns]"
      ]
     },
     "execution_count": 1393,
     "metadata": {},
     "output_type": "execute_result"
    }
   ],
   "source": [
    "CA_weekly_data"
   ]
  },
  {
   "cell_type": "code",
   "execution_count": 1394,
   "id": "56a3450c",
   "metadata": {},
   "outputs": [
    {
     "data": {
      "text/html": [
       "<div>\n",
       "<style scoped>\n",
       "    .dataframe tbody tr th:only-of-type {\n",
       "        vertical-align: middle;\n",
       "    }\n",
       "\n",
       "    .dataframe tbody tr th {\n",
       "        vertical-align: top;\n",
       "    }\n",
       "\n",
       "    .dataframe thead th {\n",
       "        text-align: right;\n",
       "    }\n",
       "</style>\n",
       "<table border=\"1\" class=\"dataframe\">\n",
       "  <thead>\n",
       "    <tr style=\"text-align: right;\">\n",
       "      <th></th>\n",
       "      <th>State</th>\n",
       "      <th>date</th>\n",
       "      <th>cases</th>\n",
       "      <th>deaths</th>\n",
       "      <th>population</th>\n",
       "      <th>new_cases</th>\n",
       "      <th>new_deaths</th>\n",
       "      <th>new_cases_norm_100K</th>\n",
       "      <th>new_deaths_norm_100K</th>\n",
       "    </tr>\n",
       "  </thead>\n",
       "  <tbody>\n",
       "    <tr>\n",
       "      <th>0</th>\n",
       "      <td>OH</td>\n",
       "      <td>2020-01-22</td>\n",
       "      <td>0</td>\n",
       "      <td>0</td>\n",
       "      <td>11689100</td>\n",
       "      <td>0</td>\n",
       "      <td>0</td>\n",
       "      <td>0.000000</td>\n",
       "      <td>0.000000</td>\n",
       "    </tr>\n",
       "    <tr>\n",
       "      <th>1</th>\n",
       "      <td>OH</td>\n",
       "      <td>2020-01-29</td>\n",
       "      <td>0</td>\n",
       "      <td>0</td>\n",
       "      <td>11689100</td>\n",
       "      <td>0</td>\n",
       "      <td>0</td>\n",
       "      <td>0.000000</td>\n",
       "      <td>0.000000</td>\n",
       "    </tr>\n",
       "    <tr>\n",
       "      <th>2</th>\n",
       "      <td>OH</td>\n",
       "      <td>2020-02-05</td>\n",
       "      <td>0</td>\n",
       "      <td>0</td>\n",
       "      <td>11689100</td>\n",
       "      <td>0</td>\n",
       "      <td>0</td>\n",
       "      <td>0.000000</td>\n",
       "      <td>0.000000</td>\n",
       "    </tr>\n",
       "    <tr>\n",
       "      <th>3</th>\n",
       "      <td>OH</td>\n",
       "      <td>2020-02-12</td>\n",
       "      <td>0</td>\n",
       "      <td>0</td>\n",
       "      <td>11689100</td>\n",
       "      <td>0</td>\n",
       "      <td>0</td>\n",
       "      <td>0.000000</td>\n",
       "      <td>0.000000</td>\n",
       "    </tr>\n",
       "    <tr>\n",
       "      <th>4</th>\n",
       "      <td>OH</td>\n",
       "      <td>2020-02-19</td>\n",
       "      <td>0</td>\n",
       "      <td>0</td>\n",
       "      <td>11689100</td>\n",
       "      <td>0</td>\n",
       "      <td>0</td>\n",
       "      <td>0.000000</td>\n",
       "      <td>0.000000</td>\n",
       "    </tr>\n",
       "    <tr>\n",
       "      <th>...</th>\n",
       "      <td>...</td>\n",
       "      <td>...</td>\n",
       "      <td>...</td>\n",
       "      <td>...</td>\n",
       "      <td>...</td>\n",
       "      <td>...</td>\n",
       "      <td>...</td>\n",
       "      <td>...</td>\n",
       "      <td>...</td>\n",
       "    </tr>\n",
       "    <tr>\n",
       "      <th>155</th>\n",
       "      <td>OH</td>\n",
       "      <td>2023-01-11</td>\n",
       "      <td>23250241</td>\n",
       "      <td>287196</td>\n",
       "      <td>11689100</td>\n",
       "      <td>97265</td>\n",
       "      <td>735</td>\n",
       "      <td>832.099991</td>\n",
       "      <td>6.287909</td>\n",
       "    </tr>\n",
       "    <tr>\n",
       "      <th>156</th>\n",
       "      <td>OH</td>\n",
       "      <td>2023-01-18</td>\n",
       "      <td>23321557</td>\n",
       "      <td>287931</td>\n",
       "      <td>11689100</td>\n",
       "      <td>71316</td>\n",
       "      <td>735</td>\n",
       "      <td>610.106852</td>\n",
       "      <td>6.287909</td>\n",
       "    </tr>\n",
       "    <tr>\n",
       "      <th>157</th>\n",
       "      <td>OH</td>\n",
       "      <td>2023-01-25</td>\n",
       "      <td>23377284</td>\n",
       "      <td>288701</td>\n",
       "      <td>11689100</td>\n",
       "      <td>55727</td>\n",
       "      <td>770</td>\n",
       "      <td>476.743291</td>\n",
       "      <td>6.587333</td>\n",
       "    </tr>\n",
       "    <tr>\n",
       "      <th>158</th>\n",
       "      <td>OH</td>\n",
       "      <td>2023-02-01</td>\n",
       "      <td>23434369</td>\n",
       "      <td>289443</td>\n",
       "      <td>11689100</td>\n",
       "      <td>57085</td>\n",
       "      <td>742</td>\n",
       "      <td>488.360952</td>\n",
       "      <td>6.347794</td>\n",
       "    </tr>\n",
       "    <tr>\n",
       "      <th>159</th>\n",
       "      <td>OH</td>\n",
       "      <td>2023-02-08</td>\n",
       "      <td>13424108</td>\n",
       "      <td>165832</td>\n",
       "      <td>11689100</td>\n",
       "      <td>0</td>\n",
       "      <td>0</td>\n",
       "      <td>0.000000</td>\n",
       "      <td>0.000000</td>\n",
       "    </tr>\n",
       "  </tbody>\n",
       "</table>\n",
       "<p>160 rows × 9 columns</p>\n",
       "</div>"
      ],
      "text/plain": [
       "    State       date     cases  deaths  population  new_cases  new_deaths  \\\n",
       "0      OH 2020-01-22         0       0    11689100          0           0   \n",
       "1      OH 2020-01-29         0       0    11689100          0           0   \n",
       "2      OH 2020-02-05         0       0    11689100          0           0   \n",
       "3      OH 2020-02-12         0       0    11689100          0           0   \n",
       "4      OH 2020-02-19         0       0    11689100          0           0   \n",
       "..    ...        ...       ...     ...         ...        ...         ...   \n",
       "155    OH 2023-01-11  23250241  287196    11689100      97265         735   \n",
       "156    OH 2023-01-18  23321557  287931    11689100      71316         735   \n",
       "157    OH 2023-01-25  23377284  288701    11689100      55727         770   \n",
       "158    OH 2023-02-01  23434369  289443    11689100      57085         742   \n",
       "159    OH 2023-02-08  13424108  165832    11689100          0           0   \n",
       "\n",
       "     new_cases_norm_100K  new_deaths_norm_100K  \n",
       "0               0.000000              0.000000  \n",
       "1               0.000000              0.000000  \n",
       "2               0.000000              0.000000  \n",
       "3               0.000000              0.000000  \n",
       "4               0.000000              0.000000  \n",
       "..                   ...                   ...  \n",
       "155           832.099991              6.287909  \n",
       "156           610.106852              6.287909  \n",
       "157           476.743291              6.587333  \n",
       "158           488.360952              6.347794  \n",
       "159             0.000000              0.000000  \n",
       "\n",
       "[160 rows x 9 columns]"
      ]
     },
     "execution_count": 1394,
     "metadata": {},
     "output_type": "execute_result"
    }
   ],
   "source": [
    "OH_weekly_data"
   ]
  },
  {
   "cell_type": "code",
   "execution_count": 1395,
   "id": "1368bc11",
   "metadata": {},
   "outputs": [
    {
     "data": {
      "text/html": [
       "<div>\n",
       "<style scoped>\n",
       "    .dataframe tbody tr th:only-of-type {\n",
       "        vertical-align: middle;\n",
       "    }\n",
       "\n",
       "    .dataframe tbody tr th {\n",
       "        vertical-align: top;\n",
       "    }\n",
       "\n",
       "    .dataframe thead th {\n",
       "        text-align: right;\n",
       "    }\n",
       "</style>\n",
       "<table border=\"1\" class=\"dataframe\">\n",
       "  <thead>\n",
       "    <tr style=\"text-align: right;\">\n",
       "      <th></th>\n",
       "      <th>State</th>\n",
       "      <th>date</th>\n",
       "      <th>cases</th>\n",
       "      <th>deaths</th>\n",
       "      <th>population</th>\n",
       "      <th>new_cases</th>\n",
       "      <th>new_deaths</th>\n",
       "      <th>new_cases_norm_100K</th>\n",
       "      <th>new_deaths_norm_100K</th>\n",
       "    </tr>\n",
       "  </thead>\n",
       "  <tbody>\n",
       "    <tr>\n",
       "      <th>0</th>\n",
       "      <td>CO</td>\n",
       "      <td>2020-01-22</td>\n",
       "      <td>0</td>\n",
       "      <td>0</td>\n",
       "      <td>5758736</td>\n",
       "      <td>0</td>\n",
       "      <td>0</td>\n",
       "      <td>0.000000</td>\n",
       "      <td>0.000000</td>\n",
       "    </tr>\n",
       "    <tr>\n",
       "      <th>1</th>\n",
       "      <td>CO</td>\n",
       "      <td>2020-01-29</td>\n",
       "      <td>0</td>\n",
       "      <td>0</td>\n",
       "      <td>5758736</td>\n",
       "      <td>0</td>\n",
       "      <td>0</td>\n",
       "      <td>0.000000</td>\n",
       "      <td>0.000000</td>\n",
       "    </tr>\n",
       "    <tr>\n",
       "      <th>2</th>\n",
       "      <td>CO</td>\n",
       "      <td>2020-02-05</td>\n",
       "      <td>0</td>\n",
       "      <td>0</td>\n",
       "      <td>5758736</td>\n",
       "      <td>0</td>\n",
       "      <td>0</td>\n",
       "      <td>0.000000</td>\n",
       "      <td>0.000000</td>\n",
       "    </tr>\n",
       "    <tr>\n",
       "      <th>3</th>\n",
       "      <td>CO</td>\n",
       "      <td>2020-02-12</td>\n",
       "      <td>0</td>\n",
       "      <td>0</td>\n",
       "      <td>5758736</td>\n",
       "      <td>0</td>\n",
       "      <td>0</td>\n",
       "      <td>0.000000</td>\n",
       "      <td>0.000000</td>\n",
       "    </tr>\n",
       "    <tr>\n",
       "      <th>4</th>\n",
       "      <td>CO</td>\n",
       "      <td>2020-02-19</td>\n",
       "      <td>0</td>\n",
       "      <td>0</td>\n",
       "      <td>5758736</td>\n",
       "      <td>0</td>\n",
       "      <td>0</td>\n",
       "      <td>0.000000</td>\n",
       "      <td>0.000000</td>\n",
       "    </tr>\n",
       "    <tr>\n",
       "      <th>...</th>\n",
       "      <td>...</td>\n",
       "      <td>...</td>\n",
       "      <td>...</td>\n",
       "      <td>...</td>\n",
       "      <td>...</td>\n",
       "      <td>...</td>\n",
       "      <td>...</td>\n",
       "      <td>...</td>\n",
       "      <td>...</td>\n",
       "    </tr>\n",
       "    <tr>\n",
       "      <th>155</th>\n",
       "      <td>CO</td>\n",
       "      <td>2023-01-11</td>\n",
       "      <td>12048323</td>\n",
       "      <td>96675</td>\n",
       "      <td>5758736</td>\n",
       "      <td>33740</td>\n",
       "      <td>243</td>\n",
       "      <td>585.892460</td>\n",
       "      <td>4.219676</td>\n",
       "    </tr>\n",
       "    <tr>\n",
       "      <th>156</th>\n",
       "      <td>CO</td>\n",
       "      <td>2023-01-18</td>\n",
       "      <td>12070959</td>\n",
       "      <td>96958</td>\n",
       "      <td>5758736</td>\n",
       "      <td>22636</td>\n",
       "      <td>283</td>\n",
       "      <td>393.072369</td>\n",
       "      <td>4.914273</td>\n",
       "    </tr>\n",
       "    <tr>\n",
       "      <th>157</th>\n",
       "      <td>CO</td>\n",
       "      <td>2023-01-25</td>\n",
       "      <td>12090515</td>\n",
       "      <td>97250</td>\n",
       "      <td>5758736</td>\n",
       "      <td>19556</td>\n",
       "      <td>292</td>\n",
       "      <td>339.588410</td>\n",
       "      <td>5.070557</td>\n",
       "    </tr>\n",
       "    <tr>\n",
       "      <th>158</th>\n",
       "      <td>CO</td>\n",
       "      <td>2023-02-01</td>\n",
       "      <td>12106525</td>\n",
       "      <td>97469</td>\n",
       "      <td>5758736</td>\n",
       "      <td>16010</td>\n",
       "      <td>219</td>\n",
       "      <td>278.012397</td>\n",
       "      <td>3.802918</td>\n",
       "    </tr>\n",
       "    <tr>\n",
       "      <th>159</th>\n",
       "      <td>CO</td>\n",
       "      <td>2023-02-08</td>\n",
       "      <td>6928060</td>\n",
       "      <td>55748</td>\n",
       "      <td>5758736</td>\n",
       "      <td>0</td>\n",
       "      <td>0</td>\n",
       "      <td>0.000000</td>\n",
       "      <td>0.000000</td>\n",
       "    </tr>\n",
       "  </tbody>\n",
       "</table>\n",
       "<p>160 rows × 9 columns</p>\n",
       "</div>"
      ],
      "text/plain": [
       "    State       date     cases  deaths  population  new_cases  new_deaths  \\\n",
       "0      CO 2020-01-22         0       0     5758736          0           0   \n",
       "1      CO 2020-01-29         0       0     5758736          0           0   \n",
       "2      CO 2020-02-05         0       0     5758736          0           0   \n",
       "3      CO 2020-02-12         0       0     5758736          0           0   \n",
       "4      CO 2020-02-19         0       0     5758736          0           0   \n",
       "..    ...        ...       ...     ...         ...        ...         ...   \n",
       "155    CO 2023-01-11  12048323   96675     5758736      33740         243   \n",
       "156    CO 2023-01-18  12070959   96958     5758736      22636         283   \n",
       "157    CO 2023-01-25  12090515   97250     5758736      19556         292   \n",
       "158    CO 2023-02-01  12106525   97469     5758736      16010         219   \n",
       "159    CO 2023-02-08   6928060   55748     5758736          0           0   \n",
       "\n",
       "     new_cases_norm_100K  new_deaths_norm_100K  \n",
       "0               0.000000              0.000000  \n",
       "1               0.000000              0.000000  \n",
       "2               0.000000              0.000000  \n",
       "3               0.000000              0.000000  \n",
       "4               0.000000              0.000000  \n",
       "..                   ...                   ...  \n",
       "155           585.892460              4.219676  \n",
       "156           393.072369              4.914273  \n",
       "157           339.588410              5.070557  \n",
       "158           278.012397              3.802918  \n",
       "159             0.000000              0.000000  \n",
       "\n",
       "[160 rows x 9 columns]"
      ]
     },
     "execution_count": 1395,
     "metadata": {},
     "output_type": "execute_result"
    }
   ],
   "source": [
    "CO_weekly_data"
   ]
  },
  {
   "cell_type": "code",
   "execution_count": 1419,
   "id": "41c9a947",
   "metadata": {},
   "outputs": [
    {
     "data": {
      "application/vnd.plotly.v1+json": {
       "config": {
        "plotlyServerURL": "https://plot.ly"
       },
       "data": [
        {
         "hovertemplate": "State=IL<br>date=%{x}<br>new_cases_norm_100K=%{y}<extra></extra>",
         "legendgroup": "IL",
         "line": {
          "color": "#636efa",
          "dash": "solid"
         },
         "marker": {
          "symbol": "circle"
         },
         "mode": "lines",
         "name": "IL",
         "orientation": "v",
         "showlegend": true,
         "type": "scatter",
         "x": [
          "2020-01-22T00:00:00",
          "2020-01-29T00:00:00",
          "2020-02-05T00:00:00",
          "2020-02-12T00:00:00",
          "2020-02-19T00:00:00",
          "2020-02-26T00:00:00",
          "2020-03-04T00:00:00",
          "2020-03-11T00:00:00",
          "2020-03-18T00:00:00",
          "2020-03-25T00:00:00",
          "2020-04-01T00:00:00",
          "2020-04-08T00:00:00",
          "2020-04-15T00:00:00",
          "2020-04-22T00:00:00",
          "2020-04-29T00:00:00",
          "2020-05-06T00:00:00",
          "2020-05-13T00:00:00",
          "2020-05-20T00:00:00",
          "2020-05-27T00:00:00",
          "2020-06-03T00:00:00",
          "2020-06-10T00:00:00",
          "2020-06-17T00:00:00",
          "2020-06-24T00:00:00",
          "2020-07-01T00:00:00",
          "2020-07-08T00:00:00",
          "2020-07-15T00:00:00",
          "2020-07-22T00:00:00",
          "2020-07-29T00:00:00",
          "2020-08-05T00:00:00",
          "2020-08-12T00:00:00",
          "2020-08-19T00:00:00",
          "2020-08-26T00:00:00",
          "2020-09-02T00:00:00",
          "2020-09-09T00:00:00",
          "2020-09-16T00:00:00",
          "2020-09-23T00:00:00",
          "2020-09-30T00:00:00",
          "2020-10-07T00:00:00",
          "2020-10-14T00:00:00",
          "2020-10-21T00:00:00",
          "2020-10-28T00:00:00",
          "2020-11-04T00:00:00",
          "2020-11-11T00:00:00",
          "2020-11-18T00:00:00",
          "2020-11-25T00:00:00",
          "2020-12-02T00:00:00",
          "2020-12-09T00:00:00",
          "2020-12-16T00:00:00",
          "2020-12-23T00:00:00",
          "2020-12-30T00:00:00",
          "2021-01-06T00:00:00",
          "2021-01-13T00:00:00",
          "2021-01-20T00:00:00",
          "2021-01-27T00:00:00",
          "2021-02-03T00:00:00",
          "2021-02-10T00:00:00",
          "2021-02-17T00:00:00",
          "2021-02-24T00:00:00",
          "2021-03-03T00:00:00",
          "2021-03-10T00:00:00",
          "2021-03-17T00:00:00",
          "2021-03-24T00:00:00",
          "2021-03-31T00:00:00",
          "2021-04-07T00:00:00",
          "2021-04-14T00:00:00",
          "2021-04-21T00:00:00",
          "2021-04-28T00:00:00",
          "2021-05-05T00:00:00",
          "2021-05-12T00:00:00",
          "2021-05-19T00:00:00",
          "2021-05-26T00:00:00",
          "2021-06-02T00:00:00",
          "2021-06-09T00:00:00",
          "2021-06-16T00:00:00",
          "2021-06-23T00:00:00",
          "2021-06-30T00:00:00",
          "2021-07-07T00:00:00",
          "2021-07-14T00:00:00",
          "2021-07-21T00:00:00",
          "2021-07-28T00:00:00",
          "2021-08-04T00:00:00",
          "2021-08-11T00:00:00",
          "2021-08-18T00:00:00",
          "2021-08-25T00:00:00",
          "2021-09-01T00:00:00",
          "2021-09-08T00:00:00",
          "2021-09-15T00:00:00",
          "2021-09-22T00:00:00",
          "2021-09-29T00:00:00",
          "2021-10-06T00:00:00",
          "2021-10-13T00:00:00",
          "2021-10-20T00:00:00",
          "2021-10-27T00:00:00",
          "2021-11-03T00:00:00",
          "2021-11-10T00:00:00",
          "2021-11-17T00:00:00",
          "2021-11-24T00:00:00",
          "2021-12-01T00:00:00",
          "2021-12-08T00:00:00",
          "2021-12-15T00:00:00",
          "2021-12-22T00:00:00",
          "2021-12-29T00:00:00",
          "2022-01-05T00:00:00",
          "2022-01-12T00:00:00",
          "2022-01-19T00:00:00",
          "2022-01-26T00:00:00",
          "2022-02-02T00:00:00",
          "2022-02-09T00:00:00",
          "2022-02-16T00:00:00",
          "2022-02-23T00:00:00",
          "2022-03-02T00:00:00",
          "2022-03-09T00:00:00",
          "2022-03-16T00:00:00",
          "2022-03-23T00:00:00",
          "2022-03-30T00:00:00",
          "2022-04-06T00:00:00",
          "2022-04-13T00:00:00",
          "2022-04-20T00:00:00",
          "2022-04-27T00:00:00",
          "2022-05-04T00:00:00",
          "2022-05-11T00:00:00",
          "2022-05-18T00:00:00",
          "2022-05-25T00:00:00",
          "2022-06-01T00:00:00",
          "2022-06-08T00:00:00",
          "2022-06-15T00:00:00",
          "2022-06-22T00:00:00",
          "2022-06-29T00:00:00",
          "2022-07-06T00:00:00",
          "2022-07-13T00:00:00",
          "2022-07-20T00:00:00",
          "2022-07-27T00:00:00",
          "2022-08-03T00:00:00",
          "2022-08-10T00:00:00",
          "2022-08-17T00:00:00",
          "2022-08-24T00:00:00",
          "2022-08-31T00:00:00",
          "2022-09-07T00:00:00",
          "2022-09-14T00:00:00",
          "2022-09-21T00:00:00",
          "2022-09-28T00:00:00",
          "2022-10-05T00:00:00",
          "2022-10-12T00:00:00",
          "2022-10-19T00:00:00",
          "2022-10-26T00:00:00",
          "2022-11-02T00:00:00",
          "2022-11-09T00:00:00",
          "2022-11-16T00:00:00",
          "2022-11-23T00:00:00",
          "2022-11-30T00:00:00",
          "2022-12-07T00:00:00",
          "2022-12-14T00:00:00",
          "2022-12-21T00:00:00",
          "2022-12-28T00:00:00",
          "2023-01-04T00:00:00",
          "2023-01-11T00:00:00",
          "2023-01-18T00:00:00",
          "2023-01-25T00:00:00",
          "2023-02-01T00:00:00",
          "2023-02-08T00:00:00"
         ],
         "xaxis": "x",
         "y": [
          0,
          0.04734915368517279,
          0.05524067929936826,
          0.007891525614195465,
          0,
          0,
          0.05524067929936826,
          0.457708485623337,
          5.25575605905418,
          52.58912669299858,
          191.05383511967221,
          371.8960360945755,
          663.3616431292709,
          385.23271438256586,
          733.6909194029809,
          950.0055280136928,
          940.4646735461304,
          905.0553981152353,
          829.82548443511,
          589.5837701621574,
          416.1911693670546,
          272.58118623992556,
          239.50780239083238,
          280.78837287868885,
          299.7043597759154,
          361.9527138206892,
          435.65167153166067,
          527.4774635784391,
          586.4271599164792,
          663.5826058464683,
          682.5617249486085,
          756.9393538624007,
          730.8815362843272,
          856.2778782938932,
          692.1972777235411,
          709.5507425491569,
          752.954133427232,
          768.5793541433391,
          974.9664235313929,
          1348.36974101828,
          1693.434590024591,
          2342.8676904448066,
          3973.3436891193464,
          4684.82785544398,
          4474.116230019347,
          3686.0684821857885,
          3637.10945727532,
          3370.6126372839385,
          2825.071471574606,
          2197.742534399752,
          2306.724503131791,
          2627.2545990035687,
          2191.2241342424263,
          1813.314755629834,
          1385.8071385320231,
          1104.3400944505133,
          879.9129975084086,
          687.107243702385,
          683.958524982321,
          639.6160425561567,
          606.566333283906,
          700.4360304647611,
          866.8683056681435,
          1055.2784797070603,
          1257.5540642501185,
          1229.0183076291878,
          1064.6772867135671,
          1029.5284316279403,
          831.2459590456651,
          637.6984018319072,
          502.65072399618015,
          340.6298116111331,
          208.00483213896408,
          132.47504048549928,
          93.86969718085507,
          96.56070741529571,
          121.30064021579851,
          191.92190293723374,
          289.674230720273,
          491.5315644057788,
          712.6757866923783,
          1006.4220446295761,
          1233.1692501022544,
          1346.2469206280612,
          1475.6600491752527,
          1607.5116591372305,
          1478.5167814475915,
          1377.165917984479,
          1128.6538848678497,
          1062.9648256552866,
          997.6229935697482,
          871.4769566268337,
          814.5711654228702,
          849.2149628691883,
          1023.3020179183403,
          1303.0092517878843,
          1643.0787650804098,
          1597.6709266963287,
          2598.4110728836845,
          2843.8769771132343,
          3678.981892184241,
          5698.517995164231,
          8417.180135357026,
          11811.191146087054,
          11228.323064222577,
          9761.57254746575,
          5401.575669353284,
          2967.6555563718903,
          1769.6825105089474,
          1011.4331633945902,
          722.0903767501135,
          507.44088004399686,
          461.2359975728824,
          416.2464100463541,
          452.35013973129827,
          488.8800117994091,
          636.2069034908243,
          853.1212680482149,
          1126.649437361844,
          1424.2941089524545,
          1879.0117063680111,
          2274.51918710026,
          2173.9338016217243,
          1914.523571631891,
          974.2719692773438,
          0,
          0,
          0,
          0,
          0,
          0,
          0,
          0,
          0,
          0,
          0,
          0,
          0,
          1016.4837397876754,
          652.1556767571133,
          612.4691944433243,
          409.17560309603493,
          372.0223005044026,
          485.1552117095088,
          469.0012587772507,
          541.358657133809,
          530.0737755055095,
          478.37639120691495,
          557.836162616249,
          535.708324794045,
          650.1985784047928,
          965.3703283845313,
          330.733838490932,
          0.7812610358053511,
          12.847403699910219,
          42.511648483670974,
          66.72284906802267,
          70.4871067859939,
          0,
          0
         ],
         "yaxis": "y"
        },
        {
         "hovertemplate": "State=OH<br>date=%{x}<br>new_cases_norm_100K=%{y}<extra></extra>",
         "legendgroup": "OH",
         "line": {
          "color": "#EF553B",
          "dash": "solid"
         },
         "marker": {
          "symbol": "circle"
         },
         "mode": "lines",
         "name": "OH",
         "orientation": "v",
         "showlegend": true,
         "type": "scatter",
         "x": [
          "2020-01-22T00:00:00",
          "2020-01-29T00:00:00",
          "2020-02-05T00:00:00",
          "2020-02-12T00:00:00",
          "2020-02-19T00:00:00",
          "2020-02-26T00:00:00",
          "2020-03-04T00:00:00",
          "2020-03-11T00:00:00",
          "2020-03-18T00:00:00",
          "2020-03-25T00:00:00",
          "2020-04-01T00:00:00",
          "2020-04-08T00:00:00",
          "2020-04-15T00:00:00",
          "2020-04-22T00:00:00",
          "2020-04-29T00:00:00",
          "2020-05-06T00:00:00",
          "2020-05-13T00:00:00",
          "2020-05-20T00:00:00",
          "2020-05-27T00:00:00",
          "2020-06-03T00:00:00",
          "2020-06-10T00:00:00",
          "2020-06-17T00:00:00",
          "2020-06-24T00:00:00",
          "2020-07-01T00:00:00",
          "2020-07-08T00:00:00",
          "2020-07-15T00:00:00",
          "2020-07-22T00:00:00",
          "2020-07-29T00:00:00",
          "2020-08-05T00:00:00",
          "2020-08-12T00:00:00",
          "2020-08-19T00:00:00",
          "2020-08-26T00:00:00",
          "2020-09-02T00:00:00",
          "2020-09-09T00:00:00",
          "2020-09-16T00:00:00",
          "2020-09-23T00:00:00",
          "2020-09-30T00:00:00",
          "2020-10-07T00:00:00",
          "2020-10-14T00:00:00",
          "2020-10-21T00:00:00",
          "2020-10-28T00:00:00",
          "2020-11-04T00:00:00",
          "2020-11-11T00:00:00",
          "2020-11-18T00:00:00",
          "2020-11-25T00:00:00",
          "2020-12-02T00:00:00",
          "2020-12-09T00:00:00",
          "2020-12-16T00:00:00",
          "2020-12-23T00:00:00",
          "2020-12-30T00:00:00",
          "2021-01-06T00:00:00",
          "2021-01-13T00:00:00",
          "2021-01-20T00:00:00",
          "2021-01-27T00:00:00",
          "2021-02-03T00:00:00",
          "2021-02-10T00:00:00",
          "2021-02-17T00:00:00",
          "2021-02-24T00:00:00",
          "2021-03-03T00:00:00",
          "2021-03-10T00:00:00",
          "2021-03-17T00:00:00",
          "2021-03-24T00:00:00",
          "2021-03-31T00:00:00",
          "2021-04-07T00:00:00",
          "2021-04-14T00:00:00",
          "2021-04-21T00:00:00",
          "2021-04-28T00:00:00",
          "2021-05-05T00:00:00",
          "2021-05-12T00:00:00",
          "2021-05-19T00:00:00",
          "2021-05-26T00:00:00",
          "2021-06-02T00:00:00",
          "2021-06-09T00:00:00",
          "2021-06-16T00:00:00",
          "2021-06-23T00:00:00",
          "2021-06-30T00:00:00",
          "2021-07-07T00:00:00",
          "2021-07-14T00:00:00",
          "2021-07-21T00:00:00",
          "2021-07-28T00:00:00",
          "2021-08-04T00:00:00",
          "2021-08-11T00:00:00",
          "2021-08-18T00:00:00",
          "2021-08-25T00:00:00",
          "2021-09-01T00:00:00",
          "2021-09-08T00:00:00",
          "2021-09-15T00:00:00",
          "2021-09-22T00:00:00",
          "2021-09-29T00:00:00",
          "2021-10-06T00:00:00",
          "2021-10-13T00:00:00",
          "2021-10-20T00:00:00",
          "2021-10-27T00:00:00",
          "2021-11-03T00:00:00",
          "2021-11-10T00:00:00",
          "2021-11-17T00:00:00",
          "2021-11-24T00:00:00",
          "2021-12-01T00:00:00",
          "2021-12-08T00:00:00",
          "2021-12-15T00:00:00",
          "2021-12-22T00:00:00",
          "2021-12-29T00:00:00",
          "2022-01-05T00:00:00",
          "2022-01-12T00:00:00",
          "2022-01-19T00:00:00",
          "2022-01-26T00:00:00",
          "2022-02-02T00:00:00",
          "2022-02-09T00:00:00",
          "2022-02-16T00:00:00",
          "2022-02-23T00:00:00",
          "2022-03-02T00:00:00",
          "2022-03-09T00:00:00",
          "2022-03-16T00:00:00",
          "2022-03-23T00:00:00",
          "2022-03-30T00:00:00",
          "2022-04-06T00:00:00",
          "2022-04-13T00:00:00",
          "2022-04-20T00:00:00",
          "2022-04-27T00:00:00",
          "2022-05-04T00:00:00",
          "2022-05-11T00:00:00",
          "2022-05-18T00:00:00",
          "2022-05-25T00:00:00",
          "2022-06-01T00:00:00",
          "2022-06-08T00:00:00",
          "2022-06-15T00:00:00",
          "2022-06-22T00:00:00",
          "2022-06-29T00:00:00",
          "2022-07-06T00:00:00",
          "2022-07-13T00:00:00",
          "2022-07-20T00:00:00",
          "2022-07-27T00:00:00",
          "2022-08-03T00:00:00",
          "2022-08-10T00:00:00",
          "2022-08-17T00:00:00",
          "2022-08-24T00:00:00",
          "2022-08-31T00:00:00",
          "2022-09-07T00:00:00",
          "2022-09-14T00:00:00",
          "2022-09-21T00:00:00",
          "2022-09-28T00:00:00",
          "2022-10-05T00:00:00",
          "2022-10-12T00:00:00",
          "2022-10-19T00:00:00",
          "2022-10-26T00:00:00",
          "2022-11-02T00:00:00",
          "2022-11-09T00:00:00",
          "2022-11-16T00:00:00",
          "2022-11-23T00:00:00",
          "2022-11-30T00:00:00",
          "2022-12-07T00:00:00",
          "2022-12-14T00:00:00",
          "2022-12-21T00:00:00",
          "2022-12-28T00:00:00",
          "2023-01-04T00:00:00",
          "2023-01-11T00:00:00",
          "2023-01-18T00:00:00",
          "2023-01-25T00:00:00",
          "2023-02-01T00:00:00",
          "2023-02-08T00:00:00"
         ],
         "xaxis": "x",
         "y": [
          0,
          0,
          0,
          0,
          0,
          0,
          0,
          0.08554978569778683,
          2.3355091495495803,
          19.667895731921192,
          78.24383399919583,
          142.33773344397773,
          153.21111120616644,
          288.944401194275,
          271.0816059405771,
          233.35415044785313,
          253.5182349368215,
          229.89793910566254,
          236.68203711149704,
          213.3269456160012,
          180.0994088509808,
          164.54645781112316,
          221.76215448580302,
          320.0674132311299,
          399.94524813715344,
          510.29591670872867,
          561.3006989417491,
          556.0222771641957,
          534.8743701397028,
          466.1864472029498,
          445.07276009273596,
          392.84461592423713,
          447.9900077850305,
          479.90007785030497,
          425.03700028231424,
          410.1256726351901,
          396.54036666638143,
          486.2222070133714,
          590.7127152646483,
          779.2131130711518,
          962.4778639929508,
          1275.1623307183615,
          1886.227340000513,
          2620.056291758989,
          3096.662702859929,
          3935.683671112404,
          4082.9576271911437,
          4827.343422504727,
          3640.2631511408067,
          2911.8837207312795,
          3005.381081520391,
          3414.206397412974,
          2894.1663601132677,
          2294.077388336142,
          1896.758518619911,
          1456.6219811619374,
          1138.274118623333,
          889.7605461498318,
          813.9035511716044,
          687.6406224602408,
          617.1561540238342,
          661.2827334867526,
          706.3674705494863,
          787.9648561480353,
          863.4625420263322,
          821.2608327416139,
          670.8044246349164,
          606.2742212830757,
          536.5511459393795,
          439.2382647081469,
          369.87449846438136,
          276.12904329674654,
          172.86189698094807,
          133.320786031431,
          118.75165752709789,
          105.61121044391783,
          100.76909257342311,
          113.02837686391597,
          181.13456125792405,
          295.8482689000864,
          461.31866439674565,
          707.7961519706394,
          1039.1903568281562,
          1271.6633444833221,
          1781.5828421349804,
          2233.4910301049695,
          2891.2833323352525,
          2939.781505847328,
          2599.7125527200556,
          2372.475211949594,
          2223.2250558212354,
          1699.1983985080117,
          1633.2737336492971,
          1428.1852323959927,
          1600.0889717771256,
          1924.853068243064,
          2275.872393939653,
          2160.679607497583,
          3022.9102326098673,
          3109.512280671737,
          3878.3909796305957,
          4871.025143082017,
          7203.1807410322435,
          8097.586640545465,
          10112.010334414112,
          8799.745061638621,
          4478.770820679094,
          2268.3867876910967,
          1295.548844650144,
          758.6298346322642,
          516.7891454431907,
          390.9881855745951,
          251.5420348872026,
          157.4714905339162,
          219.65762975763747,
          185.82268951416276,
          229.23920575578958,
          287.9263587444714,
          412.6066164204259,
          522.8546252491637,
          659.5118529228084,
          956.361054315559,
          1169.9104293743744,
          1170.509277874259,
          1049.7814202975421,
          1092.7188577392615,
          968.2781394632606,
          967.679290963376,
          1031.5165410510647,
          1128.1108040824358,
          1465.0828549674482,
          1593.5358581926753,
          1789.1197782549555,
          1663.900556929105,
          1557.9642572995356,
          1441.2486846720449,
          1403.4613443293326,
          1513.8890077080357,
          1301.357675099024,
          1230.7534369626405,
          870.4861794321206,
          724.6665697102429,
          671.6855874276035,
          438.1004525583663,
          664.5421803218383,
          698.4370054153014,
          734.3080305583834,
          650.6488951245177,
          689.6510424241387,
          483.73270824956586,
          963.6071211641615,
          961.810575664508,
          1001.2148069569085,
          1071.3998511433729,
          781.3176377993173,
          832.0999905895236,
          610.1068516823366,
          476.7432907580567,
          488.36095165581617,
          0
         ],
         "yaxis": "y"
        },
        {
         "hovertemplate": "State=CA<br>date=%{x}<br>new_cases_norm_100K=%{y}<extra></extra>",
         "legendgroup": "CA",
         "line": {
          "color": "#00cc96",
          "dash": "solid"
         },
         "marker": {
          "symbol": "circle"
         },
         "mode": "lines",
         "name": "CA",
         "orientation": "v",
         "showlegend": true,
         "type": "scatter",
         "x": [
          "2020-01-22T00:00:00",
          "2020-01-29T00:00:00",
          "2020-02-05T00:00:00",
          "2020-02-12T00:00:00",
          "2020-02-19T00:00:00",
          "2020-02-26T00:00:00",
          "2020-03-04T00:00:00",
          "2020-03-11T00:00:00",
          "2020-03-18T00:00:00",
          "2020-03-25T00:00:00",
          "2020-04-01T00:00:00",
          "2020-04-08T00:00:00",
          "2020-04-15T00:00:00",
          "2020-04-22T00:00:00",
          "2020-04-29T00:00:00",
          "2020-05-06T00:00:00",
          "2020-05-13T00:00:00",
          "2020-05-20T00:00:00",
          "2020-05-27T00:00:00",
          "2020-06-03T00:00:00",
          "2020-06-10T00:00:00",
          "2020-06-17T00:00:00",
          "2020-06-24T00:00:00",
          "2020-07-01T00:00:00",
          "2020-07-08T00:00:00",
          "2020-07-15T00:00:00",
          "2020-07-22T00:00:00",
          "2020-07-29T00:00:00",
          "2020-08-05T00:00:00",
          "2020-08-12T00:00:00",
          "2020-08-19T00:00:00",
          "2020-08-26T00:00:00",
          "2020-09-02T00:00:00",
          "2020-09-09T00:00:00",
          "2020-09-16T00:00:00",
          "2020-09-23T00:00:00",
          "2020-09-30T00:00:00",
          "2020-10-07T00:00:00",
          "2020-10-14T00:00:00",
          "2020-10-21T00:00:00",
          "2020-10-28T00:00:00",
          "2020-11-04T00:00:00",
          "2020-11-11T00:00:00",
          "2020-11-18T00:00:00",
          "2020-11-25T00:00:00",
          "2020-12-02T00:00:00",
          "2020-12-09T00:00:00",
          "2020-12-16T00:00:00",
          "2020-12-23T00:00:00",
          "2020-12-30T00:00:00",
          "2021-01-06T00:00:00",
          "2021-01-13T00:00:00",
          "2021-01-20T00:00:00",
          "2021-01-27T00:00:00",
          "2021-02-03T00:00:00",
          "2021-02-10T00:00:00",
          "2021-02-17T00:00:00",
          "2021-02-24T00:00:00",
          "2021-03-03T00:00:00",
          "2021-03-10T00:00:00",
          "2021-03-17T00:00:00",
          "2021-03-24T00:00:00",
          "2021-03-31T00:00:00",
          "2021-04-07T00:00:00",
          "2021-04-14T00:00:00",
          "2021-04-21T00:00:00",
          "2021-04-28T00:00:00",
          "2021-05-05T00:00:00",
          "2021-05-12T00:00:00",
          "2021-05-19T00:00:00",
          "2021-05-26T00:00:00",
          "2021-06-02T00:00:00",
          "2021-06-09T00:00:00",
          "2021-06-16T00:00:00",
          "2021-06-23T00:00:00",
          "2021-06-30T00:00:00",
          "2021-07-07T00:00:00",
          "2021-07-14T00:00:00",
          "2021-07-21T00:00:00",
          "2021-07-28T00:00:00",
          "2021-08-04T00:00:00",
          "2021-08-11T00:00:00",
          "2021-08-18T00:00:00",
          "2021-08-25T00:00:00",
          "2021-09-01T00:00:00",
          "2021-09-08T00:00:00",
          "2021-09-15T00:00:00",
          "2021-09-22T00:00:00",
          "2021-09-29T00:00:00",
          "2021-10-06T00:00:00",
          "2021-10-13T00:00:00",
          "2021-10-20T00:00:00",
          "2021-10-27T00:00:00",
          "2021-11-03T00:00:00",
          "2021-11-10T00:00:00",
          "2021-11-17T00:00:00",
          "2021-11-24T00:00:00",
          "2021-12-01T00:00:00",
          "2021-12-08T00:00:00",
          "2021-12-15T00:00:00",
          "2021-12-22T00:00:00",
          "2021-12-29T00:00:00",
          "2022-01-05T00:00:00",
          "2022-01-12T00:00:00",
          "2022-01-19T00:00:00",
          "2022-01-26T00:00:00",
          "2022-02-02T00:00:00",
          "2022-02-09T00:00:00",
          "2022-02-16T00:00:00",
          "2022-02-23T00:00:00",
          "2022-03-02T00:00:00",
          "2022-03-09T00:00:00",
          "2022-03-16T00:00:00",
          "2022-03-23T00:00:00",
          "2022-03-30T00:00:00",
          "2022-04-06T00:00:00",
          "2022-04-13T00:00:00",
          "2022-04-20T00:00:00",
          "2022-04-27T00:00:00",
          "2022-05-04T00:00:00",
          "2022-05-11T00:00:00",
          "2022-05-18T00:00:00",
          "2022-05-25T00:00:00",
          "2022-06-01T00:00:00",
          "2022-06-08T00:00:00",
          "2022-06-15T00:00:00",
          "2022-06-22T00:00:00",
          "2022-06-29T00:00:00",
          "2022-07-06T00:00:00",
          "2022-07-13T00:00:00",
          "2022-07-20T00:00:00",
          "2022-07-27T00:00:00",
          "2022-08-03T00:00:00",
          "2022-08-10T00:00:00",
          "2022-08-17T00:00:00",
          "2022-08-24T00:00:00",
          "2022-08-31T00:00:00",
          "2022-09-07T00:00:00",
          "2022-09-14T00:00:00",
          "2022-09-21T00:00:00",
          "2022-09-28T00:00:00",
          "2022-10-05T00:00:00",
          "2022-10-12T00:00:00",
          "2022-10-19T00:00:00",
          "2022-10-26T00:00:00",
          "2022-11-02T00:00:00",
          "2022-11-09T00:00:00",
          "2022-11-16T00:00:00",
          "2022-11-23T00:00:00",
          "2022-11-30T00:00:00",
          "2022-12-07T00:00:00",
          "2022-12-14T00:00:00",
          "2022-12-21T00:00:00",
          "2022-12-28T00:00:00",
          "2023-01-04T00:00:00",
          "2023-01-11T00:00:00",
          "2023-01-18T00:00:00",
          "2023-01-25T00:00:00",
          "2023-02-01T00:00:00",
          "2023-02-08T00:00:00"
         ],
         "xaxis": "x",
         "y": [
          0,
          11.563510359819542,
          0,
          0,
          0.9996906526873975,
          1.9310480202543907,
          4.92505825349285,
          14.777705622890416,
          51.71564252408679,
          93.72795856107615,
          116.29818955010452,
          155.93402578235094,
          164.61235299264231,
          178.94462683104413,
          207.69269296743946,
          233.69477338695924,
          254.17451202378564,
          269.1875878509797,
          282.49486241257546,
          349.704444622111,
          401.3897167972554,
          484.93601587539126,
          737.627442525823,
          1019.0821204871211,
          1120.1192096936686,
          1249.9397971103779,
          1232.3857354216696,
          1044.6919172328016,
          875.7492586534552,
          751.2181736775478,
          646.5341117355002,
          547.5571445322122,
          497.00569871758415,
          429.6771659746909,
          382.9169520530394,
          405.5327385654814,
          406.3502071245143,
          412.67230142935773,
          425.7062428504718,
          445.95567300781835,
          504.00606414880787,
          606.3819795712329,
          926.2298403205509,
          1295.1156911622006,
          1876.1662688530585,
          2195.320673301525,
          3522.770662637736,
          4460.541235556399,
          4948.840767577162,
          4466.658330005882,
          5034.8015093962185,
          5171.921104008752,
          3790.1107209280535,
          2623.393272507092,
          1816.326557986879,
          1289.2390286418458,
          831.4996602443755,
          562.2412082458636,
          434.58197732888885,
          360.20499276894645,
          313.442247984883,
          278.3062851209359,
          275.46159576999753,
          270.83011755628127,
          278.2075814868731,
          260.04358195690486,
          227.31700010905487,
          203.33960961902852,
          181.41727940743803,
          151.39618947787372,
          127.1505275721895,
          108.32597295272403,
          105.68122173232318,
          106.73152963324793,
          117.50541092056503,
          150.7558812876714,
          226.7728646905035,
          392.48867369471975,
          633.2572075228468,
          928.016629183329,
          1215.818710073589,
          1346.1024453116697,
          1322.9804863168545,
          1304.9809928436575,
          1674.0667818158447,
          1263.6747874195792,
          1201.038473588287,
          998.3037400856945,
          914.1323179918274,
          780.6242640410285,
          688.5818598462556,
          682.8190861344349,
          628.8155439900205,
          766.2970519274504,
          671.7415013576938,
          590.9892743822588,
          572.2583616720325,
          541.5109142302624,
          765.942731189789,
          758.0287244278815,
          1095.559720848913,
          2403.580279449223,
          5973.166834981671,
          12979.950533281813,
          13379.01944924739,
          10964.796893356266,
          6797.557302711113,
          3522.9781933555096,
          2451.370554372504,
          1301.3719830443354,
          954.2717958440354,
          567.194105985887,
          423.11210887830833,
          440.9698740564407,
          380.12034908792657,
          320.36415668133884,
          340.201056265551,
          452.33091542331096,
          624.1359793904787,
          852.1717444245038,
          935.25742654368,
          1132.0471642407972,
          1558.7859989553108,
          1965.118490042942,
          1270.0095360364817,
          2202.5969027356423,
          2264.1272296929483,
          1851.1512247741668,
          2650.936648135439,
          1720.621995882135,
          2474.6797971857973,
          1853.3885071462569,
          2070.207489970888,
          1502.5072115026278,
          1324.7394356931018,
          1167.1628802054495,
          961.3607414596744,
          641.158559972695,
          432.1371642390255,
          519.9454356187451,
          800.0688799514013,
          281.4850483102406,
          381.4363975420973,
          554.7701024060327,
          309.59533711884546,
          225.63144574275157,
          423.90426881322264,
          643.6134965122059,
          488.44379117823865,
          735.9798510956977,
          970.4389449310407,
          921.1579920471698,
          1467.0270513506669,
          1139.5511712919822,
          335.7771087696078,
          937.9983505357317,
          780.7229676750912,
          390.6462058588807,
          267.4387619243797,
          0
         ],
         "yaxis": "y"
        },
        {
         "hovertemplate": "State=CO<br>date=%{x}<br>new_cases_norm_100K=%{y}<extra></extra>",
         "legendgroup": "CO",
         "line": {
          "color": "#ab63fa",
          "dash": "solid"
         },
         "marker": {
          "symbol": "circle"
         },
         "mode": "lines",
         "name": "CO",
         "orientation": "v",
         "showlegend": true,
         "type": "scatter",
         "x": [
          "2020-01-22T00:00:00",
          "2020-01-29T00:00:00",
          "2020-02-05T00:00:00",
          "2020-02-12T00:00:00",
          "2020-02-19T00:00:00",
          "2020-02-26T00:00:00",
          "2020-03-04T00:00:00",
          "2020-03-11T00:00:00",
          "2020-03-18T00:00:00",
          "2020-03-25T00:00:00",
          "2020-04-01T00:00:00",
          "2020-04-08T00:00:00",
          "2020-04-15T00:00:00",
          "2020-04-22T00:00:00",
          "2020-04-29T00:00:00",
          "2020-05-06T00:00:00",
          "2020-05-13T00:00:00",
          "2020-05-20T00:00:00",
          "2020-05-27T00:00:00",
          "2020-06-03T00:00:00",
          "2020-06-10T00:00:00",
          "2020-06-17T00:00:00",
          "2020-06-24T00:00:00",
          "2020-07-01T00:00:00",
          "2020-07-08T00:00:00",
          "2020-07-15T00:00:00",
          "2020-07-22T00:00:00",
          "2020-07-29T00:00:00",
          "2020-08-05T00:00:00",
          "2020-08-12T00:00:00",
          "2020-08-19T00:00:00",
          "2020-08-26T00:00:00",
          "2020-09-02T00:00:00",
          "2020-09-09T00:00:00",
          "2020-09-16T00:00:00",
          "2020-09-23T00:00:00",
          "2020-09-30T00:00:00",
          "2020-10-07T00:00:00",
          "2020-10-14T00:00:00",
          "2020-10-21T00:00:00",
          "2020-10-28T00:00:00",
          "2020-11-04T00:00:00",
          "2020-11-11T00:00:00",
          "2020-11-18T00:00:00",
          "2020-11-25T00:00:00",
          "2020-12-02T00:00:00",
          "2020-12-09T00:00:00",
          "2020-12-16T00:00:00",
          "2020-12-23T00:00:00",
          "2020-12-30T00:00:00",
          "2021-01-06T00:00:00",
          "2021-01-13T00:00:00",
          "2021-01-20T00:00:00",
          "2021-01-27T00:00:00",
          "2021-02-03T00:00:00",
          "2021-02-10T00:00:00",
          "2021-02-17T00:00:00",
          "2021-02-24T00:00:00",
          "2021-03-03T00:00:00",
          "2021-03-10T00:00:00",
          "2021-03-17T00:00:00",
          "2021-03-24T00:00:00",
          "2021-03-31T00:00:00",
          "2021-04-07T00:00:00",
          "2021-04-14T00:00:00",
          "2021-04-21T00:00:00",
          "2021-04-28T00:00:00",
          "2021-05-05T00:00:00",
          "2021-05-12T00:00:00",
          "2021-05-19T00:00:00",
          "2021-05-26T00:00:00",
          "2021-06-02T00:00:00",
          "2021-06-09T00:00:00",
          "2021-06-16T00:00:00",
          "2021-06-23T00:00:00",
          "2021-06-30T00:00:00",
          "2021-07-07T00:00:00",
          "2021-07-14T00:00:00",
          "2021-07-21T00:00:00",
          "2021-07-28T00:00:00",
          "2021-08-04T00:00:00",
          "2021-08-11T00:00:00",
          "2021-08-18T00:00:00",
          "2021-08-25T00:00:00",
          "2021-09-01T00:00:00",
          "2021-09-08T00:00:00",
          "2021-09-15T00:00:00",
          "2021-09-22T00:00:00",
          "2021-09-29T00:00:00",
          "2021-10-06T00:00:00",
          "2021-10-13T00:00:00",
          "2021-10-20T00:00:00",
          "2021-10-27T00:00:00",
          "2021-11-03T00:00:00",
          "2021-11-10T00:00:00",
          "2021-11-17T00:00:00",
          "2021-11-24T00:00:00",
          "2021-12-01T00:00:00",
          "2021-12-08T00:00:00",
          "2021-12-15T00:00:00",
          "2021-12-22T00:00:00",
          "2021-12-29T00:00:00",
          "2022-01-05T00:00:00",
          "2022-01-12T00:00:00",
          "2022-01-19T00:00:00",
          "2022-01-26T00:00:00",
          "2022-02-02T00:00:00",
          "2022-02-09T00:00:00",
          "2022-02-16T00:00:00",
          "2022-02-23T00:00:00",
          "2022-03-02T00:00:00",
          "2022-03-09T00:00:00",
          "2022-03-16T00:00:00",
          "2022-03-23T00:00:00",
          "2022-03-30T00:00:00",
          "2022-04-06T00:00:00",
          "2022-04-13T00:00:00",
          "2022-04-20T00:00:00",
          "2022-04-27T00:00:00",
          "2022-05-04T00:00:00",
          "2022-05-11T00:00:00",
          "2022-05-18T00:00:00",
          "2022-05-25T00:00:00",
          "2022-06-01T00:00:00",
          "2022-06-08T00:00:00",
          "2022-06-15T00:00:00",
          "2022-06-22T00:00:00",
          "2022-06-29T00:00:00",
          "2022-07-06T00:00:00",
          "2022-07-13T00:00:00",
          "2022-07-20T00:00:00",
          "2022-07-27T00:00:00",
          "2022-08-03T00:00:00",
          "2022-08-10T00:00:00",
          "2022-08-17T00:00:00",
          "2022-08-24T00:00:00",
          "2022-08-31T00:00:00",
          "2022-09-07T00:00:00",
          "2022-09-14T00:00:00",
          "2022-09-21T00:00:00",
          "2022-09-28T00:00:00",
          "2022-10-05T00:00:00",
          "2022-10-12T00:00:00",
          "2022-10-19T00:00:00",
          "2022-10-26T00:00:00",
          "2022-11-02T00:00:00",
          "2022-11-09T00:00:00",
          "2022-11-16T00:00:00",
          "2022-11-23T00:00:00",
          "2022-11-30T00:00:00",
          "2022-12-07T00:00:00",
          "2022-12-14T00:00:00",
          "2022-12-21T00:00:00",
          "2022-12-28T00:00:00",
          "2023-01-04T00:00:00",
          "2023-01-11T00:00:00",
          "2023-01-18T00:00:00",
          "2023-01-25T00:00:00",
          "2023-02-01T00:00:00",
          "2023-02-08T00:00:00"
         ],
         "xaxis": "x",
         "y": [
          0,
          0,
          0,
          0,
          0,
          0,
          0,
          1.2676392875103148,
          13.17997560575793,
          61.00297009621556,
          192.6464418580744,
          289.8552737961941,
          254.2224543719316,
          361.4855760014003,
          420.5089450184902,
          395.03460481605686,
          367.68485306497814,
          292.47737697994836,
          265.42282889856386,
          272.21251330153007,
          211.92150499692988,
          141.68039653146107,
          168.63075508236528,
          210.58440602243272,
          226.9768921513332,
          336.375899155648,
          399.0459017395484,
          482.7448245587226,
          421.255636653599,
          368.13634103039277,
          297.35691999077574,
          248.31838097804797,
          253.84042609350385,
          226.66432355989232,
          273.2544086063331,
          430.80634361429316,
          495.85534047749366,
          485.6447664904243,
          653.8587634508683,
          854.9098274343537,
          1196.113174835589,
          1714.9770366274822,
          2683.227708302655,
          3836.7273651718015,
          4223.8435656713555,
          3804.185501818454,
          3816.775070084824,
          3313.5743677084697,
          2559.207437187605,
          2000.873108265425,
          1963.8684600231718,
          2321.047535431386,
          1723.6421325790939,
          1379.3130992634494,
          1195.001819843799,
          1082.563951533809,
          1057.5237343750434,
          866.162296726226,
          954.46292380828,
          968.3027664404133,
          839.2293030970685,
          830.928870502138,
          1013.0348048599554,
          1151.919448990195,
          1312.4407856168439,
          1384.5399407092111,
          1435.0718629921566,
          1424.8265591615939,
          1158.7438632366548,
          1024.4088286040546,
          724.9854829254198,
          621.7857529846827,
          499.15467560936986,
          493.5284409634337,
          357.9604968868168,
          349.0522920307512,
          333.7190661284004,
          381.663615071085,
          416.37609364277165,
          496.89723578229666,
          737.7834302527499,
          778.3826172965735,
          1048.598164597231,
          1211.8110640946206,
          1354.0645030437236,
          1451.4296192775637,
          1646.4897852584318,
          1624.6620786228088,
          1480.27275429886,
          1627.0063430586156,
          1870.7230197737838,
          1640.9156453777357,
          1834.1351296534517,
          3447.3537248451744,
          2543.8221165200143,
          2680.970268475582,
          2583.1189344328336,
          1906.0606355283521,
          2087.697716999008,
          1661.7882813172891,
          1849.1210571208683,
          3350.7005704029493,
          7292.190508472693,
          11895.33605985758,
          10871.79547734086,
          7722.580093965064,
          5210.501054398049,
          2784.413107320773,
          1736.9610275588254,
          1587.7963497545295,
          1010.117498006507,
          869.3574423276219,
          781.1436398543013,
          847.7902095181998,
          976.6205639570907,
          1144.157328969413,
          1055.8567018873587,
          1093.8511506691746,
          1096.160685261488,
          794.5840892862601,
          1388.9332659111305,
          1797.1652112546922,
          1290.2484156245398,
          406.0786950469687,
          0,
          1195.0365496872926,
          8079.811264138519,
          2607.082526443303,
          1436.7909902450815,
          2416.728254255795,
          1713.2579093745571,
          1808.747614059752,
          1136.6209529313376,
          1019.7029348106946,
          813.5465838336747,
          718.6299215661214,
          783.2968901508943,
          750.3729985191195,
          588.1672644830393,
          622.1330514196171,
          506.74314641268495,
          525.4104372904054,
          379.0241469655841,
          621.525279158482,
          550.1728157012233,
          483.6478004895519,
          298.2772608433517,
          778.1568733138661,
          887.2606766484867,
          922.0252499854136,
          602.215486176133,
          932.4442030334435,
          732.1224657633203,
          0,
          1366.2720430316654,
          585.8924597342194,
          393.0723686586778,
          339.58840967879064,
          278.0123971649334,
          0
         ],
         "yaxis": "y"
        }
       ],
       "layout": {
        "legend": {
         "title": {
          "text": "State"
         },
         "tracegroupgap": 0
        },
        "template": {
         "data": {
          "bar": [
           {
            "error_x": {
             "color": "#2a3f5f"
            },
            "error_y": {
             "color": "#2a3f5f"
            },
            "marker": {
             "line": {
              "color": "#E5ECF6",
              "width": 0.5
             },
             "pattern": {
              "fillmode": "overlay",
              "size": 10,
              "solidity": 0.2
             }
            },
            "type": "bar"
           }
          ],
          "barpolar": [
           {
            "marker": {
             "line": {
              "color": "#E5ECF6",
              "width": 0.5
             },
             "pattern": {
              "fillmode": "overlay",
              "size": 10,
              "solidity": 0.2
             }
            },
            "type": "barpolar"
           }
          ],
          "carpet": [
           {
            "aaxis": {
             "endlinecolor": "#2a3f5f",
             "gridcolor": "white",
             "linecolor": "white",
             "minorgridcolor": "white",
             "startlinecolor": "#2a3f5f"
            },
            "baxis": {
             "endlinecolor": "#2a3f5f",
             "gridcolor": "white",
             "linecolor": "white",
             "minorgridcolor": "white",
             "startlinecolor": "#2a3f5f"
            },
            "type": "carpet"
           }
          ],
          "choropleth": [
           {
            "colorbar": {
             "outlinewidth": 0,
             "ticks": ""
            },
            "type": "choropleth"
           }
          ],
          "contour": [
           {
            "colorbar": {
             "outlinewidth": 0,
             "ticks": ""
            },
            "colorscale": [
             [
              0,
              "#0d0887"
             ],
             [
              0.1111111111111111,
              "#46039f"
             ],
             [
              0.2222222222222222,
              "#7201a8"
             ],
             [
              0.3333333333333333,
              "#9c179e"
             ],
             [
              0.4444444444444444,
              "#bd3786"
             ],
             [
              0.5555555555555556,
              "#d8576b"
             ],
             [
              0.6666666666666666,
              "#ed7953"
             ],
             [
              0.7777777777777778,
              "#fb9f3a"
             ],
             [
              0.8888888888888888,
              "#fdca26"
             ],
             [
              1,
              "#f0f921"
             ]
            ],
            "type": "contour"
           }
          ],
          "contourcarpet": [
           {
            "colorbar": {
             "outlinewidth": 0,
             "ticks": ""
            },
            "type": "contourcarpet"
           }
          ],
          "heatmap": [
           {
            "colorbar": {
             "outlinewidth": 0,
             "ticks": ""
            },
            "colorscale": [
             [
              0,
              "#0d0887"
             ],
             [
              0.1111111111111111,
              "#46039f"
             ],
             [
              0.2222222222222222,
              "#7201a8"
             ],
             [
              0.3333333333333333,
              "#9c179e"
             ],
             [
              0.4444444444444444,
              "#bd3786"
             ],
             [
              0.5555555555555556,
              "#d8576b"
             ],
             [
              0.6666666666666666,
              "#ed7953"
             ],
             [
              0.7777777777777778,
              "#fb9f3a"
             ],
             [
              0.8888888888888888,
              "#fdca26"
             ],
             [
              1,
              "#f0f921"
             ]
            ],
            "type": "heatmap"
           }
          ],
          "heatmapgl": [
           {
            "colorbar": {
             "outlinewidth": 0,
             "ticks": ""
            },
            "colorscale": [
             [
              0,
              "#0d0887"
             ],
             [
              0.1111111111111111,
              "#46039f"
             ],
             [
              0.2222222222222222,
              "#7201a8"
             ],
             [
              0.3333333333333333,
              "#9c179e"
             ],
             [
              0.4444444444444444,
              "#bd3786"
             ],
             [
              0.5555555555555556,
              "#d8576b"
             ],
             [
              0.6666666666666666,
              "#ed7953"
             ],
             [
              0.7777777777777778,
              "#fb9f3a"
             ],
             [
              0.8888888888888888,
              "#fdca26"
             ],
             [
              1,
              "#f0f921"
             ]
            ],
            "type": "heatmapgl"
           }
          ],
          "histogram": [
           {
            "marker": {
             "pattern": {
              "fillmode": "overlay",
              "size": 10,
              "solidity": 0.2
             }
            },
            "type": "histogram"
           }
          ],
          "histogram2d": [
           {
            "colorbar": {
             "outlinewidth": 0,
             "ticks": ""
            },
            "colorscale": [
             [
              0,
              "#0d0887"
             ],
             [
              0.1111111111111111,
              "#46039f"
             ],
             [
              0.2222222222222222,
              "#7201a8"
             ],
             [
              0.3333333333333333,
              "#9c179e"
             ],
             [
              0.4444444444444444,
              "#bd3786"
             ],
             [
              0.5555555555555556,
              "#d8576b"
             ],
             [
              0.6666666666666666,
              "#ed7953"
             ],
             [
              0.7777777777777778,
              "#fb9f3a"
             ],
             [
              0.8888888888888888,
              "#fdca26"
             ],
             [
              1,
              "#f0f921"
             ]
            ],
            "type": "histogram2d"
           }
          ],
          "histogram2dcontour": [
           {
            "colorbar": {
             "outlinewidth": 0,
             "ticks": ""
            },
            "colorscale": [
             [
              0,
              "#0d0887"
             ],
             [
              0.1111111111111111,
              "#46039f"
             ],
             [
              0.2222222222222222,
              "#7201a8"
             ],
             [
              0.3333333333333333,
              "#9c179e"
             ],
             [
              0.4444444444444444,
              "#bd3786"
             ],
             [
              0.5555555555555556,
              "#d8576b"
             ],
             [
              0.6666666666666666,
              "#ed7953"
             ],
             [
              0.7777777777777778,
              "#fb9f3a"
             ],
             [
              0.8888888888888888,
              "#fdca26"
             ],
             [
              1,
              "#f0f921"
             ]
            ],
            "type": "histogram2dcontour"
           }
          ],
          "mesh3d": [
           {
            "colorbar": {
             "outlinewidth": 0,
             "ticks": ""
            },
            "type": "mesh3d"
           }
          ],
          "parcoords": [
           {
            "line": {
             "colorbar": {
              "outlinewidth": 0,
              "ticks": ""
             }
            },
            "type": "parcoords"
           }
          ],
          "pie": [
           {
            "automargin": true,
            "type": "pie"
           }
          ],
          "scatter": [
           {
            "fillpattern": {
             "fillmode": "overlay",
             "size": 10,
             "solidity": 0.2
            },
            "type": "scatter"
           }
          ],
          "scatter3d": [
           {
            "line": {
             "colorbar": {
              "outlinewidth": 0,
              "ticks": ""
             }
            },
            "marker": {
             "colorbar": {
              "outlinewidth": 0,
              "ticks": ""
             }
            },
            "type": "scatter3d"
           }
          ],
          "scattercarpet": [
           {
            "marker": {
             "colorbar": {
              "outlinewidth": 0,
              "ticks": ""
             }
            },
            "type": "scattercarpet"
           }
          ],
          "scattergeo": [
           {
            "marker": {
             "colorbar": {
              "outlinewidth": 0,
              "ticks": ""
             }
            },
            "type": "scattergeo"
           }
          ],
          "scattergl": [
           {
            "marker": {
             "colorbar": {
              "outlinewidth": 0,
              "ticks": ""
             }
            },
            "type": "scattergl"
           }
          ],
          "scattermapbox": [
           {
            "marker": {
             "colorbar": {
              "outlinewidth": 0,
              "ticks": ""
             }
            },
            "type": "scattermapbox"
           }
          ],
          "scatterpolar": [
           {
            "marker": {
             "colorbar": {
              "outlinewidth": 0,
              "ticks": ""
             }
            },
            "type": "scatterpolar"
           }
          ],
          "scatterpolargl": [
           {
            "marker": {
             "colorbar": {
              "outlinewidth": 0,
              "ticks": ""
             }
            },
            "type": "scatterpolargl"
           }
          ],
          "scatterternary": [
           {
            "marker": {
             "colorbar": {
              "outlinewidth": 0,
              "ticks": ""
             }
            },
            "type": "scatterternary"
           }
          ],
          "surface": [
           {
            "colorbar": {
             "outlinewidth": 0,
             "ticks": ""
            },
            "colorscale": [
             [
              0,
              "#0d0887"
             ],
             [
              0.1111111111111111,
              "#46039f"
             ],
             [
              0.2222222222222222,
              "#7201a8"
             ],
             [
              0.3333333333333333,
              "#9c179e"
             ],
             [
              0.4444444444444444,
              "#bd3786"
             ],
             [
              0.5555555555555556,
              "#d8576b"
             ],
             [
              0.6666666666666666,
              "#ed7953"
             ],
             [
              0.7777777777777778,
              "#fb9f3a"
             ],
             [
              0.8888888888888888,
              "#fdca26"
             ],
             [
              1,
              "#f0f921"
             ]
            ],
            "type": "surface"
           }
          ],
          "table": [
           {
            "cells": {
             "fill": {
              "color": "#EBF0F8"
             },
             "line": {
              "color": "white"
             }
            },
            "header": {
             "fill": {
              "color": "#C8D4E3"
             },
             "line": {
              "color": "white"
             }
            },
            "type": "table"
           }
          ]
         },
         "layout": {
          "annotationdefaults": {
           "arrowcolor": "#2a3f5f",
           "arrowhead": 0,
           "arrowwidth": 1
          },
          "autotypenumbers": "strict",
          "coloraxis": {
           "colorbar": {
            "outlinewidth": 0,
            "ticks": ""
           }
          },
          "colorscale": {
           "diverging": [
            [
             0,
             "#8e0152"
            ],
            [
             0.1,
             "#c51b7d"
            ],
            [
             0.2,
             "#de77ae"
            ],
            [
             0.3,
             "#f1b6da"
            ],
            [
             0.4,
             "#fde0ef"
            ],
            [
             0.5,
             "#f7f7f7"
            ],
            [
             0.6,
             "#e6f5d0"
            ],
            [
             0.7,
             "#b8e186"
            ],
            [
             0.8,
             "#7fbc41"
            ],
            [
             0.9,
             "#4d9221"
            ],
            [
             1,
             "#276419"
            ]
           ],
           "sequential": [
            [
             0,
             "#0d0887"
            ],
            [
             0.1111111111111111,
             "#46039f"
            ],
            [
             0.2222222222222222,
             "#7201a8"
            ],
            [
             0.3333333333333333,
             "#9c179e"
            ],
            [
             0.4444444444444444,
             "#bd3786"
            ],
            [
             0.5555555555555556,
             "#d8576b"
            ],
            [
             0.6666666666666666,
             "#ed7953"
            ],
            [
             0.7777777777777778,
             "#fb9f3a"
            ],
            [
             0.8888888888888888,
             "#fdca26"
            ],
            [
             1,
             "#f0f921"
            ]
           ],
           "sequentialminus": [
            [
             0,
             "#0d0887"
            ],
            [
             0.1111111111111111,
             "#46039f"
            ],
            [
             0.2222222222222222,
             "#7201a8"
            ],
            [
             0.3333333333333333,
             "#9c179e"
            ],
            [
             0.4444444444444444,
             "#bd3786"
            ],
            [
             0.5555555555555556,
             "#d8576b"
            ],
            [
             0.6666666666666666,
             "#ed7953"
            ],
            [
             0.7777777777777778,
             "#fb9f3a"
            ],
            [
             0.8888888888888888,
             "#fdca26"
            ],
            [
             1,
             "#f0f921"
            ]
           ]
          },
          "colorway": [
           "#636efa",
           "#EF553B",
           "#00cc96",
           "#ab63fa",
           "#FFA15A",
           "#19d3f3",
           "#FF6692",
           "#B6E880",
           "#FF97FF",
           "#FECB52"
          ],
          "font": {
           "color": "#2a3f5f"
          },
          "geo": {
           "bgcolor": "white",
           "lakecolor": "white",
           "landcolor": "#E5ECF6",
           "showlakes": true,
           "showland": true,
           "subunitcolor": "white"
          },
          "hoverlabel": {
           "align": "left"
          },
          "hovermode": "closest",
          "mapbox": {
           "style": "light"
          },
          "paper_bgcolor": "white",
          "plot_bgcolor": "#E5ECF6",
          "polar": {
           "angularaxis": {
            "gridcolor": "white",
            "linecolor": "white",
            "ticks": ""
           },
           "bgcolor": "#E5ECF6",
           "radialaxis": {
            "gridcolor": "white",
            "linecolor": "white",
            "ticks": ""
           }
          },
          "scene": {
           "xaxis": {
            "backgroundcolor": "#E5ECF6",
            "gridcolor": "white",
            "gridwidth": 2,
            "linecolor": "white",
            "showbackground": true,
            "ticks": "",
            "zerolinecolor": "white"
           },
           "yaxis": {
            "backgroundcolor": "#E5ECF6",
            "gridcolor": "white",
            "gridwidth": 2,
            "linecolor": "white",
            "showbackground": true,
            "ticks": "",
            "zerolinecolor": "white"
           },
           "zaxis": {
            "backgroundcolor": "#E5ECF6",
            "gridcolor": "white",
            "gridwidth": 2,
            "linecolor": "white",
            "showbackground": true,
            "ticks": "",
            "zerolinecolor": "white"
           }
          },
          "shapedefaults": {
           "line": {
            "color": "#2a3f5f"
           }
          },
          "ternary": {
           "aaxis": {
            "gridcolor": "white",
            "linecolor": "white",
            "ticks": ""
           },
           "baxis": {
            "gridcolor": "white",
            "linecolor": "white",
            "ticks": ""
           },
           "bgcolor": "#E5ECF6",
           "caxis": {
            "gridcolor": "white",
            "linecolor": "white",
            "ticks": ""
           }
          },
          "title": {
           "x": 0.05
          },
          "xaxis": {
           "automargin": true,
           "gridcolor": "white",
           "linecolor": "white",
           "ticks": "",
           "title": {
            "standoff": 15
           },
           "zerolinecolor": "white",
           "zerolinewidth": 2
          },
          "yaxis": {
           "automargin": true,
           "gridcolor": "white",
           "linecolor": "white",
           "ticks": "",
           "title": {
            "standoff": 15
           },
           "zerolinecolor": "white",
           "zerolinewidth": 2
          }
         }
        },
        "title": {
         "text": "Cases per 100K"
        },
        "xaxis": {
         "anchor": "y",
         "domain": [
          0,
          1
         ],
         "title": {
          "text": "Weekly cases"
         }
        },
        "yaxis": {
         "anchor": "x",
         "domain": [
          0,
          1
         ],
         "title": {
          "text": "Number of cases per 100,000"
         }
        }
       }
      },
      "text/html": [
       "<div>                            <div id=\"533e5f06-377d-4692-90dc-6bc06a5d23f2\" class=\"plotly-graph-div\" style=\"height:525px; width:100%;\"></div>            <script type=\"text/javascript\">                require([\"plotly\"], function(Plotly) {                    window.PLOTLYENV=window.PLOTLYENV || {};                                    if (document.getElementById(\"533e5f06-377d-4692-90dc-6bc06a5d23f2\")) {                    Plotly.newPlot(                        \"533e5f06-377d-4692-90dc-6bc06a5d23f2\",                        [{\"hovertemplate\":\"State=IL<br>date=%{x}<br>new_cases_norm_100K=%{y}<extra></extra>\",\"legendgroup\":\"IL\",\"line\":{\"color\":\"#636efa\",\"dash\":\"solid\"},\"marker\":{\"symbol\":\"circle\"},\"mode\":\"lines\",\"name\":\"IL\",\"orientation\":\"v\",\"showlegend\":true,\"x\":[\"2020-01-22T00:00:00\",\"2020-01-29T00:00:00\",\"2020-02-05T00:00:00\",\"2020-02-12T00:00:00\",\"2020-02-19T00:00:00\",\"2020-02-26T00:00:00\",\"2020-03-04T00:00:00\",\"2020-03-11T00:00:00\",\"2020-03-18T00:00:00\",\"2020-03-25T00:00:00\",\"2020-04-01T00:00:00\",\"2020-04-08T00:00:00\",\"2020-04-15T00:00:00\",\"2020-04-22T00:00:00\",\"2020-04-29T00:00:00\",\"2020-05-06T00:00:00\",\"2020-05-13T00:00:00\",\"2020-05-20T00:00:00\",\"2020-05-27T00:00:00\",\"2020-06-03T00:00:00\",\"2020-06-10T00:00:00\",\"2020-06-17T00:00:00\",\"2020-06-24T00:00:00\",\"2020-07-01T00:00:00\",\"2020-07-08T00:00:00\",\"2020-07-15T00:00:00\",\"2020-07-22T00:00:00\",\"2020-07-29T00:00:00\",\"2020-08-05T00:00:00\",\"2020-08-12T00:00:00\",\"2020-08-19T00:00:00\",\"2020-08-26T00:00:00\",\"2020-09-02T00:00:00\",\"2020-09-09T00:00:00\",\"2020-09-16T00:00:00\",\"2020-09-23T00:00:00\",\"2020-09-30T00:00:00\",\"2020-10-07T00:00:00\",\"2020-10-14T00:00:00\",\"2020-10-21T00:00:00\",\"2020-10-28T00:00:00\",\"2020-11-04T00:00:00\",\"2020-11-11T00:00:00\",\"2020-11-18T00:00:00\",\"2020-11-25T00:00:00\",\"2020-12-02T00:00:00\",\"2020-12-09T00:00:00\",\"2020-12-16T00:00:00\",\"2020-12-23T00:00:00\",\"2020-12-30T00:00:00\",\"2021-01-06T00:00:00\",\"2021-01-13T00:00:00\",\"2021-01-20T00:00:00\",\"2021-01-27T00:00:00\",\"2021-02-03T00:00:00\",\"2021-02-10T00:00:00\",\"2021-02-17T00:00:00\",\"2021-02-24T00:00:00\",\"2021-03-03T00:00:00\",\"2021-03-10T00:00:00\",\"2021-03-17T00:00:00\",\"2021-03-24T00:00:00\",\"2021-03-31T00:00:00\",\"2021-04-07T00:00:00\",\"2021-04-14T00:00:00\",\"2021-04-21T00:00:00\",\"2021-04-28T00:00:00\",\"2021-05-05T00:00:00\",\"2021-05-12T00:00:00\",\"2021-05-19T00:00:00\",\"2021-05-26T00:00:00\",\"2021-06-02T00:00:00\",\"2021-06-09T00:00:00\",\"2021-06-16T00:00:00\",\"2021-06-23T00:00:00\",\"2021-06-30T00:00:00\",\"2021-07-07T00:00:00\",\"2021-07-14T00:00:00\",\"2021-07-21T00:00:00\",\"2021-07-28T00:00:00\",\"2021-08-04T00:00:00\",\"2021-08-11T00:00:00\",\"2021-08-18T00:00:00\",\"2021-08-25T00:00:00\",\"2021-09-01T00:00:00\",\"2021-09-08T00:00:00\",\"2021-09-15T00:00:00\",\"2021-09-22T00:00:00\",\"2021-09-29T00:00:00\",\"2021-10-06T00:00:00\",\"2021-10-13T00:00:00\",\"2021-10-20T00:00:00\",\"2021-10-27T00:00:00\",\"2021-11-03T00:00:00\",\"2021-11-10T00:00:00\",\"2021-11-17T00:00:00\",\"2021-11-24T00:00:00\",\"2021-12-01T00:00:00\",\"2021-12-08T00:00:00\",\"2021-12-15T00:00:00\",\"2021-12-22T00:00:00\",\"2021-12-29T00:00:00\",\"2022-01-05T00:00:00\",\"2022-01-12T00:00:00\",\"2022-01-19T00:00:00\",\"2022-01-26T00:00:00\",\"2022-02-02T00:00:00\",\"2022-02-09T00:00:00\",\"2022-02-16T00:00:00\",\"2022-02-23T00:00:00\",\"2022-03-02T00:00:00\",\"2022-03-09T00:00:00\",\"2022-03-16T00:00:00\",\"2022-03-23T00:00:00\",\"2022-03-30T00:00:00\",\"2022-04-06T00:00:00\",\"2022-04-13T00:00:00\",\"2022-04-20T00:00:00\",\"2022-04-27T00:00:00\",\"2022-05-04T00:00:00\",\"2022-05-11T00:00:00\",\"2022-05-18T00:00:00\",\"2022-05-25T00:00:00\",\"2022-06-01T00:00:00\",\"2022-06-08T00:00:00\",\"2022-06-15T00:00:00\",\"2022-06-22T00:00:00\",\"2022-06-29T00:00:00\",\"2022-07-06T00:00:00\",\"2022-07-13T00:00:00\",\"2022-07-20T00:00:00\",\"2022-07-27T00:00:00\",\"2022-08-03T00:00:00\",\"2022-08-10T00:00:00\",\"2022-08-17T00:00:00\",\"2022-08-24T00:00:00\",\"2022-08-31T00:00:00\",\"2022-09-07T00:00:00\",\"2022-09-14T00:00:00\",\"2022-09-21T00:00:00\",\"2022-09-28T00:00:00\",\"2022-10-05T00:00:00\",\"2022-10-12T00:00:00\",\"2022-10-19T00:00:00\",\"2022-10-26T00:00:00\",\"2022-11-02T00:00:00\",\"2022-11-09T00:00:00\",\"2022-11-16T00:00:00\",\"2022-11-23T00:00:00\",\"2022-11-30T00:00:00\",\"2022-12-07T00:00:00\",\"2022-12-14T00:00:00\",\"2022-12-21T00:00:00\",\"2022-12-28T00:00:00\",\"2023-01-04T00:00:00\",\"2023-01-11T00:00:00\",\"2023-01-18T00:00:00\",\"2023-01-25T00:00:00\",\"2023-02-01T00:00:00\",\"2023-02-08T00:00:00\"],\"xaxis\":\"x\",\"y\":[0.0,0.04734915368517279,0.05524067929936826,0.007891525614195465,0.0,0.0,0.05524067929936826,0.457708485623337,5.25575605905418,52.58912669299858,191.05383511967221,371.8960360945755,663.3616431292709,385.23271438256586,733.6909194029809,950.0055280136928,940.4646735461304,905.0553981152353,829.82548443511,589.5837701621574,416.1911693670546,272.58118623992556,239.50780239083238,280.78837287868885,299.7043597759154,361.9527138206892,435.65167153166067,527.4774635784391,586.4271599164792,663.5826058464683,682.5617249486085,756.9393538624007,730.8815362843272,856.2778782938932,692.1972777235411,709.5507425491569,752.954133427232,768.5793541433391,974.9664235313929,1348.36974101828,1693.434590024591,2342.8676904448066,3973.3436891193464,4684.82785544398,4474.116230019347,3686.0684821857885,3637.10945727532,3370.6126372839385,2825.071471574606,2197.742534399752,2306.724503131791,2627.2545990035687,2191.2241342424263,1813.314755629834,1385.8071385320231,1104.3400944505133,879.9129975084086,687.107243702385,683.958524982321,639.6160425561567,606.566333283906,700.4360304647611,866.8683056681435,1055.2784797070603,1257.5540642501185,1229.0183076291878,1064.6772867135671,1029.5284316279403,831.2459590456651,637.6984018319072,502.65072399618015,340.6298116111331,208.00483213896408,132.47504048549928,93.86969718085507,96.56070741529571,121.30064021579851,191.92190293723374,289.674230720273,491.5315644057788,712.6757866923783,1006.4220446295761,1233.1692501022544,1346.2469206280612,1475.6600491752527,1607.5116591372305,1478.5167814475915,1377.165917984479,1128.6538848678497,1062.9648256552866,997.6229935697482,871.4769566268337,814.5711654228702,849.2149628691883,1023.3020179183403,1303.0092517878843,1643.0787650804098,1597.6709266963287,2598.4110728836845,2843.8769771132343,3678.981892184241,5698.517995164231,8417.180135357026,11811.191146087054,11228.323064222577,9761.57254746575,5401.575669353284,2967.6555563718903,1769.6825105089474,1011.4331633945902,722.0903767501135,507.44088004399686,461.2359975728824,416.2464100463541,452.35013973129827,488.8800117994091,636.2069034908243,853.1212680482149,1126.649437361844,1424.2941089524545,1879.0117063680111,2274.51918710026,2173.9338016217243,1914.523571631891,974.2719692773438,0.0,0.0,0.0,0.0,0.0,0.0,0.0,0.0,0.0,0.0,0.0,0.0,0.0,1016.4837397876754,652.1556767571133,612.4691944433243,409.17560309603493,372.0223005044026,485.1552117095088,469.0012587772507,541.358657133809,530.0737755055095,478.37639120691495,557.836162616249,535.708324794045,650.1985784047928,965.3703283845313,330.733838490932,0.7812610358053511,12.847403699910219,42.511648483670974,66.72284906802267,70.4871067859939,0.0,0.0],\"yaxis\":\"y\",\"type\":\"scatter\"},{\"hovertemplate\":\"State=OH<br>date=%{x}<br>new_cases_norm_100K=%{y}<extra></extra>\",\"legendgroup\":\"OH\",\"line\":{\"color\":\"#EF553B\",\"dash\":\"solid\"},\"marker\":{\"symbol\":\"circle\"},\"mode\":\"lines\",\"name\":\"OH\",\"orientation\":\"v\",\"showlegend\":true,\"x\":[\"2020-01-22T00:00:00\",\"2020-01-29T00:00:00\",\"2020-02-05T00:00:00\",\"2020-02-12T00:00:00\",\"2020-02-19T00:00:00\",\"2020-02-26T00:00:00\",\"2020-03-04T00:00:00\",\"2020-03-11T00:00:00\",\"2020-03-18T00:00:00\",\"2020-03-25T00:00:00\",\"2020-04-01T00:00:00\",\"2020-04-08T00:00:00\",\"2020-04-15T00:00:00\",\"2020-04-22T00:00:00\",\"2020-04-29T00:00:00\",\"2020-05-06T00:00:00\",\"2020-05-13T00:00:00\",\"2020-05-20T00:00:00\",\"2020-05-27T00:00:00\",\"2020-06-03T00:00:00\",\"2020-06-10T00:00:00\",\"2020-06-17T00:00:00\",\"2020-06-24T00:00:00\",\"2020-07-01T00:00:00\",\"2020-07-08T00:00:00\",\"2020-07-15T00:00:00\",\"2020-07-22T00:00:00\",\"2020-07-29T00:00:00\",\"2020-08-05T00:00:00\",\"2020-08-12T00:00:00\",\"2020-08-19T00:00:00\",\"2020-08-26T00:00:00\",\"2020-09-02T00:00:00\",\"2020-09-09T00:00:00\",\"2020-09-16T00:00:00\",\"2020-09-23T00:00:00\",\"2020-09-30T00:00:00\",\"2020-10-07T00:00:00\",\"2020-10-14T00:00:00\",\"2020-10-21T00:00:00\",\"2020-10-28T00:00:00\",\"2020-11-04T00:00:00\",\"2020-11-11T00:00:00\",\"2020-11-18T00:00:00\",\"2020-11-25T00:00:00\",\"2020-12-02T00:00:00\",\"2020-12-09T00:00:00\",\"2020-12-16T00:00:00\",\"2020-12-23T00:00:00\",\"2020-12-30T00:00:00\",\"2021-01-06T00:00:00\",\"2021-01-13T00:00:00\",\"2021-01-20T00:00:00\",\"2021-01-27T00:00:00\",\"2021-02-03T00:00:00\",\"2021-02-10T00:00:00\",\"2021-02-17T00:00:00\",\"2021-02-24T00:00:00\",\"2021-03-03T00:00:00\",\"2021-03-10T00:00:00\",\"2021-03-17T00:00:00\",\"2021-03-24T00:00:00\",\"2021-03-31T00:00:00\",\"2021-04-07T00:00:00\",\"2021-04-14T00:00:00\",\"2021-04-21T00:00:00\",\"2021-04-28T00:00:00\",\"2021-05-05T00:00:00\",\"2021-05-12T00:00:00\",\"2021-05-19T00:00:00\",\"2021-05-26T00:00:00\",\"2021-06-02T00:00:00\",\"2021-06-09T00:00:00\",\"2021-06-16T00:00:00\",\"2021-06-23T00:00:00\",\"2021-06-30T00:00:00\",\"2021-07-07T00:00:00\",\"2021-07-14T00:00:00\",\"2021-07-21T00:00:00\",\"2021-07-28T00:00:00\",\"2021-08-04T00:00:00\",\"2021-08-11T00:00:00\",\"2021-08-18T00:00:00\",\"2021-08-25T00:00:00\",\"2021-09-01T00:00:00\",\"2021-09-08T00:00:00\",\"2021-09-15T00:00:00\",\"2021-09-22T00:00:00\",\"2021-09-29T00:00:00\",\"2021-10-06T00:00:00\",\"2021-10-13T00:00:00\",\"2021-10-20T00:00:00\",\"2021-10-27T00:00:00\",\"2021-11-03T00:00:00\",\"2021-11-10T00:00:00\",\"2021-11-17T00:00:00\",\"2021-11-24T00:00:00\",\"2021-12-01T00:00:00\",\"2021-12-08T00:00:00\",\"2021-12-15T00:00:00\",\"2021-12-22T00:00:00\",\"2021-12-29T00:00:00\",\"2022-01-05T00:00:00\",\"2022-01-12T00:00:00\",\"2022-01-19T00:00:00\",\"2022-01-26T00:00:00\",\"2022-02-02T00:00:00\",\"2022-02-09T00:00:00\",\"2022-02-16T00:00:00\",\"2022-02-23T00:00:00\",\"2022-03-02T00:00:00\",\"2022-03-09T00:00:00\",\"2022-03-16T00:00:00\",\"2022-03-23T00:00:00\",\"2022-03-30T00:00:00\",\"2022-04-06T00:00:00\",\"2022-04-13T00:00:00\",\"2022-04-20T00:00:00\",\"2022-04-27T00:00:00\",\"2022-05-04T00:00:00\",\"2022-05-11T00:00:00\",\"2022-05-18T00:00:00\",\"2022-05-25T00:00:00\",\"2022-06-01T00:00:00\",\"2022-06-08T00:00:00\",\"2022-06-15T00:00:00\",\"2022-06-22T00:00:00\",\"2022-06-29T00:00:00\",\"2022-07-06T00:00:00\",\"2022-07-13T00:00:00\",\"2022-07-20T00:00:00\",\"2022-07-27T00:00:00\",\"2022-08-03T00:00:00\",\"2022-08-10T00:00:00\",\"2022-08-17T00:00:00\",\"2022-08-24T00:00:00\",\"2022-08-31T00:00:00\",\"2022-09-07T00:00:00\",\"2022-09-14T00:00:00\",\"2022-09-21T00:00:00\",\"2022-09-28T00:00:00\",\"2022-10-05T00:00:00\",\"2022-10-12T00:00:00\",\"2022-10-19T00:00:00\",\"2022-10-26T00:00:00\",\"2022-11-02T00:00:00\",\"2022-11-09T00:00:00\",\"2022-11-16T00:00:00\",\"2022-11-23T00:00:00\",\"2022-11-30T00:00:00\",\"2022-12-07T00:00:00\",\"2022-12-14T00:00:00\",\"2022-12-21T00:00:00\",\"2022-12-28T00:00:00\",\"2023-01-04T00:00:00\",\"2023-01-11T00:00:00\",\"2023-01-18T00:00:00\",\"2023-01-25T00:00:00\",\"2023-02-01T00:00:00\",\"2023-02-08T00:00:00\"],\"xaxis\":\"x\",\"y\":[0.0,0.0,0.0,0.0,0.0,0.0,0.0,0.08554978569778683,2.3355091495495803,19.667895731921192,78.24383399919583,142.33773344397773,153.21111120616644,288.944401194275,271.0816059405771,233.35415044785313,253.5182349368215,229.89793910566254,236.68203711149704,213.3269456160012,180.0994088509808,164.54645781112316,221.76215448580302,320.0674132311299,399.94524813715344,510.29591670872867,561.3006989417491,556.0222771641957,534.8743701397028,466.1864472029498,445.07276009273596,392.84461592423713,447.9900077850305,479.90007785030497,425.03700028231424,410.1256726351901,396.54036666638143,486.2222070133714,590.7127152646483,779.2131130711518,962.4778639929508,1275.1623307183615,1886.227340000513,2620.056291758989,3096.662702859929,3935.683671112404,4082.9576271911437,4827.343422504727,3640.2631511408067,2911.8837207312795,3005.381081520391,3414.206397412974,2894.1663601132677,2294.077388336142,1896.758518619911,1456.6219811619374,1138.274118623333,889.7605461498318,813.9035511716044,687.6406224602408,617.1561540238342,661.2827334867526,706.3674705494863,787.9648561480353,863.4625420263322,821.2608327416139,670.8044246349164,606.2742212830757,536.5511459393795,439.2382647081469,369.87449846438136,276.12904329674654,172.86189698094807,133.320786031431,118.75165752709789,105.61121044391783,100.76909257342311,113.02837686391597,181.13456125792405,295.8482689000864,461.31866439674565,707.7961519706394,1039.1903568281562,1271.6633444833221,1781.5828421349804,2233.4910301049695,2891.2833323352525,2939.781505847328,2599.7125527200556,2372.475211949594,2223.2250558212354,1699.1983985080117,1633.2737336492971,1428.1852323959927,1600.0889717771256,1924.853068243064,2275.872393939653,2160.679607497583,3022.9102326098673,3109.512280671737,3878.3909796305957,4871.025143082017,7203.1807410322435,8097.586640545465,10112.010334414112,8799.745061638621,4478.770820679094,2268.3867876910967,1295.548844650144,758.6298346322642,516.7891454431907,390.9881855745951,251.5420348872026,157.4714905339162,219.65762975763747,185.82268951416276,229.23920575578958,287.9263587444714,412.6066164204259,522.8546252491637,659.5118529228084,956.361054315559,1169.9104293743744,1170.509277874259,1049.7814202975421,1092.7188577392615,968.2781394632606,967.679290963376,1031.5165410510647,1128.1108040824358,1465.0828549674482,1593.5358581926753,1789.1197782549555,1663.900556929105,1557.9642572995356,1441.2486846720449,1403.4613443293326,1513.8890077080357,1301.357675099024,1230.7534369626405,870.4861794321206,724.6665697102429,671.6855874276035,438.1004525583663,664.5421803218383,698.4370054153014,734.3080305583834,650.6488951245177,689.6510424241387,483.73270824956586,963.6071211641615,961.810575664508,1001.2148069569085,1071.3998511433729,781.3176377993173,832.0999905895236,610.1068516823366,476.7432907580567,488.36095165581617,0.0],\"yaxis\":\"y\",\"type\":\"scatter\"},{\"hovertemplate\":\"State=CA<br>date=%{x}<br>new_cases_norm_100K=%{y}<extra></extra>\",\"legendgroup\":\"CA\",\"line\":{\"color\":\"#00cc96\",\"dash\":\"solid\"},\"marker\":{\"symbol\":\"circle\"},\"mode\":\"lines\",\"name\":\"CA\",\"orientation\":\"v\",\"showlegend\":true,\"x\":[\"2020-01-22T00:00:00\",\"2020-01-29T00:00:00\",\"2020-02-05T00:00:00\",\"2020-02-12T00:00:00\",\"2020-02-19T00:00:00\",\"2020-02-26T00:00:00\",\"2020-03-04T00:00:00\",\"2020-03-11T00:00:00\",\"2020-03-18T00:00:00\",\"2020-03-25T00:00:00\",\"2020-04-01T00:00:00\",\"2020-04-08T00:00:00\",\"2020-04-15T00:00:00\",\"2020-04-22T00:00:00\",\"2020-04-29T00:00:00\",\"2020-05-06T00:00:00\",\"2020-05-13T00:00:00\",\"2020-05-20T00:00:00\",\"2020-05-27T00:00:00\",\"2020-06-03T00:00:00\",\"2020-06-10T00:00:00\",\"2020-06-17T00:00:00\",\"2020-06-24T00:00:00\",\"2020-07-01T00:00:00\",\"2020-07-08T00:00:00\",\"2020-07-15T00:00:00\",\"2020-07-22T00:00:00\",\"2020-07-29T00:00:00\",\"2020-08-05T00:00:00\",\"2020-08-12T00:00:00\",\"2020-08-19T00:00:00\",\"2020-08-26T00:00:00\",\"2020-09-02T00:00:00\",\"2020-09-09T00:00:00\",\"2020-09-16T00:00:00\",\"2020-09-23T00:00:00\",\"2020-09-30T00:00:00\",\"2020-10-07T00:00:00\",\"2020-10-14T00:00:00\",\"2020-10-21T00:00:00\",\"2020-10-28T00:00:00\",\"2020-11-04T00:00:00\",\"2020-11-11T00:00:00\",\"2020-11-18T00:00:00\",\"2020-11-25T00:00:00\",\"2020-12-02T00:00:00\",\"2020-12-09T00:00:00\",\"2020-12-16T00:00:00\",\"2020-12-23T00:00:00\",\"2020-12-30T00:00:00\",\"2021-01-06T00:00:00\",\"2021-01-13T00:00:00\",\"2021-01-20T00:00:00\",\"2021-01-27T00:00:00\",\"2021-02-03T00:00:00\",\"2021-02-10T00:00:00\",\"2021-02-17T00:00:00\",\"2021-02-24T00:00:00\",\"2021-03-03T00:00:00\",\"2021-03-10T00:00:00\",\"2021-03-17T00:00:00\",\"2021-03-24T00:00:00\",\"2021-03-31T00:00:00\",\"2021-04-07T00:00:00\",\"2021-04-14T00:00:00\",\"2021-04-21T00:00:00\",\"2021-04-28T00:00:00\",\"2021-05-05T00:00:00\",\"2021-05-12T00:00:00\",\"2021-05-19T00:00:00\",\"2021-05-26T00:00:00\",\"2021-06-02T00:00:00\",\"2021-06-09T00:00:00\",\"2021-06-16T00:00:00\",\"2021-06-23T00:00:00\",\"2021-06-30T00:00:00\",\"2021-07-07T00:00:00\",\"2021-07-14T00:00:00\",\"2021-07-21T00:00:00\",\"2021-07-28T00:00:00\",\"2021-08-04T00:00:00\",\"2021-08-11T00:00:00\",\"2021-08-18T00:00:00\",\"2021-08-25T00:00:00\",\"2021-09-01T00:00:00\",\"2021-09-08T00:00:00\",\"2021-09-15T00:00:00\",\"2021-09-22T00:00:00\",\"2021-09-29T00:00:00\",\"2021-10-06T00:00:00\",\"2021-10-13T00:00:00\",\"2021-10-20T00:00:00\",\"2021-10-27T00:00:00\",\"2021-11-03T00:00:00\",\"2021-11-10T00:00:00\",\"2021-11-17T00:00:00\",\"2021-11-24T00:00:00\",\"2021-12-01T00:00:00\",\"2021-12-08T00:00:00\",\"2021-12-15T00:00:00\",\"2021-12-22T00:00:00\",\"2021-12-29T00:00:00\",\"2022-01-05T00:00:00\",\"2022-01-12T00:00:00\",\"2022-01-19T00:00:00\",\"2022-01-26T00:00:00\",\"2022-02-02T00:00:00\",\"2022-02-09T00:00:00\",\"2022-02-16T00:00:00\",\"2022-02-23T00:00:00\",\"2022-03-02T00:00:00\",\"2022-03-09T00:00:00\",\"2022-03-16T00:00:00\",\"2022-03-23T00:00:00\",\"2022-03-30T00:00:00\",\"2022-04-06T00:00:00\",\"2022-04-13T00:00:00\",\"2022-04-20T00:00:00\",\"2022-04-27T00:00:00\",\"2022-05-04T00:00:00\",\"2022-05-11T00:00:00\",\"2022-05-18T00:00:00\",\"2022-05-25T00:00:00\",\"2022-06-01T00:00:00\",\"2022-06-08T00:00:00\",\"2022-06-15T00:00:00\",\"2022-06-22T00:00:00\",\"2022-06-29T00:00:00\",\"2022-07-06T00:00:00\",\"2022-07-13T00:00:00\",\"2022-07-20T00:00:00\",\"2022-07-27T00:00:00\",\"2022-08-03T00:00:00\",\"2022-08-10T00:00:00\",\"2022-08-17T00:00:00\",\"2022-08-24T00:00:00\",\"2022-08-31T00:00:00\",\"2022-09-07T00:00:00\",\"2022-09-14T00:00:00\",\"2022-09-21T00:00:00\",\"2022-09-28T00:00:00\",\"2022-10-05T00:00:00\",\"2022-10-12T00:00:00\",\"2022-10-19T00:00:00\",\"2022-10-26T00:00:00\",\"2022-11-02T00:00:00\",\"2022-11-09T00:00:00\",\"2022-11-16T00:00:00\",\"2022-11-23T00:00:00\",\"2022-11-30T00:00:00\",\"2022-12-07T00:00:00\",\"2022-12-14T00:00:00\",\"2022-12-21T00:00:00\",\"2022-12-28T00:00:00\",\"2023-01-04T00:00:00\",\"2023-01-11T00:00:00\",\"2023-01-18T00:00:00\",\"2023-01-25T00:00:00\",\"2023-02-01T00:00:00\",\"2023-02-08T00:00:00\"],\"xaxis\":\"x\",\"y\":[0.0,11.563510359819542,0.0,0.0,0.9996906526873975,1.9310480202543907,4.92505825349285,14.777705622890416,51.71564252408679,93.72795856107615,116.29818955010452,155.93402578235094,164.61235299264231,178.94462683104413,207.69269296743946,233.69477338695924,254.17451202378564,269.1875878509797,282.49486241257546,349.704444622111,401.3897167972554,484.93601587539126,737.627442525823,1019.0821204871211,1120.1192096936686,1249.9397971103779,1232.3857354216696,1044.6919172328016,875.7492586534552,751.2181736775478,646.5341117355002,547.5571445322122,497.00569871758415,429.6771659746909,382.9169520530394,405.5327385654814,406.3502071245143,412.67230142935773,425.7062428504718,445.95567300781835,504.00606414880787,606.3819795712329,926.2298403205509,1295.1156911622006,1876.1662688530585,2195.320673301525,3522.770662637736,4460.541235556399,4948.840767577162,4466.658330005882,5034.8015093962185,5171.921104008752,3790.1107209280535,2623.393272507092,1816.326557986879,1289.2390286418458,831.4996602443755,562.2412082458636,434.58197732888885,360.20499276894645,313.442247984883,278.3062851209359,275.46159576999753,270.83011755628127,278.2075814868731,260.04358195690486,227.31700010905487,203.33960961902852,181.41727940743803,151.39618947787372,127.1505275721895,108.32597295272403,105.68122173232318,106.73152963324793,117.50541092056503,150.7558812876714,226.7728646905035,392.48867369471975,633.2572075228468,928.016629183329,1215.818710073589,1346.1024453116697,1322.9804863168545,1304.9809928436575,1674.0667818158447,1263.6747874195792,1201.038473588287,998.3037400856945,914.1323179918274,780.6242640410285,688.5818598462556,682.8190861344349,628.8155439900205,766.2970519274504,671.7415013576938,590.9892743822588,572.2583616720325,541.5109142302624,765.942731189789,758.0287244278815,1095.559720848913,2403.580279449223,5973.166834981671,12979.950533281813,13379.01944924739,10964.796893356266,6797.557302711113,3522.9781933555096,2451.370554372504,1301.3719830443354,954.2717958440354,567.194105985887,423.11210887830833,440.9698740564407,380.12034908792657,320.36415668133884,340.201056265551,452.33091542331096,624.1359793904787,852.1717444245038,935.25742654368,1132.0471642407972,1558.7859989553108,1965.118490042942,1270.0095360364817,2202.5969027356423,2264.1272296929483,1851.1512247741668,2650.936648135439,1720.621995882135,2474.6797971857973,1853.3885071462569,2070.207489970888,1502.5072115026278,1324.7394356931018,1167.1628802054495,961.3607414596744,641.158559972695,432.1371642390255,519.9454356187451,800.0688799514013,281.4850483102406,381.4363975420973,554.7701024060327,309.59533711884546,225.63144574275157,423.90426881322264,643.6134965122059,488.44379117823865,735.9798510956977,970.4389449310407,921.1579920471698,1467.0270513506669,1139.5511712919822,335.7771087696078,937.9983505357317,780.7229676750912,390.6462058588807,267.4387619243797,0.0],\"yaxis\":\"y\",\"type\":\"scatter\"},{\"hovertemplate\":\"State=CO<br>date=%{x}<br>new_cases_norm_100K=%{y}<extra></extra>\",\"legendgroup\":\"CO\",\"line\":{\"color\":\"#ab63fa\",\"dash\":\"solid\"},\"marker\":{\"symbol\":\"circle\"},\"mode\":\"lines\",\"name\":\"CO\",\"orientation\":\"v\",\"showlegend\":true,\"x\":[\"2020-01-22T00:00:00\",\"2020-01-29T00:00:00\",\"2020-02-05T00:00:00\",\"2020-02-12T00:00:00\",\"2020-02-19T00:00:00\",\"2020-02-26T00:00:00\",\"2020-03-04T00:00:00\",\"2020-03-11T00:00:00\",\"2020-03-18T00:00:00\",\"2020-03-25T00:00:00\",\"2020-04-01T00:00:00\",\"2020-04-08T00:00:00\",\"2020-04-15T00:00:00\",\"2020-04-22T00:00:00\",\"2020-04-29T00:00:00\",\"2020-05-06T00:00:00\",\"2020-05-13T00:00:00\",\"2020-05-20T00:00:00\",\"2020-05-27T00:00:00\",\"2020-06-03T00:00:00\",\"2020-06-10T00:00:00\",\"2020-06-17T00:00:00\",\"2020-06-24T00:00:00\",\"2020-07-01T00:00:00\",\"2020-07-08T00:00:00\",\"2020-07-15T00:00:00\",\"2020-07-22T00:00:00\",\"2020-07-29T00:00:00\",\"2020-08-05T00:00:00\",\"2020-08-12T00:00:00\",\"2020-08-19T00:00:00\",\"2020-08-26T00:00:00\",\"2020-09-02T00:00:00\",\"2020-09-09T00:00:00\",\"2020-09-16T00:00:00\",\"2020-09-23T00:00:00\",\"2020-09-30T00:00:00\",\"2020-10-07T00:00:00\",\"2020-10-14T00:00:00\",\"2020-10-21T00:00:00\",\"2020-10-28T00:00:00\",\"2020-11-04T00:00:00\",\"2020-11-11T00:00:00\",\"2020-11-18T00:00:00\",\"2020-11-25T00:00:00\",\"2020-12-02T00:00:00\",\"2020-12-09T00:00:00\",\"2020-12-16T00:00:00\",\"2020-12-23T00:00:00\",\"2020-12-30T00:00:00\",\"2021-01-06T00:00:00\",\"2021-01-13T00:00:00\",\"2021-01-20T00:00:00\",\"2021-01-27T00:00:00\",\"2021-02-03T00:00:00\",\"2021-02-10T00:00:00\",\"2021-02-17T00:00:00\",\"2021-02-24T00:00:00\",\"2021-03-03T00:00:00\",\"2021-03-10T00:00:00\",\"2021-03-17T00:00:00\",\"2021-03-24T00:00:00\",\"2021-03-31T00:00:00\",\"2021-04-07T00:00:00\",\"2021-04-14T00:00:00\",\"2021-04-21T00:00:00\",\"2021-04-28T00:00:00\",\"2021-05-05T00:00:00\",\"2021-05-12T00:00:00\",\"2021-05-19T00:00:00\",\"2021-05-26T00:00:00\",\"2021-06-02T00:00:00\",\"2021-06-09T00:00:00\",\"2021-06-16T00:00:00\",\"2021-06-23T00:00:00\",\"2021-06-30T00:00:00\",\"2021-07-07T00:00:00\",\"2021-07-14T00:00:00\",\"2021-07-21T00:00:00\",\"2021-07-28T00:00:00\",\"2021-08-04T00:00:00\",\"2021-08-11T00:00:00\",\"2021-08-18T00:00:00\",\"2021-08-25T00:00:00\",\"2021-09-01T00:00:00\",\"2021-09-08T00:00:00\",\"2021-09-15T00:00:00\",\"2021-09-22T00:00:00\",\"2021-09-29T00:00:00\",\"2021-10-06T00:00:00\",\"2021-10-13T00:00:00\",\"2021-10-20T00:00:00\",\"2021-10-27T00:00:00\",\"2021-11-03T00:00:00\",\"2021-11-10T00:00:00\",\"2021-11-17T00:00:00\",\"2021-11-24T00:00:00\",\"2021-12-01T00:00:00\",\"2021-12-08T00:00:00\",\"2021-12-15T00:00:00\",\"2021-12-22T00:00:00\",\"2021-12-29T00:00:00\",\"2022-01-05T00:00:00\",\"2022-01-12T00:00:00\",\"2022-01-19T00:00:00\",\"2022-01-26T00:00:00\",\"2022-02-02T00:00:00\",\"2022-02-09T00:00:00\",\"2022-02-16T00:00:00\",\"2022-02-23T00:00:00\",\"2022-03-02T00:00:00\",\"2022-03-09T00:00:00\",\"2022-03-16T00:00:00\",\"2022-03-23T00:00:00\",\"2022-03-30T00:00:00\",\"2022-04-06T00:00:00\",\"2022-04-13T00:00:00\",\"2022-04-20T00:00:00\",\"2022-04-27T00:00:00\",\"2022-05-04T00:00:00\",\"2022-05-11T00:00:00\",\"2022-05-18T00:00:00\",\"2022-05-25T00:00:00\",\"2022-06-01T00:00:00\",\"2022-06-08T00:00:00\",\"2022-06-15T00:00:00\",\"2022-06-22T00:00:00\",\"2022-06-29T00:00:00\",\"2022-07-06T00:00:00\",\"2022-07-13T00:00:00\",\"2022-07-20T00:00:00\",\"2022-07-27T00:00:00\",\"2022-08-03T00:00:00\",\"2022-08-10T00:00:00\",\"2022-08-17T00:00:00\",\"2022-08-24T00:00:00\",\"2022-08-31T00:00:00\",\"2022-09-07T00:00:00\",\"2022-09-14T00:00:00\",\"2022-09-21T00:00:00\",\"2022-09-28T00:00:00\",\"2022-10-05T00:00:00\",\"2022-10-12T00:00:00\",\"2022-10-19T00:00:00\",\"2022-10-26T00:00:00\",\"2022-11-02T00:00:00\",\"2022-11-09T00:00:00\",\"2022-11-16T00:00:00\",\"2022-11-23T00:00:00\",\"2022-11-30T00:00:00\",\"2022-12-07T00:00:00\",\"2022-12-14T00:00:00\",\"2022-12-21T00:00:00\",\"2022-12-28T00:00:00\",\"2023-01-04T00:00:00\",\"2023-01-11T00:00:00\",\"2023-01-18T00:00:00\",\"2023-01-25T00:00:00\",\"2023-02-01T00:00:00\",\"2023-02-08T00:00:00\"],\"xaxis\":\"x\",\"y\":[0.0,0.0,0.0,0.0,0.0,0.0,0.0,1.2676392875103148,13.17997560575793,61.00297009621556,192.6464418580744,289.8552737961941,254.2224543719316,361.4855760014003,420.5089450184902,395.03460481605686,367.68485306497814,292.47737697994836,265.42282889856386,272.21251330153007,211.92150499692988,141.68039653146107,168.63075508236528,210.58440602243272,226.9768921513332,336.375899155648,399.0459017395484,482.7448245587226,421.255636653599,368.13634103039277,297.35691999077574,248.31838097804797,253.84042609350385,226.66432355989232,273.2544086063331,430.80634361429316,495.85534047749366,485.6447664904243,653.8587634508683,854.9098274343537,1196.113174835589,1714.9770366274822,2683.227708302655,3836.7273651718015,4223.8435656713555,3804.185501818454,3816.775070084824,3313.5743677084697,2559.207437187605,2000.873108265425,1963.8684600231718,2321.047535431386,1723.6421325790939,1379.3130992634494,1195.001819843799,1082.563951533809,1057.5237343750434,866.162296726226,954.46292380828,968.3027664404133,839.2293030970685,830.928870502138,1013.0348048599554,1151.919448990195,1312.4407856168439,1384.5399407092111,1435.0718629921566,1424.8265591615939,1158.7438632366548,1024.4088286040546,724.9854829254198,621.7857529846827,499.15467560936986,493.5284409634337,357.9604968868168,349.0522920307512,333.7190661284004,381.663615071085,416.37609364277165,496.89723578229666,737.7834302527499,778.3826172965735,1048.598164597231,1211.8110640946206,1354.0645030437236,1451.4296192775637,1646.4897852584318,1624.6620786228088,1480.27275429886,1627.0063430586156,1870.7230197737838,1640.9156453777357,1834.1351296534517,3447.3537248451744,2543.8221165200143,2680.970268475582,2583.1189344328336,1906.0606355283521,2087.697716999008,1661.7882813172891,1849.1210571208683,3350.7005704029493,7292.190508472693,11895.33605985758,10871.79547734086,7722.580093965064,5210.501054398049,2784.413107320773,1736.9610275588254,1587.7963497545295,1010.117498006507,869.3574423276219,781.1436398543013,847.7902095181998,976.6205639570907,1144.157328969413,1055.8567018873587,1093.8511506691746,1096.160685261488,794.5840892862601,1388.9332659111305,1797.1652112546922,1290.2484156245398,406.0786950469687,0.0,1195.0365496872926,8079.811264138519,2607.082526443303,1436.7909902450815,2416.728254255795,1713.2579093745571,1808.747614059752,1136.6209529313376,1019.7029348106946,813.5465838336747,718.6299215661214,783.2968901508943,750.3729985191195,588.1672644830393,622.1330514196171,506.74314641268495,525.4104372904054,379.0241469655841,621.525279158482,550.1728157012233,483.6478004895519,298.2772608433517,778.1568733138661,887.2606766484867,922.0252499854136,602.215486176133,932.4442030334435,732.1224657633203,0.0,1366.2720430316654,585.8924597342194,393.0723686586778,339.58840967879064,278.0123971649334,0.0],\"yaxis\":\"y\",\"type\":\"scatter\"}],                        {\"template\":{\"data\":{\"histogram2dcontour\":[{\"type\":\"histogram2dcontour\",\"colorbar\":{\"outlinewidth\":0,\"ticks\":\"\"},\"colorscale\":[[0.0,\"#0d0887\"],[0.1111111111111111,\"#46039f\"],[0.2222222222222222,\"#7201a8\"],[0.3333333333333333,\"#9c179e\"],[0.4444444444444444,\"#bd3786\"],[0.5555555555555556,\"#d8576b\"],[0.6666666666666666,\"#ed7953\"],[0.7777777777777778,\"#fb9f3a\"],[0.8888888888888888,\"#fdca26\"],[1.0,\"#f0f921\"]]}],\"choropleth\":[{\"type\":\"choropleth\",\"colorbar\":{\"outlinewidth\":0,\"ticks\":\"\"}}],\"histogram2d\":[{\"type\":\"histogram2d\",\"colorbar\":{\"outlinewidth\":0,\"ticks\":\"\"},\"colorscale\":[[0.0,\"#0d0887\"],[0.1111111111111111,\"#46039f\"],[0.2222222222222222,\"#7201a8\"],[0.3333333333333333,\"#9c179e\"],[0.4444444444444444,\"#bd3786\"],[0.5555555555555556,\"#d8576b\"],[0.6666666666666666,\"#ed7953\"],[0.7777777777777778,\"#fb9f3a\"],[0.8888888888888888,\"#fdca26\"],[1.0,\"#f0f921\"]]}],\"heatmap\":[{\"type\":\"heatmap\",\"colorbar\":{\"outlinewidth\":0,\"ticks\":\"\"},\"colorscale\":[[0.0,\"#0d0887\"],[0.1111111111111111,\"#46039f\"],[0.2222222222222222,\"#7201a8\"],[0.3333333333333333,\"#9c179e\"],[0.4444444444444444,\"#bd3786\"],[0.5555555555555556,\"#d8576b\"],[0.6666666666666666,\"#ed7953\"],[0.7777777777777778,\"#fb9f3a\"],[0.8888888888888888,\"#fdca26\"],[1.0,\"#f0f921\"]]}],\"heatmapgl\":[{\"type\":\"heatmapgl\",\"colorbar\":{\"outlinewidth\":0,\"ticks\":\"\"},\"colorscale\":[[0.0,\"#0d0887\"],[0.1111111111111111,\"#46039f\"],[0.2222222222222222,\"#7201a8\"],[0.3333333333333333,\"#9c179e\"],[0.4444444444444444,\"#bd3786\"],[0.5555555555555556,\"#d8576b\"],[0.6666666666666666,\"#ed7953\"],[0.7777777777777778,\"#fb9f3a\"],[0.8888888888888888,\"#fdca26\"],[1.0,\"#f0f921\"]]}],\"contourcarpet\":[{\"type\":\"contourcarpet\",\"colorbar\":{\"outlinewidth\":0,\"ticks\":\"\"}}],\"contour\":[{\"type\":\"contour\",\"colorbar\":{\"outlinewidth\":0,\"ticks\":\"\"},\"colorscale\":[[0.0,\"#0d0887\"],[0.1111111111111111,\"#46039f\"],[0.2222222222222222,\"#7201a8\"],[0.3333333333333333,\"#9c179e\"],[0.4444444444444444,\"#bd3786\"],[0.5555555555555556,\"#d8576b\"],[0.6666666666666666,\"#ed7953\"],[0.7777777777777778,\"#fb9f3a\"],[0.8888888888888888,\"#fdca26\"],[1.0,\"#f0f921\"]]}],\"surface\":[{\"type\":\"surface\",\"colorbar\":{\"outlinewidth\":0,\"ticks\":\"\"},\"colorscale\":[[0.0,\"#0d0887\"],[0.1111111111111111,\"#46039f\"],[0.2222222222222222,\"#7201a8\"],[0.3333333333333333,\"#9c179e\"],[0.4444444444444444,\"#bd3786\"],[0.5555555555555556,\"#d8576b\"],[0.6666666666666666,\"#ed7953\"],[0.7777777777777778,\"#fb9f3a\"],[0.8888888888888888,\"#fdca26\"],[1.0,\"#f0f921\"]]}],\"mesh3d\":[{\"type\":\"mesh3d\",\"colorbar\":{\"outlinewidth\":0,\"ticks\":\"\"}}],\"scatter\":[{\"fillpattern\":{\"fillmode\":\"overlay\",\"size\":10,\"solidity\":0.2},\"type\":\"scatter\"}],\"parcoords\":[{\"type\":\"parcoords\",\"line\":{\"colorbar\":{\"outlinewidth\":0,\"ticks\":\"\"}}}],\"scatterpolargl\":[{\"type\":\"scatterpolargl\",\"marker\":{\"colorbar\":{\"outlinewidth\":0,\"ticks\":\"\"}}}],\"bar\":[{\"error_x\":{\"color\":\"#2a3f5f\"},\"error_y\":{\"color\":\"#2a3f5f\"},\"marker\":{\"line\":{\"color\":\"#E5ECF6\",\"width\":0.5},\"pattern\":{\"fillmode\":\"overlay\",\"size\":10,\"solidity\":0.2}},\"type\":\"bar\"}],\"scattergeo\":[{\"type\":\"scattergeo\",\"marker\":{\"colorbar\":{\"outlinewidth\":0,\"ticks\":\"\"}}}],\"scatterpolar\":[{\"type\":\"scatterpolar\",\"marker\":{\"colorbar\":{\"outlinewidth\":0,\"ticks\":\"\"}}}],\"histogram\":[{\"marker\":{\"pattern\":{\"fillmode\":\"overlay\",\"size\":10,\"solidity\":0.2}},\"type\":\"histogram\"}],\"scattergl\":[{\"type\":\"scattergl\",\"marker\":{\"colorbar\":{\"outlinewidth\":0,\"ticks\":\"\"}}}],\"scatter3d\":[{\"type\":\"scatter3d\",\"line\":{\"colorbar\":{\"outlinewidth\":0,\"ticks\":\"\"}},\"marker\":{\"colorbar\":{\"outlinewidth\":0,\"ticks\":\"\"}}}],\"scattermapbox\":[{\"type\":\"scattermapbox\",\"marker\":{\"colorbar\":{\"outlinewidth\":0,\"ticks\":\"\"}}}],\"scatterternary\":[{\"type\":\"scatterternary\",\"marker\":{\"colorbar\":{\"outlinewidth\":0,\"ticks\":\"\"}}}],\"scattercarpet\":[{\"type\":\"scattercarpet\",\"marker\":{\"colorbar\":{\"outlinewidth\":0,\"ticks\":\"\"}}}],\"carpet\":[{\"aaxis\":{\"endlinecolor\":\"#2a3f5f\",\"gridcolor\":\"white\",\"linecolor\":\"white\",\"minorgridcolor\":\"white\",\"startlinecolor\":\"#2a3f5f\"},\"baxis\":{\"endlinecolor\":\"#2a3f5f\",\"gridcolor\":\"white\",\"linecolor\":\"white\",\"minorgridcolor\":\"white\",\"startlinecolor\":\"#2a3f5f\"},\"type\":\"carpet\"}],\"table\":[{\"cells\":{\"fill\":{\"color\":\"#EBF0F8\"},\"line\":{\"color\":\"white\"}},\"header\":{\"fill\":{\"color\":\"#C8D4E3\"},\"line\":{\"color\":\"white\"}},\"type\":\"table\"}],\"barpolar\":[{\"marker\":{\"line\":{\"color\":\"#E5ECF6\",\"width\":0.5},\"pattern\":{\"fillmode\":\"overlay\",\"size\":10,\"solidity\":0.2}},\"type\":\"barpolar\"}],\"pie\":[{\"automargin\":true,\"type\":\"pie\"}]},\"layout\":{\"autotypenumbers\":\"strict\",\"colorway\":[\"#636efa\",\"#EF553B\",\"#00cc96\",\"#ab63fa\",\"#FFA15A\",\"#19d3f3\",\"#FF6692\",\"#B6E880\",\"#FF97FF\",\"#FECB52\"],\"font\":{\"color\":\"#2a3f5f\"},\"hovermode\":\"closest\",\"hoverlabel\":{\"align\":\"left\"},\"paper_bgcolor\":\"white\",\"plot_bgcolor\":\"#E5ECF6\",\"polar\":{\"bgcolor\":\"#E5ECF6\",\"angularaxis\":{\"gridcolor\":\"white\",\"linecolor\":\"white\",\"ticks\":\"\"},\"radialaxis\":{\"gridcolor\":\"white\",\"linecolor\":\"white\",\"ticks\":\"\"}},\"ternary\":{\"bgcolor\":\"#E5ECF6\",\"aaxis\":{\"gridcolor\":\"white\",\"linecolor\":\"white\",\"ticks\":\"\"},\"baxis\":{\"gridcolor\":\"white\",\"linecolor\":\"white\",\"ticks\":\"\"},\"caxis\":{\"gridcolor\":\"white\",\"linecolor\":\"white\",\"ticks\":\"\"}},\"coloraxis\":{\"colorbar\":{\"outlinewidth\":0,\"ticks\":\"\"}},\"colorscale\":{\"sequential\":[[0.0,\"#0d0887\"],[0.1111111111111111,\"#46039f\"],[0.2222222222222222,\"#7201a8\"],[0.3333333333333333,\"#9c179e\"],[0.4444444444444444,\"#bd3786\"],[0.5555555555555556,\"#d8576b\"],[0.6666666666666666,\"#ed7953\"],[0.7777777777777778,\"#fb9f3a\"],[0.8888888888888888,\"#fdca26\"],[1.0,\"#f0f921\"]],\"sequentialminus\":[[0.0,\"#0d0887\"],[0.1111111111111111,\"#46039f\"],[0.2222222222222222,\"#7201a8\"],[0.3333333333333333,\"#9c179e\"],[0.4444444444444444,\"#bd3786\"],[0.5555555555555556,\"#d8576b\"],[0.6666666666666666,\"#ed7953\"],[0.7777777777777778,\"#fb9f3a\"],[0.8888888888888888,\"#fdca26\"],[1.0,\"#f0f921\"]],\"diverging\":[[0,\"#8e0152\"],[0.1,\"#c51b7d\"],[0.2,\"#de77ae\"],[0.3,\"#f1b6da\"],[0.4,\"#fde0ef\"],[0.5,\"#f7f7f7\"],[0.6,\"#e6f5d0\"],[0.7,\"#b8e186\"],[0.8,\"#7fbc41\"],[0.9,\"#4d9221\"],[1,\"#276419\"]]},\"xaxis\":{\"gridcolor\":\"white\",\"linecolor\":\"white\",\"ticks\":\"\",\"title\":{\"standoff\":15},\"zerolinecolor\":\"white\",\"automargin\":true,\"zerolinewidth\":2},\"yaxis\":{\"gridcolor\":\"white\",\"linecolor\":\"white\",\"ticks\":\"\",\"title\":{\"standoff\":15},\"zerolinecolor\":\"white\",\"automargin\":true,\"zerolinewidth\":2},\"scene\":{\"xaxis\":{\"backgroundcolor\":\"#E5ECF6\",\"gridcolor\":\"white\",\"linecolor\":\"white\",\"showbackground\":true,\"ticks\":\"\",\"zerolinecolor\":\"white\",\"gridwidth\":2},\"yaxis\":{\"backgroundcolor\":\"#E5ECF6\",\"gridcolor\":\"white\",\"linecolor\":\"white\",\"showbackground\":true,\"ticks\":\"\",\"zerolinecolor\":\"white\",\"gridwidth\":2},\"zaxis\":{\"backgroundcolor\":\"#E5ECF6\",\"gridcolor\":\"white\",\"linecolor\":\"white\",\"showbackground\":true,\"ticks\":\"\",\"zerolinecolor\":\"white\",\"gridwidth\":2}},\"shapedefaults\":{\"line\":{\"color\":\"#2a3f5f\"}},\"annotationdefaults\":{\"arrowcolor\":\"#2a3f5f\",\"arrowhead\":0,\"arrowwidth\":1},\"geo\":{\"bgcolor\":\"white\",\"landcolor\":\"#E5ECF6\",\"subunitcolor\":\"white\",\"showland\":true,\"showlakes\":true,\"lakecolor\":\"white\"},\"title\":{\"x\":0.05},\"mapbox\":{\"style\":\"light\"}}},\"xaxis\":{\"anchor\":\"y\",\"domain\":[0.0,1.0],\"title\":{\"text\":\"Weekly cases\"}},\"yaxis\":{\"anchor\":\"x\",\"domain\":[0.0,1.0],\"title\":{\"text\":\"Number of cases per 100,000\"}},\"legend\":{\"title\":{\"text\":\"State\"},\"tracegroupgap\":0},\"title\":{\"text\":\"Cases per 100K\"}},                        {\"responsive\": true}                    ).then(function(){\n",
       "                            \n",
       "var gd = document.getElementById('533e5f06-377d-4692-90dc-6bc06a5d23f2');\n",
       "var x = new MutationObserver(function (mutations, observer) {{\n",
       "        var display = window.getComputedStyle(gd).display;\n",
       "        if (!display || display === 'none') {{\n",
       "            console.log([gd, 'removed!']);\n",
       "            Plotly.purge(gd);\n",
       "            observer.disconnect();\n",
       "        }}\n",
       "}});\n",
       "\n",
       "// Listen for the removal of the full notebook cells\n",
       "var notebookContainer = gd.closest('#notebook-container');\n",
       "if (notebookContainer) {{\n",
       "    x.observe(notebookContainer, {childList: true});\n",
       "}}\n",
       "\n",
       "// Listen for the clearing of the current output cell\n",
       "var outputEl = gd.closest('.output');\n",
       "if (outputEl) {{\n",
       "    x.observe(outputEl, {childList: true});\n",
       "}}\n",
       "\n",
       "                        })                };                });            </script>        </div>"
      ]
     },
     "metadata": {},
     "output_type": "display_data"
    }
   ],
   "source": [
    "weekly_data = [IL_weekly_data, OH_weekly_data, CA_weekly_data, CO_weekly_data]\n",
    "\n",
    "# Getting all states weekly data into one dataframe\n",
    "all_states_weekly_data = pd.concat(weekly_data)\n",
    "\n",
    "# Plot the no. of new cases per 100K population\n",
    "cases_weekly_norm = px.line(all_states_weekly_data, x='date', y='new_cases_norm_100K', color='State', title='Cases per 100K')\n",
    "cases_weekly_norm.update_layout(xaxis_title='Weekly cases', yaxis_title=f'Number of cases per {100000:,}', legend_title='State')\n",
    "cases_weekly_norm.show()"
   ]
  },
  {
   "cell_type": "code",
   "execution_count": 1397,
   "id": "e8bd89fd",
   "metadata": {},
   "outputs": [
    {
     "data": {
      "application/vnd.plotly.v1+json": {
       "config": {
        "plotlyServerURL": "https://plot.ly"
       },
       "data": [
        {
         "hovertemplate": "State=IL<br>date=%{x}<br>new_deaths_norm_100K=%{y}<extra></extra>",
         "legendgroup": "IL",
         "line": {
          "color": "#636efa",
          "dash": "solid"
         },
         "marker": {
          "symbol": "circle"
         },
         "mode": "lines",
         "name": "IL",
         "orientation": "v",
         "showlegend": true,
         "type": "scatter",
         "x": [
          "2020-01-22T00:00:00",
          "2020-01-29T00:00:00",
          "2020-02-05T00:00:00",
          "2020-02-12T00:00:00",
          "2020-02-19T00:00:00",
          "2020-02-26T00:00:00",
          "2020-03-04T00:00:00",
          "2020-03-11T00:00:00",
          "2020-03-18T00:00:00",
          "2020-03-25T00:00:00",
          "2020-04-01T00:00:00",
          "2020-04-08T00:00:00",
          "2020-04-15T00:00:00",
          "2020-04-22T00:00:00",
          "2020-04-29T00:00:00",
          "2020-05-06T00:00:00",
          "2020-05-13T00:00:00",
          "2020-05-20T00:00:00",
          "2020-05-27T00:00:00",
          "2020-06-03T00:00:00",
          "2020-06-10T00:00:00",
          "2020-06-17T00:00:00",
          "2020-06-24T00:00:00",
          "2020-07-01T00:00:00",
          "2020-07-08T00:00:00",
          "2020-07-15T00:00:00",
          "2020-07-22T00:00:00",
          "2020-07-29T00:00:00",
          "2020-08-05T00:00:00",
          "2020-08-12T00:00:00",
          "2020-08-19T00:00:00",
          "2020-08-26T00:00:00",
          "2020-09-02T00:00:00",
          "2020-09-09T00:00:00",
          "2020-09-16T00:00:00",
          "2020-09-23T00:00:00",
          "2020-09-30T00:00:00",
          "2020-10-07T00:00:00",
          "2020-10-14T00:00:00",
          "2020-10-21T00:00:00",
          "2020-10-28T00:00:00",
          "2020-11-04T00:00:00",
          "2020-11-11T00:00:00",
          "2020-11-18T00:00:00",
          "2020-11-25T00:00:00",
          "2020-12-02T00:00:00",
          "2020-12-09T00:00:00",
          "2020-12-16T00:00:00",
          "2020-12-23T00:00:00",
          "2020-12-30T00:00:00",
          "2021-01-06T00:00:00",
          "2021-01-13T00:00:00",
          "2021-01-20T00:00:00",
          "2021-01-27T00:00:00",
          "2021-02-03T00:00:00",
          "2021-02-10T00:00:00",
          "2021-02-17T00:00:00",
          "2021-02-24T00:00:00",
          "2021-03-03T00:00:00",
          "2021-03-10T00:00:00",
          "2021-03-17T00:00:00",
          "2021-03-24T00:00:00",
          "2021-03-31T00:00:00",
          "2021-04-07T00:00:00",
          "2021-04-14T00:00:00",
          "2021-04-21T00:00:00",
          "2021-04-28T00:00:00",
          "2021-05-05T00:00:00",
          "2021-05-12T00:00:00",
          "2021-05-19T00:00:00",
          "2021-05-26T00:00:00",
          "2021-06-02T00:00:00",
          "2021-06-09T00:00:00",
          "2021-06-16T00:00:00",
          "2021-06-23T00:00:00",
          "2021-06-30T00:00:00",
          "2021-07-07T00:00:00",
          "2021-07-14T00:00:00",
          "2021-07-21T00:00:00",
          "2021-07-28T00:00:00",
          "2021-08-04T00:00:00",
          "2021-08-11T00:00:00",
          "2021-08-18T00:00:00",
          "2021-08-25T00:00:00",
          "2021-09-01T00:00:00",
          "2021-09-08T00:00:00",
          "2021-09-15T00:00:00",
          "2021-09-22T00:00:00",
          "2021-09-29T00:00:00",
          "2021-10-06T00:00:00",
          "2021-10-13T00:00:00",
          "2021-10-20T00:00:00",
          "2021-10-27T00:00:00",
          "2021-11-03T00:00:00",
          "2021-11-10T00:00:00",
          "2021-11-17T00:00:00",
          "2021-11-24T00:00:00",
          "2021-12-01T00:00:00",
          "2021-12-08T00:00:00",
          "2021-12-15T00:00:00",
          "2021-12-22T00:00:00",
          "2021-12-29T00:00:00",
          "2022-01-05T00:00:00",
          "2022-01-12T00:00:00",
          "2022-01-19T00:00:00",
          "2022-01-26T00:00:00",
          "2022-02-02T00:00:00",
          "2022-02-09T00:00:00",
          "2022-02-16T00:00:00",
          "2022-02-23T00:00:00",
          "2022-03-02T00:00:00",
          "2022-03-09T00:00:00",
          "2022-03-16T00:00:00",
          "2022-03-23T00:00:00",
          "2022-03-30T00:00:00",
          "2022-04-06T00:00:00",
          "2022-04-13T00:00:00",
          "2022-04-20T00:00:00",
          "2022-04-27T00:00:00",
          "2022-05-04T00:00:00",
          "2022-05-11T00:00:00",
          "2022-05-18T00:00:00",
          "2022-05-25T00:00:00",
          "2022-06-01T00:00:00",
          "2022-06-08T00:00:00",
          "2022-06-15T00:00:00",
          "2022-06-22T00:00:00",
          "2022-06-29T00:00:00",
          "2022-07-06T00:00:00",
          "2022-07-13T00:00:00",
          "2022-07-20T00:00:00",
          "2022-07-27T00:00:00",
          "2022-08-03T00:00:00",
          "2022-08-10T00:00:00",
          "2022-08-17T00:00:00",
          "2022-08-24T00:00:00",
          "2022-08-31T00:00:00",
          "2022-09-07T00:00:00",
          "2022-09-14T00:00:00",
          "2022-09-21T00:00:00",
          "2022-09-28T00:00:00",
          "2022-10-05T00:00:00",
          "2022-10-12T00:00:00",
          "2022-10-19T00:00:00",
          "2022-10-26T00:00:00",
          "2022-11-02T00:00:00",
          "2022-11-09T00:00:00",
          "2022-11-16T00:00:00",
          "2022-11-23T00:00:00",
          "2022-11-30T00:00:00",
          "2022-12-07T00:00:00",
          "2022-12-14T00:00:00",
          "2022-12-21T00:00:00",
          "2022-12-28T00:00:00",
          "2023-01-04T00:00:00",
          "2023-01-11T00:00:00",
          "2023-01-18T00:00:00",
          "2023-01-25T00:00:00",
          "2023-02-01T00:00:00",
          "2023-02-08T00:00:00"
         ],
         "xaxis": "x",
         "y": [
          0,
          0,
          0,
          0,
          0,
          0,
          0,
          0,
          0.01578305122839093,
          0.5366237417652917,
          3.2592000786627278,
          12.176624022703603,
          29.78261766797369,
          26.215648090357334,
          35.43295000773764,
          38.163417870249276,
          43.36393325000408,
          43.22188578894856,
          34.92789236842913,
          30.587553280621623,
          28.3700345830327,
          23.05903784467915,
          18.071593656507616,
          13.092040993950278,
          8.088813754550353,
          8.207186638763284,
          6.510508631711259,
          6.226413709600222,
          6.02123404363114,
          6.344786593813155,
          6.281654388899591,
          7.6705628969979935,
          7.717912050683166,
          7.820501883667706,
          7.575864589627647,
          7.954657819109029,
          8.45971545841754,
          10.35368160582445,
          10.94554602688911,
          12.96577658412315,
          15.364800370838571,
          16.209193611557488,
          41.099065398729984,
          33.20753978453452,
          49.58245543399011,
          49.36149271679264,
          64.93936427921449,
          67.52778468067059,
          60.48854383280825,
          52.013045323162316,
          53.97014367548279,
          52.34448939895852,
          41.02015014258803,
          36.32469240214173,
          30.705926164834555,
          25.615892143678483,
          22.47506494922869,
          18.60821739827291,
          15.57787156242185,
          14.536190181348047,
          11.040244334259455,
          8.47549850964593,
          8.877966315969898,
          7.638996794541211,
          8.049356126479374,
          8.925315469655072,
          9.667118877389445,
          12.223973176388776,
          11.845179946907395,
          11.671566383395094,
          11.34801383321308,
          10.756149412148421,
          8.90953241842668,
          7.6705628969979935,
          5.745030647134299,
          3.874739076569974,
          3.101369566378818,
          3.6064272056873277,
          3.2749831298911185,
          2.288542428116685,
          2.9672136309374952,
          4.632325535532738,
          5.8949696338040125,
          7.828393409281901,
          11.17440026970078,
          11.063918911102043,
          15.088596974341732,
          16.77738345577956,
          14.867634257144259,
          14.212637631166034,
          13.407702018518098,
          13.265654557462577,
          11.900420626206762,
          9.738142607917204,
          8.554413765787885,
          7.1497222064610915,
          8.530739188945297,
          6.7867120282081,
          12.279213855688145,
          15.120163076798512,
          18.22153264317733,
          20.58899032743597,
          22.135729347818284,
          29.719485463060124,
          39.883770454143885,
          45.407838384080705,
          44.00314682475392,
          32.11061772416135,
          30.121953269384093,
          21.670129336580747,
          19.421044536535042,
          12.192407073931994,
          8.546522240173688,
          6.415810324340914,
          5.729247595905908,
          4.40347129272107,
          3.890522127798365,
          2.422698363558008,
          3.1408271944497956,
          2.3595661586444443,
          2.793600067425195,
          2.312217004959271,
          3.472271270246005,
          2.0596881853050166,
          1.696678007052025,
          0,
          0,
          0,
          0,
          0,
          0,
          0,
          0,
          0,
          0,
          0,
          0,
          0,
          3.7484746667428466,
          3.0855865151504274,
          2.746250913740022,
          2.9593221053232996,
          2.051796659690821,
          2.6673356575980676,
          2.051796659690821,
          2.406915312329617,
          1.9097491986353028,
          2.051796659690821,
          2.2806509025024893,
          1.7913763144223707,
          2.0439051340766254,
          2.848840746724563,
          0.9075254456324786,
          0,
          0.09469830737034558,
          0.26042034526845037,
          0.19728814035488665,
          0.22096271719747304,
          0,
          0
         ],
         "yaxis": "y"
        },
        {
         "hovertemplate": "State=OH<br>date=%{x}<br>new_deaths_norm_100K=%{y}<extra></extra>",
         "legendgroup": "OH",
         "line": {
          "color": "#EF553B",
          "dash": "solid"
         },
         "marker": {
          "symbol": "circle"
         },
         "mode": "lines",
         "name": "OH",
         "orientation": "v",
         "showlegend": true,
         "type": "scatter",
         "x": [
          "2020-01-22T00:00:00",
          "2020-01-29T00:00:00",
          "2020-02-05T00:00:00",
          "2020-02-12T00:00:00",
          "2020-02-19T00:00:00",
          "2020-02-26T00:00:00",
          "2020-03-04T00:00:00",
          "2020-03-11T00:00:00",
          "2020-03-18T00:00:00",
          "2020-03-25T00:00:00",
          "2020-04-01T00:00:00",
          "2020-04-08T00:00:00",
          "2020-04-15T00:00:00",
          "2020-04-22T00:00:00",
          "2020-04-29T00:00:00",
          "2020-05-06T00:00:00",
          "2020-05-13T00:00:00",
          "2020-05-20T00:00:00",
          "2020-05-27T00:00:00",
          "2020-06-03T00:00:00",
          "2020-06-10T00:00:00",
          "2020-06-17T00:00:00",
          "2020-06-24T00:00:00",
          "2020-07-01T00:00:00",
          "2020-07-08T00:00:00",
          "2020-07-15T00:00:00",
          "2020-07-22T00:00:00",
          "2020-07-29T00:00:00",
          "2020-08-05T00:00:00",
          "2020-08-12T00:00:00",
          "2020-08-19T00:00:00",
          "2020-08-26T00:00:00",
          "2020-09-02T00:00:00",
          "2020-09-09T00:00:00",
          "2020-09-16T00:00:00",
          "2020-09-23T00:00:00",
          "2020-09-30T00:00:00",
          "2020-10-07T00:00:00",
          "2020-10-14T00:00:00",
          "2020-10-21T00:00:00",
          "2020-10-28T00:00:00",
          "2020-11-04T00:00:00",
          "2020-11-11T00:00:00",
          "2020-11-18T00:00:00",
          "2020-11-25T00:00:00",
          "2020-12-02T00:00:00",
          "2020-12-09T00:00:00",
          "2020-12-16T00:00:00",
          "2020-12-23T00:00:00",
          "2020-12-30T00:00:00",
          "2021-01-06T00:00:00",
          "2021-01-13T00:00:00",
          "2021-01-20T00:00:00",
          "2021-01-27T00:00:00",
          "2021-02-03T00:00:00",
          "2021-02-10T00:00:00",
          "2021-02-17T00:00:00",
          "2021-02-24T00:00:00",
          "2021-03-03T00:00:00",
          "2021-03-10T00:00:00",
          "2021-03-17T00:00:00",
          "2021-03-24T00:00:00",
          "2021-03-31T00:00:00",
          "2021-04-07T00:00:00",
          "2021-04-14T00:00:00",
          "2021-04-21T00:00:00",
          "2021-04-28T00:00:00",
          "2021-05-05T00:00:00",
          "2021-05-12T00:00:00",
          "2021-05-19T00:00:00",
          "2021-05-26T00:00:00",
          "2021-06-02T00:00:00",
          "2021-06-09T00:00:00",
          "2021-06-16T00:00:00",
          "2021-06-23T00:00:00",
          "2021-06-30T00:00:00",
          "2021-07-07T00:00:00",
          "2021-07-14T00:00:00",
          "2021-07-21T00:00:00",
          "2021-07-28T00:00:00",
          "2021-08-04T00:00:00",
          "2021-08-11T00:00:00",
          "2021-08-18T00:00:00",
          "2021-08-25T00:00:00",
          "2021-09-01T00:00:00",
          "2021-09-08T00:00:00",
          "2021-09-15T00:00:00",
          "2021-09-22T00:00:00",
          "2021-09-29T00:00:00",
          "2021-10-06T00:00:00",
          "2021-10-13T00:00:00",
          "2021-10-20T00:00:00",
          "2021-10-27T00:00:00",
          "2021-11-03T00:00:00",
          "2021-11-10T00:00:00",
          "2021-11-17T00:00:00",
          "2021-11-24T00:00:00",
          "2021-12-01T00:00:00",
          "2021-12-08T00:00:00",
          "2021-12-15T00:00:00",
          "2021-12-22T00:00:00",
          "2021-12-29T00:00:00",
          "2022-01-05T00:00:00",
          "2022-01-12T00:00:00",
          "2022-01-19T00:00:00",
          "2022-01-26T00:00:00",
          "2022-02-02T00:00:00",
          "2022-02-09T00:00:00",
          "2022-02-16T00:00:00",
          "2022-02-23T00:00:00",
          "2022-03-02T00:00:00",
          "2022-03-09T00:00:00",
          "2022-03-16T00:00:00",
          "2022-03-23T00:00:00",
          "2022-03-30T00:00:00",
          "2022-04-06T00:00:00",
          "2022-04-13T00:00:00",
          "2022-04-20T00:00:00",
          "2022-04-27T00:00:00",
          "2022-05-04T00:00:00",
          "2022-05-11T00:00:00",
          "2022-05-18T00:00:00",
          "2022-05-25T00:00:00",
          "2022-06-01T00:00:00",
          "2022-06-08T00:00:00",
          "2022-06-15T00:00:00",
          "2022-06-22T00:00:00",
          "2022-06-29T00:00:00",
          "2022-07-06T00:00:00",
          "2022-07-13T00:00:00",
          "2022-07-20T00:00:00",
          "2022-07-27T00:00:00",
          "2022-08-03T00:00:00",
          "2022-08-10T00:00:00",
          "2022-08-17T00:00:00",
          "2022-08-24T00:00:00",
          "2022-08-31T00:00:00",
          "2022-09-07T00:00:00",
          "2022-09-14T00:00:00",
          "2022-09-21T00:00:00",
          "2022-09-28T00:00:00",
          "2022-10-05T00:00:00",
          "2022-10-12T00:00:00",
          "2022-10-19T00:00:00",
          "2022-10-26T00:00:00",
          "2022-11-02T00:00:00",
          "2022-11-09T00:00:00",
          "2022-11-16T00:00:00",
          "2022-11-23T00:00:00",
          "2022-11-30T00:00:00",
          "2022-12-07T00:00:00",
          "2022-12-14T00:00:00",
          "2022-12-21T00:00:00",
          "2022-12-28T00:00:00",
          "2023-01-04T00:00:00",
          "2023-01-11T00:00:00",
          "2023-01-18T00:00:00",
          "2023-01-25T00:00:00",
          "2023-02-01T00:00:00",
          "2023-02-08T00:00:00"
         ],
         "xaxis": "x",
         "y": [
          0,
          0,
          0,
          0,
          0,
          0,
          0,
          0,
          0,
          0.26520433566313917,
          1.8478753710721956,
          5.51796117750725,
          8.452318826941339,
          13.012122404633375,
          15.92081511835813,
          18.7011831535362,
          17.743025553720987,
          16.973077482440907,
          18.299099160756604,
          13.970280004448588,
          12.319169140481302,
          10.017879905210838,
          8.554978569778683,
          7.126297148625643,
          6.484673755892242,
          7.21184693432343,
          6.955197577230068,
          9.54735608387301,
          12.028299869108828,
          8.999837455407175,
          9.29070672677965,
          9.102497198244519,
          8.96561754112806,
          8.332549126964437,
          10.077764755199288,
          11.112917162142509,
          7.725145648510151,
          9.829670376675706,
          5.235646884704553,
          4.363039070587128,
          8.007459941312847,
          7.203291955753651,
          11.643325833468786,
          11.523556133491885,
          11.634770854899008,
          30.874917658331267,
          32.90244757936881,
          32.774122900822135,
          34.21991427911473,
          28.91582756585195,
          31.910070065274486,
          32.8682276650897,
          32.39770384375187,
          31.277001651110865,
          28.274204173118545,
          28.890162630142612,
          240.16391338939692,
          68.62803808676459,
          29.112592072956858,
          40.92701747782122,
          26.879742666244617,
          18.281989203617044,
          9.513136169593896,
          0,
          7.613930927103028,
          9.059722305395624,
          8.127229641289748,
          8.717523162604477,
          8.743188098313814,
          7.451386334277232,
          9.93233011951305,
          8.597753462627576,
          7.725145648510151,
          6.364904055915339,
          4.987552506180972,
          6.356349077345561,
          3.7641905707026204,
          2.6777082923407276,
          2.9856875208527605,
          2.0360848996073266,
          1.8478753710721956,
          3.370661556492801,
          3.5332061493185956,
          4.534138641982701,
          6.801207962974053,
          8.871512776860493,
          11.643325833468786,
          19.55668101051407,
          20.745823031713307,
          27.8122353303505,
          32.43192375803098,
          24.253364245322565,
          43.810045255836634,
          34.510783550487204,
          32.48325362944966,
          33.23609174359019,
          25.365511459393794,
          24.373133945299468,
          23.20110188123979,
          31.396771351087768,
          39.15613691387703,
          38.12953948550359,
          44.4260037128607,
          41.99638979904355,
          49.44777613332079,
          64.70985790180596,
          65.79634018016786,
          66.23264408722656,
          49.33656141191367,
          38.68561309253921,
          54.349778853803976,
          26.409218844906793,
          20.13841955325902,
          13.551086054529435,
          11.078697247863394,
          14.911327647124244,
          7.425721398567896,
          5.9884849988450775,
          5.629175898914373,
          4.072169799214653,
          3.8925152492493007,
          3.4134364493416944,
          2.395393999538031,
          2.2756242995611298,
          1.7366606496650725,
          0,
          0,
          7.246066848602544,
          4.4314788991453575,
          4.072169799214653,
          2.3355091495495803,
          1.3174666997459172,
          3.233781899376342,
          5.868715298868176,
          5.2099819489952175,
          5.38963649896057,
          5.748945598891275,
          5.030327399029865,
          5.150097099006767,
          5.928600148856627,
          5.509406198937472,
          5.3297516489721195,
          6.373459034485119,
          4.465698813424472,
          4.4314788991453575,
          4.012284949226202,
          4.251824349180006,
          0.4790787999076062,
          8.666193291185806,
          3.8497403564004076,
          5.509406198937472,
          5.150097099006767,
          6.16813954881043,
          5.569291048925923,
          5.269866798983669,
          6.287909248787332,
          6.287909248787332,
          6.587333498729587,
          6.347794098775783,
          0
         ],
         "yaxis": "y"
        },
        {
         "hovertemplate": "State=CA<br>date=%{x}<br>new_deaths_norm_100K=%{y}<extra></extra>",
         "legendgroup": "CA",
         "line": {
          "color": "#00cc96",
          "dash": "solid"
         },
         "marker": {
          "symbol": "circle"
         },
         "mode": "lines",
         "name": "CA",
         "orientation": "v",
         "showlegend": true,
         "type": "scatter",
         "x": [
          "2020-01-22T00:00:00",
          "2020-01-29T00:00:00",
          "2020-02-05T00:00:00",
          "2020-02-12T00:00:00",
          "2020-02-19T00:00:00",
          "2020-02-26T00:00:00",
          "2020-03-04T00:00:00",
          "2020-03-11T00:00:00",
          "2020-03-18T00:00:00",
          "2020-03-25T00:00:00",
          "2020-04-01T00:00:00",
          "2020-04-08T00:00:00",
          "2020-04-15T00:00:00",
          "2020-04-22T00:00:00",
          "2020-04-29T00:00:00",
          "2020-05-06T00:00:00",
          "2020-05-13T00:00:00",
          "2020-05-20T00:00:00",
          "2020-05-27T00:00:00",
          "2020-06-03T00:00:00",
          "2020-06-10T00:00:00",
          "2020-06-17T00:00:00",
          "2020-06-24T00:00:00",
          "2020-07-01T00:00:00",
          "2020-07-08T00:00:00",
          "2020-07-15T00:00:00",
          "2020-07-22T00:00:00",
          "2020-07-29T00:00:00",
          "2020-08-05T00:00:00",
          "2020-08-12T00:00:00",
          "2020-08-19T00:00:00",
          "2020-08-26T00:00:00",
          "2020-09-02T00:00:00",
          "2020-09-09T00:00:00",
          "2020-09-16T00:00:00",
          "2020-09-23T00:00:00",
          "2020-09-30T00:00:00",
          "2020-10-07T00:00:00",
          "2020-10-14T00:00:00",
          "2020-10-21T00:00:00",
          "2020-10-28T00:00:00",
          "2020-11-04T00:00:00",
          "2020-11-11T00:00:00",
          "2020-11-18T00:00:00",
          "2020-11-25T00:00:00",
          "2020-12-02T00:00:00",
          "2020-12-09T00:00:00",
          "2020-12-16T00:00:00",
          "2020-12-23T00:00:00",
          "2020-12-30T00:00:00",
          "2021-01-06T00:00:00",
          "2021-01-13T00:00:00",
          "2021-01-20T00:00:00",
          "2021-01-27T00:00:00",
          "2021-02-03T00:00:00",
          "2021-02-10T00:00:00",
          "2021-02-17T00:00:00",
          "2021-02-24T00:00:00",
          "2021-03-03T00:00:00",
          "2021-03-10T00:00:00",
          "2021-03-17T00:00:00",
          "2021-03-24T00:00:00",
          "2021-03-31T00:00:00",
          "2021-04-07T00:00:00",
          "2021-04-14T00:00:00",
          "2021-04-21T00:00:00",
          "2021-04-28T00:00:00",
          "2021-05-05T00:00:00",
          "2021-05-12T00:00:00",
          "2021-05-19T00:00:00",
          "2021-05-26T00:00:00",
          "2021-06-02T00:00:00",
          "2021-06-09T00:00:00",
          "2021-06-16T00:00:00",
          "2021-06-23T00:00:00",
          "2021-06-30T00:00:00",
          "2021-07-07T00:00:00",
          "2021-07-14T00:00:00",
          "2021-07-21T00:00:00",
          "2021-07-28T00:00:00",
          "2021-08-04T00:00:00",
          "2021-08-11T00:00:00",
          "2021-08-18T00:00:00",
          "2021-08-25T00:00:00",
          "2021-09-01T00:00:00",
          "2021-09-08T00:00:00",
          "2021-09-15T00:00:00",
          "2021-09-22T00:00:00",
          "2021-09-29T00:00:00",
          "2021-10-06T00:00:00",
          "2021-10-13T00:00:00",
          "2021-10-20T00:00:00",
          "2021-10-27T00:00:00",
          "2021-11-03T00:00:00",
          "2021-11-10T00:00:00",
          "2021-11-17T00:00:00",
          "2021-11-24T00:00:00",
          "2021-12-01T00:00:00",
          "2021-12-08T00:00:00",
          "2021-12-15T00:00:00",
          "2021-12-22T00:00:00",
          "2021-12-29T00:00:00",
          "2022-01-05T00:00:00",
          "2022-01-12T00:00:00",
          "2022-01-19T00:00:00",
          "2022-01-26T00:00:00",
          "2022-02-02T00:00:00",
          "2022-02-09T00:00:00",
          "2022-02-16T00:00:00",
          "2022-02-23T00:00:00",
          "2022-03-02T00:00:00",
          "2022-03-09T00:00:00",
          "2022-03-16T00:00:00",
          "2022-03-23T00:00:00",
          "2022-03-30T00:00:00",
          "2022-04-06T00:00:00",
          "2022-04-13T00:00:00",
          "2022-04-20T00:00:00",
          "2022-04-27T00:00:00",
          "2022-05-04T00:00:00",
          "2022-05-11T00:00:00",
          "2022-05-18T00:00:00",
          "2022-05-25T00:00:00",
          "2022-06-01T00:00:00",
          "2022-06-08T00:00:00",
          "2022-06-15T00:00:00",
          "2022-06-22T00:00:00",
          "2022-06-29T00:00:00",
          "2022-07-06T00:00:00",
          "2022-07-13T00:00:00",
          "2022-07-20T00:00:00",
          "2022-07-27T00:00:00",
          "2022-08-03T00:00:00",
          "2022-08-10T00:00:00",
          "2022-08-17T00:00:00",
          "2022-08-24T00:00:00",
          "2022-08-31T00:00:00",
          "2022-09-07T00:00:00",
          "2022-09-14T00:00:00",
          "2022-09-21T00:00:00",
          "2022-09-28T00:00:00",
          "2022-10-05T00:00:00",
          "2022-10-12T00:00:00",
          "2022-10-19T00:00:00",
          "2022-10-26T00:00:00",
          "2022-11-02T00:00:00",
          "2022-11-09T00:00:00",
          "2022-11-16T00:00:00",
          "2022-11-23T00:00:00",
          "2022-11-30T00:00:00",
          "2022-12-07T00:00:00",
          "2022-12-14T00:00:00",
          "2022-12-21T00:00:00",
          "2022-12-28T00:00:00",
          "2023-01-04T00:00:00",
          "2023-01-11T00:00:00",
          "2023-01-18T00:00:00",
          "2023-01-25T00:00:00",
          "2023-02-01T00:00:00",
          "2023-02-08T00:00:00"
         ],
         "xaxis": "x",
         "y": [
          0,
          0,
          0,
          0.015185174471200975,
          0.0075925872356004875,
          0.012654312059334146,
          0.0025308624118668293,
          0.0607406978848039,
          0.1391974326526756,
          0.7263575122057799,
          2.33851686856495,
          5.008576713084455,
          7.174994937642461,
          9.399622997673404,
          9.675487000566887,
          9.688141312626222,
          10.070301536818114,
          9.710919074333024,
          9.222462628842726,
          8.850425854298303,
          8.86814189118137,
          8.448018730811475,
          8.589747025876017,
          9.67295613815502,
          11.550856047760208,
          13.24906472612285,
          15.855853010345683,
          17.511037027706593,
          18.229801952676773,
          17.832456554013678,
          15.941902332349157,
          14.91690305554309,
          13.218694377180448,
          11.277522907278591,
          9.764067184982228,
          8.754253082647361,
          8.126599204504387,
          6.883945760277776,
          6.635921243914826,
          5.423638148630615,
          5.49956402098662,
          5.793144060763172,
          5.939934080651447,
          8.040549882500915,
          11.333201880339661,
          14.681532851239476,
          22.813193780567598,
          33.66300094024069,
          48.483731224132846,
          65.07606519633178,
          77.04957526687375,
          84.63963164006238,
          82.0961149161362,
          70.88439443156615,
          58.00483561757586,
          48.301509130478436,
          38.16793603336365,
          28.78855993498518,
          21.033997505025216,
          15.288939830087516,
          10.799189911435759,
          8.584685301052284,
          6.529625022616419,
          4.93265084072845,
          4.2037624661108035,
          3.8949972518630505,
          3.310368034721812,
          2.7814177906416453,
          2.6903067438144395,
          2.768763478582311,
          2.335986006153083,
          2.1259244259681362,
          1.7766654131305142,
          1.5286408967675649,
          1.4147520882335576,
          1.2527768938740804,
          1.5488877960624996,
          1.7387024769525117,
          1.999381305374795,
          2.637158633165236,
          3.115491629008067,
          3.593824624850898,
          3.2875902730150113,
          6.620736069443624,
          10.715671451844154,
          10.761226975257758,
          14.96498944136856,
          13.859002567382754,
          13.484434930426467,
          12.22659631172865,
          12.160793889020114,
          13.304743699183922,
          11.505300524346605,
          7.908945037083842,
          8.081043681090787,
          9.943758416224771,
          10.151289133997853,
          9.24270952813766,
          9.485672319676876,
          8.589747025876017,
          9.3540674742598,
          5.889316832414112,
          5.593205930225692,
          12.95295382393443,
          13.486965792838332,
          16.683445019026138,
          20.94288645819801,
          20.246899294934632,
          26.391833230947295,
          21.49461446398498,
          24.804982498706796,
          20.421528801353446,
          15.666038329455672,
          11.705238654884084,
          9.161721930957922,
          5.795674923175039,
          4.78079909601644,
          6.749810052448834,
          6.678945904916563,
          7.362278756120606,
          4.61376217683323,
          4.449256120061885,
          3.765923268857842,
          4.808638582546975,
          2.02722079190533,
          4.186046429227735,
          5.08450258544046,
          4.31005868740921,
          14.754927861183615,
          0,
          0.06327156029667073,
          3.6419110106763672,
          5.560304718871423,
          5.013638437908188,
          5.960180979946383,
          5.889316832414112,
          4.287280925702408,
          2.9282078105299214,
          3.8190713795070454,
          4.439132670414418,
          6.033575989890521,
          1.8601838727221194,
          3.7811084433290425,
          5.418576423806882,
          3.4267877056676865,
          2.5106155125718943,
          2.677652431755105,
          5.069317410969259,
          1.5944433194761023,
          2.9585781594723235,
          2.4903686132769596,
          2.485306888453226,
          7.043390092225385,
          5.780489748703838,
          1.4248755378810247,
          9.169314518193522,
          11.53314001087714,
          5.896909419649711,
          1.0275301392179326,
          0
         ],
         "yaxis": "y"
        },
        {
         "hovertemplate": "State=CO<br>date=%{x}<br>new_deaths_norm_100K=%{y}<extra></extra>",
         "legendgroup": "CO",
         "line": {
          "color": "#ab63fa",
          "dash": "solid"
         },
         "marker": {
          "symbol": "circle"
         },
         "mode": "lines",
         "name": "CO",
         "orientation": "v",
         "showlegend": true,
         "type": "scatter",
         "x": [
          "2020-01-22T00:00:00",
          "2020-01-29T00:00:00",
          "2020-02-05T00:00:00",
          "2020-02-12T00:00:00",
          "2020-02-19T00:00:00",
          "2020-02-26T00:00:00",
          "2020-03-04T00:00:00",
          "2020-03-11T00:00:00",
          "2020-03-18T00:00:00",
          "2020-03-25T00:00:00",
          "2020-04-01T00:00:00",
          "2020-04-08T00:00:00",
          "2020-04-15T00:00:00",
          "2020-04-22T00:00:00",
          "2020-04-29T00:00:00",
          "2020-05-06T00:00:00",
          "2020-05-13T00:00:00",
          "2020-05-20T00:00:00",
          "2020-05-27T00:00:00",
          "2020-06-03T00:00:00",
          "2020-06-10T00:00:00",
          "2020-06-17T00:00:00",
          "2020-06-24T00:00:00",
          "2020-07-01T00:00:00",
          "2020-07-08T00:00:00",
          "2020-07-15T00:00:00",
          "2020-07-22T00:00:00",
          "2020-07-29T00:00:00",
          "2020-08-05T00:00:00",
          "2020-08-12T00:00:00",
          "2020-08-19T00:00:00",
          "2020-08-26T00:00:00",
          "2020-09-02T00:00:00",
          "2020-09-09T00:00:00",
          "2020-09-16T00:00:00",
          "2020-09-23T00:00:00",
          "2020-09-30T00:00:00",
          "2020-10-07T00:00:00",
          "2020-10-14T00:00:00",
          "2020-10-21T00:00:00",
          "2020-10-28T00:00:00",
          "2020-11-04T00:00:00",
          "2020-11-11T00:00:00",
          "2020-11-18T00:00:00",
          "2020-11-25T00:00:00",
          "2020-12-02T00:00:00",
          "2020-12-09T00:00:00",
          "2020-12-16T00:00:00",
          "2020-12-23T00:00:00",
          "2020-12-30T00:00:00",
          "2021-01-06T00:00:00",
          "2021-01-13T00:00:00",
          "2021-01-20T00:00:00",
          "2021-01-27T00:00:00",
          "2021-02-03T00:00:00",
          "2021-02-10T00:00:00",
          "2021-02-17T00:00:00",
          "2021-02-24T00:00:00",
          "2021-03-03T00:00:00",
          "2021-03-10T00:00:00",
          "2021-03-17T00:00:00",
          "2021-03-24T00:00:00",
          "2021-03-31T00:00:00",
          "2021-04-07T00:00:00",
          "2021-04-14T00:00:00",
          "2021-04-21T00:00:00",
          "2021-04-28T00:00:00",
          "2021-05-05T00:00:00",
          "2021-05-12T00:00:00",
          "2021-05-19T00:00:00",
          "2021-05-26T00:00:00",
          "2021-06-02T00:00:00",
          "2021-06-09T00:00:00",
          "2021-06-16T00:00:00",
          "2021-06-23T00:00:00",
          "2021-06-30T00:00:00",
          "2021-07-07T00:00:00",
          "2021-07-14T00:00:00",
          "2021-07-21T00:00:00",
          "2021-07-28T00:00:00",
          "2021-08-04T00:00:00",
          "2021-08-11T00:00:00",
          "2021-08-18T00:00:00",
          "2021-08-25T00:00:00",
          "2021-09-01T00:00:00",
          "2021-09-08T00:00:00",
          "2021-09-15T00:00:00",
          "2021-09-22T00:00:00",
          "2021-09-29T00:00:00",
          "2021-10-06T00:00:00",
          "2021-10-13T00:00:00",
          "2021-10-20T00:00:00",
          "2021-10-27T00:00:00",
          "2021-11-03T00:00:00",
          "2021-11-10T00:00:00",
          "2021-11-17T00:00:00",
          "2021-11-24T00:00:00",
          "2021-12-01T00:00:00",
          "2021-12-08T00:00:00",
          "2021-12-15T00:00:00",
          "2021-12-22T00:00:00",
          "2021-12-29T00:00:00",
          "2022-01-05T00:00:00",
          "2022-01-12T00:00:00",
          "2022-01-19T00:00:00",
          "2022-01-26T00:00:00",
          "2022-02-02T00:00:00",
          "2022-02-09T00:00:00",
          "2022-02-16T00:00:00",
          "2022-02-23T00:00:00",
          "2022-03-02T00:00:00",
          "2022-03-09T00:00:00",
          "2022-03-16T00:00:00",
          "2022-03-23T00:00:00",
          "2022-03-30T00:00:00",
          "2022-04-06T00:00:00",
          "2022-04-13T00:00:00",
          "2022-04-20T00:00:00",
          "2022-04-27T00:00:00",
          "2022-05-04T00:00:00",
          "2022-05-11T00:00:00",
          "2022-05-18T00:00:00",
          "2022-05-25T00:00:00",
          "2022-06-01T00:00:00",
          "2022-06-08T00:00:00",
          "2022-06-15T00:00:00",
          "2022-06-22T00:00:00",
          "2022-06-29T00:00:00",
          "2022-07-06T00:00:00",
          "2022-07-13T00:00:00",
          "2022-07-20T00:00:00",
          "2022-07-27T00:00:00",
          "2022-08-03T00:00:00",
          "2022-08-10T00:00:00",
          "2022-08-17T00:00:00",
          "2022-08-24T00:00:00",
          "2022-08-31T00:00:00",
          "2022-09-07T00:00:00",
          "2022-09-14T00:00:00",
          "2022-09-21T00:00:00",
          "2022-09-28T00:00:00",
          "2022-10-05T00:00:00",
          "2022-10-12T00:00:00",
          "2022-10-19T00:00:00",
          "2022-10-26T00:00:00",
          "2022-11-02T00:00:00",
          "2022-11-09T00:00:00",
          "2022-11-16T00:00:00",
          "2022-11-23T00:00:00",
          "2022-11-30T00:00:00",
          "2022-12-07T00:00:00",
          "2022-12-14T00:00:00",
          "2022-12-21T00:00:00",
          "2022-12-28T00:00:00",
          "2023-01-04T00:00:00",
          "2023-01-11T00:00:00",
          "2023-01-18T00:00:00",
          "2023-01-25T00:00:00",
          "2023-02-01T00:00:00",
          "2023-02-08T00:00:00"
         ],
         "xaxis": "x",
         "y": [
          0,
          0,
          0,
          0,
          0,
          0,
          0,
          0,
          0.1389193739737331,
          0.7640565568555321,
          5.0531922282945425,
          11.183009604885516,
          17.67749033815754,
          17.62539557291739,
          29.971854934832923,
          20.282228600165038,
          16.583500268114392,
          26.915628707410793,
          16.27093167667349,
          13.996126927853613,
          10.019559847855502,
          8.283067673183838,
          4.8448131673339425,
          3.299335131876162,
          2.795752401221379,
          4.219675984452143,
          3.525079114583478,
          5.209476524014992,
          5.209476524014992,
          2.5005487315271964,
          3.837647706024377,
          2.8478471664615292,
          3.0909560709155617,
          3.1604157579024283,
          2.552643496767346,
          3.247240366636012,
          3.0735911491688452,
          3.0735911491688452,
          6.650765028992474,
          6.7723194812194905,
          5.4873152719624585,
          8.265702751437122,
          13.006326388290764,
          18.962494547414572,
          30.701181648195018,
          28.044348620947375,
          43.08237085360398,
          67.3064366902737,
          46.65954473342761,
          36.53579535509181,
          35.71964403299613,
          33.1843654579755,
          20.16067414793802,
          16.062552615712892,
          15.81944371125886,
          12.259634753181947,
          11.530308039819849,
          9.394422664973703,
          7.241172368380839,
          5.035827306547826,
          6.268736750564707,
          4.028661845238261,
          2.5700084185140626,
          3.750823097290794,
          2.952036696941829,
          4.65379902812006,
          6.425021046285158,
          6.963333620433373,
          6.7896844029662065,
          10.17584414357595,
          7.258537290127555,
          7.970499081742939,
          6.129817376590974,
          8.057323690476522,
          5.400490663228876,
          5.192111602268275,
          4.514879654146326,
          4.150216297465278,
          4.358595358425877,
          3.7334581755440777,
          4.23704090619886,
          4.23704090619886,
          6.477115811525308,
          4.254405827945577,
          5.956168159123807,
          9.793815865148185,
          10.939900700431483,
          12.172810144448366,
          12.016525848727914,
          14.760183484709144,
          17.417016511956792,
          14.829643171696011,
          18.094248460078738,
          34.03524662356462,
          27.29765698583856,
          27.940159090467077,
          30.371248135007402,
          27.95752401221379,
          28.91259470828321,
          31.98618585745205,
          33.826867562604015,
          19.987024930470856,
          20.3516882871519,
          21.931896166103115,
          23.651023419028064,
          25.700084185140632,
          26.950358550904227,
          36.7268094943057,
          21.063650078767285,
          9.568071882440869,
          8.94293469955907,
          4.914272854320809,
          4.914272854320809,
          6.7896844029662065,
          4.619069184626626,
          2.187980140086297,
          3.1430508361557115,
          5.331030976242009,
          10.418953048029984,
          30.24969368278039,
          14.239235832307646,
          1.2850042092570313,
          0.45148796541463265,
          0,
          0,
          2.465818888033763,
          17.955329086105007,
          6.407656124538441,
          3.7334581755440777,
          8.83874516907877,
          7.345361898861139,
          4.8274482455872265,
          6.112452454844257,
          5.9214383156303745,
          4.028661845238261,
          3.5424440363301946,
          4.39332520191931,
          2.674197948994363,
          3.4729843493433283,
          3.177780679649145,
          3.3687948188630283,
          4.219675984452143,
          2.1011555313527137,
          3.1430508361557115,
          2.17061521833958,
          2.7783874794746626,
          2.309534592313313,
          4.636434106373343,
          4.81008332384051,
          6.581305342005607,
          3.212510523142579,
          8.508811655891154,
          6.92860377693994,
          0,
          13.492544197198828,
          4.219675984452143,
          4.914272854320809,
          5.070557150041259,
          3.802917862530944,
          0
         ],
         "yaxis": "y"
        }
       ],
       "layout": {
        "legend": {
         "title": {
          "text": "State"
         },
         "tracegroupgap": 0
        },
        "template": {
         "data": {
          "bar": [
           {
            "error_x": {
             "color": "#2a3f5f"
            },
            "error_y": {
             "color": "#2a3f5f"
            },
            "marker": {
             "line": {
              "color": "#E5ECF6",
              "width": 0.5
             },
             "pattern": {
              "fillmode": "overlay",
              "size": 10,
              "solidity": 0.2
             }
            },
            "type": "bar"
           }
          ],
          "barpolar": [
           {
            "marker": {
             "line": {
              "color": "#E5ECF6",
              "width": 0.5
             },
             "pattern": {
              "fillmode": "overlay",
              "size": 10,
              "solidity": 0.2
             }
            },
            "type": "barpolar"
           }
          ],
          "carpet": [
           {
            "aaxis": {
             "endlinecolor": "#2a3f5f",
             "gridcolor": "white",
             "linecolor": "white",
             "minorgridcolor": "white",
             "startlinecolor": "#2a3f5f"
            },
            "baxis": {
             "endlinecolor": "#2a3f5f",
             "gridcolor": "white",
             "linecolor": "white",
             "minorgridcolor": "white",
             "startlinecolor": "#2a3f5f"
            },
            "type": "carpet"
           }
          ],
          "choropleth": [
           {
            "colorbar": {
             "outlinewidth": 0,
             "ticks": ""
            },
            "type": "choropleth"
           }
          ],
          "contour": [
           {
            "colorbar": {
             "outlinewidth": 0,
             "ticks": ""
            },
            "colorscale": [
             [
              0,
              "#0d0887"
             ],
             [
              0.1111111111111111,
              "#46039f"
             ],
             [
              0.2222222222222222,
              "#7201a8"
             ],
             [
              0.3333333333333333,
              "#9c179e"
             ],
             [
              0.4444444444444444,
              "#bd3786"
             ],
             [
              0.5555555555555556,
              "#d8576b"
             ],
             [
              0.6666666666666666,
              "#ed7953"
             ],
             [
              0.7777777777777778,
              "#fb9f3a"
             ],
             [
              0.8888888888888888,
              "#fdca26"
             ],
             [
              1,
              "#f0f921"
             ]
            ],
            "type": "contour"
           }
          ],
          "contourcarpet": [
           {
            "colorbar": {
             "outlinewidth": 0,
             "ticks": ""
            },
            "type": "contourcarpet"
           }
          ],
          "heatmap": [
           {
            "colorbar": {
             "outlinewidth": 0,
             "ticks": ""
            },
            "colorscale": [
             [
              0,
              "#0d0887"
             ],
             [
              0.1111111111111111,
              "#46039f"
             ],
             [
              0.2222222222222222,
              "#7201a8"
             ],
             [
              0.3333333333333333,
              "#9c179e"
             ],
             [
              0.4444444444444444,
              "#bd3786"
             ],
             [
              0.5555555555555556,
              "#d8576b"
             ],
             [
              0.6666666666666666,
              "#ed7953"
             ],
             [
              0.7777777777777778,
              "#fb9f3a"
             ],
             [
              0.8888888888888888,
              "#fdca26"
             ],
             [
              1,
              "#f0f921"
             ]
            ],
            "type": "heatmap"
           }
          ],
          "heatmapgl": [
           {
            "colorbar": {
             "outlinewidth": 0,
             "ticks": ""
            },
            "colorscale": [
             [
              0,
              "#0d0887"
             ],
             [
              0.1111111111111111,
              "#46039f"
             ],
             [
              0.2222222222222222,
              "#7201a8"
             ],
             [
              0.3333333333333333,
              "#9c179e"
             ],
             [
              0.4444444444444444,
              "#bd3786"
             ],
             [
              0.5555555555555556,
              "#d8576b"
             ],
             [
              0.6666666666666666,
              "#ed7953"
             ],
             [
              0.7777777777777778,
              "#fb9f3a"
             ],
             [
              0.8888888888888888,
              "#fdca26"
             ],
             [
              1,
              "#f0f921"
             ]
            ],
            "type": "heatmapgl"
           }
          ],
          "histogram": [
           {
            "marker": {
             "pattern": {
              "fillmode": "overlay",
              "size": 10,
              "solidity": 0.2
             }
            },
            "type": "histogram"
           }
          ],
          "histogram2d": [
           {
            "colorbar": {
             "outlinewidth": 0,
             "ticks": ""
            },
            "colorscale": [
             [
              0,
              "#0d0887"
             ],
             [
              0.1111111111111111,
              "#46039f"
             ],
             [
              0.2222222222222222,
              "#7201a8"
             ],
             [
              0.3333333333333333,
              "#9c179e"
             ],
             [
              0.4444444444444444,
              "#bd3786"
             ],
             [
              0.5555555555555556,
              "#d8576b"
             ],
             [
              0.6666666666666666,
              "#ed7953"
             ],
             [
              0.7777777777777778,
              "#fb9f3a"
             ],
             [
              0.8888888888888888,
              "#fdca26"
             ],
             [
              1,
              "#f0f921"
             ]
            ],
            "type": "histogram2d"
           }
          ],
          "histogram2dcontour": [
           {
            "colorbar": {
             "outlinewidth": 0,
             "ticks": ""
            },
            "colorscale": [
             [
              0,
              "#0d0887"
             ],
             [
              0.1111111111111111,
              "#46039f"
             ],
             [
              0.2222222222222222,
              "#7201a8"
             ],
             [
              0.3333333333333333,
              "#9c179e"
             ],
             [
              0.4444444444444444,
              "#bd3786"
             ],
             [
              0.5555555555555556,
              "#d8576b"
             ],
             [
              0.6666666666666666,
              "#ed7953"
             ],
             [
              0.7777777777777778,
              "#fb9f3a"
             ],
             [
              0.8888888888888888,
              "#fdca26"
             ],
             [
              1,
              "#f0f921"
             ]
            ],
            "type": "histogram2dcontour"
           }
          ],
          "mesh3d": [
           {
            "colorbar": {
             "outlinewidth": 0,
             "ticks": ""
            },
            "type": "mesh3d"
           }
          ],
          "parcoords": [
           {
            "line": {
             "colorbar": {
              "outlinewidth": 0,
              "ticks": ""
             }
            },
            "type": "parcoords"
           }
          ],
          "pie": [
           {
            "automargin": true,
            "type": "pie"
           }
          ],
          "scatter": [
           {
            "fillpattern": {
             "fillmode": "overlay",
             "size": 10,
             "solidity": 0.2
            },
            "type": "scatter"
           }
          ],
          "scatter3d": [
           {
            "line": {
             "colorbar": {
              "outlinewidth": 0,
              "ticks": ""
             }
            },
            "marker": {
             "colorbar": {
              "outlinewidth": 0,
              "ticks": ""
             }
            },
            "type": "scatter3d"
           }
          ],
          "scattercarpet": [
           {
            "marker": {
             "colorbar": {
              "outlinewidth": 0,
              "ticks": ""
             }
            },
            "type": "scattercarpet"
           }
          ],
          "scattergeo": [
           {
            "marker": {
             "colorbar": {
              "outlinewidth": 0,
              "ticks": ""
             }
            },
            "type": "scattergeo"
           }
          ],
          "scattergl": [
           {
            "marker": {
             "colorbar": {
              "outlinewidth": 0,
              "ticks": ""
             }
            },
            "type": "scattergl"
           }
          ],
          "scattermapbox": [
           {
            "marker": {
             "colorbar": {
              "outlinewidth": 0,
              "ticks": ""
             }
            },
            "type": "scattermapbox"
           }
          ],
          "scatterpolar": [
           {
            "marker": {
             "colorbar": {
              "outlinewidth": 0,
              "ticks": ""
             }
            },
            "type": "scatterpolar"
           }
          ],
          "scatterpolargl": [
           {
            "marker": {
             "colorbar": {
              "outlinewidth": 0,
              "ticks": ""
             }
            },
            "type": "scatterpolargl"
           }
          ],
          "scatterternary": [
           {
            "marker": {
             "colorbar": {
              "outlinewidth": 0,
              "ticks": ""
             }
            },
            "type": "scatterternary"
           }
          ],
          "surface": [
           {
            "colorbar": {
             "outlinewidth": 0,
             "ticks": ""
            },
            "colorscale": [
             [
              0,
              "#0d0887"
             ],
             [
              0.1111111111111111,
              "#46039f"
             ],
             [
              0.2222222222222222,
              "#7201a8"
             ],
             [
              0.3333333333333333,
              "#9c179e"
             ],
             [
              0.4444444444444444,
              "#bd3786"
             ],
             [
              0.5555555555555556,
              "#d8576b"
             ],
             [
              0.6666666666666666,
              "#ed7953"
             ],
             [
              0.7777777777777778,
              "#fb9f3a"
             ],
             [
              0.8888888888888888,
              "#fdca26"
             ],
             [
              1,
              "#f0f921"
             ]
            ],
            "type": "surface"
           }
          ],
          "table": [
           {
            "cells": {
             "fill": {
              "color": "#EBF0F8"
             },
             "line": {
              "color": "white"
             }
            },
            "header": {
             "fill": {
              "color": "#C8D4E3"
             },
             "line": {
              "color": "white"
             }
            },
            "type": "table"
           }
          ]
         },
         "layout": {
          "annotationdefaults": {
           "arrowcolor": "#2a3f5f",
           "arrowhead": 0,
           "arrowwidth": 1
          },
          "autotypenumbers": "strict",
          "coloraxis": {
           "colorbar": {
            "outlinewidth": 0,
            "ticks": ""
           }
          },
          "colorscale": {
           "diverging": [
            [
             0,
             "#8e0152"
            ],
            [
             0.1,
             "#c51b7d"
            ],
            [
             0.2,
             "#de77ae"
            ],
            [
             0.3,
             "#f1b6da"
            ],
            [
             0.4,
             "#fde0ef"
            ],
            [
             0.5,
             "#f7f7f7"
            ],
            [
             0.6,
             "#e6f5d0"
            ],
            [
             0.7,
             "#b8e186"
            ],
            [
             0.8,
             "#7fbc41"
            ],
            [
             0.9,
             "#4d9221"
            ],
            [
             1,
             "#276419"
            ]
           ],
           "sequential": [
            [
             0,
             "#0d0887"
            ],
            [
             0.1111111111111111,
             "#46039f"
            ],
            [
             0.2222222222222222,
             "#7201a8"
            ],
            [
             0.3333333333333333,
             "#9c179e"
            ],
            [
             0.4444444444444444,
             "#bd3786"
            ],
            [
             0.5555555555555556,
             "#d8576b"
            ],
            [
             0.6666666666666666,
             "#ed7953"
            ],
            [
             0.7777777777777778,
             "#fb9f3a"
            ],
            [
             0.8888888888888888,
             "#fdca26"
            ],
            [
             1,
             "#f0f921"
            ]
           ],
           "sequentialminus": [
            [
             0,
             "#0d0887"
            ],
            [
             0.1111111111111111,
             "#46039f"
            ],
            [
             0.2222222222222222,
             "#7201a8"
            ],
            [
             0.3333333333333333,
             "#9c179e"
            ],
            [
             0.4444444444444444,
             "#bd3786"
            ],
            [
             0.5555555555555556,
             "#d8576b"
            ],
            [
             0.6666666666666666,
             "#ed7953"
            ],
            [
             0.7777777777777778,
             "#fb9f3a"
            ],
            [
             0.8888888888888888,
             "#fdca26"
            ],
            [
             1,
             "#f0f921"
            ]
           ]
          },
          "colorway": [
           "#636efa",
           "#EF553B",
           "#00cc96",
           "#ab63fa",
           "#FFA15A",
           "#19d3f3",
           "#FF6692",
           "#B6E880",
           "#FF97FF",
           "#FECB52"
          ],
          "font": {
           "color": "#2a3f5f"
          },
          "geo": {
           "bgcolor": "white",
           "lakecolor": "white",
           "landcolor": "#E5ECF6",
           "showlakes": true,
           "showland": true,
           "subunitcolor": "white"
          },
          "hoverlabel": {
           "align": "left"
          },
          "hovermode": "closest",
          "mapbox": {
           "style": "light"
          },
          "paper_bgcolor": "white",
          "plot_bgcolor": "#E5ECF6",
          "polar": {
           "angularaxis": {
            "gridcolor": "white",
            "linecolor": "white",
            "ticks": ""
           },
           "bgcolor": "#E5ECF6",
           "radialaxis": {
            "gridcolor": "white",
            "linecolor": "white",
            "ticks": ""
           }
          },
          "scene": {
           "xaxis": {
            "backgroundcolor": "#E5ECF6",
            "gridcolor": "white",
            "gridwidth": 2,
            "linecolor": "white",
            "showbackground": true,
            "ticks": "",
            "zerolinecolor": "white"
           },
           "yaxis": {
            "backgroundcolor": "#E5ECF6",
            "gridcolor": "white",
            "gridwidth": 2,
            "linecolor": "white",
            "showbackground": true,
            "ticks": "",
            "zerolinecolor": "white"
           },
           "zaxis": {
            "backgroundcolor": "#E5ECF6",
            "gridcolor": "white",
            "gridwidth": 2,
            "linecolor": "white",
            "showbackground": true,
            "ticks": "",
            "zerolinecolor": "white"
           }
          },
          "shapedefaults": {
           "line": {
            "color": "#2a3f5f"
           }
          },
          "ternary": {
           "aaxis": {
            "gridcolor": "white",
            "linecolor": "white",
            "ticks": ""
           },
           "baxis": {
            "gridcolor": "white",
            "linecolor": "white",
            "ticks": ""
           },
           "bgcolor": "#E5ECF6",
           "caxis": {
            "gridcolor": "white",
            "linecolor": "white",
            "ticks": ""
           }
          },
          "title": {
           "x": 0.05
          },
          "xaxis": {
           "automargin": true,
           "gridcolor": "white",
           "linecolor": "white",
           "ticks": "",
           "title": {
            "standoff": 15
           },
           "zerolinecolor": "white",
           "zerolinewidth": 2
          },
          "yaxis": {
           "automargin": true,
           "gridcolor": "white",
           "linecolor": "white",
           "ticks": "",
           "title": {
            "standoff": 15
           },
           "zerolinecolor": "white",
           "zerolinewidth": 2
          }
         }
        },
        "title": {
         "text": "Deaths per 100K"
        },
        "xaxis": {
         "anchor": "y",
         "domain": [
          0,
          1
         ],
         "title": {
          "text": "Weekly deaths"
         }
        },
        "yaxis": {
         "anchor": "x",
         "domain": [
          0,
          1
         ],
         "title": {
          "text": "Number of Deaths per 100,000"
         }
        }
       }
      },
      "text/html": [
       "<div>                            <div id=\"43076e3d-0e7d-4cbf-ac92-c6ade2e986db\" class=\"plotly-graph-div\" style=\"height:525px; width:100%;\"></div>            <script type=\"text/javascript\">                require([\"plotly\"], function(Plotly) {                    window.PLOTLYENV=window.PLOTLYENV || {};                                    if (document.getElementById(\"43076e3d-0e7d-4cbf-ac92-c6ade2e986db\")) {                    Plotly.newPlot(                        \"43076e3d-0e7d-4cbf-ac92-c6ade2e986db\",                        [{\"hovertemplate\":\"State=IL<br>date=%{x}<br>new_deaths_norm_100K=%{y}<extra></extra>\",\"legendgroup\":\"IL\",\"line\":{\"color\":\"#636efa\",\"dash\":\"solid\"},\"marker\":{\"symbol\":\"circle\"},\"mode\":\"lines\",\"name\":\"IL\",\"orientation\":\"v\",\"showlegend\":true,\"x\":[\"2020-01-22T00:00:00\",\"2020-01-29T00:00:00\",\"2020-02-05T00:00:00\",\"2020-02-12T00:00:00\",\"2020-02-19T00:00:00\",\"2020-02-26T00:00:00\",\"2020-03-04T00:00:00\",\"2020-03-11T00:00:00\",\"2020-03-18T00:00:00\",\"2020-03-25T00:00:00\",\"2020-04-01T00:00:00\",\"2020-04-08T00:00:00\",\"2020-04-15T00:00:00\",\"2020-04-22T00:00:00\",\"2020-04-29T00:00:00\",\"2020-05-06T00:00:00\",\"2020-05-13T00:00:00\",\"2020-05-20T00:00:00\",\"2020-05-27T00:00:00\",\"2020-06-03T00:00:00\",\"2020-06-10T00:00:00\",\"2020-06-17T00:00:00\",\"2020-06-24T00:00:00\",\"2020-07-01T00:00:00\",\"2020-07-08T00:00:00\",\"2020-07-15T00:00:00\",\"2020-07-22T00:00:00\",\"2020-07-29T00:00:00\",\"2020-08-05T00:00:00\",\"2020-08-12T00:00:00\",\"2020-08-19T00:00:00\",\"2020-08-26T00:00:00\",\"2020-09-02T00:00:00\",\"2020-09-09T00:00:00\",\"2020-09-16T00:00:00\",\"2020-09-23T00:00:00\",\"2020-09-30T00:00:00\",\"2020-10-07T00:00:00\",\"2020-10-14T00:00:00\",\"2020-10-21T00:00:00\",\"2020-10-28T00:00:00\",\"2020-11-04T00:00:00\",\"2020-11-11T00:00:00\",\"2020-11-18T00:00:00\",\"2020-11-25T00:00:00\",\"2020-12-02T00:00:00\",\"2020-12-09T00:00:00\",\"2020-12-16T00:00:00\",\"2020-12-23T00:00:00\",\"2020-12-30T00:00:00\",\"2021-01-06T00:00:00\",\"2021-01-13T00:00:00\",\"2021-01-20T00:00:00\",\"2021-01-27T00:00:00\",\"2021-02-03T00:00:00\",\"2021-02-10T00:00:00\",\"2021-02-17T00:00:00\",\"2021-02-24T00:00:00\",\"2021-03-03T00:00:00\",\"2021-03-10T00:00:00\",\"2021-03-17T00:00:00\",\"2021-03-24T00:00:00\",\"2021-03-31T00:00:00\",\"2021-04-07T00:00:00\",\"2021-04-14T00:00:00\",\"2021-04-21T00:00:00\",\"2021-04-28T00:00:00\",\"2021-05-05T00:00:00\",\"2021-05-12T00:00:00\",\"2021-05-19T00:00:00\",\"2021-05-26T00:00:00\",\"2021-06-02T00:00:00\",\"2021-06-09T00:00:00\",\"2021-06-16T00:00:00\",\"2021-06-23T00:00:00\",\"2021-06-30T00:00:00\",\"2021-07-07T00:00:00\",\"2021-07-14T00:00:00\",\"2021-07-21T00:00:00\",\"2021-07-28T00:00:00\",\"2021-08-04T00:00:00\",\"2021-08-11T00:00:00\",\"2021-08-18T00:00:00\",\"2021-08-25T00:00:00\",\"2021-09-01T00:00:00\",\"2021-09-08T00:00:00\",\"2021-09-15T00:00:00\",\"2021-09-22T00:00:00\",\"2021-09-29T00:00:00\",\"2021-10-06T00:00:00\",\"2021-10-13T00:00:00\",\"2021-10-20T00:00:00\",\"2021-10-27T00:00:00\",\"2021-11-03T00:00:00\",\"2021-11-10T00:00:00\",\"2021-11-17T00:00:00\",\"2021-11-24T00:00:00\",\"2021-12-01T00:00:00\",\"2021-12-08T00:00:00\",\"2021-12-15T00:00:00\",\"2021-12-22T00:00:00\",\"2021-12-29T00:00:00\",\"2022-01-05T00:00:00\",\"2022-01-12T00:00:00\",\"2022-01-19T00:00:00\",\"2022-01-26T00:00:00\",\"2022-02-02T00:00:00\",\"2022-02-09T00:00:00\",\"2022-02-16T00:00:00\",\"2022-02-23T00:00:00\",\"2022-03-02T00:00:00\",\"2022-03-09T00:00:00\",\"2022-03-16T00:00:00\",\"2022-03-23T00:00:00\",\"2022-03-30T00:00:00\",\"2022-04-06T00:00:00\",\"2022-04-13T00:00:00\",\"2022-04-20T00:00:00\",\"2022-04-27T00:00:00\",\"2022-05-04T00:00:00\",\"2022-05-11T00:00:00\",\"2022-05-18T00:00:00\",\"2022-05-25T00:00:00\",\"2022-06-01T00:00:00\",\"2022-06-08T00:00:00\",\"2022-06-15T00:00:00\",\"2022-06-22T00:00:00\",\"2022-06-29T00:00:00\",\"2022-07-06T00:00:00\",\"2022-07-13T00:00:00\",\"2022-07-20T00:00:00\",\"2022-07-27T00:00:00\",\"2022-08-03T00:00:00\",\"2022-08-10T00:00:00\",\"2022-08-17T00:00:00\",\"2022-08-24T00:00:00\",\"2022-08-31T00:00:00\",\"2022-09-07T00:00:00\",\"2022-09-14T00:00:00\",\"2022-09-21T00:00:00\",\"2022-09-28T00:00:00\",\"2022-10-05T00:00:00\",\"2022-10-12T00:00:00\",\"2022-10-19T00:00:00\",\"2022-10-26T00:00:00\",\"2022-11-02T00:00:00\",\"2022-11-09T00:00:00\",\"2022-11-16T00:00:00\",\"2022-11-23T00:00:00\",\"2022-11-30T00:00:00\",\"2022-12-07T00:00:00\",\"2022-12-14T00:00:00\",\"2022-12-21T00:00:00\",\"2022-12-28T00:00:00\",\"2023-01-04T00:00:00\",\"2023-01-11T00:00:00\",\"2023-01-18T00:00:00\",\"2023-01-25T00:00:00\",\"2023-02-01T00:00:00\",\"2023-02-08T00:00:00\"],\"xaxis\":\"x\",\"y\":[0.0,0.0,0.0,0.0,0.0,0.0,0.0,0.0,0.01578305122839093,0.5366237417652917,3.2592000786627278,12.176624022703603,29.78261766797369,26.215648090357334,35.43295000773764,38.163417870249276,43.36393325000408,43.22188578894856,34.92789236842913,30.587553280621623,28.3700345830327,23.05903784467915,18.071593656507616,13.092040993950278,8.088813754550353,8.207186638763284,6.510508631711259,6.226413709600222,6.02123404363114,6.344786593813155,6.281654388899591,7.6705628969979935,7.717912050683166,7.820501883667706,7.575864589627647,7.954657819109029,8.45971545841754,10.35368160582445,10.94554602688911,12.96577658412315,15.364800370838571,16.209193611557488,41.099065398729984,33.20753978453452,49.58245543399011,49.36149271679264,64.93936427921449,67.52778468067059,60.48854383280825,52.013045323162316,53.97014367548279,52.34448939895852,41.02015014258803,36.32469240214173,30.705926164834555,25.615892143678483,22.47506494922869,18.60821739827291,15.57787156242185,14.536190181348047,11.040244334259455,8.47549850964593,8.877966315969898,7.638996794541211,8.049356126479374,8.925315469655072,9.667118877389445,12.223973176388776,11.845179946907395,11.671566383395094,11.34801383321308,10.756149412148421,8.90953241842668,7.6705628969979935,5.745030647134299,3.874739076569974,3.101369566378818,3.6064272056873277,3.2749831298911185,2.288542428116685,2.9672136309374952,4.632325535532738,5.8949696338040125,7.828393409281901,11.17440026970078,11.063918911102043,15.088596974341732,16.77738345577956,14.867634257144259,14.212637631166034,13.407702018518098,13.265654557462577,11.900420626206762,9.738142607917204,8.554413765787885,7.1497222064610915,8.530739188945297,6.7867120282081,12.279213855688145,15.120163076798512,18.22153264317733,20.58899032743597,22.135729347818284,29.719485463060124,39.883770454143885,45.407838384080705,44.00314682475392,32.11061772416135,30.121953269384093,21.670129336580747,19.421044536535042,12.192407073931994,8.546522240173688,6.415810324340914,5.729247595905908,4.40347129272107,3.890522127798365,2.422698363558008,3.1408271944497956,2.3595661586444443,2.793600067425195,2.312217004959271,3.472271270246005,2.0596881853050166,1.696678007052025,0.0,0.0,0.0,0.0,0.0,0.0,0.0,0.0,0.0,0.0,0.0,0.0,0.0,3.7484746667428466,3.0855865151504274,2.746250913740022,2.9593221053232996,2.051796659690821,2.6673356575980676,2.051796659690821,2.406915312329617,1.9097491986353028,2.051796659690821,2.2806509025024893,1.7913763144223707,2.0439051340766254,2.848840746724563,0.9075254456324786,0.0,0.09469830737034558,0.26042034526845037,0.19728814035488665,0.22096271719747304,0.0,0.0],\"yaxis\":\"y\",\"type\":\"scatter\"},{\"hovertemplate\":\"State=OH<br>date=%{x}<br>new_deaths_norm_100K=%{y}<extra></extra>\",\"legendgroup\":\"OH\",\"line\":{\"color\":\"#EF553B\",\"dash\":\"solid\"},\"marker\":{\"symbol\":\"circle\"},\"mode\":\"lines\",\"name\":\"OH\",\"orientation\":\"v\",\"showlegend\":true,\"x\":[\"2020-01-22T00:00:00\",\"2020-01-29T00:00:00\",\"2020-02-05T00:00:00\",\"2020-02-12T00:00:00\",\"2020-02-19T00:00:00\",\"2020-02-26T00:00:00\",\"2020-03-04T00:00:00\",\"2020-03-11T00:00:00\",\"2020-03-18T00:00:00\",\"2020-03-25T00:00:00\",\"2020-04-01T00:00:00\",\"2020-04-08T00:00:00\",\"2020-04-15T00:00:00\",\"2020-04-22T00:00:00\",\"2020-04-29T00:00:00\",\"2020-05-06T00:00:00\",\"2020-05-13T00:00:00\",\"2020-05-20T00:00:00\",\"2020-05-27T00:00:00\",\"2020-06-03T00:00:00\",\"2020-06-10T00:00:00\",\"2020-06-17T00:00:00\",\"2020-06-24T00:00:00\",\"2020-07-01T00:00:00\",\"2020-07-08T00:00:00\",\"2020-07-15T00:00:00\",\"2020-07-22T00:00:00\",\"2020-07-29T00:00:00\",\"2020-08-05T00:00:00\",\"2020-08-12T00:00:00\",\"2020-08-19T00:00:00\",\"2020-08-26T00:00:00\",\"2020-09-02T00:00:00\",\"2020-09-09T00:00:00\",\"2020-09-16T00:00:00\",\"2020-09-23T00:00:00\",\"2020-09-30T00:00:00\",\"2020-10-07T00:00:00\",\"2020-10-14T00:00:00\",\"2020-10-21T00:00:00\",\"2020-10-28T00:00:00\",\"2020-11-04T00:00:00\",\"2020-11-11T00:00:00\",\"2020-11-18T00:00:00\",\"2020-11-25T00:00:00\",\"2020-12-02T00:00:00\",\"2020-12-09T00:00:00\",\"2020-12-16T00:00:00\",\"2020-12-23T00:00:00\",\"2020-12-30T00:00:00\",\"2021-01-06T00:00:00\",\"2021-01-13T00:00:00\",\"2021-01-20T00:00:00\",\"2021-01-27T00:00:00\",\"2021-02-03T00:00:00\",\"2021-02-10T00:00:00\",\"2021-02-17T00:00:00\",\"2021-02-24T00:00:00\",\"2021-03-03T00:00:00\",\"2021-03-10T00:00:00\",\"2021-03-17T00:00:00\",\"2021-03-24T00:00:00\",\"2021-03-31T00:00:00\",\"2021-04-07T00:00:00\",\"2021-04-14T00:00:00\",\"2021-04-21T00:00:00\",\"2021-04-28T00:00:00\",\"2021-05-05T00:00:00\",\"2021-05-12T00:00:00\",\"2021-05-19T00:00:00\",\"2021-05-26T00:00:00\",\"2021-06-02T00:00:00\",\"2021-06-09T00:00:00\",\"2021-06-16T00:00:00\",\"2021-06-23T00:00:00\",\"2021-06-30T00:00:00\",\"2021-07-07T00:00:00\",\"2021-07-14T00:00:00\",\"2021-07-21T00:00:00\",\"2021-07-28T00:00:00\",\"2021-08-04T00:00:00\",\"2021-08-11T00:00:00\",\"2021-08-18T00:00:00\",\"2021-08-25T00:00:00\",\"2021-09-01T00:00:00\",\"2021-09-08T00:00:00\",\"2021-09-15T00:00:00\",\"2021-09-22T00:00:00\",\"2021-09-29T00:00:00\",\"2021-10-06T00:00:00\",\"2021-10-13T00:00:00\",\"2021-10-20T00:00:00\",\"2021-10-27T00:00:00\",\"2021-11-03T00:00:00\",\"2021-11-10T00:00:00\",\"2021-11-17T00:00:00\",\"2021-11-24T00:00:00\",\"2021-12-01T00:00:00\",\"2021-12-08T00:00:00\",\"2021-12-15T00:00:00\",\"2021-12-22T00:00:00\",\"2021-12-29T00:00:00\",\"2022-01-05T00:00:00\",\"2022-01-12T00:00:00\",\"2022-01-19T00:00:00\",\"2022-01-26T00:00:00\",\"2022-02-02T00:00:00\",\"2022-02-09T00:00:00\",\"2022-02-16T00:00:00\",\"2022-02-23T00:00:00\",\"2022-03-02T00:00:00\",\"2022-03-09T00:00:00\",\"2022-03-16T00:00:00\",\"2022-03-23T00:00:00\",\"2022-03-30T00:00:00\",\"2022-04-06T00:00:00\",\"2022-04-13T00:00:00\",\"2022-04-20T00:00:00\",\"2022-04-27T00:00:00\",\"2022-05-04T00:00:00\",\"2022-05-11T00:00:00\",\"2022-05-18T00:00:00\",\"2022-05-25T00:00:00\",\"2022-06-01T00:00:00\",\"2022-06-08T00:00:00\",\"2022-06-15T00:00:00\",\"2022-06-22T00:00:00\",\"2022-06-29T00:00:00\",\"2022-07-06T00:00:00\",\"2022-07-13T00:00:00\",\"2022-07-20T00:00:00\",\"2022-07-27T00:00:00\",\"2022-08-03T00:00:00\",\"2022-08-10T00:00:00\",\"2022-08-17T00:00:00\",\"2022-08-24T00:00:00\",\"2022-08-31T00:00:00\",\"2022-09-07T00:00:00\",\"2022-09-14T00:00:00\",\"2022-09-21T00:00:00\",\"2022-09-28T00:00:00\",\"2022-10-05T00:00:00\",\"2022-10-12T00:00:00\",\"2022-10-19T00:00:00\",\"2022-10-26T00:00:00\",\"2022-11-02T00:00:00\",\"2022-11-09T00:00:00\",\"2022-11-16T00:00:00\",\"2022-11-23T00:00:00\",\"2022-11-30T00:00:00\",\"2022-12-07T00:00:00\",\"2022-12-14T00:00:00\",\"2022-12-21T00:00:00\",\"2022-12-28T00:00:00\",\"2023-01-04T00:00:00\",\"2023-01-11T00:00:00\",\"2023-01-18T00:00:00\",\"2023-01-25T00:00:00\",\"2023-02-01T00:00:00\",\"2023-02-08T00:00:00\"],\"xaxis\":\"x\",\"y\":[0.0,0.0,0.0,0.0,0.0,0.0,0.0,0.0,0.0,0.26520433566313917,1.8478753710721956,5.51796117750725,8.452318826941339,13.012122404633375,15.92081511835813,18.7011831535362,17.743025553720987,16.973077482440907,18.299099160756604,13.970280004448588,12.319169140481302,10.017879905210838,8.554978569778683,7.126297148625643,6.484673755892242,7.21184693432343,6.955197577230068,9.54735608387301,12.028299869108828,8.999837455407175,9.29070672677965,9.102497198244519,8.96561754112806,8.332549126964437,10.077764755199288,11.112917162142509,7.725145648510151,9.829670376675706,5.235646884704553,4.363039070587128,8.007459941312847,7.203291955753651,11.643325833468786,11.523556133491885,11.634770854899008,30.874917658331267,32.90244757936881,32.774122900822135,34.21991427911473,28.91582756585195,31.910070065274486,32.8682276650897,32.39770384375187,31.277001651110865,28.274204173118545,28.890162630142612,240.16391338939692,68.62803808676459,29.112592072956858,40.92701747782122,26.879742666244617,18.281989203617044,9.513136169593896,0.0,7.613930927103028,9.059722305395624,8.127229641289748,8.717523162604477,8.743188098313814,7.451386334277232,9.93233011951305,8.597753462627576,7.725145648510151,6.364904055915339,4.987552506180972,6.356349077345561,3.7641905707026204,2.6777082923407276,2.9856875208527605,2.0360848996073266,1.8478753710721956,3.370661556492801,3.5332061493185956,4.534138641982701,6.801207962974053,8.871512776860493,11.643325833468786,19.55668101051407,20.745823031713307,27.8122353303505,32.43192375803098,24.253364245322565,43.810045255836634,34.510783550487204,32.48325362944966,33.23609174359019,25.365511459393794,24.373133945299468,23.20110188123979,31.396771351087768,39.15613691387703,38.12953948550359,44.4260037128607,41.99638979904355,49.44777613332079,64.70985790180596,65.79634018016786,66.23264408722656,49.33656141191367,38.68561309253921,54.349778853803976,26.409218844906793,20.13841955325902,13.551086054529435,11.078697247863394,14.911327647124244,7.425721398567896,5.9884849988450775,5.629175898914373,4.072169799214653,3.8925152492493007,3.4134364493416944,2.395393999538031,2.2756242995611298,1.7366606496650725,0.0,0.0,7.246066848602544,4.4314788991453575,4.072169799214653,2.3355091495495803,1.3174666997459172,3.233781899376342,5.868715298868176,5.2099819489952175,5.38963649896057,5.748945598891275,5.030327399029865,5.150097099006767,5.928600148856627,5.509406198937472,5.3297516489721195,6.373459034485119,4.465698813424472,4.4314788991453575,4.012284949226202,4.251824349180006,0.4790787999076062,8.666193291185806,3.8497403564004076,5.509406198937472,5.150097099006767,6.16813954881043,5.569291048925923,5.269866798983669,6.287909248787332,6.287909248787332,6.587333498729587,6.347794098775783,0.0],\"yaxis\":\"y\",\"type\":\"scatter\"},{\"hovertemplate\":\"State=CA<br>date=%{x}<br>new_deaths_norm_100K=%{y}<extra></extra>\",\"legendgroup\":\"CA\",\"line\":{\"color\":\"#00cc96\",\"dash\":\"solid\"},\"marker\":{\"symbol\":\"circle\"},\"mode\":\"lines\",\"name\":\"CA\",\"orientation\":\"v\",\"showlegend\":true,\"x\":[\"2020-01-22T00:00:00\",\"2020-01-29T00:00:00\",\"2020-02-05T00:00:00\",\"2020-02-12T00:00:00\",\"2020-02-19T00:00:00\",\"2020-02-26T00:00:00\",\"2020-03-04T00:00:00\",\"2020-03-11T00:00:00\",\"2020-03-18T00:00:00\",\"2020-03-25T00:00:00\",\"2020-04-01T00:00:00\",\"2020-04-08T00:00:00\",\"2020-04-15T00:00:00\",\"2020-04-22T00:00:00\",\"2020-04-29T00:00:00\",\"2020-05-06T00:00:00\",\"2020-05-13T00:00:00\",\"2020-05-20T00:00:00\",\"2020-05-27T00:00:00\",\"2020-06-03T00:00:00\",\"2020-06-10T00:00:00\",\"2020-06-17T00:00:00\",\"2020-06-24T00:00:00\",\"2020-07-01T00:00:00\",\"2020-07-08T00:00:00\",\"2020-07-15T00:00:00\",\"2020-07-22T00:00:00\",\"2020-07-29T00:00:00\",\"2020-08-05T00:00:00\",\"2020-08-12T00:00:00\",\"2020-08-19T00:00:00\",\"2020-08-26T00:00:00\",\"2020-09-02T00:00:00\",\"2020-09-09T00:00:00\",\"2020-09-16T00:00:00\",\"2020-09-23T00:00:00\",\"2020-09-30T00:00:00\",\"2020-10-07T00:00:00\",\"2020-10-14T00:00:00\",\"2020-10-21T00:00:00\",\"2020-10-28T00:00:00\",\"2020-11-04T00:00:00\",\"2020-11-11T00:00:00\",\"2020-11-18T00:00:00\",\"2020-11-25T00:00:00\",\"2020-12-02T00:00:00\",\"2020-12-09T00:00:00\",\"2020-12-16T00:00:00\",\"2020-12-23T00:00:00\",\"2020-12-30T00:00:00\",\"2021-01-06T00:00:00\",\"2021-01-13T00:00:00\",\"2021-01-20T00:00:00\",\"2021-01-27T00:00:00\",\"2021-02-03T00:00:00\",\"2021-02-10T00:00:00\",\"2021-02-17T00:00:00\",\"2021-02-24T00:00:00\",\"2021-03-03T00:00:00\",\"2021-03-10T00:00:00\",\"2021-03-17T00:00:00\",\"2021-03-24T00:00:00\",\"2021-03-31T00:00:00\",\"2021-04-07T00:00:00\",\"2021-04-14T00:00:00\",\"2021-04-21T00:00:00\",\"2021-04-28T00:00:00\",\"2021-05-05T00:00:00\",\"2021-05-12T00:00:00\",\"2021-05-19T00:00:00\",\"2021-05-26T00:00:00\",\"2021-06-02T00:00:00\",\"2021-06-09T00:00:00\",\"2021-06-16T00:00:00\",\"2021-06-23T00:00:00\",\"2021-06-30T00:00:00\",\"2021-07-07T00:00:00\",\"2021-07-14T00:00:00\",\"2021-07-21T00:00:00\",\"2021-07-28T00:00:00\",\"2021-08-04T00:00:00\",\"2021-08-11T00:00:00\",\"2021-08-18T00:00:00\",\"2021-08-25T00:00:00\",\"2021-09-01T00:00:00\",\"2021-09-08T00:00:00\",\"2021-09-15T00:00:00\",\"2021-09-22T00:00:00\",\"2021-09-29T00:00:00\",\"2021-10-06T00:00:00\",\"2021-10-13T00:00:00\",\"2021-10-20T00:00:00\",\"2021-10-27T00:00:00\",\"2021-11-03T00:00:00\",\"2021-11-10T00:00:00\",\"2021-11-17T00:00:00\",\"2021-11-24T00:00:00\",\"2021-12-01T00:00:00\",\"2021-12-08T00:00:00\",\"2021-12-15T00:00:00\",\"2021-12-22T00:00:00\",\"2021-12-29T00:00:00\",\"2022-01-05T00:00:00\",\"2022-01-12T00:00:00\",\"2022-01-19T00:00:00\",\"2022-01-26T00:00:00\",\"2022-02-02T00:00:00\",\"2022-02-09T00:00:00\",\"2022-02-16T00:00:00\",\"2022-02-23T00:00:00\",\"2022-03-02T00:00:00\",\"2022-03-09T00:00:00\",\"2022-03-16T00:00:00\",\"2022-03-23T00:00:00\",\"2022-03-30T00:00:00\",\"2022-04-06T00:00:00\",\"2022-04-13T00:00:00\",\"2022-04-20T00:00:00\",\"2022-04-27T00:00:00\",\"2022-05-04T00:00:00\",\"2022-05-11T00:00:00\",\"2022-05-18T00:00:00\",\"2022-05-25T00:00:00\",\"2022-06-01T00:00:00\",\"2022-06-08T00:00:00\",\"2022-06-15T00:00:00\",\"2022-06-22T00:00:00\",\"2022-06-29T00:00:00\",\"2022-07-06T00:00:00\",\"2022-07-13T00:00:00\",\"2022-07-20T00:00:00\",\"2022-07-27T00:00:00\",\"2022-08-03T00:00:00\",\"2022-08-10T00:00:00\",\"2022-08-17T00:00:00\",\"2022-08-24T00:00:00\",\"2022-08-31T00:00:00\",\"2022-09-07T00:00:00\",\"2022-09-14T00:00:00\",\"2022-09-21T00:00:00\",\"2022-09-28T00:00:00\",\"2022-10-05T00:00:00\",\"2022-10-12T00:00:00\",\"2022-10-19T00:00:00\",\"2022-10-26T00:00:00\",\"2022-11-02T00:00:00\",\"2022-11-09T00:00:00\",\"2022-11-16T00:00:00\",\"2022-11-23T00:00:00\",\"2022-11-30T00:00:00\",\"2022-12-07T00:00:00\",\"2022-12-14T00:00:00\",\"2022-12-21T00:00:00\",\"2022-12-28T00:00:00\",\"2023-01-04T00:00:00\",\"2023-01-11T00:00:00\",\"2023-01-18T00:00:00\",\"2023-01-25T00:00:00\",\"2023-02-01T00:00:00\",\"2023-02-08T00:00:00\"],\"xaxis\":\"x\",\"y\":[0.0,0.0,0.0,0.015185174471200975,0.0075925872356004875,0.012654312059334146,0.0025308624118668293,0.0607406978848039,0.1391974326526756,0.7263575122057799,2.33851686856495,5.008576713084455,7.174994937642461,9.399622997673404,9.675487000566887,9.688141312626222,10.070301536818114,9.710919074333024,9.222462628842726,8.850425854298303,8.86814189118137,8.448018730811475,8.589747025876017,9.67295613815502,11.550856047760208,13.24906472612285,15.855853010345683,17.511037027706593,18.229801952676773,17.832456554013678,15.941902332349157,14.91690305554309,13.218694377180448,11.277522907278591,9.764067184982228,8.754253082647361,8.126599204504387,6.883945760277776,6.635921243914826,5.423638148630615,5.49956402098662,5.793144060763172,5.939934080651447,8.040549882500915,11.333201880339661,14.681532851239476,22.813193780567598,33.66300094024069,48.483731224132846,65.07606519633178,77.04957526687375,84.63963164006238,82.0961149161362,70.88439443156615,58.00483561757586,48.301509130478436,38.16793603336365,28.78855993498518,21.033997505025216,15.288939830087516,10.799189911435759,8.584685301052284,6.529625022616419,4.93265084072845,4.2037624661108035,3.8949972518630505,3.310368034721812,2.7814177906416453,2.6903067438144395,2.768763478582311,2.335986006153083,2.1259244259681362,1.7766654131305142,1.5286408967675649,1.4147520882335576,1.2527768938740804,1.5488877960624996,1.7387024769525117,1.999381305374795,2.637158633165236,3.115491629008067,3.593824624850898,3.2875902730150113,6.620736069443624,10.715671451844154,10.761226975257758,14.96498944136856,13.859002567382754,13.484434930426467,12.22659631172865,12.160793889020114,13.304743699183922,11.505300524346605,7.908945037083842,8.081043681090787,9.943758416224771,10.151289133997853,9.24270952813766,9.485672319676876,8.589747025876017,9.3540674742598,5.889316832414112,5.593205930225692,12.95295382393443,13.486965792838332,16.683445019026138,20.94288645819801,20.246899294934632,26.391833230947295,21.49461446398498,24.804982498706796,20.421528801353446,15.666038329455672,11.705238654884084,9.161721930957922,5.795674923175039,4.78079909601644,6.749810052448834,6.678945904916563,7.362278756120606,4.61376217683323,4.449256120061885,3.765923268857842,4.808638582546975,2.02722079190533,4.186046429227735,5.08450258544046,4.31005868740921,14.754927861183615,0.0,0.06327156029667073,3.6419110106763672,5.560304718871423,5.013638437908188,5.960180979946383,5.889316832414112,4.287280925702408,2.9282078105299214,3.8190713795070454,4.439132670414418,6.033575989890521,1.8601838727221194,3.7811084433290425,5.418576423806882,3.4267877056676865,2.5106155125718943,2.677652431755105,5.069317410969259,1.5944433194761023,2.9585781594723235,2.4903686132769596,2.485306888453226,7.043390092225385,5.780489748703838,1.4248755378810247,9.169314518193522,11.53314001087714,5.896909419649711,1.0275301392179326,0.0],\"yaxis\":\"y\",\"type\":\"scatter\"},{\"hovertemplate\":\"State=CO<br>date=%{x}<br>new_deaths_norm_100K=%{y}<extra></extra>\",\"legendgroup\":\"CO\",\"line\":{\"color\":\"#ab63fa\",\"dash\":\"solid\"},\"marker\":{\"symbol\":\"circle\"},\"mode\":\"lines\",\"name\":\"CO\",\"orientation\":\"v\",\"showlegend\":true,\"x\":[\"2020-01-22T00:00:00\",\"2020-01-29T00:00:00\",\"2020-02-05T00:00:00\",\"2020-02-12T00:00:00\",\"2020-02-19T00:00:00\",\"2020-02-26T00:00:00\",\"2020-03-04T00:00:00\",\"2020-03-11T00:00:00\",\"2020-03-18T00:00:00\",\"2020-03-25T00:00:00\",\"2020-04-01T00:00:00\",\"2020-04-08T00:00:00\",\"2020-04-15T00:00:00\",\"2020-04-22T00:00:00\",\"2020-04-29T00:00:00\",\"2020-05-06T00:00:00\",\"2020-05-13T00:00:00\",\"2020-05-20T00:00:00\",\"2020-05-27T00:00:00\",\"2020-06-03T00:00:00\",\"2020-06-10T00:00:00\",\"2020-06-17T00:00:00\",\"2020-06-24T00:00:00\",\"2020-07-01T00:00:00\",\"2020-07-08T00:00:00\",\"2020-07-15T00:00:00\",\"2020-07-22T00:00:00\",\"2020-07-29T00:00:00\",\"2020-08-05T00:00:00\",\"2020-08-12T00:00:00\",\"2020-08-19T00:00:00\",\"2020-08-26T00:00:00\",\"2020-09-02T00:00:00\",\"2020-09-09T00:00:00\",\"2020-09-16T00:00:00\",\"2020-09-23T00:00:00\",\"2020-09-30T00:00:00\",\"2020-10-07T00:00:00\",\"2020-10-14T00:00:00\",\"2020-10-21T00:00:00\",\"2020-10-28T00:00:00\",\"2020-11-04T00:00:00\",\"2020-11-11T00:00:00\",\"2020-11-18T00:00:00\",\"2020-11-25T00:00:00\",\"2020-12-02T00:00:00\",\"2020-12-09T00:00:00\",\"2020-12-16T00:00:00\",\"2020-12-23T00:00:00\",\"2020-12-30T00:00:00\",\"2021-01-06T00:00:00\",\"2021-01-13T00:00:00\",\"2021-01-20T00:00:00\",\"2021-01-27T00:00:00\",\"2021-02-03T00:00:00\",\"2021-02-10T00:00:00\",\"2021-02-17T00:00:00\",\"2021-02-24T00:00:00\",\"2021-03-03T00:00:00\",\"2021-03-10T00:00:00\",\"2021-03-17T00:00:00\",\"2021-03-24T00:00:00\",\"2021-03-31T00:00:00\",\"2021-04-07T00:00:00\",\"2021-04-14T00:00:00\",\"2021-04-21T00:00:00\",\"2021-04-28T00:00:00\",\"2021-05-05T00:00:00\",\"2021-05-12T00:00:00\",\"2021-05-19T00:00:00\",\"2021-05-26T00:00:00\",\"2021-06-02T00:00:00\",\"2021-06-09T00:00:00\",\"2021-06-16T00:00:00\",\"2021-06-23T00:00:00\",\"2021-06-30T00:00:00\",\"2021-07-07T00:00:00\",\"2021-07-14T00:00:00\",\"2021-07-21T00:00:00\",\"2021-07-28T00:00:00\",\"2021-08-04T00:00:00\",\"2021-08-11T00:00:00\",\"2021-08-18T00:00:00\",\"2021-08-25T00:00:00\",\"2021-09-01T00:00:00\",\"2021-09-08T00:00:00\",\"2021-09-15T00:00:00\",\"2021-09-22T00:00:00\",\"2021-09-29T00:00:00\",\"2021-10-06T00:00:00\",\"2021-10-13T00:00:00\",\"2021-10-20T00:00:00\",\"2021-10-27T00:00:00\",\"2021-11-03T00:00:00\",\"2021-11-10T00:00:00\",\"2021-11-17T00:00:00\",\"2021-11-24T00:00:00\",\"2021-12-01T00:00:00\",\"2021-12-08T00:00:00\",\"2021-12-15T00:00:00\",\"2021-12-22T00:00:00\",\"2021-12-29T00:00:00\",\"2022-01-05T00:00:00\",\"2022-01-12T00:00:00\",\"2022-01-19T00:00:00\",\"2022-01-26T00:00:00\",\"2022-02-02T00:00:00\",\"2022-02-09T00:00:00\",\"2022-02-16T00:00:00\",\"2022-02-23T00:00:00\",\"2022-03-02T00:00:00\",\"2022-03-09T00:00:00\",\"2022-03-16T00:00:00\",\"2022-03-23T00:00:00\",\"2022-03-30T00:00:00\",\"2022-04-06T00:00:00\",\"2022-04-13T00:00:00\",\"2022-04-20T00:00:00\",\"2022-04-27T00:00:00\",\"2022-05-04T00:00:00\",\"2022-05-11T00:00:00\",\"2022-05-18T00:00:00\",\"2022-05-25T00:00:00\",\"2022-06-01T00:00:00\",\"2022-06-08T00:00:00\",\"2022-06-15T00:00:00\",\"2022-06-22T00:00:00\",\"2022-06-29T00:00:00\",\"2022-07-06T00:00:00\",\"2022-07-13T00:00:00\",\"2022-07-20T00:00:00\",\"2022-07-27T00:00:00\",\"2022-08-03T00:00:00\",\"2022-08-10T00:00:00\",\"2022-08-17T00:00:00\",\"2022-08-24T00:00:00\",\"2022-08-31T00:00:00\",\"2022-09-07T00:00:00\",\"2022-09-14T00:00:00\",\"2022-09-21T00:00:00\",\"2022-09-28T00:00:00\",\"2022-10-05T00:00:00\",\"2022-10-12T00:00:00\",\"2022-10-19T00:00:00\",\"2022-10-26T00:00:00\",\"2022-11-02T00:00:00\",\"2022-11-09T00:00:00\",\"2022-11-16T00:00:00\",\"2022-11-23T00:00:00\",\"2022-11-30T00:00:00\",\"2022-12-07T00:00:00\",\"2022-12-14T00:00:00\",\"2022-12-21T00:00:00\",\"2022-12-28T00:00:00\",\"2023-01-04T00:00:00\",\"2023-01-11T00:00:00\",\"2023-01-18T00:00:00\",\"2023-01-25T00:00:00\",\"2023-02-01T00:00:00\",\"2023-02-08T00:00:00\"],\"xaxis\":\"x\",\"y\":[0.0,0.0,0.0,0.0,0.0,0.0,0.0,0.0,0.1389193739737331,0.7640565568555321,5.0531922282945425,11.183009604885516,17.67749033815754,17.62539557291739,29.971854934832923,20.282228600165038,16.583500268114392,26.915628707410793,16.27093167667349,13.996126927853613,10.019559847855502,8.283067673183838,4.8448131673339425,3.299335131876162,2.795752401221379,4.219675984452143,3.525079114583478,5.209476524014992,5.209476524014992,2.5005487315271964,3.837647706024377,2.8478471664615292,3.0909560709155617,3.1604157579024283,2.552643496767346,3.247240366636012,3.0735911491688452,3.0735911491688452,6.650765028992474,6.7723194812194905,5.4873152719624585,8.265702751437122,13.006326388290764,18.962494547414572,30.701181648195018,28.044348620947375,43.08237085360398,67.3064366902737,46.65954473342761,36.53579535509181,35.71964403299613,33.1843654579755,20.16067414793802,16.062552615712892,15.81944371125886,12.259634753181947,11.530308039819849,9.394422664973703,7.241172368380839,5.035827306547826,6.268736750564707,4.028661845238261,2.5700084185140626,3.750823097290794,2.952036696941829,4.65379902812006,6.425021046285158,6.963333620433373,6.7896844029662065,10.17584414357595,7.258537290127555,7.970499081742939,6.129817376590974,8.057323690476522,5.400490663228876,5.192111602268275,4.514879654146326,4.150216297465278,4.358595358425877,3.7334581755440777,4.23704090619886,4.23704090619886,6.477115811525308,4.254405827945577,5.956168159123807,9.793815865148185,10.939900700431483,12.172810144448366,12.016525848727914,14.760183484709144,17.417016511956792,14.829643171696011,18.094248460078738,34.03524662356462,27.29765698583856,27.940159090467077,30.371248135007402,27.95752401221379,28.91259470828321,31.98618585745205,33.826867562604015,19.987024930470856,20.3516882871519,21.931896166103115,23.651023419028064,25.700084185140632,26.950358550904227,36.7268094943057,21.063650078767285,9.568071882440869,8.94293469955907,4.914272854320809,4.914272854320809,6.7896844029662065,4.619069184626626,2.187980140086297,3.1430508361557115,5.331030976242009,10.418953048029984,30.24969368278039,14.239235832307646,1.2850042092570313,0.45148796541463265,0.0,0.0,2.465818888033763,17.955329086105007,6.407656124538441,3.7334581755440777,8.83874516907877,7.345361898861139,4.8274482455872265,6.112452454844257,5.9214383156303745,4.028661845238261,3.5424440363301946,4.39332520191931,2.674197948994363,3.4729843493433283,3.177780679649145,3.3687948188630283,4.219675984452143,2.1011555313527137,3.1430508361557115,2.17061521833958,2.7783874794746626,2.309534592313313,4.636434106373343,4.81008332384051,6.581305342005607,3.212510523142579,8.508811655891154,6.92860377693994,0.0,13.492544197198828,4.219675984452143,4.914272854320809,5.070557150041259,3.802917862530944,0.0],\"yaxis\":\"y\",\"type\":\"scatter\"}],                        {\"template\":{\"data\":{\"histogram2dcontour\":[{\"type\":\"histogram2dcontour\",\"colorbar\":{\"outlinewidth\":0,\"ticks\":\"\"},\"colorscale\":[[0.0,\"#0d0887\"],[0.1111111111111111,\"#46039f\"],[0.2222222222222222,\"#7201a8\"],[0.3333333333333333,\"#9c179e\"],[0.4444444444444444,\"#bd3786\"],[0.5555555555555556,\"#d8576b\"],[0.6666666666666666,\"#ed7953\"],[0.7777777777777778,\"#fb9f3a\"],[0.8888888888888888,\"#fdca26\"],[1.0,\"#f0f921\"]]}],\"choropleth\":[{\"type\":\"choropleth\",\"colorbar\":{\"outlinewidth\":0,\"ticks\":\"\"}}],\"histogram2d\":[{\"type\":\"histogram2d\",\"colorbar\":{\"outlinewidth\":0,\"ticks\":\"\"},\"colorscale\":[[0.0,\"#0d0887\"],[0.1111111111111111,\"#46039f\"],[0.2222222222222222,\"#7201a8\"],[0.3333333333333333,\"#9c179e\"],[0.4444444444444444,\"#bd3786\"],[0.5555555555555556,\"#d8576b\"],[0.6666666666666666,\"#ed7953\"],[0.7777777777777778,\"#fb9f3a\"],[0.8888888888888888,\"#fdca26\"],[1.0,\"#f0f921\"]]}],\"heatmap\":[{\"type\":\"heatmap\",\"colorbar\":{\"outlinewidth\":0,\"ticks\":\"\"},\"colorscale\":[[0.0,\"#0d0887\"],[0.1111111111111111,\"#46039f\"],[0.2222222222222222,\"#7201a8\"],[0.3333333333333333,\"#9c179e\"],[0.4444444444444444,\"#bd3786\"],[0.5555555555555556,\"#d8576b\"],[0.6666666666666666,\"#ed7953\"],[0.7777777777777778,\"#fb9f3a\"],[0.8888888888888888,\"#fdca26\"],[1.0,\"#f0f921\"]]}],\"heatmapgl\":[{\"type\":\"heatmapgl\",\"colorbar\":{\"outlinewidth\":0,\"ticks\":\"\"},\"colorscale\":[[0.0,\"#0d0887\"],[0.1111111111111111,\"#46039f\"],[0.2222222222222222,\"#7201a8\"],[0.3333333333333333,\"#9c179e\"],[0.4444444444444444,\"#bd3786\"],[0.5555555555555556,\"#d8576b\"],[0.6666666666666666,\"#ed7953\"],[0.7777777777777778,\"#fb9f3a\"],[0.8888888888888888,\"#fdca26\"],[1.0,\"#f0f921\"]]}],\"contourcarpet\":[{\"type\":\"contourcarpet\",\"colorbar\":{\"outlinewidth\":0,\"ticks\":\"\"}}],\"contour\":[{\"type\":\"contour\",\"colorbar\":{\"outlinewidth\":0,\"ticks\":\"\"},\"colorscale\":[[0.0,\"#0d0887\"],[0.1111111111111111,\"#46039f\"],[0.2222222222222222,\"#7201a8\"],[0.3333333333333333,\"#9c179e\"],[0.4444444444444444,\"#bd3786\"],[0.5555555555555556,\"#d8576b\"],[0.6666666666666666,\"#ed7953\"],[0.7777777777777778,\"#fb9f3a\"],[0.8888888888888888,\"#fdca26\"],[1.0,\"#f0f921\"]]}],\"surface\":[{\"type\":\"surface\",\"colorbar\":{\"outlinewidth\":0,\"ticks\":\"\"},\"colorscale\":[[0.0,\"#0d0887\"],[0.1111111111111111,\"#46039f\"],[0.2222222222222222,\"#7201a8\"],[0.3333333333333333,\"#9c179e\"],[0.4444444444444444,\"#bd3786\"],[0.5555555555555556,\"#d8576b\"],[0.6666666666666666,\"#ed7953\"],[0.7777777777777778,\"#fb9f3a\"],[0.8888888888888888,\"#fdca26\"],[1.0,\"#f0f921\"]]}],\"mesh3d\":[{\"type\":\"mesh3d\",\"colorbar\":{\"outlinewidth\":0,\"ticks\":\"\"}}],\"scatter\":[{\"fillpattern\":{\"fillmode\":\"overlay\",\"size\":10,\"solidity\":0.2},\"type\":\"scatter\"}],\"parcoords\":[{\"type\":\"parcoords\",\"line\":{\"colorbar\":{\"outlinewidth\":0,\"ticks\":\"\"}}}],\"scatterpolargl\":[{\"type\":\"scatterpolargl\",\"marker\":{\"colorbar\":{\"outlinewidth\":0,\"ticks\":\"\"}}}],\"bar\":[{\"error_x\":{\"color\":\"#2a3f5f\"},\"error_y\":{\"color\":\"#2a3f5f\"},\"marker\":{\"line\":{\"color\":\"#E5ECF6\",\"width\":0.5},\"pattern\":{\"fillmode\":\"overlay\",\"size\":10,\"solidity\":0.2}},\"type\":\"bar\"}],\"scattergeo\":[{\"type\":\"scattergeo\",\"marker\":{\"colorbar\":{\"outlinewidth\":0,\"ticks\":\"\"}}}],\"scatterpolar\":[{\"type\":\"scatterpolar\",\"marker\":{\"colorbar\":{\"outlinewidth\":0,\"ticks\":\"\"}}}],\"histogram\":[{\"marker\":{\"pattern\":{\"fillmode\":\"overlay\",\"size\":10,\"solidity\":0.2}},\"type\":\"histogram\"}],\"scattergl\":[{\"type\":\"scattergl\",\"marker\":{\"colorbar\":{\"outlinewidth\":0,\"ticks\":\"\"}}}],\"scatter3d\":[{\"type\":\"scatter3d\",\"line\":{\"colorbar\":{\"outlinewidth\":0,\"ticks\":\"\"}},\"marker\":{\"colorbar\":{\"outlinewidth\":0,\"ticks\":\"\"}}}],\"scattermapbox\":[{\"type\":\"scattermapbox\",\"marker\":{\"colorbar\":{\"outlinewidth\":0,\"ticks\":\"\"}}}],\"scatterternary\":[{\"type\":\"scatterternary\",\"marker\":{\"colorbar\":{\"outlinewidth\":0,\"ticks\":\"\"}}}],\"scattercarpet\":[{\"type\":\"scattercarpet\",\"marker\":{\"colorbar\":{\"outlinewidth\":0,\"ticks\":\"\"}}}],\"carpet\":[{\"aaxis\":{\"endlinecolor\":\"#2a3f5f\",\"gridcolor\":\"white\",\"linecolor\":\"white\",\"minorgridcolor\":\"white\",\"startlinecolor\":\"#2a3f5f\"},\"baxis\":{\"endlinecolor\":\"#2a3f5f\",\"gridcolor\":\"white\",\"linecolor\":\"white\",\"minorgridcolor\":\"white\",\"startlinecolor\":\"#2a3f5f\"},\"type\":\"carpet\"}],\"table\":[{\"cells\":{\"fill\":{\"color\":\"#EBF0F8\"},\"line\":{\"color\":\"white\"}},\"header\":{\"fill\":{\"color\":\"#C8D4E3\"},\"line\":{\"color\":\"white\"}},\"type\":\"table\"}],\"barpolar\":[{\"marker\":{\"line\":{\"color\":\"#E5ECF6\",\"width\":0.5},\"pattern\":{\"fillmode\":\"overlay\",\"size\":10,\"solidity\":0.2}},\"type\":\"barpolar\"}],\"pie\":[{\"automargin\":true,\"type\":\"pie\"}]},\"layout\":{\"autotypenumbers\":\"strict\",\"colorway\":[\"#636efa\",\"#EF553B\",\"#00cc96\",\"#ab63fa\",\"#FFA15A\",\"#19d3f3\",\"#FF6692\",\"#B6E880\",\"#FF97FF\",\"#FECB52\"],\"font\":{\"color\":\"#2a3f5f\"},\"hovermode\":\"closest\",\"hoverlabel\":{\"align\":\"left\"},\"paper_bgcolor\":\"white\",\"plot_bgcolor\":\"#E5ECF6\",\"polar\":{\"bgcolor\":\"#E5ECF6\",\"angularaxis\":{\"gridcolor\":\"white\",\"linecolor\":\"white\",\"ticks\":\"\"},\"radialaxis\":{\"gridcolor\":\"white\",\"linecolor\":\"white\",\"ticks\":\"\"}},\"ternary\":{\"bgcolor\":\"#E5ECF6\",\"aaxis\":{\"gridcolor\":\"white\",\"linecolor\":\"white\",\"ticks\":\"\"},\"baxis\":{\"gridcolor\":\"white\",\"linecolor\":\"white\",\"ticks\":\"\"},\"caxis\":{\"gridcolor\":\"white\",\"linecolor\":\"white\",\"ticks\":\"\"}},\"coloraxis\":{\"colorbar\":{\"outlinewidth\":0,\"ticks\":\"\"}},\"colorscale\":{\"sequential\":[[0.0,\"#0d0887\"],[0.1111111111111111,\"#46039f\"],[0.2222222222222222,\"#7201a8\"],[0.3333333333333333,\"#9c179e\"],[0.4444444444444444,\"#bd3786\"],[0.5555555555555556,\"#d8576b\"],[0.6666666666666666,\"#ed7953\"],[0.7777777777777778,\"#fb9f3a\"],[0.8888888888888888,\"#fdca26\"],[1.0,\"#f0f921\"]],\"sequentialminus\":[[0.0,\"#0d0887\"],[0.1111111111111111,\"#46039f\"],[0.2222222222222222,\"#7201a8\"],[0.3333333333333333,\"#9c179e\"],[0.4444444444444444,\"#bd3786\"],[0.5555555555555556,\"#d8576b\"],[0.6666666666666666,\"#ed7953\"],[0.7777777777777778,\"#fb9f3a\"],[0.8888888888888888,\"#fdca26\"],[1.0,\"#f0f921\"]],\"diverging\":[[0,\"#8e0152\"],[0.1,\"#c51b7d\"],[0.2,\"#de77ae\"],[0.3,\"#f1b6da\"],[0.4,\"#fde0ef\"],[0.5,\"#f7f7f7\"],[0.6,\"#e6f5d0\"],[0.7,\"#b8e186\"],[0.8,\"#7fbc41\"],[0.9,\"#4d9221\"],[1,\"#276419\"]]},\"xaxis\":{\"gridcolor\":\"white\",\"linecolor\":\"white\",\"ticks\":\"\",\"title\":{\"standoff\":15},\"zerolinecolor\":\"white\",\"automargin\":true,\"zerolinewidth\":2},\"yaxis\":{\"gridcolor\":\"white\",\"linecolor\":\"white\",\"ticks\":\"\",\"title\":{\"standoff\":15},\"zerolinecolor\":\"white\",\"automargin\":true,\"zerolinewidth\":2},\"scene\":{\"xaxis\":{\"backgroundcolor\":\"#E5ECF6\",\"gridcolor\":\"white\",\"linecolor\":\"white\",\"showbackground\":true,\"ticks\":\"\",\"zerolinecolor\":\"white\",\"gridwidth\":2},\"yaxis\":{\"backgroundcolor\":\"#E5ECF6\",\"gridcolor\":\"white\",\"linecolor\":\"white\",\"showbackground\":true,\"ticks\":\"\",\"zerolinecolor\":\"white\",\"gridwidth\":2},\"zaxis\":{\"backgroundcolor\":\"#E5ECF6\",\"gridcolor\":\"white\",\"linecolor\":\"white\",\"showbackground\":true,\"ticks\":\"\",\"zerolinecolor\":\"white\",\"gridwidth\":2}},\"shapedefaults\":{\"line\":{\"color\":\"#2a3f5f\"}},\"annotationdefaults\":{\"arrowcolor\":\"#2a3f5f\",\"arrowhead\":0,\"arrowwidth\":1},\"geo\":{\"bgcolor\":\"white\",\"landcolor\":\"#E5ECF6\",\"subunitcolor\":\"white\",\"showland\":true,\"showlakes\":true,\"lakecolor\":\"white\"},\"title\":{\"x\":0.05},\"mapbox\":{\"style\":\"light\"}}},\"xaxis\":{\"anchor\":\"y\",\"domain\":[0.0,1.0],\"title\":{\"text\":\"Weekly deaths\"}},\"yaxis\":{\"anchor\":\"x\",\"domain\":[0.0,1.0],\"title\":{\"text\":\"Number of Deaths per 100,000\"}},\"legend\":{\"title\":{\"text\":\"State\"},\"tracegroupgap\":0},\"title\":{\"text\":\"Deaths per 100K\"}},                        {\"responsive\": true}                    ).then(function(){\n",
       "                            \n",
       "var gd = document.getElementById('43076e3d-0e7d-4cbf-ac92-c6ade2e986db');\n",
       "var x = new MutationObserver(function (mutations, observer) {{\n",
       "        var display = window.getComputedStyle(gd).display;\n",
       "        if (!display || display === 'none') {{\n",
       "            console.log([gd, 'removed!']);\n",
       "            Plotly.purge(gd);\n",
       "            observer.disconnect();\n",
       "        }}\n",
       "}});\n",
       "\n",
       "// Listen for the removal of the full notebook cells\n",
       "var notebookContainer = gd.closest('#notebook-container');\n",
       "if (notebookContainer) {{\n",
       "    x.observe(notebookContainer, {childList: true});\n",
       "}}\n",
       "\n",
       "// Listen for the clearing of the current output cell\n",
       "var outputEl = gd.closest('.output');\n",
       "if (outputEl) {{\n",
       "    x.observe(outputEl, {childList: true});\n",
       "}}\n",
       "\n",
       "                        })                };                });            </script>        </div>"
      ]
     },
     "metadata": {},
     "output_type": "display_data"
    }
   ],
   "source": [
    "# Plotting the no. of new deaths per 100K population\n",
    "deaths_weekly_norm = px.line(all_states_weekly_data, x='date', y='new_deaths_norm_100K', color='State', title='Deaths per 100K')\n",
    "deaths_weekly_norm.update_layout(xaxis_title='Weekly deaths', yaxis_title=f'Number of Deaths per {100000:,}', legend_title='State')\n",
    "deaths_weekly_norm.show()"
   ]
  },
  {
   "cell_type": "markdown",
   "id": "e7dc243b",
   "metadata": {},
   "source": [
    "After identifying the peaks and comparing them with the US pattern, we observe that they are consistent at most of the plot i.e., during jan 2021 the cases and deaths are almost similar and also in jan 2022 they are similar."
   ]
  },
  {
   "cell_type": "markdown",
   "id": "5ca578d1",
   "metadata": {},
   "source": [
    "### Identify 3 counties within a state of your choice with high cases and death rates."
   ]
  },
  {
   "cell_type": "code",
   "execution_count": 1398,
   "id": "ef8d0229",
   "metadata": {},
   "outputs": [
    {
     "data": {
      "text/html": [
       "<div>\n",
       "<style scoped>\n",
       "    .dataframe tbody tr th:only-of-type {\n",
       "        vertical-align: middle;\n",
       "    }\n",
       "\n",
       "    .dataframe tbody tr th {\n",
       "        vertical-align: top;\n",
       "    }\n",
       "\n",
       "    .dataframe thead th {\n",
       "        text-align: right;\n",
       "    }\n",
       "</style>\n",
       "<table border=\"1\" class=\"dataframe\">\n",
       "  <thead>\n",
       "    <tr style=\"text-align: right;\">\n",
       "      <th></th>\n",
       "      <th>countyFIPS</th>\n",
       "      <th>County Name</th>\n",
       "      <th>State</th>\n",
       "      <th>StateFIPS</th>\n",
       "      <th>date</th>\n",
       "      <th>cases</th>\n",
       "      <th>deaths</th>\n",
       "      <th>population</th>\n",
       "    </tr>\n",
       "  </thead>\n",
       "  <tbody>\n",
       "    <tr>\n",
       "      <th>2027575</th>\n",
       "      <td>36001</td>\n",
       "      <td>albany county</td>\n",
       "      <td>NY</td>\n",
       "      <td>36</td>\n",
       "      <td>2020-01-22</td>\n",
       "      <td>0</td>\n",
       "      <td>0</td>\n",
       "      <td>305506</td>\n",
       "    </tr>\n",
       "    <tr>\n",
       "      <th>2027576</th>\n",
       "      <td>36001</td>\n",
       "      <td>albany county</td>\n",
       "      <td>NY</td>\n",
       "      <td>36</td>\n",
       "      <td>2020-01-23</td>\n",
       "      <td>0</td>\n",
       "      <td>0</td>\n",
       "      <td>305506</td>\n",
       "    </tr>\n",
       "    <tr>\n",
       "      <th>2027577</th>\n",
       "      <td>36001</td>\n",
       "      <td>albany county</td>\n",
       "      <td>NY</td>\n",
       "      <td>36</td>\n",
       "      <td>2020-01-24</td>\n",
       "      <td>0</td>\n",
       "      <td>0</td>\n",
       "      <td>305506</td>\n",
       "    </tr>\n",
       "    <tr>\n",
       "      <th>2027578</th>\n",
       "      <td>36001</td>\n",
       "      <td>albany county</td>\n",
       "      <td>NY</td>\n",
       "      <td>36</td>\n",
       "      <td>2020-01-25</td>\n",
       "      <td>0</td>\n",
       "      <td>0</td>\n",
       "      <td>305506</td>\n",
       "    </tr>\n",
       "    <tr>\n",
       "      <th>2027579</th>\n",
       "      <td>36001</td>\n",
       "      <td>albany county</td>\n",
       "      <td>NY</td>\n",
       "      <td>36</td>\n",
       "      <td>2020-01-26</td>\n",
       "      <td>0</td>\n",
       "      <td>0</td>\n",
       "      <td>305506</td>\n",
       "    </tr>\n",
       "    <tr>\n",
       "      <th>...</th>\n",
       "      <td>...</td>\n",
       "      <td>...</td>\n",
       "      <td>...</td>\n",
       "      <td>...</td>\n",
       "      <td>...</td>\n",
       "      <td>...</td>\n",
       "      <td>...</td>\n",
       "      <td>...</td>\n",
       "    </tr>\n",
       "    <tr>\n",
       "      <th>2096452</th>\n",
       "      <td>36123</td>\n",
       "      <td>yates county</td>\n",
       "      <td>NY</td>\n",
       "      <td>36</td>\n",
       "      <td>2023-02-01</td>\n",
       "      <td>4427</td>\n",
       "      <td>43</td>\n",
       "      <td>24913</td>\n",
       "    </tr>\n",
       "    <tr>\n",
       "      <th>2096453</th>\n",
       "      <td>36123</td>\n",
       "      <td>yates county</td>\n",
       "      <td>NY</td>\n",
       "      <td>36</td>\n",
       "      <td>2023-02-02</td>\n",
       "      <td>4427</td>\n",
       "      <td>43</td>\n",
       "      <td>24913</td>\n",
       "    </tr>\n",
       "    <tr>\n",
       "      <th>2096454</th>\n",
       "      <td>36123</td>\n",
       "      <td>yates county</td>\n",
       "      <td>NY</td>\n",
       "      <td>36</td>\n",
       "      <td>2023-02-03</td>\n",
       "      <td>4427</td>\n",
       "      <td>43</td>\n",
       "      <td>24913</td>\n",
       "    </tr>\n",
       "    <tr>\n",
       "      <th>2096455</th>\n",
       "      <td>36123</td>\n",
       "      <td>yates county</td>\n",
       "      <td>NY</td>\n",
       "      <td>36</td>\n",
       "      <td>2023-02-04</td>\n",
       "      <td>4427</td>\n",
       "      <td>43</td>\n",
       "      <td>24913</td>\n",
       "    </tr>\n",
       "    <tr>\n",
       "      <th>2096456</th>\n",
       "      <td>36123</td>\n",
       "      <td>yates county</td>\n",
       "      <td>NY</td>\n",
       "      <td>36</td>\n",
       "      <td>2023-02-05</td>\n",
       "      <td>4427</td>\n",
       "      <td>43</td>\n",
       "      <td>24913</td>\n",
       "    </tr>\n",
       "  </tbody>\n",
       "</table>\n",
       "<p>68882 rows × 8 columns</p>\n",
       "</div>"
      ],
      "text/plain": [
       "         countyFIPS    County Name State  StateFIPS        date  cases  \\\n",
       "2027575       36001  albany county    NY         36  2020-01-22      0   \n",
       "2027576       36001  albany county    NY         36  2020-01-23      0   \n",
       "2027577       36001  albany county    NY         36  2020-01-24      0   \n",
       "2027578       36001  albany county    NY         36  2020-01-25      0   \n",
       "2027579       36001  albany county    NY         36  2020-01-26      0   \n",
       "...             ...            ...   ...        ...         ...    ...   \n",
       "2096452       36123   yates county    NY         36  2023-02-01   4427   \n",
       "2096453       36123   yates county    NY         36  2023-02-02   4427   \n",
       "2096454       36123   yates county    NY         36  2023-02-03   4427   \n",
       "2096455       36123   yates county    NY         36  2023-02-04   4427   \n",
       "2096456       36123   yates county    NY         36  2023-02-05   4427   \n",
       "\n",
       "         deaths  population  \n",
       "2027575       0      305506  \n",
       "2027576       0      305506  \n",
       "2027577       0      305506  \n",
       "2027578       0      305506  \n",
       "2027579       0      305506  \n",
       "...         ...         ...  \n",
       "2096452      43       24913  \n",
       "2096453      43       24913  \n",
       "2096454      43       24913  \n",
       "2096455      43       24913  \n",
       "2096456      43       24913  \n",
       "\n",
       "[68882 rows x 8 columns]"
      ]
     },
     "execution_count": 1398,
     "metadata": {},
     "output_type": "execute_result"
    }
   ],
   "source": [
    "NY_weekly_data = superdata[superdata['State']=='NY']\n",
    "NY_weekly_data"
   ]
  },
  {
   "cell_type": "code",
   "execution_count": 1399,
   "id": "b33473d6",
   "metadata": {},
   "outputs": [],
   "source": [
    "NY_weekly_data = NY_weekly_data.assign(new_cases = NY_weekly_data.cases.diff())\n",
    "NY_weekly_data = NY_weekly_data.assign(new_deaths = NY_weekly_data.deaths.diff())"
   ]
  },
  {
   "cell_type": "code",
   "execution_count": 1400,
   "id": "d346cc47",
   "metadata": {},
   "outputs": [
    {
     "data": {
      "text/html": [
       "<div>\n",
       "<style scoped>\n",
       "    .dataframe tbody tr th:only-of-type {\n",
       "        vertical-align: middle;\n",
       "    }\n",
       "\n",
       "    .dataframe tbody tr th {\n",
       "        vertical-align: top;\n",
       "    }\n",
       "\n",
       "    .dataframe thead th {\n",
       "        text-align: right;\n",
       "    }\n",
       "</style>\n",
       "<table border=\"1\" class=\"dataframe\">\n",
       "  <thead>\n",
       "    <tr style=\"text-align: right;\">\n",
       "      <th></th>\n",
       "      <th>County Name</th>\n",
       "      <th>new_cases</th>\n",
       "      <th>new_deaths</th>\n",
       "      <th>population</th>\n",
       "    </tr>\n",
       "  </thead>\n",
       "  <tbody>\n",
       "    <tr>\n",
       "      <th>0</th>\n",
       "      <td>albany county</td>\n",
       "      <td>78356</td>\n",
       "      <td>608</td>\n",
       "      <td>305506</td>\n",
       "    </tr>\n",
       "    <tr>\n",
       "      <th>1</th>\n",
       "      <td>allegany county</td>\n",
       "      <td>0</td>\n",
       "      <td>0</td>\n",
       "      <td>46091</td>\n",
       "    </tr>\n",
       "    <tr>\n",
       "      <th>2</th>\n",
       "      <td>bronx county</td>\n",
       "      <td>497834</td>\n",
       "      <td>8297</td>\n",
       "      <td>1418207</td>\n",
       "    </tr>\n",
       "    <tr>\n",
       "      <th>3</th>\n",
       "      <td>broome county</td>\n",
       "      <td>0</td>\n",
       "      <td>0</td>\n",
       "      <td>190488</td>\n",
       "    </tr>\n",
       "    <tr>\n",
       "      <th>4</th>\n",
       "      <td>cattaraugus county</td>\n",
       "      <td>0</td>\n",
       "      <td>0</td>\n",
       "      <td>76117</td>\n",
       "    </tr>\n",
       "    <tr>\n",
       "      <th>...</th>\n",
       "      <td>...</td>\n",
       "      <td>...</td>\n",
       "      <td>...</td>\n",
       "      <td>...</td>\n",
       "    </tr>\n",
       "    <tr>\n",
       "      <th>57</th>\n",
       "      <td>washington county</td>\n",
       "      <td>0</td>\n",
       "      <td>0</td>\n",
       "      <td>61204</td>\n",
       "    </tr>\n",
       "    <tr>\n",
       "      <th>58</th>\n",
       "      <td>wayne county</td>\n",
       "      <td>6091</td>\n",
       "      <td>67</td>\n",
       "      <td>89918</td>\n",
       "    </tr>\n",
       "    <tr>\n",
       "      <th>59</th>\n",
       "      <td>westchester county</td>\n",
       "      <td>311770</td>\n",
       "      <td>2768</td>\n",
       "      <td>967506</td>\n",
       "    </tr>\n",
       "    <tr>\n",
       "      <th>60</th>\n",
       "      <td>wyoming county</td>\n",
       "      <td>0</td>\n",
       "      <td>0</td>\n",
       "      <td>39859</td>\n",
       "    </tr>\n",
       "    <tr>\n",
       "      <th>61</th>\n",
       "      <td>yates county</td>\n",
       "      <td>0</td>\n",
       "      <td>0</td>\n",
       "      <td>24913</td>\n",
       "    </tr>\n",
       "  </tbody>\n",
       "</table>\n",
       "<p>62 rows × 4 columns</p>\n",
       "</div>"
      ],
      "text/plain": [
       "           County Name  new_cases  new_deaths  population\n",
       "0        albany county      78356         608      305506\n",
       "1      allegany county          0           0       46091\n",
       "2         bronx county     497834        8297     1418207\n",
       "3        broome county          0           0      190488\n",
       "4   cattaraugus county          0           0       76117\n",
       "..                 ...        ...         ...         ...\n",
       "57   washington county          0           0       61204\n",
       "58        wayne county       6091          67       89918\n",
       "59  westchester county     311770        2768      967506\n",
       "60      wyoming county          0           0       39859\n",
       "61        yates county          0           0       24913\n",
       "\n",
       "[62 rows x 4 columns]"
      ]
     },
     "execution_count": 1400,
     "metadata": {},
     "output_type": "execute_result"
    }
   ],
   "source": [
    "NY_weekly_data=NY_weekly_data.groupby('County Name').agg({\n",
    "    'new_cases': 'sum',\n",
    "    'new_deaths': 'sum',\n",
    "    'population': 'first'\n",
    "}).reset_index()\n",
    "\n",
    "NY_weekly_data[\"new_cases\"] = NY_weekly_data[\"new_cases\"].fillna(0).astype(int)\n",
    "NY_weekly_data[\"new_deaths\"] = NY_weekly_data[\"new_deaths\"].fillna(0).astype(int)\n",
    "NY_weekly_data\n",
    "\n",
    "NY_weekly_data.loc[NY_weekly_data['new_cases'] < 0, 'new_cases'] = 0\n",
    "NY_weekly_data.loc[NY_weekly_data['new_deaths'] < 0, 'new_deaths'] = 0\n",
    "NY_weekly_data"
   ]
  },
  {
   "cell_type": "code",
   "execution_count": 1401,
   "id": "9ae71533",
   "metadata": {},
   "outputs": [
    {
     "data": {
      "text/html": [
       "<div>\n",
       "<style scoped>\n",
       "    .dataframe tbody tr th:only-of-type {\n",
       "        vertical-align: middle;\n",
       "    }\n",
       "\n",
       "    .dataframe tbody tr th {\n",
       "        vertical-align: top;\n",
       "    }\n",
       "\n",
       "    .dataframe thead th {\n",
       "        text-align: right;\n",
       "    }\n",
       "</style>\n",
       "<table border=\"1\" class=\"dataframe\">\n",
       "  <thead>\n",
       "    <tr style=\"text-align: right;\">\n",
       "      <th></th>\n",
       "      <th>County Name</th>\n",
       "      <th>new_cases</th>\n",
       "      <th>new_deaths</th>\n",
       "      <th>population</th>\n",
       "    </tr>\n",
       "  </thead>\n",
       "  <tbody>\n",
       "    <tr>\n",
       "      <th>0</th>\n",
       "      <td>albany county</td>\n",
       "      <td>78356</td>\n",
       "      <td>608</td>\n",
       "      <td>305506</td>\n",
       "    </tr>\n",
       "    <tr>\n",
       "      <th>1</th>\n",
       "      <td>allegany county</td>\n",
       "      <td>0</td>\n",
       "      <td>0</td>\n",
       "      <td>46091</td>\n",
       "    </tr>\n",
       "    <tr>\n",
       "      <th>2</th>\n",
       "      <td>bronx county</td>\n",
       "      <td>497834</td>\n",
       "      <td>8297</td>\n",
       "      <td>1418207</td>\n",
       "    </tr>\n",
       "    <tr>\n",
       "      <th>3</th>\n",
       "      <td>broome county</td>\n",
       "      <td>0</td>\n",
       "      <td>0</td>\n",
       "      <td>190488</td>\n",
       "    </tr>\n",
       "    <tr>\n",
       "      <th>4</th>\n",
       "      <td>cattaraugus county</td>\n",
       "      <td>0</td>\n",
       "      <td>0</td>\n",
       "      <td>76117</td>\n",
       "    </tr>\n",
       "    <tr>\n",
       "      <th>...</th>\n",
       "      <td>...</td>\n",
       "      <td>...</td>\n",
       "      <td>...</td>\n",
       "      <td>...</td>\n",
       "    </tr>\n",
       "    <tr>\n",
       "      <th>57</th>\n",
       "      <td>washington county</td>\n",
       "      <td>0</td>\n",
       "      <td>0</td>\n",
       "      <td>61204</td>\n",
       "    </tr>\n",
       "    <tr>\n",
       "      <th>58</th>\n",
       "      <td>wayne county</td>\n",
       "      <td>6091</td>\n",
       "      <td>67</td>\n",
       "      <td>89918</td>\n",
       "    </tr>\n",
       "    <tr>\n",
       "      <th>59</th>\n",
       "      <td>westchester county</td>\n",
       "      <td>311770</td>\n",
       "      <td>2768</td>\n",
       "      <td>967506</td>\n",
       "    </tr>\n",
       "    <tr>\n",
       "      <th>60</th>\n",
       "      <td>wyoming county</td>\n",
       "      <td>0</td>\n",
       "      <td>0</td>\n",
       "      <td>39859</td>\n",
       "    </tr>\n",
       "    <tr>\n",
       "      <th>61</th>\n",
       "      <td>yates county</td>\n",
       "      <td>0</td>\n",
       "      <td>0</td>\n",
       "      <td>24913</td>\n",
       "    </tr>\n",
       "  </tbody>\n",
       "</table>\n",
       "<p>62 rows × 4 columns</p>\n",
       "</div>"
      ],
      "text/plain": [
       "           County Name  new_cases  new_deaths  population\n",
       "0        albany county      78356         608      305506\n",
       "1      allegany county          0           0       46091\n",
       "2         bronx county     497834        8297     1418207\n",
       "3        broome county          0           0      190488\n",
       "4   cattaraugus county          0           0       76117\n",
       "..                 ...        ...         ...         ...\n",
       "57   washington county          0           0       61204\n",
       "58        wayne county       6091          67       89918\n",
       "59  westchester county     311770        2768      967506\n",
       "60      wyoming county          0           0       39859\n",
       "61        yates county          0           0       24913\n",
       "\n",
       "[62 rows x 4 columns]"
      ]
     },
     "execution_count": 1401,
     "metadata": {},
     "output_type": "execute_result"
    }
   ],
   "source": [
    "NY_weekly_data[['County Name', 'new_cases', 'new_deaths', 'population']]"
   ]
  },
  {
   "cell_type": "code",
   "execution_count": 1402,
   "id": "5dfe48e9",
   "metadata": {},
   "outputs": [
    {
     "name": "stdout",
     "output_type": "stream",
     "text": [
      "The Top three counties with highest no. of cases and deaths are:  ['kings county', 'queens county', 'suffolk county']\n"
     ]
    }
   ],
   "source": [
    "top_3_counties = NY_weekly_data.sort_values(by=['new_cases'], ascending=False).head(3)\n",
    "top_3_counties\n",
    "\n",
    "top_3 = top_3_counties['County Name'].to_list()\n",
    "print(\"The Top three counties with highest no. of cases and deaths are: \", top_3)"
   ]
  },
  {
   "cell_type": "markdown",
   "id": "e85c2429",
   "metadata": {},
   "source": [
    "### This is for plotting State pattern to compare with Counties pattern"
   ]
  },
  {
   "cell_type": "code",
   "execution_count": 1403,
   "id": "a53cd0db",
   "metadata": {},
   "outputs": [
    {
     "data": {
      "text/html": [
       "<div>\n",
       "<style scoped>\n",
       "    .dataframe tbody tr th:only-of-type {\n",
       "        vertical-align: middle;\n",
       "    }\n",
       "\n",
       "    .dataframe tbody tr th {\n",
       "        vertical-align: top;\n",
       "    }\n",
       "\n",
       "    .dataframe thead th {\n",
       "        text-align: right;\n",
       "    }\n",
       "</style>\n",
       "<table border=\"1\" class=\"dataframe\">\n",
       "  <thead>\n",
       "    <tr style=\"text-align: right;\">\n",
       "      <th></th>\n",
       "      <th>countyFIPS</th>\n",
       "      <th>County Name</th>\n",
       "      <th>State</th>\n",
       "      <th>StateFIPS</th>\n",
       "      <th>date</th>\n",
       "      <th>cases</th>\n",
       "      <th>deaths</th>\n",
       "      <th>population</th>\n",
       "    </tr>\n",
       "  </thead>\n",
       "  <tbody>\n",
       "    <tr>\n",
       "      <th>2027575</th>\n",
       "      <td>36001</td>\n",
       "      <td>albany county</td>\n",
       "      <td>NY</td>\n",
       "      <td>36</td>\n",
       "      <td>2020-01-22</td>\n",
       "      <td>0</td>\n",
       "      <td>0</td>\n",
       "      <td>305506</td>\n",
       "    </tr>\n",
       "    <tr>\n",
       "      <th>2027576</th>\n",
       "      <td>36001</td>\n",
       "      <td>albany county</td>\n",
       "      <td>NY</td>\n",
       "      <td>36</td>\n",
       "      <td>2020-01-23</td>\n",
       "      <td>0</td>\n",
       "      <td>0</td>\n",
       "      <td>305506</td>\n",
       "    </tr>\n",
       "    <tr>\n",
       "      <th>2027577</th>\n",
       "      <td>36001</td>\n",
       "      <td>albany county</td>\n",
       "      <td>NY</td>\n",
       "      <td>36</td>\n",
       "      <td>2020-01-24</td>\n",
       "      <td>0</td>\n",
       "      <td>0</td>\n",
       "      <td>305506</td>\n",
       "    </tr>\n",
       "    <tr>\n",
       "      <th>2027578</th>\n",
       "      <td>36001</td>\n",
       "      <td>albany county</td>\n",
       "      <td>NY</td>\n",
       "      <td>36</td>\n",
       "      <td>2020-01-25</td>\n",
       "      <td>0</td>\n",
       "      <td>0</td>\n",
       "      <td>305506</td>\n",
       "    </tr>\n",
       "    <tr>\n",
       "      <th>2027579</th>\n",
       "      <td>36001</td>\n",
       "      <td>albany county</td>\n",
       "      <td>NY</td>\n",
       "      <td>36</td>\n",
       "      <td>2020-01-26</td>\n",
       "      <td>0</td>\n",
       "      <td>0</td>\n",
       "      <td>305506</td>\n",
       "    </tr>\n",
       "    <tr>\n",
       "      <th>...</th>\n",
       "      <td>...</td>\n",
       "      <td>...</td>\n",
       "      <td>...</td>\n",
       "      <td>...</td>\n",
       "      <td>...</td>\n",
       "      <td>...</td>\n",
       "      <td>...</td>\n",
       "      <td>...</td>\n",
       "    </tr>\n",
       "    <tr>\n",
       "      <th>2096452</th>\n",
       "      <td>36123</td>\n",
       "      <td>yates county</td>\n",
       "      <td>NY</td>\n",
       "      <td>36</td>\n",
       "      <td>2023-02-01</td>\n",
       "      <td>4427</td>\n",
       "      <td>43</td>\n",
       "      <td>24913</td>\n",
       "    </tr>\n",
       "    <tr>\n",
       "      <th>2096453</th>\n",
       "      <td>36123</td>\n",
       "      <td>yates county</td>\n",
       "      <td>NY</td>\n",
       "      <td>36</td>\n",
       "      <td>2023-02-02</td>\n",
       "      <td>4427</td>\n",
       "      <td>43</td>\n",
       "      <td>24913</td>\n",
       "    </tr>\n",
       "    <tr>\n",
       "      <th>2096454</th>\n",
       "      <td>36123</td>\n",
       "      <td>yates county</td>\n",
       "      <td>NY</td>\n",
       "      <td>36</td>\n",
       "      <td>2023-02-03</td>\n",
       "      <td>4427</td>\n",
       "      <td>43</td>\n",
       "      <td>24913</td>\n",
       "    </tr>\n",
       "    <tr>\n",
       "      <th>2096455</th>\n",
       "      <td>36123</td>\n",
       "      <td>yates county</td>\n",
       "      <td>NY</td>\n",
       "      <td>36</td>\n",
       "      <td>2023-02-04</td>\n",
       "      <td>4427</td>\n",
       "      <td>43</td>\n",
       "      <td>24913</td>\n",
       "    </tr>\n",
       "    <tr>\n",
       "      <th>2096456</th>\n",
       "      <td>36123</td>\n",
       "      <td>yates county</td>\n",
       "      <td>NY</td>\n",
       "      <td>36</td>\n",
       "      <td>2023-02-05</td>\n",
       "      <td>4427</td>\n",
       "      <td>43</td>\n",
       "      <td>24913</td>\n",
       "    </tr>\n",
       "  </tbody>\n",
       "</table>\n",
       "<p>68882 rows × 8 columns</p>\n",
       "</div>"
      ],
      "text/plain": [
       "         countyFIPS    County Name State  StateFIPS        date  cases  \\\n",
       "2027575       36001  albany county    NY         36  2020-01-22      0   \n",
       "2027576       36001  albany county    NY         36  2020-01-23      0   \n",
       "2027577       36001  albany county    NY         36  2020-01-24      0   \n",
       "2027578       36001  albany county    NY         36  2020-01-25      0   \n",
       "2027579       36001  albany county    NY         36  2020-01-26      0   \n",
       "...             ...            ...   ...        ...         ...    ...   \n",
       "2096452       36123   yates county    NY         36  2023-02-01   4427   \n",
       "2096453       36123   yates county    NY         36  2023-02-02   4427   \n",
       "2096454       36123   yates county    NY         36  2023-02-03   4427   \n",
       "2096455       36123   yates county    NY         36  2023-02-04   4427   \n",
       "2096456       36123   yates county    NY         36  2023-02-05   4427   \n",
       "\n",
       "         deaths  population  \n",
       "2027575       0      305506  \n",
       "2027576       0      305506  \n",
       "2027577       0      305506  \n",
       "2027578       0      305506  \n",
       "2027579       0      305506  \n",
       "...         ...         ...  \n",
       "2096452      43       24913  \n",
       "2096453      43       24913  \n",
       "2096454      43       24913  \n",
       "2096455      43       24913  \n",
       "2096456      43       24913  \n",
       "\n",
       "[68882 rows x 8 columns]"
      ]
     },
     "execution_count": 1403,
     "metadata": {},
     "output_type": "execute_result"
    }
   ],
   "source": [
    "NY_state_pattern_data = superdata[superdata['State']=='NY']\n",
    "NY_state_pattern_data"
   ]
  },
  {
   "cell_type": "code",
   "execution_count": 1404,
   "id": "0f79e0fd",
   "metadata": {},
   "outputs": [
    {
     "data": {
      "text/html": [
       "<div>\n",
       "<style scoped>\n",
       "    .dataframe tbody tr th:only-of-type {\n",
       "        vertical-align: middle;\n",
       "    }\n",
       "\n",
       "    .dataframe tbody tr th {\n",
       "        vertical-align: top;\n",
       "    }\n",
       "\n",
       "    .dataframe thead th {\n",
       "        text-align: right;\n",
       "    }\n",
       "</style>\n",
       "<table border=\"1\" class=\"dataframe\">\n",
       "  <thead>\n",
       "    <tr style=\"text-align: right;\">\n",
       "      <th></th>\n",
       "      <th>date</th>\n",
       "      <th>State</th>\n",
       "      <th>cases</th>\n",
       "      <th>deaths</th>\n",
       "      <th>population</th>\n",
       "    </tr>\n",
       "  </thead>\n",
       "  <tbody>\n",
       "    <tr>\n",
       "      <th>0</th>\n",
       "      <td>2020-01-22</td>\n",
       "      <td>NY</td>\n",
       "      <td>0</td>\n",
       "      <td>0</td>\n",
       "      <td>19453561</td>\n",
       "    </tr>\n",
       "    <tr>\n",
       "      <th>1</th>\n",
       "      <td>2020-01-23</td>\n",
       "      <td>NY</td>\n",
       "      <td>0</td>\n",
       "      <td>0</td>\n",
       "      <td>19453561</td>\n",
       "    </tr>\n",
       "    <tr>\n",
       "      <th>2</th>\n",
       "      <td>2020-01-24</td>\n",
       "      <td>NY</td>\n",
       "      <td>0</td>\n",
       "      <td>0</td>\n",
       "      <td>19453561</td>\n",
       "    </tr>\n",
       "    <tr>\n",
       "      <th>3</th>\n",
       "      <td>2020-01-25</td>\n",
       "      <td>NY</td>\n",
       "      <td>0</td>\n",
       "      <td>0</td>\n",
       "      <td>19453561</td>\n",
       "    </tr>\n",
       "    <tr>\n",
       "      <th>4</th>\n",
       "      <td>2020-01-26</td>\n",
       "      <td>NY</td>\n",
       "      <td>0</td>\n",
       "      <td>0</td>\n",
       "      <td>19453561</td>\n",
       "    </tr>\n",
       "    <tr>\n",
       "      <th>...</th>\n",
       "      <td>...</td>\n",
       "      <td>...</td>\n",
       "      <td>...</td>\n",
       "      <td>...</td>\n",
       "      <td>...</td>\n",
       "    </tr>\n",
       "    <tr>\n",
       "      <th>1106</th>\n",
       "      <td>2023-02-01</td>\n",
       "      <td>NY</td>\n",
       "      <td>6567845</td>\n",
       "      <td>75336</td>\n",
       "      <td>19453561</td>\n",
       "    </tr>\n",
       "    <tr>\n",
       "      <th>1107</th>\n",
       "      <td>2023-02-02</td>\n",
       "      <td>NY</td>\n",
       "      <td>6567845</td>\n",
       "      <td>75602</td>\n",
       "      <td>19453561</td>\n",
       "    </tr>\n",
       "    <tr>\n",
       "      <th>1108</th>\n",
       "      <td>2023-02-03</td>\n",
       "      <td>NY</td>\n",
       "      <td>6567845</td>\n",
       "      <td>75602</td>\n",
       "      <td>19453561</td>\n",
       "    </tr>\n",
       "    <tr>\n",
       "      <th>1109</th>\n",
       "      <td>2023-02-04</td>\n",
       "      <td>NY</td>\n",
       "      <td>6567845</td>\n",
       "      <td>75602</td>\n",
       "      <td>19453561</td>\n",
       "    </tr>\n",
       "    <tr>\n",
       "      <th>1110</th>\n",
       "      <td>2023-02-05</td>\n",
       "      <td>NY</td>\n",
       "      <td>6567845</td>\n",
       "      <td>75602</td>\n",
       "      <td>19453561</td>\n",
       "    </tr>\n",
       "  </tbody>\n",
       "</table>\n",
       "<p>1111 rows × 5 columns</p>\n",
       "</div>"
      ],
      "text/plain": [
       "            date State    cases  deaths  population\n",
       "0     2020-01-22    NY        0       0    19453561\n",
       "1     2020-01-23    NY        0       0    19453561\n",
       "2     2020-01-24    NY        0       0    19453561\n",
       "3     2020-01-25    NY        0       0    19453561\n",
       "4     2020-01-26    NY        0       0    19453561\n",
       "...          ...   ...      ...     ...         ...\n",
       "1106  2023-02-01    NY  6567845   75336    19453561\n",
       "1107  2023-02-02    NY  6567845   75602    19453561\n",
       "1108  2023-02-03    NY  6567845   75602    19453561\n",
       "1109  2023-02-04    NY  6567845   75602    19453561\n",
       "1110  2023-02-05    NY  6567845   75602    19453561\n",
       "\n",
       "[1111 rows x 5 columns]"
      ]
     },
     "execution_count": 1404,
     "metadata": {},
     "output_type": "execute_result"
    }
   ],
   "source": [
    "#Grouping the data based on date and state\n",
    "NY_state_pattern_data=NY_state_pattern_data[['date', 'State', 'cases','deaths', 'population']].groupby(['date','State']).sum().reset_index()\n",
    "NY_state_pattern_data"
   ]
  },
  {
   "cell_type": "code",
   "execution_count": 1405,
   "id": "6f1e2661",
   "metadata": {},
   "outputs": [
    {
     "data": {
      "text/html": [
       "<div>\n",
       "<style scoped>\n",
       "    .dataframe tbody tr th:only-of-type {\n",
       "        vertical-align: middle;\n",
       "    }\n",
       "\n",
       "    .dataframe tbody tr th {\n",
       "        vertical-align: top;\n",
       "    }\n",
       "\n",
       "    .dataframe thead th {\n",
       "        text-align: right;\n",
       "    }\n",
       "</style>\n",
       "<table border=\"1\" class=\"dataframe\">\n",
       "  <thead>\n",
       "    <tr style=\"text-align: right;\">\n",
       "      <th></th>\n",
       "      <th>State</th>\n",
       "      <th>date</th>\n",
       "      <th>cases</th>\n",
       "      <th>deaths</th>\n",
       "      <th>population</th>\n",
       "    </tr>\n",
       "  </thead>\n",
       "  <tbody>\n",
       "    <tr>\n",
       "      <th>0</th>\n",
       "      <td>NY</td>\n",
       "      <td>2020-01-22</td>\n",
       "      <td>0</td>\n",
       "      <td>0</td>\n",
       "      <td>19453561</td>\n",
       "    </tr>\n",
       "    <tr>\n",
       "      <th>1</th>\n",
       "      <td>NY</td>\n",
       "      <td>2020-01-29</td>\n",
       "      <td>0</td>\n",
       "      <td>0</td>\n",
       "      <td>19453561</td>\n",
       "    </tr>\n",
       "    <tr>\n",
       "      <th>2</th>\n",
       "      <td>NY</td>\n",
       "      <td>2020-02-05</td>\n",
       "      <td>0</td>\n",
       "      <td>0</td>\n",
       "      <td>19453561</td>\n",
       "    </tr>\n",
       "    <tr>\n",
       "      <th>3</th>\n",
       "      <td>NY</td>\n",
       "      <td>2020-02-12</td>\n",
       "      <td>0</td>\n",
       "      <td>0</td>\n",
       "      <td>19453561</td>\n",
       "    </tr>\n",
       "    <tr>\n",
       "      <th>4</th>\n",
       "      <td>NY</td>\n",
       "      <td>2020-02-19</td>\n",
       "      <td>0</td>\n",
       "      <td>0</td>\n",
       "      <td>19453561</td>\n",
       "    </tr>\n",
       "    <tr>\n",
       "      <th>...</th>\n",
       "      <td>...</td>\n",
       "      <td>...</td>\n",
       "      <td>...</td>\n",
       "      <td>...</td>\n",
       "      <td>...</td>\n",
       "    </tr>\n",
       "    <tr>\n",
       "      <th>155</th>\n",
       "      <td>NY</td>\n",
       "      <td>2023-01-11</td>\n",
       "      <td>45340093</td>\n",
       "      <td>521498</td>\n",
       "      <td>19453561</td>\n",
       "    </tr>\n",
       "    <tr>\n",
       "      <th>156</th>\n",
       "      <td>NY</td>\n",
       "      <td>2023-01-18</td>\n",
       "      <td>45520292</td>\n",
       "      <td>523754</td>\n",
       "      <td>19453561</td>\n",
       "    </tr>\n",
       "    <tr>\n",
       "      <th>157</th>\n",
       "      <td>NY</td>\n",
       "      <td>2023-01-25</td>\n",
       "      <td>45718345</td>\n",
       "      <td>525272</td>\n",
       "      <td>19453561</td>\n",
       "    </tr>\n",
       "    <tr>\n",
       "      <th>158</th>\n",
       "      <td>NY</td>\n",
       "      <td>2023-02-01</td>\n",
       "      <td>45854147</td>\n",
       "      <td>527091</td>\n",
       "      <td>19453561</td>\n",
       "    </tr>\n",
       "    <tr>\n",
       "      <th>159</th>\n",
       "      <td>NY</td>\n",
       "      <td>2023-02-08</td>\n",
       "      <td>26271380</td>\n",
       "      <td>302408</td>\n",
       "      <td>19453561</td>\n",
       "    </tr>\n",
       "  </tbody>\n",
       "</table>\n",
       "<p>160 rows × 5 columns</p>\n",
       "</div>"
      ],
      "text/plain": [
       "    State       date     cases  deaths  population\n",
       "0      NY 2020-01-22         0       0    19453561\n",
       "1      NY 2020-01-29         0       0    19453561\n",
       "2      NY 2020-02-05         0       0    19453561\n",
       "3      NY 2020-02-12         0       0    19453561\n",
       "4      NY 2020-02-19         0       0    19453561\n",
       "..    ...        ...       ...     ...         ...\n",
       "155    NY 2023-01-11  45340093  521498    19453561\n",
       "156    NY 2023-01-18  45520292  523754    19453561\n",
       "157    NY 2023-01-25  45718345  525272    19453561\n",
       "158    NY 2023-02-01  45854147  527091    19453561\n",
       "159    NY 2023-02-08  26271380  302408    19453561\n",
       "\n",
       "[160 rows x 5 columns]"
      ]
     },
     "execution_count": 1405,
     "metadata": {},
     "output_type": "execute_result"
    }
   ],
   "source": [
    "#converting the date column to datetime format, easier to use this way.\n",
    "NY_state_pattern_data['date'] = pd.to_datetime(NY_state_pattern_data['date'])  \n",
    "\n",
    "#Aggregating and grouping the data by weekly intervals.\n",
    "NY_weekly_pattern = NY_state_pattern_data.groupby(['State', pd.Grouper(key=\"date\", freq=\"W-Wed\")]).agg({\n",
    "    \"cases\": \"sum\",\n",
    "    \"deaths\": \"sum\",\n",
    "    \"population\": \"first\"\n",
    "}).reset_index()\n",
    "NY_weekly_pattern"
   ]
  },
  {
   "cell_type": "code",
   "execution_count": 1406,
   "id": "cb631c33",
   "metadata": {},
   "outputs": [
    {
     "data": {
      "text/html": [
       "<div>\n",
       "<style scoped>\n",
       "    .dataframe tbody tr th:only-of-type {\n",
       "        vertical-align: middle;\n",
       "    }\n",
       "\n",
       "    .dataframe tbody tr th {\n",
       "        vertical-align: top;\n",
       "    }\n",
       "\n",
       "    .dataframe thead th {\n",
       "        text-align: right;\n",
       "    }\n",
       "</style>\n",
       "<table border=\"1\" class=\"dataframe\">\n",
       "  <thead>\n",
       "    <tr style=\"text-align: right;\">\n",
       "      <th></th>\n",
       "      <th>State</th>\n",
       "      <th>date</th>\n",
       "      <th>cases</th>\n",
       "      <th>deaths</th>\n",
       "      <th>population</th>\n",
       "      <th>new_cases</th>\n",
       "      <th>new_deaths</th>\n",
       "    </tr>\n",
       "  </thead>\n",
       "  <tbody>\n",
       "    <tr>\n",
       "      <th>0</th>\n",
       "      <td>NY</td>\n",
       "      <td>2020-01-22</td>\n",
       "      <td>0</td>\n",
       "      <td>0</td>\n",
       "      <td>19453561</td>\n",
       "      <td>0</td>\n",
       "      <td>0</td>\n",
       "    </tr>\n",
       "    <tr>\n",
       "      <th>1</th>\n",
       "      <td>NY</td>\n",
       "      <td>2020-01-29</td>\n",
       "      <td>0</td>\n",
       "      <td>0</td>\n",
       "      <td>19453561</td>\n",
       "      <td>0</td>\n",
       "      <td>0</td>\n",
       "    </tr>\n",
       "    <tr>\n",
       "      <th>2</th>\n",
       "      <td>NY</td>\n",
       "      <td>2020-02-05</td>\n",
       "      <td>0</td>\n",
       "      <td>0</td>\n",
       "      <td>19453561</td>\n",
       "      <td>0</td>\n",
       "      <td>0</td>\n",
       "    </tr>\n",
       "    <tr>\n",
       "      <th>3</th>\n",
       "      <td>NY</td>\n",
       "      <td>2020-02-12</td>\n",
       "      <td>0</td>\n",
       "      <td>0</td>\n",
       "      <td>19453561</td>\n",
       "      <td>0</td>\n",
       "      <td>0</td>\n",
       "    </tr>\n",
       "    <tr>\n",
       "      <th>4</th>\n",
       "      <td>NY</td>\n",
       "      <td>2020-02-19</td>\n",
       "      <td>0</td>\n",
       "      <td>0</td>\n",
       "      <td>19453561</td>\n",
       "      <td>0</td>\n",
       "      <td>0</td>\n",
       "    </tr>\n",
       "    <tr>\n",
       "      <th>...</th>\n",
       "      <td>...</td>\n",
       "      <td>...</td>\n",
       "      <td>...</td>\n",
       "      <td>...</td>\n",
       "      <td>...</td>\n",
       "      <td>...</td>\n",
       "      <td>...</td>\n",
       "    </tr>\n",
       "    <tr>\n",
       "      <th>155</th>\n",
       "      <td>NY</td>\n",
       "      <td>2023-01-11</td>\n",
       "      <td>45340093</td>\n",
       "      <td>521498</td>\n",
       "      <td>19453561</td>\n",
       "      <td>266995</td>\n",
       "      <td>2119</td>\n",
       "    </tr>\n",
       "    <tr>\n",
       "      <th>156</th>\n",
       "      <td>NY</td>\n",
       "      <td>2023-01-18</td>\n",
       "      <td>45520292</td>\n",
       "      <td>523754</td>\n",
       "      <td>19453561</td>\n",
       "      <td>180199</td>\n",
       "      <td>2256</td>\n",
       "    </tr>\n",
       "    <tr>\n",
       "      <th>157</th>\n",
       "      <td>NY</td>\n",
       "      <td>2023-01-25</td>\n",
       "      <td>45718345</td>\n",
       "      <td>525272</td>\n",
       "      <td>19453561</td>\n",
       "      <td>198053</td>\n",
       "      <td>1518</td>\n",
       "    </tr>\n",
       "    <tr>\n",
       "      <th>158</th>\n",
       "      <td>NY</td>\n",
       "      <td>2023-02-01</td>\n",
       "      <td>45854147</td>\n",
       "      <td>527091</td>\n",
       "      <td>19453561</td>\n",
       "      <td>135802</td>\n",
       "      <td>1819</td>\n",
       "    </tr>\n",
       "    <tr>\n",
       "      <th>159</th>\n",
       "      <td>NY</td>\n",
       "      <td>2023-02-08</td>\n",
       "      <td>26271380</td>\n",
       "      <td>302408</td>\n",
       "      <td>19453561</td>\n",
       "      <td>0</td>\n",
       "      <td>0</td>\n",
       "    </tr>\n",
       "  </tbody>\n",
       "</table>\n",
       "<p>160 rows × 7 columns</p>\n",
       "</div>"
      ],
      "text/plain": [
       "    State       date     cases  deaths  population  new_cases  new_deaths\n",
       "0      NY 2020-01-22         0       0    19453561          0           0\n",
       "1      NY 2020-01-29         0       0    19453561          0           0\n",
       "2      NY 2020-02-05         0       0    19453561          0           0\n",
       "3      NY 2020-02-12         0       0    19453561          0           0\n",
       "4      NY 2020-02-19         0       0    19453561          0           0\n",
       "..    ...        ...       ...     ...         ...        ...         ...\n",
       "155    NY 2023-01-11  45340093  521498    19453561     266995        2119\n",
       "156    NY 2023-01-18  45520292  523754    19453561     180199        2256\n",
       "157    NY 2023-01-25  45718345  525272    19453561     198053        1518\n",
       "158    NY 2023-02-01  45854147  527091    19453561     135802        1819\n",
       "159    NY 2023-02-08  26271380  302408    19453561          0           0\n",
       "\n",
       "[160 rows x 7 columns]"
      ]
     },
     "execution_count": 1406,
     "metadata": {},
     "output_type": "execute_result"
    }
   ],
   "source": [
    "#Adding new columns to see the no. of new cases and deaths each week.\n",
    "NY_weekly_pattern = NY_weekly_pattern.assign(new_cases = NY_weekly_pattern.cases.diff())\n",
    "NY_weekly_pattern = NY_weekly_pattern.assign(new_deaths = NY_weekly_pattern.deaths.diff())\n",
    "\n",
    "#Handling Nan values converting values to int\n",
    "NY_weekly_pattern[\"new_cases\"] = NY_weekly_pattern[\"new_cases\"].fillna(0).astype(int)\n",
    "NY_weekly_pattern[\"new_deaths\"] = NY_weekly_pattern[\"new_deaths\"].fillna(0).astype(int)\n",
    "\n",
    "#Handling negative values\n",
    "NY_weekly_pattern.loc[NY_weekly_pattern['new_cases'] < 0, 'new_cases'] = 0\n",
    "NY_weekly_pattern.loc[NY_weekly_pattern['new_deaths'] < 0, 'new_deaths'] = 0\n",
    "NY_weekly_pattern"
   ]
  },
  {
   "cell_type": "code",
   "execution_count": 1407,
   "id": "c5e67558",
   "metadata": {},
   "outputs": [
    {
     "data": {
      "text/html": [
       "<div>\n",
       "<style scoped>\n",
       "    .dataframe tbody tr th:only-of-type {\n",
       "        vertical-align: middle;\n",
       "    }\n",
       "\n",
       "    .dataframe tbody tr th {\n",
       "        vertical-align: top;\n",
       "    }\n",
       "\n",
       "    .dataframe thead th {\n",
       "        text-align: right;\n",
       "    }\n",
       "</style>\n",
       "<table border=\"1\" class=\"dataframe\">\n",
       "  <thead>\n",
       "    <tr style=\"text-align: right;\">\n",
       "      <th></th>\n",
       "      <th>State</th>\n",
       "      <th>date</th>\n",
       "      <th>cases</th>\n",
       "      <th>deaths</th>\n",
       "      <th>population</th>\n",
       "      <th>new_cases</th>\n",
       "      <th>new_deaths</th>\n",
       "      <th>new_cases_log_norm</th>\n",
       "      <th>new_deaths_log_norm</th>\n",
       "    </tr>\n",
       "  </thead>\n",
       "  <tbody>\n",
       "    <tr>\n",
       "      <th>0</th>\n",
       "      <td>NY</td>\n",
       "      <td>2020-01-22</td>\n",
       "      <td>0</td>\n",
       "      <td>0</td>\n",
       "      <td>19453561</td>\n",
       "      <td>0</td>\n",
       "      <td>0</td>\n",
       "      <td>0.000000</td>\n",
       "      <td>0.000000</td>\n",
       "    </tr>\n",
       "    <tr>\n",
       "      <th>1</th>\n",
       "      <td>NY</td>\n",
       "      <td>2020-01-29</td>\n",
       "      <td>0</td>\n",
       "      <td>0</td>\n",
       "      <td>19453561</td>\n",
       "      <td>0</td>\n",
       "      <td>0</td>\n",
       "      <td>0.000000</td>\n",
       "      <td>0.000000</td>\n",
       "    </tr>\n",
       "    <tr>\n",
       "      <th>2</th>\n",
       "      <td>NY</td>\n",
       "      <td>2020-02-05</td>\n",
       "      <td>0</td>\n",
       "      <td>0</td>\n",
       "      <td>19453561</td>\n",
       "      <td>0</td>\n",
       "      <td>0</td>\n",
       "      <td>0.000000</td>\n",
       "      <td>0.000000</td>\n",
       "    </tr>\n",
       "    <tr>\n",
       "      <th>3</th>\n",
       "      <td>NY</td>\n",
       "      <td>2020-02-12</td>\n",
       "      <td>0</td>\n",
       "      <td>0</td>\n",
       "      <td>19453561</td>\n",
       "      <td>0</td>\n",
       "      <td>0</td>\n",
       "      <td>0.000000</td>\n",
       "      <td>0.000000</td>\n",
       "    </tr>\n",
       "    <tr>\n",
       "      <th>4</th>\n",
       "      <td>NY</td>\n",
       "      <td>2020-02-19</td>\n",
       "      <td>0</td>\n",
       "      <td>0</td>\n",
       "      <td>19453561</td>\n",
       "      <td>0</td>\n",
       "      <td>0</td>\n",
       "      <td>0.000000</td>\n",
       "      <td>0.000000</td>\n",
       "    </tr>\n",
       "    <tr>\n",
       "      <th>...</th>\n",
       "      <td>...</td>\n",
       "      <td>...</td>\n",
       "      <td>...</td>\n",
       "      <td>...</td>\n",
       "      <td>...</td>\n",
       "      <td>...</td>\n",
       "      <td>...</td>\n",
       "      <td>...</td>\n",
       "      <td>...</td>\n",
       "    </tr>\n",
       "    <tr>\n",
       "      <th>155</th>\n",
       "      <td>NY</td>\n",
       "      <td>2023-01-11</td>\n",
       "      <td>45340093</td>\n",
       "      <td>521498</td>\n",
       "      <td>19453561</td>\n",
       "      <td>266995</td>\n",
       "      <td>2119</td>\n",
       "      <td>12.494985</td>\n",
       "      <td>7.658700</td>\n",
       "    </tr>\n",
       "    <tr>\n",
       "      <th>156</th>\n",
       "      <td>NY</td>\n",
       "      <td>2023-01-18</td>\n",
       "      <td>45520292</td>\n",
       "      <td>523754</td>\n",
       "      <td>19453561</td>\n",
       "      <td>180199</td>\n",
       "      <td>2256</td>\n",
       "      <td>12.101817</td>\n",
       "      <td>7.721349</td>\n",
       "    </tr>\n",
       "    <tr>\n",
       "      <th>157</th>\n",
       "      <td>NY</td>\n",
       "      <td>2023-01-25</td>\n",
       "      <td>45718345</td>\n",
       "      <td>525272</td>\n",
       "      <td>19453561</td>\n",
       "      <td>198053</td>\n",
       "      <td>1518</td>\n",
       "      <td>12.196290</td>\n",
       "      <td>7.325149</td>\n",
       "    </tr>\n",
       "    <tr>\n",
       "      <th>158</th>\n",
       "      <td>NY</td>\n",
       "      <td>2023-02-01</td>\n",
       "      <td>45854147</td>\n",
       "      <td>527091</td>\n",
       "      <td>19453561</td>\n",
       "      <td>135802</td>\n",
       "      <td>1819</td>\n",
       "      <td>11.818953</td>\n",
       "      <td>7.506042</td>\n",
       "    </tr>\n",
       "    <tr>\n",
       "      <th>159</th>\n",
       "      <td>NY</td>\n",
       "      <td>2023-02-08</td>\n",
       "      <td>26271380</td>\n",
       "      <td>302408</td>\n",
       "      <td>19453561</td>\n",
       "      <td>0</td>\n",
       "      <td>0</td>\n",
       "      <td>0.000000</td>\n",
       "      <td>0.000000</td>\n",
       "    </tr>\n",
       "  </tbody>\n",
       "</table>\n",
       "<p>160 rows × 9 columns</p>\n",
       "</div>"
      ],
      "text/plain": [
       "    State       date     cases  deaths  population  new_cases  new_deaths  \\\n",
       "0      NY 2020-01-22         0       0    19453561          0           0   \n",
       "1      NY 2020-01-29         0       0    19453561          0           0   \n",
       "2      NY 2020-02-05         0       0    19453561          0           0   \n",
       "3      NY 2020-02-12         0       0    19453561          0           0   \n",
       "4      NY 2020-02-19         0       0    19453561          0           0   \n",
       "..    ...        ...       ...     ...         ...        ...         ...   \n",
       "155    NY 2023-01-11  45340093  521498    19453561     266995        2119   \n",
       "156    NY 2023-01-18  45520292  523754    19453561     180199        2256   \n",
       "157    NY 2023-01-25  45718345  525272    19453561     198053        1518   \n",
       "158    NY 2023-02-01  45854147  527091    19453561     135802        1819   \n",
       "159    NY 2023-02-08  26271380  302408    19453561          0           0   \n",
       "\n",
       "     new_cases_log_norm  new_deaths_log_norm  \n",
       "0              0.000000             0.000000  \n",
       "1              0.000000             0.000000  \n",
       "2              0.000000             0.000000  \n",
       "3              0.000000             0.000000  \n",
       "4              0.000000             0.000000  \n",
       "..                  ...                  ...  \n",
       "155           12.494985             7.658700  \n",
       "156           12.101817             7.721349  \n",
       "157           12.196290             7.325149  \n",
       "158           11.818953             7.506042  \n",
       "159            0.000000             0.000000  \n",
       "\n",
       "[160 rows x 9 columns]"
      ]
     },
     "execution_count": 1407,
     "metadata": {},
     "output_type": "execute_result"
    }
   ],
   "source": [
    "eps = 1e-8 #adding a small constant to avoid warning\n",
    "NY_weekly_pattern['new_cases_log_norm'] = np.log(NY_weekly_pattern['new_cases'] + eps)\n",
    "NY_weekly_pattern['new_deaths_log_norm'] = np.log(NY_weekly_pattern['new_deaths'] + eps)\n",
    "\n",
    "NY_weekly_pattern.loc[NY_weekly_pattern['new_cases_log_norm'] < 0, 'new_cases_log_norm'] = 0\n",
    "NY_weekly_pattern.loc[NY_weekly_pattern['new_deaths_log_norm'] < 0, 'new_deaths_log_norm'] = 0\n",
    "NY_weekly_pattern"
   ]
  },
  {
   "cell_type": "code",
   "execution_count": 1408,
   "id": "dc816d4f",
   "metadata": {},
   "outputs": [
    {
     "data": {
      "application/vnd.plotly.v1+json": {
       "config": {
        "plotlyServerURL": "https://plot.ly"
       },
       "data": [
        {
         "hovertemplate": "State=NY<br>date=%{x}<br>new_cases=%{y}<extra></extra>",
         "legendgroup": "NY",
         "line": {
          "color": "#636efa",
          "dash": "solid"
         },
         "marker": {
          "symbol": "circle"
         },
         "mode": "lines",
         "name": "NY",
         "orientation": "v",
         "showlegend": true,
         "type": "scatter",
         "x": [
          "2020-01-22T00:00:00",
          "2020-01-29T00:00:00",
          "2020-02-05T00:00:00",
          "2020-02-12T00:00:00",
          "2020-02-19T00:00:00",
          "2020-02-26T00:00:00",
          "2020-03-04T00:00:00",
          "2020-03-11T00:00:00",
          "2020-03-18T00:00:00",
          "2020-03-25T00:00:00",
          "2020-04-01T00:00:00",
          "2020-04-08T00:00:00",
          "2020-04-15T00:00:00",
          "2020-04-22T00:00:00",
          "2020-04-29T00:00:00",
          "2020-05-06T00:00:00",
          "2020-05-13T00:00:00",
          "2020-05-20T00:00:00",
          "2020-05-27T00:00:00",
          "2020-06-03T00:00:00",
          "2020-06-10T00:00:00",
          "2020-06-17T00:00:00",
          "2020-06-24T00:00:00",
          "2020-07-01T00:00:00",
          "2020-07-08T00:00:00",
          "2020-07-15T00:00:00",
          "2020-07-22T00:00:00",
          "2020-07-29T00:00:00",
          "2020-08-05T00:00:00",
          "2020-08-12T00:00:00",
          "2020-08-19T00:00:00",
          "2020-08-26T00:00:00",
          "2020-09-02T00:00:00",
          "2020-09-09T00:00:00",
          "2020-09-16T00:00:00",
          "2020-09-23T00:00:00",
          "2020-09-30T00:00:00",
          "2020-10-07T00:00:00",
          "2020-10-14T00:00:00",
          "2020-10-21T00:00:00",
          "2020-10-28T00:00:00",
          "2020-11-04T00:00:00",
          "2020-11-11T00:00:00",
          "2020-11-18T00:00:00",
          "2020-11-25T00:00:00",
          "2020-12-02T00:00:00",
          "2020-12-09T00:00:00",
          "2020-12-16T00:00:00",
          "2020-12-23T00:00:00",
          "2020-12-30T00:00:00",
          "2021-01-06T00:00:00",
          "2021-01-13T00:00:00",
          "2021-01-20T00:00:00",
          "2021-01-27T00:00:00",
          "2021-02-03T00:00:00",
          "2021-02-10T00:00:00",
          "2021-02-17T00:00:00",
          "2021-02-24T00:00:00",
          "2021-03-03T00:00:00",
          "2021-03-10T00:00:00",
          "2021-03-17T00:00:00",
          "2021-03-24T00:00:00",
          "2021-03-31T00:00:00",
          "2021-04-07T00:00:00",
          "2021-04-14T00:00:00",
          "2021-04-21T00:00:00",
          "2021-04-28T00:00:00",
          "2021-05-05T00:00:00",
          "2021-05-12T00:00:00",
          "2021-05-19T00:00:00",
          "2021-05-26T00:00:00",
          "2021-06-02T00:00:00",
          "2021-06-09T00:00:00",
          "2021-06-16T00:00:00",
          "2021-06-23T00:00:00",
          "2021-06-30T00:00:00",
          "2021-07-07T00:00:00",
          "2021-07-14T00:00:00",
          "2021-07-21T00:00:00",
          "2021-07-28T00:00:00",
          "2021-08-04T00:00:00",
          "2021-08-11T00:00:00",
          "2021-08-18T00:00:00",
          "2021-08-25T00:00:00",
          "2021-09-01T00:00:00",
          "2021-09-08T00:00:00",
          "2021-09-15T00:00:00",
          "2021-09-22T00:00:00",
          "2021-09-29T00:00:00",
          "2021-10-06T00:00:00",
          "2021-10-13T00:00:00",
          "2021-10-20T00:00:00",
          "2021-10-27T00:00:00",
          "2021-11-03T00:00:00",
          "2021-11-10T00:00:00",
          "2021-11-17T00:00:00",
          "2021-11-24T00:00:00",
          "2021-12-01T00:00:00",
          "2021-12-08T00:00:00",
          "2021-12-15T00:00:00",
          "2021-12-22T00:00:00",
          "2021-12-29T00:00:00",
          "2022-01-05T00:00:00",
          "2022-01-12T00:00:00",
          "2022-01-19T00:00:00",
          "2022-01-26T00:00:00",
          "2022-02-02T00:00:00",
          "2022-02-09T00:00:00",
          "2022-02-16T00:00:00",
          "2022-02-23T00:00:00",
          "2022-03-02T00:00:00",
          "2022-03-09T00:00:00",
          "2022-03-16T00:00:00",
          "2022-03-23T00:00:00",
          "2022-03-30T00:00:00",
          "2022-04-06T00:00:00",
          "2022-04-13T00:00:00",
          "2022-04-20T00:00:00",
          "2022-04-27T00:00:00",
          "2022-05-04T00:00:00",
          "2022-05-11T00:00:00",
          "2022-05-18T00:00:00",
          "2022-05-25T00:00:00",
          "2022-06-01T00:00:00",
          "2022-06-08T00:00:00",
          "2022-06-15T00:00:00",
          "2022-06-22T00:00:00",
          "2022-06-29T00:00:00",
          "2022-07-06T00:00:00",
          "2022-07-13T00:00:00",
          "2022-07-20T00:00:00",
          "2022-07-27T00:00:00",
          "2022-08-03T00:00:00",
          "2022-08-10T00:00:00",
          "2022-08-17T00:00:00",
          "2022-08-24T00:00:00",
          "2022-08-31T00:00:00",
          "2022-09-07T00:00:00",
          "2022-09-14T00:00:00",
          "2022-09-21T00:00:00",
          "2022-09-28T00:00:00",
          "2022-10-05T00:00:00",
          "2022-10-12T00:00:00",
          "2022-10-19T00:00:00",
          "2022-10-26T00:00:00",
          "2022-11-02T00:00:00",
          "2022-11-09T00:00:00",
          "2022-11-16T00:00:00",
          "2022-11-23T00:00:00",
          "2022-11-30T00:00:00",
          "2022-12-07T00:00:00",
          "2022-12-14T00:00:00",
          "2022-12-21T00:00:00",
          "2022-12-28T00:00:00",
          "2023-01-04T00:00:00",
          "2023-01-11T00:00:00",
          "2023-01-18T00:00:00",
          "2023-01-25T00:00:00",
          "2023-02-01T00:00:00",
          "2023-02-08T00:00:00"
         ],
         "xaxis": "x",
         "y": [
          0,
          0,
          0,
          0,
          0,
          0,
          14,
          743,
          6544,
          113464,
          299035,
          429501,
          461318,
          377763,
          303649,
          214170,
          136393,
          103209,
          81815,
          66665,
          50908,
          37030,
          32543,
          31859,
          32131,
          33220,
          35847,
          34060,
          32352,
          31584,
          31888,
          29771,
          31408,
          36220,
          34631,
          38109,
          41902,
          60547,
          68899,
          68752,
          79235,
          99578,
          138010,
          215449,
          253440,
          318000,
          438410,
          490455,
          511757,
          533329,
          632674,
          774177,
          742751,
          661989,
          574707,
          419068,
          425225,
          349308,
          350188,
          363988,
          328946,
          373225,
          380857,
          382808,
          351466,
          302569,
          222276,
          165191,
          121276,
          92141,
          66286,
          43812,
          28878,
          23554,
          17520,
          15677,
          18503,
          27630,
          43651,
          71136,
          115000,
          158802,
          201587,
          221393,
          220242,
          233228,
          238395,
          243608,
          236825,
          222470,
          238579,
          214823,
          185455,
          183440,
          196893,
          244807,
          327577,
          309143,
          430981,
          499149,
          833213,
          1533753,
          2789598,
          3858883,
          2626236,
          1334873,
          690106,
          366878,
          250430,
          155432,
          104138,
          90833,
          83817,
          94845,
          132683,
          163769,
          198526,
          302851,
          318009,
          337689,
          462305,
          478857,
          440944,
          374208,
          307844,
          264760,
          240563,
          243103,
          241172,
          349989,
          310533,
          361133,
          313763,
          286304,
          251561,
          226589,
          200974,
          182240,
          172639,
          211439,
          225322,
          174997,
          221176,
          195225,
          184808,
          189788,
          190394,
          191443,
          175807,
          190592,
          164933,
          259924,
          318973,
          128530,
          314223,
          266995,
          180199,
          198053,
          135802,
          0
         ],
         "yaxis": "y"
        }
       ],
       "layout": {
        "legend": {
         "title": {
          "text": "State"
         },
         "tracegroupgap": 0
        },
        "template": {
         "data": {
          "bar": [
           {
            "error_x": {
             "color": "#2a3f5f"
            },
            "error_y": {
             "color": "#2a3f5f"
            },
            "marker": {
             "line": {
              "color": "#E5ECF6",
              "width": 0.5
             },
             "pattern": {
              "fillmode": "overlay",
              "size": 10,
              "solidity": 0.2
             }
            },
            "type": "bar"
           }
          ],
          "barpolar": [
           {
            "marker": {
             "line": {
              "color": "#E5ECF6",
              "width": 0.5
             },
             "pattern": {
              "fillmode": "overlay",
              "size": 10,
              "solidity": 0.2
             }
            },
            "type": "barpolar"
           }
          ],
          "carpet": [
           {
            "aaxis": {
             "endlinecolor": "#2a3f5f",
             "gridcolor": "white",
             "linecolor": "white",
             "minorgridcolor": "white",
             "startlinecolor": "#2a3f5f"
            },
            "baxis": {
             "endlinecolor": "#2a3f5f",
             "gridcolor": "white",
             "linecolor": "white",
             "minorgridcolor": "white",
             "startlinecolor": "#2a3f5f"
            },
            "type": "carpet"
           }
          ],
          "choropleth": [
           {
            "colorbar": {
             "outlinewidth": 0,
             "ticks": ""
            },
            "type": "choropleth"
           }
          ],
          "contour": [
           {
            "colorbar": {
             "outlinewidth": 0,
             "ticks": ""
            },
            "colorscale": [
             [
              0,
              "#0d0887"
             ],
             [
              0.1111111111111111,
              "#46039f"
             ],
             [
              0.2222222222222222,
              "#7201a8"
             ],
             [
              0.3333333333333333,
              "#9c179e"
             ],
             [
              0.4444444444444444,
              "#bd3786"
             ],
             [
              0.5555555555555556,
              "#d8576b"
             ],
             [
              0.6666666666666666,
              "#ed7953"
             ],
             [
              0.7777777777777778,
              "#fb9f3a"
             ],
             [
              0.8888888888888888,
              "#fdca26"
             ],
             [
              1,
              "#f0f921"
             ]
            ],
            "type": "contour"
           }
          ],
          "contourcarpet": [
           {
            "colorbar": {
             "outlinewidth": 0,
             "ticks": ""
            },
            "type": "contourcarpet"
           }
          ],
          "heatmap": [
           {
            "colorbar": {
             "outlinewidth": 0,
             "ticks": ""
            },
            "colorscale": [
             [
              0,
              "#0d0887"
             ],
             [
              0.1111111111111111,
              "#46039f"
             ],
             [
              0.2222222222222222,
              "#7201a8"
             ],
             [
              0.3333333333333333,
              "#9c179e"
             ],
             [
              0.4444444444444444,
              "#bd3786"
             ],
             [
              0.5555555555555556,
              "#d8576b"
             ],
             [
              0.6666666666666666,
              "#ed7953"
             ],
             [
              0.7777777777777778,
              "#fb9f3a"
             ],
             [
              0.8888888888888888,
              "#fdca26"
             ],
             [
              1,
              "#f0f921"
             ]
            ],
            "type": "heatmap"
           }
          ],
          "heatmapgl": [
           {
            "colorbar": {
             "outlinewidth": 0,
             "ticks": ""
            },
            "colorscale": [
             [
              0,
              "#0d0887"
             ],
             [
              0.1111111111111111,
              "#46039f"
             ],
             [
              0.2222222222222222,
              "#7201a8"
             ],
             [
              0.3333333333333333,
              "#9c179e"
             ],
             [
              0.4444444444444444,
              "#bd3786"
             ],
             [
              0.5555555555555556,
              "#d8576b"
             ],
             [
              0.6666666666666666,
              "#ed7953"
             ],
             [
              0.7777777777777778,
              "#fb9f3a"
             ],
             [
              0.8888888888888888,
              "#fdca26"
             ],
             [
              1,
              "#f0f921"
             ]
            ],
            "type": "heatmapgl"
           }
          ],
          "histogram": [
           {
            "marker": {
             "pattern": {
              "fillmode": "overlay",
              "size": 10,
              "solidity": 0.2
             }
            },
            "type": "histogram"
           }
          ],
          "histogram2d": [
           {
            "colorbar": {
             "outlinewidth": 0,
             "ticks": ""
            },
            "colorscale": [
             [
              0,
              "#0d0887"
             ],
             [
              0.1111111111111111,
              "#46039f"
             ],
             [
              0.2222222222222222,
              "#7201a8"
             ],
             [
              0.3333333333333333,
              "#9c179e"
             ],
             [
              0.4444444444444444,
              "#bd3786"
             ],
             [
              0.5555555555555556,
              "#d8576b"
             ],
             [
              0.6666666666666666,
              "#ed7953"
             ],
             [
              0.7777777777777778,
              "#fb9f3a"
             ],
             [
              0.8888888888888888,
              "#fdca26"
             ],
             [
              1,
              "#f0f921"
             ]
            ],
            "type": "histogram2d"
           }
          ],
          "histogram2dcontour": [
           {
            "colorbar": {
             "outlinewidth": 0,
             "ticks": ""
            },
            "colorscale": [
             [
              0,
              "#0d0887"
             ],
             [
              0.1111111111111111,
              "#46039f"
             ],
             [
              0.2222222222222222,
              "#7201a8"
             ],
             [
              0.3333333333333333,
              "#9c179e"
             ],
             [
              0.4444444444444444,
              "#bd3786"
             ],
             [
              0.5555555555555556,
              "#d8576b"
             ],
             [
              0.6666666666666666,
              "#ed7953"
             ],
             [
              0.7777777777777778,
              "#fb9f3a"
             ],
             [
              0.8888888888888888,
              "#fdca26"
             ],
             [
              1,
              "#f0f921"
             ]
            ],
            "type": "histogram2dcontour"
           }
          ],
          "mesh3d": [
           {
            "colorbar": {
             "outlinewidth": 0,
             "ticks": ""
            },
            "type": "mesh3d"
           }
          ],
          "parcoords": [
           {
            "line": {
             "colorbar": {
              "outlinewidth": 0,
              "ticks": ""
             }
            },
            "type": "parcoords"
           }
          ],
          "pie": [
           {
            "automargin": true,
            "type": "pie"
           }
          ],
          "scatter": [
           {
            "fillpattern": {
             "fillmode": "overlay",
             "size": 10,
             "solidity": 0.2
            },
            "type": "scatter"
           }
          ],
          "scatter3d": [
           {
            "line": {
             "colorbar": {
              "outlinewidth": 0,
              "ticks": ""
             }
            },
            "marker": {
             "colorbar": {
              "outlinewidth": 0,
              "ticks": ""
             }
            },
            "type": "scatter3d"
           }
          ],
          "scattercarpet": [
           {
            "marker": {
             "colorbar": {
              "outlinewidth": 0,
              "ticks": ""
             }
            },
            "type": "scattercarpet"
           }
          ],
          "scattergeo": [
           {
            "marker": {
             "colorbar": {
              "outlinewidth": 0,
              "ticks": ""
             }
            },
            "type": "scattergeo"
           }
          ],
          "scattergl": [
           {
            "marker": {
             "colorbar": {
              "outlinewidth": 0,
              "ticks": ""
             }
            },
            "type": "scattergl"
           }
          ],
          "scattermapbox": [
           {
            "marker": {
             "colorbar": {
              "outlinewidth": 0,
              "ticks": ""
             }
            },
            "type": "scattermapbox"
           }
          ],
          "scatterpolar": [
           {
            "marker": {
             "colorbar": {
              "outlinewidth": 0,
              "ticks": ""
             }
            },
            "type": "scatterpolar"
           }
          ],
          "scatterpolargl": [
           {
            "marker": {
             "colorbar": {
              "outlinewidth": 0,
              "ticks": ""
             }
            },
            "type": "scatterpolargl"
           }
          ],
          "scatterternary": [
           {
            "marker": {
             "colorbar": {
              "outlinewidth": 0,
              "ticks": ""
             }
            },
            "type": "scatterternary"
           }
          ],
          "surface": [
           {
            "colorbar": {
             "outlinewidth": 0,
             "ticks": ""
            },
            "colorscale": [
             [
              0,
              "#0d0887"
             ],
             [
              0.1111111111111111,
              "#46039f"
             ],
             [
              0.2222222222222222,
              "#7201a8"
             ],
             [
              0.3333333333333333,
              "#9c179e"
             ],
             [
              0.4444444444444444,
              "#bd3786"
             ],
             [
              0.5555555555555556,
              "#d8576b"
             ],
             [
              0.6666666666666666,
              "#ed7953"
             ],
             [
              0.7777777777777778,
              "#fb9f3a"
             ],
             [
              0.8888888888888888,
              "#fdca26"
             ],
             [
              1,
              "#f0f921"
             ]
            ],
            "type": "surface"
           }
          ],
          "table": [
           {
            "cells": {
             "fill": {
              "color": "#EBF0F8"
             },
             "line": {
              "color": "white"
             }
            },
            "header": {
             "fill": {
              "color": "#C8D4E3"
             },
             "line": {
              "color": "white"
             }
            },
            "type": "table"
           }
          ]
         },
         "layout": {
          "annotationdefaults": {
           "arrowcolor": "#2a3f5f",
           "arrowhead": 0,
           "arrowwidth": 1
          },
          "autotypenumbers": "strict",
          "coloraxis": {
           "colorbar": {
            "outlinewidth": 0,
            "ticks": ""
           }
          },
          "colorscale": {
           "diverging": [
            [
             0,
             "#8e0152"
            ],
            [
             0.1,
             "#c51b7d"
            ],
            [
             0.2,
             "#de77ae"
            ],
            [
             0.3,
             "#f1b6da"
            ],
            [
             0.4,
             "#fde0ef"
            ],
            [
             0.5,
             "#f7f7f7"
            ],
            [
             0.6,
             "#e6f5d0"
            ],
            [
             0.7,
             "#b8e186"
            ],
            [
             0.8,
             "#7fbc41"
            ],
            [
             0.9,
             "#4d9221"
            ],
            [
             1,
             "#276419"
            ]
           ],
           "sequential": [
            [
             0,
             "#0d0887"
            ],
            [
             0.1111111111111111,
             "#46039f"
            ],
            [
             0.2222222222222222,
             "#7201a8"
            ],
            [
             0.3333333333333333,
             "#9c179e"
            ],
            [
             0.4444444444444444,
             "#bd3786"
            ],
            [
             0.5555555555555556,
             "#d8576b"
            ],
            [
             0.6666666666666666,
             "#ed7953"
            ],
            [
             0.7777777777777778,
             "#fb9f3a"
            ],
            [
             0.8888888888888888,
             "#fdca26"
            ],
            [
             1,
             "#f0f921"
            ]
           ],
           "sequentialminus": [
            [
             0,
             "#0d0887"
            ],
            [
             0.1111111111111111,
             "#46039f"
            ],
            [
             0.2222222222222222,
             "#7201a8"
            ],
            [
             0.3333333333333333,
             "#9c179e"
            ],
            [
             0.4444444444444444,
             "#bd3786"
            ],
            [
             0.5555555555555556,
             "#d8576b"
            ],
            [
             0.6666666666666666,
             "#ed7953"
            ],
            [
             0.7777777777777778,
             "#fb9f3a"
            ],
            [
             0.8888888888888888,
             "#fdca26"
            ],
            [
             1,
             "#f0f921"
            ]
           ]
          },
          "colorway": [
           "#636efa",
           "#EF553B",
           "#00cc96",
           "#ab63fa",
           "#FFA15A",
           "#19d3f3",
           "#FF6692",
           "#B6E880",
           "#FF97FF",
           "#FECB52"
          ],
          "font": {
           "color": "#2a3f5f"
          },
          "geo": {
           "bgcolor": "white",
           "lakecolor": "white",
           "landcolor": "#E5ECF6",
           "showlakes": true,
           "showland": true,
           "subunitcolor": "white"
          },
          "hoverlabel": {
           "align": "left"
          },
          "hovermode": "closest",
          "mapbox": {
           "style": "light"
          },
          "paper_bgcolor": "white",
          "plot_bgcolor": "#E5ECF6",
          "polar": {
           "angularaxis": {
            "gridcolor": "white",
            "linecolor": "white",
            "ticks": ""
           },
           "bgcolor": "#E5ECF6",
           "radialaxis": {
            "gridcolor": "white",
            "linecolor": "white",
            "ticks": ""
           }
          },
          "scene": {
           "xaxis": {
            "backgroundcolor": "#E5ECF6",
            "gridcolor": "white",
            "gridwidth": 2,
            "linecolor": "white",
            "showbackground": true,
            "ticks": "",
            "zerolinecolor": "white"
           },
           "yaxis": {
            "backgroundcolor": "#E5ECF6",
            "gridcolor": "white",
            "gridwidth": 2,
            "linecolor": "white",
            "showbackground": true,
            "ticks": "",
            "zerolinecolor": "white"
           },
           "zaxis": {
            "backgroundcolor": "#E5ECF6",
            "gridcolor": "white",
            "gridwidth": 2,
            "linecolor": "white",
            "showbackground": true,
            "ticks": "",
            "zerolinecolor": "white"
           }
          },
          "shapedefaults": {
           "line": {
            "color": "#2a3f5f"
           }
          },
          "ternary": {
           "aaxis": {
            "gridcolor": "white",
            "linecolor": "white",
            "ticks": ""
           },
           "baxis": {
            "gridcolor": "white",
            "linecolor": "white",
            "ticks": ""
           },
           "bgcolor": "#E5ECF6",
           "caxis": {
            "gridcolor": "white",
            "linecolor": "white",
            "ticks": ""
           }
          },
          "title": {
           "x": 0.05
          },
          "xaxis": {
           "automargin": true,
           "gridcolor": "white",
           "linecolor": "white",
           "ticks": "",
           "title": {
            "standoff": 15
           },
           "zerolinecolor": "white",
           "zerolinewidth": 2
          },
          "yaxis": {
           "automargin": true,
           "gridcolor": "white",
           "linecolor": "white",
           "ticks": "",
           "title": {
            "standoff": 15
           },
           "zerolinecolor": "white",
           "zerolinewidth": 2
          }
         }
        },
        "title": {
         "text": "NY cases(raw values)"
        },
        "xaxis": {
         "anchor": "y",
         "domain": [
          0,
          1
         ],
         "title": {
          "text": "date"
         }
        },
        "yaxis": {
         "anchor": "x",
         "domain": [
          0,
          1
         ],
         "title": {
          "text": "new_cases"
         }
        }
       }
      },
      "text/html": [
       "<div>                            <div id=\"6f4901a5-5391-41ce-b9d5-ea037a56fc6c\" class=\"plotly-graph-div\" style=\"height:525px; width:100%;\"></div>            <script type=\"text/javascript\">                require([\"plotly\"], function(Plotly) {                    window.PLOTLYENV=window.PLOTLYENV || {};                                    if (document.getElementById(\"6f4901a5-5391-41ce-b9d5-ea037a56fc6c\")) {                    Plotly.newPlot(                        \"6f4901a5-5391-41ce-b9d5-ea037a56fc6c\",                        [{\"hovertemplate\":\"State=NY<br>date=%{x}<br>new_cases=%{y}<extra></extra>\",\"legendgroup\":\"NY\",\"line\":{\"color\":\"#636efa\",\"dash\":\"solid\"},\"marker\":{\"symbol\":\"circle\"},\"mode\":\"lines\",\"name\":\"NY\",\"orientation\":\"v\",\"showlegend\":true,\"x\":[\"2020-01-22T00:00:00\",\"2020-01-29T00:00:00\",\"2020-02-05T00:00:00\",\"2020-02-12T00:00:00\",\"2020-02-19T00:00:00\",\"2020-02-26T00:00:00\",\"2020-03-04T00:00:00\",\"2020-03-11T00:00:00\",\"2020-03-18T00:00:00\",\"2020-03-25T00:00:00\",\"2020-04-01T00:00:00\",\"2020-04-08T00:00:00\",\"2020-04-15T00:00:00\",\"2020-04-22T00:00:00\",\"2020-04-29T00:00:00\",\"2020-05-06T00:00:00\",\"2020-05-13T00:00:00\",\"2020-05-20T00:00:00\",\"2020-05-27T00:00:00\",\"2020-06-03T00:00:00\",\"2020-06-10T00:00:00\",\"2020-06-17T00:00:00\",\"2020-06-24T00:00:00\",\"2020-07-01T00:00:00\",\"2020-07-08T00:00:00\",\"2020-07-15T00:00:00\",\"2020-07-22T00:00:00\",\"2020-07-29T00:00:00\",\"2020-08-05T00:00:00\",\"2020-08-12T00:00:00\",\"2020-08-19T00:00:00\",\"2020-08-26T00:00:00\",\"2020-09-02T00:00:00\",\"2020-09-09T00:00:00\",\"2020-09-16T00:00:00\",\"2020-09-23T00:00:00\",\"2020-09-30T00:00:00\",\"2020-10-07T00:00:00\",\"2020-10-14T00:00:00\",\"2020-10-21T00:00:00\",\"2020-10-28T00:00:00\",\"2020-11-04T00:00:00\",\"2020-11-11T00:00:00\",\"2020-11-18T00:00:00\",\"2020-11-25T00:00:00\",\"2020-12-02T00:00:00\",\"2020-12-09T00:00:00\",\"2020-12-16T00:00:00\",\"2020-12-23T00:00:00\",\"2020-12-30T00:00:00\",\"2021-01-06T00:00:00\",\"2021-01-13T00:00:00\",\"2021-01-20T00:00:00\",\"2021-01-27T00:00:00\",\"2021-02-03T00:00:00\",\"2021-02-10T00:00:00\",\"2021-02-17T00:00:00\",\"2021-02-24T00:00:00\",\"2021-03-03T00:00:00\",\"2021-03-10T00:00:00\",\"2021-03-17T00:00:00\",\"2021-03-24T00:00:00\",\"2021-03-31T00:00:00\",\"2021-04-07T00:00:00\",\"2021-04-14T00:00:00\",\"2021-04-21T00:00:00\",\"2021-04-28T00:00:00\",\"2021-05-05T00:00:00\",\"2021-05-12T00:00:00\",\"2021-05-19T00:00:00\",\"2021-05-26T00:00:00\",\"2021-06-02T00:00:00\",\"2021-06-09T00:00:00\",\"2021-06-16T00:00:00\",\"2021-06-23T00:00:00\",\"2021-06-30T00:00:00\",\"2021-07-07T00:00:00\",\"2021-07-14T00:00:00\",\"2021-07-21T00:00:00\",\"2021-07-28T00:00:00\",\"2021-08-04T00:00:00\",\"2021-08-11T00:00:00\",\"2021-08-18T00:00:00\",\"2021-08-25T00:00:00\",\"2021-09-01T00:00:00\",\"2021-09-08T00:00:00\",\"2021-09-15T00:00:00\",\"2021-09-22T00:00:00\",\"2021-09-29T00:00:00\",\"2021-10-06T00:00:00\",\"2021-10-13T00:00:00\",\"2021-10-20T00:00:00\",\"2021-10-27T00:00:00\",\"2021-11-03T00:00:00\",\"2021-11-10T00:00:00\",\"2021-11-17T00:00:00\",\"2021-11-24T00:00:00\",\"2021-12-01T00:00:00\",\"2021-12-08T00:00:00\",\"2021-12-15T00:00:00\",\"2021-12-22T00:00:00\",\"2021-12-29T00:00:00\",\"2022-01-05T00:00:00\",\"2022-01-12T00:00:00\",\"2022-01-19T00:00:00\",\"2022-01-26T00:00:00\",\"2022-02-02T00:00:00\",\"2022-02-09T00:00:00\",\"2022-02-16T00:00:00\",\"2022-02-23T00:00:00\",\"2022-03-02T00:00:00\",\"2022-03-09T00:00:00\",\"2022-03-16T00:00:00\",\"2022-03-23T00:00:00\",\"2022-03-30T00:00:00\",\"2022-04-06T00:00:00\",\"2022-04-13T00:00:00\",\"2022-04-20T00:00:00\",\"2022-04-27T00:00:00\",\"2022-05-04T00:00:00\",\"2022-05-11T00:00:00\",\"2022-05-18T00:00:00\",\"2022-05-25T00:00:00\",\"2022-06-01T00:00:00\",\"2022-06-08T00:00:00\",\"2022-06-15T00:00:00\",\"2022-06-22T00:00:00\",\"2022-06-29T00:00:00\",\"2022-07-06T00:00:00\",\"2022-07-13T00:00:00\",\"2022-07-20T00:00:00\",\"2022-07-27T00:00:00\",\"2022-08-03T00:00:00\",\"2022-08-10T00:00:00\",\"2022-08-17T00:00:00\",\"2022-08-24T00:00:00\",\"2022-08-31T00:00:00\",\"2022-09-07T00:00:00\",\"2022-09-14T00:00:00\",\"2022-09-21T00:00:00\",\"2022-09-28T00:00:00\",\"2022-10-05T00:00:00\",\"2022-10-12T00:00:00\",\"2022-10-19T00:00:00\",\"2022-10-26T00:00:00\",\"2022-11-02T00:00:00\",\"2022-11-09T00:00:00\",\"2022-11-16T00:00:00\",\"2022-11-23T00:00:00\",\"2022-11-30T00:00:00\",\"2022-12-07T00:00:00\",\"2022-12-14T00:00:00\",\"2022-12-21T00:00:00\",\"2022-12-28T00:00:00\",\"2023-01-04T00:00:00\",\"2023-01-11T00:00:00\",\"2023-01-18T00:00:00\",\"2023-01-25T00:00:00\",\"2023-02-01T00:00:00\",\"2023-02-08T00:00:00\"],\"xaxis\":\"x\",\"y\":[0,0,0,0,0,0,14,743,6544,113464,299035,429501,461318,377763,303649,214170,136393,103209,81815,66665,50908,37030,32543,31859,32131,33220,35847,34060,32352,31584,31888,29771,31408,36220,34631,38109,41902,60547,68899,68752,79235,99578,138010,215449,253440,318000,438410,490455,511757,533329,632674,774177,742751,661989,574707,419068,425225,349308,350188,363988,328946,373225,380857,382808,351466,302569,222276,165191,121276,92141,66286,43812,28878,23554,17520,15677,18503,27630,43651,71136,115000,158802,201587,221393,220242,233228,238395,243608,236825,222470,238579,214823,185455,183440,196893,244807,327577,309143,430981,499149,833213,1533753,2789598,3858883,2626236,1334873,690106,366878,250430,155432,104138,90833,83817,94845,132683,163769,198526,302851,318009,337689,462305,478857,440944,374208,307844,264760,240563,243103,241172,349989,310533,361133,313763,286304,251561,226589,200974,182240,172639,211439,225322,174997,221176,195225,184808,189788,190394,191443,175807,190592,164933,259924,318973,128530,314223,266995,180199,198053,135802,0],\"yaxis\":\"y\",\"type\":\"scatter\"}],                        {\"template\":{\"data\":{\"histogram2dcontour\":[{\"type\":\"histogram2dcontour\",\"colorbar\":{\"outlinewidth\":0,\"ticks\":\"\"},\"colorscale\":[[0.0,\"#0d0887\"],[0.1111111111111111,\"#46039f\"],[0.2222222222222222,\"#7201a8\"],[0.3333333333333333,\"#9c179e\"],[0.4444444444444444,\"#bd3786\"],[0.5555555555555556,\"#d8576b\"],[0.6666666666666666,\"#ed7953\"],[0.7777777777777778,\"#fb9f3a\"],[0.8888888888888888,\"#fdca26\"],[1.0,\"#f0f921\"]]}],\"choropleth\":[{\"type\":\"choropleth\",\"colorbar\":{\"outlinewidth\":0,\"ticks\":\"\"}}],\"histogram2d\":[{\"type\":\"histogram2d\",\"colorbar\":{\"outlinewidth\":0,\"ticks\":\"\"},\"colorscale\":[[0.0,\"#0d0887\"],[0.1111111111111111,\"#46039f\"],[0.2222222222222222,\"#7201a8\"],[0.3333333333333333,\"#9c179e\"],[0.4444444444444444,\"#bd3786\"],[0.5555555555555556,\"#d8576b\"],[0.6666666666666666,\"#ed7953\"],[0.7777777777777778,\"#fb9f3a\"],[0.8888888888888888,\"#fdca26\"],[1.0,\"#f0f921\"]]}],\"heatmap\":[{\"type\":\"heatmap\",\"colorbar\":{\"outlinewidth\":0,\"ticks\":\"\"},\"colorscale\":[[0.0,\"#0d0887\"],[0.1111111111111111,\"#46039f\"],[0.2222222222222222,\"#7201a8\"],[0.3333333333333333,\"#9c179e\"],[0.4444444444444444,\"#bd3786\"],[0.5555555555555556,\"#d8576b\"],[0.6666666666666666,\"#ed7953\"],[0.7777777777777778,\"#fb9f3a\"],[0.8888888888888888,\"#fdca26\"],[1.0,\"#f0f921\"]]}],\"heatmapgl\":[{\"type\":\"heatmapgl\",\"colorbar\":{\"outlinewidth\":0,\"ticks\":\"\"},\"colorscale\":[[0.0,\"#0d0887\"],[0.1111111111111111,\"#46039f\"],[0.2222222222222222,\"#7201a8\"],[0.3333333333333333,\"#9c179e\"],[0.4444444444444444,\"#bd3786\"],[0.5555555555555556,\"#d8576b\"],[0.6666666666666666,\"#ed7953\"],[0.7777777777777778,\"#fb9f3a\"],[0.8888888888888888,\"#fdca26\"],[1.0,\"#f0f921\"]]}],\"contourcarpet\":[{\"type\":\"contourcarpet\",\"colorbar\":{\"outlinewidth\":0,\"ticks\":\"\"}}],\"contour\":[{\"type\":\"contour\",\"colorbar\":{\"outlinewidth\":0,\"ticks\":\"\"},\"colorscale\":[[0.0,\"#0d0887\"],[0.1111111111111111,\"#46039f\"],[0.2222222222222222,\"#7201a8\"],[0.3333333333333333,\"#9c179e\"],[0.4444444444444444,\"#bd3786\"],[0.5555555555555556,\"#d8576b\"],[0.6666666666666666,\"#ed7953\"],[0.7777777777777778,\"#fb9f3a\"],[0.8888888888888888,\"#fdca26\"],[1.0,\"#f0f921\"]]}],\"surface\":[{\"type\":\"surface\",\"colorbar\":{\"outlinewidth\":0,\"ticks\":\"\"},\"colorscale\":[[0.0,\"#0d0887\"],[0.1111111111111111,\"#46039f\"],[0.2222222222222222,\"#7201a8\"],[0.3333333333333333,\"#9c179e\"],[0.4444444444444444,\"#bd3786\"],[0.5555555555555556,\"#d8576b\"],[0.6666666666666666,\"#ed7953\"],[0.7777777777777778,\"#fb9f3a\"],[0.8888888888888888,\"#fdca26\"],[1.0,\"#f0f921\"]]}],\"mesh3d\":[{\"type\":\"mesh3d\",\"colorbar\":{\"outlinewidth\":0,\"ticks\":\"\"}}],\"scatter\":[{\"fillpattern\":{\"fillmode\":\"overlay\",\"size\":10,\"solidity\":0.2},\"type\":\"scatter\"}],\"parcoords\":[{\"type\":\"parcoords\",\"line\":{\"colorbar\":{\"outlinewidth\":0,\"ticks\":\"\"}}}],\"scatterpolargl\":[{\"type\":\"scatterpolargl\",\"marker\":{\"colorbar\":{\"outlinewidth\":0,\"ticks\":\"\"}}}],\"bar\":[{\"error_x\":{\"color\":\"#2a3f5f\"},\"error_y\":{\"color\":\"#2a3f5f\"},\"marker\":{\"line\":{\"color\":\"#E5ECF6\",\"width\":0.5},\"pattern\":{\"fillmode\":\"overlay\",\"size\":10,\"solidity\":0.2}},\"type\":\"bar\"}],\"scattergeo\":[{\"type\":\"scattergeo\",\"marker\":{\"colorbar\":{\"outlinewidth\":0,\"ticks\":\"\"}}}],\"scatterpolar\":[{\"type\":\"scatterpolar\",\"marker\":{\"colorbar\":{\"outlinewidth\":0,\"ticks\":\"\"}}}],\"histogram\":[{\"marker\":{\"pattern\":{\"fillmode\":\"overlay\",\"size\":10,\"solidity\":0.2}},\"type\":\"histogram\"}],\"scattergl\":[{\"type\":\"scattergl\",\"marker\":{\"colorbar\":{\"outlinewidth\":0,\"ticks\":\"\"}}}],\"scatter3d\":[{\"type\":\"scatter3d\",\"line\":{\"colorbar\":{\"outlinewidth\":0,\"ticks\":\"\"}},\"marker\":{\"colorbar\":{\"outlinewidth\":0,\"ticks\":\"\"}}}],\"scattermapbox\":[{\"type\":\"scattermapbox\",\"marker\":{\"colorbar\":{\"outlinewidth\":0,\"ticks\":\"\"}}}],\"scatterternary\":[{\"type\":\"scatterternary\",\"marker\":{\"colorbar\":{\"outlinewidth\":0,\"ticks\":\"\"}}}],\"scattercarpet\":[{\"type\":\"scattercarpet\",\"marker\":{\"colorbar\":{\"outlinewidth\":0,\"ticks\":\"\"}}}],\"carpet\":[{\"aaxis\":{\"endlinecolor\":\"#2a3f5f\",\"gridcolor\":\"white\",\"linecolor\":\"white\",\"minorgridcolor\":\"white\",\"startlinecolor\":\"#2a3f5f\"},\"baxis\":{\"endlinecolor\":\"#2a3f5f\",\"gridcolor\":\"white\",\"linecolor\":\"white\",\"minorgridcolor\":\"white\",\"startlinecolor\":\"#2a3f5f\"},\"type\":\"carpet\"}],\"table\":[{\"cells\":{\"fill\":{\"color\":\"#EBF0F8\"},\"line\":{\"color\":\"white\"}},\"header\":{\"fill\":{\"color\":\"#C8D4E3\"},\"line\":{\"color\":\"white\"}},\"type\":\"table\"}],\"barpolar\":[{\"marker\":{\"line\":{\"color\":\"#E5ECF6\",\"width\":0.5},\"pattern\":{\"fillmode\":\"overlay\",\"size\":10,\"solidity\":0.2}},\"type\":\"barpolar\"}],\"pie\":[{\"automargin\":true,\"type\":\"pie\"}]},\"layout\":{\"autotypenumbers\":\"strict\",\"colorway\":[\"#636efa\",\"#EF553B\",\"#00cc96\",\"#ab63fa\",\"#FFA15A\",\"#19d3f3\",\"#FF6692\",\"#B6E880\",\"#FF97FF\",\"#FECB52\"],\"font\":{\"color\":\"#2a3f5f\"},\"hovermode\":\"closest\",\"hoverlabel\":{\"align\":\"left\"},\"paper_bgcolor\":\"white\",\"plot_bgcolor\":\"#E5ECF6\",\"polar\":{\"bgcolor\":\"#E5ECF6\",\"angularaxis\":{\"gridcolor\":\"white\",\"linecolor\":\"white\",\"ticks\":\"\"},\"radialaxis\":{\"gridcolor\":\"white\",\"linecolor\":\"white\",\"ticks\":\"\"}},\"ternary\":{\"bgcolor\":\"#E5ECF6\",\"aaxis\":{\"gridcolor\":\"white\",\"linecolor\":\"white\",\"ticks\":\"\"},\"baxis\":{\"gridcolor\":\"white\",\"linecolor\":\"white\",\"ticks\":\"\"},\"caxis\":{\"gridcolor\":\"white\",\"linecolor\":\"white\",\"ticks\":\"\"}},\"coloraxis\":{\"colorbar\":{\"outlinewidth\":0,\"ticks\":\"\"}},\"colorscale\":{\"sequential\":[[0.0,\"#0d0887\"],[0.1111111111111111,\"#46039f\"],[0.2222222222222222,\"#7201a8\"],[0.3333333333333333,\"#9c179e\"],[0.4444444444444444,\"#bd3786\"],[0.5555555555555556,\"#d8576b\"],[0.6666666666666666,\"#ed7953\"],[0.7777777777777778,\"#fb9f3a\"],[0.8888888888888888,\"#fdca26\"],[1.0,\"#f0f921\"]],\"sequentialminus\":[[0.0,\"#0d0887\"],[0.1111111111111111,\"#46039f\"],[0.2222222222222222,\"#7201a8\"],[0.3333333333333333,\"#9c179e\"],[0.4444444444444444,\"#bd3786\"],[0.5555555555555556,\"#d8576b\"],[0.6666666666666666,\"#ed7953\"],[0.7777777777777778,\"#fb9f3a\"],[0.8888888888888888,\"#fdca26\"],[1.0,\"#f0f921\"]],\"diverging\":[[0,\"#8e0152\"],[0.1,\"#c51b7d\"],[0.2,\"#de77ae\"],[0.3,\"#f1b6da\"],[0.4,\"#fde0ef\"],[0.5,\"#f7f7f7\"],[0.6,\"#e6f5d0\"],[0.7,\"#b8e186\"],[0.8,\"#7fbc41\"],[0.9,\"#4d9221\"],[1,\"#276419\"]]},\"xaxis\":{\"gridcolor\":\"white\",\"linecolor\":\"white\",\"ticks\":\"\",\"title\":{\"standoff\":15},\"zerolinecolor\":\"white\",\"automargin\":true,\"zerolinewidth\":2},\"yaxis\":{\"gridcolor\":\"white\",\"linecolor\":\"white\",\"ticks\":\"\",\"title\":{\"standoff\":15},\"zerolinecolor\":\"white\",\"automargin\":true,\"zerolinewidth\":2},\"scene\":{\"xaxis\":{\"backgroundcolor\":\"#E5ECF6\",\"gridcolor\":\"white\",\"linecolor\":\"white\",\"showbackground\":true,\"ticks\":\"\",\"zerolinecolor\":\"white\",\"gridwidth\":2},\"yaxis\":{\"backgroundcolor\":\"#E5ECF6\",\"gridcolor\":\"white\",\"linecolor\":\"white\",\"showbackground\":true,\"ticks\":\"\",\"zerolinecolor\":\"white\",\"gridwidth\":2},\"zaxis\":{\"backgroundcolor\":\"#E5ECF6\",\"gridcolor\":\"white\",\"linecolor\":\"white\",\"showbackground\":true,\"ticks\":\"\",\"zerolinecolor\":\"white\",\"gridwidth\":2}},\"shapedefaults\":{\"line\":{\"color\":\"#2a3f5f\"}},\"annotationdefaults\":{\"arrowcolor\":\"#2a3f5f\",\"arrowhead\":0,\"arrowwidth\":1},\"geo\":{\"bgcolor\":\"white\",\"landcolor\":\"#E5ECF6\",\"subunitcolor\":\"white\",\"showland\":true,\"showlakes\":true,\"lakecolor\":\"white\"},\"title\":{\"x\":0.05},\"mapbox\":{\"style\":\"light\"}}},\"xaxis\":{\"anchor\":\"y\",\"domain\":[0.0,1.0],\"title\":{\"text\":\"date\"}},\"yaxis\":{\"anchor\":\"x\",\"domain\":[0.0,1.0],\"title\":{\"text\":\"new_cases\"}},\"legend\":{\"title\":{\"text\":\"State\"},\"tracegroupgap\":0},\"title\":{\"text\":\"NY cases(raw values)\"}},                        {\"responsive\": true}                    ).then(function(){\n",
       "                            \n",
       "var gd = document.getElementById('6f4901a5-5391-41ce-b9d5-ea037a56fc6c');\n",
       "var x = new MutationObserver(function (mutations, observer) {{\n",
       "        var display = window.getComputedStyle(gd).display;\n",
       "        if (!display || display === 'none') {{\n",
       "            console.log([gd, 'removed!']);\n",
       "            Plotly.purge(gd);\n",
       "            observer.disconnect();\n",
       "        }}\n",
       "}});\n",
       "\n",
       "// Listen for the removal of the full notebook cells\n",
       "var notebookContainer = gd.closest('#notebook-container');\n",
       "if (notebookContainer) {{\n",
       "    x.observe(notebookContainer, {childList: true});\n",
       "}}\n",
       "\n",
       "// Listen for the clearing of the current output cell\n",
       "var outputEl = gd.closest('.output');\n",
       "if (outputEl) {{\n",
       "    x.observe(outputEl, {childList: true});\n",
       "}}\n",
       "\n",
       "                        })                };                });            </script>        </div>"
      ]
     },
     "metadata": {},
     "output_type": "display_data"
    }
   ],
   "source": [
    "cases_raw_values_NY = px.line(NY_weekly_pattern, x = 'date', y = 'new_cases', color='State', title=\"NY cases(raw values)\")\n",
    "cases_raw_values_NY.show()"
   ]
  },
  {
   "cell_type": "code",
   "execution_count": 1409,
   "id": "1f020bf7",
   "metadata": {},
   "outputs": [
    {
     "data": {
      "application/vnd.plotly.v1+json": {
       "config": {
        "plotlyServerURL": "https://plot.ly"
       },
       "data": [
        {
         "hovertemplate": "State=NY<br>date=%{x}<br>new_deaths=%{y}<extra></extra>",
         "legendgroup": "NY",
         "line": {
          "color": "#636efa",
          "dash": "solid"
         },
         "marker": {
          "symbol": "circle"
         },
         "mode": "lines",
         "name": "NY",
         "orientation": "v",
         "showlegend": true,
         "type": "scatter",
         "x": [
          "2020-01-22T00:00:00",
          "2020-01-29T00:00:00",
          "2020-02-05T00:00:00",
          "2020-02-12T00:00:00",
          "2020-02-19T00:00:00",
          "2020-02-26T00:00:00",
          "2020-03-04T00:00:00",
          "2020-03-11T00:00:00",
          "2020-03-18T00:00:00",
          "2020-03-25T00:00:00",
          "2020-04-01T00:00:00",
          "2020-04-08T00:00:00",
          "2020-04-15T00:00:00",
          "2020-04-22T00:00:00",
          "2020-04-29T00:00:00",
          "2020-05-06T00:00:00",
          "2020-05-13T00:00:00",
          "2020-05-20T00:00:00",
          "2020-05-27T00:00:00",
          "2020-06-03T00:00:00",
          "2020-06-10T00:00:00",
          "2020-06-17T00:00:00",
          "2020-06-24T00:00:00",
          "2020-07-01T00:00:00",
          "2020-07-08T00:00:00",
          "2020-07-15T00:00:00",
          "2020-07-22T00:00:00",
          "2020-07-29T00:00:00",
          "2020-08-05T00:00:00",
          "2020-08-12T00:00:00",
          "2020-08-19T00:00:00",
          "2020-08-26T00:00:00",
          "2020-09-02T00:00:00",
          "2020-09-09T00:00:00",
          "2020-09-16T00:00:00",
          "2020-09-23T00:00:00",
          "2020-09-30T00:00:00",
          "2020-10-07T00:00:00",
          "2020-10-14T00:00:00",
          "2020-10-21T00:00:00",
          "2020-10-28T00:00:00",
          "2020-11-04T00:00:00",
          "2020-11-11T00:00:00",
          "2020-11-18T00:00:00",
          "2020-11-25T00:00:00",
          "2020-12-02T00:00:00",
          "2020-12-09T00:00:00",
          "2020-12-16T00:00:00",
          "2020-12-23T00:00:00",
          "2020-12-30T00:00:00",
          "2021-01-06T00:00:00",
          "2021-01-13T00:00:00",
          "2021-01-20T00:00:00",
          "2021-01-27T00:00:00",
          "2021-02-03T00:00:00",
          "2021-02-10T00:00:00",
          "2021-02-17T00:00:00",
          "2021-02-24T00:00:00",
          "2021-03-03T00:00:00",
          "2021-03-10T00:00:00",
          "2021-03-17T00:00:00",
          "2021-03-24T00:00:00",
          "2021-03-31T00:00:00",
          "2021-04-07T00:00:00",
          "2021-04-14T00:00:00",
          "2021-04-21T00:00:00",
          "2021-04-28T00:00:00",
          "2021-05-05T00:00:00",
          "2021-05-12T00:00:00",
          "2021-05-19T00:00:00",
          "2021-05-26T00:00:00",
          "2021-06-02T00:00:00",
          "2021-06-09T00:00:00",
          "2021-06-16T00:00:00",
          "2021-06-23T00:00:00",
          "2021-06-30T00:00:00",
          "2021-07-07T00:00:00",
          "2021-07-14T00:00:00",
          "2021-07-21T00:00:00",
          "2021-07-28T00:00:00",
          "2021-08-04T00:00:00",
          "2021-08-11T00:00:00",
          "2021-08-18T00:00:00",
          "2021-08-25T00:00:00",
          "2021-09-01T00:00:00",
          "2021-09-08T00:00:00",
          "2021-09-15T00:00:00",
          "2021-09-22T00:00:00",
          "2021-09-29T00:00:00",
          "2021-10-06T00:00:00",
          "2021-10-13T00:00:00",
          "2021-10-20T00:00:00",
          "2021-10-27T00:00:00",
          "2021-11-03T00:00:00",
          "2021-11-10T00:00:00",
          "2021-11-17T00:00:00",
          "2021-11-24T00:00:00",
          "2021-12-01T00:00:00",
          "2021-12-08T00:00:00",
          "2021-12-15T00:00:00",
          "2021-12-22T00:00:00",
          "2021-12-29T00:00:00",
          "2022-01-05T00:00:00",
          "2022-01-12T00:00:00",
          "2022-01-19T00:00:00",
          "2022-01-26T00:00:00",
          "2022-02-02T00:00:00",
          "2022-02-09T00:00:00",
          "2022-02-16T00:00:00",
          "2022-02-23T00:00:00",
          "2022-03-02T00:00:00",
          "2022-03-09T00:00:00",
          "2022-03-16T00:00:00",
          "2022-03-23T00:00:00",
          "2022-03-30T00:00:00",
          "2022-04-06T00:00:00",
          "2022-04-13T00:00:00",
          "2022-04-20T00:00:00",
          "2022-04-27T00:00:00",
          "2022-05-04T00:00:00",
          "2022-05-11T00:00:00",
          "2022-05-18T00:00:00",
          "2022-05-25T00:00:00",
          "2022-06-01T00:00:00",
          "2022-06-08T00:00:00",
          "2022-06-15T00:00:00",
          "2022-06-22T00:00:00",
          "2022-06-29T00:00:00",
          "2022-07-06T00:00:00",
          "2022-07-13T00:00:00",
          "2022-07-20T00:00:00",
          "2022-07-27T00:00:00",
          "2022-08-03T00:00:00",
          "2022-08-10T00:00:00",
          "2022-08-17T00:00:00",
          "2022-08-24T00:00:00",
          "2022-08-31T00:00:00",
          "2022-09-07T00:00:00",
          "2022-09-14T00:00:00",
          "2022-09-21T00:00:00",
          "2022-09-28T00:00:00",
          "2022-10-05T00:00:00",
          "2022-10-12T00:00:00",
          "2022-10-19T00:00:00",
          "2022-10-26T00:00:00",
          "2022-11-02T00:00:00",
          "2022-11-09T00:00:00",
          "2022-11-16T00:00:00",
          "2022-11-23T00:00:00",
          "2022-11-30T00:00:00",
          "2022-12-07T00:00:00",
          "2022-12-14T00:00:00",
          "2022-12-21T00:00:00",
          "2022-12-28T00:00:00",
          "2023-01-04T00:00:00",
          "2023-01-11T00:00:00",
          "2023-01-18T00:00:00",
          "2023-01-25T00:00:00",
          "2023-02-01T00:00:00",
          "2023-02-08T00:00:00"
         ],
         "xaxis": "x",
         "y": [
          0,
          0,
          0,
          0,
          0,
          0,
          0,
          0,
          27,
          789,
          5942,
          20181,
          40026,
          41886,
          31910,
          20778,
          19661,
          11535,
          7592,
          5039,
          4126,
          3150,
          2398,
          2974,
          4181,
          1131,
          972,
          866,
          642,
          437,
          489,
          439,
          399,
          377,
          326,
          366,
          301,
          560,
          556,
          596,
          631,
          769,
          972,
          1417,
          1751,
          2332,
          3128,
          4377,
          4943,
          6163,
          8082,
          8739,
          9355,
          9190,
          8867,
          8259,
          7492,
          6398,
          5644,
          3477,
          5432,
          4510,
          2217,
          1915,
          5773,
          3633,
          2875,
          2791,
          2355,
          1970,
          1408,
          1066,
          958,
          710,
          464,
          293,
          307,
          255,
          245,
          295,
          294,
          455,
          816,
          946,
          1246,
          1359,
          1681,
          1697,
          1837,
          2040,
          1602,
          2120,
          1466,
          1568,
          2043,
          1672,
          1589,
          1513,
          2464,
          2628,
          2900,
          3132,
          4200,
          6102,
          9109,
          10059,
          9253,
          7526,
          4337,
          4314,
          2379,
          1599,
          945,
          973,
          401,
          651,
          466,
          523,
          714,
          775,
          880,
          1097,
          1141,
          1111,
          1201,
          1045,
          960,
          978,
          825,
          801,
          882,
          1194,
          1236,
          1436,
          1224,
          1123,
          1139,
          1123,
          1036,
          1199,
          990,
          1331,
          1040,
          1402,
          2976,
          3452,
          954,
          0,
          2267,
          1463,
          1284,
          1419,
          1881,
          1500,
          2310,
          2119,
          2256,
          1518,
          1819,
          0
         ],
         "yaxis": "y"
        }
       ],
       "layout": {
        "legend": {
         "title": {
          "text": "State"
         },
         "tracegroupgap": 0
        },
        "template": {
         "data": {
          "bar": [
           {
            "error_x": {
             "color": "#2a3f5f"
            },
            "error_y": {
             "color": "#2a3f5f"
            },
            "marker": {
             "line": {
              "color": "#E5ECF6",
              "width": 0.5
             },
             "pattern": {
              "fillmode": "overlay",
              "size": 10,
              "solidity": 0.2
             }
            },
            "type": "bar"
           }
          ],
          "barpolar": [
           {
            "marker": {
             "line": {
              "color": "#E5ECF6",
              "width": 0.5
             },
             "pattern": {
              "fillmode": "overlay",
              "size": 10,
              "solidity": 0.2
             }
            },
            "type": "barpolar"
           }
          ],
          "carpet": [
           {
            "aaxis": {
             "endlinecolor": "#2a3f5f",
             "gridcolor": "white",
             "linecolor": "white",
             "minorgridcolor": "white",
             "startlinecolor": "#2a3f5f"
            },
            "baxis": {
             "endlinecolor": "#2a3f5f",
             "gridcolor": "white",
             "linecolor": "white",
             "minorgridcolor": "white",
             "startlinecolor": "#2a3f5f"
            },
            "type": "carpet"
           }
          ],
          "choropleth": [
           {
            "colorbar": {
             "outlinewidth": 0,
             "ticks": ""
            },
            "type": "choropleth"
           }
          ],
          "contour": [
           {
            "colorbar": {
             "outlinewidth": 0,
             "ticks": ""
            },
            "colorscale": [
             [
              0,
              "#0d0887"
             ],
             [
              0.1111111111111111,
              "#46039f"
             ],
             [
              0.2222222222222222,
              "#7201a8"
             ],
             [
              0.3333333333333333,
              "#9c179e"
             ],
             [
              0.4444444444444444,
              "#bd3786"
             ],
             [
              0.5555555555555556,
              "#d8576b"
             ],
             [
              0.6666666666666666,
              "#ed7953"
             ],
             [
              0.7777777777777778,
              "#fb9f3a"
             ],
             [
              0.8888888888888888,
              "#fdca26"
             ],
             [
              1,
              "#f0f921"
             ]
            ],
            "type": "contour"
           }
          ],
          "contourcarpet": [
           {
            "colorbar": {
             "outlinewidth": 0,
             "ticks": ""
            },
            "type": "contourcarpet"
           }
          ],
          "heatmap": [
           {
            "colorbar": {
             "outlinewidth": 0,
             "ticks": ""
            },
            "colorscale": [
             [
              0,
              "#0d0887"
             ],
             [
              0.1111111111111111,
              "#46039f"
             ],
             [
              0.2222222222222222,
              "#7201a8"
             ],
             [
              0.3333333333333333,
              "#9c179e"
             ],
             [
              0.4444444444444444,
              "#bd3786"
             ],
             [
              0.5555555555555556,
              "#d8576b"
             ],
             [
              0.6666666666666666,
              "#ed7953"
             ],
             [
              0.7777777777777778,
              "#fb9f3a"
             ],
             [
              0.8888888888888888,
              "#fdca26"
             ],
             [
              1,
              "#f0f921"
             ]
            ],
            "type": "heatmap"
           }
          ],
          "heatmapgl": [
           {
            "colorbar": {
             "outlinewidth": 0,
             "ticks": ""
            },
            "colorscale": [
             [
              0,
              "#0d0887"
             ],
             [
              0.1111111111111111,
              "#46039f"
             ],
             [
              0.2222222222222222,
              "#7201a8"
             ],
             [
              0.3333333333333333,
              "#9c179e"
             ],
             [
              0.4444444444444444,
              "#bd3786"
             ],
             [
              0.5555555555555556,
              "#d8576b"
             ],
             [
              0.6666666666666666,
              "#ed7953"
             ],
             [
              0.7777777777777778,
              "#fb9f3a"
             ],
             [
              0.8888888888888888,
              "#fdca26"
             ],
             [
              1,
              "#f0f921"
             ]
            ],
            "type": "heatmapgl"
           }
          ],
          "histogram": [
           {
            "marker": {
             "pattern": {
              "fillmode": "overlay",
              "size": 10,
              "solidity": 0.2
             }
            },
            "type": "histogram"
           }
          ],
          "histogram2d": [
           {
            "colorbar": {
             "outlinewidth": 0,
             "ticks": ""
            },
            "colorscale": [
             [
              0,
              "#0d0887"
             ],
             [
              0.1111111111111111,
              "#46039f"
             ],
             [
              0.2222222222222222,
              "#7201a8"
             ],
             [
              0.3333333333333333,
              "#9c179e"
             ],
             [
              0.4444444444444444,
              "#bd3786"
             ],
             [
              0.5555555555555556,
              "#d8576b"
             ],
             [
              0.6666666666666666,
              "#ed7953"
             ],
             [
              0.7777777777777778,
              "#fb9f3a"
             ],
             [
              0.8888888888888888,
              "#fdca26"
             ],
             [
              1,
              "#f0f921"
             ]
            ],
            "type": "histogram2d"
           }
          ],
          "histogram2dcontour": [
           {
            "colorbar": {
             "outlinewidth": 0,
             "ticks": ""
            },
            "colorscale": [
             [
              0,
              "#0d0887"
             ],
             [
              0.1111111111111111,
              "#46039f"
             ],
             [
              0.2222222222222222,
              "#7201a8"
             ],
             [
              0.3333333333333333,
              "#9c179e"
             ],
             [
              0.4444444444444444,
              "#bd3786"
             ],
             [
              0.5555555555555556,
              "#d8576b"
             ],
             [
              0.6666666666666666,
              "#ed7953"
             ],
             [
              0.7777777777777778,
              "#fb9f3a"
             ],
             [
              0.8888888888888888,
              "#fdca26"
             ],
             [
              1,
              "#f0f921"
             ]
            ],
            "type": "histogram2dcontour"
           }
          ],
          "mesh3d": [
           {
            "colorbar": {
             "outlinewidth": 0,
             "ticks": ""
            },
            "type": "mesh3d"
           }
          ],
          "parcoords": [
           {
            "line": {
             "colorbar": {
              "outlinewidth": 0,
              "ticks": ""
             }
            },
            "type": "parcoords"
           }
          ],
          "pie": [
           {
            "automargin": true,
            "type": "pie"
           }
          ],
          "scatter": [
           {
            "fillpattern": {
             "fillmode": "overlay",
             "size": 10,
             "solidity": 0.2
            },
            "type": "scatter"
           }
          ],
          "scatter3d": [
           {
            "line": {
             "colorbar": {
              "outlinewidth": 0,
              "ticks": ""
             }
            },
            "marker": {
             "colorbar": {
              "outlinewidth": 0,
              "ticks": ""
             }
            },
            "type": "scatter3d"
           }
          ],
          "scattercarpet": [
           {
            "marker": {
             "colorbar": {
              "outlinewidth": 0,
              "ticks": ""
             }
            },
            "type": "scattercarpet"
           }
          ],
          "scattergeo": [
           {
            "marker": {
             "colorbar": {
              "outlinewidth": 0,
              "ticks": ""
             }
            },
            "type": "scattergeo"
           }
          ],
          "scattergl": [
           {
            "marker": {
             "colorbar": {
              "outlinewidth": 0,
              "ticks": ""
             }
            },
            "type": "scattergl"
           }
          ],
          "scattermapbox": [
           {
            "marker": {
             "colorbar": {
              "outlinewidth": 0,
              "ticks": ""
             }
            },
            "type": "scattermapbox"
           }
          ],
          "scatterpolar": [
           {
            "marker": {
             "colorbar": {
              "outlinewidth": 0,
              "ticks": ""
             }
            },
            "type": "scatterpolar"
           }
          ],
          "scatterpolargl": [
           {
            "marker": {
             "colorbar": {
              "outlinewidth": 0,
              "ticks": ""
             }
            },
            "type": "scatterpolargl"
           }
          ],
          "scatterternary": [
           {
            "marker": {
             "colorbar": {
              "outlinewidth": 0,
              "ticks": ""
             }
            },
            "type": "scatterternary"
           }
          ],
          "surface": [
           {
            "colorbar": {
             "outlinewidth": 0,
             "ticks": ""
            },
            "colorscale": [
             [
              0,
              "#0d0887"
             ],
             [
              0.1111111111111111,
              "#46039f"
             ],
             [
              0.2222222222222222,
              "#7201a8"
             ],
             [
              0.3333333333333333,
              "#9c179e"
             ],
             [
              0.4444444444444444,
              "#bd3786"
             ],
             [
              0.5555555555555556,
              "#d8576b"
             ],
             [
              0.6666666666666666,
              "#ed7953"
             ],
             [
              0.7777777777777778,
              "#fb9f3a"
             ],
             [
              0.8888888888888888,
              "#fdca26"
             ],
             [
              1,
              "#f0f921"
             ]
            ],
            "type": "surface"
           }
          ],
          "table": [
           {
            "cells": {
             "fill": {
              "color": "#EBF0F8"
             },
             "line": {
              "color": "white"
             }
            },
            "header": {
             "fill": {
              "color": "#C8D4E3"
             },
             "line": {
              "color": "white"
             }
            },
            "type": "table"
           }
          ]
         },
         "layout": {
          "annotationdefaults": {
           "arrowcolor": "#2a3f5f",
           "arrowhead": 0,
           "arrowwidth": 1
          },
          "autotypenumbers": "strict",
          "coloraxis": {
           "colorbar": {
            "outlinewidth": 0,
            "ticks": ""
           }
          },
          "colorscale": {
           "diverging": [
            [
             0,
             "#8e0152"
            ],
            [
             0.1,
             "#c51b7d"
            ],
            [
             0.2,
             "#de77ae"
            ],
            [
             0.3,
             "#f1b6da"
            ],
            [
             0.4,
             "#fde0ef"
            ],
            [
             0.5,
             "#f7f7f7"
            ],
            [
             0.6,
             "#e6f5d0"
            ],
            [
             0.7,
             "#b8e186"
            ],
            [
             0.8,
             "#7fbc41"
            ],
            [
             0.9,
             "#4d9221"
            ],
            [
             1,
             "#276419"
            ]
           ],
           "sequential": [
            [
             0,
             "#0d0887"
            ],
            [
             0.1111111111111111,
             "#46039f"
            ],
            [
             0.2222222222222222,
             "#7201a8"
            ],
            [
             0.3333333333333333,
             "#9c179e"
            ],
            [
             0.4444444444444444,
             "#bd3786"
            ],
            [
             0.5555555555555556,
             "#d8576b"
            ],
            [
             0.6666666666666666,
             "#ed7953"
            ],
            [
             0.7777777777777778,
             "#fb9f3a"
            ],
            [
             0.8888888888888888,
             "#fdca26"
            ],
            [
             1,
             "#f0f921"
            ]
           ],
           "sequentialminus": [
            [
             0,
             "#0d0887"
            ],
            [
             0.1111111111111111,
             "#46039f"
            ],
            [
             0.2222222222222222,
             "#7201a8"
            ],
            [
             0.3333333333333333,
             "#9c179e"
            ],
            [
             0.4444444444444444,
             "#bd3786"
            ],
            [
             0.5555555555555556,
             "#d8576b"
            ],
            [
             0.6666666666666666,
             "#ed7953"
            ],
            [
             0.7777777777777778,
             "#fb9f3a"
            ],
            [
             0.8888888888888888,
             "#fdca26"
            ],
            [
             1,
             "#f0f921"
            ]
           ]
          },
          "colorway": [
           "#636efa",
           "#EF553B",
           "#00cc96",
           "#ab63fa",
           "#FFA15A",
           "#19d3f3",
           "#FF6692",
           "#B6E880",
           "#FF97FF",
           "#FECB52"
          ],
          "font": {
           "color": "#2a3f5f"
          },
          "geo": {
           "bgcolor": "white",
           "lakecolor": "white",
           "landcolor": "#E5ECF6",
           "showlakes": true,
           "showland": true,
           "subunitcolor": "white"
          },
          "hoverlabel": {
           "align": "left"
          },
          "hovermode": "closest",
          "mapbox": {
           "style": "light"
          },
          "paper_bgcolor": "white",
          "plot_bgcolor": "#E5ECF6",
          "polar": {
           "angularaxis": {
            "gridcolor": "white",
            "linecolor": "white",
            "ticks": ""
           },
           "bgcolor": "#E5ECF6",
           "radialaxis": {
            "gridcolor": "white",
            "linecolor": "white",
            "ticks": ""
           }
          },
          "scene": {
           "xaxis": {
            "backgroundcolor": "#E5ECF6",
            "gridcolor": "white",
            "gridwidth": 2,
            "linecolor": "white",
            "showbackground": true,
            "ticks": "",
            "zerolinecolor": "white"
           },
           "yaxis": {
            "backgroundcolor": "#E5ECF6",
            "gridcolor": "white",
            "gridwidth": 2,
            "linecolor": "white",
            "showbackground": true,
            "ticks": "",
            "zerolinecolor": "white"
           },
           "zaxis": {
            "backgroundcolor": "#E5ECF6",
            "gridcolor": "white",
            "gridwidth": 2,
            "linecolor": "white",
            "showbackground": true,
            "ticks": "",
            "zerolinecolor": "white"
           }
          },
          "shapedefaults": {
           "line": {
            "color": "#2a3f5f"
           }
          },
          "ternary": {
           "aaxis": {
            "gridcolor": "white",
            "linecolor": "white",
            "ticks": ""
           },
           "baxis": {
            "gridcolor": "white",
            "linecolor": "white",
            "ticks": ""
           },
           "bgcolor": "#E5ECF6",
           "caxis": {
            "gridcolor": "white",
            "linecolor": "white",
            "ticks": ""
           }
          },
          "title": {
           "x": 0.05
          },
          "xaxis": {
           "automargin": true,
           "gridcolor": "white",
           "linecolor": "white",
           "ticks": "",
           "title": {
            "standoff": 15
           },
           "zerolinecolor": "white",
           "zerolinewidth": 2
          },
          "yaxis": {
           "automargin": true,
           "gridcolor": "white",
           "linecolor": "white",
           "ticks": "",
           "title": {
            "standoff": 15
           },
           "zerolinecolor": "white",
           "zerolinewidth": 2
          }
         }
        },
        "title": {
         "text": "NY deaths(raw values)"
        },
        "xaxis": {
         "anchor": "y",
         "domain": [
          0,
          1
         ],
         "title": {
          "text": "date"
         }
        },
        "yaxis": {
         "anchor": "x",
         "domain": [
          0,
          1
         ],
         "title": {
          "text": "new_deaths"
         }
        }
       }
      },
      "text/html": [
       "<div>                            <div id=\"912a4871-2e58-4d5b-ba20-5fdd1b180d97\" class=\"plotly-graph-div\" style=\"height:525px; width:100%;\"></div>            <script type=\"text/javascript\">                require([\"plotly\"], function(Plotly) {                    window.PLOTLYENV=window.PLOTLYENV || {};                                    if (document.getElementById(\"912a4871-2e58-4d5b-ba20-5fdd1b180d97\")) {                    Plotly.newPlot(                        \"912a4871-2e58-4d5b-ba20-5fdd1b180d97\",                        [{\"hovertemplate\":\"State=NY<br>date=%{x}<br>new_deaths=%{y}<extra></extra>\",\"legendgroup\":\"NY\",\"line\":{\"color\":\"#636efa\",\"dash\":\"solid\"},\"marker\":{\"symbol\":\"circle\"},\"mode\":\"lines\",\"name\":\"NY\",\"orientation\":\"v\",\"showlegend\":true,\"x\":[\"2020-01-22T00:00:00\",\"2020-01-29T00:00:00\",\"2020-02-05T00:00:00\",\"2020-02-12T00:00:00\",\"2020-02-19T00:00:00\",\"2020-02-26T00:00:00\",\"2020-03-04T00:00:00\",\"2020-03-11T00:00:00\",\"2020-03-18T00:00:00\",\"2020-03-25T00:00:00\",\"2020-04-01T00:00:00\",\"2020-04-08T00:00:00\",\"2020-04-15T00:00:00\",\"2020-04-22T00:00:00\",\"2020-04-29T00:00:00\",\"2020-05-06T00:00:00\",\"2020-05-13T00:00:00\",\"2020-05-20T00:00:00\",\"2020-05-27T00:00:00\",\"2020-06-03T00:00:00\",\"2020-06-10T00:00:00\",\"2020-06-17T00:00:00\",\"2020-06-24T00:00:00\",\"2020-07-01T00:00:00\",\"2020-07-08T00:00:00\",\"2020-07-15T00:00:00\",\"2020-07-22T00:00:00\",\"2020-07-29T00:00:00\",\"2020-08-05T00:00:00\",\"2020-08-12T00:00:00\",\"2020-08-19T00:00:00\",\"2020-08-26T00:00:00\",\"2020-09-02T00:00:00\",\"2020-09-09T00:00:00\",\"2020-09-16T00:00:00\",\"2020-09-23T00:00:00\",\"2020-09-30T00:00:00\",\"2020-10-07T00:00:00\",\"2020-10-14T00:00:00\",\"2020-10-21T00:00:00\",\"2020-10-28T00:00:00\",\"2020-11-04T00:00:00\",\"2020-11-11T00:00:00\",\"2020-11-18T00:00:00\",\"2020-11-25T00:00:00\",\"2020-12-02T00:00:00\",\"2020-12-09T00:00:00\",\"2020-12-16T00:00:00\",\"2020-12-23T00:00:00\",\"2020-12-30T00:00:00\",\"2021-01-06T00:00:00\",\"2021-01-13T00:00:00\",\"2021-01-20T00:00:00\",\"2021-01-27T00:00:00\",\"2021-02-03T00:00:00\",\"2021-02-10T00:00:00\",\"2021-02-17T00:00:00\",\"2021-02-24T00:00:00\",\"2021-03-03T00:00:00\",\"2021-03-10T00:00:00\",\"2021-03-17T00:00:00\",\"2021-03-24T00:00:00\",\"2021-03-31T00:00:00\",\"2021-04-07T00:00:00\",\"2021-04-14T00:00:00\",\"2021-04-21T00:00:00\",\"2021-04-28T00:00:00\",\"2021-05-05T00:00:00\",\"2021-05-12T00:00:00\",\"2021-05-19T00:00:00\",\"2021-05-26T00:00:00\",\"2021-06-02T00:00:00\",\"2021-06-09T00:00:00\",\"2021-06-16T00:00:00\",\"2021-06-23T00:00:00\",\"2021-06-30T00:00:00\",\"2021-07-07T00:00:00\",\"2021-07-14T00:00:00\",\"2021-07-21T00:00:00\",\"2021-07-28T00:00:00\",\"2021-08-04T00:00:00\",\"2021-08-11T00:00:00\",\"2021-08-18T00:00:00\",\"2021-08-25T00:00:00\",\"2021-09-01T00:00:00\",\"2021-09-08T00:00:00\",\"2021-09-15T00:00:00\",\"2021-09-22T00:00:00\",\"2021-09-29T00:00:00\",\"2021-10-06T00:00:00\",\"2021-10-13T00:00:00\",\"2021-10-20T00:00:00\",\"2021-10-27T00:00:00\",\"2021-11-03T00:00:00\",\"2021-11-10T00:00:00\",\"2021-11-17T00:00:00\",\"2021-11-24T00:00:00\",\"2021-12-01T00:00:00\",\"2021-12-08T00:00:00\",\"2021-12-15T00:00:00\",\"2021-12-22T00:00:00\",\"2021-12-29T00:00:00\",\"2022-01-05T00:00:00\",\"2022-01-12T00:00:00\",\"2022-01-19T00:00:00\",\"2022-01-26T00:00:00\",\"2022-02-02T00:00:00\",\"2022-02-09T00:00:00\",\"2022-02-16T00:00:00\",\"2022-02-23T00:00:00\",\"2022-03-02T00:00:00\",\"2022-03-09T00:00:00\",\"2022-03-16T00:00:00\",\"2022-03-23T00:00:00\",\"2022-03-30T00:00:00\",\"2022-04-06T00:00:00\",\"2022-04-13T00:00:00\",\"2022-04-20T00:00:00\",\"2022-04-27T00:00:00\",\"2022-05-04T00:00:00\",\"2022-05-11T00:00:00\",\"2022-05-18T00:00:00\",\"2022-05-25T00:00:00\",\"2022-06-01T00:00:00\",\"2022-06-08T00:00:00\",\"2022-06-15T00:00:00\",\"2022-06-22T00:00:00\",\"2022-06-29T00:00:00\",\"2022-07-06T00:00:00\",\"2022-07-13T00:00:00\",\"2022-07-20T00:00:00\",\"2022-07-27T00:00:00\",\"2022-08-03T00:00:00\",\"2022-08-10T00:00:00\",\"2022-08-17T00:00:00\",\"2022-08-24T00:00:00\",\"2022-08-31T00:00:00\",\"2022-09-07T00:00:00\",\"2022-09-14T00:00:00\",\"2022-09-21T00:00:00\",\"2022-09-28T00:00:00\",\"2022-10-05T00:00:00\",\"2022-10-12T00:00:00\",\"2022-10-19T00:00:00\",\"2022-10-26T00:00:00\",\"2022-11-02T00:00:00\",\"2022-11-09T00:00:00\",\"2022-11-16T00:00:00\",\"2022-11-23T00:00:00\",\"2022-11-30T00:00:00\",\"2022-12-07T00:00:00\",\"2022-12-14T00:00:00\",\"2022-12-21T00:00:00\",\"2022-12-28T00:00:00\",\"2023-01-04T00:00:00\",\"2023-01-11T00:00:00\",\"2023-01-18T00:00:00\",\"2023-01-25T00:00:00\",\"2023-02-01T00:00:00\",\"2023-02-08T00:00:00\"],\"xaxis\":\"x\",\"y\":[0,0,0,0,0,0,0,0,27,789,5942,20181,40026,41886,31910,20778,19661,11535,7592,5039,4126,3150,2398,2974,4181,1131,972,866,642,437,489,439,399,377,326,366,301,560,556,596,631,769,972,1417,1751,2332,3128,4377,4943,6163,8082,8739,9355,9190,8867,8259,7492,6398,5644,3477,5432,4510,2217,1915,5773,3633,2875,2791,2355,1970,1408,1066,958,710,464,293,307,255,245,295,294,455,816,946,1246,1359,1681,1697,1837,2040,1602,2120,1466,1568,2043,1672,1589,1513,2464,2628,2900,3132,4200,6102,9109,10059,9253,7526,4337,4314,2379,1599,945,973,401,651,466,523,714,775,880,1097,1141,1111,1201,1045,960,978,825,801,882,1194,1236,1436,1224,1123,1139,1123,1036,1199,990,1331,1040,1402,2976,3452,954,0,2267,1463,1284,1419,1881,1500,2310,2119,2256,1518,1819,0],\"yaxis\":\"y\",\"type\":\"scatter\"}],                        {\"template\":{\"data\":{\"histogram2dcontour\":[{\"type\":\"histogram2dcontour\",\"colorbar\":{\"outlinewidth\":0,\"ticks\":\"\"},\"colorscale\":[[0.0,\"#0d0887\"],[0.1111111111111111,\"#46039f\"],[0.2222222222222222,\"#7201a8\"],[0.3333333333333333,\"#9c179e\"],[0.4444444444444444,\"#bd3786\"],[0.5555555555555556,\"#d8576b\"],[0.6666666666666666,\"#ed7953\"],[0.7777777777777778,\"#fb9f3a\"],[0.8888888888888888,\"#fdca26\"],[1.0,\"#f0f921\"]]}],\"choropleth\":[{\"type\":\"choropleth\",\"colorbar\":{\"outlinewidth\":0,\"ticks\":\"\"}}],\"histogram2d\":[{\"type\":\"histogram2d\",\"colorbar\":{\"outlinewidth\":0,\"ticks\":\"\"},\"colorscale\":[[0.0,\"#0d0887\"],[0.1111111111111111,\"#46039f\"],[0.2222222222222222,\"#7201a8\"],[0.3333333333333333,\"#9c179e\"],[0.4444444444444444,\"#bd3786\"],[0.5555555555555556,\"#d8576b\"],[0.6666666666666666,\"#ed7953\"],[0.7777777777777778,\"#fb9f3a\"],[0.8888888888888888,\"#fdca26\"],[1.0,\"#f0f921\"]]}],\"heatmap\":[{\"type\":\"heatmap\",\"colorbar\":{\"outlinewidth\":0,\"ticks\":\"\"},\"colorscale\":[[0.0,\"#0d0887\"],[0.1111111111111111,\"#46039f\"],[0.2222222222222222,\"#7201a8\"],[0.3333333333333333,\"#9c179e\"],[0.4444444444444444,\"#bd3786\"],[0.5555555555555556,\"#d8576b\"],[0.6666666666666666,\"#ed7953\"],[0.7777777777777778,\"#fb9f3a\"],[0.8888888888888888,\"#fdca26\"],[1.0,\"#f0f921\"]]}],\"heatmapgl\":[{\"type\":\"heatmapgl\",\"colorbar\":{\"outlinewidth\":0,\"ticks\":\"\"},\"colorscale\":[[0.0,\"#0d0887\"],[0.1111111111111111,\"#46039f\"],[0.2222222222222222,\"#7201a8\"],[0.3333333333333333,\"#9c179e\"],[0.4444444444444444,\"#bd3786\"],[0.5555555555555556,\"#d8576b\"],[0.6666666666666666,\"#ed7953\"],[0.7777777777777778,\"#fb9f3a\"],[0.8888888888888888,\"#fdca26\"],[1.0,\"#f0f921\"]]}],\"contourcarpet\":[{\"type\":\"contourcarpet\",\"colorbar\":{\"outlinewidth\":0,\"ticks\":\"\"}}],\"contour\":[{\"type\":\"contour\",\"colorbar\":{\"outlinewidth\":0,\"ticks\":\"\"},\"colorscale\":[[0.0,\"#0d0887\"],[0.1111111111111111,\"#46039f\"],[0.2222222222222222,\"#7201a8\"],[0.3333333333333333,\"#9c179e\"],[0.4444444444444444,\"#bd3786\"],[0.5555555555555556,\"#d8576b\"],[0.6666666666666666,\"#ed7953\"],[0.7777777777777778,\"#fb9f3a\"],[0.8888888888888888,\"#fdca26\"],[1.0,\"#f0f921\"]]}],\"surface\":[{\"type\":\"surface\",\"colorbar\":{\"outlinewidth\":0,\"ticks\":\"\"},\"colorscale\":[[0.0,\"#0d0887\"],[0.1111111111111111,\"#46039f\"],[0.2222222222222222,\"#7201a8\"],[0.3333333333333333,\"#9c179e\"],[0.4444444444444444,\"#bd3786\"],[0.5555555555555556,\"#d8576b\"],[0.6666666666666666,\"#ed7953\"],[0.7777777777777778,\"#fb9f3a\"],[0.8888888888888888,\"#fdca26\"],[1.0,\"#f0f921\"]]}],\"mesh3d\":[{\"type\":\"mesh3d\",\"colorbar\":{\"outlinewidth\":0,\"ticks\":\"\"}}],\"scatter\":[{\"fillpattern\":{\"fillmode\":\"overlay\",\"size\":10,\"solidity\":0.2},\"type\":\"scatter\"}],\"parcoords\":[{\"type\":\"parcoords\",\"line\":{\"colorbar\":{\"outlinewidth\":0,\"ticks\":\"\"}}}],\"scatterpolargl\":[{\"type\":\"scatterpolargl\",\"marker\":{\"colorbar\":{\"outlinewidth\":0,\"ticks\":\"\"}}}],\"bar\":[{\"error_x\":{\"color\":\"#2a3f5f\"},\"error_y\":{\"color\":\"#2a3f5f\"},\"marker\":{\"line\":{\"color\":\"#E5ECF6\",\"width\":0.5},\"pattern\":{\"fillmode\":\"overlay\",\"size\":10,\"solidity\":0.2}},\"type\":\"bar\"}],\"scattergeo\":[{\"type\":\"scattergeo\",\"marker\":{\"colorbar\":{\"outlinewidth\":0,\"ticks\":\"\"}}}],\"scatterpolar\":[{\"type\":\"scatterpolar\",\"marker\":{\"colorbar\":{\"outlinewidth\":0,\"ticks\":\"\"}}}],\"histogram\":[{\"marker\":{\"pattern\":{\"fillmode\":\"overlay\",\"size\":10,\"solidity\":0.2}},\"type\":\"histogram\"}],\"scattergl\":[{\"type\":\"scattergl\",\"marker\":{\"colorbar\":{\"outlinewidth\":0,\"ticks\":\"\"}}}],\"scatter3d\":[{\"type\":\"scatter3d\",\"line\":{\"colorbar\":{\"outlinewidth\":0,\"ticks\":\"\"}},\"marker\":{\"colorbar\":{\"outlinewidth\":0,\"ticks\":\"\"}}}],\"scattermapbox\":[{\"type\":\"scattermapbox\",\"marker\":{\"colorbar\":{\"outlinewidth\":0,\"ticks\":\"\"}}}],\"scatterternary\":[{\"type\":\"scatterternary\",\"marker\":{\"colorbar\":{\"outlinewidth\":0,\"ticks\":\"\"}}}],\"scattercarpet\":[{\"type\":\"scattercarpet\",\"marker\":{\"colorbar\":{\"outlinewidth\":0,\"ticks\":\"\"}}}],\"carpet\":[{\"aaxis\":{\"endlinecolor\":\"#2a3f5f\",\"gridcolor\":\"white\",\"linecolor\":\"white\",\"minorgridcolor\":\"white\",\"startlinecolor\":\"#2a3f5f\"},\"baxis\":{\"endlinecolor\":\"#2a3f5f\",\"gridcolor\":\"white\",\"linecolor\":\"white\",\"minorgridcolor\":\"white\",\"startlinecolor\":\"#2a3f5f\"},\"type\":\"carpet\"}],\"table\":[{\"cells\":{\"fill\":{\"color\":\"#EBF0F8\"},\"line\":{\"color\":\"white\"}},\"header\":{\"fill\":{\"color\":\"#C8D4E3\"},\"line\":{\"color\":\"white\"}},\"type\":\"table\"}],\"barpolar\":[{\"marker\":{\"line\":{\"color\":\"#E5ECF6\",\"width\":0.5},\"pattern\":{\"fillmode\":\"overlay\",\"size\":10,\"solidity\":0.2}},\"type\":\"barpolar\"}],\"pie\":[{\"automargin\":true,\"type\":\"pie\"}]},\"layout\":{\"autotypenumbers\":\"strict\",\"colorway\":[\"#636efa\",\"#EF553B\",\"#00cc96\",\"#ab63fa\",\"#FFA15A\",\"#19d3f3\",\"#FF6692\",\"#B6E880\",\"#FF97FF\",\"#FECB52\"],\"font\":{\"color\":\"#2a3f5f\"},\"hovermode\":\"closest\",\"hoverlabel\":{\"align\":\"left\"},\"paper_bgcolor\":\"white\",\"plot_bgcolor\":\"#E5ECF6\",\"polar\":{\"bgcolor\":\"#E5ECF6\",\"angularaxis\":{\"gridcolor\":\"white\",\"linecolor\":\"white\",\"ticks\":\"\"},\"radialaxis\":{\"gridcolor\":\"white\",\"linecolor\":\"white\",\"ticks\":\"\"}},\"ternary\":{\"bgcolor\":\"#E5ECF6\",\"aaxis\":{\"gridcolor\":\"white\",\"linecolor\":\"white\",\"ticks\":\"\"},\"baxis\":{\"gridcolor\":\"white\",\"linecolor\":\"white\",\"ticks\":\"\"},\"caxis\":{\"gridcolor\":\"white\",\"linecolor\":\"white\",\"ticks\":\"\"}},\"coloraxis\":{\"colorbar\":{\"outlinewidth\":0,\"ticks\":\"\"}},\"colorscale\":{\"sequential\":[[0.0,\"#0d0887\"],[0.1111111111111111,\"#46039f\"],[0.2222222222222222,\"#7201a8\"],[0.3333333333333333,\"#9c179e\"],[0.4444444444444444,\"#bd3786\"],[0.5555555555555556,\"#d8576b\"],[0.6666666666666666,\"#ed7953\"],[0.7777777777777778,\"#fb9f3a\"],[0.8888888888888888,\"#fdca26\"],[1.0,\"#f0f921\"]],\"sequentialminus\":[[0.0,\"#0d0887\"],[0.1111111111111111,\"#46039f\"],[0.2222222222222222,\"#7201a8\"],[0.3333333333333333,\"#9c179e\"],[0.4444444444444444,\"#bd3786\"],[0.5555555555555556,\"#d8576b\"],[0.6666666666666666,\"#ed7953\"],[0.7777777777777778,\"#fb9f3a\"],[0.8888888888888888,\"#fdca26\"],[1.0,\"#f0f921\"]],\"diverging\":[[0,\"#8e0152\"],[0.1,\"#c51b7d\"],[0.2,\"#de77ae\"],[0.3,\"#f1b6da\"],[0.4,\"#fde0ef\"],[0.5,\"#f7f7f7\"],[0.6,\"#e6f5d0\"],[0.7,\"#b8e186\"],[0.8,\"#7fbc41\"],[0.9,\"#4d9221\"],[1,\"#276419\"]]},\"xaxis\":{\"gridcolor\":\"white\",\"linecolor\":\"white\",\"ticks\":\"\",\"title\":{\"standoff\":15},\"zerolinecolor\":\"white\",\"automargin\":true,\"zerolinewidth\":2},\"yaxis\":{\"gridcolor\":\"white\",\"linecolor\":\"white\",\"ticks\":\"\",\"title\":{\"standoff\":15},\"zerolinecolor\":\"white\",\"automargin\":true,\"zerolinewidth\":2},\"scene\":{\"xaxis\":{\"backgroundcolor\":\"#E5ECF6\",\"gridcolor\":\"white\",\"linecolor\":\"white\",\"showbackground\":true,\"ticks\":\"\",\"zerolinecolor\":\"white\",\"gridwidth\":2},\"yaxis\":{\"backgroundcolor\":\"#E5ECF6\",\"gridcolor\":\"white\",\"linecolor\":\"white\",\"showbackground\":true,\"ticks\":\"\",\"zerolinecolor\":\"white\",\"gridwidth\":2},\"zaxis\":{\"backgroundcolor\":\"#E5ECF6\",\"gridcolor\":\"white\",\"linecolor\":\"white\",\"showbackground\":true,\"ticks\":\"\",\"zerolinecolor\":\"white\",\"gridwidth\":2}},\"shapedefaults\":{\"line\":{\"color\":\"#2a3f5f\"}},\"annotationdefaults\":{\"arrowcolor\":\"#2a3f5f\",\"arrowhead\":0,\"arrowwidth\":1},\"geo\":{\"bgcolor\":\"white\",\"landcolor\":\"#E5ECF6\",\"subunitcolor\":\"white\",\"showland\":true,\"showlakes\":true,\"lakecolor\":\"white\"},\"title\":{\"x\":0.05},\"mapbox\":{\"style\":\"light\"}}},\"xaxis\":{\"anchor\":\"y\",\"domain\":[0.0,1.0],\"title\":{\"text\":\"date\"}},\"yaxis\":{\"anchor\":\"x\",\"domain\":[0.0,1.0],\"title\":{\"text\":\"new_deaths\"}},\"legend\":{\"title\":{\"text\":\"State\"},\"tracegroupgap\":0},\"title\":{\"text\":\"NY deaths(raw values)\"}},                        {\"responsive\": true}                    ).then(function(){\n",
       "                            \n",
       "var gd = document.getElementById('912a4871-2e58-4d5b-ba20-5fdd1b180d97');\n",
       "var x = new MutationObserver(function (mutations, observer) {{\n",
       "        var display = window.getComputedStyle(gd).display;\n",
       "        if (!display || display === 'none') {{\n",
       "            console.log([gd, 'removed!']);\n",
       "            Plotly.purge(gd);\n",
       "            observer.disconnect();\n",
       "        }}\n",
       "}});\n",
       "\n",
       "// Listen for the removal of the full notebook cells\n",
       "var notebookContainer = gd.closest('#notebook-container');\n",
       "if (notebookContainer) {{\n",
       "    x.observe(notebookContainer, {childList: true});\n",
       "}}\n",
       "\n",
       "// Listen for the clearing of the current output cell\n",
       "var outputEl = gd.closest('.output');\n",
       "if (outputEl) {{\n",
       "    x.observe(outputEl, {childList: true});\n",
       "}}\n",
       "\n",
       "                        })                };                });            </script>        </div>"
      ]
     },
     "metadata": {},
     "output_type": "display_data"
    }
   ],
   "source": [
    "deaths_raw_values_NY = px.line(NY_weekly_pattern, x = 'date', y = 'new_deaths', color='State', title=\"NY deaths(raw values)\")\n",
    "deaths_raw_values_NY.show()"
   ]
  },
  {
   "cell_type": "code",
   "execution_count": 1410,
   "id": "a007d977",
   "metadata": {},
   "outputs": [
    {
     "data": {
      "application/vnd.plotly.v1+json": {
       "config": {
        "plotlyServerURL": "https://plot.ly"
       },
       "data": [
        {
         "hovertemplate": "State=NY<br>variable=new_cases_log_norm<br>date=%{x}<br>value=%{y}<extra></extra>",
         "legendgroup": "NY",
         "line": {
          "color": "#636efa",
          "dash": "solid"
         },
         "marker": {
          "symbol": "circle"
         },
         "mode": "lines",
         "name": "NY",
         "orientation": "v",
         "showlegend": true,
         "type": "scatter",
         "x": [
          "2020-01-22T00:00:00",
          "2020-01-29T00:00:00",
          "2020-02-05T00:00:00",
          "2020-02-12T00:00:00",
          "2020-02-19T00:00:00",
          "2020-02-26T00:00:00",
          "2020-03-04T00:00:00",
          "2020-03-11T00:00:00",
          "2020-03-18T00:00:00",
          "2020-03-25T00:00:00",
          "2020-04-01T00:00:00",
          "2020-04-08T00:00:00",
          "2020-04-15T00:00:00",
          "2020-04-22T00:00:00",
          "2020-04-29T00:00:00",
          "2020-05-06T00:00:00",
          "2020-05-13T00:00:00",
          "2020-05-20T00:00:00",
          "2020-05-27T00:00:00",
          "2020-06-03T00:00:00",
          "2020-06-10T00:00:00",
          "2020-06-17T00:00:00",
          "2020-06-24T00:00:00",
          "2020-07-01T00:00:00",
          "2020-07-08T00:00:00",
          "2020-07-15T00:00:00",
          "2020-07-22T00:00:00",
          "2020-07-29T00:00:00",
          "2020-08-05T00:00:00",
          "2020-08-12T00:00:00",
          "2020-08-19T00:00:00",
          "2020-08-26T00:00:00",
          "2020-09-02T00:00:00",
          "2020-09-09T00:00:00",
          "2020-09-16T00:00:00",
          "2020-09-23T00:00:00",
          "2020-09-30T00:00:00",
          "2020-10-07T00:00:00",
          "2020-10-14T00:00:00",
          "2020-10-21T00:00:00",
          "2020-10-28T00:00:00",
          "2020-11-04T00:00:00",
          "2020-11-11T00:00:00",
          "2020-11-18T00:00:00",
          "2020-11-25T00:00:00",
          "2020-12-02T00:00:00",
          "2020-12-09T00:00:00",
          "2020-12-16T00:00:00",
          "2020-12-23T00:00:00",
          "2020-12-30T00:00:00",
          "2021-01-06T00:00:00",
          "2021-01-13T00:00:00",
          "2021-01-20T00:00:00",
          "2021-01-27T00:00:00",
          "2021-02-03T00:00:00",
          "2021-02-10T00:00:00",
          "2021-02-17T00:00:00",
          "2021-02-24T00:00:00",
          "2021-03-03T00:00:00",
          "2021-03-10T00:00:00",
          "2021-03-17T00:00:00",
          "2021-03-24T00:00:00",
          "2021-03-31T00:00:00",
          "2021-04-07T00:00:00",
          "2021-04-14T00:00:00",
          "2021-04-21T00:00:00",
          "2021-04-28T00:00:00",
          "2021-05-05T00:00:00",
          "2021-05-12T00:00:00",
          "2021-05-19T00:00:00",
          "2021-05-26T00:00:00",
          "2021-06-02T00:00:00",
          "2021-06-09T00:00:00",
          "2021-06-16T00:00:00",
          "2021-06-23T00:00:00",
          "2021-06-30T00:00:00",
          "2021-07-07T00:00:00",
          "2021-07-14T00:00:00",
          "2021-07-21T00:00:00",
          "2021-07-28T00:00:00",
          "2021-08-04T00:00:00",
          "2021-08-11T00:00:00",
          "2021-08-18T00:00:00",
          "2021-08-25T00:00:00",
          "2021-09-01T00:00:00",
          "2021-09-08T00:00:00",
          "2021-09-15T00:00:00",
          "2021-09-22T00:00:00",
          "2021-09-29T00:00:00",
          "2021-10-06T00:00:00",
          "2021-10-13T00:00:00",
          "2021-10-20T00:00:00",
          "2021-10-27T00:00:00",
          "2021-11-03T00:00:00",
          "2021-11-10T00:00:00",
          "2021-11-17T00:00:00",
          "2021-11-24T00:00:00",
          "2021-12-01T00:00:00",
          "2021-12-08T00:00:00",
          "2021-12-15T00:00:00",
          "2021-12-22T00:00:00",
          "2021-12-29T00:00:00",
          "2022-01-05T00:00:00",
          "2022-01-12T00:00:00",
          "2022-01-19T00:00:00",
          "2022-01-26T00:00:00",
          "2022-02-02T00:00:00",
          "2022-02-09T00:00:00",
          "2022-02-16T00:00:00",
          "2022-02-23T00:00:00",
          "2022-03-02T00:00:00",
          "2022-03-09T00:00:00",
          "2022-03-16T00:00:00",
          "2022-03-23T00:00:00",
          "2022-03-30T00:00:00",
          "2022-04-06T00:00:00",
          "2022-04-13T00:00:00",
          "2022-04-20T00:00:00",
          "2022-04-27T00:00:00",
          "2022-05-04T00:00:00",
          "2022-05-11T00:00:00",
          "2022-05-18T00:00:00",
          "2022-05-25T00:00:00",
          "2022-06-01T00:00:00",
          "2022-06-08T00:00:00",
          "2022-06-15T00:00:00",
          "2022-06-22T00:00:00",
          "2022-06-29T00:00:00",
          "2022-07-06T00:00:00",
          "2022-07-13T00:00:00",
          "2022-07-20T00:00:00",
          "2022-07-27T00:00:00",
          "2022-08-03T00:00:00",
          "2022-08-10T00:00:00",
          "2022-08-17T00:00:00",
          "2022-08-24T00:00:00",
          "2022-08-31T00:00:00",
          "2022-09-07T00:00:00",
          "2022-09-14T00:00:00",
          "2022-09-21T00:00:00",
          "2022-09-28T00:00:00",
          "2022-10-05T00:00:00",
          "2022-10-12T00:00:00",
          "2022-10-19T00:00:00",
          "2022-10-26T00:00:00",
          "2022-11-02T00:00:00",
          "2022-11-09T00:00:00",
          "2022-11-16T00:00:00",
          "2022-11-23T00:00:00",
          "2022-11-30T00:00:00",
          "2022-12-07T00:00:00",
          "2022-12-14T00:00:00",
          "2022-12-21T00:00:00",
          "2022-12-28T00:00:00",
          "2023-01-04T00:00:00",
          "2023-01-11T00:00:00",
          "2023-01-18T00:00:00",
          "2023-01-25T00:00:00",
          "2023-02-01T00:00:00",
          "2023-02-08T00:00:00"
         ],
         "xaxis": "x",
         "y": [
          0,
          0,
          0,
          0,
          0,
          0,
          2.6390573303295444,
          6.610696044731218,
          8.78630387828411,
          11.639240884974532,
          12.608315902378425,
          12.970379348692468,
          13.041842888945084,
          12.842022293838022,
          12.623627708055059,
          12.274525371164662,
          11.82329570342658,
          11.544511337529512,
          11.312215879863118,
          11.10743535654971,
          10.837775361112135,
          10.519483673907928,
          10.390317570746205,
          10.369075195652238,
          10.377576575186422,
          10.410907383167586,
          10.487015160518142,
          10.435878954216973,
          10.384431121820507,
          10.360405942233525,
          10.369985042452889,
          10.301290044309283,
          10.354817916516561,
          10.49736673143768,
          10.452504513676338,
          10.548205753691832,
          10.643088837468197,
          11.011175201924075,
          11.14039694310847,
          11.138261106014921,
          11.280173399377034,
          11.508696535640293,
          11.835081425282159,
          12.280479501585127,
          12.442882387608238,
          12.669806661762346,
          12.990909824574794,
          13.103088810659651,
          13.145605181983987,
          13.186893773508912,
          13.357710560565318,
          13.559555808598638,
          13.518116139671992,
          13.403004218466908,
          13.261615624689638,
          12.945788476905962,
          12.960373719582316,
          12.763709333481438,
          12.766225432113181,
          12.804876179042514,
          12.703648882537522,
          12.829936733921818,
          12.85017925557166,
          12.855288836984178,
          12.769868257247147,
          12.620064629615959,
          12.311675131910768,
          12.014857659166132,
          11.705824218802036,
          11.431075291480829,
          11.101733992488768,
          10.687663031443865,
          10.27083533853151,
          10.067050936401918,
          9.771098364490953,
          9.65994994906917,
          9.825688160082256,
          10.226657417917824,
          10.683981470513004,
          11.172348816764064,
          11.652687407345475,
          11.975413422174364,
          12.213976328973226,
          12.307694681774056,
          12.302482220777845,
          12.359771794861492,
          12.381684240799071,
          12.40331565500117,
          12.375076750743778,
          12.312547540037224,
          12.38245577136102,
          12.277569712234722,
          12.13056754399947,
          12.119642917531841,
          12.190415712954177,
          12.408225423982769,
          12.699478420926207,
          12.641559232000331,
          12.973819284587519,
          13.120659927356794,
          13.633044590743648,
          14.243228230995571,
          14.84140805739466,
          15.165888321324713,
          14.781062200332283,
          14.104346714205104,
          13.44460048796303,
          12.812784646703154,
          12.430934719338389,
          11.953963615923014,
          11.553472221616111,
          11.416777934685932,
          11.336391129857997,
          11.459999259160929,
          11.795718103598329,
          12.006212177300888,
          12.19867535289975,
          12.620996214368343,
          12.669834963248647,
          12.729880632553265,
          13.04398012540563,
          13.079157293199419,
          12.996673162238855,
          12.832567071535369,
          12.637348440138087,
          12.486579034232896,
          12.390737288485921,
          12.401240500828687,
          12.393265650861192,
          12.765657004400309,
          12.6460454549016,
          12.797001590517306,
          12.656393202832735,
          12.564809462347357,
          12.435440783844363,
          12.330893082708483,
          12.210930825440581,
          12.113079778681064,
          12.058957988074873,
          12.261691819792953,
          12.325285769234169,
          12.072524109901625,
          12.306714043648068,
          12.181908018530928,
          12.127072727296078,
          12.15366293871248,
          12.15685088823788,
          12.162345393165749,
          12.077142081415527,
          12.157890296603679,
          12.013294609811785,
          12.468144559575174,
          12.672861738686455,
          11.763917619104255,
          12.657858203906875,
          12.494985210615319,
          12.101817074751466,
          12.196289950625365,
          11.818953221538859,
          0
         ],
         "yaxis": "y"
        }
       ],
       "layout": {
        "legend": {
         "title": {
          "text": "State"
         },
         "tracegroupgap": 0
        },
        "template": {
         "data": {
          "bar": [
           {
            "error_x": {
             "color": "#2a3f5f"
            },
            "error_y": {
             "color": "#2a3f5f"
            },
            "marker": {
             "line": {
              "color": "#E5ECF6",
              "width": 0.5
             },
             "pattern": {
              "fillmode": "overlay",
              "size": 10,
              "solidity": 0.2
             }
            },
            "type": "bar"
           }
          ],
          "barpolar": [
           {
            "marker": {
             "line": {
              "color": "#E5ECF6",
              "width": 0.5
             },
             "pattern": {
              "fillmode": "overlay",
              "size": 10,
              "solidity": 0.2
             }
            },
            "type": "barpolar"
           }
          ],
          "carpet": [
           {
            "aaxis": {
             "endlinecolor": "#2a3f5f",
             "gridcolor": "white",
             "linecolor": "white",
             "minorgridcolor": "white",
             "startlinecolor": "#2a3f5f"
            },
            "baxis": {
             "endlinecolor": "#2a3f5f",
             "gridcolor": "white",
             "linecolor": "white",
             "minorgridcolor": "white",
             "startlinecolor": "#2a3f5f"
            },
            "type": "carpet"
           }
          ],
          "choropleth": [
           {
            "colorbar": {
             "outlinewidth": 0,
             "ticks": ""
            },
            "type": "choropleth"
           }
          ],
          "contour": [
           {
            "colorbar": {
             "outlinewidth": 0,
             "ticks": ""
            },
            "colorscale": [
             [
              0,
              "#0d0887"
             ],
             [
              0.1111111111111111,
              "#46039f"
             ],
             [
              0.2222222222222222,
              "#7201a8"
             ],
             [
              0.3333333333333333,
              "#9c179e"
             ],
             [
              0.4444444444444444,
              "#bd3786"
             ],
             [
              0.5555555555555556,
              "#d8576b"
             ],
             [
              0.6666666666666666,
              "#ed7953"
             ],
             [
              0.7777777777777778,
              "#fb9f3a"
             ],
             [
              0.8888888888888888,
              "#fdca26"
             ],
             [
              1,
              "#f0f921"
             ]
            ],
            "type": "contour"
           }
          ],
          "contourcarpet": [
           {
            "colorbar": {
             "outlinewidth": 0,
             "ticks": ""
            },
            "type": "contourcarpet"
           }
          ],
          "heatmap": [
           {
            "colorbar": {
             "outlinewidth": 0,
             "ticks": ""
            },
            "colorscale": [
             [
              0,
              "#0d0887"
             ],
             [
              0.1111111111111111,
              "#46039f"
             ],
             [
              0.2222222222222222,
              "#7201a8"
             ],
             [
              0.3333333333333333,
              "#9c179e"
             ],
             [
              0.4444444444444444,
              "#bd3786"
             ],
             [
              0.5555555555555556,
              "#d8576b"
             ],
             [
              0.6666666666666666,
              "#ed7953"
             ],
             [
              0.7777777777777778,
              "#fb9f3a"
             ],
             [
              0.8888888888888888,
              "#fdca26"
             ],
             [
              1,
              "#f0f921"
             ]
            ],
            "type": "heatmap"
           }
          ],
          "heatmapgl": [
           {
            "colorbar": {
             "outlinewidth": 0,
             "ticks": ""
            },
            "colorscale": [
             [
              0,
              "#0d0887"
             ],
             [
              0.1111111111111111,
              "#46039f"
             ],
             [
              0.2222222222222222,
              "#7201a8"
             ],
             [
              0.3333333333333333,
              "#9c179e"
             ],
             [
              0.4444444444444444,
              "#bd3786"
             ],
             [
              0.5555555555555556,
              "#d8576b"
             ],
             [
              0.6666666666666666,
              "#ed7953"
             ],
             [
              0.7777777777777778,
              "#fb9f3a"
             ],
             [
              0.8888888888888888,
              "#fdca26"
             ],
             [
              1,
              "#f0f921"
             ]
            ],
            "type": "heatmapgl"
           }
          ],
          "histogram": [
           {
            "marker": {
             "pattern": {
              "fillmode": "overlay",
              "size": 10,
              "solidity": 0.2
             }
            },
            "type": "histogram"
           }
          ],
          "histogram2d": [
           {
            "colorbar": {
             "outlinewidth": 0,
             "ticks": ""
            },
            "colorscale": [
             [
              0,
              "#0d0887"
             ],
             [
              0.1111111111111111,
              "#46039f"
             ],
             [
              0.2222222222222222,
              "#7201a8"
             ],
             [
              0.3333333333333333,
              "#9c179e"
             ],
             [
              0.4444444444444444,
              "#bd3786"
             ],
             [
              0.5555555555555556,
              "#d8576b"
             ],
             [
              0.6666666666666666,
              "#ed7953"
             ],
             [
              0.7777777777777778,
              "#fb9f3a"
             ],
             [
              0.8888888888888888,
              "#fdca26"
             ],
             [
              1,
              "#f0f921"
             ]
            ],
            "type": "histogram2d"
           }
          ],
          "histogram2dcontour": [
           {
            "colorbar": {
             "outlinewidth": 0,
             "ticks": ""
            },
            "colorscale": [
             [
              0,
              "#0d0887"
             ],
             [
              0.1111111111111111,
              "#46039f"
             ],
             [
              0.2222222222222222,
              "#7201a8"
             ],
             [
              0.3333333333333333,
              "#9c179e"
             ],
             [
              0.4444444444444444,
              "#bd3786"
             ],
             [
              0.5555555555555556,
              "#d8576b"
             ],
             [
              0.6666666666666666,
              "#ed7953"
             ],
             [
              0.7777777777777778,
              "#fb9f3a"
             ],
             [
              0.8888888888888888,
              "#fdca26"
             ],
             [
              1,
              "#f0f921"
             ]
            ],
            "type": "histogram2dcontour"
           }
          ],
          "mesh3d": [
           {
            "colorbar": {
             "outlinewidth": 0,
             "ticks": ""
            },
            "type": "mesh3d"
           }
          ],
          "parcoords": [
           {
            "line": {
             "colorbar": {
              "outlinewidth": 0,
              "ticks": ""
             }
            },
            "type": "parcoords"
           }
          ],
          "pie": [
           {
            "automargin": true,
            "type": "pie"
           }
          ],
          "scatter": [
           {
            "fillpattern": {
             "fillmode": "overlay",
             "size": 10,
             "solidity": 0.2
            },
            "type": "scatter"
           }
          ],
          "scatter3d": [
           {
            "line": {
             "colorbar": {
              "outlinewidth": 0,
              "ticks": ""
             }
            },
            "marker": {
             "colorbar": {
              "outlinewidth": 0,
              "ticks": ""
             }
            },
            "type": "scatter3d"
           }
          ],
          "scattercarpet": [
           {
            "marker": {
             "colorbar": {
              "outlinewidth": 0,
              "ticks": ""
             }
            },
            "type": "scattercarpet"
           }
          ],
          "scattergeo": [
           {
            "marker": {
             "colorbar": {
              "outlinewidth": 0,
              "ticks": ""
             }
            },
            "type": "scattergeo"
           }
          ],
          "scattergl": [
           {
            "marker": {
             "colorbar": {
              "outlinewidth": 0,
              "ticks": ""
             }
            },
            "type": "scattergl"
           }
          ],
          "scattermapbox": [
           {
            "marker": {
             "colorbar": {
              "outlinewidth": 0,
              "ticks": ""
             }
            },
            "type": "scattermapbox"
           }
          ],
          "scatterpolar": [
           {
            "marker": {
             "colorbar": {
              "outlinewidth": 0,
              "ticks": ""
             }
            },
            "type": "scatterpolar"
           }
          ],
          "scatterpolargl": [
           {
            "marker": {
             "colorbar": {
              "outlinewidth": 0,
              "ticks": ""
             }
            },
            "type": "scatterpolargl"
           }
          ],
          "scatterternary": [
           {
            "marker": {
             "colorbar": {
              "outlinewidth": 0,
              "ticks": ""
             }
            },
            "type": "scatterternary"
           }
          ],
          "surface": [
           {
            "colorbar": {
             "outlinewidth": 0,
             "ticks": ""
            },
            "colorscale": [
             [
              0,
              "#0d0887"
             ],
             [
              0.1111111111111111,
              "#46039f"
             ],
             [
              0.2222222222222222,
              "#7201a8"
             ],
             [
              0.3333333333333333,
              "#9c179e"
             ],
             [
              0.4444444444444444,
              "#bd3786"
             ],
             [
              0.5555555555555556,
              "#d8576b"
             ],
             [
              0.6666666666666666,
              "#ed7953"
             ],
             [
              0.7777777777777778,
              "#fb9f3a"
             ],
             [
              0.8888888888888888,
              "#fdca26"
             ],
             [
              1,
              "#f0f921"
             ]
            ],
            "type": "surface"
           }
          ],
          "table": [
           {
            "cells": {
             "fill": {
              "color": "#EBF0F8"
             },
             "line": {
              "color": "white"
             }
            },
            "header": {
             "fill": {
              "color": "#C8D4E3"
             },
             "line": {
              "color": "white"
             }
            },
            "type": "table"
           }
          ]
         },
         "layout": {
          "annotationdefaults": {
           "arrowcolor": "#2a3f5f",
           "arrowhead": 0,
           "arrowwidth": 1
          },
          "autotypenumbers": "strict",
          "coloraxis": {
           "colorbar": {
            "outlinewidth": 0,
            "ticks": ""
           }
          },
          "colorscale": {
           "diverging": [
            [
             0,
             "#8e0152"
            ],
            [
             0.1,
             "#c51b7d"
            ],
            [
             0.2,
             "#de77ae"
            ],
            [
             0.3,
             "#f1b6da"
            ],
            [
             0.4,
             "#fde0ef"
            ],
            [
             0.5,
             "#f7f7f7"
            ],
            [
             0.6,
             "#e6f5d0"
            ],
            [
             0.7,
             "#b8e186"
            ],
            [
             0.8,
             "#7fbc41"
            ],
            [
             0.9,
             "#4d9221"
            ],
            [
             1,
             "#276419"
            ]
           ],
           "sequential": [
            [
             0,
             "#0d0887"
            ],
            [
             0.1111111111111111,
             "#46039f"
            ],
            [
             0.2222222222222222,
             "#7201a8"
            ],
            [
             0.3333333333333333,
             "#9c179e"
            ],
            [
             0.4444444444444444,
             "#bd3786"
            ],
            [
             0.5555555555555556,
             "#d8576b"
            ],
            [
             0.6666666666666666,
             "#ed7953"
            ],
            [
             0.7777777777777778,
             "#fb9f3a"
            ],
            [
             0.8888888888888888,
             "#fdca26"
            ],
            [
             1,
             "#f0f921"
            ]
           ],
           "sequentialminus": [
            [
             0,
             "#0d0887"
            ],
            [
             0.1111111111111111,
             "#46039f"
            ],
            [
             0.2222222222222222,
             "#7201a8"
            ],
            [
             0.3333333333333333,
             "#9c179e"
            ],
            [
             0.4444444444444444,
             "#bd3786"
            ],
            [
             0.5555555555555556,
             "#d8576b"
            ],
            [
             0.6666666666666666,
             "#ed7953"
            ],
            [
             0.7777777777777778,
             "#fb9f3a"
            ],
            [
             0.8888888888888888,
             "#fdca26"
            ],
            [
             1,
             "#f0f921"
            ]
           ]
          },
          "colorway": [
           "#636efa",
           "#EF553B",
           "#00cc96",
           "#ab63fa",
           "#FFA15A",
           "#19d3f3",
           "#FF6692",
           "#B6E880",
           "#FF97FF",
           "#FECB52"
          ],
          "font": {
           "color": "#2a3f5f"
          },
          "geo": {
           "bgcolor": "white",
           "lakecolor": "white",
           "landcolor": "#E5ECF6",
           "showlakes": true,
           "showland": true,
           "subunitcolor": "white"
          },
          "hoverlabel": {
           "align": "left"
          },
          "hovermode": "closest",
          "mapbox": {
           "style": "light"
          },
          "paper_bgcolor": "white",
          "plot_bgcolor": "#E5ECF6",
          "polar": {
           "angularaxis": {
            "gridcolor": "white",
            "linecolor": "white",
            "ticks": ""
           },
           "bgcolor": "#E5ECF6",
           "radialaxis": {
            "gridcolor": "white",
            "linecolor": "white",
            "ticks": ""
           }
          },
          "scene": {
           "xaxis": {
            "backgroundcolor": "#E5ECF6",
            "gridcolor": "white",
            "gridwidth": 2,
            "linecolor": "white",
            "showbackground": true,
            "ticks": "",
            "zerolinecolor": "white"
           },
           "yaxis": {
            "backgroundcolor": "#E5ECF6",
            "gridcolor": "white",
            "gridwidth": 2,
            "linecolor": "white",
            "showbackground": true,
            "ticks": "",
            "zerolinecolor": "white"
           },
           "zaxis": {
            "backgroundcolor": "#E5ECF6",
            "gridcolor": "white",
            "gridwidth": 2,
            "linecolor": "white",
            "showbackground": true,
            "ticks": "",
            "zerolinecolor": "white"
           }
          },
          "shapedefaults": {
           "line": {
            "color": "#2a3f5f"
           }
          },
          "ternary": {
           "aaxis": {
            "gridcolor": "white",
            "linecolor": "white",
            "ticks": ""
           },
           "baxis": {
            "gridcolor": "white",
            "linecolor": "white",
            "ticks": ""
           },
           "bgcolor": "#E5ECF6",
           "caxis": {
            "gridcolor": "white",
            "linecolor": "white",
            "ticks": ""
           }
          },
          "title": {
           "x": 0.05
          },
          "xaxis": {
           "automargin": true,
           "gridcolor": "white",
           "linecolor": "white",
           "ticks": "",
           "title": {
            "standoff": 15
           },
           "zerolinecolor": "white",
           "zerolinewidth": 2
          },
          "yaxis": {
           "automargin": true,
           "gridcolor": "white",
           "linecolor": "white",
           "ticks": "",
           "title": {
            "standoff": 15
           },
           "zerolinecolor": "white",
           "zerolinewidth": 2
          }
         }
        },
        "title": {
         "text": "NY cases(log normalized values)"
        },
        "xaxis": {
         "anchor": "y",
         "domain": [
          0,
          1
         ],
         "title": {
          "text": "date"
         }
        },
        "yaxis": {
         "anchor": "x",
         "domain": [
          0,
          1
         ],
         "title": {
          "text": "value"
         }
        }
       }
      },
      "text/html": [
       "<div>                            <div id=\"72734308-958f-471c-b292-d79c1778c238\" class=\"plotly-graph-div\" style=\"height:525px; width:100%;\"></div>            <script type=\"text/javascript\">                require([\"plotly\"], function(Plotly) {                    window.PLOTLYENV=window.PLOTLYENV || {};                                    if (document.getElementById(\"72734308-958f-471c-b292-d79c1778c238\")) {                    Plotly.newPlot(                        \"72734308-958f-471c-b292-d79c1778c238\",                        [{\"hovertemplate\":\"State=NY<br>variable=new_cases_log_norm<br>date=%{x}<br>value=%{y}<extra></extra>\",\"legendgroup\":\"NY\",\"line\":{\"color\":\"#636efa\",\"dash\":\"solid\"},\"marker\":{\"symbol\":\"circle\"},\"mode\":\"lines\",\"name\":\"NY\",\"orientation\":\"v\",\"showlegend\":true,\"x\":[\"2020-01-22T00:00:00\",\"2020-01-29T00:00:00\",\"2020-02-05T00:00:00\",\"2020-02-12T00:00:00\",\"2020-02-19T00:00:00\",\"2020-02-26T00:00:00\",\"2020-03-04T00:00:00\",\"2020-03-11T00:00:00\",\"2020-03-18T00:00:00\",\"2020-03-25T00:00:00\",\"2020-04-01T00:00:00\",\"2020-04-08T00:00:00\",\"2020-04-15T00:00:00\",\"2020-04-22T00:00:00\",\"2020-04-29T00:00:00\",\"2020-05-06T00:00:00\",\"2020-05-13T00:00:00\",\"2020-05-20T00:00:00\",\"2020-05-27T00:00:00\",\"2020-06-03T00:00:00\",\"2020-06-10T00:00:00\",\"2020-06-17T00:00:00\",\"2020-06-24T00:00:00\",\"2020-07-01T00:00:00\",\"2020-07-08T00:00:00\",\"2020-07-15T00:00:00\",\"2020-07-22T00:00:00\",\"2020-07-29T00:00:00\",\"2020-08-05T00:00:00\",\"2020-08-12T00:00:00\",\"2020-08-19T00:00:00\",\"2020-08-26T00:00:00\",\"2020-09-02T00:00:00\",\"2020-09-09T00:00:00\",\"2020-09-16T00:00:00\",\"2020-09-23T00:00:00\",\"2020-09-30T00:00:00\",\"2020-10-07T00:00:00\",\"2020-10-14T00:00:00\",\"2020-10-21T00:00:00\",\"2020-10-28T00:00:00\",\"2020-11-04T00:00:00\",\"2020-11-11T00:00:00\",\"2020-11-18T00:00:00\",\"2020-11-25T00:00:00\",\"2020-12-02T00:00:00\",\"2020-12-09T00:00:00\",\"2020-12-16T00:00:00\",\"2020-12-23T00:00:00\",\"2020-12-30T00:00:00\",\"2021-01-06T00:00:00\",\"2021-01-13T00:00:00\",\"2021-01-20T00:00:00\",\"2021-01-27T00:00:00\",\"2021-02-03T00:00:00\",\"2021-02-10T00:00:00\",\"2021-02-17T00:00:00\",\"2021-02-24T00:00:00\",\"2021-03-03T00:00:00\",\"2021-03-10T00:00:00\",\"2021-03-17T00:00:00\",\"2021-03-24T00:00:00\",\"2021-03-31T00:00:00\",\"2021-04-07T00:00:00\",\"2021-04-14T00:00:00\",\"2021-04-21T00:00:00\",\"2021-04-28T00:00:00\",\"2021-05-05T00:00:00\",\"2021-05-12T00:00:00\",\"2021-05-19T00:00:00\",\"2021-05-26T00:00:00\",\"2021-06-02T00:00:00\",\"2021-06-09T00:00:00\",\"2021-06-16T00:00:00\",\"2021-06-23T00:00:00\",\"2021-06-30T00:00:00\",\"2021-07-07T00:00:00\",\"2021-07-14T00:00:00\",\"2021-07-21T00:00:00\",\"2021-07-28T00:00:00\",\"2021-08-04T00:00:00\",\"2021-08-11T00:00:00\",\"2021-08-18T00:00:00\",\"2021-08-25T00:00:00\",\"2021-09-01T00:00:00\",\"2021-09-08T00:00:00\",\"2021-09-15T00:00:00\",\"2021-09-22T00:00:00\",\"2021-09-29T00:00:00\",\"2021-10-06T00:00:00\",\"2021-10-13T00:00:00\",\"2021-10-20T00:00:00\",\"2021-10-27T00:00:00\",\"2021-11-03T00:00:00\",\"2021-11-10T00:00:00\",\"2021-11-17T00:00:00\",\"2021-11-24T00:00:00\",\"2021-12-01T00:00:00\",\"2021-12-08T00:00:00\",\"2021-12-15T00:00:00\",\"2021-12-22T00:00:00\",\"2021-12-29T00:00:00\",\"2022-01-05T00:00:00\",\"2022-01-12T00:00:00\",\"2022-01-19T00:00:00\",\"2022-01-26T00:00:00\",\"2022-02-02T00:00:00\",\"2022-02-09T00:00:00\",\"2022-02-16T00:00:00\",\"2022-02-23T00:00:00\",\"2022-03-02T00:00:00\",\"2022-03-09T00:00:00\",\"2022-03-16T00:00:00\",\"2022-03-23T00:00:00\",\"2022-03-30T00:00:00\",\"2022-04-06T00:00:00\",\"2022-04-13T00:00:00\",\"2022-04-20T00:00:00\",\"2022-04-27T00:00:00\",\"2022-05-04T00:00:00\",\"2022-05-11T00:00:00\",\"2022-05-18T00:00:00\",\"2022-05-25T00:00:00\",\"2022-06-01T00:00:00\",\"2022-06-08T00:00:00\",\"2022-06-15T00:00:00\",\"2022-06-22T00:00:00\",\"2022-06-29T00:00:00\",\"2022-07-06T00:00:00\",\"2022-07-13T00:00:00\",\"2022-07-20T00:00:00\",\"2022-07-27T00:00:00\",\"2022-08-03T00:00:00\",\"2022-08-10T00:00:00\",\"2022-08-17T00:00:00\",\"2022-08-24T00:00:00\",\"2022-08-31T00:00:00\",\"2022-09-07T00:00:00\",\"2022-09-14T00:00:00\",\"2022-09-21T00:00:00\",\"2022-09-28T00:00:00\",\"2022-10-05T00:00:00\",\"2022-10-12T00:00:00\",\"2022-10-19T00:00:00\",\"2022-10-26T00:00:00\",\"2022-11-02T00:00:00\",\"2022-11-09T00:00:00\",\"2022-11-16T00:00:00\",\"2022-11-23T00:00:00\",\"2022-11-30T00:00:00\",\"2022-12-07T00:00:00\",\"2022-12-14T00:00:00\",\"2022-12-21T00:00:00\",\"2022-12-28T00:00:00\",\"2023-01-04T00:00:00\",\"2023-01-11T00:00:00\",\"2023-01-18T00:00:00\",\"2023-01-25T00:00:00\",\"2023-02-01T00:00:00\",\"2023-02-08T00:00:00\"],\"xaxis\":\"x\",\"y\":[0.0,0.0,0.0,0.0,0.0,0.0,2.6390573303295444,6.610696044731218,8.78630387828411,11.639240884974532,12.608315902378425,12.970379348692468,13.041842888945084,12.842022293838022,12.623627708055059,12.274525371164662,11.82329570342658,11.544511337529512,11.312215879863118,11.10743535654971,10.837775361112135,10.519483673907928,10.390317570746205,10.369075195652238,10.377576575186422,10.410907383167586,10.487015160518142,10.435878954216973,10.384431121820507,10.360405942233525,10.369985042452889,10.301290044309283,10.354817916516561,10.49736673143768,10.452504513676338,10.548205753691832,10.643088837468197,11.011175201924075,11.14039694310847,11.138261106014921,11.280173399377034,11.508696535640293,11.835081425282159,12.280479501585127,12.442882387608238,12.669806661762346,12.990909824574794,13.103088810659651,13.145605181983987,13.186893773508912,13.357710560565318,13.559555808598638,13.518116139671992,13.403004218466908,13.261615624689638,12.945788476905962,12.960373719582316,12.763709333481438,12.766225432113181,12.804876179042514,12.703648882537522,12.829936733921818,12.85017925557166,12.855288836984178,12.769868257247147,12.620064629615959,12.311675131910768,12.014857659166132,11.705824218802036,11.431075291480829,11.101733992488768,10.687663031443865,10.27083533853151,10.067050936401918,9.771098364490953,9.65994994906917,9.825688160082256,10.226657417917824,10.683981470513004,11.172348816764064,11.652687407345475,11.975413422174364,12.213976328973226,12.307694681774056,12.302482220777845,12.359771794861492,12.381684240799071,12.40331565500117,12.375076750743778,12.312547540037224,12.38245577136102,12.277569712234722,12.13056754399947,12.119642917531841,12.190415712954177,12.408225423982769,12.699478420926207,12.641559232000331,12.973819284587519,13.120659927356794,13.633044590743648,14.243228230995571,14.84140805739466,15.165888321324713,14.781062200332283,14.104346714205104,13.44460048796303,12.812784646703154,12.430934719338389,11.953963615923014,11.553472221616111,11.416777934685932,11.336391129857997,11.459999259160929,11.795718103598329,12.006212177300888,12.19867535289975,12.620996214368343,12.669834963248647,12.729880632553265,13.04398012540563,13.079157293199419,12.996673162238855,12.832567071535369,12.637348440138087,12.486579034232896,12.390737288485921,12.401240500828687,12.393265650861192,12.765657004400309,12.6460454549016,12.797001590517306,12.656393202832735,12.564809462347357,12.435440783844363,12.330893082708483,12.210930825440581,12.113079778681064,12.058957988074873,12.261691819792953,12.325285769234169,12.072524109901625,12.306714043648068,12.181908018530928,12.127072727296078,12.15366293871248,12.15685088823788,12.162345393165749,12.077142081415527,12.157890296603679,12.013294609811785,12.468144559575174,12.672861738686455,11.763917619104255,12.657858203906875,12.494985210615319,12.101817074751466,12.196289950625365,11.818953221538859,0.0],\"yaxis\":\"y\",\"type\":\"scatter\"}],                        {\"template\":{\"data\":{\"histogram2dcontour\":[{\"type\":\"histogram2dcontour\",\"colorbar\":{\"outlinewidth\":0,\"ticks\":\"\"},\"colorscale\":[[0.0,\"#0d0887\"],[0.1111111111111111,\"#46039f\"],[0.2222222222222222,\"#7201a8\"],[0.3333333333333333,\"#9c179e\"],[0.4444444444444444,\"#bd3786\"],[0.5555555555555556,\"#d8576b\"],[0.6666666666666666,\"#ed7953\"],[0.7777777777777778,\"#fb9f3a\"],[0.8888888888888888,\"#fdca26\"],[1.0,\"#f0f921\"]]}],\"choropleth\":[{\"type\":\"choropleth\",\"colorbar\":{\"outlinewidth\":0,\"ticks\":\"\"}}],\"histogram2d\":[{\"type\":\"histogram2d\",\"colorbar\":{\"outlinewidth\":0,\"ticks\":\"\"},\"colorscale\":[[0.0,\"#0d0887\"],[0.1111111111111111,\"#46039f\"],[0.2222222222222222,\"#7201a8\"],[0.3333333333333333,\"#9c179e\"],[0.4444444444444444,\"#bd3786\"],[0.5555555555555556,\"#d8576b\"],[0.6666666666666666,\"#ed7953\"],[0.7777777777777778,\"#fb9f3a\"],[0.8888888888888888,\"#fdca26\"],[1.0,\"#f0f921\"]]}],\"heatmap\":[{\"type\":\"heatmap\",\"colorbar\":{\"outlinewidth\":0,\"ticks\":\"\"},\"colorscale\":[[0.0,\"#0d0887\"],[0.1111111111111111,\"#46039f\"],[0.2222222222222222,\"#7201a8\"],[0.3333333333333333,\"#9c179e\"],[0.4444444444444444,\"#bd3786\"],[0.5555555555555556,\"#d8576b\"],[0.6666666666666666,\"#ed7953\"],[0.7777777777777778,\"#fb9f3a\"],[0.8888888888888888,\"#fdca26\"],[1.0,\"#f0f921\"]]}],\"heatmapgl\":[{\"type\":\"heatmapgl\",\"colorbar\":{\"outlinewidth\":0,\"ticks\":\"\"},\"colorscale\":[[0.0,\"#0d0887\"],[0.1111111111111111,\"#46039f\"],[0.2222222222222222,\"#7201a8\"],[0.3333333333333333,\"#9c179e\"],[0.4444444444444444,\"#bd3786\"],[0.5555555555555556,\"#d8576b\"],[0.6666666666666666,\"#ed7953\"],[0.7777777777777778,\"#fb9f3a\"],[0.8888888888888888,\"#fdca26\"],[1.0,\"#f0f921\"]]}],\"contourcarpet\":[{\"type\":\"contourcarpet\",\"colorbar\":{\"outlinewidth\":0,\"ticks\":\"\"}}],\"contour\":[{\"type\":\"contour\",\"colorbar\":{\"outlinewidth\":0,\"ticks\":\"\"},\"colorscale\":[[0.0,\"#0d0887\"],[0.1111111111111111,\"#46039f\"],[0.2222222222222222,\"#7201a8\"],[0.3333333333333333,\"#9c179e\"],[0.4444444444444444,\"#bd3786\"],[0.5555555555555556,\"#d8576b\"],[0.6666666666666666,\"#ed7953\"],[0.7777777777777778,\"#fb9f3a\"],[0.8888888888888888,\"#fdca26\"],[1.0,\"#f0f921\"]]}],\"surface\":[{\"type\":\"surface\",\"colorbar\":{\"outlinewidth\":0,\"ticks\":\"\"},\"colorscale\":[[0.0,\"#0d0887\"],[0.1111111111111111,\"#46039f\"],[0.2222222222222222,\"#7201a8\"],[0.3333333333333333,\"#9c179e\"],[0.4444444444444444,\"#bd3786\"],[0.5555555555555556,\"#d8576b\"],[0.6666666666666666,\"#ed7953\"],[0.7777777777777778,\"#fb9f3a\"],[0.8888888888888888,\"#fdca26\"],[1.0,\"#f0f921\"]]}],\"mesh3d\":[{\"type\":\"mesh3d\",\"colorbar\":{\"outlinewidth\":0,\"ticks\":\"\"}}],\"scatter\":[{\"fillpattern\":{\"fillmode\":\"overlay\",\"size\":10,\"solidity\":0.2},\"type\":\"scatter\"}],\"parcoords\":[{\"type\":\"parcoords\",\"line\":{\"colorbar\":{\"outlinewidth\":0,\"ticks\":\"\"}}}],\"scatterpolargl\":[{\"type\":\"scatterpolargl\",\"marker\":{\"colorbar\":{\"outlinewidth\":0,\"ticks\":\"\"}}}],\"bar\":[{\"error_x\":{\"color\":\"#2a3f5f\"},\"error_y\":{\"color\":\"#2a3f5f\"},\"marker\":{\"line\":{\"color\":\"#E5ECF6\",\"width\":0.5},\"pattern\":{\"fillmode\":\"overlay\",\"size\":10,\"solidity\":0.2}},\"type\":\"bar\"}],\"scattergeo\":[{\"type\":\"scattergeo\",\"marker\":{\"colorbar\":{\"outlinewidth\":0,\"ticks\":\"\"}}}],\"scatterpolar\":[{\"type\":\"scatterpolar\",\"marker\":{\"colorbar\":{\"outlinewidth\":0,\"ticks\":\"\"}}}],\"histogram\":[{\"marker\":{\"pattern\":{\"fillmode\":\"overlay\",\"size\":10,\"solidity\":0.2}},\"type\":\"histogram\"}],\"scattergl\":[{\"type\":\"scattergl\",\"marker\":{\"colorbar\":{\"outlinewidth\":0,\"ticks\":\"\"}}}],\"scatter3d\":[{\"type\":\"scatter3d\",\"line\":{\"colorbar\":{\"outlinewidth\":0,\"ticks\":\"\"}},\"marker\":{\"colorbar\":{\"outlinewidth\":0,\"ticks\":\"\"}}}],\"scattermapbox\":[{\"type\":\"scattermapbox\",\"marker\":{\"colorbar\":{\"outlinewidth\":0,\"ticks\":\"\"}}}],\"scatterternary\":[{\"type\":\"scatterternary\",\"marker\":{\"colorbar\":{\"outlinewidth\":0,\"ticks\":\"\"}}}],\"scattercarpet\":[{\"type\":\"scattercarpet\",\"marker\":{\"colorbar\":{\"outlinewidth\":0,\"ticks\":\"\"}}}],\"carpet\":[{\"aaxis\":{\"endlinecolor\":\"#2a3f5f\",\"gridcolor\":\"white\",\"linecolor\":\"white\",\"minorgridcolor\":\"white\",\"startlinecolor\":\"#2a3f5f\"},\"baxis\":{\"endlinecolor\":\"#2a3f5f\",\"gridcolor\":\"white\",\"linecolor\":\"white\",\"minorgridcolor\":\"white\",\"startlinecolor\":\"#2a3f5f\"},\"type\":\"carpet\"}],\"table\":[{\"cells\":{\"fill\":{\"color\":\"#EBF0F8\"},\"line\":{\"color\":\"white\"}},\"header\":{\"fill\":{\"color\":\"#C8D4E3\"},\"line\":{\"color\":\"white\"}},\"type\":\"table\"}],\"barpolar\":[{\"marker\":{\"line\":{\"color\":\"#E5ECF6\",\"width\":0.5},\"pattern\":{\"fillmode\":\"overlay\",\"size\":10,\"solidity\":0.2}},\"type\":\"barpolar\"}],\"pie\":[{\"automargin\":true,\"type\":\"pie\"}]},\"layout\":{\"autotypenumbers\":\"strict\",\"colorway\":[\"#636efa\",\"#EF553B\",\"#00cc96\",\"#ab63fa\",\"#FFA15A\",\"#19d3f3\",\"#FF6692\",\"#B6E880\",\"#FF97FF\",\"#FECB52\"],\"font\":{\"color\":\"#2a3f5f\"},\"hovermode\":\"closest\",\"hoverlabel\":{\"align\":\"left\"},\"paper_bgcolor\":\"white\",\"plot_bgcolor\":\"#E5ECF6\",\"polar\":{\"bgcolor\":\"#E5ECF6\",\"angularaxis\":{\"gridcolor\":\"white\",\"linecolor\":\"white\",\"ticks\":\"\"},\"radialaxis\":{\"gridcolor\":\"white\",\"linecolor\":\"white\",\"ticks\":\"\"}},\"ternary\":{\"bgcolor\":\"#E5ECF6\",\"aaxis\":{\"gridcolor\":\"white\",\"linecolor\":\"white\",\"ticks\":\"\"},\"baxis\":{\"gridcolor\":\"white\",\"linecolor\":\"white\",\"ticks\":\"\"},\"caxis\":{\"gridcolor\":\"white\",\"linecolor\":\"white\",\"ticks\":\"\"}},\"coloraxis\":{\"colorbar\":{\"outlinewidth\":0,\"ticks\":\"\"}},\"colorscale\":{\"sequential\":[[0.0,\"#0d0887\"],[0.1111111111111111,\"#46039f\"],[0.2222222222222222,\"#7201a8\"],[0.3333333333333333,\"#9c179e\"],[0.4444444444444444,\"#bd3786\"],[0.5555555555555556,\"#d8576b\"],[0.6666666666666666,\"#ed7953\"],[0.7777777777777778,\"#fb9f3a\"],[0.8888888888888888,\"#fdca26\"],[1.0,\"#f0f921\"]],\"sequentialminus\":[[0.0,\"#0d0887\"],[0.1111111111111111,\"#46039f\"],[0.2222222222222222,\"#7201a8\"],[0.3333333333333333,\"#9c179e\"],[0.4444444444444444,\"#bd3786\"],[0.5555555555555556,\"#d8576b\"],[0.6666666666666666,\"#ed7953\"],[0.7777777777777778,\"#fb9f3a\"],[0.8888888888888888,\"#fdca26\"],[1.0,\"#f0f921\"]],\"diverging\":[[0,\"#8e0152\"],[0.1,\"#c51b7d\"],[0.2,\"#de77ae\"],[0.3,\"#f1b6da\"],[0.4,\"#fde0ef\"],[0.5,\"#f7f7f7\"],[0.6,\"#e6f5d0\"],[0.7,\"#b8e186\"],[0.8,\"#7fbc41\"],[0.9,\"#4d9221\"],[1,\"#276419\"]]},\"xaxis\":{\"gridcolor\":\"white\",\"linecolor\":\"white\",\"ticks\":\"\",\"title\":{\"standoff\":15},\"zerolinecolor\":\"white\",\"automargin\":true,\"zerolinewidth\":2},\"yaxis\":{\"gridcolor\":\"white\",\"linecolor\":\"white\",\"ticks\":\"\",\"title\":{\"standoff\":15},\"zerolinecolor\":\"white\",\"automargin\":true,\"zerolinewidth\":2},\"scene\":{\"xaxis\":{\"backgroundcolor\":\"#E5ECF6\",\"gridcolor\":\"white\",\"linecolor\":\"white\",\"showbackground\":true,\"ticks\":\"\",\"zerolinecolor\":\"white\",\"gridwidth\":2},\"yaxis\":{\"backgroundcolor\":\"#E5ECF6\",\"gridcolor\":\"white\",\"linecolor\":\"white\",\"showbackground\":true,\"ticks\":\"\",\"zerolinecolor\":\"white\",\"gridwidth\":2},\"zaxis\":{\"backgroundcolor\":\"#E5ECF6\",\"gridcolor\":\"white\",\"linecolor\":\"white\",\"showbackground\":true,\"ticks\":\"\",\"zerolinecolor\":\"white\",\"gridwidth\":2}},\"shapedefaults\":{\"line\":{\"color\":\"#2a3f5f\"}},\"annotationdefaults\":{\"arrowcolor\":\"#2a3f5f\",\"arrowhead\":0,\"arrowwidth\":1},\"geo\":{\"bgcolor\":\"white\",\"landcolor\":\"#E5ECF6\",\"subunitcolor\":\"white\",\"showland\":true,\"showlakes\":true,\"lakecolor\":\"white\"},\"title\":{\"x\":0.05},\"mapbox\":{\"style\":\"light\"}}},\"xaxis\":{\"anchor\":\"y\",\"domain\":[0.0,1.0],\"title\":{\"text\":\"date\"}},\"yaxis\":{\"anchor\":\"x\",\"domain\":[0.0,1.0],\"title\":{\"text\":\"value\"}},\"legend\":{\"title\":{\"text\":\"State\"},\"tracegroupgap\":0},\"title\":{\"text\":\"NY cases(log normalized values)\"}},                        {\"responsive\": true}                    ).then(function(){\n",
       "                            \n",
       "var gd = document.getElementById('72734308-958f-471c-b292-d79c1778c238');\n",
       "var x = new MutationObserver(function (mutations, observer) {{\n",
       "        var display = window.getComputedStyle(gd).display;\n",
       "        if (!display || display === 'none') {{\n",
       "            console.log([gd, 'removed!']);\n",
       "            Plotly.purge(gd);\n",
       "            observer.disconnect();\n",
       "        }}\n",
       "}});\n",
       "\n",
       "// Listen for the removal of the full notebook cells\n",
       "var notebookContainer = gd.closest('#notebook-container');\n",
       "if (notebookContainer) {{\n",
       "    x.observe(notebookContainer, {childList: true});\n",
       "}}\n",
       "\n",
       "// Listen for the clearing of the current output cell\n",
       "var outputEl = gd.closest('.output');\n",
       "if (outputEl) {{\n",
       "    x.observe(outputEl, {childList: true});\n",
       "}}\n",
       "\n",
       "                        })                };                });            </script>        </div>"
      ]
     },
     "metadata": {},
     "output_type": "display_data"
    }
   ],
   "source": [
    "cases_log_values_NY = px.line(NY_weekly_pattern, x = 'date', y = ['new_cases_log_norm'], color='State', title=\"NY cases(log normalized values)\")\n",
    "cases_log_values_NY.show()"
   ]
  },
  {
   "cell_type": "code",
   "execution_count": 1411,
   "id": "b5ceca89",
   "metadata": {},
   "outputs": [
    {
     "data": {
      "application/vnd.plotly.v1+json": {
       "config": {
        "plotlyServerURL": "https://plot.ly"
       },
       "data": [
        {
         "hovertemplate": "State=NY<br>variable=new_deaths_log_norm<br>date=%{x}<br>value=%{y}<extra></extra>",
         "legendgroup": "NY",
         "line": {
          "color": "#636efa",
          "dash": "solid"
         },
         "marker": {
          "symbol": "circle"
         },
         "mode": "lines",
         "name": "NY",
         "orientation": "v",
         "showlegend": true,
         "type": "scatter",
         "x": [
          "2020-01-22T00:00:00",
          "2020-01-29T00:00:00",
          "2020-02-05T00:00:00",
          "2020-02-12T00:00:00",
          "2020-02-19T00:00:00",
          "2020-02-26T00:00:00",
          "2020-03-04T00:00:00",
          "2020-03-11T00:00:00",
          "2020-03-18T00:00:00",
          "2020-03-25T00:00:00",
          "2020-04-01T00:00:00",
          "2020-04-08T00:00:00",
          "2020-04-15T00:00:00",
          "2020-04-22T00:00:00",
          "2020-04-29T00:00:00",
          "2020-05-06T00:00:00",
          "2020-05-13T00:00:00",
          "2020-05-20T00:00:00",
          "2020-05-27T00:00:00",
          "2020-06-03T00:00:00",
          "2020-06-10T00:00:00",
          "2020-06-17T00:00:00",
          "2020-06-24T00:00:00",
          "2020-07-01T00:00:00",
          "2020-07-08T00:00:00",
          "2020-07-15T00:00:00",
          "2020-07-22T00:00:00",
          "2020-07-29T00:00:00",
          "2020-08-05T00:00:00",
          "2020-08-12T00:00:00",
          "2020-08-19T00:00:00",
          "2020-08-26T00:00:00",
          "2020-09-02T00:00:00",
          "2020-09-09T00:00:00",
          "2020-09-16T00:00:00",
          "2020-09-23T00:00:00",
          "2020-09-30T00:00:00",
          "2020-10-07T00:00:00",
          "2020-10-14T00:00:00",
          "2020-10-21T00:00:00",
          "2020-10-28T00:00:00",
          "2020-11-04T00:00:00",
          "2020-11-11T00:00:00",
          "2020-11-18T00:00:00",
          "2020-11-25T00:00:00",
          "2020-12-02T00:00:00",
          "2020-12-09T00:00:00",
          "2020-12-16T00:00:00",
          "2020-12-23T00:00:00",
          "2020-12-30T00:00:00",
          "2021-01-06T00:00:00",
          "2021-01-13T00:00:00",
          "2021-01-20T00:00:00",
          "2021-01-27T00:00:00",
          "2021-02-03T00:00:00",
          "2021-02-10T00:00:00",
          "2021-02-17T00:00:00",
          "2021-02-24T00:00:00",
          "2021-03-03T00:00:00",
          "2021-03-10T00:00:00",
          "2021-03-17T00:00:00",
          "2021-03-24T00:00:00",
          "2021-03-31T00:00:00",
          "2021-04-07T00:00:00",
          "2021-04-14T00:00:00",
          "2021-04-21T00:00:00",
          "2021-04-28T00:00:00",
          "2021-05-05T00:00:00",
          "2021-05-12T00:00:00",
          "2021-05-19T00:00:00",
          "2021-05-26T00:00:00",
          "2021-06-02T00:00:00",
          "2021-06-09T00:00:00",
          "2021-06-16T00:00:00",
          "2021-06-23T00:00:00",
          "2021-06-30T00:00:00",
          "2021-07-07T00:00:00",
          "2021-07-14T00:00:00",
          "2021-07-21T00:00:00",
          "2021-07-28T00:00:00",
          "2021-08-04T00:00:00",
          "2021-08-11T00:00:00",
          "2021-08-18T00:00:00",
          "2021-08-25T00:00:00",
          "2021-09-01T00:00:00",
          "2021-09-08T00:00:00",
          "2021-09-15T00:00:00",
          "2021-09-22T00:00:00",
          "2021-09-29T00:00:00",
          "2021-10-06T00:00:00",
          "2021-10-13T00:00:00",
          "2021-10-20T00:00:00",
          "2021-10-27T00:00:00",
          "2021-11-03T00:00:00",
          "2021-11-10T00:00:00",
          "2021-11-17T00:00:00",
          "2021-11-24T00:00:00",
          "2021-12-01T00:00:00",
          "2021-12-08T00:00:00",
          "2021-12-15T00:00:00",
          "2021-12-22T00:00:00",
          "2021-12-29T00:00:00",
          "2022-01-05T00:00:00",
          "2022-01-12T00:00:00",
          "2022-01-19T00:00:00",
          "2022-01-26T00:00:00",
          "2022-02-02T00:00:00",
          "2022-02-09T00:00:00",
          "2022-02-16T00:00:00",
          "2022-02-23T00:00:00",
          "2022-03-02T00:00:00",
          "2022-03-09T00:00:00",
          "2022-03-16T00:00:00",
          "2022-03-23T00:00:00",
          "2022-03-30T00:00:00",
          "2022-04-06T00:00:00",
          "2022-04-13T00:00:00",
          "2022-04-20T00:00:00",
          "2022-04-27T00:00:00",
          "2022-05-04T00:00:00",
          "2022-05-11T00:00:00",
          "2022-05-18T00:00:00",
          "2022-05-25T00:00:00",
          "2022-06-01T00:00:00",
          "2022-06-08T00:00:00",
          "2022-06-15T00:00:00",
          "2022-06-22T00:00:00",
          "2022-06-29T00:00:00",
          "2022-07-06T00:00:00",
          "2022-07-13T00:00:00",
          "2022-07-20T00:00:00",
          "2022-07-27T00:00:00",
          "2022-08-03T00:00:00",
          "2022-08-10T00:00:00",
          "2022-08-17T00:00:00",
          "2022-08-24T00:00:00",
          "2022-08-31T00:00:00",
          "2022-09-07T00:00:00",
          "2022-09-14T00:00:00",
          "2022-09-21T00:00:00",
          "2022-09-28T00:00:00",
          "2022-10-05T00:00:00",
          "2022-10-12T00:00:00",
          "2022-10-19T00:00:00",
          "2022-10-26T00:00:00",
          "2022-11-02T00:00:00",
          "2022-11-09T00:00:00",
          "2022-11-16T00:00:00",
          "2022-11-23T00:00:00",
          "2022-11-30T00:00:00",
          "2022-12-07T00:00:00",
          "2022-12-14T00:00:00",
          "2022-12-21T00:00:00",
          "2022-12-28T00:00:00",
          "2023-01-04T00:00:00",
          "2023-01-11T00:00:00",
          "2023-01-18T00:00:00",
          "2023-01-25T00:00:00",
          "2023-02-01T00:00:00",
          "2023-02-08T00:00:00"
         ],
         "xaxis": "x",
         "y": [
          0,
          0,
          0,
          0,
          0,
          0,
          0,
          0,
          3.2958368663746995,
          6.670766320858548,
          8.689801056024235,
          9.91249684669421,
          10.59728452193782,
          10.642706921198695,
          10.370674719272603,
          9.941650013630959,
          9.886392257108,
          9.35314117060872,
          8.934850340291081,
          8.524962928682582,
          8.32506369363362,
          8.055157731822852,
          7.7823903355916295,
          7.997663127023463,
          8.338305731358957,
          7.030857476124962,
          6.879355804470727,
          6.763884908573982,
          6.464588303705537,
          6.079933195118474,
          6.192362489495322,
          6.084499413097951,
          5.988961416914926,
          5.932245187474536,
          5.786897381397383,
          5.902633333428689,
          5.707110264782099,
          6.327936783747052,
          6.320768294268568,
          6.390240667082129,
          6.447305862557061,
          6.645090969518648,
          6.879355804470727,
          7.256297239697737,
          7.467942332291563,
          7.754481547474671,
          8.048149101668399,
          8.38411883719318,
          8.505727713308982,
          8.726318950963865,
          8.997394645639655,
          9.07555104562869,
          9.143666238709258,
          9.125871215350822,
          9.090091799381135,
          9.019058793811928,
          8.921591063565314,
          8.763740720511027,
          8.638348312974477,
          8.153925132010738,
          8.600062669240373,
          8.414052432498941,
          7.703910209620822,
          7.557472901619969,
          8.660947155062665,
          8.197814032223954,
          7.963807953234929,
          7.934155233539905,
          7.764296006454765,
          7.58578882173711,
          7.24992553672509,
          6.971668604735171,
          6.864847777981299,
          6.565264970049445,
          6.139884552247807,
          5.680172609051197,
          5.726847747619771,
          5.5412635451976415,
          5.501258210585544,
          5.686975356373718,
          5.683579767372695,
          6.120297418972928,
          6.704414354976362,
          6.852242569062449,
          7.127693699355424,
          7.214504414158502,
          7.427144133414564,
          7.436617265240119,
          7.515889085220569,
          7.620705086843164,
          7.379008127634546,
          7.659171367670775,
          7.290292882453418,
          7.357556200916731,
          7.622174594822517,
          7.421775793650628,
          7.370860166543009,
          7.321849713794966,
          7.809541324657469,
          7.873978379608306,
          7.972466015978013,
          8.049427057113887,
          8.34283980427384,
          8.716371865278253,
          9.117018214745908,
          9.216223035135332,
          9.132703102250112,
          8.926118971154711,
          8.374938143837673,
          8.36962082695142,
          7.774435510307161,
          7.377133712840208,
          6.851184927504325,
          6.880384082196283,
          5.993961427331507,
          6.47850964222393,
          6.144185634147105,
          6.259581464084043,
          6.57088296235359,
          6.65286302936625,
          6.779921907483616,
          7.000334460284346,
          7.039660349870839,
          7.013015789648631,
          7.09090982208831,
          6.951772164408481,
          6.866933284472299,
          6.885509670045042,
          6.715383386346802,
          6.685860947080844,
          6.782192056018129,
          7.085064293960922,
          7.119635638025726,
          7.269616749615134,
          7.109879463080441,
          7.023758954747348,
          7.0379059634559615,
          7.023758954747348,
          6.943122422829081,
          7.089243155035854,
          6.897704943138737,
          7.193685818402625,
          6.946975992145034,
          7.2456550676016676,
          7.998335395956342,
          8.146709052206216,
          6.860663671458768,
          0,
          7.72621265051194,
          7.28824440102696,
          7.157735484257694,
          7.257707677167089,
          7.539558829306347,
          7.313220387096968,
          7.745002803520168,
          7.658699558273018,
          7.721348612622382,
          7.3251489579621625,
          7.50604217852362,
          0
         ],
         "yaxis": "y"
        }
       ],
       "layout": {
        "legend": {
         "title": {
          "text": "State"
         },
         "tracegroupgap": 0
        },
        "template": {
         "data": {
          "bar": [
           {
            "error_x": {
             "color": "#2a3f5f"
            },
            "error_y": {
             "color": "#2a3f5f"
            },
            "marker": {
             "line": {
              "color": "#E5ECF6",
              "width": 0.5
             },
             "pattern": {
              "fillmode": "overlay",
              "size": 10,
              "solidity": 0.2
             }
            },
            "type": "bar"
           }
          ],
          "barpolar": [
           {
            "marker": {
             "line": {
              "color": "#E5ECF6",
              "width": 0.5
             },
             "pattern": {
              "fillmode": "overlay",
              "size": 10,
              "solidity": 0.2
             }
            },
            "type": "barpolar"
           }
          ],
          "carpet": [
           {
            "aaxis": {
             "endlinecolor": "#2a3f5f",
             "gridcolor": "white",
             "linecolor": "white",
             "minorgridcolor": "white",
             "startlinecolor": "#2a3f5f"
            },
            "baxis": {
             "endlinecolor": "#2a3f5f",
             "gridcolor": "white",
             "linecolor": "white",
             "minorgridcolor": "white",
             "startlinecolor": "#2a3f5f"
            },
            "type": "carpet"
           }
          ],
          "choropleth": [
           {
            "colorbar": {
             "outlinewidth": 0,
             "ticks": ""
            },
            "type": "choropleth"
           }
          ],
          "contour": [
           {
            "colorbar": {
             "outlinewidth": 0,
             "ticks": ""
            },
            "colorscale": [
             [
              0,
              "#0d0887"
             ],
             [
              0.1111111111111111,
              "#46039f"
             ],
             [
              0.2222222222222222,
              "#7201a8"
             ],
             [
              0.3333333333333333,
              "#9c179e"
             ],
             [
              0.4444444444444444,
              "#bd3786"
             ],
             [
              0.5555555555555556,
              "#d8576b"
             ],
             [
              0.6666666666666666,
              "#ed7953"
             ],
             [
              0.7777777777777778,
              "#fb9f3a"
             ],
             [
              0.8888888888888888,
              "#fdca26"
             ],
             [
              1,
              "#f0f921"
             ]
            ],
            "type": "contour"
           }
          ],
          "contourcarpet": [
           {
            "colorbar": {
             "outlinewidth": 0,
             "ticks": ""
            },
            "type": "contourcarpet"
           }
          ],
          "heatmap": [
           {
            "colorbar": {
             "outlinewidth": 0,
             "ticks": ""
            },
            "colorscale": [
             [
              0,
              "#0d0887"
             ],
             [
              0.1111111111111111,
              "#46039f"
             ],
             [
              0.2222222222222222,
              "#7201a8"
             ],
             [
              0.3333333333333333,
              "#9c179e"
             ],
             [
              0.4444444444444444,
              "#bd3786"
             ],
             [
              0.5555555555555556,
              "#d8576b"
             ],
             [
              0.6666666666666666,
              "#ed7953"
             ],
             [
              0.7777777777777778,
              "#fb9f3a"
             ],
             [
              0.8888888888888888,
              "#fdca26"
             ],
             [
              1,
              "#f0f921"
             ]
            ],
            "type": "heatmap"
           }
          ],
          "heatmapgl": [
           {
            "colorbar": {
             "outlinewidth": 0,
             "ticks": ""
            },
            "colorscale": [
             [
              0,
              "#0d0887"
             ],
             [
              0.1111111111111111,
              "#46039f"
             ],
             [
              0.2222222222222222,
              "#7201a8"
             ],
             [
              0.3333333333333333,
              "#9c179e"
             ],
             [
              0.4444444444444444,
              "#bd3786"
             ],
             [
              0.5555555555555556,
              "#d8576b"
             ],
             [
              0.6666666666666666,
              "#ed7953"
             ],
             [
              0.7777777777777778,
              "#fb9f3a"
             ],
             [
              0.8888888888888888,
              "#fdca26"
             ],
             [
              1,
              "#f0f921"
             ]
            ],
            "type": "heatmapgl"
           }
          ],
          "histogram": [
           {
            "marker": {
             "pattern": {
              "fillmode": "overlay",
              "size": 10,
              "solidity": 0.2
             }
            },
            "type": "histogram"
           }
          ],
          "histogram2d": [
           {
            "colorbar": {
             "outlinewidth": 0,
             "ticks": ""
            },
            "colorscale": [
             [
              0,
              "#0d0887"
             ],
             [
              0.1111111111111111,
              "#46039f"
             ],
             [
              0.2222222222222222,
              "#7201a8"
             ],
             [
              0.3333333333333333,
              "#9c179e"
             ],
             [
              0.4444444444444444,
              "#bd3786"
             ],
             [
              0.5555555555555556,
              "#d8576b"
             ],
             [
              0.6666666666666666,
              "#ed7953"
             ],
             [
              0.7777777777777778,
              "#fb9f3a"
             ],
             [
              0.8888888888888888,
              "#fdca26"
             ],
             [
              1,
              "#f0f921"
             ]
            ],
            "type": "histogram2d"
           }
          ],
          "histogram2dcontour": [
           {
            "colorbar": {
             "outlinewidth": 0,
             "ticks": ""
            },
            "colorscale": [
             [
              0,
              "#0d0887"
             ],
             [
              0.1111111111111111,
              "#46039f"
             ],
             [
              0.2222222222222222,
              "#7201a8"
             ],
             [
              0.3333333333333333,
              "#9c179e"
             ],
             [
              0.4444444444444444,
              "#bd3786"
             ],
             [
              0.5555555555555556,
              "#d8576b"
             ],
             [
              0.6666666666666666,
              "#ed7953"
             ],
             [
              0.7777777777777778,
              "#fb9f3a"
             ],
             [
              0.8888888888888888,
              "#fdca26"
             ],
             [
              1,
              "#f0f921"
             ]
            ],
            "type": "histogram2dcontour"
           }
          ],
          "mesh3d": [
           {
            "colorbar": {
             "outlinewidth": 0,
             "ticks": ""
            },
            "type": "mesh3d"
           }
          ],
          "parcoords": [
           {
            "line": {
             "colorbar": {
              "outlinewidth": 0,
              "ticks": ""
             }
            },
            "type": "parcoords"
           }
          ],
          "pie": [
           {
            "automargin": true,
            "type": "pie"
           }
          ],
          "scatter": [
           {
            "fillpattern": {
             "fillmode": "overlay",
             "size": 10,
             "solidity": 0.2
            },
            "type": "scatter"
           }
          ],
          "scatter3d": [
           {
            "line": {
             "colorbar": {
              "outlinewidth": 0,
              "ticks": ""
             }
            },
            "marker": {
             "colorbar": {
              "outlinewidth": 0,
              "ticks": ""
             }
            },
            "type": "scatter3d"
           }
          ],
          "scattercarpet": [
           {
            "marker": {
             "colorbar": {
              "outlinewidth": 0,
              "ticks": ""
             }
            },
            "type": "scattercarpet"
           }
          ],
          "scattergeo": [
           {
            "marker": {
             "colorbar": {
              "outlinewidth": 0,
              "ticks": ""
             }
            },
            "type": "scattergeo"
           }
          ],
          "scattergl": [
           {
            "marker": {
             "colorbar": {
              "outlinewidth": 0,
              "ticks": ""
             }
            },
            "type": "scattergl"
           }
          ],
          "scattermapbox": [
           {
            "marker": {
             "colorbar": {
              "outlinewidth": 0,
              "ticks": ""
             }
            },
            "type": "scattermapbox"
           }
          ],
          "scatterpolar": [
           {
            "marker": {
             "colorbar": {
              "outlinewidth": 0,
              "ticks": ""
             }
            },
            "type": "scatterpolar"
           }
          ],
          "scatterpolargl": [
           {
            "marker": {
             "colorbar": {
              "outlinewidth": 0,
              "ticks": ""
             }
            },
            "type": "scatterpolargl"
           }
          ],
          "scatterternary": [
           {
            "marker": {
             "colorbar": {
              "outlinewidth": 0,
              "ticks": ""
             }
            },
            "type": "scatterternary"
           }
          ],
          "surface": [
           {
            "colorbar": {
             "outlinewidth": 0,
             "ticks": ""
            },
            "colorscale": [
             [
              0,
              "#0d0887"
             ],
             [
              0.1111111111111111,
              "#46039f"
             ],
             [
              0.2222222222222222,
              "#7201a8"
             ],
             [
              0.3333333333333333,
              "#9c179e"
             ],
             [
              0.4444444444444444,
              "#bd3786"
             ],
             [
              0.5555555555555556,
              "#d8576b"
             ],
             [
              0.6666666666666666,
              "#ed7953"
             ],
             [
              0.7777777777777778,
              "#fb9f3a"
             ],
             [
              0.8888888888888888,
              "#fdca26"
             ],
             [
              1,
              "#f0f921"
             ]
            ],
            "type": "surface"
           }
          ],
          "table": [
           {
            "cells": {
             "fill": {
              "color": "#EBF0F8"
             },
             "line": {
              "color": "white"
             }
            },
            "header": {
             "fill": {
              "color": "#C8D4E3"
             },
             "line": {
              "color": "white"
             }
            },
            "type": "table"
           }
          ]
         },
         "layout": {
          "annotationdefaults": {
           "arrowcolor": "#2a3f5f",
           "arrowhead": 0,
           "arrowwidth": 1
          },
          "autotypenumbers": "strict",
          "coloraxis": {
           "colorbar": {
            "outlinewidth": 0,
            "ticks": ""
           }
          },
          "colorscale": {
           "diverging": [
            [
             0,
             "#8e0152"
            ],
            [
             0.1,
             "#c51b7d"
            ],
            [
             0.2,
             "#de77ae"
            ],
            [
             0.3,
             "#f1b6da"
            ],
            [
             0.4,
             "#fde0ef"
            ],
            [
             0.5,
             "#f7f7f7"
            ],
            [
             0.6,
             "#e6f5d0"
            ],
            [
             0.7,
             "#b8e186"
            ],
            [
             0.8,
             "#7fbc41"
            ],
            [
             0.9,
             "#4d9221"
            ],
            [
             1,
             "#276419"
            ]
           ],
           "sequential": [
            [
             0,
             "#0d0887"
            ],
            [
             0.1111111111111111,
             "#46039f"
            ],
            [
             0.2222222222222222,
             "#7201a8"
            ],
            [
             0.3333333333333333,
             "#9c179e"
            ],
            [
             0.4444444444444444,
             "#bd3786"
            ],
            [
             0.5555555555555556,
             "#d8576b"
            ],
            [
             0.6666666666666666,
             "#ed7953"
            ],
            [
             0.7777777777777778,
             "#fb9f3a"
            ],
            [
             0.8888888888888888,
             "#fdca26"
            ],
            [
             1,
             "#f0f921"
            ]
           ],
           "sequentialminus": [
            [
             0,
             "#0d0887"
            ],
            [
             0.1111111111111111,
             "#46039f"
            ],
            [
             0.2222222222222222,
             "#7201a8"
            ],
            [
             0.3333333333333333,
             "#9c179e"
            ],
            [
             0.4444444444444444,
             "#bd3786"
            ],
            [
             0.5555555555555556,
             "#d8576b"
            ],
            [
             0.6666666666666666,
             "#ed7953"
            ],
            [
             0.7777777777777778,
             "#fb9f3a"
            ],
            [
             0.8888888888888888,
             "#fdca26"
            ],
            [
             1,
             "#f0f921"
            ]
           ]
          },
          "colorway": [
           "#636efa",
           "#EF553B",
           "#00cc96",
           "#ab63fa",
           "#FFA15A",
           "#19d3f3",
           "#FF6692",
           "#B6E880",
           "#FF97FF",
           "#FECB52"
          ],
          "font": {
           "color": "#2a3f5f"
          },
          "geo": {
           "bgcolor": "white",
           "lakecolor": "white",
           "landcolor": "#E5ECF6",
           "showlakes": true,
           "showland": true,
           "subunitcolor": "white"
          },
          "hoverlabel": {
           "align": "left"
          },
          "hovermode": "closest",
          "mapbox": {
           "style": "light"
          },
          "paper_bgcolor": "white",
          "plot_bgcolor": "#E5ECF6",
          "polar": {
           "angularaxis": {
            "gridcolor": "white",
            "linecolor": "white",
            "ticks": ""
           },
           "bgcolor": "#E5ECF6",
           "radialaxis": {
            "gridcolor": "white",
            "linecolor": "white",
            "ticks": ""
           }
          },
          "scene": {
           "xaxis": {
            "backgroundcolor": "#E5ECF6",
            "gridcolor": "white",
            "gridwidth": 2,
            "linecolor": "white",
            "showbackground": true,
            "ticks": "",
            "zerolinecolor": "white"
           },
           "yaxis": {
            "backgroundcolor": "#E5ECF6",
            "gridcolor": "white",
            "gridwidth": 2,
            "linecolor": "white",
            "showbackground": true,
            "ticks": "",
            "zerolinecolor": "white"
           },
           "zaxis": {
            "backgroundcolor": "#E5ECF6",
            "gridcolor": "white",
            "gridwidth": 2,
            "linecolor": "white",
            "showbackground": true,
            "ticks": "",
            "zerolinecolor": "white"
           }
          },
          "shapedefaults": {
           "line": {
            "color": "#2a3f5f"
           }
          },
          "ternary": {
           "aaxis": {
            "gridcolor": "white",
            "linecolor": "white",
            "ticks": ""
           },
           "baxis": {
            "gridcolor": "white",
            "linecolor": "white",
            "ticks": ""
           },
           "bgcolor": "#E5ECF6",
           "caxis": {
            "gridcolor": "white",
            "linecolor": "white",
            "ticks": ""
           }
          },
          "title": {
           "x": 0.05
          },
          "xaxis": {
           "automargin": true,
           "gridcolor": "white",
           "linecolor": "white",
           "ticks": "",
           "title": {
            "standoff": 15
           },
           "zerolinecolor": "white",
           "zerolinewidth": 2
          },
          "yaxis": {
           "automargin": true,
           "gridcolor": "white",
           "linecolor": "white",
           "ticks": "",
           "title": {
            "standoff": 15
           },
           "zerolinecolor": "white",
           "zerolinewidth": 2
          }
         }
        },
        "title": {
         "text": "NY deaths(log normalized values)"
        },
        "xaxis": {
         "anchor": "y",
         "domain": [
          0,
          1
         ],
         "title": {
          "text": "date"
         }
        },
        "yaxis": {
         "anchor": "x",
         "domain": [
          0,
          1
         ],
         "title": {
          "text": "value"
         }
        }
       }
      },
      "text/html": [
       "<div>                            <div id=\"8047f7e8-c755-45d6-9c76-a41f8ccbab89\" class=\"plotly-graph-div\" style=\"height:525px; width:100%;\"></div>            <script type=\"text/javascript\">                require([\"plotly\"], function(Plotly) {                    window.PLOTLYENV=window.PLOTLYENV || {};                                    if (document.getElementById(\"8047f7e8-c755-45d6-9c76-a41f8ccbab89\")) {                    Plotly.newPlot(                        \"8047f7e8-c755-45d6-9c76-a41f8ccbab89\",                        [{\"hovertemplate\":\"State=NY<br>variable=new_deaths_log_norm<br>date=%{x}<br>value=%{y}<extra></extra>\",\"legendgroup\":\"NY\",\"line\":{\"color\":\"#636efa\",\"dash\":\"solid\"},\"marker\":{\"symbol\":\"circle\"},\"mode\":\"lines\",\"name\":\"NY\",\"orientation\":\"v\",\"showlegend\":true,\"x\":[\"2020-01-22T00:00:00\",\"2020-01-29T00:00:00\",\"2020-02-05T00:00:00\",\"2020-02-12T00:00:00\",\"2020-02-19T00:00:00\",\"2020-02-26T00:00:00\",\"2020-03-04T00:00:00\",\"2020-03-11T00:00:00\",\"2020-03-18T00:00:00\",\"2020-03-25T00:00:00\",\"2020-04-01T00:00:00\",\"2020-04-08T00:00:00\",\"2020-04-15T00:00:00\",\"2020-04-22T00:00:00\",\"2020-04-29T00:00:00\",\"2020-05-06T00:00:00\",\"2020-05-13T00:00:00\",\"2020-05-20T00:00:00\",\"2020-05-27T00:00:00\",\"2020-06-03T00:00:00\",\"2020-06-10T00:00:00\",\"2020-06-17T00:00:00\",\"2020-06-24T00:00:00\",\"2020-07-01T00:00:00\",\"2020-07-08T00:00:00\",\"2020-07-15T00:00:00\",\"2020-07-22T00:00:00\",\"2020-07-29T00:00:00\",\"2020-08-05T00:00:00\",\"2020-08-12T00:00:00\",\"2020-08-19T00:00:00\",\"2020-08-26T00:00:00\",\"2020-09-02T00:00:00\",\"2020-09-09T00:00:00\",\"2020-09-16T00:00:00\",\"2020-09-23T00:00:00\",\"2020-09-30T00:00:00\",\"2020-10-07T00:00:00\",\"2020-10-14T00:00:00\",\"2020-10-21T00:00:00\",\"2020-10-28T00:00:00\",\"2020-11-04T00:00:00\",\"2020-11-11T00:00:00\",\"2020-11-18T00:00:00\",\"2020-11-25T00:00:00\",\"2020-12-02T00:00:00\",\"2020-12-09T00:00:00\",\"2020-12-16T00:00:00\",\"2020-12-23T00:00:00\",\"2020-12-30T00:00:00\",\"2021-01-06T00:00:00\",\"2021-01-13T00:00:00\",\"2021-01-20T00:00:00\",\"2021-01-27T00:00:00\",\"2021-02-03T00:00:00\",\"2021-02-10T00:00:00\",\"2021-02-17T00:00:00\",\"2021-02-24T00:00:00\",\"2021-03-03T00:00:00\",\"2021-03-10T00:00:00\",\"2021-03-17T00:00:00\",\"2021-03-24T00:00:00\",\"2021-03-31T00:00:00\",\"2021-04-07T00:00:00\",\"2021-04-14T00:00:00\",\"2021-04-21T00:00:00\",\"2021-04-28T00:00:00\",\"2021-05-05T00:00:00\",\"2021-05-12T00:00:00\",\"2021-05-19T00:00:00\",\"2021-05-26T00:00:00\",\"2021-06-02T00:00:00\",\"2021-06-09T00:00:00\",\"2021-06-16T00:00:00\",\"2021-06-23T00:00:00\",\"2021-06-30T00:00:00\",\"2021-07-07T00:00:00\",\"2021-07-14T00:00:00\",\"2021-07-21T00:00:00\",\"2021-07-28T00:00:00\",\"2021-08-04T00:00:00\",\"2021-08-11T00:00:00\",\"2021-08-18T00:00:00\",\"2021-08-25T00:00:00\",\"2021-09-01T00:00:00\",\"2021-09-08T00:00:00\",\"2021-09-15T00:00:00\",\"2021-09-22T00:00:00\",\"2021-09-29T00:00:00\",\"2021-10-06T00:00:00\",\"2021-10-13T00:00:00\",\"2021-10-20T00:00:00\",\"2021-10-27T00:00:00\",\"2021-11-03T00:00:00\",\"2021-11-10T00:00:00\",\"2021-11-17T00:00:00\",\"2021-11-24T00:00:00\",\"2021-12-01T00:00:00\",\"2021-12-08T00:00:00\",\"2021-12-15T00:00:00\",\"2021-12-22T00:00:00\",\"2021-12-29T00:00:00\",\"2022-01-05T00:00:00\",\"2022-01-12T00:00:00\",\"2022-01-19T00:00:00\",\"2022-01-26T00:00:00\",\"2022-02-02T00:00:00\",\"2022-02-09T00:00:00\",\"2022-02-16T00:00:00\",\"2022-02-23T00:00:00\",\"2022-03-02T00:00:00\",\"2022-03-09T00:00:00\",\"2022-03-16T00:00:00\",\"2022-03-23T00:00:00\",\"2022-03-30T00:00:00\",\"2022-04-06T00:00:00\",\"2022-04-13T00:00:00\",\"2022-04-20T00:00:00\",\"2022-04-27T00:00:00\",\"2022-05-04T00:00:00\",\"2022-05-11T00:00:00\",\"2022-05-18T00:00:00\",\"2022-05-25T00:00:00\",\"2022-06-01T00:00:00\",\"2022-06-08T00:00:00\",\"2022-06-15T00:00:00\",\"2022-06-22T00:00:00\",\"2022-06-29T00:00:00\",\"2022-07-06T00:00:00\",\"2022-07-13T00:00:00\",\"2022-07-20T00:00:00\",\"2022-07-27T00:00:00\",\"2022-08-03T00:00:00\",\"2022-08-10T00:00:00\",\"2022-08-17T00:00:00\",\"2022-08-24T00:00:00\",\"2022-08-31T00:00:00\",\"2022-09-07T00:00:00\",\"2022-09-14T00:00:00\",\"2022-09-21T00:00:00\",\"2022-09-28T00:00:00\",\"2022-10-05T00:00:00\",\"2022-10-12T00:00:00\",\"2022-10-19T00:00:00\",\"2022-10-26T00:00:00\",\"2022-11-02T00:00:00\",\"2022-11-09T00:00:00\",\"2022-11-16T00:00:00\",\"2022-11-23T00:00:00\",\"2022-11-30T00:00:00\",\"2022-12-07T00:00:00\",\"2022-12-14T00:00:00\",\"2022-12-21T00:00:00\",\"2022-12-28T00:00:00\",\"2023-01-04T00:00:00\",\"2023-01-11T00:00:00\",\"2023-01-18T00:00:00\",\"2023-01-25T00:00:00\",\"2023-02-01T00:00:00\",\"2023-02-08T00:00:00\"],\"xaxis\":\"x\",\"y\":[0.0,0.0,0.0,0.0,0.0,0.0,0.0,0.0,3.2958368663746995,6.670766320858548,8.689801056024235,9.91249684669421,10.59728452193782,10.642706921198695,10.370674719272603,9.941650013630959,9.886392257108,9.35314117060872,8.934850340291081,8.524962928682582,8.32506369363362,8.055157731822852,7.7823903355916295,7.997663127023463,8.338305731358957,7.030857476124962,6.879355804470727,6.763884908573982,6.464588303705537,6.079933195118474,6.192362489495322,6.084499413097951,5.988961416914926,5.932245187474536,5.786897381397383,5.902633333428689,5.707110264782099,6.327936783747052,6.320768294268568,6.390240667082129,6.447305862557061,6.645090969518648,6.879355804470727,7.256297239697737,7.467942332291563,7.754481547474671,8.048149101668399,8.38411883719318,8.505727713308982,8.726318950963865,8.997394645639655,9.07555104562869,9.143666238709258,9.125871215350822,9.090091799381135,9.019058793811928,8.921591063565314,8.763740720511027,8.638348312974477,8.153925132010738,8.600062669240373,8.414052432498941,7.703910209620822,7.557472901619969,8.660947155062665,8.197814032223954,7.963807953234929,7.934155233539905,7.764296006454765,7.58578882173711,7.24992553672509,6.971668604735171,6.864847777981299,6.565264970049445,6.139884552247807,5.680172609051197,5.726847747619771,5.5412635451976415,5.501258210585544,5.686975356373718,5.683579767372695,6.120297418972928,6.704414354976362,6.852242569062449,7.127693699355424,7.214504414158502,7.427144133414564,7.436617265240119,7.515889085220569,7.620705086843164,7.379008127634546,7.659171367670775,7.290292882453418,7.357556200916731,7.622174594822517,7.421775793650628,7.370860166543009,7.321849713794966,7.809541324657469,7.873978379608306,7.972466015978013,8.049427057113887,8.34283980427384,8.716371865278253,9.117018214745908,9.216223035135332,9.132703102250112,8.926118971154711,8.374938143837673,8.36962082695142,7.774435510307161,7.377133712840208,6.851184927504325,6.880384082196283,5.993961427331507,6.47850964222393,6.144185634147105,6.259581464084043,6.57088296235359,6.65286302936625,6.779921907483616,7.000334460284346,7.039660349870839,7.013015789648631,7.09090982208831,6.951772164408481,6.866933284472299,6.885509670045042,6.715383386346802,6.685860947080844,6.782192056018129,7.085064293960922,7.119635638025726,7.269616749615134,7.109879463080441,7.023758954747348,7.0379059634559615,7.023758954747348,6.943122422829081,7.089243155035854,6.897704943138737,7.193685818402625,6.946975992145034,7.2456550676016676,7.998335395956342,8.146709052206216,6.860663671458768,0.0,7.72621265051194,7.28824440102696,7.157735484257694,7.257707677167089,7.539558829306347,7.313220387096968,7.745002803520168,7.658699558273018,7.721348612622382,7.3251489579621625,7.50604217852362,0.0],\"yaxis\":\"y\",\"type\":\"scatter\"}],                        {\"template\":{\"data\":{\"histogram2dcontour\":[{\"type\":\"histogram2dcontour\",\"colorbar\":{\"outlinewidth\":0,\"ticks\":\"\"},\"colorscale\":[[0.0,\"#0d0887\"],[0.1111111111111111,\"#46039f\"],[0.2222222222222222,\"#7201a8\"],[0.3333333333333333,\"#9c179e\"],[0.4444444444444444,\"#bd3786\"],[0.5555555555555556,\"#d8576b\"],[0.6666666666666666,\"#ed7953\"],[0.7777777777777778,\"#fb9f3a\"],[0.8888888888888888,\"#fdca26\"],[1.0,\"#f0f921\"]]}],\"choropleth\":[{\"type\":\"choropleth\",\"colorbar\":{\"outlinewidth\":0,\"ticks\":\"\"}}],\"histogram2d\":[{\"type\":\"histogram2d\",\"colorbar\":{\"outlinewidth\":0,\"ticks\":\"\"},\"colorscale\":[[0.0,\"#0d0887\"],[0.1111111111111111,\"#46039f\"],[0.2222222222222222,\"#7201a8\"],[0.3333333333333333,\"#9c179e\"],[0.4444444444444444,\"#bd3786\"],[0.5555555555555556,\"#d8576b\"],[0.6666666666666666,\"#ed7953\"],[0.7777777777777778,\"#fb9f3a\"],[0.8888888888888888,\"#fdca26\"],[1.0,\"#f0f921\"]]}],\"heatmap\":[{\"type\":\"heatmap\",\"colorbar\":{\"outlinewidth\":0,\"ticks\":\"\"},\"colorscale\":[[0.0,\"#0d0887\"],[0.1111111111111111,\"#46039f\"],[0.2222222222222222,\"#7201a8\"],[0.3333333333333333,\"#9c179e\"],[0.4444444444444444,\"#bd3786\"],[0.5555555555555556,\"#d8576b\"],[0.6666666666666666,\"#ed7953\"],[0.7777777777777778,\"#fb9f3a\"],[0.8888888888888888,\"#fdca26\"],[1.0,\"#f0f921\"]]}],\"heatmapgl\":[{\"type\":\"heatmapgl\",\"colorbar\":{\"outlinewidth\":0,\"ticks\":\"\"},\"colorscale\":[[0.0,\"#0d0887\"],[0.1111111111111111,\"#46039f\"],[0.2222222222222222,\"#7201a8\"],[0.3333333333333333,\"#9c179e\"],[0.4444444444444444,\"#bd3786\"],[0.5555555555555556,\"#d8576b\"],[0.6666666666666666,\"#ed7953\"],[0.7777777777777778,\"#fb9f3a\"],[0.8888888888888888,\"#fdca26\"],[1.0,\"#f0f921\"]]}],\"contourcarpet\":[{\"type\":\"contourcarpet\",\"colorbar\":{\"outlinewidth\":0,\"ticks\":\"\"}}],\"contour\":[{\"type\":\"contour\",\"colorbar\":{\"outlinewidth\":0,\"ticks\":\"\"},\"colorscale\":[[0.0,\"#0d0887\"],[0.1111111111111111,\"#46039f\"],[0.2222222222222222,\"#7201a8\"],[0.3333333333333333,\"#9c179e\"],[0.4444444444444444,\"#bd3786\"],[0.5555555555555556,\"#d8576b\"],[0.6666666666666666,\"#ed7953\"],[0.7777777777777778,\"#fb9f3a\"],[0.8888888888888888,\"#fdca26\"],[1.0,\"#f0f921\"]]}],\"surface\":[{\"type\":\"surface\",\"colorbar\":{\"outlinewidth\":0,\"ticks\":\"\"},\"colorscale\":[[0.0,\"#0d0887\"],[0.1111111111111111,\"#46039f\"],[0.2222222222222222,\"#7201a8\"],[0.3333333333333333,\"#9c179e\"],[0.4444444444444444,\"#bd3786\"],[0.5555555555555556,\"#d8576b\"],[0.6666666666666666,\"#ed7953\"],[0.7777777777777778,\"#fb9f3a\"],[0.8888888888888888,\"#fdca26\"],[1.0,\"#f0f921\"]]}],\"mesh3d\":[{\"type\":\"mesh3d\",\"colorbar\":{\"outlinewidth\":0,\"ticks\":\"\"}}],\"scatter\":[{\"fillpattern\":{\"fillmode\":\"overlay\",\"size\":10,\"solidity\":0.2},\"type\":\"scatter\"}],\"parcoords\":[{\"type\":\"parcoords\",\"line\":{\"colorbar\":{\"outlinewidth\":0,\"ticks\":\"\"}}}],\"scatterpolargl\":[{\"type\":\"scatterpolargl\",\"marker\":{\"colorbar\":{\"outlinewidth\":0,\"ticks\":\"\"}}}],\"bar\":[{\"error_x\":{\"color\":\"#2a3f5f\"},\"error_y\":{\"color\":\"#2a3f5f\"},\"marker\":{\"line\":{\"color\":\"#E5ECF6\",\"width\":0.5},\"pattern\":{\"fillmode\":\"overlay\",\"size\":10,\"solidity\":0.2}},\"type\":\"bar\"}],\"scattergeo\":[{\"type\":\"scattergeo\",\"marker\":{\"colorbar\":{\"outlinewidth\":0,\"ticks\":\"\"}}}],\"scatterpolar\":[{\"type\":\"scatterpolar\",\"marker\":{\"colorbar\":{\"outlinewidth\":0,\"ticks\":\"\"}}}],\"histogram\":[{\"marker\":{\"pattern\":{\"fillmode\":\"overlay\",\"size\":10,\"solidity\":0.2}},\"type\":\"histogram\"}],\"scattergl\":[{\"type\":\"scattergl\",\"marker\":{\"colorbar\":{\"outlinewidth\":0,\"ticks\":\"\"}}}],\"scatter3d\":[{\"type\":\"scatter3d\",\"line\":{\"colorbar\":{\"outlinewidth\":0,\"ticks\":\"\"}},\"marker\":{\"colorbar\":{\"outlinewidth\":0,\"ticks\":\"\"}}}],\"scattermapbox\":[{\"type\":\"scattermapbox\",\"marker\":{\"colorbar\":{\"outlinewidth\":0,\"ticks\":\"\"}}}],\"scatterternary\":[{\"type\":\"scatterternary\",\"marker\":{\"colorbar\":{\"outlinewidth\":0,\"ticks\":\"\"}}}],\"scattercarpet\":[{\"type\":\"scattercarpet\",\"marker\":{\"colorbar\":{\"outlinewidth\":0,\"ticks\":\"\"}}}],\"carpet\":[{\"aaxis\":{\"endlinecolor\":\"#2a3f5f\",\"gridcolor\":\"white\",\"linecolor\":\"white\",\"minorgridcolor\":\"white\",\"startlinecolor\":\"#2a3f5f\"},\"baxis\":{\"endlinecolor\":\"#2a3f5f\",\"gridcolor\":\"white\",\"linecolor\":\"white\",\"minorgridcolor\":\"white\",\"startlinecolor\":\"#2a3f5f\"},\"type\":\"carpet\"}],\"table\":[{\"cells\":{\"fill\":{\"color\":\"#EBF0F8\"},\"line\":{\"color\":\"white\"}},\"header\":{\"fill\":{\"color\":\"#C8D4E3\"},\"line\":{\"color\":\"white\"}},\"type\":\"table\"}],\"barpolar\":[{\"marker\":{\"line\":{\"color\":\"#E5ECF6\",\"width\":0.5},\"pattern\":{\"fillmode\":\"overlay\",\"size\":10,\"solidity\":0.2}},\"type\":\"barpolar\"}],\"pie\":[{\"automargin\":true,\"type\":\"pie\"}]},\"layout\":{\"autotypenumbers\":\"strict\",\"colorway\":[\"#636efa\",\"#EF553B\",\"#00cc96\",\"#ab63fa\",\"#FFA15A\",\"#19d3f3\",\"#FF6692\",\"#B6E880\",\"#FF97FF\",\"#FECB52\"],\"font\":{\"color\":\"#2a3f5f\"},\"hovermode\":\"closest\",\"hoverlabel\":{\"align\":\"left\"},\"paper_bgcolor\":\"white\",\"plot_bgcolor\":\"#E5ECF6\",\"polar\":{\"bgcolor\":\"#E5ECF6\",\"angularaxis\":{\"gridcolor\":\"white\",\"linecolor\":\"white\",\"ticks\":\"\"},\"radialaxis\":{\"gridcolor\":\"white\",\"linecolor\":\"white\",\"ticks\":\"\"}},\"ternary\":{\"bgcolor\":\"#E5ECF6\",\"aaxis\":{\"gridcolor\":\"white\",\"linecolor\":\"white\",\"ticks\":\"\"},\"baxis\":{\"gridcolor\":\"white\",\"linecolor\":\"white\",\"ticks\":\"\"},\"caxis\":{\"gridcolor\":\"white\",\"linecolor\":\"white\",\"ticks\":\"\"}},\"coloraxis\":{\"colorbar\":{\"outlinewidth\":0,\"ticks\":\"\"}},\"colorscale\":{\"sequential\":[[0.0,\"#0d0887\"],[0.1111111111111111,\"#46039f\"],[0.2222222222222222,\"#7201a8\"],[0.3333333333333333,\"#9c179e\"],[0.4444444444444444,\"#bd3786\"],[0.5555555555555556,\"#d8576b\"],[0.6666666666666666,\"#ed7953\"],[0.7777777777777778,\"#fb9f3a\"],[0.8888888888888888,\"#fdca26\"],[1.0,\"#f0f921\"]],\"sequentialminus\":[[0.0,\"#0d0887\"],[0.1111111111111111,\"#46039f\"],[0.2222222222222222,\"#7201a8\"],[0.3333333333333333,\"#9c179e\"],[0.4444444444444444,\"#bd3786\"],[0.5555555555555556,\"#d8576b\"],[0.6666666666666666,\"#ed7953\"],[0.7777777777777778,\"#fb9f3a\"],[0.8888888888888888,\"#fdca26\"],[1.0,\"#f0f921\"]],\"diverging\":[[0,\"#8e0152\"],[0.1,\"#c51b7d\"],[0.2,\"#de77ae\"],[0.3,\"#f1b6da\"],[0.4,\"#fde0ef\"],[0.5,\"#f7f7f7\"],[0.6,\"#e6f5d0\"],[0.7,\"#b8e186\"],[0.8,\"#7fbc41\"],[0.9,\"#4d9221\"],[1,\"#276419\"]]},\"xaxis\":{\"gridcolor\":\"white\",\"linecolor\":\"white\",\"ticks\":\"\",\"title\":{\"standoff\":15},\"zerolinecolor\":\"white\",\"automargin\":true,\"zerolinewidth\":2},\"yaxis\":{\"gridcolor\":\"white\",\"linecolor\":\"white\",\"ticks\":\"\",\"title\":{\"standoff\":15},\"zerolinecolor\":\"white\",\"automargin\":true,\"zerolinewidth\":2},\"scene\":{\"xaxis\":{\"backgroundcolor\":\"#E5ECF6\",\"gridcolor\":\"white\",\"linecolor\":\"white\",\"showbackground\":true,\"ticks\":\"\",\"zerolinecolor\":\"white\",\"gridwidth\":2},\"yaxis\":{\"backgroundcolor\":\"#E5ECF6\",\"gridcolor\":\"white\",\"linecolor\":\"white\",\"showbackground\":true,\"ticks\":\"\",\"zerolinecolor\":\"white\",\"gridwidth\":2},\"zaxis\":{\"backgroundcolor\":\"#E5ECF6\",\"gridcolor\":\"white\",\"linecolor\":\"white\",\"showbackground\":true,\"ticks\":\"\",\"zerolinecolor\":\"white\",\"gridwidth\":2}},\"shapedefaults\":{\"line\":{\"color\":\"#2a3f5f\"}},\"annotationdefaults\":{\"arrowcolor\":\"#2a3f5f\",\"arrowhead\":0,\"arrowwidth\":1},\"geo\":{\"bgcolor\":\"white\",\"landcolor\":\"#E5ECF6\",\"subunitcolor\":\"white\",\"showland\":true,\"showlakes\":true,\"lakecolor\":\"white\"},\"title\":{\"x\":0.05},\"mapbox\":{\"style\":\"light\"}}},\"xaxis\":{\"anchor\":\"y\",\"domain\":[0.0,1.0],\"title\":{\"text\":\"date\"}},\"yaxis\":{\"anchor\":\"x\",\"domain\":[0.0,1.0],\"title\":{\"text\":\"value\"}},\"legend\":{\"title\":{\"text\":\"State\"},\"tracegroupgap\":0},\"title\":{\"text\":\"NY deaths(log normalized values)\"}},                        {\"responsive\": true}                    ).then(function(){\n",
       "                            \n",
       "var gd = document.getElementById('8047f7e8-c755-45d6-9c76-a41f8ccbab89');\n",
       "var x = new MutationObserver(function (mutations, observer) {{\n",
       "        var display = window.getComputedStyle(gd).display;\n",
       "        if (!display || display === 'none') {{\n",
       "            console.log([gd, 'removed!']);\n",
       "            Plotly.purge(gd);\n",
       "            observer.disconnect();\n",
       "        }}\n",
       "}});\n",
       "\n",
       "// Listen for the removal of the full notebook cells\n",
       "var notebookContainer = gd.closest('#notebook-container');\n",
       "if (notebookContainer) {{\n",
       "    x.observe(notebookContainer, {childList: true});\n",
       "}}\n",
       "\n",
       "// Listen for the clearing of the current output cell\n",
       "var outputEl = gd.closest('.output');\n",
       "if (outputEl) {{\n",
       "    x.observe(outputEl, {childList: true});\n",
       "}}\n",
       "\n",
       "                        })                };                });            </script>        </div>"
      ]
     },
     "metadata": {},
     "output_type": "display_data"
    }
   ],
   "source": [
    "deaths_log_values_NY = px.line(NY_weekly_pattern, x = 'date', y = ['new_deaths_log_norm'], color='State', title=\"NY deaths(log normalized values)\")\n",
    "deaths_log_values_NY.show()"
   ]
  },
  {
   "cell_type": "markdown",
   "id": "fbf85905",
   "metadata": {},
   "source": [
    "### Plot weekly trends (new cases and deaths) for the top 3 infected counties. Show plots by raw values and log normalized values. Describe what is causing them and what were the peaks. Do the counties follow state pattern."
   ]
  },
  {
   "cell_type": "code",
   "execution_count": 1412,
   "id": "addbe71e",
   "metadata": {},
   "outputs": [
    {
     "data": {
      "text/html": [
       "<div>\n",
       "<style scoped>\n",
       "    .dataframe tbody tr th:only-of-type {\n",
       "        vertical-align: middle;\n",
       "    }\n",
       "\n",
       "    .dataframe tbody tr th {\n",
       "        vertical-align: top;\n",
       "    }\n",
       "\n",
       "    .dataframe thead th {\n",
       "        text-align: right;\n",
       "    }\n",
       "</style>\n",
       "<table border=\"1\" class=\"dataframe\">\n",
       "  <thead>\n",
       "    <tr style=\"text-align: right;\">\n",
       "      <th></th>\n",
       "      <th>County Name</th>\n",
       "      <th>date</th>\n",
       "      <th>cases</th>\n",
       "      <th>deaths</th>\n",
       "      <th>population</th>\n",
       "    </tr>\n",
       "  </thead>\n",
       "  <tbody>\n",
       "    <tr>\n",
       "      <th>2053128</th>\n",
       "      <td>kings county</td>\n",
       "      <td>2020-01-22</td>\n",
       "      <td>0</td>\n",
       "      <td>0</td>\n",
       "      <td>2559903</td>\n",
       "    </tr>\n",
       "    <tr>\n",
       "      <th>2053129</th>\n",
       "      <td>kings county</td>\n",
       "      <td>2020-01-23</td>\n",
       "      <td>0</td>\n",
       "      <td>0</td>\n",
       "      <td>2559903</td>\n",
       "    </tr>\n",
       "    <tr>\n",
       "      <th>2053130</th>\n",
       "      <td>kings county</td>\n",
       "      <td>2020-01-24</td>\n",
       "      <td>0</td>\n",
       "      <td>0</td>\n",
       "      <td>2559903</td>\n",
       "    </tr>\n",
       "    <tr>\n",
       "      <th>2053131</th>\n",
       "      <td>kings county</td>\n",
       "      <td>2020-01-25</td>\n",
       "      <td>0</td>\n",
       "      <td>0</td>\n",
       "      <td>2559903</td>\n",
       "    </tr>\n",
       "    <tr>\n",
       "      <th>2053132</th>\n",
       "      <td>kings county</td>\n",
       "      <td>2020-01-26</td>\n",
       "      <td>0</td>\n",
       "      <td>0</td>\n",
       "      <td>2559903</td>\n",
       "    </tr>\n",
       "    <tr>\n",
       "      <th>...</th>\n",
       "      <td>...</td>\n",
       "      <td>...</td>\n",
       "      <td>...</td>\n",
       "      <td>...</td>\n",
       "      <td>...</td>\n",
       "    </tr>\n",
       "    <tr>\n",
       "      <th>2085342</th>\n",
       "      <td>suffolk county</td>\n",
       "      <td>2023-02-01</td>\n",
       "      <td>565311</td>\n",
       "      <td>4907</td>\n",
       "      <td>1476601</td>\n",
       "    </tr>\n",
       "    <tr>\n",
       "      <th>2085343</th>\n",
       "      <td>suffolk county</td>\n",
       "      <td>2023-02-02</td>\n",
       "      <td>565311</td>\n",
       "      <td>4922</td>\n",
       "      <td>1476601</td>\n",
       "    </tr>\n",
       "    <tr>\n",
       "      <th>2085344</th>\n",
       "      <td>suffolk county</td>\n",
       "      <td>2023-02-03</td>\n",
       "      <td>565311</td>\n",
       "      <td>4922</td>\n",
       "      <td>1476601</td>\n",
       "    </tr>\n",
       "    <tr>\n",
       "      <th>2085345</th>\n",
       "      <td>suffolk county</td>\n",
       "      <td>2023-02-04</td>\n",
       "      <td>565311</td>\n",
       "      <td>4922</td>\n",
       "      <td>1476601</td>\n",
       "    </tr>\n",
       "    <tr>\n",
       "      <th>2085346</th>\n",
       "      <td>suffolk county</td>\n",
       "      <td>2023-02-05</td>\n",
       "      <td>565311</td>\n",
       "      <td>4922</td>\n",
       "      <td>1476601</td>\n",
       "    </tr>\n",
       "  </tbody>\n",
       "</table>\n",
       "<p>3333 rows × 5 columns</p>\n",
       "</div>"
      ],
      "text/plain": [
       "            County Name        date   cases  deaths  population\n",
       "2053128    kings county  2020-01-22       0       0     2559903\n",
       "2053129    kings county  2020-01-23       0       0     2559903\n",
       "2053130    kings county  2020-01-24       0       0     2559903\n",
       "2053131    kings county  2020-01-25       0       0     2559903\n",
       "2053132    kings county  2020-01-26       0       0     2559903\n",
       "...                 ...         ...     ...     ...         ...\n",
       "2085342  suffolk county  2023-02-01  565311    4907     1476601\n",
       "2085343  suffolk county  2023-02-02  565311    4922     1476601\n",
       "2085344  suffolk county  2023-02-03  565311    4922     1476601\n",
       "2085345  suffolk county  2023-02-04  565311    4922     1476601\n",
       "2085346  suffolk county  2023-02-05  565311    4922     1476601\n",
       "\n",
       "[3333 rows x 5 columns]"
      ]
     },
     "execution_count": 1412,
     "metadata": {},
     "output_type": "execute_result"
    }
   ],
   "source": [
    "NY_weekly_data = superdata[superdata['State']=='NY']\n",
    "counties_data = NY_weekly_data.loc[NY_weekly_data['County Name'].isin(top_3)][['County Name', 'date', 'cases', 'deaths', 'population']]\n",
    "counties_data"
   ]
  },
  {
   "cell_type": "code",
   "execution_count": 1413,
   "id": "6f49d8c7",
   "metadata": {},
   "outputs": [
    {
     "data": {
      "text/html": [
       "<div>\n",
       "<style scoped>\n",
       "    .dataframe tbody tr th:only-of-type {\n",
       "        vertical-align: middle;\n",
       "    }\n",
       "\n",
       "    .dataframe tbody tr th {\n",
       "        vertical-align: top;\n",
       "    }\n",
       "\n",
       "    .dataframe thead th {\n",
       "        text-align: right;\n",
       "    }\n",
       "</style>\n",
       "<table border=\"1\" class=\"dataframe\">\n",
       "  <thead>\n",
       "    <tr style=\"text-align: right;\">\n",
       "      <th></th>\n",
       "      <th>County Name</th>\n",
       "      <th>date</th>\n",
       "      <th>cases</th>\n",
       "      <th>deaths</th>\n",
       "      <th>population</th>\n",
       "    </tr>\n",
       "  </thead>\n",
       "  <tbody>\n",
       "    <tr>\n",
       "      <th>0</th>\n",
       "      <td>kings county</td>\n",
       "      <td>2020-01-22</td>\n",
       "      <td>0</td>\n",
       "      <td>0</td>\n",
       "      <td>2559903</td>\n",
       "    </tr>\n",
       "    <tr>\n",
       "      <th>1</th>\n",
       "      <td>kings county</td>\n",
       "      <td>2020-01-29</td>\n",
       "      <td>0</td>\n",
       "      <td>0</td>\n",
       "      <td>2559903</td>\n",
       "    </tr>\n",
       "    <tr>\n",
       "      <th>2</th>\n",
       "      <td>kings county</td>\n",
       "      <td>2020-02-05</td>\n",
       "      <td>0</td>\n",
       "      <td>0</td>\n",
       "      <td>2559903</td>\n",
       "    </tr>\n",
       "    <tr>\n",
       "      <th>3</th>\n",
       "      <td>kings county</td>\n",
       "      <td>2020-02-12</td>\n",
       "      <td>0</td>\n",
       "      <td>0</td>\n",
       "      <td>2559903</td>\n",
       "    </tr>\n",
       "    <tr>\n",
       "      <th>4</th>\n",
       "      <td>kings county</td>\n",
       "      <td>2020-02-19</td>\n",
       "      <td>0</td>\n",
       "      <td>0</td>\n",
       "      <td>2559903</td>\n",
       "    </tr>\n",
       "    <tr>\n",
       "      <th>...</th>\n",
       "      <td>...</td>\n",
       "      <td>...</td>\n",
       "      <td>...</td>\n",
       "      <td>...</td>\n",
       "      <td>...</td>\n",
       "    </tr>\n",
       "    <tr>\n",
       "      <th>475</th>\n",
       "      <td>suffolk county</td>\n",
       "      <td>2023-01-11</td>\n",
       "      <td>3908765</td>\n",
       "      <td>33925</td>\n",
       "      <td>1476601</td>\n",
       "    </tr>\n",
       "    <tr>\n",
       "      <th>476</th>\n",
       "      <td>suffolk county</td>\n",
       "      <td>2023-01-18</td>\n",
       "      <td>3925012</td>\n",
       "      <td>34055</td>\n",
       "      <td>1476601</td>\n",
       "    </tr>\n",
       "    <tr>\n",
       "      <th>477</th>\n",
       "      <td>suffolk county</td>\n",
       "      <td>2023-01-25</td>\n",
       "      <td>3939130</td>\n",
       "      <td>34223</td>\n",
       "      <td>1476601</td>\n",
       "    </tr>\n",
       "    <tr>\n",
       "      <th>478</th>\n",
       "      <td>suffolk county</td>\n",
       "      <td>2023-02-01</td>\n",
       "      <td>3948759</td>\n",
       "      <td>34335</td>\n",
       "      <td>1476601</td>\n",
       "    </tr>\n",
       "    <tr>\n",
       "      <th>479</th>\n",
       "      <td>suffolk county</td>\n",
       "      <td>2023-02-08</td>\n",
       "      <td>2261244</td>\n",
       "      <td>19688</td>\n",
       "      <td>1476601</td>\n",
       "    </tr>\n",
       "  </tbody>\n",
       "</table>\n",
       "<p>480 rows × 5 columns</p>\n",
       "</div>"
      ],
      "text/plain": [
       "        County Name       date    cases  deaths  population\n",
       "0      kings county 2020-01-22        0       0     2559903\n",
       "1      kings county 2020-01-29        0       0     2559903\n",
       "2      kings county 2020-02-05        0       0     2559903\n",
       "3      kings county 2020-02-12        0       0     2559903\n",
       "4      kings county 2020-02-19        0       0     2559903\n",
       "..              ...        ...      ...     ...         ...\n",
       "475  suffolk county 2023-01-11  3908765   33925     1476601\n",
       "476  suffolk county 2023-01-18  3925012   34055     1476601\n",
       "477  suffolk county 2023-01-25  3939130   34223     1476601\n",
       "478  suffolk county 2023-02-01  3948759   34335     1476601\n",
       "479  suffolk county 2023-02-08  2261244   19688     1476601\n",
       "\n",
       "[480 rows x 5 columns]"
      ]
     },
     "execution_count": 1413,
     "metadata": {},
     "output_type": "execute_result"
    }
   ],
   "source": [
    "counties_data['date'] = pd.to_datetime(counties_data['date'])\n",
    "counties_weekly = counties_data.groupby(['County Name', pd.Grouper(key=\"date\", freq=\"W-Wed\")]).agg({\n",
    "    \"cases\": \"sum\",\n",
    "    \"deaths\": \"sum\",\n",
    "    \"population\": \"first\"\n",
    "}).reset_index()\n",
    "counties_weekly"
   ]
  },
  {
   "cell_type": "code",
   "execution_count": 1414,
   "id": "765cb9d3",
   "metadata": {},
   "outputs": [
    {
     "data": {
      "text/html": [
       "<div>\n",
       "<style scoped>\n",
       "    .dataframe tbody tr th:only-of-type {\n",
       "        vertical-align: middle;\n",
       "    }\n",
       "\n",
       "    .dataframe tbody tr th {\n",
       "        vertical-align: top;\n",
       "    }\n",
       "\n",
       "    .dataframe thead th {\n",
       "        text-align: right;\n",
       "    }\n",
       "</style>\n",
       "<table border=\"1\" class=\"dataframe\">\n",
       "  <thead>\n",
       "    <tr style=\"text-align: right;\">\n",
       "      <th></th>\n",
       "      <th>County Name</th>\n",
       "      <th>date</th>\n",
       "      <th>cases</th>\n",
       "      <th>deaths</th>\n",
       "      <th>population</th>\n",
       "      <th>new_cases</th>\n",
       "      <th>new_deaths</th>\n",
       "      <th>new_cases_log_norm</th>\n",
       "      <th>new_deaths_log_norm</th>\n",
       "    </tr>\n",
       "  </thead>\n",
       "  <tbody>\n",
       "    <tr>\n",
       "      <th>0</th>\n",
       "      <td>kings county</td>\n",
       "      <td>2020-01-22</td>\n",
       "      <td>0</td>\n",
       "      <td>0</td>\n",
       "      <td>2559903</td>\n",
       "      <td>0</td>\n",
       "      <td>0</td>\n",
       "      <td>0.000000</td>\n",
       "      <td>0.000000</td>\n",
       "    </tr>\n",
       "    <tr>\n",
       "      <th>1</th>\n",
       "      <td>kings county</td>\n",
       "      <td>2020-01-29</td>\n",
       "      <td>0</td>\n",
       "      <td>0</td>\n",
       "      <td>2559903</td>\n",
       "      <td>0</td>\n",
       "      <td>0</td>\n",
       "      <td>0.000000</td>\n",
       "      <td>0.000000</td>\n",
       "    </tr>\n",
       "    <tr>\n",
       "      <th>2</th>\n",
       "      <td>kings county</td>\n",
       "      <td>2020-02-05</td>\n",
       "      <td>0</td>\n",
       "      <td>0</td>\n",
       "      <td>2559903</td>\n",
       "      <td>0</td>\n",
       "      <td>0</td>\n",
       "      <td>0.000000</td>\n",
       "      <td>0.000000</td>\n",
       "    </tr>\n",
       "    <tr>\n",
       "      <th>3</th>\n",
       "      <td>kings county</td>\n",
       "      <td>2020-02-12</td>\n",
       "      <td>0</td>\n",
       "      <td>0</td>\n",
       "      <td>2559903</td>\n",
       "      <td>0</td>\n",
       "      <td>0</td>\n",
       "      <td>0.000000</td>\n",
       "      <td>0.000000</td>\n",
       "    </tr>\n",
       "    <tr>\n",
       "      <th>4</th>\n",
       "      <td>kings county</td>\n",
       "      <td>2020-02-19</td>\n",
       "      <td>0</td>\n",
       "      <td>0</td>\n",
       "      <td>2559903</td>\n",
       "      <td>0</td>\n",
       "      <td>0</td>\n",
       "      <td>0.000000</td>\n",
       "      <td>0.000000</td>\n",
       "    </tr>\n",
       "    <tr>\n",
       "      <th>...</th>\n",
       "      <td>...</td>\n",
       "      <td>...</td>\n",
       "      <td>...</td>\n",
       "      <td>...</td>\n",
       "      <td>...</td>\n",
       "      <td>...</td>\n",
       "      <td>...</td>\n",
       "      <td>...</td>\n",
       "      <td>...</td>\n",
       "    </tr>\n",
       "    <tr>\n",
       "      <th>475</th>\n",
       "      <td>suffolk county</td>\n",
       "      <td>2023-01-11</td>\n",
       "      <td>3908765</td>\n",
       "      <td>33925</td>\n",
       "      <td>1476601</td>\n",
       "      <td>28952</td>\n",
       "      <td>182</td>\n",
       "      <td>10.273395</td>\n",
       "      <td>5.204007</td>\n",
       "    </tr>\n",
       "    <tr>\n",
       "      <th>476</th>\n",
       "      <td>suffolk county</td>\n",
       "      <td>2023-01-18</td>\n",
       "      <td>3925012</td>\n",
       "      <td>34055</td>\n",
       "      <td>1476601</td>\n",
       "      <td>16247</td>\n",
       "      <td>130</td>\n",
       "      <td>9.695664</td>\n",
       "      <td>4.867534</td>\n",
       "    </tr>\n",
       "    <tr>\n",
       "      <th>477</th>\n",
       "      <td>suffolk county</td>\n",
       "      <td>2023-01-25</td>\n",
       "      <td>3939130</td>\n",
       "      <td>34223</td>\n",
       "      <td>1476601</td>\n",
       "      <td>14118</td>\n",
       "      <td>168</td>\n",
       "      <td>9.555206</td>\n",
       "      <td>5.123964</td>\n",
       "    </tr>\n",
       "    <tr>\n",
       "      <th>478</th>\n",
       "      <td>suffolk county</td>\n",
       "      <td>2023-02-01</td>\n",
       "      <td>3948759</td>\n",
       "      <td>34335</td>\n",
       "      <td>1476601</td>\n",
       "      <td>9629</td>\n",
       "      <td>112</td>\n",
       "      <td>9.172535</td>\n",
       "      <td>4.718499</td>\n",
       "    </tr>\n",
       "    <tr>\n",
       "      <th>479</th>\n",
       "      <td>suffolk county</td>\n",
       "      <td>2023-02-08</td>\n",
       "      <td>2261244</td>\n",
       "      <td>19688</td>\n",
       "      <td>1476601</td>\n",
       "      <td>0</td>\n",
       "      <td>0</td>\n",
       "      <td>0.000000</td>\n",
       "      <td>0.000000</td>\n",
       "    </tr>\n",
       "  </tbody>\n",
       "</table>\n",
       "<p>480 rows × 9 columns</p>\n",
       "</div>"
      ],
      "text/plain": [
       "        County Name       date    cases  deaths  population  new_cases  \\\n",
       "0      kings county 2020-01-22        0       0     2559903          0   \n",
       "1      kings county 2020-01-29        0       0     2559903          0   \n",
       "2      kings county 2020-02-05        0       0     2559903          0   \n",
       "3      kings county 2020-02-12        0       0     2559903          0   \n",
       "4      kings county 2020-02-19        0       0     2559903          0   \n",
       "..              ...        ...      ...     ...         ...        ...   \n",
       "475  suffolk county 2023-01-11  3908765   33925     1476601      28952   \n",
       "476  suffolk county 2023-01-18  3925012   34055     1476601      16247   \n",
       "477  suffolk county 2023-01-25  3939130   34223     1476601      14118   \n",
       "478  suffolk county 2023-02-01  3948759   34335     1476601       9629   \n",
       "479  suffolk county 2023-02-08  2261244   19688     1476601          0   \n",
       "\n",
       "     new_deaths  new_cases_log_norm  new_deaths_log_norm  \n",
       "0             0            0.000000             0.000000  \n",
       "1             0            0.000000             0.000000  \n",
       "2             0            0.000000             0.000000  \n",
       "3             0            0.000000             0.000000  \n",
       "4             0            0.000000             0.000000  \n",
       "..          ...                 ...                  ...  \n",
       "475         182           10.273395             5.204007  \n",
       "476         130            9.695664             4.867534  \n",
       "477         168            9.555206             5.123964  \n",
       "478         112            9.172535             4.718499  \n",
       "479           0            0.000000             0.000000  \n",
       "\n",
       "[480 rows x 9 columns]"
      ]
     },
     "execution_count": 1414,
     "metadata": {},
     "output_type": "execute_result"
    }
   ],
   "source": [
    "counties_weekly = counties_weekly.assign(new_cases = counties_weekly.cases.diff())\n",
    "counties_weekly = counties_weekly.assign(new_deaths = counties_weekly.deaths.diff())\n",
    "\n",
    "counties_weekly[\"new_cases\"] = counties_weekly[\"new_cases\"].fillna(0).astype(int)\n",
    "counties_weekly[\"new_deaths\"] = counties_weekly[\"new_deaths\"].fillna(0).astype(int)\n",
    "\n",
    "counties_weekly.loc[counties_weekly['new_cases'] < 0, 'new_cases'] = 0\n",
    "counties_weekly.loc[counties_weekly['new_deaths'] < 0, 'new_deaths'] = 0\n",
    "\n",
    "eps = 1e-8 #adding a small constant to avoid warning\n",
    "counties_weekly['new_cases_log_norm'] = np.log(counties_weekly['new_cases'] + eps)\n",
    "counties_weekly['new_deaths_log_norm'] = np.log(counties_weekly['new_deaths'] + eps)\n",
    "\n",
    "counties_weekly.loc[counties_weekly['new_cases_log_norm'] < 0, 'new_cases_log_norm'] = 0\n",
    "counties_weekly.loc[counties_weekly['new_deaths_log_norm'] < 0, 'new_deaths_log_norm'] = 0\n",
    "counties_weekly"
   ]
  },
  {
   "cell_type": "code",
   "execution_count": 1420,
   "id": "48a01fc7",
   "metadata": {},
   "outputs": [
    {
     "data": {
      "application/vnd.plotly.v1+json": {
       "config": {
        "plotlyServerURL": "https://plot.ly"
       },
       "data": [
        {
         "hovertemplate": "County Name=kings county<br>date=%{x}<br>new_cases=%{y}<extra></extra>",
         "legendgroup": "kings county",
         "line": {
          "color": "#636efa",
          "dash": "solid"
         },
         "marker": {
          "symbol": "circle"
         },
         "mode": "lines",
         "name": "kings county",
         "orientation": "v",
         "showlegend": true,
         "type": "scatter",
         "x": [
          "2020-01-22T00:00:00",
          "2020-01-29T00:00:00",
          "2020-02-05T00:00:00",
          "2020-02-12T00:00:00",
          "2020-02-19T00:00:00",
          "2020-02-26T00:00:00",
          "2020-03-04T00:00:00",
          "2020-03-11T00:00:00",
          "2020-03-18T00:00:00",
          "2020-03-25T00:00:00",
          "2020-04-01T00:00:00",
          "2020-04-08T00:00:00",
          "2020-04-15T00:00:00",
          "2020-04-22T00:00:00",
          "2020-04-29T00:00:00",
          "2020-05-06T00:00:00",
          "2020-05-13T00:00:00",
          "2020-05-20T00:00:00",
          "2020-05-27T00:00:00",
          "2020-06-03T00:00:00",
          "2020-06-10T00:00:00",
          "2020-06-17T00:00:00",
          "2020-06-24T00:00:00",
          "2020-07-01T00:00:00",
          "2020-07-08T00:00:00",
          "2020-07-15T00:00:00",
          "2020-07-22T00:00:00",
          "2020-07-29T00:00:00",
          "2020-08-05T00:00:00",
          "2020-08-12T00:00:00",
          "2020-08-19T00:00:00",
          "2020-08-26T00:00:00",
          "2020-09-02T00:00:00",
          "2020-09-09T00:00:00",
          "2020-09-16T00:00:00",
          "2020-09-23T00:00:00",
          "2020-09-30T00:00:00",
          "2020-10-07T00:00:00",
          "2020-10-14T00:00:00",
          "2020-10-21T00:00:00",
          "2020-10-28T00:00:00",
          "2020-11-04T00:00:00",
          "2020-11-11T00:00:00",
          "2020-11-18T00:00:00",
          "2020-11-25T00:00:00",
          "2020-12-02T00:00:00",
          "2020-12-09T00:00:00",
          "2020-12-16T00:00:00",
          "2020-12-23T00:00:00",
          "2020-12-30T00:00:00",
          "2021-01-06T00:00:00",
          "2021-01-13T00:00:00",
          "2021-01-20T00:00:00",
          "2021-01-27T00:00:00",
          "2021-02-03T00:00:00",
          "2021-02-10T00:00:00",
          "2021-02-17T00:00:00",
          "2021-02-24T00:00:00",
          "2021-03-03T00:00:00",
          "2021-03-10T00:00:00",
          "2021-03-17T00:00:00",
          "2021-03-24T00:00:00",
          "2021-03-31T00:00:00",
          "2021-04-07T00:00:00",
          "2021-04-14T00:00:00",
          "2021-04-21T00:00:00",
          "2021-04-28T00:00:00",
          "2021-05-05T00:00:00",
          "2021-05-12T00:00:00",
          "2021-05-19T00:00:00",
          "2021-05-26T00:00:00",
          "2021-06-02T00:00:00",
          "2021-06-09T00:00:00",
          "2021-06-16T00:00:00",
          "2021-06-23T00:00:00",
          "2021-06-30T00:00:00",
          "2021-07-07T00:00:00",
          "2021-07-14T00:00:00",
          "2021-07-21T00:00:00",
          "2021-07-28T00:00:00",
          "2021-08-04T00:00:00",
          "2021-08-11T00:00:00",
          "2021-08-18T00:00:00",
          "2021-08-25T00:00:00",
          "2021-09-01T00:00:00",
          "2021-09-08T00:00:00",
          "2021-09-15T00:00:00",
          "2021-09-22T00:00:00",
          "2021-09-29T00:00:00",
          "2021-10-06T00:00:00",
          "2021-10-13T00:00:00",
          "2021-10-20T00:00:00",
          "2021-10-27T00:00:00",
          "2021-11-03T00:00:00",
          "2021-11-10T00:00:00",
          "2021-11-17T00:00:00",
          "2021-11-24T00:00:00",
          "2021-12-01T00:00:00",
          "2021-12-08T00:00:00",
          "2021-12-15T00:00:00",
          "2021-12-22T00:00:00",
          "2021-12-29T00:00:00",
          "2022-01-05T00:00:00",
          "2022-01-12T00:00:00",
          "2022-01-19T00:00:00",
          "2022-01-26T00:00:00",
          "2022-02-02T00:00:00",
          "2022-02-09T00:00:00",
          "2022-02-16T00:00:00",
          "2022-02-23T00:00:00",
          "2022-03-02T00:00:00",
          "2022-03-09T00:00:00",
          "2022-03-16T00:00:00",
          "2022-03-23T00:00:00",
          "2022-03-30T00:00:00",
          "2022-04-06T00:00:00",
          "2022-04-13T00:00:00",
          "2022-04-20T00:00:00",
          "2022-04-27T00:00:00",
          "2022-05-04T00:00:00",
          "2022-05-11T00:00:00",
          "2022-05-18T00:00:00",
          "2022-05-25T00:00:00",
          "2022-06-01T00:00:00",
          "2022-06-08T00:00:00",
          "2022-06-15T00:00:00",
          "2022-06-22T00:00:00",
          "2022-06-29T00:00:00",
          "2022-07-06T00:00:00",
          "2022-07-13T00:00:00",
          "2022-07-20T00:00:00",
          "2022-07-27T00:00:00",
          "2022-08-03T00:00:00",
          "2022-08-10T00:00:00",
          "2022-08-17T00:00:00",
          "2022-08-24T00:00:00",
          "2022-08-31T00:00:00",
          "2022-09-07T00:00:00",
          "2022-09-14T00:00:00",
          "2022-09-21T00:00:00",
          "2022-09-28T00:00:00",
          "2022-10-05T00:00:00",
          "2022-10-12T00:00:00",
          "2022-10-19T00:00:00",
          "2022-10-26T00:00:00",
          "2022-11-02T00:00:00",
          "2022-11-09T00:00:00",
          "2022-11-16T00:00:00",
          "2022-11-23T00:00:00",
          "2022-11-30T00:00:00",
          "2022-12-07T00:00:00",
          "2022-12-14T00:00:00",
          "2022-12-21T00:00:00",
          "2022-12-28T00:00:00",
          "2023-01-04T00:00:00",
          "2023-01-11T00:00:00",
          "2023-01-18T00:00:00",
          "2023-01-25T00:00:00",
          "2023-02-01T00:00:00",
          "2023-02-08T00:00:00"
         ],
         "xaxis": "x",
         "y": [
          0,
          0,
          0,
          0,
          0,
          0,
          0,
          36,
          823,
          20158,
          42449,
          64249,
          63787,
          62174,
          41310,
          31255,
          21655,
          17124,
          13780,
          12120,
          8645,
          6588,
          5725,
          4534,
          4400,
          4335,
          4711,
          3989,
          4050,
          4174,
          4744,
          3748,
          3959,
          4688,
          4172,
          6176,
          8389,
          11145,
          11932,
          10422,
          10270,
          11916,
          15266,
          20237,
          23016,
          27794,
          40277,
          46676,
          51524,
          57292,
          62966,
          76716,
          85557,
          81192,
          77835,
          59794,
          63488,
          54809,
          57424,
          59928,
          54331,
          61186,
          59754,
          55376,
          51240,
          46713,
          34009,
          24350,
          16408,
          11089,
          7966,
          5172,
          3456,
          3057,
          2389,
          2479,
          3037,
          5225,
          8587,
          13697,
          20759,
          25840,
          29438,
          30884,
          28202,
          26544,
          25888,
          28506,
          25508,
          23844,
          26044,
          21998,
          18402,
          15686,
          16088,
          17443,
          22041,
          21804,
          29159,
          46228,
          125661,
          286965,
          502125,
          606680,
          395172,
          193591,
          89417,
          41449,
          26855,
          16658,
          11694,
          10526,
          11376,
          13899,
          18072,
          20606,
          24380,
          33582,
          32336,
          32327,
          57561,
          52106,
          55017,
          51876,
          46101,
          41334,
          37940,
          38612,
          39195,
          54015,
          50585,
          56770,
          46103,
          42419,
          34733,
          30895,
          26125,
          23231,
          21353,
          23886,
          25296,
          19259,
          23164,
          23226,
          23086,
          25377,
          27595,
          30517,
          28370,
          30394,
          24623,
          39144,
          46507,
          17830,
          41965,
          35589,
          24653,
          28385,
          20030,
          0
         ],
         "yaxis": "y"
        },
        {
         "hovertemplate": "County Name=queens county<br>date=%{x}<br>new_cases=%{y}<extra></extra>",
         "legendgroup": "queens county",
         "line": {
          "color": "#EF553B",
          "dash": "solid"
         },
         "marker": {
          "symbol": "circle"
         },
         "mode": "lines",
         "name": "queens county",
         "orientation": "v",
         "showlegend": true,
         "type": "scatter",
         "x": [
          "2020-01-22T00:00:00",
          "2020-01-29T00:00:00",
          "2020-02-05T00:00:00",
          "2020-02-12T00:00:00",
          "2020-02-19T00:00:00",
          "2020-02-26T00:00:00",
          "2020-03-04T00:00:00",
          "2020-03-11T00:00:00",
          "2020-03-18T00:00:00",
          "2020-03-25T00:00:00",
          "2020-04-01T00:00:00",
          "2020-04-08T00:00:00",
          "2020-04-15T00:00:00",
          "2020-04-22T00:00:00",
          "2020-04-29T00:00:00",
          "2020-05-06T00:00:00",
          "2020-05-13T00:00:00",
          "2020-05-20T00:00:00",
          "2020-05-27T00:00:00",
          "2020-06-03T00:00:00",
          "2020-06-10T00:00:00",
          "2020-06-17T00:00:00",
          "2020-06-24T00:00:00",
          "2020-07-01T00:00:00",
          "2020-07-08T00:00:00",
          "2020-07-15T00:00:00",
          "2020-07-22T00:00:00",
          "2020-07-29T00:00:00",
          "2020-08-05T00:00:00",
          "2020-08-12T00:00:00",
          "2020-08-19T00:00:00",
          "2020-08-26T00:00:00",
          "2020-09-02T00:00:00",
          "2020-09-09T00:00:00",
          "2020-09-16T00:00:00",
          "2020-09-23T00:00:00",
          "2020-09-30T00:00:00",
          "2020-10-07T00:00:00",
          "2020-10-14T00:00:00",
          "2020-10-21T00:00:00",
          "2020-10-28T00:00:00",
          "2020-11-04T00:00:00",
          "2020-11-11T00:00:00",
          "2020-11-18T00:00:00",
          "2020-11-25T00:00:00",
          "2020-12-02T00:00:00",
          "2020-12-09T00:00:00",
          "2020-12-16T00:00:00",
          "2020-12-23T00:00:00",
          "2020-12-30T00:00:00",
          "2021-01-06T00:00:00",
          "2021-01-13T00:00:00",
          "2021-01-20T00:00:00",
          "2021-01-27T00:00:00",
          "2021-02-03T00:00:00",
          "2021-02-10T00:00:00",
          "2021-02-17T00:00:00",
          "2021-02-24T00:00:00",
          "2021-03-03T00:00:00",
          "2021-03-10T00:00:00",
          "2021-03-17T00:00:00",
          "2021-03-24T00:00:00",
          "2021-03-31T00:00:00",
          "2021-04-07T00:00:00",
          "2021-04-14T00:00:00",
          "2021-04-21T00:00:00",
          "2021-04-28T00:00:00",
          "2021-05-05T00:00:00",
          "2021-05-12T00:00:00",
          "2021-05-19T00:00:00",
          "2021-05-26T00:00:00",
          "2021-06-02T00:00:00",
          "2021-06-09T00:00:00",
          "2021-06-16T00:00:00",
          "2021-06-23T00:00:00",
          "2021-06-30T00:00:00",
          "2021-07-07T00:00:00",
          "2021-07-14T00:00:00",
          "2021-07-21T00:00:00",
          "2021-07-28T00:00:00",
          "2021-08-04T00:00:00",
          "2021-08-11T00:00:00",
          "2021-08-18T00:00:00",
          "2021-08-25T00:00:00",
          "2021-09-01T00:00:00",
          "2021-09-08T00:00:00",
          "2021-09-15T00:00:00",
          "2021-09-22T00:00:00",
          "2021-09-29T00:00:00",
          "2021-10-06T00:00:00",
          "2021-10-13T00:00:00",
          "2021-10-20T00:00:00",
          "2021-10-27T00:00:00",
          "2021-11-03T00:00:00",
          "2021-11-10T00:00:00",
          "2021-11-17T00:00:00",
          "2021-11-24T00:00:00",
          "2021-12-01T00:00:00",
          "2021-12-08T00:00:00",
          "2021-12-15T00:00:00",
          "2021-12-22T00:00:00",
          "2021-12-29T00:00:00",
          "2022-01-05T00:00:00",
          "2022-01-12T00:00:00",
          "2022-01-19T00:00:00",
          "2022-01-26T00:00:00",
          "2022-02-02T00:00:00",
          "2022-02-09T00:00:00",
          "2022-02-16T00:00:00",
          "2022-02-23T00:00:00",
          "2022-03-02T00:00:00",
          "2022-03-09T00:00:00",
          "2022-03-16T00:00:00",
          "2022-03-23T00:00:00",
          "2022-03-30T00:00:00",
          "2022-04-06T00:00:00",
          "2022-04-13T00:00:00",
          "2022-04-20T00:00:00",
          "2022-04-27T00:00:00",
          "2022-05-04T00:00:00",
          "2022-05-11T00:00:00",
          "2022-05-18T00:00:00",
          "2022-05-25T00:00:00",
          "2022-06-01T00:00:00",
          "2022-06-08T00:00:00",
          "2022-06-15T00:00:00",
          "2022-06-22T00:00:00",
          "2022-06-29T00:00:00",
          "2022-07-06T00:00:00",
          "2022-07-13T00:00:00",
          "2022-07-20T00:00:00",
          "2022-07-27T00:00:00",
          "2022-08-03T00:00:00",
          "2022-08-10T00:00:00",
          "2022-08-17T00:00:00",
          "2022-08-24T00:00:00",
          "2022-08-31T00:00:00",
          "2022-09-07T00:00:00",
          "2022-09-14T00:00:00",
          "2022-09-21T00:00:00",
          "2022-09-28T00:00:00",
          "2022-10-05T00:00:00",
          "2022-10-12T00:00:00",
          "2022-10-19T00:00:00",
          "2022-10-26T00:00:00",
          "2022-11-02T00:00:00",
          "2022-11-09T00:00:00",
          "2022-11-16T00:00:00",
          "2022-11-23T00:00:00",
          "2022-11-30T00:00:00",
          "2022-12-07T00:00:00",
          "2022-12-14T00:00:00",
          "2022-12-21T00:00:00",
          "2022-12-28T00:00:00",
          "2023-01-04T00:00:00",
          "2023-01-11T00:00:00",
          "2023-01-18T00:00:00",
          "2023-01-25T00:00:00",
          "2023-02-01T00:00:00",
          "2023-02-08T00:00:00"
         ],
         "xaxis": "x",
         "y": [
          0,
          0,
          0,
          0,
          0,
          0,
          0,
          12,
          1063,
          20747,
          56164,
          73427,
          75571,
          60036,
          50946,
          36036,
          23066,
          16089,
          11075,
          9426,
          7006,
          6040,
          5441,
          4553,
          4227,
          3876,
          4229,
          4167,
          3495,
          3512,
          3953,
          3569,
          3382,
          3240,
          3441,
          3787,
          4172,
          6115,
          7126,
          6671,
          7703,
          9925,
          12633,
          20796,
          23581,
          28153,
          39823,
          49109,
          52571,
          56276,
          66427,
          81013,
          86554,
          87914,
          76987,
          55962,
          60272,
          52719,
          51088,
          54525,
          51072,
          60207,
          58922,
          56031,
          48985,
          40623,
          28690,
          19300,
          13589,
          10026,
          6716,
          4725,
          3167,
          2582,
          2375,
          2316,
          2654,
          4377,
          6044,
          9184,
          14562,
          19821,
          23842,
          23827,
          20143,
          19142,
          19534,
          19481,
          18186,
          15012,
          14621,
          11829,
          9806,
          8255,
          9194,
          11452,
          16764,
          18513,
          27245,
          40759,
          87238,
          218143,
          447873,
          630582,
          426176,
          182479,
          73192,
          31027,
          29090,
          11846,
          8872,
          7166,
          6163,
          7436,
          10042,
          13688,
          16177,
          25403,
          29353,
          31804,
          57257,
          51234,
          54491,
          48825,
          44596,
          44089,
          39703,
          39492,
          40179,
          58767,
          55023,
          61106,
          49897,
          46567,
          37960,
          33283,
          28490,
          24840,
          22068,
          24924,
          26112,
          19831,
          25643,
          24167,
          24660,
          26627,
          28432,
          30471,
          28294,
          31801,
          26866,
          41517,
          46980,
          19485,
          44527,
          37807,
          25513,
          25963,
          16310,
          0
         ],
         "yaxis": "y"
        },
        {
         "hovertemplate": "County Name=suffolk county<br>date=%{x}<br>new_cases=%{y}<extra></extra>",
         "legendgroup": "suffolk county",
         "line": {
          "color": "#00cc96",
          "dash": "solid"
         },
         "marker": {
          "symbol": "circle"
         },
         "mode": "lines",
         "name": "suffolk county",
         "orientation": "v",
         "showlegend": true,
         "type": "scatter",
         "x": [
          "2020-01-22T00:00:00",
          "2020-01-29T00:00:00",
          "2020-02-05T00:00:00",
          "2020-02-12T00:00:00",
          "2020-02-19T00:00:00",
          "2020-02-26T00:00:00",
          "2020-03-04T00:00:00",
          "2020-03-11T00:00:00",
          "2020-03-18T00:00:00",
          "2020-03-25T00:00:00",
          "2020-04-01T00:00:00",
          "2020-04-08T00:00:00",
          "2020-04-15T00:00:00",
          "2020-04-22T00:00:00",
          "2020-04-29T00:00:00",
          "2020-05-06T00:00:00",
          "2020-05-13T00:00:00",
          "2020-05-20T00:00:00",
          "2020-05-27T00:00:00",
          "2020-06-03T00:00:00",
          "2020-06-10T00:00:00",
          "2020-06-17T00:00:00",
          "2020-06-24T00:00:00",
          "2020-07-01T00:00:00",
          "2020-07-08T00:00:00",
          "2020-07-15T00:00:00",
          "2020-07-22T00:00:00",
          "2020-07-29T00:00:00",
          "2020-08-05T00:00:00",
          "2020-08-12T00:00:00",
          "2020-08-19T00:00:00",
          "2020-08-26T00:00:00",
          "2020-09-02T00:00:00",
          "2020-09-09T00:00:00",
          "2020-09-16T00:00:00",
          "2020-09-23T00:00:00",
          "2020-09-30T00:00:00",
          "2020-10-07T00:00:00",
          "2020-10-14T00:00:00",
          "2020-10-21T00:00:00",
          "2020-10-28T00:00:00",
          "2020-11-04T00:00:00",
          "2020-11-11T00:00:00",
          "2020-11-18T00:00:00",
          "2020-11-25T00:00:00",
          "2020-12-02T00:00:00",
          "2020-12-09T00:00:00",
          "2020-12-16T00:00:00",
          "2020-12-23T00:00:00",
          "2020-12-30T00:00:00",
          "2021-01-06T00:00:00",
          "2021-01-13T00:00:00",
          "2021-01-20T00:00:00",
          "2021-01-27T00:00:00",
          "2021-02-03T00:00:00",
          "2021-02-10T00:00:00",
          "2021-02-17T00:00:00",
          "2021-02-24T00:00:00",
          "2021-03-03T00:00:00",
          "2021-03-10T00:00:00",
          "2021-03-17T00:00:00",
          "2021-03-24T00:00:00",
          "2021-03-31T00:00:00",
          "2021-04-07T00:00:00",
          "2021-04-14T00:00:00",
          "2021-04-21T00:00:00",
          "2021-04-28T00:00:00",
          "2021-05-05T00:00:00",
          "2021-05-12T00:00:00",
          "2021-05-19T00:00:00",
          "2021-05-26T00:00:00",
          "2021-06-02T00:00:00",
          "2021-06-09T00:00:00",
          "2021-06-16T00:00:00",
          "2021-06-23T00:00:00",
          "2021-06-30T00:00:00",
          "2021-07-07T00:00:00",
          "2021-07-14T00:00:00",
          "2021-07-21T00:00:00",
          "2021-07-28T00:00:00",
          "2021-08-04T00:00:00",
          "2021-08-11T00:00:00",
          "2021-08-18T00:00:00",
          "2021-08-25T00:00:00",
          "2021-09-01T00:00:00",
          "2021-09-08T00:00:00",
          "2021-09-15T00:00:00",
          "2021-09-22T00:00:00",
          "2021-09-29T00:00:00",
          "2021-10-06T00:00:00",
          "2021-10-13T00:00:00",
          "2021-10-20T00:00:00",
          "2021-10-27T00:00:00",
          "2021-11-03T00:00:00",
          "2021-11-10T00:00:00",
          "2021-11-17T00:00:00",
          "2021-11-24T00:00:00",
          "2021-12-01T00:00:00",
          "2021-12-08T00:00:00",
          "2021-12-15T00:00:00",
          "2021-12-22T00:00:00",
          "2021-12-29T00:00:00",
          "2022-01-05T00:00:00",
          "2022-01-12T00:00:00",
          "2022-01-19T00:00:00",
          "2022-01-26T00:00:00",
          "2022-02-02T00:00:00",
          "2022-02-09T00:00:00",
          "2022-02-16T00:00:00",
          "2022-02-23T00:00:00",
          "2022-03-02T00:00:00",
          "2022-03-09T00:00:00",
          "2022-03-16T00:00:00",
          "2022-03-23T00:00:00",
          "2022-03-30T00:00:00",
          "2022-04-06T00:00:00",
          "2022-04-13T00:00:00",
          "2022-04-20T00:00:00",
          "2022-04-27T00:00:00",
          "2022-05-04T00:00:00",
          "2022-05-11T00:00:00",
          "2022-05-18T00:00:00",
          "2022-05-25T00:00:00",
          "2022-06-01T00:00:00",
          "2022-06-08T00:00:00",
          "2022-06-15T00:00:00",
          "2022-06-22T00:00:00",
          "2022-06-29T00:00:00",
          "2022-07-06T00:00:00",
          "2022-07-13T00:00:00",
          "2022-07-20T00:00:00",
          "2022-07-27T00:00:00",
          "2022-08-03T00:00:00",
          "2022-08-10T00:00:00",
          "2022-08-17T00:00:00",
          "2022-08-24T00:00:00",
          "2022-08-31T00:00:00",
          "2022-09-07T00:00:00",
          "2022-09-14T00:00:00",
          "2022-09-21T00:00:00",
          "2022-09-28T00:00:00",
          "2022-10-05T00:00:00",
          "2022-10-12T00:00:00",
          "2022-10-19T00:00:00",
          "2022-10-26T00:00:00",
          "2022-11-02T00:00:00",
          "2022-11-09T00:00:00",
          "2022-11-16T00:00:00",
          "2022-11-23T00:00:00",
          "2022-11-30T00:00:00",
          "2022-12-07T00:00:00",
          "2022-12-14T00:00:00",
          "2022-12-21T00:00:00",
          "2022-12-28T00:00:00",
          "2023-01-04T00:00:00",
          "2023-01-11T00:00:00",
          "2023-01-18T00:00:00",
          "2023-01-25T00:00:00",
          "2023-02-01T00:00:00",
          "2023-02-08T00:00:00"
         ],
         "xaxis": "x",
         "y": [
          0,
          0,
          0,
          0,
          0,
          0,
          0,
          9,
          390,
          7444,
          27548,
          51132,
          57664,
          42731,
          35141,
          20870,
          13627,
          9728,
          6254,
          5188,
          4540,
          2279,
          2176,
          2348,
          2332,
          2967,
          2945,
          2955,
          3260,
          3003,
          2494,
          2367,
          2047,
          3198,
          3000,
          2798,
          2240,
          3127,
          4151,
          3978,
          4545,
          6196,
          8896,
          17433,
          21530,
          28928,
          45213,
          51897,
          54094,
          57047,
          73731,
          90651,
          82901,
          67428,
          56122,
          38001,
          36788,
          28636,
          28510,
          30575,
          29357,
          33413,
          33978,
          34854,
          32393,
          24836,
          16532,
          11994,
          8127,
          5801,
          3922,
          2887,
          1946,
          1722,
          1514,
          1230,
          1286,
          1833,
          3367,
          5981,
          10035,
          14352,
          17547,
          22324,
          23096,
          24810,
          24304,
          24224,
          23440,
          21212,
          20804,
          18713,
          15645,
          13065,
          13859,
          18016,
          25352,
          26260,
          41428,
          50030,
          75383,
          124928,
          222599,
          301053,
          181908,
          83798,
          44636,
          23297,
          14371,
          8754,
          5931,
          4711,
          4315,
          4355,
          5621,
          7976,
          10282,
          19025,
          19966,
          23691,
          37701,
          37161,
          40032,
          35015,
          26239,
          21667,
          20312,
          20260,
          20715,
          30064,
          25608,
          30973,
          27928,
          24282,
          22488,
          19725,
          18361,
          16516,
          16099,
          20291,
          21709,
          16308,
          20095,
          16492,
          16077,
          15342,
          15835,
          16093,
          15734,
          17744,
          18292,
          30499,
          38205,
          15240,
          37569,
          28952,
          16247,
          14118,
          9629,
          0
         ],
         "yaxis": "y"
        }
       ],
       "layout": {
        "legend": {
         "title": {
          "text": "County Name"
         },
         "tracegroupgap": 0
        },
        "template": {
         "data": {
          "bar": [
           {
            "error_x": {
             "color": "#2a3f5f"
            },
            "error_y": {
             "color": "#2a3f5f"
            },
            "marker": {
             "line": {
              "color": "#E5ECF6",
              "width": 0.5
             },
             "pattern": {
              "fillmode": "overlay",
              "size": 10,
              "solidity": 0.2
             }
            },
            "type": "bar"
           }
          ],
          "barpolar": [
           {
            "marker": {
             "line": {
              "color": "#E5ECF6",
              "width": 0.5
             },
             "pattern": {
              "fillmode": "overlay",
              "size": 10,
              "solidity": 0.2
             }
            },
            "type": "barpolar"
           }
          ],
          "carpet": [
           {
            "aaxis": {
             "endlinecolor": "#2a3f5f",
             "gridcolor": "white",
             "linecolor": "white",
             "minorgridcolor": "white",
             "startlinecolor": "#2a3f5f"
            },
            "baxis": {
             "endlinecolor": "#2a3f5f",
             "gridcolor": "white",
             "linecolor": "white",
             "minorgridcolor": "white",
             "startlinecolor": "#2a3f5f"
            },
            "type": "carpet"
           }
          ],
          "choropleth": [
           {
            "colorbar": {
             "outlinewidth": 0,
             "ticks": ""
            },
            "type": "choropleth"
           }
          ],
          "contour": [
           {
            "colorbar": {
             "outlinewidth": 0,
             "ticks": ""
            },
            "colorscale": [
             [
              0,
              "#0d0887"
             ],
             [
              0.1111111111111111,
              "#46039f"
             ],
             [
              0.2222222222222222,
              "#7201a8"
             ],
             [
              0.3333333333333333,
              "#9c179e"
             ],
             [
              0.4444444444444444,
              "#bd3786"
             ],
             [
              0.5555555555555556,
              "#d8576b"
             ],
             [
              0.6666666666666666,
              "#ed7953"
             ],
             [
              0.7777777777777778,
              "#fb9f3a"
             ],
             [
              0.8888888888888888,
              "#fdca26"
             ],
             [
              1,
              "#f0f921"
             ]
            ],
            "type": "contour"
           }
          ],
          "contourcarpet": [
           {
            "colorbar": {
             "outlinewidth": 0,
             "ticks": ""
            },
            "type": "contourcarpet"
           }
          ],
          "heatmap": [
           {
            "colorbar": {
             "outlinewidth": 0,
             "ticks": ""
            },
            "colorscale": [
             [
              0,
              "#0d0887"
             ],
             [
              0.1111111111111111,
              "#46039f"
             ],
             [
              0.2222222222222222,
              "#7201a8"
             ],
             [
              0.3333333333333333,
              "#9c179e"
             ],
             [
              0.4444444444444444,
              "#bd3786"
             ],
             [
              0.5555555555555556,
              "#d8576b"
             ],
             [
              0.6666666666666666,
              "#ed7953"
             ],
             [
              0.7777777777777778,
              "#fb9f3a"
             ],
             [
              0.8888888888888888,
              "#fdca26"
             ],
             [
              1,
              "#f0f921"
             ]
            ],
            "type": "heatmap"
           }
          ],
          "heatmapgl": [
           {
            "colorbar": {
             "outlinewidth": 0,
             "ticks": ""
            },
            "colorscale": [
             [
              0,
              "#0d0887"
             ],
             [
              0.1111111111111111,
              "#46039f"
             ],
             [
              0.2222222222222222,
              "#7201a8"
             ],
             [
              0.3333333333333333,
              "#9c179e"
             ],
             [
              0.4444444444444444,
              "#bd3786"
             ],
             [
              0.5555555555555556,
              "#d8576b"
             ],
             [
              0.6666666666666666,
              "#ed7953"
             ],
             [
              0.7777777777777778,
              "#fb9f3a"
             ],
             [
              0.8888888888888888,
              "#fdca26"
             ],
             [
              1,
              "#f0f921"
             ]
            ],
            "type": "heatmapgl"
           }
          ],
          "histogram": [
           {
            "marker": {
             "pattern": {
              "fillmode": "overlay",
              "size": 10,
              "solidity": 0.2
             }
            },
            "type": "histogram"
           }
          ],
          "histogram2d": [
           {
            "colorbar": {
             "outlinewidth": 0,
             "ticks": ""
            },
            "colorscale": [
             [
              0,
              "#0d0887"
             ],
             [
              0.1111111111111111,
              "#46039f"
             ],
             [
              0.2222222222222222,
              "#7201a8"
             ],
             [
              0.3333333333333333,
              "#9c179e"
             ],
             [
              0.4444444444444444,
              "#bd3786"
             ],
             [
              0.5555555555555556,
              "#d8576b"
             ],
             [
              0.6666666666666666,
              "#ed7953"
             ],
             [
              0.7777777777777778,
              "#fb9f3a"
             ],
             [
              0.8888888888888888,
              "#fdca26"
             ],
             [
              1,
              "#f0f921"
             ]
            ],
            "type": "histogram2d"
           }
          ],
          "histogram2dcontour": [
           {
            "colorbar": {
             "outlinewidth": 0,
             "ticks": ""
            },
            "colorscale": [
             [
              0,
              "#0d0887"
             ],
             [
              0.1111111111111111,
              "#46039f"
             ],
             [
              0.2222222222222222,
              "#7201a8"
             ],
             [
              0.3333333333333333,
              "#9c179e"
             ],
             [
              0.4444444444444444,
              "#bd3786"
             ],
             [
              0.5555555555555556,
              "#d8576b"
             ],
             [
              0.6666666666666666,
              "#ed7953"
             ],
             [
              0.7777777777777778,
              "#fb9f3a"
             ],
             [
              0.8888888888888888,
              "#fdca26"
             ],
             [
              1,
              "#f0f921"
             ]
            ],
            "type": "histogram2dcontour"
           }
          ],
          "mesh3d": [
           {
            "colorbar": {
             "outlinewidth": 0,
             "ticks": ""
            },
            "type": "mesh3d"
           }
          ],
          "parcoords": [
           {
            "line": {
             "colorbar": {
              "outlinewidth": 0,
              "ticks": ""
             }
            },
            "type": "parcoords"
           }
          ],
          "pie": [
           {
            "automargin": true,
            "type": "pie"
           }
          ],
          "scatter": [
           {
            "fillpattern": {
             "fillmode": "overlay",
             "size": 10,
             "solidity": 0.2
            },
            "type": "scatter"
           }
          ],
          "scatter3d": [
           {
            "line": {
             "colorbar": {
              "outlinewidth": 0,
              "ticks": ""
             }
            },
            "marker": {
             "colorbar": {
              "outlinewidth": 0,
              "ticks": ""
             }
            },
            "type": "scatter3d"
           }
          ],
          "scattercarpet": [
           {
            "marker": {
             "colorbar": {
              "outlinewidth": 0,
              "ticks": ""
             }
            },
            "type": "scattercarpet"
           }
          ],
          "scattergeo": [
           {
            "marker": {
             "colorbar": {
              "outlinewidth": 0,
              "ticks": ""
             }
            },
            "type": "scattergeo"
           }
          ],
          "scattergl": [
           {
            "marker": {
             "colorbar": {
              "outlinewidth": 0,
              "ticks": ""
             }
            },
            "type": "scattergl"
           }
          ],
          "scattermapbox": [
           {
            "marker": {
             "colorbar": {
              "outlinewidth": 0,
              "ticks": ""
             }
            },
            "type": "scattermapbox"
           }
          ],
          "scatterpolar": [
           {
            "marker": {
             "colorbar": {
              "outlinewidth": 0,
              "ticks": ""
             }
            },
            "type": "scatterpolar"
           }
          ],
          "scatterpolargl": [
           {
            "marker": {
             "colorbar": {
              "outlinewidth": 0,
              "ticks": ""
             }
            },
            "type": "scatterpolargl"
           }
          ],
          "scatterternary": [
           {
            "marker": {
             "colorbar": {
              "outlinewidth": 0,
              "ticks": ""
             }
            },
            "type": "scatterternary"
           }
          ],
          "surface": [
           {
            "colorbar": {
             "outlinewidth": 0,
             "ticks": ""
            },
            "colorscale": [
             [
              0,
              "#0d0887"
             ],
             [
              0.1111111111111111,
              "#46039f"
             ],
             [
              0.2222222222222222,
              "#7201a8"
             ],
             [
              0.3333333333333333,
              "#9c179e"
             ],
             [
              0.4444444444444444,
              "#bd3786"
             ],
             [
              0.5555555555555556,
              "#d8576b"
             ],
             [
              0.6666666666666666,
              "#ed7953"
             ],
             [
              0.7777777777777778,
              "#fb9f3a"
             ],
             [
              0.8888888888888888,
              "#fdca26"
             ],
             [
              1,
              "#f0f921"
             ]
            ],
            "type": "surface"
           }
          ],
          "table": [
           {
            "cells": {
             "fill": {
              "color": "#EBF0F8"
             },
             "line": {
              "color": "white"
             }
            },
            "header": {
             "fill": {
              "color": "#C8D4E3"
             },
             "line": {
              "color": "white"
             }
            },
            "type": "table"
           }
          ]
         },
         "layout": {
          "annotationdefaults": {
           "arrowcolor": "#2a3f5f",
           "arrowhead": 0,
           "arrowwidth": 1
          },
          "autotypenumbers": "strict",
          "coloraxis": {
           "colorbar": {
            "outlinewidth": 0,
            "ticks": ""
           }
          },
          "colorscale": {
           "diverging": [
            [
             0,
             "#8e0152"
            ],
            [
             0.1,
             "#c51b7d"
            ],
            [
             0.2,
             "#de77ae"
            ],
            [
             0.3,
             "#f1b6da"
            ],
            [
             0.4,
             "#fde0ef"
            ],
            [
             0.5,
             "#f7f7f7"
            ],
            [
             0.6,
             "#e6f5d0"
            ],
            [
             0.7,
             "#b8e186"
            ],
            [
             0.8,
             "#7fbc41"
            ],
            [
             0.9,
             "#4d9221"
            ],
            [
             1,
             "#276419"
            ]
           ],
           "sequential": [
            [
             0,
             "#0d0887"
            ],
            [
             0.1111111111111111,
             "#46039f"
            ],
            [
             0.2222222222222222,
             "#7201a8"
            ],
            [
             0.3333333333333333,
             "#9c179e"
            ],
            [
             0.4444444444444444,
             "#bd3786"
            ],
            [
             0.5555555555555556,
             "#d8576b"
            ],
            [
             0.6666666666666666,
             "#ed7953"
            ],
            [
             0.7777777777777778,
             "#fb9f3a"
            ],
            [
             0.8888888888888888,
             "#fdca26"
            ],
            [
             1,
             "#f0f921"
            ]
           ],
           "sequentialminus": [
            [
             0,
             "#0d0887"
            ],
            [
             0.1111111111111111,
             "#46039f"
            ],
            [
             0.2222222222222222,
             "#7201a8"
            ],
            [
             0.3333333333333333,
             "#9c179e"
            ],
            [
             0.4444444444444444,
             "#bd3786"
            ],
            [
             0.5555555555555556,
             "#d8576b"
            ],
            [
             0.6666666666666666,
             "#ed7953"
            ],
            [
             0.7777777777777778,
             "#fb9f3a"
            ],
            [
             0.8888888888888888,
             "#fdca26"
            ],
            [
             1,
             "#f0f921"
            ]
           ]
          },
          "colorway": [
           "#636efa",
           "#EF553B",
           "#00cc96",
           "#ab63fa",
           "#FFA15A",
           "#19d3f3",
           "#FF6692",
           "#B6E880",
           "#FF97FF",
           "#FECB52"
          ],
          "font": {
           "color": "#2a3f5f"
          },
          "geo": {
           "bgcolor": "white",
           "lakecolor": "white",
           "landcolor": "#E5ECF6",
           "showlakes": true,
           "showland": true,
           "subunitcolor": "white"
          },
          "hoverlabel": {
           "align": "left"
          },
          "hovermode": "closest",
          "mapbox": {
           "style": "light"
          },
          "paper_bgcolor": "white",
          "plot_bgcolor": "#E5ECF6",
          "polar": {
           "angularaxis": {
            "gridcolor": "white",
            "linecolor": "white",
            "ticks": ""
           },
           "bgcolor": "#E5ECF6",
           "radialaxis": {
            "gridcolor": "white",
            "linecolor": "white",
            "ticks": ""
           }
          },
          "scene": {
           "xaxis": {
            "backgroundcolor": "#E5ECF6",
            "gridcolor": "white",
            "gridwidth": 2,
            "linecolor": "white",
            "showbackground": true,
            "ticks": "",
            "zerolinecolor": "white"
           },
           "yaxis": {
            "backgroundcolor": "#E5ECF6",
            "gridcolor": "white",
            "gridwidth": 2,
            "linecolor": "white",
            "showbackground": true,
            "ticks": "",
            "zerolinecolor": "white"
           },
           "zaxis": {
            "backgroundcolor": "#E5ECF6",
            "gridcolor": "white",
            "gridwidth": 2,
            "linecolor": "white",
            "showbackground": true,
            "ticks": "",
            "zerolinecolor": "white"
           }
          },
          "shapedefaults": {
           "line": {
            "color": "#2a3f5f"
           }
          },
          "ternary": {
           "aaxis": {
            "gridcolor": "white",
            "linecolor": "white",
            "ticks": ""
           },
           "baxis": {
            "gridcolor": "white",
            "linecolor": "white",
            "ticks": ""
           },
           "bgcolor": "#E5ECF6",
           "caxis": {
            "gridcolor": "white",
            "linecolor": "white",
            "ticks": ""
           }
          },
          "title": {
           "x": 0.05
          },
          "xaxis": {
           "automargin": true,
           "gridcolor": "white",
           "linecolor": "white",
           "ticks": "",
           "title": {
            "standoff": 15
           },
           "zerolinecolor": "white",
           "zerolinewidth": 2
          },
          "yaxis": {
           "automargin": true,
           "gridcolor": "white",
           "linecolor": "white",
           "ticks": "",
           "title": {
            "standoff": 15
           },
           "zerolinecolor": "white",
           "zerolinewidth": 2
          }
         }
        },
        "title": {
         "text": "Top 3 with highest cases(raw values)"
        },
        "xaxis": {
         "anchor": "y",
         "domain": [
          0,
          1
         ],
         "title": {
          "text": "date"
         }
        },
        "yaxis": {
         "anchor": "x",
         "domain": [
          0,
          1
         ],
         "title": {
          "text": "new_cases"
         }
        }
       }
      },
      "text/html": [
       "<div>                            <div id=\"4c14e7ad-be19-43fa-99af-26094a198011\" class=\"plotly-graph-div\" style=\"height:525px; width:100%;\"></div>            <script type=\"text/javascript\">                require([\"plotly\"], function(Plotly) {                    window.PLOTLYENV=window.PLOTLYENV || {};                                    if (document.getElementById(\"4c14e7ad-be19-43fa-99af-26094a198011\")) {                    Plotly.newPlot(                        \"4c14e7ad-be19-43fa-99af-26094a198011\",                        [{\"hovertemplate\":\"County Name=kings county<br>date=%{x}<br>new_cases=%{y}<extra></extra>\",\"legendgroup\":\"kings county\",\"line\":{\"color\":\"#636efa\",\"dash\":\"solid\"},\"marker\":{\"symbol\":\"circle\"},\"mode\":\"lines\",\"name\":\"kings county\",\"orientation\":\"v\",\"showlegend\":true,\"x\":[\"2020-01-22T00:00:00\",\"2020-01-29T00:00:00\",\"2020-02-05T00:00:00\",\"2020-02-12T00:00:00\",\"2020-02-19T00:00:00\",\"2020-02-26T00:00:00\",\"2020-03-04T00:00:00\",\"2020-03-11T00:00:00\",\"2020-03-18T00:00:00\",\"2020-03-25T00:00:00\",\"2020-04-01T00:00:00\",\"2020-04-08T00:00:00\",\"2020-04-15T00:00:00\",\"2020-04-22T00:00:00\",\"2020-04-29T00:00:00\",\"2020-05-06T00:00:00\",\"2020-05-13T00:00:00\",\"2020-05-20T00:00:00\",\"2020-05-27T00:00:00\",\"2020-06-03T00:00:00\",\"2020-06-10T00:00:00\",\"2020-06-17T00:00:00\",\"2020-06-24T00:00:00\",\"2020-07-01T00:00:00\",\"2020-07-08T00:00:00\",\"2020-07-15T00:00:00\",\"2020-07-22T00:00:00\",\"2020-07-29T00:00:00\",\"2020-08-05T00:00:00\",\"2020-08-12T00:00:00\",\"2020-08-19T00:00:00\",\"2020-08-26T00:00:00\",\"2020-09-02T00:00:00\",\"2020-09-09T00:00:00\",\"2020-09-16T00:00:00\",\"2020-09-23T00:00:00\",\"2020-09-30T00:00:00\",\"2020-10-07T00:00:00\",\"2020-10-14T00:00:00\",\"2020-10-21T00:00:00\",\"2020-10-28T00:00:00\",\"2020-11-04T00:00:00\",\"2020-11-11T00:00:00\",\"2020-11-18T00:00:00\",\"2020-11-25T00:00:00\",\"2020-12-02T00:00:00\",\"2020-12-09T00:00:00\",\"2020-12-16T00:00:00\",\"2020-12-23T00:00:00\",\"2020-12-30T00:00:00\",\"2021-01-06T00:00:00\",\"2021-01-13T00:00:00\",\"2021-01-20T00:00:00\",\"2021-01-27T00:00:00\",\"2021-02-03T00:00:00\",\"2021-02-10T00:00:00\",\"2021-02-17T00:00:00\",\"2021-02-24T00:00:00\",\"2021-03-03T00:00:00\",\"2021-03-10T00:00:00\",\"2021-03-17T00:00:00\",\"2021-03-24T00:00:00\",\"2021-03-31T00:00:00\",\"2021-04-07T00:00:00\",\"2021-04-14T00:00:00\",\"2021-04-21T00:00:00\",\"2021-04-28T00:00:00\",\"2021-05-05T00:00:00\",\"2021-05-12T00:00:00\",\"2021-05-19T00:00:00\",\"2021-05-26T00:00:00\",\"2021-06-02T00:00:00\",\"2021-06-09T00:00:00\",\"2021-06-16T00:00:00\",\"2021-06-23T00:00:00\",\"2021-06-30T00:00:00\",\"2021-07-07T00:00:00\",\"2021-07-14T00:00:00\",\"2021-07-21T00:00:00\",\"2021-07-28T00:00:00\",\"2021-08-04T00:00:00\",\"2021-08-11T00:00:00\",\"2021-08-18T00:00:00\",\"2021-08-25T00:00:00\",\"2021-09-01T00:00:00\",\"2021-09-08T00:00:00\",\"2021-09-15T00:00:00\",\"2021-09-22T00:00:00\",\"2021-09-29T00:00:00\",\"2021-10-06T00:00:00\",\"2021-10-13T00:00:00\",\"2021-10-20T00:00:00\",\"2021-10-27T00:00:00\",\"2021-11-03T00:00:00\",\"2021-11-10T00:00:00\",\"2021-11-17T00:00:00\",\"2021-11-24T00:00:00\",\"2021-12-01T00:00:00\",\"2021-12-08T00:00:00\",\"2021-12-15T00:00:00\",\"2021-12-22T00:00:00\",\"2021-12-29T00:00:00\",\"2022-01-05T00:00:00\",\"2022-01-12T00:00:00\",\"2022-01-19T00:00:00\",\"2022-01-26T00:00:00\",\"2022-02-02T00:00:00\",\"2022-02-09T00:00:00\",\"2022-02-16T00:00:00\",\"2022-02-23T00:00:00\",\"2022-03-02T00:00:00\",\"2022-03-09T00:00:00\",\"2022-03-16T00:00:00\",\"2022-03-23T00:00:00\",\"2022-03-30T00:00:00\",\"2022-04-06T00:00:00\",\"2022-04-13T00:00:00\",\"2022-04-20T00:00:00\",\"2022-04-27T00:00:00\",\"2022-05-04T00:00:00\",\"2022-05-11T00:00:00\",\"2022-05-18T00:00:00\",\"2022-05-25T00:00:00\",\"2022-06-01T00:00:00\",\"2022-06-08T00:00:00\",\"2022-06-15T00:00:00\",\"2022-06-22T00:00:00\",\"2022-06-29T00:00:00\",\"2022-07-06T00:00:00\",\"2022-07-13T00:00:00\",\"2022-07-20T00:00:00\",\"2022-07-27T00:00:00\",\"2022-08-03T00:00:00\",\"2022-08-10T00:00:00\",\"2022-08-17T00:00:00\",\"2022-08-24T00:00:00\",\"2022-08-31T00:00:00\",\"2022-09-07T00:00:00\",\"2022-09-14T00:00:00\",\"2022-09-21T00:00:00\",\"2022-09-28T00:00:00\",\"2022-10-05T00:00:00\",\"2022-10-12T00:00:00\",\"2022-10-19T00:00:00\",\"2022-10-26T00:00:00\",\"2022-11-02T00:00:00\",\"2022-11-09T00:00:00\",\"2022-11-16T00:00:00\",\"2022-11-23T00:00:00\",\"2022-11-30T00:00:00\",\"2022-12-07T00:00:00\",\"2022-12-14T00:00:00\",\"2022-12-21T00:00:00\",\"2022-12-28T00:00:00\",\"2023-01-04T00:00:00\",\"2023-01-11T00:00:00\",\"2023-01-18T00:00:00\",\"2023-01-25T00:00:00\",\"2023-02-01T00:00:00\",\"2023-02-08T00:00:00\"],\"xaxis\":\"x\",\"y\":[0,0,0,0,0,0,0,36,823,20158,42449,64249,63787,62174,41310,31255,21655,17124,13780,12120,8645,6588,5725,4534,4400,4335,4711,3989,4050,4174,4744,3748,3959,4688,4172,6176,8389,11145,11932,10422,10270,11916,15266,20237,23016,27794,40277,46676,51524,57292,62966,76716,85557,81192,77835,59794,63488,54809,57424,59928,54331,61186,59754,55376,51240,46713,34009,24350,16408,11089,7966,5172,3456,3057,2389,2479,3037,5225,8587,13697,20759,25840,29438,30884,28202,26544,25888,28506,25508,23844,26044,21998,18402,15686,16088,17443,22041,21804,29159,46228,125661,286965,502125,606680,395172,193591,89417,41449,26855,16658,11694,10526,11376,13899,18072,20606,24380,33582,32336,32327,57561,52106,55017,51876,46101,41334,37940,38612,39195,54015,50585,56770,46103,42419,34733,30895,26125,23231,21353,23886,25296,19259,23164,23226,23086,25377,27595,30517,28370,30394,24623,39144,46507,17830,41965,35589,24653,28385,20030,0],\"yaxis\":\"y\",\"type\":\"scatter\"},{\"hovertemplate\":\"County Name=queens county<br>date=%{x}<br>new_cases=%{y}<extra></extra>\",\"legendgroup\":\"queens county\",\"line\":{\"color\":\"#EF553B\",\"dash\":\"solid\"},\"marker\":{\"symbol\":\"circle\"},\"mode\":\"lines\",\"name\":\"queens county\",\"orientation\":\"v\",\"showlegend\":true,\"x\":[\"2020-01-22T00:00:00\",\"2020-01-29T00:00:00\",\"2020-02-05T00:00:00\",\"2020-02-12T00:00:00\",\"2020-02-19T00:00:00\",\"2020-02-26T00:00:00\",\"2020-03-04T00:00:00\",\"2020-03-11T00:00:00\",\"2020-03-18T00:00:00\",\"2020-03-25T00:00:00\",\"2020-04-01T00:00:00\",\"2020-04-08T00:00:00\",\"2020-04-15T00:00:00\",\"2020-04-22T00:00:00\",\"2020-04-29T00:00:00\",\"2020-05-06T00:00:00\",\"2020-05-13T00:00:00\",\"2020-05-20T00:00:00\",\"2020-05-27T00:00:00\",\"2020-06-03T00:00:00\",\"2020-06-10T00:00:00\",\"2020-06-17T00:00:00\",\"2020-06-24T00:00:00\",\"2020-07-01T00:00:00\",\"2020-07-08T00:00:00\",\"2020-07-15T00:00:00\",\"2020-07-22T00:00:00\",\"2020-07-29T00:00:00\",\"2020-08-05T00:00:00\",\"2020-08-12T00:00:00\",\"2020-08-19T00:00:00\",\"2020-08-26T00:00:00\",\"2020-09-02T00:00:00\",\"2020-09-09T00:00:00\",\"2020-09-16T00:00:00\",\"2020-09-23T00:00:00\",\"2020-09-30T00:00:00\",\"2020-10-07T00:00:00\",\"2020-10-14T00:00:00\",\"2020-10-21T00:00:00\",\"2020-10-28T00:00:00\",\"2020-11-04T00:00:00\",\"2020-11-11T00:00:00\",\"2020-11-18T00:00:00\",\"2020-11-25T00:00:00\",\"2020-12-02T00:00:00\",\"2020-12-09T00:00:00\",\"2020-12-16T00:00:00\",\"2020-12-23T00:00:00\",\"2020-12-30T00:00:00\",\"2021-01-06T00:00:00\",\"2021-01-13T00:00:00\",\"2021-01-20T00:00:00\",\"2021-01-27T00:00:00\",\"2021-02-03T00:00:00\",\"2021-02-10T00:00:00\",\"2021-02-17T00:00:00\",\"2021-02-24T00:00:00\",\"2021-03-03T00:00:00\",\"2021-03-10T00:00:00\",\"2021-03-17T00:00:00\",\"2021-03-24T00:00:00\",\"2021-03-31T00:00:00\",\"2021-04-07T00:00:00\",\"2021-04-14T00:00:00\",\"2021-04-21T00:00:00\",\"2021-04-28T00:00:00\",\"2021-05-05T00:00:00\",\"2021-05-12T00:00:00\",\"2021-05-19T00:00:00\",\"2021-05-26T00:00:00\",\"2021-06-02T00:00:00\",\"2021-06-09T00:00:00\",\"2021-06-16T00:00:00\",\"2021-06-23T00:00:00\",\"2021-06-30T00:00:00\",\"2021-07-07T00:00:00\",\"2021-07-14T00:00:00\",\"2021-07-21T00:00:00\",\"2021-07-28T00:00:00\",\"2021-08-04T00:00:00\",\"2021-08-11T00:00:00\",\"2021-08-18T00:00:00\",\"2021-08-25T00:00:00\",\"2021-09-01T00:00:00\",\"2021-09-08T00:00:00\",\"2021-09-15T00:00:00\",\"2021-09-22T00:00:00\",\"2021-09-29T00:00:00\",\"2021-10-06T00:00:00\",\"2021-10-13T00:00:00\",\"2021-10-20T00:00:00\",\"2021-10-27T00:00:00\",\"2021-11-03T00:00:00\",\"2021-11-10T00:00:00\",\"2021-11-17T00:00:00\",\"2021-11-24T00:00:00\",\"2021-12-01T00:00:00\",\"2021-12-08T00:00:00\",\"2021-12-15T00:00:00\",\"2021-12-22T00:00:00\",\"2021-12-29T00:00:00\",\"2022-01-05T00:00:00\",\"2022-01-12T00:00:00\",\"2022-01-19T00:00:00\",\"2022-01-26T00:00:00\",\"2022-02-02T00:00:00\",\"2022-02-09T00:00:00\",\"2022-02-16T00:00:00\",\"2022-02-23T00:00:00\",\"2022-03-02T00:00:00\",\"2022-03-09T00:00:00\",\"2022-03-16T00:00:00\",\"2022-03-23T00:00:00\",\"2022-03-30T00:00:00\",\"2022-04-06T00:00:00\",\"2022-04-13T00:00:00\",\"2022-04-20T00:00:00\",\"2022-04-27T00:00:00\",\"2022-05-04T00:00:00\",\"2022-05-11T00:00:00\",\"2022-05-18T00:00:00\",\"2022-05-25T00:00:00\",\"2022-06-01T00:00:00\",\"2022-06-08T00:00:00\",\"2022-06-15T00:00:00\",\"2022-06-22T00:00:00\",\"2022-06-29T00:00:00\",\"2022-07-06T00:00:00\",\"2022-07-13T00:00:00\",\"2022-07-20T00:00:00\",\"2022-07-27T00:00:00\",\"2022-08-03T00:00:00\",\"2022-08-10T00:00:00\",\"2022-08-17T00:00:00\",\"2022-08-24T00:00:00\",\"2022-08-31T00:00:00\",\"2022-09-07T00:00:00\",\"2022-09-14T00:00:00\",\"2022-09-21T00:00:00\",\"2022-09-28T00:00:00\",\"2022-10-05T00:00:00\",\"2022-10-12T00:00:00\",\"2022-10-19T00:00:00\",\"2022-10-26T00:00:00\",\"2022-11-02T00:00:00\",\"2022-11-09T00:00:00\",\"2022-11-16T00:00:00\",\"2022-11-23T00:00:00\",\"2022-11-30T00:00:00\",\"2022-12-07T00:00:00\",\"2022-12-14T00:00:00\",\"2022-12-21T00:00:00\",\"2022-12-28T00:00:00\",\"2023-01-04T00:00:00\",\"2023-01-11T00:00:00\",\"2023-01-18T00:00:00\",\"2023-01-25T00:00:00\",\"2023-02-01T00:00:00\",\"2023-02-08T00:00:00\"],\"xaxis\":\"x\",\"y\":[0,0,0,0,0,0,0,12,1063,20747,56164,73427,75571,60036,50946,36036,23066,16089,11075,9426,7006,6040,5441,4553,4227,3876,4229,4167,3495,3512,3953,3569,3382,3240,3441,3787,4172,6115,7126,6671,7703,9925,12633,20796,23581,28153,39823,49109,52571,56276,66427,81013,86554,87914,76987,55962,60272,52719,51088,54525,51072,60207,58922,56031,48985,40623,28690,19300,13589,10026,6716,4725,3167,2582,2375,2316,2654,4377,6044,9184,14562,19821,23842,23827,20143,19142,19534,19481,18186,15012,14621,11829,9806,8255,9194,11452,16764,18513,27245,40759,87238,218143,447873,630582,426176,182479,73192,31027,29090,11846,8872,7166,6163,7436,10042,13688,16177,25403,29353,31804,57257,51234,54491,48825,44596,44089,39703,39492,40179,58767,55023,61106,49897,46567,37960,33283,28490,24840,22068,24924,26112,19831,25643,24167,24660,26627,28432,30471,28294,31801,26866,41517,46980,19485,44527,37807,25513,25963,16310,0],\"yaxis\":\"y\",\"type\":\"scatter\"},{\"hovertemplate\":\"County Name=suffolk county<br>date=%{x}<br>new_cases=%{y}<extra></extra>\",\"legendgroup\":\"suffolk county\",\"line\":{\"color\":\"#00cc96\",\"dash\":\"solid\"},\"marker\":{\"symbol\":\"circle\"},\"mode\":\"lines\",\"name\":\"suffolk county\",\"orientation\":\"v\",\"showlegend\":true,\"x\":[\"2020-01-22T00:00:00\",\"2020-01-29T00:00:00\",\"2020-02-05T00:00:00\",\"2020-02-12T00:00:00\",\"2020-02-19T00:00:00\",\"2020-02-26T00:00:00\",\"2020-03-04T00:00:00\",\"2020-03-11T00:00:00\",\"2020-03-18T00:00:00\",\"2020-03-25T00:00:00\",\"2020-04-01T00:00:00\",\"2020-04-08T00:00:00\",\"2020-04-15T00:00:00\",\"2020-04-22T00:00:00\",\"2020-04-29T00:00:00\",\"2020-05-06T00:00:00\",\"2020-05-13T00:00:00\",\"2020-05-20T00:00:00\",\"2020-05-27T00:00:00\",\"2020-06-03T00:00:00\",\"2020-06-10T00:00:00\",\"2020-06-17T00:00:00\",\"2020-06-24T00:00:00\",\"2020-07-01T00:00:00\",\"2020-07-08T00:00:00\",\"2020-07-15T00:00:00\",\"2020-07-22T00:00:00\",\"2020-07-29T00:00:00\",\"2020-08-05T00:00:00\",\"2020-08-12T00:00:00\",\"2020-08-19T00:00:00\",\"2020-08-26T00:00:00\",\"2020-09-02T00:00:00\",\"2020-09-09T00:00:00\",\"2020-09-16T00:00:00\",\"2020-09-23T00:00:00\",\"2020-09-30T00:00:00\",\"2020-10-07T00:00:00\",\"2020-10-14T00:00:00\",\"2020-10-21T00:00:00\",\"2020-10-28T00:00:00\",\"2020-11-04T00:00:00\",\"2020-11-11T00:00:00\",\"2020-11-18T00:00:00\",\"2020-11-25T00:00:00\",\"2020-12-02T00:00:00\",\"2020-12-09T00:00:00\",\"2020-12-16T00:00:00\",\"2020-12-23T00:00:00\",\"2020-12-30T00:00:00\",\"2021-01-06T00:00:00\",\"2021-01-13T00:00:00\",\"2021-01-20T00:00:00\",\"2021-01-27T00:00:00\",\"2021-02-03T00:00:00\",\"2021-02-10T00:00:00\",\"2021-02-17T00:00:00\",\"2021-02-24T00:00:00\",\"2021-03-03T00:00:00\",\"2021-03-10T00:00:00\",\"2021-03-17T00:00:00\",\"2021-03-24T00:00:00\",\"2021-03-31T00:00:00\",\"2021-04-07T00:00:00\",\"2021-04-14T00:00:00\",\"2021-04-21T00:00:00\",\"2021-04-28T00:00:00\",\"2021-05-05T00:00:00\",\"2021-05-12T00:00:00\",\"2021-05-19T00:00:00\",\"2021-05-26T00:00:00\",\"2021-06-02T00:00:00\",\"2021-06-09T00:00:00\",\"2021-06-16T00:00:00\",\"2021-06-23T00:00:00\",\"2021-06-30T00:00:00\",\"2021-07-07T00:00:00\",\"2021-07-14T00:00:00\",\"2021-07-21T00:00:00\",\"2021-07-28T00:00:00\",\"2021-08-04T00:00:00\",\"2021-08-11T00:00:00\",\"2021-08-18T00:00:00\",\"2021-08-25T00:00:00\",\"2021-09-01T00:00:00\",\"2021-09-08T00:00:00\",\"2021-09-15T00:00:00\",\"2021-09-22T00:00:00\",\"2021-09-29T00:00:00\",\"2021-10-06T00:00:00\",\"2021-10-13T00:00:00\",\"2021-10-20T00:00:00\",\"2021-10-27T00:00:00\",\"2021-11-03T00:00:00\",\"2021-11-10T00:00:00\",\"2021-11-17T00:00:00\",\"2021-11-24T00:00:00\",\"2021-12-01T00:00:00\",\"2021-12-08T00:00:00\",\"2021-12-15T00:00:00\",\"2021-12-22T00:00:00\",\"2021-12-29T00:00:00\",\"2022-01-05T00:00:00\",\"2022-01-12T00:00:00\",\"2022-01-19T00:00:00\",\"2022-01-26T00:00:00\",\"2022-02-02T00:00:00\",\"2022-02-09T00:00:00\",\"2022-02-16T00:00:00\",\"2022-02-23T00:00:00\",\"2022-03-02T00:00:00\",\"2022-03-09T00:00:00\",\"2022-03-16T00:00:00\",\"2022-03-23T00:00:00\",\"2022-03-30T00:00:00\",\"2022-04-06T00:00:00\",\"2022-04-13T00:00:00\",\"2022-04-20T00:00:00\",\"2022-04-27T00:00:00\",\"2022-05-04T00:00:00\",\"2022-05-11T00:00:00\",\"2022-05-18T00:00:00\",\"2022-05-25T00:00:00\",\"2022-06-01T00:00:00\",\"2022-06-08T00:00:00\",\"2022-06-15T00:00:00\",\"2022-06-22T00:00:00\",\"2022-06-29T00:00:00\",\"2022-07-06T00:00:00\",\"2022-07-13T00:00:00\",\"2022-07-20T00:00:00\",\"2022-07-27T00:00:00\",\"2022-08-03T00:00:00\",\"2022-08-10T00:00:00\",\"2022-08-17T00:00:00\",\"2022-08-24T00:00:00\",\"2022-08-31T00:00:00\",\"2022-09-07T00:00:00\",\"2022-09-14T00:00:00\",\"2022-09-21T00:00:00\",\"2022-09-28T00:00:00\",\"2022-10-05T00:00:00\",\"2022-10-12T00:00:00\",\"2022-10-19T00:00:00\",\"2022-10-26T00:00:00\",\"2022-11-02T00:00:00\",\"2022-11-09T00:00:00\",\"2022-11-16T00:00:00\",\"2022-11-23T00:00:00\",\"2022-11-30T00:00:00\",\"2022-12-07T00:00:00\",\"2022-12-14T00:00:00\",\"2022-12-21T00:00:00\",\"2022-12-28T00:00:00\",\"2023-01-04T00:00:00\",\"2023-01-11T00:00:00\",\"2023-01-18T00:00:00\",\"2023-01-25T00:00:00\",\"2023-02-01T00:00:00\",\"2023-02-08T00:00:00\"],\"xaxis\":\"x\",\"y\":[0,0,0,0,0,0,0,9,390,7444,27548,51132,57664,42731,35141,20870,13627,9728,6254,5188,4540,2279,2176,2348,2332,2967,2945,2955,3260,3003,2494,2367,2047,3198,3000,2798,2240,3127,4151,3978,4545,6196,8896,17433,21530,28928,45213,51897,54094,57047,73731,90651,82901,67428,56122,38001,36788,28636,28510,30575,29357,33413,33978,34854,32393,24836,16532,11994,8127,5801,3922,2887,1946,1722,1514,1230,1286,1833,3367,5981,10035,14352,17547,22324,23096,24810,24304,24224,23440,21212,20804,18713,15645,13065,13859,18016,25352,26260,41428,50030,75383,124928,222599,301053,181908,83798,44636,23297,14371,8754,5931,4711,4315,4355,5621,7976,10282,19025,19966,23691,37701,37161,40032,35015,26239,21667,20312,20260,20715,30064,25608,30973,27928,24282,22488,19725,18361,16516,16099,20291,21709,16308,20095,16492,16077,15342,15835,16093,15734,17744,18292,30499,38205,15240,37569,28952,16247,14118,9629,0],\"yaxis\":\"y\",\"type\":\"scatter\"}],                        {\"template\":{\"data\":{\"histogram2dcontour\":[{\"type\":\"histogram2dcontour\",\"colorbar\":{\"outlinewidth\":0,\"ticks\":\"\"},\"colorscale\":[[0.0,\"#0d0887\"],[0.1111111111111111,\"#46039f\"],[0.2222222222222222,\"#7201a8\"],[0.3333333333333333,\"#9c179e\"],[0.4444444444444444,\"#bd3786\"],[0.5555555555555556,\"#d8576b\"],[0.6666666666666666,\"#ed7953\"],[0.7777777777777778,\"#fb9f3a\"],[0.8888888888888888,\"#fdca26\"],[1.0,\"#f0f921\"]]}],\"choropleth\":[{\"type\":\"choropleth\",\"colorbar\":{\"outlinewidth\":0,\"ticks\":\"\"}}],\"histogram2d\":[{\"type\":\"histogram2d\",\"colorbar\":{\"outlinewidth\":0,\"ticks\":\"\"},\"colorscale\":[[0.0,\"#0d0887\"],[0.1111111111111111,\"#46039f\"],[0.2222222222222222,\"#7201a8\"],[0.3333333333333333,\"#9c179e\"],[0.4444444444444444,\"#bd3786\"],[0.5555555555555556,\"#d8576b\"],[0.6666666666666666,\"#ed7953\"],[0.7777777777777778,\"#fb9f3a\"],[0.8888888888888888,\"#fdca26\"],[1.0,\"#f0f921\"]]}],\"heatmap\":[{\"type\":\"heatmap\",\"colorbar\":{\"outlinewidth\":0,\"ticks\":\"\"},\"colorscale\":[[0.0,\"#0d0887\"],[0.1111111111111111,\"#46039f\"],[0.2222222222222222,\"#7201a8\"],[0.3333333333333333,\"#9c179e\"],[0.4444444444444444,\"#bd3786\"],[0.5555555555555556,\"#d8576b\"],[0.6666666666666666,\"#ed7953\"],[0.7777777777777778,\"#fb9f3a\"],[0.8888888888888888,\"#fdca26\"],[1.0,\"#f0f921\"]]}],\"heatmapgl\":[{\"type\":\"heatmapgl\",\"colorbar\":{\"outlinewidth\":0,\"ticks\":\"\"},\"colorscale\":[[0.0,\"#0d0887\"],[0.1111111111111111,\"#46039f\"],[0.2222222222222222,\"#7201a8\"],[0.3333333333333333,\"#9c179e\"],[0.4444444444444444,\"#bd3786\"],[0.5555555555555556,\"#d8576b\"],[0.6666666666666666,\"#ed7953\"],[0.7777777777777778,\"#fb9f3a\"],[0.8888888888888888,\"#fdca26\"],[1.0,\"#f0f921\"]]}],\"contourcarpet\":[{\"type\":\"contourcarpet\",\"colorbar\":{\"outlinewidth\":0,\"ticks\":\"\"}}],\"contour\":[{\"type\":\"contour\",\"colorbar\":{\"outlinewidth\":0,\"ticks\":\"\"},\"colorscale\":[[0.0,\"#0d0887\"],[0.1111111111111111,\"#46039f\"],[0.2222222222222222,\"#7201a8\"],[0.3333333333333333,\"#9c179e\"],[0.4444444444444444,\"#bd3786\"],[0.5555555555555556,\"#d8576b\"],[0.6666666666666666,\"#ed7953\"],[0.7777777777777778,\"#fb9f3a\"],[0.8888888888888888,\"#fdca26\"],[1.0,\"#f0f921\"]]}],\"surface\":[{\"type\":\"surface\",\"colorbar\":{\"outlinewidth\":0,\"ticks\":\"\"},\"colorscale\":[[0.0,\"#0d0887\"],[0.1111111111111111,\"#46039f\"],[0.2222222222222222,\"#7201a8\"],[0.3333333333333333,\"#9c179e\"],[0.4444444444444444,\"#bd3786\"],[0.5555555555555556,\"#d8576b\"],[0.6666666666666666,\"#ed7953\"],[0.7777777777777778,\"#fb9f3a\"],[0.8888888888888888,\"#fdca26\"],[1.0,\"#f0f921\"]]}],\"mesh3d\":[{\"type\":\"mesh3d\",\"colorbar\":{\"outlinewidth\":0,\"ticks\":\"\"}}],\"scatter\":[{\"fillpattern\":{\"fillmode\":\"overlay\",\"size\":10,\"solidity\":0.2},\"type\":\"scatter\"}],\"parcoords\":[{\"type\":\"parcoords\",\"line\":{\"colorbar\":{\"outlinewidth\":0,\"ticks\":\"\"}}}],\"scatterpolargl\":[{\"type\":\"scatterpolargl\",\"marker\":{\"colorbar\":{\"outlinewidth\":0,\"ticks\":\"\"}}}],\"bar\":[{\"error_x\":{\"color\":\"#2a3f5f\"},\"error_y\":{\"color\":\"#2a3f5f\"},\"marker\":{\"line\":{\"color\":\"#E5ECF6\",\"width\":0.5},\"pattern\":{\"fillmode\":\"overlay\",\"size\":10,\"solidity\":0.2}},\"type\":\"bar\"}],\"scattergeo\":[{\"type\":\"scattergeo\",\"marker\":{\"colorbar\":{\"outlinewidth\":0,\"ticks\":\"\"}}}],\"scatterpolar\":[{\"type\":\"scatterpolar\",\"marker\":{\"colorbar\":{\"outlinewidth\":0,\"ticks\":\"\"}}}],\"histogram\":[{\"marker\":{\"pattern\":{\"fillmode\":\"overlay\",\"size\":10,\"solidity\":0.2}},\"type\":\"histogram\"}],\"scattergl\":[{\"type\":\"scattergl\",\"marker\":{\"colorbar\":{\"outlinewidth\":0,\"ticks\":\"\"}}}],\"scatter3d\":[{\"type\":\"scatter3d\",\"line\":{\"colorbar\":{\"outlinewidth\":0,\"ticks\":\"\"}},\"marker\":{\"colorbar\":{\"outlinewidth\":0,\"ticks\":\"\"}}}],\"scattermapbox\":[{\"type\":\"scattermapbox\",\"marker\":{\"colorbar\":{\"outlinewidth\":0,\"ticks\":\"\"}}}],\"scatterternary\":[{\"type\":\"scatterternary\",\"marker\":{\"colorbar\":{\"outlinewidth\":0,\"ticks\":\"\"}}}],\"scattercarpet\":[{\"type\":\"scattercarpet\",\"marker\":{\"colorbar\":{\"outlinewidth\":0,\"ticks\":\"\"}}}],\"carpet\":[{\"aaxis\":{\"endlinecolor\":\"#2a3f5f\",\"gridcolor\":\"white\",\"linecolor\":\"white\",\"minorgridcolor\":\"white\",\"startlinecolor\":\"#2a3f5f\"},\"baxis\":{\"endlinecolor\":\"#2a3f5f\",\"gridcolor\":\"white\",\"linecolor\":\"white\",\"minorgridcolor\":\"white\",\"startlinecolor\":\"#2a3f5f\"},\"type\":\"carpet\"}],\"table\":[{\"cells\":{\"fill\":{\"color\":\"#EBF0F8\"},\"line\":{\"color\":\"white\"}},\"header\":{\"fill\":{\"color\":\"#C8D4E3\"},\"line\":{\"color\":\"white\"}},\"type\":\"table\"}],\"barpolar\":[{\"marker\":{\"line\":{\"color\":\"#E5ECF6\",\"width\":0.5},\"pattern\":{\"fillmode\":\"overlay\",\"size\":10,\"solidity\":0.2}},\"type\":\"barpolar\"}],\"pie\":[{\"automargin\":true,\"type\":\"pie\"}]},\"layout\":{\"autotypenumbers\":\"strict\",\"colorway\":[\"#636efa\",\"#EF553B\",\"#00cc96\",\"#ab63fa\",\"#FFA15A\",\"#19d3f3\",\"#FF6692\",\"#B6E880\",\"#FF97FF\",\"#FECB52\"],\"font\":{\"color\":\"#2a3f5f\"},\"hovermode\":\"closest\",\"hoverlabel\":{\"align\":\"left\"},\"paper_bgcolor\":\"white\",\"plot_bgcolor\":\"#E5ECF6\",\"polar\":{\"bgcolor\":\"#E5ECF6\",\"angularaxis\":{\"gridcolor\":\"white\",\"linecolor\":\"white\",\"ticks\":\"\"},\"radialaxis\":{\"gridcolor\":\"white\",\"linecolor\":\"white\",\"ticks\":\"\"}},\"ternary\":{\"bgcolor\":\"#E5ECF6\",\"aaxis\":{\"gridcolor\":\"white\",\"linecolor\":\"white\",\"ticks\":\"\"},\"baxis\":{\"gridcolor\":\"white\",\"linecolor\":\"white\",\"ticks\":\"\"},\"caxis\":{\"gridcolor\":\"white\",\"linecolor\":\"white\",\"ticks\":\"\"}},\"coloraxis\":{\"colorbar\":{\"outlinewidth\":0,\"ticks\":\"\"}},\"colorscale\":{\"sequential\":[[0.0,\"#0d0887\"],[0.1111111111111111,\"#46039f\"],[0.2222222222222222,\"#7201a8\"],[0.3333333333333333,\"#9c179e\"],[0.4444444444444444,\"#bd3786\"],[0.5555555555555556,\"#d8576b\"],[0.6666666666666666,\"#ed7953\"],[0.7777777777777778,\"#fb9f3a\"],[0.8888888888888888,\"#fdca26\"],[1.0,\"#f0f921\"]],\"sequentialminus\":[[0.0,\"#0d0887\"],[0.1111111111111111,\"#46039f\"],[0.2222222222222222,\"#7201a8\"],[0.3333333333333333,\"#9c179e\"],[0.4444444444444444,\"#bd3786\"],[0.5555555555555556,\"#d8576b\"],[0.6666666666666666,\"#ed7953\"],[0.7777777777777778,\"#fb9f3a\"],[0.8888888888888888,\"#fdca26\"],[1.0,\"#f0f921\"]],\"diverging\":[[0,\"#8e0152\"],[0.1,\"#c51b7d\"],[0.2,\"#de77ae\"],[0.3,\"#f1b6da\"],[0.4,\"#fde0ef\"],[0.5,\"#f7f7f7\"],[0.6,\"#e6f5d0\"],[0.7,\"#b8e186\"],[0.8,\"#7fbc41\"],[0.9,\"#4d9221\"],[1,\"#276419\"]]},\"xaxis\":{\"gridcolor\":\"white\",\"linecolor\":\"white\",\"ticks\":\"\",\"title\":{\"standoff\":15},\"zerolinecolor\":\"white\",\"automargin\":true,\"zerolinewidth\":2},\"yaxis\":{\"gridcolor\":\"white\",\"linecolor\":\"white\",\"ticks\":\"\",\"title\":{\"standoff\":15},\"zerolinecolor\":\"white\",\"automargin\":true,\"zerolinewidth\":2},\"scene\":{\"xaxis\":{\"backgroundcolor\":\"#E5ECF6\",\"gridcolor\":\"white\",\"linecolor\":\"white\",\"showbackground\":true,\"ticks\":\"\",\"zerolinecolor\":\"white\",\"gridwidth\":2},\"yaxis\":{\"backgroundcolor\":\"#E5ECF6\",\"gridcolor\":\"white\",\"linecolor\":\"white\",\"showbackground\":true,\"ticks\":\"\",\"zerolinecolor\":\"white\",\"gridwidth\":2},\"zaxis\":{\"backgroundcolor\":\"#E5ECF6\",\"gridcolor\":\"white\",\"linecolor\":\"white\",\"showbackground\":true,\"ticks\":\"\",\"zerolinecolor\":\"white\",\"gridwidth\":2}},\"shapedefaults\":{\"line\":{\"color\":\"#2a3f5f\"}},\"annotationdefaults\":{\"arrowcolor\":\"#2a3f5f\",\"arrowhead\":0,\"arrowwidth\":1},\"geo\":{\"bgcolor\":\"white\",\"landcolor\":\"#E5ECF6\",\"subunitcolor\":\"white\",\"showland\":true,\"showlakes\":true,\"lakecolor\":\"white\"},\"title\":{\"x\":0.05},\"mapbox\":{\"style\":\"light\"}}},\"xaxis\":{\"anchor\":\"y\",\"domain\":[0.0,1.0],\"title\":{\"text\":\"date\"}},\"yaxis\":{\"anchor\":\"x\",\"domain\":[0.0,1.0],\"title\":{\"text\":\"new_cases\"}},\"legend\":{\"title\":{\"text\":\"County Name\"},\"tracegroupgap\":0},\"title\":{\"text\":\"Top 3 with highest cases(raw values)\"}},                        {\"responsive\": true}                    ).then(function(){\n",
       "                            \n",
       "var gd = document.getElementById('4c14e7ad-be19-43fa-99af-26094a198011');\n",
       "var x = new MutationObserver(function (mutations, observer) {{\n",
       "        var display = window.getComputedStyle(gd).display;\n",
       "        if (!display || display === 'none') {{\n",
       "            console.log([gd, 'removed!']);\n",
       "            Plotly.purge(gd);\n",
       "            observer.disconnect();\n",
       "        }}\n",
       "}});\n",
       "\n",
       "// Listen for the removal of the full notebook cells\n",
       "var notebookContainer = gd.closest('#notebook-container');\n",
       "if (notebookContainer) {{\n",
       "    x.observe(notebookContainer, {childList: true});\n",
       "}}\n",
       "\n",
       "// Listen for the clearing of the current output cell\n",
       "var outputEl = gd.closest('.output');\n",
       "if (outputEl) {{\n",
       "    x.observe(outputEl, {childList: true});\n",
       "}}\n",
       "\n",
       "                        })                };                });            </script>        </div>"
      ]
     },
     "metadata": {},
     "output_type": "display_data"
    }
   ],
   "source": [
    "cases_raw_values = px.line(counties_weekly, x = 'date', y = 'new_cases', color='County Name', title=\"Top 3 with highest cases(raw values)\")\n",
    "cases_raw_values.show()"
   ]
  },
  {
   "cell_type": "code",
   "execution_count": 1416,
   "id": "b9eaa481",
   "metadata": {},
   "outputs": [
    {
     "data": {
      "application/vnd.plotly.v1+json": {
       "config": {
        "plotlyServerURL": "https://plot.ly"
       },
       "data": [
        {
         "hovertemplate": "County Name=kings county<br>date=%{x}<br>new_deaths=%{y}<extra></extra>",
         "legendgroup": "kings county",
         "line": {
          "color": "#636efa",
          "dash": "solid"
         },
         "marker": {
          "symbol": "circle"
         },
         "mode": "lines",
         "name": "kings county",
         "orientation": "v",
         "showlegend": true,
         "type": "scatter",
         "x": [
          "2020-01-22T00:00:00",
          "2020-01-29T00:00:00",
          "2020-02-05T00:00:00",
          "2020-02-12T00:00:00",
          "2020-02-19T00:00:00",
          "2020-02-26T00:00:00",
          "2020-03-04T00:00:00",
          "2020-03-11T00:00:00",
          "2020-03-18T00:00:00",
          "2020-03-25T00:00:00",
          "2020-04-01T00:00:00",
          "2020-04-08T00:00:00",
          "2020-04-15T00:00:00",
          "2020-04-22T00:00:00",
          "2020-04-29T00:00:00",
          "2020-05-06T00:00:00",
          "2020-05-13T00:00:00",
          "2020-05-20T00:00:00",
          "2020-05-27T00:00:00",
          "2020-06-03T00:00:00",
          "2020-06-10T00:00:00",
          "2020-06-17T00:00:00",
          "2020-06-24T00:00:00",
          "2020-07-01T00:00:00",
          "2020-07-08T00:00:00",
          "2020-07-15T00:00:00",
          "2020-07-22T00:00:00",
          "2020-07-29T00:00:00",
          "2020-08-05T00:00:00",
          "2020-08-12T00:00:00",
          "2020-08-19T00:00:00",
          "2020-08-26T00:00:00",
          "2020-09-02T00:00:00",
          "2020-09-09T00:00:00",
          "2020-09-16T00:00:00",
          "2020-09-23T00:00:00",
          "2020-09-30T00:00:00",
          "2020-10-07T00:00:00",
          "2020-10-14T00:00:00",
          "2020-10-21T00:00:00",
          "2020-10-28T00:00:00",
          "2020-11-04T00:00:00",
          "2020-11-11T00:00:00",
          "2020-11-18T00:00:00",
          "2020-11-25T00:00:00",
          "2020-12-02T00:00:00",
          "2020-12-09T00:00:00",
          "2020-12-16T00:00:00",
          "2020-12-23T00:00:00",
          "2020-12-30T00:00:00",
          "2021-01-06T00:00:00",
          "2021-01-13T00:00:00",
          "2021-01-20T00:00:00",
          "2021-01-27T00:00:00",
          "2021-02-03T00:00:00",
          "2021-02-10T00:00:00",
          "2021-02-17T00:00:00",
          "2021-02-24T00:00:00",
          "2021-03-03T00:00:00",
          "2021-03-10T00:00:00",
          "2021-03-17T00:00:00",
          "2021-03-24T00:00:00",
          "2021-03-31T00:00:00",
          "2021-04-07T00:00:00",
          "2021-04-14T00:00:00",
          "2021-04-21T00:00:00",
          "2021-04-28T00:00:00",
          "2021-05-05T00:00:00",
          "2021-05-12T00:00:00",
          "2021-05-19T00:00:00",
          "2021-05-26T00:00:00",
          "2021-06-02T00:00:00",
          "2021-06-09T00:00:00",
          "2021-06-16T00:00:00",
          "2021-06-23T00:00:00",
          "2021-06-30T00:00:00",
          "2021-07-07T00:00:00",
          "2021-07-14T00:00:00",
          "2021-07-21T00:00:00",
          "2021-07-28T00:00:00",
          "2021-08-04T00:00:00",
          "2021-08-11T00:00:00",
          "2021-08-18T00:00:00",
          "2021-08-25T00:00:00",
          "2021-09-01T00:00:00",
          "2021-09-08T00:00:00",
          "2021-09-15T00:00:00",
          "2021-09-22T00:00:00",
          "2021-09-29T00:00:00",
          "2021-10-06T00:00:00",
          "2021-10-13T00:00:00",
          "2021-10-20T00:00:00",
          "2021-10-27T00:00:00",
          "2021-11-03T00:00:00",
          "2021-11-10T00:00:00",
          "2021-11-17T00:00:00",
          "2021-11-24T00:00:00",
          "2021-12-01T00:00:00",
          "2021-12-08T00:00:00",
          "2021-12-15T00:00:00",
          "2021-12-22T00:00:00",
          "2021-12-29T00:00:00",
          "2022-01-05T00:00:00",
          "2022-01-12T00:00:00",
          "2022-01-19T00:00:00",
          "2022-01-26T00:00:00",
          "2022-02-02T00:00:00",
          "2022-02-09T00:00:00",
          "2022-02-16T00:00:00",
          "2022-02-23T00:00:00",
          "2022-03-02T00:00:00",
          "2022-03-09T00:00:00",
          "2022-03-16T00:00:00",
          "2022-03-23T00:00:00",
          "2022-03-30T00:00:00",
          "2022-04-06T00:00:00",
          "2022-04-13T00:00:00",
          "2022-04-20T00:00:00",
          "2022-04-27T00:00:00",
          "2022-05-04T00:00:00",
          "2022-05-11T00:00:00",
          "2022-05-18T00:00:00",
          "2022-05-25T00:00:00",
          "2022-06-01T00:00:00",
          "2022-06-08T00:00:00",
          "2022-06-15T00:00:00",
          "2022-06-22T00:00:00",
          "2022-06-29T00:00:00",
          "2022-07-06T00:00:00",
          "2022-07-13T00:00:00",
          "2022-07-20T00:00:00",
          "2022-07-27T00:00:00",
          "2022-08-03T00:00:00",
          "2022-08-10T00:00:00",
          "2022-08-17T00:00:00",
          "2022-08-24T00:00:00",
          "2022-08-31T00:00:00",
          "2022-09-07T00:00:00",
          "2022-09-14T00:00:00",
          "2022-09-21T00:00:00",
          "2022-09-28T00:00:00",
          "2022-10-05T00:00:00",
          "2022-10-12T00:00:00",
          "2022-10-19T00:00:00",
          "2022-10-26T00:00:00",
          "2022-11-02T00:00:00",
          "2022-11-09T00:00:00",
          "2022-11-16T00:00:00",
          "2022-11-23T00:00:00",
          "2022-11-30T00:00:00",
          "2022-12-07T00:00:00",
          "2022-12-14T00:00:00",
          "2022-12-21T00:00:00",
          "2022-12-28T00:00:00",
          "2023-01-04T00:00:00",
          "2023-01-11T00:00:00",
          "2023-01-18T00:00:00",
          "2023-01-25T00:00:00",
          "2023-02-01T00:00:00",
          "2023-02-08T00:00:00"
         ],
         "xaxis": "x",
         "y": [
          0,
          0,
          0,
          0,
          0,
          0,
          0,
          0,
          5,
          148,
          1186,
          4525,
          9098,
          10937,
          7887,
          4564,
          3427,
          2770,
          1553,
          955,
          804,
          614,
          432,
          396,
          609,
          308,
          205,
          213,
          100,
          69,
          67,
          70,
          70,
          47,
          74,
          82,
          63,
          92,
          89,
          122,
          103,
          142,
          196,
          133,
          208,
          163,
          167,
          244,
          310,
          300,
          834,
          862,
          1000,
          1161,
          1314,
          1246,
          1318,
          1226,
          1128,
          372,
          1467,
          1206,
          99,
          0,
          1858,
          1048,
          720,
          668,
          590,
          485,
          324,
          212,
          235,
          139,
          101,
          65,
          107,
          71,
          51,
          31,
          56,
          103,
          165,
          120,
          259,
          243,
          228,
          241,
          283,
          242,
          152,
          192,
          132,
          148,
          141,
          139,
          173,
          138,
          211,
          227,
          257,
          323,
          542,
          1070,
          1845,
          2011,
          1873,
          1407,
          963,
          914,
          435,
          261,
          140,
          214,
          36,
          51,
          35,
          48,
          124,
          85,
          60,
          109,
          128,
          158,
          182,
          176,
          202,
          159,
          148,
          214,
          138,
          163,
          208,
          280,
          209,
          206,
          218,
          242,
          154,
          234,
          156,
          159,
          139,
          139,
          518,
          421,
          38,
          103,
          240,
          212,
          311,
          238,
          274,
          226,
          420,
          382,
          395,
          210,
          383,
          0
         ],
         "yaxis": "y"
        },
        {
         "hovertemplate": "County Name=queens county<br>date=%{x}<br>new_deaths=%{y}<extra></extra>",
         "legendgroup": "queens county",
         "line": {
          "color": "#EF553B",
          "dash": "solid"
         },
         "marker": {
          "symbol": "circle"
         },
         "mode": "lines",
         "name": "queens county",
         "orientation": "v",
         "showlegend": true,
         "type": "scatter",
         "x": [
          "2020-01-22T00:00:00",
          "2020-01-29T00:00:00",
          "2020-02-05T00:00:00",
          "2020-02-12T00:00:00",
          "2020-02-19T00:00:00",
          "2020-02-26T00:00:00",
          "2020-03-04T00:00:00",
          "2020-03-11T00:00:00",
          "2020-03-18T00:00:00",
          "2020-03-25T00:00:00",
          "2020-04-01T00:00:00",
          "2020-04-08T00:00:00",
          "2020-04-15T00:00:00",
          "2020-04-22T00:00:00",
          "2020-04-29T00:00:00",
          "2020-05-06T00:00:00",
          "2020-05-13T00:00:00",
          "2020-05-20T00:00:00",
          "2020-05-27T00:00:00",
          "2020-06-03T00:00:00",
          "2020-06-10T00:00:00",
          "2020-06-17T00:00:00",
          "2020-06-24T00:00:00",
          "2020-07-01T00:00:00",
          "2020-07-08T00:00:00",
          "2020-07-15T00:00:00",
          "2020-07-22T00:00:00",
          "2020-07-29T00:00:00",
          "2020-08-05T00:00:00",
          "2020-08-12T00:00:00",
          "2020-08-19T00:00:00",
          "2020-08-26T00:00:00",
          "2020-09-02T00:00:00",
          "2020-09-09T00:00:00",
          "2020-09-16T00:00:00",
          "2020-09-23T00:00:00",
          "2020-09-30T00:00:00",
          "2020-10-07T00:00:00",
          "2020-10-14T00:00:00",
          "2020-10-21T00:00:00",
          "2020-10-28T00:00:00",
          "2020-11-04T00:00:00",
          "2020-11-11T00:00:00",
          "2020-11-18T00:00:00",
          "2020-11-25T00:00:00",
          "2020-12-02T00:00:00",
          "2020-12-09T00:00:00",
          "2020-12-16T00:00:00",
          "2020-12-23T00:00:00",
          "2020-12-30T00:00:00",
          "2021-01-06T00:00:00",
          "2021-01-13T00:00:00",
          "2021-01-20T00:00:00",
          "2021-01-27T00:00:00",
          "2021-02-03T00:00:00",
          "2021-02-10T00:00:00",
          "2021-02-17T00:00:00",
          "2021-02-24T00:00:00",
          "2021-03-03T00:00:00",
          "2021-03-10T00:00:00",
          "2021-03-17T00:00:00",
          "2021-03-24T00:00:00",
          "2021-03-31T00:00:00",
          "2021-04-07T00:00:00",
          "2021-04-14T00:00:00",
          "2021-04-21T00:00:00",
          "2021-04-28T00:00:00",
          "2021-05-05T00:00:00",
          "2021-05-12T00:00:00",
          "2021-05-19T00:00:00",
          "2021-05-26T00:00:00",
          "2021-06-02T00:00:00",
          "2021-06-09T00:00:00",
          "2021-06-16T00:00:00",
          "2021-06-23T00:00:00",
          "2021-06-30T00:00:00",
          "2021-07-07T00:00:00",
          "2021-07-14T00:00:00",
          "2021-07-21T00:00:00",
          "2021-07-28T00:00:00",
          "2021-08-04T00:00:00",
          "2021-08-11T00:00:00",
          "2021-08-18T00:00:00",
          "2021-08-25T00:00:00",
          "2021-09-01T00:00:00",
          "2021-09-08T00:00:00",
          "2021-09-15T00:00:00",
          "2021-09-22T00:00:00",
          "2021-09-29T00:00:00",
          "2021-10-06T00:00:00",
          "2021-10-13T00:00:00",
          "2021-10-20T00:00:00",
          "2021-10-27T00:00:00",
          "2021-11-03T00:00:00",
          "2021-11-10T00:00:00",
          "2021-11-17T00:00:00",
          "2021-11-24T00:00:00",
          "2021-12-01T00:00:00",
          "2021-12-08T00:00:00",
          "2021-12-15T00:00:00",
          "2021-12-22T00:00:00",
          "2021-12-29T00:00:00",
          "2022-01-05T00:00:00",
          "2022-01-12T00:00:00",
          "2022-01-19T00:00:00",
          "2022-01-26T00:00:00",
          "2022-02-02T00:00:00",
          "2022-02-09T00:00:00",
          "2022-02-16T00:00:00",
          "2022-02-23T00:00:00",
          "2022-03-02T00:00:00",
          "2022-03-09T00:00:00",
          "2022-03-16T00:00:00",
          "2022-03-23T00:00:00",
          "2022-03-30T00:00:00",
          "2022-04-06T00:00:00",
          "2022-04-13T00:00:00",
          "2022-04-20T00:00:00",
          "2022-04-27T00:00:00",
          "2022-05-04T00:00:00",
          "2022-05-11T00:00:00",
          "2022-05-18T00:00:00",
          "2022-05-25T00:00:00",
          "2022-06-01T00:00:00",
          "2022-06-08T00:00:00",
          "2022-06-15T00:00:00",
          "2022-06-22T00:00:00",
          "2022-06-29T00:00:00",
          "2022-07-06T00:00:00",
          "2022-07-13T00:00:00",
          "2022-07-20T00:00:00",
          "2022-07-27T00:00:00",
          "2022-08-03T00:00:00",
          "2022-08-10T00:00:00",
          "2022-08-17T00:00:00",
          "2022-08-24T00:00:00",
          "2022-08-31T00:00:00",
          "2022-09-07T00:00:00",
          "2022-09-14T00:00:00",
          "2022-09-21T00:00:00",
          "2022-09-28T00:00:00",
          "2022-10-05T00:00:00",
          "2022-10-12T00:00:00",
          "2022-10-19T00:00:00",
          "2022-10-26T00:00:00",
          "2022-11-02T00:00:00",
          "2022-11-09T00:00:00",
          "2022-11-16T00:00:00",
          "2022-11-23T00:00:00",
          "2022-11-30T00:00:00",
          "2022-12-07T00:00:00",
          "2022-12-14T00:00:00",
          "2022-12-21T00:00:00",
          "2022-12-28T00:00:00",
          "2023-01-04T00:00:00",
          "2023-01-11T00:00:00",
          "2023-01-18T00:00:00",
          "2023-01-25T00:00:00",
          "2023-02-01T00:00:00",
          "2023-02-08T00:00:00"
         ],
         "xaxis": "x",
         "y": [
          0,
          0,
          0,
          0,
          0,
          0,
          0,
          0,
          0,
          213,
          1657,
          4138,
          9001,
          10272,
          7179,
          4346,
          3119,
          1601,
          1300,
          882,
          754,
          626,
          529,
          1486,
          2451,
          173,
          210,
          206,
          120,
          105,
          92,
          44,
          50,
          62,
          5,
          74,
          47,
          107,
          91,
          59,
          39,
          35,
          68,
          110,
          119,
          114,
          141,
          231,
          319,
          262,
          583,
          692,
          1130,
          1101,
          1139,
          1200,
          1129,
          1122,
          972,
          995,
          865,
          732,
          777,
          748,
          542,
          503,
          591,
          669,
          452,
          390,
          266,
          225,
          134,
          144,
          96,
          29,
          61,
          51,
          54,
          109,
          53,
          48,
          92,
          70,
          116,
          115,
          145,
          171,
          261,
          369,
          158,
          222,
          133,
          132,
          314,
          131,
          78,
          123,
          172,
          154,
          156,
          196,
          453,
          727,
          1356,
          1532,
          1510,
          1208,
          795,
          604,
          422,
          287,
          126,
          141,
          103,
          117,
          50,
          86,
          36,
          50,
          41,
          58,
          80,
          125,
          116,
          103,
          163,
          121,
          138,
          118,
          111,
          177,
          220,
          267,
          229,
          238,
          181,
          142,
          104,
          177,
          162,
          413,
          158,
          215,
          957,
          1287,
          81,
          140,
          286,
          323,
          205,
          208,
          294,
          335,
          348,
          328,
          360,
          186,
          247,
          0
         ],
         "yaxis": "y"
        },
        {
         "hovertemplate": "County Name=suffolk county<br>date=%{x}<br>new_deaths=%{y}<extra></extra>",
         "legendgroup": "suffolk county",
         "line": {
          "color": "#00cc96",
          "dash": "solid"
         },
         "marker": {
          "symbol": "circle"
         },
         "mode": "lines",
         "name": "suffolk county",
         "orientation": "v",
         "showlegend": true,
         "type": "scatter",
         "x": [
          "2020-01-22T00:00:00",
          "2020-01-29T00:00:00",
          "2020-02-05T00:00:00",
          "2020-02-12T00:00:00",
          "2020-02-19T00:00:00",
          "2020-02-26T00:00:00",
          "2020-03-04T00:00:00",
          "2020-03-11T00:00:00",
          "2020-03-18T00:00:00",
          "2020-03-25T00:00:00",
          "2020-04-01T00:00:00",
          "2020-04-08T00:00:00",
          "2020-04-15T00:00:00",
          "2020-04-22T00:00:00",
          "2020-04-29T00:00:00",
          "2020-05-06T00:00:00",
          "2020-05-13T00:00:00",
          "2020-05-20T00:00:00",
          "2020-05-27T00:00:00",
          "2020-06-03T00:00:00",
          "2020-06-10T00:00:00",
          "2020-06-17T00:00:00",
          "2020-06-24T00:00:00",
          "2020-07-01T00:00:00",
          "2020-07-08T00:00:00",
          "2020-07-15T00:00:00",
          "2020-07-22T00:00:00",
          "2020-07-29T00:00:00",
          "2020-08-05T00:00:00",
          "2020-08-12T00:00:00",
          "2020-08-19T00:00:00",
          "2020-08-26T00:00:00",
          "2020-09-02T00:00:00",
          "2020-09-09T00:00:00",
          "2020-09-16T00:00:00",
          "2020-09-23T00:00:00",
          "2020-09-30T00:00:00",
          "2020-10-07T00:00:00",
          "2020-10-14T00:00:00",
          "2020-10-21T00:00:00",
          "2020-10-28T00:00:00",
          "2020-11-04T00:00:00",
          "2020-11-11T00:00:00",
          "2020-11-18T00:00:00",
          "2020-11-25T00:00:00",
          "2020-12-02T00:00:00",
          "2020-12-09T00:00:00",
          "2020-12-16T00:00:00",
          "2020-12-23T00:00:00",
          "2020-12-30T00:00:00",
          "2021-01-06T00:00:00",
          "2021-01-13T00:00:00",
          "2021-01-20T00:00:00",
          "2021-01-27T00:00:00",
          "2021-02-03T00:00:00",
          "2021-02-10T00:00:00",
          "2021-02-17T00:00:00",
          "2021-02-24T00:00:00",
          "2021-03-03T00:00:00",
          "2021-03-10T00:00:00",
          "2021-03-17T00:00:00",
          "2021-03-24T00:00:00",
          "2021-03-31T00:00:00",
          "2021-04-07T00:00:00",
          "2021-04-14T00:00:00",
          "2021-04-21T00:00:00",
          "2021-04-28T00:00:00",
          "2021-05-05T00:00:00",
          "2021-05-12T00:00:00",
          "2021-05-19T00:00:00",
          "2021-05-26T00:00:00",
          "2021-06-02T00:00:00",
          "2021-06-09T00:00:00",
          "2021-06-16T00:00:00",
          "2021-06-23T00:00:00",
          "2021-06-30T00:00:00",
          "2021-07-07T00:00:00",
          "2021-07-14T00:00:00",
          "2021-07-21T00:00:00",
          "2021-07-28T00:00:00",
          "2021-08-04T00:00:00",
          "2021-08-11T00:00:00",
          "2021-08-18T00:00:00",
          "2021-08-25T00:00:00",
          "2021-09-01T00:00:00",
          "2021-09-08T00:00:00",
          "2021-09-15T00:00:00",
          "2021-09-22T00:00:00",
          "2021-09-29T00:00:00",
          "2021-10-06T00:00:00",
          "2021-10-13T00:00:00",
          "2021-10-20T00:00:00",
          "2021-10-27T00:00:00",
          "2021-11-03T00:00:00",
          "2021-11-10T00:00:00",
          "2021-11-17T00:00:00",
          "2021-11-24T00:00:00",
          "2021-12-01T00:00:00",
          "2021-12-08T00:00:00",
          "2021-12-15T00:00:00",
          "2021-12-22T00:00:00",
          "2021-12-29T00:00:00",
          "2022-01-05T00:00:00",
          "2022-01-12T00:00:00",
          "2022-01-19T00:00:00",
          "2022-01-26T00:00:00",
          "2022-02-02T00:00:00",
          "2022-02-09T00:00:00",
          "2022-02-16T00:00:00",
          "2022-02-23T00:00:00",
          "2022-03-02T00:00:00",
          "2022-03-09T00:00:00",
          "2022-03-16T00:00:00",
          "2022-03-23T00:00:00",
          "2022-03-30T00:00:00",
          "2022-04-06T00:00:00",
          "2022-04-13T00:00:00",
          "2022-04-20T00:00:00",
          "2022-04-27T00:00:00",
          "2022-05-04T00:00:00",
          "2022-05-11T00:00:00",
          "2022-05-18T00:00:00",
          "2022-05-25T00:00:00",
          "2022-06-01T00:00:00",
          "2022-06-08T00:00:00",
          "2022-06-15T00:00:00",
          "2022-06-22T00:00:00",
          "2022-06-29T00:00:00",
          "2022-07-06T00:00:00",
          "2022-07-13T00:00:00",
          "2022-07-20T00:00:00",
          "2022-07-27T00:00:00",
          "2022-08-03T00:00:00",
          "2022-08-10T00:00:00",
          "2022-08-17T00:00:00",
          "2022-08-24T00:00:00",
          "2022-08-31T00:00:00",
          "2022-09-07T00:00:00",
          "2022-09-14T00:00:00",
          "2022-09-21T00:00:00",
          "2022-09-28T00:00:00",
          "2022-10-05T00:00:00",
          "2022-10-12T00:00:00",
          "2022-10-19T00:00:00",
          "2022-10-26T00:00:00",
          "2022-11-02T00:00:00",
          "2022-11-09T00:00:00",
          "2022-11-16T00:00:00",
          "2022-11-23T00:00:00",
          "2022-11-30T00:00:00",
          "2022-12-07T00:00:00",
          "2022-12-14T00:00:00",
          "2022-12-21T00:00:00",
          "2022-12-28T00:00:00",
          "2023-01-04T00:00:00",
          "2023-01-11T00:00:00",
          "2023-01-18T00:00:00",
          "2023-01-25T00:00:00",
          "2023-02-01T00:00:00",
          "2023-02-08T00:00:00"
         ],
         "xaxis": "x",
         "y": [
          0,
          0,
          0,
          0,
          0,
          0,
          0,
          0,
          7,
          47,
          241,
          1057,
          2236,
          1989,
          1875,
          1502,
          2348,
          902,
          620,
          414,
          265,
          152,
          102,
          90,
          35,
          66,
          9,
          14,
          7,
          8,
          5,
          14,
          8,
          27,
          22,
          19,
          13,
          13,
          8,
          11,
          7,
          12,
          10,
          23,
          58,
          118,
          186,
          268,
          345,
          601,
          650,
          775,
          843,
          818,
          708,
          583,
          558,
          496,
          365,
          305,
          264,
          286,
          225,
          256,
          177,
          140,
          140,
          121,
          122,
          72,
          48,
          29,
          33,
          27,
          8,
          9,
          22,
          15,
          4,
          14,
          23,
          26,
          68,
          98,
          89,
          112,
          132,
          132,
          123,
          130,
          157,
          192,
          136,
          103,
          104,
          90,
          99,
          63,
          142,
          113,
          202,
          229,
          327,
          629,
          685,
          737,
          545,
          742,
          0,
          202,
          107,
          52,
          66,
          25,
          15,
          39,
          18,
          20,
          45,
          40,
          54,
          92,
          91,
          101,
          103,
          94,
          35,
          87,
          51,
          41,
          37,
          79,
          80,
          49,
          66,
          71,
          68,
          75,
          98,
          75,
          77,
          44,
          58,
          113,
          105,
          115,
          70,
          0,
          1090,
          99,
          77,
          134,
          209,
          142,
          192,
          182,
          130,
          168,
          112,
          0
         ],
         "yaxis": "y"
        }
       ],
       "layout": {
        "legend": {
         "title": {
          "text": "County Name"
         },
         "tracegroupgap": 0
        },
        "template": {
         "data": {
          "bar": [
           {
            "error_x": {
             "color": "#2a3f5f"
            },
            "error_y": {
             "color": "#2a3f5f"
            },
            "marker": {
             "line": {
              "color": "#E5ECF6",
              "width": 0.5
             },
             "pattern": {
              "fillmode": "overlay",
              "size": 10,
              "solidity": 0.2
             }
            },
            "type": "bar"
           }
          ],
          "barpolar": [
           {
            "marker": {
             "line": {
              "color": "#E5ECF6",
              "width": 0.5
             },
             "pattern": {
              "fillmode": "overlay",
              "size": 10,
              "solidity": 0.2
             }
            },
            "type": "barpolar"
           }
          ],
          "carpet": [
           {
            "aaxis": {
             "endlinecolor": "#2a3f5f",
             "gridcolor": "white",
             "linecolor": "white",
             "minorgridcolor": "white",
             "startlinecolor": "#2a3f5f"
            },
            "baxis": {
             "endlinecolor": "#2a3f5f",
             "gridcolor": "white",
             "linecolor": "white",
             "minorgridcolor": "white",
             "startlinecolor": "#2a3f5f"
            },
            "type": "carpet"
           }
          ],
          "choropleth": [
           {
            "colorbar": {
             "outlinewidth": 0,
             "ticks": ""
            },
            "type": "choropleth"
           }
          ],
          "contour": [
           {
            "colorbar": {
             "outlinewidth": 0,
             "ticks": ""
            },
            "colorscale": [
             [
              0,
              "#0d0887"
             ],
             [
              0.1111111111111111,
              "#46039f"
             ],
             [
              0.2222222222222222,
              "#7201a8"
             ],
             [
              0.3333333333333333,
              "#9c179e"
             ],
             [
              0.4444444444444444,
              "#bd3786"
             ],
             [
              0.5555555555555556,
              "#d8576b"
             ],
             [
              0.6666666666666666,
              "#ed7953"
             ],
             [
              0.7777777777777778,
              "#fb9f3a"
             ],
             [
              0.8888888888888888,
              "#fdca26"
             ],
             [
              1,
              "#f0f921"
             ]
            ],
            "type": "contour"
           }
          ],
          "contourcarpet": [
           {
            "colorbar": {
             "outlinewidth": 0,
             "ticks": ""
            },
            "type": "contourcarpet"
           }
          ],
          "heatmap": [
           {
            "colorbar": {
             "outlinewidth": 0,
             "ticks": ""
            },
            "colorscale": [
             [
              0,
              "#0d0887"
             ],
             [
              0.1111111111111111,
              "#46039f"
             ],
             [
              0.2222222222222222,
              "#7201a8"
             ],
             [
              0.3333333333333333,
              "#9c179e"
             ],
             [
              0.4444444444444444,
              "#bd3786"
             ],
             [
              0.5555555555555556,
              "#d8576b"
             ],
             [
              0.6666666666666666,
              "#ed7953"
             ],
             [
              0.7777777777777778,
              "#fb9f3a"
             ],
             [
              0.8888888888888888,
              "#fdca26"
             ],
             [
              1,
              "#f0f921"
             ]
            ],
            "type": "heatmap"
           }
          ],
          "heatmapgl": [
           {
            "colorbar": {
             "outlinewidth": 0,
             "ticks": ""
            },
            "colorscale": [
             [
              0,
              "#0d0887"
             ],
             [
              0.1111111111111111,
              "#46039f"
             ],
             [
              0.2222222222222222,
              "#7201a8"
             ],
             [
              0.3333333333333333,
              "#9c179e"
             ],
             [
              0.4444444444444444,
              "#bd3786"
             ],
             [
              0.5555555555555556,
              "#d8576b"
             ],
             [
              0.6666666666666666,
              "#ed7953"
             ],
             [
              0.7777777777777778,
              "#fb9f3a"
             ],
             [
              0.8888888888888888,
              "#fdca26"
             ],
             [
              1,
              "#f0f921"
             ]
            ],
            "type": "heatmapgl"
           }
          ],
          "histogram": [
           {
            "marker": {
             "pattern": {
              "fillmode": "overlay",
              "size": 10,
              "solidity": 0.2
             }
            },
            "type": "histogram"
           }
          ],
          "histogram2d": [
           {
            "colorbar": {
             "outlinewidth": 0,
             "ticks": ""
            },
            "colorscale": [
             [
              0,
              "#0d0887"
             ],
             [
              0.1111111111111111,
              "#46039f"
             ],
             [
              0.2222222222222222,
              "#7201a8"
             ],
             [
              0.3333333333333333,
              "#9c179e"
             ],
             [
              0.4444444444444444,
              "#bd3786"
             ],
             [
              0.5555555555555556,
              "#d8576b"
             ],
             [
              0.6666666666666666,
              "#ed7953"
             ],
             [
              0.7777777777777778,
              "#fb9f3a"
             ],
             [
              0.8888888888888888,
              "#fdca26"
             ],
             [
              1,
              "#f0f921"
             ]
            ],
            "type": "histogram2d"
           }
          ],
          "histogram2dcontour": [
           {
            "colorbar": {
             "outlinewidth": 0,
             "ticks": ""
            },
            "colorscale": [
             [
              0,
              "#0d0887"
             ],
             [
              0.1111111111111111,
              "#46039f"
             ],
             [
              0.2222222222222222,
              "#7201a8"
             ],
             [
              0.3333333333333333,
              "#9c179e"
             ],
             [
              0.4444444444444444,
              "#bd3786"
             ],
             [
              0.5555555555555556,
              "#d8576b"
             ],
             [
              0.6666666666666666,
              "#ed7953"
             ],
             [
              0.7777777777777778,
              "#fb9f3a"
             ],
             [
              0.8888888888888888,
              "#fdca26"
             ],
             [
              1,
              "#f0f921"
             ]
            ],
            "type": "histogram2dcontour"
           }
          ],
          "mesh3d": [
           {
            "colorbar": {
             "outlinewidth": 0,
             "ticks": ""
            },
            "type": "mesh3d"
           }
          ],
          "parcoords": [
           {
            "line": {
             "colorbar": {
              "outlinewidth": 0,
              "ticks": ""
             }
            },
            "type": "parcoords"
           }
          ],
          "pie": [
           {
            "automargin": true,
            "type": "pie"
           }
          ],
          "scatter": [
           {
            "fillpattern": {
             "fillmode": "overlay",
             "size": 10,
             "solidity": 0.2
            },
            "type": "scatter"
           }
          ],
          "scatter3d": [
           {
            "line": {
             "colorbar": {
              "outlinewidth": 0,
              "ticks": ""
             }
            },
            "marker": {
             "colorbar": {
              "outlinewidth": 0,
              "ticks": ""
             }
            },
            "type": "scatter3d"
           }
          ],
          "scattercarpet": [
           {
            "marker": {
             "colorbar": {
              "outlinewidth": 0,
              "ticks": ""
             }
            },
            "type": "scattercarpet"
           }
          ],
          "scattergeo": [
           {
            "marker": {
             "colorbar": {
              "outlinewidth": 0,
              "ticks": ""
             }
            },
            "type": "scattergeo"
           }
          ],
          "scattergl": [
           {
            "marker": {
             "colorbar": {
              "outlinewidth": 0,
              "ticks": ""
             }
            },
            "type": "scattergl"
           }
          ],
          "scattermapbox": [
           {
            "marker": {
             "colorbar": {
              "outlinewidth": 0,
              "ticks": ""
             }
            },
            "type": "scattermapbox"
           }
          ],
          "scatterpolar": [
           {
            "marker": {
             "colorbar": {
              "outlinewidth": 0,
              "ticks": ""
             }
            },
            "type": "scatterpolar"
           }
          ],
          "scatterpolargl": [
           {
            "marker": {
             "colorbar": {
              "outlinewidth": 0,
              "ticks": ""
             }
            },
            "type": "scatterpolargl"
           }
          ],
          "scatterternary": [
           {
            "marker": {
             "colorbar": {
              "outlinewidth": 0,
              "ticks": ""
             }
            },
            "type": "scatterternary"
           }
          ],
          "surface": [
           {
            "colorbar": {
             "outlinewidth": 0,
             "ticks": ""
            },
            "colorscale": [
             [
              0,
              "#0d0887"
             ],
             [
              0.1111111111111111,
              "#46039f"
             ],
             [
              0.2222222222222222,
              "#7201a8"
             ],
             [
              0.3333333333333333,
              "#9c179e"
             ],
             [
              0.4444444444444444,
              "#bd3786"
             ],
             [
              0.5555555555555556,
              "#d8576b"
             ],
             [
              0.6666666666666666,
              "#ed7953"
             ],
             [
              0.7777777777777778,
              "#fb9f3a"
             ],
             [
              0.8888888888888888,
              "#fdca26"
             ],
             [
              1,
              "#f0f921"
             ]
            ],
            "type": "surface"
           }
          ],
          "table": [
           {
            "cells": {
             "fill": {
              "color": "#EBF0F8"
             },
             "line": {
              "color": "white"
             }
            },
            "header": {
             "fill": {
              "color": "#C8D4E3"
             },
             "line": {
              "color": "white"
             }
            },
            "type": "table"
           }
          ]
         },
         "layout": {
          "annotationdefaults": {
           "arrowcolor": "#2a3f5f",
           "arrowhead": 0,
           "arrowwidth": 1
          },
          "autotypenumbers": "strict",
          "coloraxis": {
           "colorbar": {
            "outlinewidth": 0,
            "ticks": ""
           }
          },
          "colorscale": {
           "diverging": [
            [
             0,
             "#8e0152"
            ],
            [
             0.1,
             "#c51b7d"
            ],
            [
             0.2,
             "#de77ae"
            ],
            [
             0.3,
             "#f1b6da"
            ],
            [
             0.4,
             "#fde0ef"
            ],
            [
             0.5,
             "#f7f7f7"
            ],
            [
             0.6,
             "#e6f5d0"
            ],
            [
             0.7,
             "#b8e186"
            ],
            [
             0.8,
             "#7fbc41"
            ],
            [
             0.9,
             "#4d9221"
            ],
            [
             1,
             "#276419"
            ]
           ],
           "sequential": [
            [
             0,
             "#0d0887"
            ],
            [
             0.1111111111111111,
             "#46039f"
            ],
            [
             0.2222222222222222,
             "#7201a8"
            ],
            [
             0.3333333333333333,
             "#9c179e"
            ],
            [
             0.4444444444444444,
             "#bd3786"
            ],
            [
             0.5555555555555556,
             "#d8576b"
            ],
            [
             0.6666666666666666,
             "#ed7953"
            ],
            [
             0.7777777777777778,
             "#fb9f3a"
            ],
            [
             0.8888888888888888,
             "#fdca26"
            ],
            [
             1,
             "#f0f921"
            ]
           ],
           "sequentialminus": [
            [
             0,
             "#0d0887"
            ],
            [
             0.1111111111111111,
             "#46039f"
            ],
            [
             0.2222222222222222,
             "#7201a8"
            ],
            [
             0.3333333333333333,
             "#9c179e"
            ],
            [
             0.4444444444444444,
             "#bd3786"
            ],
            [
             0.5555555555555556,
             "#d8576b"
            ],
            [
             0.6666666666666666,
             "#ed7953"
            ],
            [
             0.7777777777777778,
             "#fb9f3a"
            ],
            [
             0.8888888888888888,
             "#fdca26"
            ],
            [
             1,
             "#f0f921"
            ]
           ]
          },
          "colorway": [
           "#636efa",
           "#EF553B",
           "#00cc96",
           "#ab63fa",
           "#FFA15A",
           "#19d3f3",
           "#FF6692",
           "#B6E880",
           "#FF97FF",
           "#FECB52"
          ],
          "font": {
           "color": "#2a3f5f"
          },
          "geo": {
           "bgcolor": "white",
           "lakecolor": "white",
           "landcolor": "#E5ECF6",
           "showlakes": true,
           "showland": true,
           "subunitcolor": "white"
          },
          "hoverlabel": {
           "align": "left"
          },
          "hovermode": "closest",
          "mapbox": {
           "style": "light"
          },
          "paper_bgcolor": "white",
          "plot_bgcolor": "#E5ECF6",
          "polar": {
           "angularaxis": {
            "gridcolor": "white",
            "linecolor": "white",
            "ticks": ""
           },
           "bgcolor": "#E5ECF6",
           "radialaxis": {
            "gridcolor": "white",
            "linecolor": "white",
            "ticks": ""
           }
          },
          "scene": {
           "xaxis": {
            "backgroundcolor": "#E5ECF6",
            "gridcolor": "white",
            "gridwidth": 2,
            "linecolor": "white",
            "showbackground": true,
            "ticks": "",
            "zerolinecolor": "white"
           },
           "yaxis": {
            "backgroundcolor": "#E5ECF6",
            "gridcolor": "white",
            "gridwidth": 2,
            "linecolor": "white",
            "showbackground": true,
            "ticks": "",
            "zerolinecolor": "white"
           },
           "zaxis": {
            "backgroundcolor": "#E5ECF6",
            "gridcolor": "white",
            "gridwidth": 2,
            "linecolor": "white",
            "showbackground": true,
            "ticks": "",
            "zerolinecolor": "white"
           }
          },
          "shapedefaults": {
           "line": {
            "color": "#2a3f5f"
           }
          },
          "ternary": {
           "aaxis": {
            "gridcolor": "white",
            "linecolor": "white",
            "ticks": ""
           },
           "baxis": {
            "gridcolor": "white",
            "linecolor": "white",
            "ticks": ""
           },
           "bgcolor": "#E5ECF6",
           "caxis": {
            "gridcolor": "white",
            "linecolor": "white",
            "ticks": ""
           }
          },
          "title": {
           "x": 0.05
          },
          "xaxis": {
           "automargin": true,
           "gridcolor": "white",
           "linecolor": "white",
           "ticks": "",
           "title": {
            "standoff": 15
           },
           "zerolinecolor": "white",
           "zerolinewidth": 2
          },
          "yaxis": {
           "automargin": true,
           "gridcolor": "white",
           "linecolor": "white",
           "ticks": "",
           "title": {
            "standoff": 15
           },
           "zerolinecolor": "white",
           "zerolinewidth": 2
          }
         }
        },
        "title": {
         "text": "Top 3 with deaths(raw values)"
        },
        "xaxis": {
         "anchor": "y",
         "domain": [
          0,
          1
         ],
         "title": {
          "text": "date"
         }
        },
        "yaxis": {
         "anchor": "x",
         "domain": [
          0,
          1
         ],
         "title": {
          "text": "new_deaths"
         }
        }
       }
      },
      "text/html": [
       "<div>                            <div id=\"5695d71c-98e9-4883-9acb-094d858b79b8\" class=\"plotly-graph-div\" style=\"height:525px; width:100%;\"></div>            <script type=\"text/javascript\">                require([\"plotly\"], function(Plotly) {                    window.PLOTLYENV=window.PLOTLYENV || {};                                    if (document.getElementById(\"5695d71c-98e9-4883-9acb-094d858b79b8\")) {                    Plotly.newPlot(                        \"5695d71c-98e9-4883-9acb-094d858b79b8\",                        [{\"hovertemplate\":\"County Name=kings county<br>date=%{x}<br>new_deaths=%{y}<extra></extra>\",\"legendgroup\":\"kings county\",\"line\":{\"color\":\"#636efa\",\"dash\":\"solid\"},\"marker\":{\"symbol\":\"circle\"},\"mode\":\"lines\",\"name\":\"kings county\",\"orientation\":\"v\",\"showlegend\":true,\"x\":[\"2020-01-22T00:00:00\",\"2020-01-29T00:00:00\",\"2020-02-05T00:00:00\",\"2020-02-12T00:00:00\",\"2020-02-19T00:00:00\",\"2020-02-26T00:00:00\",\"2020-03-04T00:00:00\",\"2020-03-11T00:00:00\",\"2020-03-18T00:00:00\",\"2020-03-25T00:00:00\",\"2020-04-01T00:00:00\",\"2020-04-08T00:00:00\",\"2020-04-15T00:00:00\",\"2020-04-22T00:00:00\",\"2020-04-29T00:00:00\",\"2020-05-06T00:00:00\",\"2020-05-13T00:00:00\",\"2020-05-20T00:00:00\",\"2020-05-27T00:00:00\",\"2020-06-03T00:00:00\",\"2020-06-10T00:00:00\",\"2020-06-17T00:00:00\",\"2020-06-24T00:00:00\",\"2020-07-01T00:00:00\",\"2020-07-08T00:00:00\",\"2020-07-15T00:00:00\",\"2020-07-22T00:00:00\",\"2020-07-29T00:00:00\",\"2020-08-05T00:00:00\",\"2020-08-12T00:00:00\",\"2020-08-19T00:00:00\",\"2020-08-26T00:00:00\",\"2020-09-02T00:00:00\",\"2020-09-09T00:00:00\",\"2020-09-16T00:00:00\",\"2020-09-23T00:00:00\",\"2020-09-30T00:00:00\",\"2020-10-07T00:00:00\",\"2020-10-14T00:00:00\",\"2020-10-21T00:00:00\",\"2020-10-28T00:00:00\",\"2020-11-04T00:00:00\",\"2020-11-11T00:00:00\",\"2020-11-18T00:00:00\",\"2020-11-25T00:00:00\",\"2020-12-02T00:00:00\",\"2020-12-09T00:00:00\",\"2020-12-16T00:00:00\",\"2020-12-23T00:00:00\",\"2020-12-30T00:00:00\",\"2021-01-06T00:00:00\",\"2021-01-13T00:00:00\",\"2021-01-20T00:00:00\",\"2021-01-27T00:00:00\",\"2021-02-03T00:00:00\",\"2021-02-10T00:00:00\",\"2021-02-17T00:00:00\",\"2021-02-24T00:00:00\",\"2021-03-03T00:00:00\",\"2021-03-10T00:00:00\",\"2021-03-17T00:00:00\",\"2021-03-24T00:00:00\",\"2021-03-31T00:00:00\",\"2021-04-07T00:00:00\",\"2021-04-14T00:00:00\",\"2021-04-21T00:00:00\",\"2021-04-28T00:00:00\",\"2021-05-05T00:00:00\",\"2021-05-12T00:00:00\",\"2021-05-19T00:00:00\",\"2021-05-26T00:00:00\",\"2021-06-02T00:00:00\",\"2021-06-09T00:00:00\",\"2021-06-16T00:00:00\",\"2021-06-23T00:00:00\",\"2021-06-30T00:00:00\",\"2021-07-07T00:00:00\",\"2021-07-14T00:00:00\",\"2021-07-21T00:00:00\",\"2021-07-28T00:00:00\",\"2021-08-04T00:00:00\",\"2021-08-11T00:00:00\",\"2021-08-18T00:00:00\",\"2021-08-25T00:00:00\",\"2021-09-01T00:00:00\",\"2021-09-08T00:00:00\",\"2021-09-15T00:00:00\",\"2021-09-22T00:00:00\",\"2021-09-29T00:00:00\",\"2021-10-06T00:00:00\",\"2021-10-13T00:00:00\",\"2021-10-20T00:00:00\",\"2021-10-27T00:00:00\",\"2021-11-03T00:00:00\",\"2021-11-10T00:00:00\",\"2021-11-17T00:00:00\",\"2021-11-24T00:00:00\",\"2021-12-01T00:00:00\",\"2021-12-08T00:00:00\",\"2021-12-15T00:00:00\",\"2021-12-22T00:00:00\",\"2021-12-29T00:00:00\",\"2022-01-05T00:00:00\",\"2022-01-12T00:00:00\",\"2022-01-19T00:00:00\",\"2022-01-26T00:00:00\",\"2022-02-02T00:00:00\",\"2022-02-09T00:00:00\",\"2022-02-16T00:00:00\",\"2022-02-23T00:00:00\",\"2022-03-02T00:00:00\",\"2022-03-09T00:00:00\",\"2022-03-16T00:00:00\",\"2022-03-23T00:00:00\",\"2022-03-30T00:00:00\",\"2022-04-06T00:00:00\",\"2022-04-13T00:00:00\",\"2022-04-20T00:00:00\",\"2022-04-27T00:00:00\",\"2022-05-04T00:00:00\",\"2022-05-11T00:00:00\",\"2022-05-18T00:00:00\",\"2022-05-25T00:00:00\",\"2022-06-01T00:00:00\",\"2022-06-08T00:00:00\",\"2022-06-15T00:00:00\",\"2022-06-22T00:00:00\",\"2022-06-29T00:00:00\",\"2022-07-06T00:00:00\",\"2022-07-13T00:00:00\",\"2022-07-20T00:00:00\",\"2022-07-27T00:00:00\",\"2022-08-03T00:00:00\",\"2022-08-10T00:00:00\",\"2022-08-17T00:00:00\",\"2022-08-24T00:00:00\",\"2022-08-31T00:00:00\",\"2022-09-07T00:00:00\",\"2022-09-14T00:00:00\",\"2022-09-21T00:00:00\",\"2022-09-28T00:00:00\",\"2022-10-05T00:00:00\",\"2022-10-12T00:00:00\",\"2022-10-19T00:00:00\",\"2022-10-26T00:00:00\",\"2022-11-02T00:00:00\",\"2022-11-09T00:00:00\",\"2022-11-16T00:00:00\",\"2022-11-23T00:00:00\",\"2022-11-30T00:00:00\",\"2022-12-07T00:00:00\",\"2022-12-14T00:00:00\",\"2022-12-21T00:00:00\",\"2022-12-28T00:00:00\",\"2023-01-04T00:00:00\",\"2023-01-11T00:00:00\",\"2023-01-18T00:00:00\",\"2023-01-25T00:00:00\",\"2023-02-01T00:00:00\",\"2023-02-08T00:00:00\"],\"xaxis\":\"x\",\"y\":[0,0,0,0,0,0,0,0,5,148,1186,4525,9098,10937,7887,4564,3427,2770,1553,955,804,614,432,396,609,308,205,213,100,69,67,70,70,47,74,82,63,92,89,122,103,142,196,133,208,163,167,244,310,300,834,862,1000,1161,1314,1246,1318,1226,1128,372,1467,1206,99,0,1858,1048,720,668,590,485,324,212,235,139,101,65,107,71,51,31,56,103,165,120,259,243,228,241,283,242,152,192,132,148,141,139,173,138,211,227,257,323,542,1070,1845,2011,1873,1407,963,914,435,261,140,214,36,51,35,48,124,85,60,109,128,158,182,176,202,159,148,214,138,163,208,280,209,206,218,242,154,234,156,159,139,139,518,421,38,103,240,212,311,238,274,226,420,382,395,210,383,0],\"yaxis\":\"y\",\"type\":\"scatter\"},{\"hovertemplate\":\"County Name=queens county<br>date=%{x}<br>new_deaths=%{y}<extra></extra>\",\"legendgroup\":\"queens county\",\"line\":{\"color\":\"#EF553B\",\"dash\":\"solid\"},\"marker\":{\"symbol\":\"circle\"},\"mode\":\"lines\",\"name\":\"queens county\",\"orientation\":\"v\",\"showlegend\":true,\"x\":[\"2020-01-22T00:00:00\",\"2020-01-29T00:00:00\",\"2020-02-05T00:00:00\",\"2020-02-12T00:00:00\",\"2020-02-19T00:00:00\",\"2020-02-26T00:00:00\",\"2020-03-04T00:00:00\",\"2020-03-11T00:00:00\",\"2020-03-18T00:00:00\",\"2020-03-25T00:00:00\",\"2020-04-01T00:00:00\",\"2020-04-08T00:00:00\",\"2020-04-15T00:00:00\",\"2020-04-22T00:00:00\",\"2020-04-29T00:00:00\",\"2020-05-06T00:00:00\",\"2020-05-13T00:00:00\",\"2020-05-20T00:00:00\",\"2020-05-27T00:00:00\",\"2020-06-03T00:00:00\",\"2020-06-10T00:00:00\",\"2020-06-17T00:00:00\",\"2020-06-24T00:00:00\",\"2020-07-01T00:00:00\",\"2020-07-08T00:00:00\",\"2020-07-15T00:00:00\",\"2020-07-22T00:00:00\",\"2020-07-29T00:00:00\",\"2020-08-05T00:00:00\",\"2020-08-12T00:00:00\",\"2020-08-19T00:00:00\",\"2020-08-26T00:00:00\",\"2020-09-02T00:00:00\",\"2020-09-09T00:00:00\",\"2020-09-16T00:00:00\",\"2020-09-23T00:00:00\",\"2020-09-30T00:00:00\",\"2020-10-07T00:00:00\",\"2020-10-14T00:00:00\",\"2020-10-21T00:00:00\",\"2020-10-28T00:00:00\",\"2020-11-04T00:00:00\",\"2020-11-11T00:00:00\",\"2020-11-18T00:00:00\",\"2020-11-25T00:00:00\",\"2020-12-02T00:00:00\",\"2020-12-09T00:00:00\",\"2020-12-16T00:00:00\",\"2020-12-23T00:00:00\",\"2020-12-30T00:00:00\",\"2021-01-06T00:00:00\",\"2021-01-13T00:00:00\",\"2021-01-20T00:00:00\",\"2021-01-27T00:00:00\",\"2021-02-03T00:00:00\",\"2021-02-10T00:00:00\",\"2021-02-17T00:00:00\",\"2021-02-24T00:00:00\",\"2021-03-03T00:00:00\",\"2021-03-10T00:00:00\",\"2021-03-17T00:00:00\",\"2021-03-24T00:00:00\",\"2021-03-31T00:00:00\",\"2021-04-07T00:00:00\",\"2021-04-14T00:00:00\",\"2021-04-21T00:00:00\",\"2021-04-28T00:00:00\",\"2021-05-05T00:00:00\",\"2021-05-12T00:00:00\",\"2021-05-19T00:00:00\",\"2021-05-26T00:00:00\",\"2021-06-02T00:00:00\",\"2021-06-09T00:00:00\",\"2021-06-16T00:00:00\",\"2021-06-23T00:00:00\",\"2021-06-30T00:00:00\",\"2021-07-07T00:00:00\",\"2021-07-14T00:00:00\",\"2021-07-21T00:00:00\",\"2021-07-28T00:00:00\",\"2021-08-04T00:00:00\",\"2021-08-11T00:00:00\",\"2021-08-18T00:00:00\",\"2021-08-25T00:00:00\",\"2021-09-01T00:00:00\",\"2021-09-08T00:00:00\",\"2021-09-15T00:00:00\",\"2021-09-22T00:00:00\",\"2021-09-29T00:00:00\",\"2021-10-06T00:00:00\",\"2021-10-13T00:00:00\",\"2021-10-20T00:00:00\",\"2021-10-27T00:00:00\",\"2021-11-03T00:00:00\",\"2021-11-10T00:00:00\",\"2021-11-17T00:00:00\",\"2021-11-24T00:00:00\",\"2021-12-01T00:00:00\",\"2021-12-08T00:00:00\",\"2021-12-15T00:00:00\",\"2021-12-22T00:00:00\",\"2021-12-29T00:00:00\",\"2022-01-05T00:00:00\",\"2022-01-12T00:00:00\",\"2022-01-19T00:00:00\",\"2022-01-26T00:00:00\",\"2022-02-02T00:00:00\",\"2022-02-09T00:00:00\",\"2022-02-16T00:00:00\",\"2022-02-23T00:00:00\",\"2022-03-02T00:00:00\",\"2022-03-09T00:00:00\",\"2022-03-16T00:00:00\",\"2022-03-23T00:00:00\",\"2022-03-30T00:00:00\",\"2022-04-06T00:00:00\",\"2022-04-13T00:00:00\",\"2022-04-20T00:00:00\",\"2022-04-27T00:00:00\",\"2022-05-04T00:00:00\",\"2022-05-11T00:00:00\",\"2022-05-18T00:00:00\",\"2022-05-25T00:00:00\",\"2022-06-01T00:00:00\",\"2022-06-08T00:00:00\",\"2022-06-15T00:00:00\",\"2022-06-22T00:00:00\",\"2022-06-29T00:00:00\",\"2022-07-06T00:00:00\",\"2022-07-13T00:00:00\",\"2022-07-20T00:00:00\",\"2022-07-27T00:00:00\",\"2022-08-03T00:00:00\",\"2022-08-10T00:00:00\",\"2022-08-17T00:00:00\",\"2022-08-24T00:00:00\",\"2022-08-31T00:00:00\",\"2022-09-07T00:00:00\",\"2022-09-14T00:00:00\",\"2022-09-21T00:00:00\",\"2022-09-28T00:00:00\",\"2022-10-05T00:00:00\",\"2022-10-12T00:00:00\",\"2022-10-19T00:00:00\",\"2022-10-26T00:00:00\",\"2022-11-02T00:00:00\",\"2022-11-09T00:00:00\",\"2022-11-16T00:00:00\",\"2022-11-23T00:00:00\",\"2022-11-30T00:00:00\",\"2022-12-07T00:00:00\",\"2022-12-14T00:00:00\",\"2022-12-21T00:00:00\",\"2022-12-28T00:00:00\",\"2023-01-04T00:00:00\",\"2023-01-11T00:00:00\",\"2023-01-18T00:00:00\",\"2023-01-25T00:00:00\",\"2023-02-01T00:00:00\",\"2023-02-08T00:00:00\"],\"xaxis\":\"x\",\"y\":[0,0,0,0,0,0,0,0,0,213,1657,4138,9001,10272,7179,4346,3119,1601,1300,882,754,626,529,1486,2451,173,210,206,120,105,92,44,50,62,5,74,47,107,91,59,39,35,68,110,119,114,141,231,319,262,583,692,1130,1101,1139,1200,1129,1122,972,995,865,732,777,748,542,503,591,669,452,390,266,225,134,144,96,29,61,51,54,109,53,48,92,70,116,115,145,171,261,369,158,222,133,132,314,131,78,123,172,154,156,196,453,727,1356,1532,1510,1208,795,604,422,287,126,141,103,117,50,86,36,50,41,58,80,125,116,103,163,121,138,118,111,177,220,267,229,238,181,142,104,177,162,413,158,215,957,1287,81,140,286,323,205,208,294,335,348,328,360,186,247,0],\"yaxis\":\"y\",\"type\":\"scatter\"},{\"hovertemplate\":\"County Name=suffolk county<br>date=%{x}<br>new_deaths=%{y}<extra></extra>\",\"legendgroup\":\"suffolk county\",\"line\":{\"color\":\"#00cc96\",\"dash\":\"solid\"},\"marker\":{\"symbol\":\"circle\"},\"mode\":\"lines\",\"name\":\"suffolk county\",\"orientation\":\"v\",\"showlegend\":true,\"x\":[\"2020-01-22T00:00:00\",\"2020-01-29T00:00:00\",\"2020-02-05T00:00:00\",\"2020-02-12T00:00:00\",\"2020-02-19T00:00:00\",\"2020-02-26T00:00:00\",\"2020-03-04T00:00:00\",\"2020-03-11T00:00:00\",\"2020-03-18T00:00:00\",\"2020-03-25T00:00:00\",\"2020-04-01T00:00:00\",\"2020-04-08T00:00:00\",\"2020-04-15T00:00:00\",\"2020-04-22T00:00:00\",\"2020-04-29T00:00:00\",\"2020-05-06T00:00:00\",\"2020-05-13T00:00:00\",\"2020-05-20T00:00:00\",\"2020-05-27T00:00:00\",\"2020-06-03T00:00:00\",\"2020-06-10T00:00:00\",\"2020-06-17T00:00:00\",\"2020-06-24T00:00:00\",\"2020-07-01T00:00:00\",\"2020-07-08T00:00:00\",\"2020-07-15T00:00:00\",\"2020-07-22T00:00:00\",\"2020-07-29T00:00:00\",\"2020-08-05T00:00:00\",\"2020-08-12T00:00:00\",\"2020-08-19T00:00:00\",\"2020-08-26T00:00:00\",\"2020-09-02T00:00:00\",\"2020-09-09T00:00:00\",\"2020-09-16T00:00:00\",\"2020-09-23T00:00:00\",\"2020-09-30T00:00:00\",\"2020-10-07T00:00:00\",\"2020-10-14T00:00:00\",\"2020-10-21T00:00:00\",\"2020-10-28T00:00:00\",\"2020-11-04T00:00:00\",\"2020-11-11T00:00:00\",\"2020-11-18T00:00:00\",\"2020-11-25T00:00:00\",\"2020-12-02T00:00:00\",\"2020-12-09T00:00:00\",\"2020-12-16T00:00:00\",\"2020-12-23T00:00:00\",\"2020-12-30T00:00:00\",\"2021-01-06T00:00:00\",\"2021-01-13T00:00:00\",\"2021-01-20T00:00:00\",\"2021-01-27T00:00:00\",\"2021-02-03T00:00:00\",\"2021-02-10T00:00:00\",\"2021-02-17T00:00:00\",\"2021-02-24T00:00:00\",\"2021-03-03T00:00:00\",\"2021-03-10T00:00:00\",\"2021-03-17T00:00:00\",\"2021-03-24T00:00:00\",\"2021-03-31T00:00:00\",\"2021-04-07T00:00:00\",\"2021-04-14T00:00:00\",\"2021-04-21T00:00:00\",\"2021-04-28T00:00:00\",\"2021-05-05T00:00:00\",\"2021-05-12T00:00:00\",\"2021-05-19T00:00:00\",\"2021-05-26T00:00:00\",\"2021-06-02T00:00:00\",\"2021-06-09T00:00:00\",\"2021-06-16T00:00:00\",\"2021-06-23T00:00:00\",\"2021-06-30T00:00:00\",\"2021-07-07T00:00:00\",\"2021-07-14T00:00:00\",\"2021-07-21T00:00:00\",\"2021-07-28T00:00:00\",\"2021-08-04T00:00:00\",\"2021-08-11T00:00:00\",\"2021-08-18T00:00:00\",\"2021-08-25T00:00:00\",\"2021-09-01T00:00:00\",\"2021-09-08T00:00:00\",\"2021-09-15T00:00:00\",\"2021-09-22T00:00:00\",\"2021-09-29T00:00:00\",\"2021-10-06T00:00:00\",\"2021-10-13T00:00:00\",\"2021-10-20T00:00:00\",\"2021-10-27T00:00:00\",\"2021-11-03T00:00:00\",\"2021-11-10T00:00:00\",\"2021-11-17T00:00:00\",\"2021-11-24T00:00:00\",\"2021-12-01T00:00:00\",\"2021-12-08T00:00:00\",\"2021-12-15T00:00:00\",\"2021-12-22T00:00:00\",\"2021-12-29T00:00:00\",\"2022-01-05T00:00:00\",\"2022-01-12T00:00:00\",\"2022-01-19T00:00:00\",\"2022-01-26T00:00:00\",\"2022-02-02T00:00:00\",\"2022-02-09T00:00:00\",\"2022-02-16T00:00:00\",\"2022-02-23T00:00:00\",\"2022-03-02T00:00:00\",\"2022-03-09T00:00:00\",\"2022-03-16T00:00:00\",\"2022-03-23T00:00:00\",\"2022-03-30T00:00:00\",\"2022-04-06T00:00:00\",\"2022-04-13T00:00:00\",\"2022-04-20T00:00:00\",\"2022-04-27T00:00:00\",\"2022-05-04T00:00:00\",\"2022-05-11T00:00:00\",\"2022-05-18T00:00:00\",\"2022-05-25T00:00:00\",\"2022-06-01T00:00:00\",\"2022-06-08T00:00:00\",\"2022-06-15T00:00:00\",\"2022-06-22T00:00:00\",\"2022-06-29T00:00:00\",\"2022-07-06T00:00:00\",\"2022-07-13T00:00:00\",\"2022-07-20T00:00:00\",\"2022-07-27T00:00:00\",\"2022-08-03T00:00:00\",\"2022-08-10T00:00:00\",\"2022-08-17T00:00:00\",\"2022-08-24T00:00:00\",\"2022-08-31T00:00:00\",\"2022-09-07T00:00:00\",\"2022-09-14T00:00:00\",\"2022-09-21T00:00:00\",\"2022-09-28T00:00:00\",\"2022-10-05T00:00:00\",\"2022-10-12T00:00:00\",\"2022-10-19T00:00:00\",\"2022-10-26T00:00:00\",\"2022-11-02T00:00:00\",\"2022-11-09T00:00:00\",\"2022-11-16T00:00:00\",\"2022-11-23T00:00:00\",\"2022-11-30T00:00:00\",\"2022-12-07T00:00:00\",\"2022-12-14T00:00:00\",\"2022-12-21T00:00:00\",\"2022-12-28T00:00:00\",\"2023-01-04T00:00:00\",\"2023-01-11T00:00:00\",\"2023-01-18T00:00:00\",\"2023-01-25T00:00:00\",\"2023-02-01T00:00:00\",\"2023-02-08T00:00:00\"],\"xaxis\":\"x\",\"y\":[0,0,0,0,0,0,0,0,7,47,241,1057,2236,1989,1875,1502,2348,902,620,414,265,152,102,90,35,66,9,14,7,8,5,14,8,27,22,19,13,13,8,11,7,12,10,23,58,118,186,268,345,601,650,775,843,818,708,583,558,496,365,305,264,286,225,256,177,140,140,121,122,72,48,29,33,27,8,9,22,15,4,14,23,26,68,98,89,112,132,132,123,130,157,192,136,103,104,90,99,63,142,113,202,229,327,629,685,737,545,742,0,202,107,52,66,25,15,39,18,20,45,40,54,92,91,101,103,94,35,87,51,41,37,79,80,49,66,71,68,75,98,75,77,44,58,113,105,115,70,0,1090,99,77,134,209,142,192,182,130,168,112,0],\"yaxis\":\"y\",\"type\":\"scatter\"}],                        {\"template\":{\"data\":{\"histogram2dcontour\":[{\"type\":\"histogram2dcontour\",\"colorbar\":{\"outlinewidth\":0,\"ticks\":\"\"},\"colorscale\":[[0.0,\"#0d0887\"],[0.1111111111111111,\"#46039f\"],[0.2222222222222222,\"#7201a8\"],[0.3333333333333333,\"#9c179e\"],[0.4444444444444444,\"#bd3786\"],[0.5555555555555556,\"#d8576b\"],[0.6666666666666666,\"#ed7953\"],[0.7777777777777778,\"#fb9f3a\"],[0.8888888888888888,\"#fdca26\"],[1.0,\"#f0f921\"]]}],\"choropleth\":[{\"type\":\"choropleth\",\"colorbar\":{\"outlinewidth\":0,\"ticks\":\"\"}}],\"histogram2d\":[{\"type\":\"histogram2d\",\"colorbar\":{\"outlinewidth\":0,\"ticks\":\"\"},\"colorscale\":[[0.0,\"#0d0887\"],[0.1111111111111111,\"#46039f\"],[0.2222222222222222,\"#7201a8\"],[0.3333333333333333,\"#9c179e\"],[0.4444444444444444,\"#bd3786\"],[0.5555555555555556,\"#d8576b\"],[0.6666666666666666,\"#ed7953\"],[0.7777777777777778,\"#fb9f3a\"],[0.8888888888888888,\"#fdca26\"],[1.0,\"#f0f921\"]]}],\"heatmap\":[{\"type\":\"heatmap\",\"colorbar\":{\"outlinewidth\":0,\"ticks\":\"\"},\"colorscale\":[[0.0,\"#0d0887\"],[0.1111111111111111,\"#46039f\"],[0.2222222222222222,\"#7201a8\"],[0.3333333333333333,\"#9c179e\"],[0.4444444444444444,\"#bd3786\"],[0.5555555555555556,\"#d8576b\"],[0.6666666666666666,\"#ed7953\"],[0.7777777777777778,\"#fb9f3a\"],[0.8888888888888888,\"#fdca26\"],[1.0,\"#f0f921\"]]}],\"heatmapgl\":[{\"type\":\"heatmapgl\",\"colorbar\":{\"outlinewidth\":0,\"ticks\":\"\"},\"colorscale\":[[0.0,\"#0d0887\"],[0.1111111111111111,\"#46039f\"],[0.2222222222222222,\"#7201a8\"],[0.3333333333333333,\"#9c179e\"],[0.4444444444444444,\"#bd3786\"],[0.5555555555555556,\"#d8576b\"],[0.6666666666666666,\"#ed7953\"],[0.7777777777777778,\"#fb9f3a\"],[0.8888888888888888,\"#fdca26\"],[1.0,\"#f0f921\"]]}],\"contourcarpet\":[{\"type\":\"contourcarpet\",\"colorbar\":{\"outlinewidth\":0,\"ticks\":\"\"}}],\"contour\":[{\"type\":\"contour\",\"colorbar\":{\"outlinewidth\":0,\"ticks\":\"\"},\"colorscale\":[[0.0,\"#0d0887\"],[0.1111111111111111,\"#46039f\"],[0.2222222222222222,\"#7201a8\"],[0.3333333333333333,\"#9c179e\"],[0.4444444444444444,\"#bd3786\"],[0.5555555555555556,\"#d8576b\"],[0.6666666666666666,\"#ed7953\"],[0.7777777777777778,\"#fb9f3a\"],[0.8888888888888888,\"#fdca26\"],[1.0,\"#f0f921\"]]}],\"surface\":[{\"type\":\"surface\",\"colorbar\":{\"outlinewidth\":0,\"ticks\":\"\"},\"colorscale\":[[0.0,\"#0d0887\"],[0.1111111111111111,\"#46039f\"],[0.2222222222222222,\"#7201a8\"],[0.3333333333333333,\"#9c179e\"],[0.4444444444444444,\"#bd3786\"],[0.5555555555555556,\"#d8576b\"],[0.6666666666666666,\"#ed7953\"],[0.7777777777777778,\"#fb9f3a\"],[0.8888888888888888,\"#fdca26\"],[1.0,\"#f0f921\"]]}],\"mesh3d\":[{\"type\":\"mesh3d\",\"colorbar\":{\"outlinewidth\":0,\"ticks\":\"\"}}],\"scatter\":[{\"fillpattern\":{\"fillmode\":\"overlay\",\"size\":10,\"solidity\":0.2},\"type\":\"scatter\"}],\"parcoords\":[{\"type\":\"parcoords\",\"line\":{\"colorbar\":{\"outlinewidth\":0,\"ticks\":\"\"}}}],\"scatterpolargl\":[{\"type\":\"scatterpolargl\",\"marker\":{\"colorbar\":{\"outlinewidth\":0,\"ticks\":\"\"}}}],\"bar\":[{\"error_x\":{\"color\":\"#2a3f5f\"},\"error_y\":{\"color\":\"#2a3f5f\"},\"marker\":{\"line\":{\"color\":\"#E5ECF6\",\"width\":0.5},\"pattern\":{\"fillmode\":\"overlay\",\"size\":10,\"solidity\":0.2}},\"type\":\"bar\"}],\"scattergeo\":[{\"type\":\"scattergeo\",\"marker\":{\"colorbar\":{\"outlinewidth\":0,\"ticks\":\"\"}}}],\"scatterpolar\":[{\"type\":\"scatterpolar\",\"marker\":{\"colorbar\":{\"outlinewidth\":0,\"ticks\":\"\"}}}],\"histogram\":[{\"marker\":{\"pattern\":{\"fillmode\":\"overlay\",\"size\":10,\"solidity\":0.2}},\"type\":\"histogram\"}],\"scattergl\":[{\"type\":\"scattergl\",\"marker\":{\"colorbar\":{\"outlinewidth\":0,\"ticks\":\"\"}}}],\"scatter3d\":[{\"type\":\"scatter3d\",\"line\":{\"colorbar\":{\"outlinewidth\":0,\"ticks\":\"\"}},\"marker\":{\"colorbar\":{\"outlinewidth\":0,\"ticks\":\"\"}}}],\"scattermapbox\":[{\"type\":\"scattermapbox\",\"marker\":{\"colorbar\":{\"outlinewidth\":0,\"ticks\":\"\"}}}],\"scatterternary\":[{\"type\":\"scatterternary\",\"marker\":{\"colorbar\":{\"outlinewidth\":0,\"ticks\":\"\"}}}],\"scattercarpet\":[{\"type\":\"scattercarpet\",\"marker\":{\"colorbar\":{\"outlinewidth\":0,\"ticks\":\"\"}}}],\"carpet\":[{\"aaxis\":{\"endlinecolor\":\"#2a3f5f\",\"gridcolor\":\"white\",\"linecolor\":\"white\",\"minorgridcolor\":\"white\",\"startlinecolor\":\"#2a3f5f\"},\"baxis\":{\"endlinecolor\":\"#2a3f5f\",\"gridcolor\":\"white\",\"linecolor\":\"white\",\"minorgridcolor\":\"white\",\"startlinecolor\":\"#2a3f5f\"},\"type\":\"carpet\"}],\"table\":[{\"cells\":{\"fill\":{\"color\":\"#EBF0F8\"},\"line\":{\"color\":\"white\"}},\"header\":{\"fill\":{\"color\":\"#C8D4E3\"},\"line\":{\"color\":\"white\"}},\"type\":\"table\"}],\"barpolar\":[{\"marker\":{\"line\":{\"color\":\"#E5ECF6\",\"width\":0.5},\"pattern\":{\"fillmode\":\"overlay\",\"size\":10,\"solidity\":0.2}},\"type\":\"barpolar\"}],\"pie\":[{\"automargin\":true,\"type\":\"pie\"}]},\"layout\":{\"autotypenumbers\":\"strict\",\"colorway\":[\"#636efa\",\"#EF553B\",\"#00cc96\",\"#ab63fa\",\"#FFA15A\",\"#19d3f3\",\"#FF6692\",\"#B6E880\",\"#FF97FF\",\"#FECB52\"],\"font\":{\"color\":\"#2a3f5f\"},\"hovermode\":\"closest\",\"hoverlabel\":{\"align\":\"left\"},\"paper_bgcolor\":\"white\",\"plot_bgcolor\":\"#E5ECF6\",\"polar\":{\"bgcolor\":\"#E5ECF6\",\"angularaxis\":{\"gridcolor\":\"white\",\"linecolor\":\"white\",\"ticks\":\"\"},\"radialaxis\":{\"gridcolor\":\"white\",\"linecolor\":\"white\",\"ticks\":\"\"}},\"ternary\":{\"bgcolor\":\"#E5ECF6\",\"aaxis\":{\"gridcolor\":\"white\",\"linecolor\":\"white\",\"ticks\":\"\"},\"baxis\":{\"gridcolor\":\"white\",\"linecolor\":\"white\",\"ticks\":\"\"},\"caxis\":{\"gridcolor\":\"white\",\"linecolor\":\"white\",\"ticks\":\"\"}},\"coloraxis\":{\"colorbar\":{\"outlinewidth\":0,\"ticks\":\"\"}},\"colorscale\":{\"sequential\":[[0.0,\"#0d0887\"],[0.1111111111111111,\"#46039f\"],[0.2222222222222222,\"#7201a8\"],[0.3333333333333333,\"#9c179e\"],[0.4444444444444444,\"#bd3786\"],[0.5555555555555556,\"#d8576b\"],[0.6666666666666666,\"#ed7953\"],[0.7777777777777778,\"#fb9f3a\"],[0.8888888888888888,\"#fdca26\"],[1.0,\"#f0f921\"]],\"sequentialminus\":[[0.0,\"#0d0887\"],[0.1111111111111111,\"#46039f\"],[0.2222222222222222,\"#7201a8\"],[0.3333333333333333,\"#9c179e\"],[0.4444444444444444,\"#bd3786\"],[0.5555555555555556,\"#d8576b\"],[0.6666666666666666,\"#ed7953\"],[0.7777777777777778,\"#fb9f3a\"],[0.8888888888888888,\"#fdca26\"],[1.0,\"#f0f921\"]],\"diverging\":[[0,\"#8e0152\"],[0.1,\"#c51b7d\"],[0.2,\"#de77ae\"],[0.3,\"#f1b6da\"],[0.4,\"#fde0ef\"],[0.5,\"#f7f7f7\"],[0.6,\"#e6f5d0\"],[0.7,\"#b8e186\"],[0.8,\"#7fbc41\"],[0.9,\"#4d9221\"],[1,\"#276419\"]]},\"xaxis\":{\"gridcolor\":\"white\",\"linecolor\":\"white\",\"ticks\":\"\",\"title\":{\"standoff\":15},\"zerolinecolor\":\"white\",\"automargin\":true,\"zerolinewidth\":2},\"yaxis\":{\"gridcolor\":\"white\",\"linecolor\":\"white\",\"ticks\":\"\",\"title\":{\"standoff\":15},\"zerolinecolor\":\"white\",\"automargin\":true,\"zerolinewidth\":2},\"scene\":{\"xaxis\":{\"backgroundcolor\":\"#E5ECF6\",\"gridcolor\":\"white\",\"linecolor\":\"white\",\"showbackground\":true,\"ticks\":\"\",\"zerolinecolor\":\"white\",\"gridwidth\":2},\"yaxis\":{\"backgroundcolor\":\"#E5ECF6\",\"gridcolor\":\"white\",\"linecolor\":\"white\",\"showbackground\":true,\"ticks\":\"\",\"zerolinecolor\":\"white\",\"gridwidth\":2},\"zaxis\":{\"backgroundcolor\":\"#E5ECF6\",\"gridcolor\":\"white\",\"linecolor\":\"white\",\"showbackground\":true,\"ticks\":\"\",\"zerolinecolor\":\"white\",\"gridwidth\":2}},\"shapedefaults\":{\"line\":{\"color\":\"#2a3f5f\"}},\"annotationdefaults\":{\"arrowcolor\":\"#2a3f5f\",\"arrowhead\":0,\"arrowwidth\":1},\"geo\":{\"bgcolor\":\"white\",\"landcolor\":\"#E5ECF6\",\"subunitcolor\":\"white\",\"showland\":true,\"showlakes\":true,\"lakecolor\":\"white\"},\"title\":{\"x\":0.05},\"mapbox\":{\"style\":\"light\"}}},\"xaxis\":{\"anchor\":\"y\",\"domain\":[0.0,1.0],\"title\":{\"text\":\"date\"}},\"yaxis\":{\"anchor\":\"x\",\"domain\":[0.0,1.0],\"title\":{\"text\":\"new_deaths\"}},\"legend\":{\"title\":{\"text\":\"County Name\"},\"tracegroupgap\":0},\"title\":{\"text\":\"Top 3 with deaths(raw values)\"}},                        {\"responsive\": true}                    ).then(function(){\n",
       "                            \n",
       "var gd = document.getElementById('5695d71c-98e9-4883-9acb-094d858b79b8');\n",
       "var x = new MutationObserver(function (mutations, observer) {{\n",
       "        var display = window.getComputedStyle(gd).display;\n",
       "        if (!display || display === 'none') {{\n",
       "            console.log([gd, 'removed!']);\n",
       "            Plotly.purge(gd);\n",
       "            observer.disconnect();\n",
       "        }}\n",
       "}});\n",
       "\n",
       "// Listen for the removal of the full notebook cells\n",
       "var notebookContainer = gd.closest('#notebook-container');\n",
       "if (notebookContainer) {{\n",
       "    x.observe(notebookContainer, {childList: true});\n",
       "}}\n",
       "\n",
       "// Listen for the clearing of the current output cell\n",
       "var outputEl = gd.closest('.output');\n",
       "if (outputEl) {{\n",
       "    x.observe(outputEl, {childList: true});\n",
       "}}\n",
       "\n",
       "                        })                };                });            </script>        </div>"
      ]
     },
     "metadata": {},
     "output_type": "display_data"
    }
   ],
   "source": [
    "deaths_raw_values = px.line(counties_weekly, x = 'date', y = 'new_deaths', color='County Name', title=\"Top 3 with deaths(raw values)\")\n",
    "deaths_raw_values.show()"
   ]
  },
  {
   "cell_type": "code",
   "execution_count": 1417,
   "id": "1691f80c",
   "metadata": {},
   "outputs": [
    {
     "data": {
      "application/vnd.plotly.v1+json": {
       "config": {
        "plotlyServerURL": "https://plot.ly"
       },
       "data": [
        {
         "hovertemplate": "County Name=kings county<br>variable=new_cases_log_norm<br>date=%{x}<br>value=%{y}<extra></extra>",
         "legendgroup": "kings county",
         "line": {
          "color": "#636efa",
          "dash": "solid"
         },
         "marker": {
          "symbol": "circle"
         },
         "mode": "lines",
         "name": "kings county",
         "orientation": "v",
         "showlegend": true,
         "type": "scatter",
         "x": [
          "2020-01-22T00:00:00",
          "2020-01-29T00:00:00",
          "2020-02-05T00:00:00",
          "2020-02-12T00:00:00",
          "2020-02-19T00:00:00",
          "2020-02-26T00:00:00",
          "2020-03-04T00:00:00",
          "2020-03-11T00:00:00",
          "2020-03-18T00:00:00",
          "2020-03-25T00:00:00",
          "2020-04-01T00:00:00",
          "2020-04-08T00:00:00",
          "2020-04-15T00:00:00",
          "2020-04-22T00:00:00",
          "2020-04-29T00:00:00",
          "2020-05-06T00:00:00",
          "2020-05-13T00:00:00",
          "2020-05-20T00:00:00",
          "2020-05-27T00:00:00",
          "2020-06-03T00:00:00",
          "2020-06-10T00:00:00",
          "2020-06-17T00:00:00",
          "2020-06-24T00:00:00",
          "2020-07-01T00:00:00",
          "2020-07-08T00:00:00",
          "2020-07-15T00:00:00",
          "2020-07-22T00:00:00",
          "2020-07-29T00:00:00",
          "2020-08-05T00:00:00",
          "2020-08-12T00:00:00",
          "2020-08-19T00:00:00",
          "2020-08-26T00:00:00",
          "2020-09-02T00:00:00",
          "2020-09-09T00:00:00",
          "2020-09-16T00:00:00",
          "2020-09-23T00:00:00",
          "2020-09-30T00:00:00",
          "2020-10-07T00:00:00",
          "2020-10-14T00:00:00",
          "2020-10-21T00:00:00",
          "2020-10-28T00:00:00",
          "2020-11-04T00:00:00",
          "2020-11-11T00:00:00",
          "2020-11-18T00:00:00",
          "2020-11-25T00:00:00",
          "2020-12-02T00:00:00",
          "2020-12-09T00:00:00",
          "2020-12-16T00:00:00",
          "2020-12-23T00:00:00",
          "2020-12-30T00:00:00",
          "2021-01-06T00:00:00",
          "2021-01-13T00:00:00",
          "2021-01-20T00:00:00",
          "2021-01-27T00:00:00",
          "2021-02-03T00:00:00",
          "2021-02-10T00:00:00",
          "2021-02-17T00:00:00",
          "2021-02-24T00:00:00",
          "2021-03-03T00:00:00",
          "2021-03-10T00:00:00",
          "2021-03-17T00:00:00",
          "2021-03-24T00:00:00",
          "2021-03-31T00:00:00",
          "2021-04-07T00:00:00",
          "2021-04-14T00:00:00",
          "2021-04-21T00:00:00",
          "2021-04-28T00:00:00",
          "2021-05-05T00:00:00",
          "2021-05-12T00:00:00",
          "2021-05-19T00:00:00",
          "2021-05-26T00:00:00",
          "2021-06-02T00:00:00",
          "2021-06-09T00:00:00",
          "2021-06-16T00:00:00",
          "2021-06-23T00:00:00",
          "2021-06-30T00:00:00",
          "2021-07-07T00:00:00",
          "2021-07-14T00:00:00",
          "2021-07-21T00:00:00",
          "2021-07-28T00:00:00",
          "2021-08-04T00:00:00",
          "2021-08-11T00:00:00",
          "2021-08-18T00:00:00",
          "2021-08-25T00:00:00",
          "2021-09-01T00:00:00",
          "2021-09-08T00:00:00",
          "2021-09-15T00:00:00",
          "2021-09-22T00:00:00",
          "2021-09-29T00:00:00",
          "2021-10-06T00:00:00",
          "2021-10-13T00:00:00",
          "2021-10-20T00:00:00",
          "2021-10-27T00:00:00",
          "2021-11-03T00:00:00",
          "2021-11-10T00:00:00",
          "2021-11-17T00:00:00",
          "2021-11-24T00:00:00",
          "2021-12-01T00:00:00",
          "2021-12-08T00:00:00",
          "2021-12-15T00:00:00",
          "2021-12-22T00:00:00",
          "2021-12-29T00:00:00",
          "2022-01-05T00:00:00",
          "2022-01-12T00:00:00",
          "2022-01-19T00:00:00",
          "2022-01-26T00:00:00",
          "2022-02-02T00:00:00",
          "2022-02-09T00:00:00",
          "2022-02-16T00:00:00",
          "2022-02-23T00:00:00",
          "2022-03-02T00:00:00",
          "2022-03-09T00:00:00",
          "2022-03-16T00:00:00",
          "2022-03-23T00:00:00",
          "2022-03-30T00:00:00",
          "2022-04-06T00:00:00",
          "2022-04-13T00:00:00",
          "2022-04-20T00:00:00",
          "2022-04-27T00:00:00",
          "2022-05-04T00:00:00",
          "2022-05-11T00:00:00",
          "2022-05-18T00:00:00",
          "2022-05-25T00:00:00",
          "2022-06-01T00:00:00",
          "2022-06-08T00:00:00",
          "2022-06-15T00:00:00",
          "2022-06-22T00:00:00",
          "2022-06-29T00:00:00",
          "2022-07-06T00:00:00",
          "2022-07-13T00:00:00",
          "2022-07-20T00:00:00",
          "2022-07-27T00:00:00",
          "2022-08-03T00:00:00",
          "2022-08-10T00:00:00",
          "2022-08-17T00:00:00",
          "2022-08-24T00:00:00",
          "2022-08-31T00:00:00",
          "2022-09-07T00:00:00",
          "2022-09-14T00:00:00",
          "2022-09-21T00:00:00",
          "2022-09-28T00:00:00",
          "2022-10-05T00:00:00",
          "2022-10-12T00:00:00",
          "2022-10-19T00:00:00",
          "2022-10-26T00:00:00",
          "2022-11-02T00:00:00",
          "2022-11-09T00:00:00",
          "2022-11-16T00:00:00",
          "2022-11-23T00:00:00",
          "2022-11-30T00:00:00",
          "2022-12-07T00:00:00",
          "2022-12-14T00:00:00",
          "2022-12-21T00:00:00",
          "2022-12-28T00:00:00",
          "2023-01-04T00:00:00",
          "2023-01-11T00:00:00",
          "2023-01-18T00:00:00",
          "2023-01-25T00:00:00",
          "2023-02-01T00:00:00",
          "2023-02-08T00:00:00"
         ],
         "xaxis": "x",
         "y": [
          0,
          0,
          0,
          0,
          0,
          0,
          0,
          3.5835189387338877,
          6.71295620068922,
          9.911356510915319,
          10.656058634336224,
          11.070521438434163,
          11.063304686815306,
          11.037692184907522,
          10.628859880391053,
          10.349934642366232,
          9.982991653649188,
          9.74823626726542,
          9.530973544568376,
          9.40261225962413,
          9.064736398118548,
          8.79300509129905,
          8.652597828424186,
          8.41935983106968,
          8.389359819908625,
          8.374476889216949,
          8.457655478702163,
          8.291295851907913,
          8.306472160103054,
          8.336630087639541,
          8.464635940679669,
          8.228977643360981,
          8.283746747108657,
          8.452761331258982,
          8.33615081612306,
          8.72842609170623,
          9.034676602847487,
          9.318746245820867,
          9.386979145635477,
          9.25167423547012,
          9.236982302923577,
          9.385637313834012,
          9.633383412359072,
          9.915267891072153,
          10.043944905231818,
          10.232575449046887,
          10.60353586540962,
          10.750985392926212,
          10.849802997516173,
          10.95591627689993,
          11.050350177153108,
          11.247865570554858,
          11.35693809946813,
          11.304571999128777,
          11.262346480470079,
          10.998660600456892,
          11.058606190644703,
          10.911609693028074,
          10.958217613387562,
          11.000899120627885,
          10.902850245413545,
          11.021673684161504,
          10.997991413159863,
          10.921901565875306,
          10.844275756010866,
          10.751777777509748,
          10.434380474452524,
          10.100287128511146,
          9.705524299752826,
          9.313708904954117,
          8.982937763742845,
          8.55101473989368,
          8.14786712992684,
          8.025189321894105,
          7.778630147329995,
          7.815610532039225,
          8.018625465049041,
          8.561210076834925,
          9.05800471067365,
          9.524932109735552,
          9.940735166563277,
          10.159678957896926,
          10.290041635752871,
          10.33799352942903,
          10.24714817639753,
          10.186559012430603,
          10.161534819858604,
          10.257869870415327,
          10.146747407435555,
          10.079287892340236,
          10.167542694357136,
          9.998706819117517,
          9.82021463334285,
          9.660523873773249,
          9.68582893145311,
          9.766693701018708,
          10.00065963428884,
          9.98984871818463,
          10.280518891982089,
          10.741340954095548,
          11.741343083907209,
          12.567115536085627,
          13.126604371661603,
          13.31575674816535,
          12.887076392143452,
          12.173502965140777,
          11.401066099683796,
          10.632219034820306,
          10.198207302339933,
          9.720645860495885,
          9.366831168736471,
          9.261603665914674,
          9.339261152043902,
          9.539572174085478,
          9.802119058148392,
          9.933337574505499,
          10.101518403035673,
          10.421745488119713,
          10.383936439643712,
          10.383658073342794,
          10.960600534026382,
          10.861035384258676,
          10.915397507365126,
          10.856611534455824,
          10.738589920723658,
          10.629440684821493,
          10.54376124348927,
          10.561318387968765,
          10.576304466623078,
          10.897017064751271,
          10.831410368640189,
          10.946763296164947,
          10.73863330278952,
          10.655351654055092,
          10.455445522658549,
          10.338349637495403,
          10.170647989267495,
          10.053242872621395,
          9.968947524008382,
          10.08104779222879,
          10.13840155944965,
          9.865733762924732,
          10.050354628346112,
          10.053027619806134,
          10.04698165217529,
          10.141598530972518,
          10.225389875873963,
          10.326039184368119,
          10.253087527803249,
          10.32200049949388,
          10.111436244468202,
          10.575002432969216,
          10.747358117880419,
          9.788637710857747,
          10.644591216517167,
          10.479791880329493,
          10.112653875919884,
          10.25361611560518,
          9.904986428660363,
          0
         ],
         "yaxis": "y"
        },
        {
         "hovertemplate": "County Name=queens county<br>variable=new_cases_log_norm<br>date=%{x}<br>value=%{y}<extra></extra>",
         "legendgroup": "queens county",
         "line": {
          "color": "#EF553B",
          "dash": "solid"
         },
         "marker": {
          "symbol": "circle"
         },
         "mode": "lines",
         "name": "queens county",
         "orientation": "v",
         "showlegend": true,
         "type": "scatter",
         "x": [
          "2020-01-22T00:00:00",
          "2020-01-29T00:00:00",
          "2020-02-05T00:00:00",
          "2020-02-12T00:00:00",
          "2020-02-19T00:00:00",
          "2020-02-26T00:00:00",
          "2020-03-04T00:00:00",
          "2020-03-11T00:00:00",
          "2020-03-18T00:00:00",
          "2020-03-25T00:00:00",
          "2020-04-01T00:00:00",
          "2020-04-08T00:00:00",
          "2020-04-15T00:00:00",
          "2020-04-22T00:00:00",
          "2020-04-29T00:00:00",
          "2020-05-06T00:00:00",
          "2020-05-13T00:00:00",
          "2020-05-20T00:00:00",
          "2020-05-27T00:00:00",
          "2020-06-03T00:00:00",
          "2020-06-10T00:00:00",
          "2020-06-17T00:00:00",
          "2020-06-24T00:00:00",
          "2020-07-01T00:00:00",
          "2020-07-08T00:00:00",
          "2020-07-15T00:00:00",
          "2020-07-22T00:00:00",
          "2020-07-29T00:00:00",
          "2020-08-05T00:00:00",
          "2020-08-12T00:00:00",
          "2020-08-19T00:00:00",
          "2020-08-26T00:00:00",
          "2020-09-02T00:00:00",
          "2020-09-09T00:00:00",
          "2020-09-16T00:00:00",
          "2020-09-23T00:00:00",
          "2020-09-30T00:00:00",
          "2020-10-07T00:00:00",
          "2020-10-14T00:00:00",
          "2020-10-21T00:00:00",
          "2020-10-28T00:00:00",
          "2020-11-04T00:00:00",
          "2020-11-11T00:00:00",
          "2020-11-18T00:00:00",
          "2020-11-25T00:00:00",
          "2020-12-02T00:00:00",
          "2020-12-09T00:00:00",
          "2020-12-16T00:00:00",
          "2020-12-23T00:00:00",
          "2020-12-30T00:00:00",
          "2021-01-06T00:00:00",
          "2021-01-13T00:00:00",
          "2021-01-20T00:00:00",
          "2021-01-27T00:00:00",
          "2021-02-03T00:00:00",
          "2021-02-10T00:00:00",
          "2021-02-17T00:00:00",
          "2021-02-24T00:00:00",
          "2021-03-03T00:00:00",
          "2021-03-10T00:00:00",
          "2021-03-17T00:00:00",
          "2021-03-24T00:00:00",
          "2021-03-31T00:00:00",
          "2021-04-07T00:00:00",
          "2021-04-14T00:00:00",
          "2021-04-21T00:00:00",
          "2021-04-28T00:00:00",
          "2021-05-05T00:00:00",
          "2021-05-12T00:00:00",
          "2021-05-19T00:00:00",
          "2021-05-26T00:00:00",
          "2021-06-02T00:00:00",
          "2021-06-09T00:00:00",
          "2021-06-16T00:00:00",
          "2021-06-23T00:00:00",
          "2021-06-30T00:00:00",
          "2021-07-07T00:00:00",
          "2021-07-14T00:00:00",
          "2021-07-21T00:00:00",
          "2021-07-28T00:00:00",
          "2021-08-04T00:00:00",
          "2021-08-11T00:00:00",
          "2021-08-18T00:00:00",
          "2021-08-25T00:00:00",
          "2021-09-01T00:00:00",
          "2021-09-08T00:00:00",
          "2021-09-15T00:00:00",
          "2021-09-22T00:00:00",
          "2021-09-29T00:00:00",
          "2021-10-06T00:00:00",
          "2021-10-13T00:00:00",
          "2021-10-20T00:00:00",
          "2021-10-27T00:00:00",
          "2021-11-03T00:00:00",
          "2021-11-10T00:00:00",
          "2021-11-17T00:00:00",
          "2021-11-24T00:00:00",
          "2021-12-01T00:00:00",
          "2021-12-08T00:00:00",
          "2021-12-15T00:00:00",
          "2021-12-22T00:00:00",
          "2021-12-29T00:00:00",
          "2022-01-05T00:00:00",
          "2022-01-12T00:00:00",
          "2022-01-19T00:00:00",
          "2022-01-26T00:00:00",
          "2022-02-02T00:00:00",
          "2022-02-09T00:00:00",
          "2022-02-16T00:00:00",
          "2022-02-23T00:00:00",
          "2022-03-02T00:00:00",
          "2022-03-09T00:00:00",
          "2022-03-16T00:00:00",
          "2022-03-23T00:00:00",
          "2022-03-30T00:00:00",
          "2022-04-06T00:00:00",
          "2022-04-13T00:00:00",
          "2022-04-20T00:00:00",
          "2022-04-27T00:00:00",
          "2022-05-04T00:00:00",
          "2022-05-11T00:00:00",
          "2022-05-18T00:00:00",
          "2022-05-25T00:00:00",
          "2022-06-01T00:00:00",
          "2022-06-08T00:00:00",
          "2022-06-15T00:00:00",
          "2022-06-22T00:00:00",
          "2022-06-29T00:00:00",
          "2022-07-06T00:00:00",
          "2022-07-13T00:00:00",
          "2022-07-20T00:00:00",
          "2022-07-27T00:00:00",
          "2022-08-03T00:00:00",
          "2022-08-10T00:00:00",
          "2022-08-17T00:00:00",
          "2022-08-24T00:00:00",
          "2022-08-31T00:00:00",
          "2022-09-07T00:00:00",
          "2022-09-14T00:00:00",
          "2022-09-21T00:00:00",
          "2022-09-28T00:00:00",
          "2022-10-05T00:00:00",
          "2022-10-12T00:00:00",
          "2022-10-19T00:00:00",
          "2022-10-26T00:00:00",
          "2022-11-02T00:00:00",
          "2022-11-09T00:00:00",
          "2022-11-16T00:00:00",
          "2022-11-23T00:00:00",
          "2022-11-30T00:00:00",
          "2022-12-07T00:00:00",
          "2022-12-14T00:00:00",
          "2022-12-21T00:00:00",
          "2022-12-28T00:00:00",
          "2023-01-04T00:00:00",
          "2023-01-11T00:00:00",
          "2023-01-18T00:00:00",
          "2023-01-25T00:00:00",
          "2023-02-01T00:00:00",
          "2023-02-08T00:00:00"
         ],
         "xaxis": "x",
         "y": [
          0,
          0,
          0,
          0,
          0,
          0,
          0,
          2.4849066506213338,
          6.968850378351355,
          9.940156936893622,
          10.93603126123471,
          11.204046994374915,
          11.23282789069167,
          11.002699661276372,
          10.838521527227615,
          10.492273717771608,
          10.046114950786318,
          9.685891087651656,
          9.312445594914239,
          9.151227107484738,
          8.85452220375886,
          8.706159290930517,
          8.601718146487762,
          8.423541635336978,
          8.349247800569156,
          8.262558973013236,
          8.349720837474853,
          8.334951631424854,
          8.159088654670771,
          8.163940954757855,
          8.282230063299215,
          8.180040723492962,
          8.126222529461483,
          8.083328608789461,
          8.143517405800386,
          8.239329427904435,
          8.33615081612306,
          8.718500048122909,
          8.871505346167185,
          8.805525052711014,
          8.949365142354264,
          9.202812105556399,
          9.44406771683083,
          9.942515939504087,
          10.068196582013591,
          10.245409199825863,
          10.592199913806212,
          10.801797596374538,
          10.869919915888802,
          10.938023435497282,
          11.103858879320546,
          11.302364914604103,
          11.368523775596623,
          11.384114342890847,
          11.251391855413534,
          10.932428167955097,
          11.006622929931988,
          10.872731200863145,
          10.841304914954758,
          10.906414591070012,
          10.840991680809676,
          11.00554390360696,
          10.983969814331937,
          10.933660387981895,
          10.799269407778947,
          10.61208968765118,
          10.264303908975759,
          9.867860374893494,
          9.517015920921233,
          9.212936997824446,
          8.81224801819892,
          8.46062283992996,
          8.060540046541798,
          7.85631957141046,
          7.772752716472952,
          7.747596838697204,
          7.883823214895921,
          8.38411883719318,
          8.706821323394285,
          9.125218118560436,
          9.586170674955342,
          9.8944972606985,
          10.079204010278366,
          10.078574670435069,
          9.91061211247892,
          9.859640152756374,
          9.879911816007935,
          9.877194910581718,
          9.808407346286408,
          9.616605160255578,
          9.590214130418122,
          9.378309422546582,
          9.190749722212198,
          9.01857435635544,
          9.12630637636726,
          9.34591966621888,
          9.726989009045559,
          9.826228466989717,
          10.212625297017565,
          10.615431953179224,
          11.376395294789251,
          12.292906090024134,
          13.01226498906563,
          13.354398481442141,
          12.962607685470317,
          12.1143903768907,
          11.200841404359508,
          10.342613072137228,
          10.278149751489591,
          9.379745536837754,
          9.09065552903133,
          8.877102897866294,
          8.726318950963865,
          8.914088348842679,
          9.214531576595647,
          9.52427481557276,
          9.691345759330313,
          10.142622556268778,
          10.287150034683789,
          10.367347347021688,
          10.95530518468456,
          10.844158653135857,
          10.905790829400123,
          10.795997755745084,
          10.705399447887686,
          10.693965597214977,
          10.58918203057114,
          10.583853398731593,
          10.60109975005548,
          10.981335751851681,
          10.915506558619324,
          11.020365340011246,
          10.817716159692035,
          10.748647414747673,
          10.544288252724128,
          10.412802035103468,
          10.257308427492305,
          10.120210536047818,
          10.001883874392774,
          10.123586473664513,
          10.170150257764217,
          9.895001648886334,
          10.15202590887067,
          10.092743345183395,
          10.112937776718741,
          10.189681017561826,
          10.255270550394785,
          10.32453069060794,
          10.250405047019234,
          10.36725301481503,
          10.198616825623331,
          10.63385826089428,
          10.757477258213116,
          9.877400217773323,
          10.703851025734343,
          10.540249549648468,
          10.146943405162608,
          10.16442772654529,
          9.699533695615672,
          0
         ],
         "yaxis": "y"
        },
        {
         "hovertemplate": "County Name=suffolk county<br>variable=new_cases_log_norm<br>date=%{x}<br>value=%{y}<extra></extra>",
         "legendgroup": "suffolk county",
         "line": {
          "color": "#00cc96",
          "dash": "solid"
         },
         "marker": {
          "symbol": "circle"
         },
         "mode": "lines",
         "name": "suffolk county",
         "orientation": "v",
         "showlegend": true,
         "type": "scatter",
         "x": [
          "2020-01-22T00:00:00",
          "2020-01-29T00:00:00",
          "2020-02-05T00:00:00",
          "2020-02-12T00:00:00",
          "2020-02-19T00:00:00",
          "2020-02-26T00:00:00",
          "2020-03-04T00:00:00",
          "2020-03-11T00:00:00",
          "2020-03-18T00:00:00",
          "2020-03-25T00:00:00",
          "2020-04-01T00:00:00",
          "2020-04-08T00:00:00",
          "2020-04-15T00:00:00",
          "2020-04-22T00:00:00",
          "2020-04-29T00:00:00",
          "2020-05-06T00:00:00",
          "2020-05-13T00:00:00",
          "2020-05-20T00:00:00",
          "2020-05-27T00:00:00",
          "2020-06-03T00:00:00",
          "2020-06-10T00:00:00",
          "2020-06-17T00:00:00",
          "2020-06-24T00:00:00",
          "2020-07-01T00:00:00",
          "2020-07-08T00:00:00",
          "2020-07-15T00:00:00",
          "2020-07-22T00:00:00",
          "2020-07-29T00:00:00",
          "2020-08-05T00:00:00",
          "2020-08-12T00:00:00",
          "2020-08-19T00:00:00",
          "2020-08-26T00:00:00",
          "2020-09-02T00:00:00",
          "2020-09-09T00:00:00",
          "2020-09-16T00:00:00",
          "2020-09-23T00:00:00",
          "2020-09-30T00:00:00",
          "2020-10-07T00:00:00",
          "2020-10-14T00:00:00",
          "2020-10-21T00:00:00",
          "2020-10-28T00:00:00",
          "2020-11-04T00:00:00",
          "2020-11-11T00:00:00",
          "2020-11-18T00:00:00",
          "2020-11-25T00:00:00",
          "2020-12-02T00:00:00",
          "2020-12-09T00:00:00",
          "2020-12-16T00:00:00",
          "2020-12-23T00:00:00",
          "2020-12-30T00:00:00",
          "2021-01-06T00:00:00",
          "2021-01-13T00:00:00",
          "2021-01-20T00:00:00",
          "2021-01-27T00:00:00",
          "2021-02-03T00:00:00",
          "2021-02-10T00:00:00",
          "2021-02-17T00:00:00",
          "2021-02-24T00:00:00",
          "2021-03-03T00:00:00",
          "2021-03-10T00:00:00",
          "2021-03-17T00:00:00",
          "2021-03-24T00:00:00",
          "2021-03-31T00:00:00",
          "2021-04-07T00:00:00",
          "2021-04-14T00:00:00",
          "2021-04-21T00:00:00",
          "2021-04-28T00:00:00",
          "2021-05-05T00:00:00",
          "2021-05-12T00:00:00",
          "2021-05-19T00:00:00",
          "2021-05-26T00:00:00",
          "2021-06-02T00:00:00",
          "2021-06-09T00:00:00",
          "2021-06-16T00:00:00",
          "2021-06-23T00:00:00",
          "2021-06-30T00:00:00",
          "2021-07-07T00:00:00",
          "2021-07-14T00:00:00",
          "2021-07-21T00:00:00",
          "2021-07-28T00:00:00",
          "2021-08-04T00:00:00",
          "2021-08-11T00:00:00",
          "2021-08-18T00:00:00",
          "2021-08-25T00:00:00",
          "2021-09-01T00:00:00",
          "2021-09-08T00:00:00",
          "2021-09-15T00:00:00",
          "2021-09-22T00:00:00",
          "2021-09-29T00:00:00",
          "2021-10-06T00:00:00",
          "2021-10-13T00:00:00",
          "2021-10-20T00:00:00",
          "2021-10-27T00:00:00",
          "2021-11-03T00:00:00",
          "2021-11-10T00:00:00",
          "2021-11-17T00:00:00",
          "2021-11-24T00:00:00",
          "2021-12-01T00:00:00",
          "2021-12-08T00:00:00",
          "2021-12-15T00:00:00",
          "2021-12-22T00:00:00",
          "2021-12-29T00:00:00",
          "2022-01-05T00:00:00",
          "2022-01-12T00:00:00",
          "2022-01-19T00:00:00",
          "2022-01-26T00:00:00",
          "2022-02-02T00:00:00",
          "2022-02-09T00:00:00",
          "2022-02-16T00:00:00",
          "2022-02-23T00:00:00",
          "2022-03-02T00:00:00",
          "2022-03-09T00:00:00",
          "2022-03-16T00:00:00",
          "2022-03-23T00:00:00",
          "2022-03-30T00:00:00",
          "2022-04-06T00:00:00",
          "2022-04-13T00:00:00",
          "2022-04-20T00:00:00",
          "2022-04-27T00:00:00",
          "2022-05-04T00:00:00",
          "2022-05-11T00:00:00",
          "2022-05-18T00:00:00",
          "2022-05-25T00:00:00",
          "2022-06-01T00:00:00",
          "2022-06-08T00:00:00",
          "2022-06-15T00:00:00",
          "2022-06-22T00:00:00",
          "2022-06-29T00:00:00",
          "2022-07-06T00:00:00",
          "2022-07-13T00:00:00",
          "2022-07-20T00:00:00",
          "2022-07-27T00:00:00",
          "2022-08-03T00:00:00",
          "2022-08-10T00:00:00",
          "2022-08-17T00:00:00",
          "2022-08-24T00:00:00",
          "2022-08-31T00:00:00",
          "2022-09-07T00:00:00",
          "2022-09-14T00:00:00",
          "2022-09-21T00:00:00",
          "2022-09-28T00:00:00",
          "2022-10-05T00:00:00",
          "2022-10-12T00:00:00",
          "2022-10-19T00:00:00",
          "2022-10-26T00:00:00",
          "2022-11-02T00:00:00",
          "2022-11-09T00:00:00",
          "2022-11-16T00:00:00",
          "2022-11-23T00:00:00",
          "2022-11-30T00:00:00",
          "2022-12-07T00:00:00",
          "2022-12-14T00:00:00",
          "2022-12-21T00:00:00",
          "2022-12-28T00:00:00",
          "2023-01-04T00:00:00",
          "2023-01-11T00:00:00",
          "2023-01-18T00:00:00",
          "2023-01-25T00:00:00",
          "2023-02-01T00:00:00",
          "2023-02-08T00:00:00"
         ],
         "xaxis": "x",
         "y": [
          0,
          0,
          0,
          0,
          0,
          0,
          0,
          2.1972245784473308,
          5.966146739149333,
          8.915163617763485,
          10.223685216664952,
          10.842165803288108,
          10.962388340968182,
          10.66267993112599,
          10.467123818934642,
          9.946068000071726,
          9.519808397750555,
          9.182763604206976,
          8.740976538019385,
          8.554103545438261,
          8.420682291037597,
          7.731492029250072,
          7.6852436079804285,
          7.761319180952246,
          7.754481547474671,
          7.995306620294192,
          7.9878640960890825,
          7.991253929843583,
          8.089482474363821,
          8.00736706798666,
          7.821643126243991,
          7.769378609518209,
          7.624130585666174,
          8.070280893397026,
          8.00636756765358,
          7.936660155229,
          7.714231144853549,
          8.047829357461039,
          8.331104548055448,
          8.28853445941643,
          8.42178300661378,
          8.731659201538374,
          9.093357016491488,
          9.766120240743788,
          9.977202590358873,
          10.272565263192249,
          10.719139935088007,
          10.85701626401528,
          10.898478552954133,
          10.951630768456376,
          11.208178613891992,
          11.414772247561864,
          11.325402403776929,
          11.118815640900348,
          10.935283171500306,
          10.545367754152005,
          10.51292698402286,
          10.262419946516426,
          10.258010181907068,
          10.3279379605557,
          10.287286297671566,
          10.416700324794917,
          10.433468535342154,
          10.458923187220874,
          10.385697629055983,
          10.120049492485187,
          9.713053175632227,
          9.392161803729289,
          9.002947130754436,
          8.665785595467788,
          8.27435700675884,
          7.967973179666399,
          7.573531262751089,
          7.451241684993483,
          7.322510434003999,
          7.114769448374593,
          7.1592919048053405,
          7.513709247845161,
          8.121777419164044,
          8.69634305704623,
          9.213834261231435,
          9.571644584299275,
          9.772638274111705,
          10.013417611908773,
          10.047414721343204,
          10.11900207668625,
          10.098396224835966,
          10.095099156237588,
          10.062199243691376,
          9.962322338257492,
          9.942900554893443,
          9.836973748478323,
          9.657906656103622,
          9.477692177955479,
          9.536690120069524,
          9.799015530939972,
          10.140612901371151,
          10.175802147857167,
          10.63171225970901,
          10.820378104482451,
          11.230337064384328,
          11.73549285033279,
          12.313127225450552,
          12.615041607965049,
          12.111256343748074,
          11.33616441983704,
          10.706295987305817,
          10.05607987589973,
          9.572967566074944,
          9.077266017751983,
          8.687948111840413,
          8.457655478702163,
          8.369852603519846,
          8.3790798892889,
          8.634264863003853,
          8.984192311642929,
          9.238150072616422,
          9.853509182730413,
          9.901786105896871,
          10.072850508166113,
          10.53744189828352,
          10.523015103222578,
          10.597434413266887,
          10.463531820089903,
          10.175002132576113,
          9.983545644707169,
          9.918967123385007,
          9.916403777803168,
          9.938613354511984,
          10.31108372165358,
          10.15066008165009,
          10.340871136212888,
          10.23738504878523,
          10.097490614104332,
          10.020737112586813,
          9.889642145714582,
          9.817984128922731,
          9.712084887006586,
          9.686512437242916,
          9.917932716968117,
          9.985482200089216,
          9.699411063939758,
          9.9082263068838,
          9.710630693827397,
          9.685144958163582,
          9.638349444519893,
          9.669977958973371,
          9.686139673819117,
          9.663579254889823,
          9.783802709590711,
          9.814219084778493,
          10.325449175173084,
          10.55072167608193,
          9.631678829241293,
          10.533934521232409,
          10.273394565243924,
          9.695663555330366,
          9.555205857956127,
          9.172534657241323,
          0
         ],
         "yaxis": "y"
        }
       ],
       "layout": {
        "legend": {
         "title": {
          "text": "County Name"
         },
         "tracegroupgap": 0
        },
        "template": {
         "data": {
          "bar": [
           {
            "error_x": {
             "color": "#2a3f5f"
            },
            "error_y": {
             "color": "#2a3f5f"
            },
            "marker": {
             "line": {
              "color": "#E5ECF6",
              "width": 0.5
             },
             "pattern": {
              "fillmode": "overlay",
              "size": 10,
              "solidity": 0.2
             }
            },
            "type": "bar"
           }
          ],
          "barpolar": [
           {
            "marker": {
             "line": {
              "color": "#E5ECF6",
              "width": 0.5
             },
             "pattern": {
              "fillmode": "overlay",
              "size": 10,
              "solidity": 0.2
             }
            },
            "type": "barpolar"
           }
          ],
          "carpet": [
           {
            "aaxis": {
             "endlinecolor": "#2a3f5f",
             "gridcolor": "white",
             "linecolor": "white",
             "minorgridcolor": "white",
             "startlinecolor": "#2a3f5f"
            },
            "baxis": {
             "endlinecolor": "#2a3f5f",
             "gridcolor": "white",
             "linecolor": "white",
             "minorgridcolor": "white",
             "startlinecolor": "#2a3f5f"
            },
            "type": "carpet"
           }
          ],
          "choropleth": [
           {
            "colorbar": {
             "outlinewidth": 0,
             "ticks": ""
            },
            "type": "choropleth"
           }
          ],
          "contour": [
           {
            "colorbar": {
             "outlinewidth": 0,
             "ticks": ""
            },
            "colorscale": [
             [
              0,
              "#0d0887"
             ],
             [
              0.1111111111111111,
              "#46039f"
             ],
             [
              0.2222222222222222,
              "#7201a8"
             ],
             [
              0.3333333333333333,
              "#9c179e"
             ],
             [
              0.4444444444444444,
              "#bd3786"
             ],
             [
              0.5555555555555556,
              "#d8576b"
             ],
             [
              0.6666666666666666,
              "#ed7953"
             ],
             [
              0.7777777777777778,
              "#fb9f3a"
             ],
             [
              0.8888888888888888,
              "#fdca26"
             ],
             [
              1,
              "#f0f921"
             ]
            ],
            "type": "contour"
           }
          ],
          "contourcarpet": [
           {
            "colorbar": {
             "outlinewidth": 0,
             "ticks": ""
            },
            "type": "contourcarpet"
           }
          ],
          "heatmap": [
           {
            "colorbar": {
             "outlinewidth": 0,
             "ticks": ""
            },
            "colorscale": [
             [
              0,
              "#0d0887"
             ],
             [
              0.1111111111111111,
              "#46039f"
             ],
             [
              0.2222222222222222,
              "#7201a8"
             ],
             [
              0.3333333333333333,
              "#9c179e"
             ],
             [
              0.4444444444444444,
              "#bd3786"
             ],
             [
              0.5555555555555556,
              "#d8576b"
             ],
             [
              0.6666666666666666,
              "#ed7953"
             ],
             [
              0.7777777777777778,
              "#fb9f3a"
             ],
             [
              0.8888888888888888,
              "#fdca26"
             ],
             [
              1,
              "#f0f921"
             ]
            ],
            "type": "heatmap"
           }
          ],
          "heatmapgl": [
           {
            "colorbar": {
             "outlinewidth": 0,
             "ticks": ""
            },
            "colorscale": [
             [
              0,
              "#0d0887"
             ],
             [
              0.1111111111111111,
              "#46039f"
             ],
             [
              0.2222222222222222,
              "#7201a8"
             ],
             [
              0.3333333333333333,
              "#9c179e"
             ],
             [
              0.4444444444444444,
              "#bd3786"
             ],
             [
              0.5555555555555556,
              "#d8576b"
             ],
             [
              0.6666666666666666,
              "#ed7953"
             ],
             [
              0.7777777777777778,
              "#fb9f3a"
             ],
             [
              0.8888888888888888,
              "#fdca26"
             ],
             [
              1,
              "#f0f921"
             ]
            ],
            "type": "heatmapgl"
           }
          ],
          "histogram": [
           {
            "marker": {
             "pattern": {
              "fillmode": "overlay",
              "size": 10,
              "solidity": 0.2
             }
            },
            "type": "histogram"
           }
          ],
          "histogram2d": [
           {
            "colorbar": {
             "outlinewidth": 0,
             "ticks": ""
            },
            "colorscale": [
             [
              0,
              "#0d0887"
             ],
             [
              0.1111111111111111,
              "#46039f"
             ],
             [
              0.2222222222222222,
              "#7201a8"
             ],
             [
              0.3333333333333333,
              "#9c179e"
             ],
             [
              0.4444444444444444,
              "#bd3786"
             ],
             [
              0.5555555555555556,
              "#d8576b"
             ],
             [
              0.6666666666666666,
              "#ed7953"
             ],
             [
              0.7777777777777778,
              "#fb9f3a"
             ],
             [
              0.8888888888888888,
              "#fdca26"
             ],
             [
              1,
              "#f0f921"
             ]
            ],
            "type": "histogram2d"
           }
          ],
          "histogram2dcontour": [
           {
            "colorbar": {
             "outlinewidth": 0,
             "ticks": ""
            },
            "colorscale": [
             [
              0,
              "#0d0887"
             ],
             [
              0.1111111111111111,
              "#46039f"
             ],
             [
              0.2222222222222222,
              "#7201a8"
             ],
             [
              0.3333333333333333,
              "#9c179e"
             ],
             [
              0.4444444444444444,
              "#bd3786"
             ],
             [
              0.5555555555555556,
              "#d8576b"
             ],
             [
              0.6666666666666666,
              "#ed7953"
             ],
             [
              0.7777777777777778,
              "#fb9f3a"
             ],
             [
              0.8888888888888888,
              "#fdca26"
             ],
             [
              1,
              "#f0f921"
             ]
            ],
            "type": "histogram2dcontour"
           }
          ],
          "mesh3d": [
           {
            "colorbar": {
             "outlinewidth": 0,
             "ticks": ""
            },
            "type": "mesh3d"
           }
          ],
          "parcoords": [
           {
            "line": {
             "colorbar": {
              "outlinewidth": 0,
              "ticks": ""
             }
            },
            "type": "parcoords"
           }
          ],
          "pie": [
           {
            "automargin": true,
            "type": "pie"
           }
          ],
          "scatter": [
           {
            "fillpattern": {
             "fillmode": "overlay",
             "size": 10,
             "solidity": 0.2
            },
            "type": "scatter"
           }
          ],
          "scatter3d": [
           {
            "line": {
             "colorbar": {
              "outlinewidth": 0,
              "ticks": ""
             }
            },
            "marker": {
             "colorbar": {
              "outlinewidth": 0,
              "ticks": ""
             }
            },
            "type": "scatter3d"
           }
          ],
          "scattercarpet": [
           {
            "marker": {
             "colorbar": {
              "outlinewidth": 0,
              "ticks": ""
             }
            },
            "type": "scattercarpet"
           }
          ],
          "scattergeo": [
           {
            "marker": {
             "colorbar": {
              "outlinewidth": 0,
              "ticks": ""
             }
            },
            "type": "scattergeo"
           }
          ],
          "scattergl": [
           {
            "marker": {
             "colorbar": {
              "outlinewidth": 0,
              "ticks": ""
             }
            },
            "type": "scattergl"
           }
          ],
          "scattermapbox": [
           {
            "marker": {
             "colorbar": {
              "outlinewidth": 0,
              "ticks": ""
             }
            },
            "type": "scattermapbox"
           }
          ],
          "scatterpolar": [
           {
            "marker": {
             "colorbar": {
              "outlinewidth": 0,
              "ticks": ""
             }
            },
            "type": "scatterpolar"
           }
          ],
          "scatterpolargl": [
           {
            "marker": {
             "colorbar": {
              "outlinewidth": 0,
              "ticks": ""
             }
            },
            "type": "scatterpolargl"
           }
          ],
          "scatterternary": [
           {
            "marker": {
             "colorbar": {
              "outlinewidth": 0,
              "ticks": ""
             }
            },
            "type": "scatterternary"
           }
          ],
          "surface": [
           {
            "colorbar": {
             "outlinewidth": 0,
             "ticks": ""
            },
            "colorscale": [
             [
              0,
              "#0d0887"
             ],
             [
              0.1111111111111111,
              "#46039f"
             ],
             [
              0.2222222222222222,
              "#7201a8"
             ],
             [
              0.3333333333333333,
              "#9c179e"
             ],
             [
              0.4444444444444444,
              "#bd3786"
             ],
             [
              0.5555555555555556,
              "#d8576b"
             ],
             [
              0.6666666666666666,
              "#ed7953"
             ],
             [
              0.7777777777777778,
              "#fb9f3a"
             ],
             [
              0.8888888888888888,
              "#fdca26"
             ],
             [
              1,
              "#f0f921"
             ]
            ],
            "type": "surface"
           }
          ],
          "table": [
           {
            "cells": {
             "fill": {
              "color": "#EBF0F8"
             },
             "line": {
              "color": "white"
             }
            },
            "header": {
             "fill": {
              "color": "#C8D4E3"
             },
             "line": {
              "color": "white"
             }
            },
            "type": "table"
           }
          ]
         },
         "layout": {
          "annotationdefaults": {
           "arrowcolor": "#2a3f5f",
           "arrowhead": 0,
           "arrowwidth": 1
          },
          "autotypenumbers": "strict",
          "coloraxis": {
           "colorbar": {
            "outlinewidth": 0,
            "ticks": ""
           }
          },
          "colorscale": {
           "diverging": [
            [
             0,
             "#8e0152"
            ],
            [
             0.1,
             "#c51b7d"
            ],
            [
             0.2,
             "#de77ae"
            ],
            [
             0.3,
             "#f1b6da"
            ],
            [
             0.4,
             "#fde0ef"
            ],
            [
             0.5,
             "#f7f7f7"
            ],
            [
             0.6,
             "#e6f5d0"
            ],
            [
             0.7,
             "#b8e186"
            ],
            [
             0.8,
             "#7fbc41"
            ],
            [
             0.9,
             "#4d9221"
            ],
            [
             1,
             "#276419"
            ]
           ],
           "sequential": [
            [
             0,
             "#0d0887"
            ],
            [
             0.1111111111111111,
             "#46039f"
            ],
            [
             0.2222222222222222,
             "#7201a8"
            ],
            [
             0.3333333333333333,
             "#9c179e"
            ],
            [
             0.4444444444444444,
             "#bd3786"
            ],
            [
             0.5555555555555556,
             "#d8576b"
            ],
            [
             0.6666666666666666,
             "#ed7953"
            ],
            [
             0.7777777777777778,
             "#fb9f3a"
            ],
            [
             0.8888888888888888,
             "#fdca26"
            ],
            [
             1,
             "#f0f921"
            ]
           ],
           "sequentialminus": [
            [
             0,
             "#0d0887"
            ],
            [
             0.1111111111111111,
             "#46039f"
            ],
            [
             0.2222222222222222,
             "#7201a8"
            ],
            [
             0.3333333333333333,
             "#9c179e"
            ],
            [
             0.4444444444444444,
             "#bd3786"
            ],
            [
             0.5555555555555556,
             "#d8576b"
            ],
            [
             0.6666666666666666,
             "#ed7953"
            ],
            [
             0.7777777777777778,
             "#fb9f3a"
            ],
            [
             0.8888888888888888,
             "#fdca26"
            ],
            [
             1,
             "#f0f921"
            ]
           ]
          },
          "colorway": [
           "#636efa",
           "#EF553B",
           "#00cc96",
           "#ab63fa",
           "#FFA15A",
           "#19d3f3",
           "#FF6692",
           "#B6E880",
           "#FF97FF",
           "#FECB52"
          ],
          "font": {
           "color": "#2a3f5f"
          },
          "geo": {
           "bgcolor": "white",
           "lakecolor": "white",
           "landcolor": "#E5ECF6",
           "showlakes": true,
           "showland": true,
           "subunitcolor": "white"
          },
          "hoverlabel": {
           "align": "left"
          },
          "hovermode": "closest",
          "mapbox": {
           "style": "light"
          },
          "paper_bgcolor": "white",
          "plot_bgcolor": "#E5ECF6",
          "polar": {
           "angularaxis": {
            "gridcolor": "white",
            "linecolor": "white",
            "ticks": ""
           },
           "bgcolor": "#E5ECF6",
           "radialaxis": {
            "gridcolor": "white",
            "linecolor": "white",
            "ticks": ""
           }
          },
          "scene": {
           "xaxis": {
            "backgroundcolor": "#E5ECF6",
            "gridcolor": "white",
            "gridwidth": 2,
            "linecolor": "white",
            "showbackground": true,
            "ticks": "",
            "zerolinecolor": "white"
           },
           "yaxis": {
            "backgroundcolor": "#E5ECF6",
            "gridcolor": "white",
            "gridwidth": 2,
            "linecolor": "white",
            "showbackground": true,
            "ticks": "",
            "zerolinecolor": "white"
           },
           "zaxis": {
            "backgroundcolor": "#E5ECF6",
            "gridcolor": "white",
            "gridwidth": 2,
            "linecolor": "white",
            "showbackground": true,
            "ticks": "",
            "zerolinecolor": "white"
           }
          },
          "shapedefaults": {
           "line": {
            "color": "#2a3f5f"
           }
          },
          "ternary": {
           "aaxis": {
            "gridcolor": "white",
            "linecolor": "white",
            "ticks": ""
           },
           "baxis": {
            "gridcolor": "white",
            "linecolor": "white",
            "ticks": ""
           },
           "bgcolor": "#E5ECF6",
           "caxis": {
            "gridcolor": "white",
            "linecolor": "white",
            "ticks": ""
           }
          },
          "title": {
           "x": 0.05
          },
          "xaxis": {
           "automargin": true,
           "gridcolor": "white",
           "linecolor": "white",
           "ticks": "",
           "title": {
            "standoff": 15
           },
           "zerolinecolor": "white",
           "zerolinewidth": 2
          },
          "yaxis": {
           "automargin": true,
           "gridcolor": "white",
           "linecolor": "white",
           "ticks": "",
           "title": {
            "standoff": 15
           },
           "zerolinecolor": "white",
           "zerolinewidth": 2
          }
         }
        },
        "title": {
         "text": "Top 3 counties with cases(log normalized values)"
        },
        "xaxis": {
         "anchor": "y",
         "domain": [
          0,
          1
         ],
         "title": {
          "text": "date"
         }
        },
        "yaxis": {
         "anchor": "x",
         "domain": [
          0,
          1
         ],
         "title": {
          "text": "value"
         }
        }
       }
      },
      "text/html": [
       "<div>                            <div id=\"c1410cdb-16f7-40db-8f9c-cfbd37c7a23c\" class=\"plotly-graph-div\" style=\"height:525px; width:100%;\"></div>            <script type=\"text/javascript\">                require([\"plotly\"], function(Plotly) {                    window.PLOTLYENV=window.PLOTLYENV || {};                                    if (document.getElementById(\"c1410cdb-16f7-40db-8f9c-cfbd37c7a23c\")) {                    Plotly.newPlot(                        \"c1410cdb-16f7-40db-8f9c-cfbd37c7a23c\",                        [{\"hovertemplate\":\"County Name=kings county<br>variable=new_cases_log_norm<br>date=%{x}<br>value=%{y}<extra></extra>\",\"legendgroup\":\"kings county\",\"line\":{\"color\":\"#636efa\",\"dash\":\"solid\"},\"marker\":{\"symbol\":\"circle\"},\"mode\":\"lines\",\"name\":\"kings county\",\"orientation\":\"v\",\"showlegend\":true,\"x\":[\"2020-01-22T00:00:00\",\"2020-01-29T00:00:00\",\"2020-02-05T00:00:00\",\"2020-02-12T00:00:00\",\"2020-02-19T00:00:00\",\"2020-02-26T00:00:00\",\"2020-03-04T00:00:00\",\"2020-03-11T00:00:00\",\"2020-03-18T00:00:00\",\"2020-03-25T00:00:00\",\"2020-04-01T00:00:00\",\"2020-04-08T00:00:00\",\"2020-04-15T00:00:00\",\"2020-04-22T00:00:00\",\"2020-04-29T00:00:00\",\"2020-05-06T00:00:00\",\"2020-05-13T00:00:00\",\"2020-05-20T00:00:00\",\"2020-05-27T00:00:00\",\"2020-06-03T00:00:00\",\"2020-06-10T00:00:00\",\"2020-06-17T00:00:00\",\"2020-06-24T00:00:00\",\"2020-07-01T00:00:00\",\"2020-07-08T00:00:00\",\"2020-07-15T00:00:00\",\"2020-07-22T00:00:00\",\"2020-07-29T00:00:00\",\"2020-08-05T00:00:00\",\"2020-08-12T00:00:00\",\"2020-08-19T00:00:00\",\"2020-08-26T00:00:00\",\"2020-09-02T00:00:00\",\"2020-09-09T00:00:00\",\"2020-09-16T00:00:00\",\"2020-09-23T00:00:00\",\"2020-09-30T00:00:00\",\"2020-10-07T00:00:00\",\"2020-10-14T00:00:00\",\"2020-10-21T00:00:00\",\"2020-10-28T00:00:00\",\"2020-11-04T00:00:00\",\"2020-11-11T00:00:00\",\"2020-11-18T00:00:00\",\"2020-11-25T00:00:00\",\"2020-12-02T00:00:00\",\"2020-12-09T00:00:00\",\"2020-12-16T00:00:00\",\"2020-12-23T00:00:00\",\"2020-12-30T00:00:00\",\"2021-01-06T00:00:00\",\"2021-01-13T00:00:00\",\"2021-01-20T00:00:00\",\"2021-01-27T00:00:00\",\"2021-02-03T00:00:00\",\"2021-02-10T00:00:00\",\"2021-02-17T00:00:00\",\"2021-02-24T00:00:00\",\"2021-03-03T00:00:00\",\"2021-03-10T00:00:00\",\"2021-03-17T00:00:00\",\"2021-03-24T00:00:00\",\"2021-03-31T00:00:00\",\"2021-04-07T00:00:00\",\"2021-04-14T00:00:00\",\"2021-04-21T00:00:00\",\"2021-04-28T00:00:00\",\"2021-05-05T00:00:00\",\"2021-05-12T00:00:00\",\"2021-05-19T00:00:00\",\"2021-05-26T00:00:00\",\"2021-06-02T00:00:00\",\"2021-06-09T00:00:00\",\"2021-06-16T00:00:00\",\"2021-06-23T00:00:00\",\"2021-06-30T00:00:00\",\"2021-07-07T00:00:00\",\"2021-07-14T00:00:00\",\"2021-07-21T00:00:00\",\"2021-07-28T00:00:00\",\"2021-08-04T00:00:00\",\"2021-08-11T00:00:00\",\"2021-08-18T00:00:00\",\"2021-08-25T00:00:00\",\"2021-09-01T00:00:00\",\"2021-09-08T00:00:00\",\"2021-09-15T00:00:00\",\"2021-09-22T00:00:00\",\"2021-09-29T00:00:00\",\"2021-10-06T00:00:00\",\"2021-10-13T00:00:00\",\"2021-10-20T00:00:00\",\"2021-10-27T00:00:00\",\"2021-11-03T00:00:00\",\"2021-11-10T00:00:00\",\"2021-11-17T00:00:00\",\"2021-11-24T00:00:00\",\"2021-12-01T00:00:00\",\"2021-12-08T00:00:00\",\"2021-12-15T00:00:00\",\"2021-12-22T00:00:00\",\"2021-12-29T00:00:00\",\"2022-01-05T00:00:00\",\"2022-01-12T00:00:00\",\"2022-01-19T00:00:00\",\"2022-01-26T00:00:00\",\"2022-02-02T00:00:00\",\"2022-02-09T00:00:00\",\"2022-02-16T00:00:00\",\"2022-02-23T00:00:00\",\"2022-03-02T00:00:00\",\"2022-03-09T00:00:00\",\"2022-03-16T00:00:00\",\"2022-03-23T00:00:00\",\"2022-03-30T00:00:00\",\"2022-04-06T00:00:00\",\"2022-04-13T00:00:00\",\"2022-04-20T00:00:00\",\"2022-04-27T00:00:00\",\"2022-05-04T00:00:00\",\"2022-05-11T00:00:00\",\"2022-05-18T00:00:00\",\"2022-05-25T00:00:00\",\"2022-06-01T00:00:00\",\"2022-06-08T00:00:00\",\"2022-06-15T00:00:00\",\"2022-06-22T00:00:00\",\"2022-06-29T00:00:00\",\"2022-07-06T00:00:00\",\"2022-07-13T00:00:00\",\"2022-07-20T00:00:00\",\"2022-07-27T00:00:00\",\"2022-08-03T00:00:00\",\"2022-08-10T00:00:00\",\"2022-08-17T00:00:00\",\"2022-08-24T00:00:00\",\"2022-08-31T00:00:00\",\"2022-09-07T00:00:00\",\"2022-09-14T00:00:00\",\"2022-09-21T00:00:00\",\"2022-09-28T00:00:00\",\"2022-10-05T00:00:00\",\"2022-10-12T00:00:00\",\"2022-10-19T00:00:00\",\"2022-10-26T00:00:00\",\"2022-11-02T00:00:00\",\"2022-11-09T00:00:00\",\"2022-11-16T00:00:00\",\"2022-11-23T00:00:00\",\"2022-11-30T00:00:00\",\"2022-12-07T00:00:00\",\"2022-12-14T00:00:00\",\"2022-12-21T00:00:00\",\"2022-12-28T00:00:00\",\"2023-01-04T00:00:00\",\"2023-01-11T00:00:00\",\"2023-01-18T00:00:00\",\"2023-01-25T00:00:00\",\"2023-02-01T00:00:00\",\"2023-02-08T00:00:00\"],\"xaxis\":\"x\",\"y\":[0.0,0.0,0.0,0.0,0.0,0.0,0.0,3.5835189387338877,6.71295620068922,9.911356510915319,10.656058634336224,11.070521438434163,11.063304686815306,11.037692184907522,10.628859880391053,10.349934642366232,9.982991653649188,9.74823626726542,9.530973544568376,9.40261225962413,9.064736398118548,8.79300509129905,8.652597828424186,8.41935983106968,8.389359819908625,8.374476889216949,8.457655478702163,8.291295851907913,8.306472160103054,8.336630087639541,8.464635940679669,8.228977643360981,8.283746747108657,8.452761331258982,8.33615081612306,8.72842609170623,9.034676602847487,9.318746245820867,9.386979145635477,9.25167423547012,9.236982302923577,9.385637313834012,9.633383412359072,9.915267891072153,10.043944905231818,10.232575449046887,10.60353586540962,10.750985392926212,10.849802997516173,10.95591627689993,11.050350177153108,11.247865570554858,11.35693809946813,11.304571999128777,11.262346480470079,10.998660600456892,11.058606190644703,10.911609693028074,10.958217613387562,11.000899120627885,10.902850245413545,11.021673684161504,10.997991413159863,10.921901565875306,10.844275756010866,10.751777777509748,10.434380474452524,10.100287128511146,9.705524299752826,9.313708904954117,8.982937763742845,8.55101473989368,8.14786712992684,8.025189321894105,7.778630147329995,7.815610532039225,8.018625465049041,8.561210076834925,9.05800471067365,9.524932109735552,9.940735166563277,10.159678957896926,10.290041635752871,10.33799352942903,10.24714817639753,10.186559012430603,10.161534819858604,10.257869870415327,10.146747407435555,10.079287892340236,10.167542694357136,9.998706819117517,9.82021463334285,9.660523873773249,9.68582893145311,9.766693701018708,10.00065963428884,9.98984871818463,10.280518891982089,10.741340954095548,11.741343083907209,12.567115536085627,13.126604371661603,13.31575674816535,12.887076392143452,12.173502965140777,11.401066099683796,10.632219034820306,10.198207302339933,9.720645860495885,9.366831168736471,9.261603665914674,9.339261152043902,9.539572174085478,9.802119058148392,9.933337574505499,10.101518403035673,10.421745488119713,10.383936439643712,10.383658073342794,10.960600534026382,10.861035384258676,10.915397507365126,10.856611534455824,10.738589920723658,10.629440684821493,10.54376124348927,10.561318387968765,10.576304466623078,10.897017064751271,10.831410368640189,10.946763296164947,10.73863330278952,10.655351654055092,10.455445522658549,10.338349637495403,10.170647989267495,10.053242872621395,9.968947524008382,10.08104779222879,10.13840155944965,9.865733762924732,10.050354628346112,10.053027619806134,10.04698165217529,10.141598530972518,10.225389875873963,10.326039184368119,10.253087527803249,10.32200049949388,10.111436244468202,10.575002432969216,10.747358117880419,9.788637710857747,10.644591216517167,10.479791880329493,10.112653875919884,10.25361611560518,9.904986428660363,0.0],\"yaxis\":\"y\",\"type\":\"scatter\"},{\"hovertemplate\":\"County Name=queens county<br>variable=new_cases_log_norm<br>date=%{x}<br>value=%{y}<extra></extra>\",\"legendgroup\":\"queens county\",\"line\":{\"color\":\"#EF553B\",\"dash\":\"solid\"},\"marker\":{\"symbol\":\"circle\"},\"mode\":\"lines\",\"name\":\"queens county\",\"orientation\":\"v\",\"showlegend\":true,\"x\":[\"2020-01-22T00:00:00\",\"2020-01-29T00:00:00\",\"2020-02-05T00:00:00\",\"2020-02-12T00:00:00\",\"2020-02-19T00:00:00\",\"2020-02-26T00:00:00\",\"2020-03-04T00:00:00\",\"2020-03-11T00:00:00\",\"2020-03-18T00:00:00\",\"2020-03-25T00:00:00\",\"2020-04-01T00:00:00\",\"2020-04-08T00:00:00\",\"2020-04-15T00:00:00\",\"2020-04-22T00:00:00\",\"2020-04-29T00:00:00\",\"2020-05-06T00:00:00\",\"2020-05-13T00:00:00\",\"2020-05-20T00:00:00\",\"2020-05-27T00:00:00\",\"2020-06-03T00:00:00\",\"2020-06-10T00:00:00\",\"2020-06-17T00:00:00\",\"2020-06-24T00:00:00\",\"2020-07-01T00:00:00\",\"2020-07-08T00:00:00\",\"2020-07-15T00:00:00\",\"2020-07-22T00:00:00\",\"2020-07-29T00:00:00\",\"2020-08-05T00:00:00\",\"2020-08-12T00:00:00\",\"2020-08-19T00:00:00\",\"2020-08-26T00:00:00\",\"2020-09-02T00:00:00\",\"2020-09-09T00:00:00\",\"2020-09-16T00:00:00\",\"2020-09-23T00:00:00\",\"2020-09-30T00:00:00\",\"2020-10-07T00:00:00\",\"2020-10-14T00:00:00\",\"2020-10-21T00:00:00\",\"2020-10-28T00:00:00\",\"2020-11-04T00:00:00\",\"2020-11-11T00:00:00\",\"2020-11-18T00:00:00\",\"2020-11-25T00:00:00\",\"2020-12-02T00:00:00\",\"2020-12-09T00:00:00\",\"2020-12-16T00:00:00\",\"2020-12-23T00:00:00\",\"2020-12-30T00:00:00\",\"2021-01-06T00:00:00\",\"2021-01-13T00:00:00\",\"2021-01-20T00:00:00\",\"2021-01-27T00:00:00\",\"2021-02-03T00:00:00\",\"2021-02-10T00:00:00\",\"2021-02-17T00:00:00\",\"2021-02-24T00:00:00\",\"2021-03-03T00:00:00\",\"2021-03-10T00:00:00\",\"2021-03-17T00:00:00\",\"2021-03-24T00:00:00\",\"2021-03-31T00:00:00\",\"2021-04-07T00:00:00\",\"2021-04-14T00:00:00\",\"2021-04-21T00:00:00\",\"2021-04-28T00:00:00\",\"2021-05-05T00:00:00\",\"2021-05-12T00:00:00\",\"2021-05-19T00:00:00\",\"2021-05-26T00:00:00\",\"2021-06-02T00:00:00\",\"2021-06-09T00:00:00\",\"2021-06-16T00:00:00\",\"2021-06-23T00:00:00\",\"2021-06-30T00:00:00\",\"2021-07-07T00:00:00\",\"2021-07-14T00:00:00\",\"2021-07-21T00:00:00\",\"2021-07-28T00:00:00\",\"2021-08-04T00:00:00\",\"2021-08-11T00:00:00\",\"2021-08-18T00:00:00\",\"2021-08-25T00:00:00\",\"2021-09-01T00:00:00\",\"2021-09-08T00:00:00\",\"2021-09-15T00:00:00\",\"2021-09-22T00:00:00\",\"2021-09-29T00:00:00\",\"2021-10-06T00:00:00\",\"2021-10-13T00:00:00\",\"2021-10-20T00:00:00\",\"2021-10-27T00:00:00\",\"2021-11-03T00:00:00\",\"2021-11-10T00:00:00\",\"2021-11-17T00:00:00\",\"2021-11-24T00:00:00\",\"2021-12-01T00:00:00\",\"2021-12-08T00:00:00\",\"2021-12-15T00:00:00\",\"2021-12-22T00:00:00\",\"2021-12-29T00:00:00\",\"2022-01-05T00:00:00\",\"2022-01-12T00:00:00\",\"2022-01-19T00:00:00\",\"2022-01-26T00:00:00\",\"2022-02-02T00:00:00\",\"2022-02-09T00:00:00\",\"2022-02-16T00:00:00\",\"2022-02-23T00:00:00\",\"2022-03-02T00:00:00\",\"2022-03-09T00:00:00\",\"2022-03-16T00:00:00\",\"2022-03-23T00:00:00\",\"2022-03-30T00:00:00\",\"2022-04-06T00:00:00\",\"2022-04-13T00:00:00\",\"2022-04-20T00:00:00\",\"2022-04-27T00:00:00\",\"2022-05-04T00:00:00\",\"2022-05-11T00:00:00\",\"2022-05-18T00:00:00\",\"2022-05-25T00:00:00\",\"2022-06-01T00:00:00\",\"2022-06-08T00:00:00\",\"2022-06-15T00:00:00\",\"2022-06-22T00:00:00\",\"2022-06-29T00:00:00\",\"2022-07-06T00:00:00\",\"2022-07-13T00:00:00\",\"2022-07-20T00:00:00\",\"2022-07-27T00:00:00\",\"2022-08-03T00:00:00\",\"2022-08-10T00:00:00\",\"2022-08-17T00:00:00\",\"2022-08-24T00:00:00\",\"2022-08-31T00:00:00\",\"2022-09-07T00:00:00\",\"2022-09-14T00:00:00\",\"2022-09-21T00:00:00\",\"2022-09-28T00:00:00\",\"2022-10-05T00:00:00\",\"2022-10-12T00:00:00\",\"2022-10-19T00:00:00\",\"2022-10-26T00:00:00\",\"2022-11-02T00:00:00\",\"2022-11-09T00:00:00\",\"2022-11-16T00:00:00\",\"2022-11-23T00:00:00\",\"2022-11-30T00:00:00\",\"2022-12-07T00:00:00\",\"2022-12-14T00:00:00\",\"2022-12-21T00:00:00\",\"2022-12-28T00:00:00\",\"2023-01-04T00:00:00\",\"2023-01-11T00:00:00\",\"2023-01-18T00:00:00\",\"2023-01-25T00:00:00\",\"2023-02-01T00:00:00\",\"2023-02-08T00:00:00\"],\"xaxis\":\"x\",\"y\":[0.0,0.0,0.0,0.0,0.0,0.0,0.0,2.4849066506213338,6.968850378351355,9.940156936893622,10.93603126123471,11.204046994374915,11.23282789069167,11.002699661276372,10.838521527227615,10.492273717771608,10.046114950786318,9.685891087651656,9.312445594914239,9.151227107484738,8.85452220375886,8.706159290930517,8.601718146487762,8.423541635336978,8.349247800569156,8.262558973013236,8.349720837474853,8.334951631424854,8.159088654670771,8.163940954757855,8.282230063299215,8.180040723492962,8.126222529461483,8.083328608789461,8.143517405800386,8.239329427904435,8.33615081612306,8.718500048122909,8.871505346167185,8.805525052711014,8.949365142354264,9.202812105556399,9.44406771683083,9.942515939504087,10.068196582013591,10.245409199825863,10.592199913806212,10.801797596374538,10.869919915888802,10.938023435497282,11.103858879320546,11.302364914604103,11.368523775596623,11.384114342890847,11.251391855413534,10.932428167955097,11.006622929931988,10.872731200863145,10.841304914954758,10.906414591070012,10.840991680809676,11.00554390360696,10.983969814331937,10.933660387981895,10.799269407778947,10.61208968765118,10.264303908975759,9.867860374893494,9.517015920921233,9.212936997824446,8.81224801819892,8.46062283992996,8.060540046541798,7.85631957141046,7.772752716472952,7.747596838697204,7.883823214895921,8.38411883719318,8.706821323394285,9.125218118560436,9.586170674955342,9.8944972606985,10.079204010278366,10.078574670435069,9.91061211247892,9.859640152756374,9.879911816007935,9.877194910581718,9.808407346286408,9.616605160255578,9.590214130418122,9.378309422546582,9.190749722212198,9.01857435635544,9.12630637636726,9.34591966621888,9.726989009045559,9.826228466989717,10.212625297017565,10.615431953179224,11.376395294789251,12.292906090024134,13.01226498906563,13.354398481442141,12.962607685470317,12.1143903768907,11.200841404359508,10.342613072137228,10.278149751489591,9.379745536837754,9.09065552903133,8.877102897866294,8.726318950963865,8.914088348842679,9.214531576595647,9.52427481557276,9.691345759330313,10.142622556268778,10.287150034683789,10.367347347021688,10.95530518468456,10.844158653135857,10.905790829400123,10.795997755745084,10.705399447887686,10.693965597214977,10.58918203057114,10.583853398731593,10.60109975005548,10.981335751851681,10.915506558619324,11.020365340011246,10.817716159692035,10.748647414747673,10.544288252724128,10.412802035103468,10.257308427492305,10.120210536047818,10.001883874392774,10.123586473664513,10.170150257764217,9.895001648886334,10.15202590887067,10.092743345183395,10.112937776718741,10.189681017561826,10.255270550394785,10.32453069060794,10.250405047019234,10.36725301481503,10.198616825623331,10.63385826089428,10.757477258213116,9.877400217773323,10.703851025734343,10.540249549648468,10.146943405162608,10.16442772654529,9.699533695615672,0.0],\"yaxis\":\"y\",\"type\":\"scatter\"},{\"hovertemplate\":\"County Name=suffolk county<br>variable=new_cases_log_norm<br>date=%{x}<br>value=%{y}<extra></extra>\",\"legendgroup\":\"suffolk county\",\"line\":{\"color\":\"#00cc96\",\"dash\":\"solid\"},\"marker\":{\"symbol\":\"circle\"},\"mode\":\"lines\",\"name\":\"suffolk county\",\"orientation\":\"v\",\"showlegend\":true,\"x\":[\"2020-01-22T00:00:00\",\"2020-01-29T00:00:00\",\"2020-02-05T00:00:00\",\"2020-02-12T00:00:00\",\"2020-02-19T00:00:00\",\"2020-02-26T00:00:00\",\"2020-03-04T00:00:00\",\"2020-03-11T00:00:00\",\"2020-03-18T00:00:00\",\"2020-03-25T00:00:00\",\"2020-04-01T00:00:00\",\"2020-04-08T00:00:00\",\"2020-04-15T00:00:00\",\"2020-04-22T00:00:00\",\"2020-04-29T00:00:00\",\"2020-05-06T00:00:00\",\"2020-05-13T00:00:00\",\"2020-05-20T00:00:00\",\"2020-05-27T00:00:00\",\"2020-06-03T00:00:00\",\"2020-06-10T00:00:00\",\"2020-06-17T00:00:00\",\"2020-06-24T00:00:00\",\"2020-07-01T00:00:00\",\"2020-07-08T00:00:00\",\"2020-07-15T00:00:00\",\"2020-07-22T00:00:00\",\"2020-07-29T00:00:00\",\"2020-08-05T00:00:00\",\"2020-08-12T00:00:00\",\"2020-08-19T00:00:00\",\"2020-08-26T00:00:00\",\"2020-09-02T00:00:00\",\"2020-09-09T00:00:00\",\"2020-09-16T00:00:00\",\"2020-09-23T00:00:00\",\"2020-09-30T00:00:00\",\"2020-10-07T00:00:00\",\"2020-10-14T00:00:00\",\"2020-10-21T00:00:00\",\"2020-10-28T00:00:00\",\"2020-11-04T00:00:00\",\"2020-11-11T00:00:00\",\"2020-11-18T00:00:00\",\"2020-11-25T00:00:00\",\"2020-12-02T00:00:00\",\"2020-12-09T00:00:00\",\"2020-12-16T00:00:00\",\"2020-12-23T00:00:00\",\"2020-12-30T00:00:00\",\"2021-01-06T00:00:00\",\"2021-01-13T00:00:00\",\"2021-01-20T00:00:00\",\"2021-01-27T00:00:00\",\"2021-02-03T00:00:00\",\"2021-02-10T00:00:00\",\"2021-02-17T00:00:00\",\"2021-02-24T00:00:00\",\"2021-03-03T00:00:00\",\"2021-03-10T00:00:00\",\"2021-03-17T00:00:00\",\"2021-03-24T00:00:00\",\"2021-03-31T00:00:00\",\"2021-04-07T00:00:00\",\"2021-04-14T00:00:00\",\"2021-04-21T00:00:00\",\"2021-04-28T00:00:00\",\"2021-05-05T00:00:00\",\"2021-05-12T00:00:00\",\"2021-05-19T00:00:00\",\"2021-05-26T00:00:00\",\"2021-06-02T00:00:00\",\"2021-06-09T00:00:00\",\"2021-06-16T00:00:00\",\"2021-06-23T00:00:00\",\"2021-06-30T00:00:00\",\"2021-07-07T00:00:00\",\"2021-07-14T00:00:00\",\"2021-07-21T00:00:00\",\"2021-07-28T00:00:00\",\"2021-08-04T00:00:00\",\"2021-08-11T00:00:00\",\"2021-08-18T00:00:00\",\"2021-08-25T00:00:00\",\"2021-09-01T00:00:00\",\"2021-09-08T00:00:00\",\"2021-09-15T00:00:00\",\"2021-09-22T00:00:00\",\"2021-09-29T00:00:00\",\"2021-10-06T00:00:00\",\"2021-10-13T00:00:00\",\"2021-10-20T00:00:00\",\"2021-10-27T00:00:00\",\"2021-11-03T00:00:00\",\"2021-11-10T00:00:00\",\"2021-11-17T00:00:00\",\"2021-11-24T00:00:00\",\"2021-12-01T00:00:00\",\"2021-12-08T00:00:00\",\"2021-12-15T00:00:00\",\"2021-12-22T00:00:00\",\"2021-12-29T00:00:00\",\"2022-01-05T00:00:00\",\"2022-01-12T00:00:00\",\"2022-01-19T00:00:00\",\"2022-01-26T00:00:00\",\"2022-02-02T00:00:00\",\"2022-02-09T00:00:00\",\"2022-02-16T00:00:00\",\"2022-02-23T00:00:00\",\"2022-03-02T00:00:00\",\"2022-03-09T00:00:00\",\"2022-03-16T00:00:00\",\"2022-03-23T00:00:00\",\"2022-03-30T00:00:00\",\"2022-04-06T00:00:00\",\"2022-04-13T00:00:00\",\"2022-04-20T00:00:00\",\"2022-04-27T00:00:00\",\"2022-05-04T00:00:00\",\"2022-05-11T00:00:00\",\"2022-05-18T00:00:00\",\"2022-05-25T00:00:00\",\"2022-06-01T00:00:00\",\"2022-06-08T00:00:00\",\"2022-06-15T00:00:00\",\"2022-06-22T00:00:00\",\"2022-06-29T00:00:00\",\"2022-07-06T00:00:00\",\"2022-07-13T00:00:00\",\"2022-07-20T00:00:00\",\"2022-07-27T00:00:00\",\"2022-08-03T00:00:00\",\"2022-08-10T00:00:00\",\"2022-08-17T00:00:00\",\"2022-08-24T00:00:00\",\"2022-08-31T00:00:00\",\"2022-09-07T00:00:00\",\"2022-09-14T00:00:00\",\"2022-09-21T00:00:00\",\"2022-09-28T00:00:00\",\"2022-10-05T00:00:00\",\"2022-10-12T00:00:00\",\"2022-10-19T00:00:00\",\"2022-10-26T00:00:00\",\"2022-11-02T00:00:00\",\"2022-11-09T00:00:00\",\"2022-11-16T00:00:00\",\"2022-11-23T00:00:00\",\"2022-11-30T00:00:00\",\"2022-12-07T00:00:00\",\"2022-12-14T00:00:00\",\"2022-12-21T00:00:00\",\"2022-12-28T00:00:00\",\"2023-01-04T00:00:00\",\"2023-01-11T00:00:00\",\"2023-01-18T00:00:00\",\"2023-01-25T00:00:00\",\"2023-02-01T00:00:00\",\"2023-02-08T00:00:00\"],\"xaxis\":\"x\",\"y\":[0.0,0.0,0.0,0.0,0.0,0.0,0.0,2.1972245784473308,5.966146739149333,8.915163617763485,10.223685216664952,10.842165803288108,10.962388340968182,10.66267993112599,10.467123818934642,9.946068000071726,9.519808397750555,9.182763604206976,8.740976538019385,8.554103545438261,8.420682291037597,7.731492029250072,7.6852436079804285,7.761319180952246,7.754481547474671,7.995306620294192,7.9878640960890825,7.991253929843583,8.089482474363821,8.00736706798666,7.821643126243991,7.769378609518209,7.624130585666174,8.070280893397026,8.00636756765358,7.936660155229,7.714231144853549,8.047829357461039,8.331104548055448,8.28853445941643,8.42178300661378,8.731659201538374,9.093357016491488,9.766120240743788,9.977202590358873,10.272565263192249,10.719139935088007,10.85701626401528,10.898478552954133,10.951630768456376,11.208178613891992,11.414772247561864,11.325402403776929,11.118815640900348,10.935283171500306,10.545367754152005,10.51292698402286,10.262419946516426,10.258010181907068,10.3279379605557,10.287286297671566,10.416700324794917,10.433468535342154,10.458923187220874,10.385697629055983,10.120049492485187,9.713053175632227,9.392161803729289,9.002947130754436,8.665785595467788,8.27435700675884,7.967973179666399,7.573531262751089,7.451241684993483,7.322510434003999,7.114769448374593,7.1592919048053405,7.513709247845161,8.121777419164044,8.69634305704623,9.213834261231435,9.571644584299275,9.772638274111705,10.013417611908773,10.047414721343204,10.11900207668625,10.098396224835966,10.095099156237588,10.062199243691376,9.962322338257492,9.942900554893443,9.836973748478323,9.657906656103622,9.477692177955479,9.536690120069524,9.799015530939972,10.140612901371151,10.175802147857167,10.63171225970901,10.820378104482451,11.230337064384328,11.73549285033279,12.313127225450552,12.615041607965049,12.111256343748074,11.33616441983704,10.706295987305817,10.05607987589973,9.572967566074944,9.077266017751983,8.687948111840413,8.457655478702163,8.369852603519846,8.3790798892889,8.634264863003853,8.984192311642929,9.238150072616422,9.853509182730413,9.901786105896871,10.072850508166113,10.53744189828352,10.523015103222578,10.597434413266887,10.463531820089903,10.175002132576113,9.983545644707169,9.918967123385007,9.916403777803168,9.938613354511984,10.31108372165358,10.15066008165009,10.340871136212888,10.23738504878523,10.097490614104332,10.020737112586813,9.889642145714582,9.817984128922731,9.712084887006586,9.686512437242916,9.917932716968117,9.985482200089216,9.699411063939758,9.9082263068838,9.710630693827397,9.685144958163582,9.638349444519893,9.669977958973371,9.686139673819117,9.663579254889823,9.783802709590711,9.814219084778493,10.325449175173084,10.55072167608193,9.631678829241293,10.533934521232409,10.273394565243924,9.695663555330366,9.555205857956127,9.172534657241323,0.0],\"yaxis\":\"y\",\"type\":\"scatter\"}],                        {\"template\":{\"data\":{\"histogram2dcontour\":[{\"type\":\"histogram2dcontour\",\"colorbar\":{\"outlinewidth\":0,\"ticks\":\"\"},\"colorscale\":[[0.0,\"#0d0887\"],[0.1111111111111111,\"#46039f\"],[0.2222222222222222,\"#7201a8\"],[0.3333333333333333,\"#9c179e\"],[0.4444444444444444,\"#bd3786\"],[0.5555555555555556,\"#d8576b\"],[0.6666666666666666,\"#ed7953\"],[0.7777777777777778,\"#fb9f3a\"],[0.8888888888888888,\"#fdca26\"],[1.0,\"#f0f921\"]]}],\"choropleth\":[{\"type\":\"choropleth\",\"colorbar\":{\"outlinewidth\":0,\"ticks\":\"\"}}],\"histogram2d\":[{\"type\":\"histogram2d\",\"colorbar\":{\"outlinewidth\":0,\"ticks\":\"\"},\"colorscale\":[[0.0,\"#0d0887\"],[0.1111111111111111,\"#46039f\"],[0.2222222222222222,\"#7201a8\"],[0.3333333333333333,\"#9c179e\"],[0.4444444444444444,\"#bd3786\"],[0.5555555555555556,\"#d8576b\"],[0.6666666666666666,\"#ed7953\"],[0.7777777777777778,\"#fb9f3a\"],[0.8888888888888888,\"#fdca26\"],[1.0,\"#f0f921\"]]}],\"heatmap\":[{\"type\":\"heatmap\",\"colorbar\":{\"outlinewidth\":0,\"ticks\":\"\"},\"colorscale\":[[0.0,\"#0d0887\"],[0.1111111111111111,\"#46039f\"],[0.2222222222222222,\"#7201a8\"],[0.3333333333333333,\"#9c179e\"],[0.4444444444444444,\"#bd3786\"],[0.5555555555555556,\"#d8576b\"],[0.6666666666666666,\"#ed7953\"],[0.7777777777777778,\"#fb9f3a\"],[0.8888888888888888,\"#fdca26\"],[1.0,\"#f0f921\"]]}],\"heatmapgl\":[{\"type\":\"heatmapgl\",\"colorbar\":{\"outlinewidth\":0,\"ticks\":\"\"},\"colorscale\":[[0.0,\"#0d0887\"],[0.1111111111111111,\"#46039f\"],[0.2222222222222222,\"#7201a8\"],[0.3333333333333333,\"#9c179e\"],[0.4444444444444444,\"#bd3786\"],[0.5555555555555556,\"#d8576b\"],[0.6666666666666666,\"#ed7953\"],[0.7777777777777778,\"#fb9f3a\"],[0.8888888888888888,\"#fdca26\"],[1.0,\"#f0f921\"]]}],\"contourcarpet\":[{\"type\":\"contourcarpet\",\"colorbar\":{\"outlinewidth\":0,\"ticks\":\"\"}}],\"contour\":[{\"type\":\"contour\",\"colorbar\":{\"outlinewidth\":0,\"ticks\":\"\"},\"colorscale\":[[0.0,\"#0d0887\"],[0.1111111111111111,\"#46039f\"],[0.2222222222222222,\"#7201a8\"],[0.3333333333333333,\"#9c179e\"],[0.4444444444444444,\"#bd3786\"],[0.5555555555555556,\"#d8576b\"],[0.6666666666666666,\"#ed7953\"],[0.7777777777777778,\"#fb9f3a\"],[0.8888888888888888,\"#fdca26\"],[1.0,\"#f0f921\"]]}],\"surface\":[{\"type\":\"surface\",\"colorbar\":{\"outlinewidth\":0,\"ticks\":\"\"},\"colorscale\":[[0.0,\"#0d0887\"],[0.1111111111111111,\"#46039f\"],[0.2222222222222222,\"#7201a8\"],[0.3333333333333333,\"#9c179e\"],[0.4444444444444444,\"#bd3786\"],[0.5555555555555556,\"#d8576b\"],[0.6666666666666666,\"#ed7953\"],[0.7777777777777778,\"#fb9f3a\"],[0.8888888888888888,\"#fdca26\"],[1.0,\"#f0f921\"]]}],\"mesh3d\":[{\"type\":\"mesh3d\",\"colorbar\":{\"outlinewidth\":0,\"ticks\":\"\"}}],\"scatter\":[{\"fillpattern\":{\"fillmode\":\"overlay\",\"size\":10,\"solidity\":0.2},\"type\":\"scatter\"}],\"parcoords\":[{\"type\":\"parcoords\",\"line\":{\"colorbar\":{\"outlinewidth\":0,\"ticks\":\"\"}}}],\"scatterpolargl\":[{\"type\":\"scatterpolargl\",\"marker\":{\"colorbar\":{\"outlinewidth\":0,\"ticks\":\"\"}}}],\"bar\":[{\"error_x\":{\"color\":\"#2a3f5f\"},\"error_y\":{\"color\":\"#2a3f5f\"},\"marker\":{\"line\":{\"color\":\"#E5ECF6\",\"width\":0.5},\"pattern\":{\"fillmode\":\"overlay\",\"size\":10,\"solidity\":0.2}},\"type\":\"bar\"}],\"scattergeo\":[{\"type\":\"scattergeo\",\"marker\":{\"colorbar\":{\"outlinewidth\":0,\"ticks\":\"\"}}}],\"scatterpolar\":[{\"type\":\"scatterpolar\",\"marker\":{\"colorbar\":{\"outlinewidth\":0,\"ticks\":\"\"}}}],\"histogram\":[{\"marker\":{\"pattern\":{\"fillmode\":\"overlay\",\"size\":10,\"solidity\":0.2}},\"type\":\"histogram\"}],\"scattergl\":[{\"type\":\"scattergl\",\"marker\":{\"colorbar\":{\"outlinewidth\":0,\"ticks\":\"\"}}}],\"scatter3d\":[{\"type\":\"scatter3d\",\"line\":{\"colorbar\":{\"outlinewidth\":0,\"ticks\":\"\"}},\"marker\":{\"colorbar\":{\"outlinewidth\":0,\"ticks\":\"\"}}}],\"scattermapbox\":[{\"type\":\"scattermapbox\",\"marker\":{\"colorbar\":{\"outlinewidth\":0,\"ticks\":\"\"}}}],\"scatterternary\":[{\"type\":\"scatterternary\",\"marker\":{\"colorbar\":{\"outlinewidth\":0,\"ticks\":\"\"}}}],\"scattercarpet\":[{\"type\":\"scattercarpet\",\"marker\":{\"colorbar\":{\"outlinewidth\":0,\"ticks\":\"\"}}}],\"carpet\":[{\"aaxis\":{\"endlinecolor\":\"#2a3f5f\",\"gridcolor\":\"white\",\"linecolor\":\"white\",\"minorgridcolor\":\"white\",\"startlinecolor\":\"#2a3f5f\"},\"baxis\":{\"endlinecolor\":\"#2a3f5f\",\"gridcolor\":\"white\",\"linecolor\":\"white\",\"minorgridcolor\":\"white\",\"startlinecolor\":\"#2a3f5f\"},\"type\":\"carpet\"}],\"table\":[{\"cells\":{\"fill\":{\"color\":\"#EBF0F8\"},\"line\":{\"color\":\"white\"}},\"header\":{\"fill\":{\"color\":\"#C8D4E3\"},\"line\":{\"color\":\"white\"}},\"type\":\"table\"}],\"barpolar\":[{\"marker\":{\"line\":{\"color\":\"#E5ECF6\",\"width\":0.5},\"pattern\":{\"fillmode\":\"overlay\",\"size\":10,\"solidity\":0.2}},\"type\":\"barpolar\"}],\"pie\":[{\"automargin\":true,\"type\":\"pie\"}]},\"layout\":{\"autotypenumbers\":\"strict\",\"colorway\":[\"#636efa\",\"#EF553B\",\"#00cc96\",\"#ab63fa\",\"#FFA15A\",\"#19d3f3\",\"#FF6692\",\"#B6E880\",\"#FF97FF\",\"#FECB52\"],\"font\":{\"color\":\"#2a3f5f\"},\"hovermode\":\"closest\",\"hoverlabel\":{\"align\":\"left\"},\"paper_bgcolor\":\"white\",\"plot_bgcolor\":\"#E5ECF6\",\"polar\":{\"bgcolor\":\"#E5ECF6\",\"angularaxis\":{\"gridcolor\":\"white\",\"linecolor\":\"white\",\"ticks\":\"\"},\"radialaxis\":{\"gridcolor\":\"white\",\"linecolor\":\"white\",\"ticks\":\"\"}},\"ternary\":{\"bgcolor\":\"#E5ECF6\",\"aaxis\":{\"gridcolor\":\"white\",\"linecolor\":\"white\",\"ticks\":\"\"},\"baxis\":{\"gridcolor\":\"white\",\"linecolor\":\"white\",\"ticks\":\"\"},\"caxis\":{\"gridcolor\":\"white\",\"linecolor\":\"white\",\"ticks\":\"\"}},\"coloraxis\":{\"colorbar\":{\"outlinewidth\":0,\"ticks\":\"\"}},\"colorscale\":{\"sequential\":[[0.0,\"#0d0887\"],[0.1111111111111111,\"#46039f\"],[0.2222222222222222,\"#7201a8\"],[0.3333333333333333,\"#9c179e\"],[0.4444444444444444,\"#bd3786\"],[0.5555555555555556,\"#d8576b\"],[0.6666666666666666,\"#ed7953\"],[0.7777777777777778,\"#fb9f3a\"],[0.8888888888888888,\"#fdca26\"],[1.0,\"#f0f921\"]],\"sequentialminus\":[[0.0,\"#0d0887\"],[0.1111111111111111,\"#46039f\"],[0.2222222222222222,\"#7201a8\"],[0.3333333333333333,\"#9c179e\"],[0.4444444444444444,\"#bd3786\"],[0.5555555555555556,\"#d8576b\"],[0.6666666666666666,\"#ed7953\"],[0.7777777777777778,\"#fb9f3a\"],[0.8888888888888888,\"#fdca26\"],[1.0,\"#f0f921\"]],\"diverging\":[[0,\"#8e0152\"],[0.1,\"#c51b7d\"],[0.2,\"#de77ae\"],[0.3,\"#f1b6da\"],[0.4,\"#fde0ef\"],[0.5,\"#f7f7f7\"],[0.6,\"#e6f5d0\"],[0.7,\"#b8e186\"],[0.8,\"#7fbc41\"],[0.9,\"#4d9221\"],[1,\"#276419\"]]},\"xaxis\":{\"gridcolor\":\"white\",\"linecolor\":\"white\",\"ticks\":\"\",\"title\":{\"standoff\":15},\"zerolinecolor\":\"white\",\"automargin\":true,\"zerolinewidth\":2},\"yaxis\":{\"gridcolor\":\"white\",\"linecolor\":\"white\",\"ticks\":\"\",\"title\":{\"standoff\":15},\"zerolinecolor\":\"white\",\"automargin\":true,\"zerolinewidth\":2},\"scene\":{\"xaxis\":{\"backgroundcolor\":\"#E5ECF6\",\"gridcolor\":\"white\",\"linecolor\":\"white\",\"showbackground\":true,\"ticks\":\"\",\"zerolinecolor\":\"white\",\"gridwidth\":2},\"yaxis\":{\"backgroundcolor\":\"#E5ECF6\",\"gridcolor\":\"white\",\"linecolor\":\"white\",\"showbackground\":true,\"ticks\":\"\",\"zerolinecolor\":\"white\",\"gridwidth\":2},\"zaxis\":{\"backgroundcolor\":\"#E5ECF6\",\"gridcolor\":\"white\",\"linecolor\":\"white\",\"showbackground\":true,\"ticks\":\"\",\"zerolinecolor\":\"white\",\"gridwidth\":2}},\"shapedefaults\":{\"line\":{\"color\":\"#2a3f5f\"}},\"annotationdefaults\":{\"arrowcolor\":\"#2a3f5f\",\"arrowhead\":0,\"arrowwidth\":1},\"geo\":{\"bgcolor\":\"white\",\"landcolor\":\"#E5ECF6\",\"subunitcolor\":\"white\",\"showland\":true,\"showlakes\":true,\"lakecolor\":\"white\"},\"title\":{\"x\":0.05},\"mapbox\":{\"style\":\"light\"}}},\"xaxis\":{\"anchor\":\"y\",\"domain\":[0.0,1.0],\"title\":{\"text\":\"date\"}},\"yaxis\":{\"anchor\":\"x\",\"domain\":[0.0,1.0],\"title\":{\"text\":\"value\"}},\"legend\":{\"title\":{\"text\":\"County Name\"},\"tracegroupgap\":0},\"title\":{\"text\":\"Top 3 counties with cases(log normalized values)\"}},                        {\"responsive\": true}                    ).then(function(){\n",
       "                            \n",
       "var gd = document.getElementById('c1410cdb-16f7-40db-8f9c-cfbd37c7a23c');\n",
       "var x = new MutationObserver(function (mutations, observer) {{\n",
       "        var display = window.getComputedStyle(gd).display;\n",
       "        if (!display || display === 'none') {{\n",
       "            console.log([gd, 'removed!']);\n",
       "            Plotly.purge(gd);\n",
       "            observer.disconnect();\n",
       "        }}\n",
       "}});\n",
       "\n",
       "// Listen for the removal of the full notebook cells\n",
       "var notebookContainer = gd.closest('#notebook-container');\n",
       "if (notebookContainer) {{\n",
       "    x.observe(notebookContainer, {childList: true});\n",
       "}}\n",
       "\n",
       "// Listen for the clearing of the current output cell\n",
       "var outputEl = gd.closest('.output');\n",
       "if (outputEl) {{\n",
       "    x.observe(outputEl, {childList: true});\n",
       "}}\n",
       "\n",
       "                        })                };                });            </script>        </div>"
      ]
     },
     "metadata": {},
     "output_type": "display_data"
    }
   ],
   "source": [
    "cases_log_values = px.line(counties_weekly, x = 'date', y = ['new_cases_log_norm'], color='County Name', title=\"Top 3 counties with cases(log normalized values)\")\n",
    "cases_log_values.show()"
   ]
  },
  {
   "cell_type": "code",
   "execution_count": 1418,
   "id": "f1dafbf1",
   "metadata": {},
   "outputs": [
    {
     "data": {
      "application/vnd.plotly.v1+json": {
       "config": {
        "plotlyServerURL": "https://plot.ly"
       },
       "data": [
        {
         "hovertemplate": "County Name=kings county<br>variable=new_deaths_log_norm<br>date=%{x}<br>value=%{y}<extra></extra>",
         "legendgroup": "kings county",
         "line": {
          "color": "#636efa",
          "dash": "solid"
         },
         "marker": {
          "symbol": "circle"
         },
         "mode": "lines",
         "name": "kings county",
         "orientation": "v",
         "showlegend": true,
         "type": "scatter",
         "x": [
          "2020-01-22T00:00:00",
          "2020-01-29T00:00:00",
          "2020-02-05T00:00:00",
          "2020-02-12T00:00:00",
          "2020-02-19T00:00:00",
          "2020-02-26T00:00:00",
          "2020-03-04T00:00:00",
          "2020-03-11T00:00:00",
          "2020-03-18T00:00:00",
          "2020-03-25T00:00:00",
          "2020-04-01T00:00:00",
          "2020-04-08T00:00:00",
          "2020-04-15T00:00:00",
          "2020-04-22T00:00:00",
          "2020-04-29T00:00:00",
          "2020-05-06T00:00:00",
          "2020-05-13T00:00:00",
          "2020-05-20T00:00:00",
          "2020-05-27T00:00:00",
          "2020-06-03T00:00:00",
          "2020-06-10T00:00:00",
          "2020-06-17T00:00:00",
          "2020-06-24T00:00:00",
          "2020-07-01T00:00:00",
          "2020-07-08T00:00:00",
          "2020-07-15T00:00:00",
          "2020-07-22T00:00:00",
          "2020-07-29T00:00:00",
          "2020-08-05T00:00:00",
          "2020-08-12T00:00:00",
          "2020-08-19T00:00:00",
          "2020-08-26T00:00:00",
          "2020-09-02T00:00:00",
          "2020-09-09T00:00:00",
          "2020-09-16T00:00:00",
          "2020-09-23T00:00:00",
          "2020-09-30T00:00:00",
          "2020-10-07T00:00:00",
          "2020-10-14T00:00:00",
          "2020-10-21T00:00:00",
          "2020-10-28T00:00:00",
          "2020-11-04T00:00:00",
          "2020-11-11T00:00:00",
          "2020-11-18T00:00:00",
          "2020-11-25T00:00:00",
          "2020-12-02T00:00:00",
          "2020-12-09T00:00:00",
          "2020-12-16T00:00:00",
          "2020-12-23T00:00:00",
          "2020-12-30T00:00:00",
          "2021-01-06T00:00:00",
          "2021-01-13T00:00:00",
          "2021-01-20T00:00:00",
          "2021-01-27T00:00:00",
          "2021-02-03T00:00:00",
          "2021-02-10T00:00:00",
          "2021-02-17T00:00:00",
          "2021-02-24T00:00:00",
          "2021-03-03T00:00:00",
          "2021-03-10T00:00:00",
          "2021-03-17T00:00:00",
          "2021-03-24T00:00:00",
          "2021-03-31T00:00:00",
          "2021-04-07T00:00:00",
          "2021-04-14T00:00:00",
          "2021-04-21T00:00:00",
          "2021-04-28T00:00:00",
          "2021-05-05T00:00:00",
          "2021-05-12T00:00:00",
          "2021-05-19T00:00:00",
          "2021-05-26T00:00:00",
          "2021-06-02T00:00:00",
          "2021-06-09T00:00:00",
          "2021-06-16T00:00:00",
          "2021-06-23T00:00:00",
          "2021-06-30T00:00:00",
          "2021-07-07T00:00:00",
          "2021-07-14T00:00:00",
          "2021-07-21T00:00:00",
          "2021-07-28T00:00:00",
          "2021-08-04T00:00:00",
          "2021-08-11T00:00:00",
          "2021-08-18T00:00:00",
          "2021-08-25T00:00:00",
          "2021-09-01T00:00:00",
          "2021-09-08T00:00:00",
          "2021-09-15T00:00:00",
          "2021-09-22T00:00:00",
          "2021-09-29T00:00:00",
          "2021-10-06T00:00:00",
          "2021-10-13T00:00:00",
          "2021-10-20T00:00:00",
          "2021-10-27T00:00:00",
          "2021-11-03T00:00:00",
          "2021-11-10T00:00:00",
          "2021-11-17T00:00:00",
          "2021-11-24T00:00:00",
          "2021-12-01T00:00:00",
          "2021-12-08T00:00:00",
          "2021-12-15T00:00:00",
          "2021-12-22T00:00:00",
          "2021-12-29T00:00:00",
          "2022-01-05T00:00:00",
          "2022-01-12T00:00:00",
          "2022-01-19T00:00:00",
          "2022-01-26T00:00:00",
          "2022-02-02T00:00:00",
          "2022-02-09T00:00:00",
          "2022-02-16T00:00:00",
          "2022-02-23T00:00:00",
          "2022-03-02T00:00:00",
          "2022-03-09T00:00:00",
          "2022-03-16T00:00:00",
          "2022-03-23T00:00:00",
          "2022-03-30T00:00:00",
          "2022-04-06T00:00:00",
          "2022-04-13T00:00:00",
          "2022-04-20T00:00:00",
          "2022-04-27T00:00:00",
          "2022-05-04T00:00:00",
          "2022-05-11T00:00:00",
          "2022-05-18T00:00:00",
          "2022-05-25T00:00:00",
          "2022-06-01T00:00:00",
          "2022-06-08T00:00:00",
          "2022-06-15T00:00:00",
          "2022-06-22T00:00:00",
          "2022-06-29T00:00:00",
          "2022-07-06T00:00:00",
          "2022-07-13T00:00:00",
          "2022-07-20T00:00:00",
          "2022-07-27T00:00:00",
          "2022-08-03T00:00:00",
          "2022-08-10T00:00:00",
          "2022-08-17T00:00:00",
          "2022-08-24T00:00:00",
          "2022-08-31T00:00:00",
          "2022-09-07T00:00:00",
          "2022-09-14T00:00:00",
          "2022-09-21T00:00:00",
          "2022-09-28T00:00:00",
          "2022-10-05T00:00:00",
          "2022-10-12T00:00:00",
          "2022-10-19T00:00:00",
          "2022-10-26T00:00:00",
          "2022-11-02T00:00:00",
          "2022-11-09T00:00:00",
          "2022-11-16T00:00:00",
          "2022-11-23T00:00:00",
          "2022-11-30T00:00:00",
          "2022-12-07T00:00:00",
          "2022-12-14T00:00:00",
          "2022-12-21T00:00:00",
          "2022-12-28T00:00:00",
          "2023-01-04T00:00:00",
          "2023-01-11T00:00:00",
          "2023-01-18T00:00:00",
          "2023-01-25T00:00:00",
          "2023-02-01T00:00:00",
          "2023-02-08T00:00:00"
         ],
         "xaxis": "x",
         "y": [
          0,
          0,
          0,
          0,
          0,
          0,
          0,
          0,
          1.6094379144341004,
          4.997212273831683,
          7.078341579566103,
          8.417372856136236,
          9.115809888131048,
          9.29990681533614,
          8.97297111339926,
          8.425954710984158,
          8.139440521877527,
          7.926602599184994,
          7.347943823155126,
          6.861711340491201,
          6.689599269191405,
          6.419994928163429,
          6.068425588267258,
          5.981414211279733,
          6.411818267726318,
          5.730099783006042,
          5.323009979187189,
          5.361292165756374,
          4.605170186088091,
          4.234106504742186,
          4.20469261954022,
          4.248495242192216,
          4.248495242192216,
          3.8501476019228247,
          4.304065093339305,
          4.406719247386205,
          4.1431347265502625,
          4.521788577157736,
          4.4886363698444995,
          4.804021044815224,
          4.6347289883267235,
          4.955827057671684,
          5.278114659281537,
          4.890349128296942,
          5.337538079749395,
          5.093750200868112,
          5.1179938124766355,
          5.497168225334185,
          5.73657229751145,
          5.703782474689534,
          6.726233402370737,
          6.759255270675294,
          6.907755278992137,
          7.057036981706505,
          7.180831199052166,
          7.127693699355424,
          7.183870715070039,
          7.111512116504313,
          7.0282014320668695,
          5.918893854300029,
          7.290974778149798,
          7.095064377295422,
          4.5951198502356,
          0,
          7.527255919379166,
          6.954638864890529,
          6.57925121202399,
          6.504288173551616,
          6.380122536916715,
          6.1841488909581015,
          5.780743515823193,
          5.356586274719183,
          5.4595855141867125,
          4.934473933202634,
          4.615120516940269,
          4.1743872700494835,
          4.672828834555364,
          4.26267987718216,
          3.9318256329204044,
          3.433987204807727,
          4.025351690913721,
          4.6347289883267235,
          5.105945473961187,
          4.787491742865379,
          5.556828061738148,
          5.493061443381701,
          5.4293456289983,
          5.484796933532149,
          5.645446897678573,
          5.488937726198008,
          5.023880520912066,
          5.257495372079865,
          4.882801922662129,
          4.997212273831683,
          4.94875989044909,
          4.934473933202634,
          5.153291594555583,
          4.927253685229669,
          5.35185813352346,
          5.424950017525456,
          5.54907608493413,
          5.7776523232536166,
          6.295266001458097,
          6.975413927465298,
          7.520234556480047,
          7.606387389777625,
          7.535296702449427,
          7.249215057121496,
          6.8700534118085095,
          6.817830571465091,
          6.075346031111673,
          5.564520407361008,
          4.941642422680733,
          5.365976015068581,
          3.5835189387338877,
          3.9318256329204044,
          3.555348061775128,
          3.8712010111162245,
          4.820281565685682,
          4.442651256607963,
          4.094344562388767,
          4.691347882320887,
          4.852030263997742,
          5.062595033090258,
          5.2040066871317405,
          5.17048399509497,
          5.3082676974507095,
          5.068904202283124,
          4.997212273831683,
          5.365976015068581,
          4.927253685229669,
          5.093750200868112,
          5.337538079749395,
          5.634789603204964,
          5.342334252012658,
          5.327876168838125,
          5.384495062834961,
          5.488937726198008,
          5.036952602478564,
          5.455321115400436,
          5.04985600731364,
          5.068904202283124,
          4.934473933202634,
          4.934473933202634,
          6.249975242278788,
          6.042632833706135,
          3.6375861599895436,
          4.6347289883267235,
          5.480638923383658,
          5.356586274719183,
          5.739792912211389,
          5.472270673713491,
          5.613128106424567,
          5.4205349993165335,
          6.040254711301223,
          5.9454206086327535,
          5.978885764926439,
          5.347107530765088,
          5.948034989206755,
          0
         ],
         "yaxis": "y"
        },
        {
         "hovertemplate": "County Name=queens county<br>variable=new_deaths_log_norm<br>date=%{x}<br>value=%{y}<extra></extra>",
         "legendgroup": "queens county",
         "line": {
          "color": "#EF553B",
          "dash": "solid"
         },
         "marker": {
          "symbol": "circle"
         },
         "mode": "lines",
         "name": "queens county",
         "orientation": "v",
         "showlegend": true,
         "type": "scatter",
         "x": [
          "2020-01-22T00:00:00",
          "2020-01-29T00:00:00",
          "2020-02-05T00:00:00",
          "2020-02-12T00:00:00",
          "2020-02-19T00:00:00",
          "2020-02-26T00:00:00",
          "2020-03-04T00:00:00",
          "2020-03-11T00:00:00",
          "2020-03-18T00:00:00",
          "2020-03-25T00:00:00",
          "2020-04-01T00:00:00",
          "2020-04-08T00:00:00",
          "2020-04-15T00:00:00",
          "2020-04-22T00:00:00",
          "2020-04-29T00:00:00",
          "2020-05-06T00:00:00",
          "2020-05-13T00:00:00",
          "2020-05-20T00:00:00",
          "2020-05-27T00:00:00",
          "2020-06-03T00:00:00",
          "2020-06-10T00:00:00",
          "2020-06-17T00:00:00",
          "2020-06-24T00:00:00",
          "2020-07-01T00:00:00",
          "2020-07-08T00:00:00",
          "2020-07-15T00:00:00",
          "2020-07-22T00:00:00",
          "2020-07-29T00:00:00",
          "2020-08-05T00:00:00",
          "2020-08-12T00:00:00",
          "2020-08-19T00:00:00",
          "2020-08-26T00:00:00",
          "2020-09-02T00:00:00",
          "2020-09-09T00:00:00",
          "2020-09-16T00:00:00",
          "2020-09-23T00:00:00",
          "2020-09-30T00:00:00",
          "2020-10-07T00:00:00",
          "2020-10-14T00:00:00",
          "2020-10-21T00:00:00",
          "2020-10-28T00:00:00",
          "2020-11-04T00:00:00",
          "2020-11-11T00:00:00",
          "2020-11-18T00:00:00",
          "2020-11-25T00:00:00",
          "2020-12-02T00:00:00",
          "2020-12-09T00:00:00",
          "2020-12-16T00:00:00",
          "2020-12-23T00:00:00",
          "2020-12-30T00:00:00",
          "2021-01-06T00:00:00",
          "2021-01-13T00:00:00",
          "2021-01-20T00:00:00",
          "2021-01-27T00:00:00",
          "2021-02-03T00:00:00",
          "2021-02-10T00:00:00",
          "2021-02-17T00:00:00",
          "2021-02-24T00:00:00",
          "2021-03-03T00:00:00",
          "2021-03-10T00:00:00",
          "2021-03-17T00:00:00",
          "2021-03-24T00:00:00",
          "2021-03-31T00:00:00",
          "2021-04-07T00:00:00",
          "2021-04-14T00:00:00",
          "2021-04-21T00:00:00",
          "2021-04-28T00:00:00",
          "2021-05-05T00:00:00",
          "2021-05-12T00:00:00",
          "2021-05-19T00:00:00",
          "2021-05-26T00:00:00",
          "2021-06-02T00:00:00",
          "2021-06-09T00:00:00",
          "2021-06-16T00:00:00",
          "2021-06-23T00:00:00",
          "2021-06-30T00:00:00",
          "2021-07-07T00:00:00",
          "2021-07-14T00:00:00",
          "2021-07-21T00:00:00",
          "2021-07-28T00:00:00",
          "2021-08-04T00:00:00",
          "2021-08-11T00:00:00",
          "2021-08-18T00:00:00",
          "2021-08-25T00:00:00",
          "2021-09-01T00:00:00",
          "2021-09-08T00:00:00",
          "2021-09-15T00:00:00",
          "2021-09-22T00:00:00",
          "2021-09-29T00:00:00",
          "2021-10-06T00:00:00",
          "2021-10-13T00:00:00",
          "2021-10-20T00:00:00",
          "2021-10-27T00:00:00",
          "2021-11-03T00:00:00",
          "2021-11-10T00:00:00",
          "2021-11-17T00:00:00",
          "2021-11-24T00:00:00",
          "2021-12-01T00:00:00",
          "2021-12-08T00:00:00",
          "2021-12-15T00:00:00",
          "2021-12-22T00:00:00",
          "2021-12-29T00:00:00",
          "2022-01-05T00:00:00",
          "2022-01-12T00:00:00",
          "2022-01-19T00:00:00",
          "2022-01-26T00:00:00",
          "2022-02-02T00:00:00",
          "2022-02-09T00:00:00",
          "2022-02-16T00:00:00",
          "2022-02-23T00:00:00",
          "2022-03-02T00:00:00",
          "2022-03-09T00:00:00",
          "2022-03-16T00:00:00",
          "2022-03-23T00:00:00",
          "2022-03-30T00:00:00",
          "2022-04-06T00:00:00",
          "2022-04-13T00:00:00",
          "2022-04-20T00:00:00",
          "2022-04-27T00:00:00",
          "2022-05-04T00:00:00",
          "2022-05-11T00:00:00",
          "2022-05-18T00:00:00",
          "2022-05-25T00:00:00",
          "2022-06-01T00:00:00",
          "2022-06-08T00:00:00",
          "2022-06-15T00:00:00",
          "2022-06-22T00:00:00",
          "2022-06-29T00:00:00",
          "2022-07-06T00:00:00",
          "2022-07-13T00:00:00",
          "2022-07-20T00:00:00",
          "2022-07-27T00:00:00",
          "2022-08-03T00:00:00",
          "2022-08-10T00:00:00",
          "2022-08-17T00:00:00",
          "2022-08-24T00:00:00",
          "2022-08-31T00:00:00",
          "2022-09-07T00:00:00",
          "2022-09-14T00:00:00",
          "2022-09-21T00:00:00",
          "2022-09-28T00:00:00",
          "2022-10-05T00:00:00",
          "2022-10-12T00:00:00",
          "2022-10-19T00:00:00",
          "2022-10-26T00:00:00",
          "2022-11-02T00:00:00",
          "2022-11-09T00:00:00",
          "2022-11-16T00:00:00",
          "2022-11-23T00:00:00",
          "2022-11-30T00:00:00",
          "2022-12-07T00:00:00",
          "2022-12-14T00:00:00",
          "2022-12-21T00:00:00",
          "2022-12-28T00:00:00",
          "2023-01-04T00:00:00",
          "2023-01-11T00:00:00",
          "2023-01-18T00:00:00",
          "2023-01-25T00:00:00",
          "2023-02-01T00:00:00",
          "2023-02-08T00:00:00"
         ],
         "xaxis": "x",
         "y": [
          0,
          0,
          0,
          0,
          0,
          0,
          0,
          0,
          0,
          5.361292165756374,
          7.412764017432598,
          8.327967858307906,
          9.105090961258197,
          9.237177025930716,
          8.878915376577876,
          8.377011160818675,
          8.04526771661101,
          7.378383713002961,
          7.170119543457321,
          6.782192056018129,
          6.625392368021219,
          6.439350371116073,
          6.270988431877203,
          7.303843225284434,
          7.8042513835321925,
          5.153291594555583,
          5.347107530765088,
          5.327876168838125,
          4.787491742865379,
          4.653960350252762,
          4.521788577157736,
          3.784189634145534,
          3.912023005628146,
          4.127134385206382,
          1.6094379144341004,
          4.304065093339305,
          3.8501476019228247,
          4.672828834555364,
          4.5108595066267405,
          4.077537444075211,
          3.6635616463860567,
          3.555348061775128,
          4.219507705323165,
          4.700480365883325,
          4.779123493195563,
          4.736198448482215,
          4.94875989044909,
          5.442417710565084,
          5.765191102816193,
          5.568344503799265,
          6.368187186367645,
          6.539585955632121,
          7.029972911715236,
          7.003974136731762,
          7.0379059634559615,
          7.090076835784425,
          7.0290875641585195,
          7.022868086091554,
          6.879355804470727,
          6.902742737168643,
          6.76272950694344,
          6.595780513974972,
          6.655440350380517,
          6.6174029779878465,
          6.295266001458097,
          6.22059017011962,
          6.381816017423018,
          6.505784060143176,
          6.113682179854355,
          5.966146739149333,
          5.583496308819293,
          5.416100402248865,
          4.8978398000255385,
          4.969813299645445,
          4.5643481915720026,
          3.3672958303313014,
          4.110873864337246,
          3.9318256329204044,
          3.9889840467494597,
          4.691347882320887,
          3.9702919137408013,
          3.8712010111162245,
          4.521788577157736,
          4.248495242192216,
          4.753590191192571,
          4.744932128450206,
          4.97673374248954,
          5.14166355656114,
          5.564520407361008,
          5.910796644067627,
          5.062595033090258,
          5.402677381917324,
          4.890349128296942,
          4.882801922662129,
          5.7493929859401005,
          4.8751973232774874,
          4.356708826817797,
          4.812184355453718,
          5.147494476871593,
          5.036952602478564,
          5.04985600731364,
          5.278114659281537,
          6.115892125505109,
          6.5889264775472745,
          7.212294468507715,
          7.334329350307064,
          7.3198649298155924,
          7.096721378503038,
          6.67834211466691,
          6.403574197951372,
          6.045005314059709,
          5.659482215794465,
          4.836281907030843,
          4.94875989044909,
          4.6347289883267235,
          4.762173934883226,
          3.912023005628146,
          4.454347296369787,
          3.5835189387338877,
          3.912023005628146,
          3.71357206694821,
          4.060443010718833,
          4.382026634798882,
          4.828313737382301,
          4.753590191192571,
          4.6347289883267235,
          5.093750200868112,
          4.7957905456793855,
          4.927253685229669,
          4.770684624550411,
          4.7095302014024245,
          5.176149732630327,
          5.393627546397816,
          5.587248658437702,
          5.433722003597908,
          5.472270673713491,
          5.198497031321074,
          4.955827057671684,
          4.644390899237527,
          5.176149732630327,
          5.087596335294113,
          6.023447592985246,
          5.062595033090258,
          5.370638028174175,
          6.863803391463404,
          7.160069207603897,
          4.394449154795895,
          4.941642422680733,
          5.655991810854817,
          5.7776523232536166,
          5.323009979187189,
          5.337538079749395,
          5.683579767372695,
          5.814130531854917,
          5.85220247980321,
          5.793013608414632,
          5.886104031477934,
          5.225746673766965,
          5.509388336668463,
          0
         ],
         "yaxis": "y"
        },
        {
         "hovertemplate": "County Name=suffolk county<br>variable=new_deaths_log_norm<br>date=%{x}<br>value=%{y}<extra></extra>",
         "legendgroup": "suffolk county",
         "line": {
          "color": "#00cc96",
          "dash": "solid"
         },
         "marker": {
          "symbol": "circle"
         },
         "mode": "lines",
         "name": "suffolk county",
         "orientation": "v",
         "showlegend": true,
         "type": "scatter",
         "x": [
          "2020-01-22T00:00:00",
          "2020-01-29T00:00:00",
          "2020-02-05T00:00:00",
          "2020-02-12T00:00:00",
          "2020-02-19T00:00:00",
          "2020-02-26T00:00:00",
          "2020-03-04T00:00:00",
          "2020-03-11T00:00:00",
          "2020-03-18T00:00:00",
          "2020-03-25T00:00:00",
          "2020-04-01T00:00:00",
          "2020-04-08T00:00:00",
          "2020-04-15T00:00:00",
          "2020-04-22T00:00:00",
          "2020-04-29T00:00:00",
          "2020-05-06T00:00:00",
          "2020-05-13T00:00:00",
          "2020-05-20T00:00:00",
          "2020-05-27T00:00:00",
          "2020-06-03T00:00:00",
          "2020-06-10T00:00:00",
          "2020-06-17T00:00:00",
          "2020-06-24T00:00:00",
          "2020-07-01T00:00:00",
          "2020-07-08T00:00:00",
          "2020-07-15T00:00:00",
          "2020-07-22T00:00:00",
          "2020-07-29T00:00:00",
          "2020-08-05T00:00:00",
          "2020-08-12T00:00:00",
          "2020-08-19T00:00:00",
          "2020-08-26T00:00:00",
          "2020-09-02T00:00:00",
          "2020-09-09T00:00:00",
          "2020-09-16T00:00:00",
          "2020-09-23T00:00:00",
          "2020-09-30T00:00:00",
          "2020-10-07T00:00:00",
          "2020-10-14T00:00:00",
          "2020-10-21T00:00:00",
          "2020-10-28T00:00:00",
          "2020-11-04T00:00:00",
          "2020-11-11T00:00:00",
          "2020-11-18T00:00:00",
          "2020-11-25T00:00:00",
          "2020-12-02T00:00:00",
          "2020-12-09T00:00:00",
          "2020-12-16T00:00:00",
          "2020-12-23T00:00:00",
          "2020-12-30T00:00:00",
          "2021-01-06T00:00:00",
          "2021-01-13T00:00:00",
          "2021-01-20T00:00:00",
          "2021-01-27T00:00:00",
          "2021-02-03T00:00:00",
          "2021-02-10T00:00:00",
          "2021-02-17T00:00:00",
          "2021-02-24T00:00:00",
          "2021-03-03T00:00:00",
          "2021-03-10T00:00:00",
          "2021-03-17T00:00:00",
          "2021-03-24T00:00:00",
          "2021-03-31T00:00:00",
          "2021-04-07T00:00:00",
          "2021-04-14T00:00:00",
          "2021-04-21T00:00:00",
          "2021-04-28T00:00:00",
          "2021-05-05T00:00:00",
          "2021-05-12T00:00:00",
          "2021-05-19T00:00:00",
          "2021-05-26T00:00:00",
          "2021-06-02T00:00:00",
          "2021-06-09T00:00:00",
          "2021-06-16T00:00:00",
          "2021-06-23T00:00:00",
          "2021-06-30T00:00:00",
          "2021-07-07T00:00:00",
          "2021-07-14T00:00:00",
          "2021-07-21T00:00:00",
          "2021-07-28T00:00:00",
          "2021-08-04T00:00:00",
          "2021-08-11T00:00:00",
          "2021-08-18T00:00:00",
          "2021-08-25T00:00:00",
          "2021-09-01T00:00:00",
          "2021-09-08T00:00:00",
          "2021-09-15T00:00:00",
          "2021-09-22T00:00:00",
          "2021-09-29T00:00:00",
          "2021-10-06T00:00:00",
          "2021-10-13T00:00:00",
          "2021-10-20T00:00:00",
          "2021-10-27T00:00:00",
          "2021-11-03T00:00:00",
          "2021-11-10T00:00:00",
          "2021-11-17T00:00:00",
          "2021-11-24T00:00:00",
          "2021-12-01T00:00:00",
          "2021-12-08T00:00:00",
          "2021-12-15T00:00:00",
          "2021-12-22T00:00:00",
          "2021-12-29T00:00:00",
          "2022-01-05T00:00:00",
          "2022-01-12T00:00:00",
          "2022-01-19T00:00:00",
          "2022-01-26T00:00:00",
          "2022-02-02T00:00:00",
          "2022-02-09T00:00:00",
          "2022-02-16T00:00:00",
          "2022-02-23T00:00:00",
          "2022-03-02T00:00:00",
          "2022-03-09T00:00:00",
          "2022-03-16T00:00:00",
          "2022-03-23T00:00:00",
          "2022-03-30T00:00:00",
          "2022-04-06T00:00:00",
          "2022-04-13T00:00:00",
          "2022-04-20T00:00:00",
          "2022-04-27T00:00:00",
          "2022-05-04T00:00:00",
          "2022-05-11T00:00:00",
          "2022-05-18T00:00:00",
          "2022-05-25T00:00:00",
          "2022-06-01T00:00:00",
          "2022-06-08T00:00:00",
          "2022-06-15T00:00:00",
          "2022-06-22T00:00:00",
          "2022-06-29T00:00:00",
          "2022-07-06T00:00:00",
          "2022-07-13T00:00:00",
          "2022-07-20T00:00:00",
          "2022-07-27T00:00:00",
          "2022-08-03T00:00:00",
          "2022-08-10T00:00:00",
          "2022-08-17T00:00:00",
          "2022-08-24T00:00:00",
          "2022-08-31T00:00:00",
          "2022-09-07T00:00:00",
          "2022-09-14T00:00:00",
          "2022-09-21T00:00:00",
          "2022-09-28T00:00:00",
          "2022-10-05T00:00:00",
          "2022-10-12T00:00:00",
          "2022-10-19T00:00:00",
          "2022-10-26T00:00:00",
          "2022-11-02T00:00:00",
          "2022-11-09T00:00:00",
          "2022-11-16T00:00:00",
          "2022-11-23T00:00:00",
          "2022-11-30T00:00:00",
          "2022-12-07T00:00:00",
          "2022-12-14T00:00:00",
          "2022-12-21T00:00:00",
          "2022-12-28T00:00:00",
          "2023-01-04T00:00:00",
          "2023-01-11T00:00:00",
          "2023-01-18T00:00:00",
          "2023-01-25T00:00:00",
          "2023-02-01T00:00:00",
          "2023-02-08T00:00:00"
         ],
         "xaxis": "x",
         "y": [
          0,
          0,
          0,
          0,
          0,
          0,
          0,
          0,
          1.9459101504838847,
          3.8501476019228247,
          5.484796933532149,
          6.963189985879699,
          7.712443834279462,
          7.595387278859,
          7.536363938409845,
          7.314552832330738,
          7.761319180952246,
          6.80461452007371,
          6.429719478055266,
          6.025865973849469,
          5.579729826023958,
          5.023880520912066,
          4.6249728133823105,
          4.499809670441376,
          3.555348061775128,
          4.18965474217794,
          2.1972245784473308,
          2.6390573303295444,
          1.9459101504838847,
          2.079441542929836,
          1.6094379144341004,
          2.6390573303295444,
          2.079441542929836,
          3.2958368663746995,
          3.0910424538128614,
          2.944438979692756,
          2.5649493582307676,
          2.5649493582307676,
          2.079441542929836,
          2.3978952737074617,
          1.9459101504838847,
          2.4849066506213338,
          2.302585093994046,
          3.1354942163639326,
          4.060443010718833,
          4.770684624550411,
          5.225746673766965,
          5.59098698054817,
          5.843544417060345,
          6.398594934551847,
          6.476972362905068,
          6.65286302936625,
          6.736966958013718,
          6.706862336614972,
          6.562444093707844,
          6.368187186367645,
          6.3243589623992325,
          6.206575926745089,
          5.899897353609889,
          5.720311776640199,
          5.575949103184195,
          5.655991810854817,
          5.416100402248865,
          5.545177444518625,
          5.176149732630327,
          4.941642422680733,
          4.941642422680733,
          4.7957905456793855,
          4.804021044815224,
          4.276666119154944,
          3.8712010111162245,
          3.3672958303313014,
          3.4965075617695107,
          3.2958368663746995,
          2.079441542929836,
          2.1972245784473308,
          3.0910424538128614,
          2.708050201768877,
          1.3862943636198906,
          2.6390573303295444,
          3.1354942163639326,
          3.2580965384060976,
          4.219507705323165,
          4.5849674787726125,
          4.4886363698444995,
          4.71849887138438,
          4.882801922662129,
          4.882801922662129,
          4.812184355453718,
          4.8675344505325056,
          5.0562458054120025,
          5.257495372079865,
          4.912654885809581,
          4.6347289883267235,
          4.644390899237527,
          4.499809670441376,
          4.5951198502356,
          4.1431347265502625,
          4.955827057671684,
          4.727387818800836,
          5.3082676974507095,
          5.433722003597908,
          5.789960170927834,
          6.4441312567163385,
          6.529418838276824,
          6.602587892202905,
          6.300785794681593,
          6.609349243180858,
          0,
          5.3082676974507095,
          4.672828834555364,
          3.951243718773735,
          4.18965474217794,
          3.2188758252682006,
          2.708050201768877,
          3.6635616463860567,
          2.89037175845172,
          2.995732274053991,
          3.806662489992542,
          3.6888794543639363,
          3.9889840467494597,
          4.521788577157736,
          4.5108595066267405,
          4.615120516940269,
          4.6347289883267235,
          4.543294782376387,
          3.555348061775128,
          4.465908118769526,
          3.9318256329204044,
          3.71357206694821,
          3.610917912914495,
          4.369447852593604,
          4.382026634798882,
          3.891820298314708,
          4.18965474217794,
          4.26267987718216,
          4.219507705323165,
          4.3174881136696435,
          4.5849674787726125,
          4.3174881136696435,
          4.343805421983554,
          3.784189634145534,
          4.060443010718833,
          4.727387818800836,
          4.653960350252762,
          4.744932128450206,
          4.248495242192216,
          0,
          6.993932975232363,
          4.5951198502356,
          4.343805421983554,
          4.8978398000255385,
          5.342334252012658,
          4.955827057671684,
          5.257495372079865,
          5.2040066871317405,
          4.8675344505325056,
          5.123963979462783,
          4.71849887138438,
          0
         ],
         "yaxis": "y"
        }
       ],
       "layout": {
        "legend": {
         "title": {
          "text": "County Name"
         },
         "tracegroupgap": 0
        },
        "template": {
         "data": {
          "bar": [
           {
            "error_x": {
             "color": "#2a3f5f"
            },
            "error_y": {
             "color": "#2a3f5f"
            },
            "marker": {
             "line": {
              "color": "#E5ECF6",
              "width": 0.5
             },
             "pattern": {
              "fillmode": "overlay",
              "size": 10,
              "solidity": 0.2
             }
            },
            "type": "bar"
           }
          ],
          "barpolar": [
           {
            "marker": {
             "line": {
              "color": "#E5ECF6",
              "width": 0.5
             },
             "pattern": {
              "fillmode": "overlay",
              "size": 10,
              "solidity": 0.2
             }
            },
            "type": "barpolar"
           }
          ],
          "carpet": [
           {
            "aaxis": {
             "endlinecolor": "#2a3f5f",
             "gridcolor": "white",
             "linecolor": "white",
             "minorgridcolor": "white",
             "startlinecolor": "#2a3f5f"
            },
            "baxis": {
             "endlinecolor": "#2a3f5f",
             "gridcolor": "white",
             "linecolor": "white",
             "minorgridcolor": "white",
             "startlinecolor": "#2a3f5f"
            },
            "type": "carpet"
           }
          ],
          "choropleth": [
           {
            "colorbar": {
             "outlinewidth": 0,
             "ticks": ""
            },
            "type": "choropleth"
           }
          ],
          "contour": [
           {
            "colorbar": {
             "outlinewidth": 0,
             "ticks": ""
            },
            "colorscale": [
             [
              0,
              "#0d0887"
             ],
             [
              0.1111111111111111,
              "#46039f"
             ],
             [
              0.2222222222222222,
              "#7201a8"
             ],
             [
              0.3333333333333333,
              "#9c179e"
             ],
             [
              0.4444444444444444,
              "#bd3786"
             ],
             [
              0.5555555555555556,
              "#d8576b"
             ],
             [
              0.6666666666666666,
              "#ed7953"
             ],
             [
              0.7777777777777778,
              "#fb9f3a"
             ],
             [
              0.8888888888888888,
              "#fdca26"
             ],
             [
              1,
              "#f0f921"
             ]
            ],
            "type": "contour"
           }
          ],
          "contourcarpet": [
           {
            "colorbar": {
             "outlinewidth": 0,
             "ticks": ""
            },
            "type": "contourcarpet"
           }
          ],
          "heatmap": [
           {
            "colorbar": {
             "outlinewidth": 0,
             "ticks": ""
            },
            "colorscale": [
             [
              0,
              "#0d0887"
             ],
             [
              0.1111111111111111,
              "#46039f"
             ],
             [
              0.2222222222222222,
              "#7201a8"
             ],
             [
              0.3333333333333333,
              "#9c179e"
             ],
             [
              0.4444444444444444,
              "#bd3786"
             ],
             [
              0.5555555555555556,
              "#d8576b"
             ],
             [
              0.6666666666666666,
              "#ed7953"
             ],
             [
              0.7777777777777778,
              "#fb9f3a"
             ],
             [
              0.8888888888888888,
              "#fdca26"
             ],
             [
              1,
              "#f0f921"
             ]
            ],
            "type": "heatmap"
           }
          ],
          "heatmapgl": [
           {
            "colorbar": {
             "outlinewidth": 0,
             "ticks": ""
            },
            "colorscale": [
             [
              0,
              "#0d0887"
             ],
             [
              0.1111111111111111,
              "#46039f"
             ],
             [
              0.2222222222222222,
              "#7201a8"
             ],
             [
              0.3333333333333333,
              "#9c179e"
             ],
             [
              0.4444444444444444,
              "#bd3786"
             ],
             [
              0.5555555555555556,
              "#d8576b"
             ],
             [
              0.6666666666666666,
              "#ed7953"
             ],
             [
              0.7777777777777778,
              "#fb9f3a"
             ],
             [
              0.8888888888888888,
              "#fdca26"
             ],
             [
              1,
              "#f0f921"
             ]
            ],
            "type": "heatmapgl"
           }
          ],
          "histogram": [
           {
            "marker": {
             "pattern": {
              "fillmode": "overlay",
              "size": 10,
              "solidity": 0.2
             }
            },
            "type": "histogram"
           }
          ],
          "histogram2d": [
           {
            "colorbar": {
             "outlinewidth": 0,
             "ticks": ""
            },
            "colorscale": [
             [
              0,
              "#0d0887"
             ],
             [
              0.1111111111111111,
              "#46039f"
             ],
             [
              0.2222222222222222,
              "#7201a8"
             ],
             [
              0.3333333333333333,
              "#9c179e"
             ],
             [
              0.4444444444444444,
              "#bd3786"
             ],
             [
              0.5555555555555556,
              "#d8576b"
             ],
             [
              0.6666666666666666,
              "#ed7953"
             ],
             [
              0.7777777777777778,
              "#fb9f3a"
             ],
             [
              0.8888888888888888,
              "#fdca26"
             ],
             [
              1,
              "#f0f921"
             ]
            ],
            "type": "histogram2d"
           }
          ],
          "histogram2dcontour": [
           {
            "colorbar": {
             "outlinewidth": 0,
             "ticks": ""
            },
            "colorscale": [
             [
              0,
              "#0d0887"
             ],
             [
              0.1111111111111111,
              "#46039f"
             ],
             [
              0.2222222222222222,
              "#7201a8"
             ],
             [
              0.3333333333333333,
              "#9c179e"
             ],
             [
              0.4444444444444444,
              "#bd3786"
             ],
             [
              0.5555555555555556,
              "#d8576b"
             ],
             [
              0.6666666666666666,
              "#ed7953"
             ],
             [
              0.7777777777777778,
              "#fb9f3a"
             ],
             [
              0.8888888888888888,
              "#fdca26"
             ],
             [
              1,
              "#f0f921"
             ]
            ],
            "type": "histogram2dcontour"
           }
          ],
          "mesh3d": [
           {
            "colorbar": {
             "outlinewidth": 0,
             "ticks": ""
            },
            "type": "mesh3d"
           }
          ],
          "parcoords": [
           {
            "line": {
             "colorbar": {
              "outlinewidth": 0,
              "ticks": ""
             }
            },
            "type": "parcoords"
           }
          ],
          "pie": [
           {
            "automargin": true,
            "type": "pie"
           }
          ],
          "scatter": [
           {
            "fillpattern": {
             "fillmode": "overlay",
             "size": 10,
             "solidity": 0.2
            },
            "type": "scatter"
           }
          ],
          "scatter3d": [
           {
            "line": {
             "colorbar": {
              "outlinewidth": 0,
              "ticks": ""
             }
            },
            "marker": {
             "colorbar": {
              "outlinewidth": 0,
              "ticks": ""
             }
            },
            "type": "scatter3d"
           }
          ],
          "scattercarpet": [
           {
            "marker": {
             "colorbar": {
              "outlinewidth": 0,
              "ticks": ""
             }
            },
            "type": "scattercarpet"
           }
          ],
          "scattergeo": [
           {
            "marker": {
             "colorbar": {
              "outlinewidth": 0,
              "ticks": ""
             }
            },
            "type": "scattergeo"
           }
          ],
          "scattergl": [
           {
            "marker": {
             "colorbar": {
              "outlinewidth": 0,
              "ticks": ""
             }
            },
            "type": "scattergl"
           }
          ],
          "scattermapbox": [
           {
            "marker": {
             "colorbar": {
              "outlinewidth": 0,
              "ticks": ""
             }
            },
            "type": "scattermapbox"
           }
          ],
          "scatterpolar": [
           {
            "marker": {
             "colorbar": {
              "outlinewidth": 0,
              "ticks": ""
             }
            },
            "type": "scatterpolar"
           }
          ],
          "scatterpolargl": [
           {
            "marker": {
             "colorbar": {
              "outlinewidth": 0,
              "ticks": ""
             }
            },
            "type": "scatterpolargl"
           }
          ],
          "scatterternary": [
           {
            "marker": {
             "colorbar": {
              "outlinewidth": 0,
              "ticks": ""
             }
            },
            "type": "scatterternary"
           }
          ],
          "surface": [
           {
            "colorbar": {
             "outlinewidth": 0,
             "ticks": ""
            },
            "colorscale": [
             [
              0,
              "#0d0887"
             ],
             [
              0.1111111111111111,
              "#46039f"
             ],
             [
              0.2222222222222222,
              "#7201a8"
             ],
             [
              0.3333333333333333,
              "#9c179e"
             ],
             [
              0.4444444444444444,
              "#bd3786"
             ],
             [
              0.5555555555555556,
              "#d8576b"
             ],
             [
              0.6666666666666666,
              "#ed7953"
             ],
             [
              0.7777777777777778,
              "#fb9f3a"
             ],
             [
              0.8888888888888888,
              "#fdca26"
             ],
             [
              1,
              "#f0f921"
             ]
            ],
            "type": "surface"
           }
          ],
          "table": [
           {
            "cells": {
             "fill": {
              "color": "#EBF0F8"
             },
             "line": {
              "color": "white"
             }
            },
            "header": {
             "fill": {
              "color": "#C8D4E3"
             },
             "line": {
              "color": "white"
             }
            },
            "type": "table"
           }
          ]
         },
         "layout": {
          "annotationdefaults": {
           "arrowcolor": "#2a3f5f",
           "arrowhead": 0,
           "arrowwidth": 1
          },
          "autotypenumbers": "strict",
          "coloraxis": {
           "colorbar": {
            "outlinewidth": 0,
            "ticks": ""
           }
          },
          "colorscale": {
           "diverging": [
            [
             0,
             "#8e0152"
            ],
            [
             0.1,
             "#c51b7d"
            ],
            [
             0.2,
             "#de77ae"
            ],
            [
             0.3,
             "#f1b6da"
            ],
            [
             0.4,
             "#fde0ef"
            ],
            [
             0.5,
             "#f7f7f7"
            ],
            [
             0.6,
             "#e6f5d0"
            ],
            [
             0.7,
             "#b8e186"
            ],
            [
             0.8,
             "#7fbc41"
            ],
            [
             0.9,
             "#4d9221"
            ],
            [
             1,
             "#276419"
            ]
           ],
           "sequential": [
            [
             0,
             "#0d0887"
            ],
            [
             0.1111111111111111,
             "#46039f"
            ],
            [
             0.2222222222222222,
             "#7201a8"
            ],
            [
             0.3333333333333333,
             "#9c179e"
            ],
            [
             0.4444444444444444,
             "#bd3786"
            ],
            [
             0.5555555555555556,
             "#d8576b"
            ],
            [
             0.6666666666666666,
             "#ed7953"
            ],
            [
             0.7777777777777778,
             "#fb9f3a"
            ],
            [
             0.8888888888888888,
             "#fdca26"
            ],
            [
             1,
             "#f0f921"
            ]
           ],
           "sequentialminus": [
            [
             0,
             "#0d0887"
            ],
            [
             0.1111111111111111,
             "#46039f"
            ],
            [
             0.2222222222222222,
             "#7201a8"
            ],
            [
             0.3333333333333333,
             "#9c179e"
            ],
            [
             0.4444444444444444,
             "#bd3786"
            ],
            [
             0.5555555555555556,
             "#d8576b"
            ],
            [
             0.6666666666666666,
             "#ed7953"
            ],
            [
             0.7777777777777778,
             "#fb9f3a"
            ],
            [
             0.8888888888888888,
             "#fdca26"
            ],
            [
             1,
             "#f0f921"
            ]
           ]
          },
          "colorway": [
           "#636efa",
           "#EF553B",
           "#00cc96",
           "#ab63fa",
           "#FFA15A",
           "#19d3f3",
           "#FF6692",
           "#B6E880",
           "#FF97FF",
           "#FECB52"
          ],
          "font": {
           "color": "#2a3f5f"
          },
          "geo": {
           "bgcolor": "white",
           "lakecolor": "white",
           "landcolor": "#E5ECF6",
           "showlakes": true,
           "showland": true,
           "subunitcolor": "white"
          },
          "hoverlabel": {
           "align": "left"
          },
          "hovermode": "closest",
          "mapbox": {
           "style": "light"
          },
          "paper_bgcolor": "white",
          "plot_bgcolor": "#E5ECF6",
          "polar": {
           "angularaxis": {
            "gridcolor": "white",
            "linecolor": "white",
            "ticks": ""
           },
           "bgcolor": "#E5ECF6",
           "radialaxis": {
            "gridcolor": "white",
            "linecolor": "white",
            "ticks": ""
           }
          },
          "scene": {
           "xaxis": {
            "backgroundcolor": "#E5ECF6",
            "gridcolor": "white",
            "gridwidth": 2,
            "linecolor": "white",
            "showbackground": true,
            "ticks": "",
            "zerolinecolor": "white"
           },
           "yaxis": {
            "backgroundcolor": "#E5ECF6",
            "gridcolor": "white",
            "gridwidth": 2,
            "linecolor": "white",
            "showbackground": true,
            "ticks": "",
            "zerolinecolor": "white"
           },
           "zaxis": {
            "backgroundcolor": "#E5ECF6",
            "gridcolor": "white",
            "gridwidth": 2,
            "linecolor": "white",
            "showbackground": true,
            "ticks": "",
            "zerolinecolor": "white"
           }
          },
          "shapedefaults": {
           "line": {
            "color": "#2a3f5f"
           }
          },
          "ternary": {
           "aaxis": {
            "gridcolor": "white",
            "linecolor": "white",
            "ticks": ""
           },
           "baxis": {
            "gridcolor": "white",
            "linecolor": "white",
            "ticks": ""
           },
           "bgcolor": "#E5ECF6",
           "caxis": {
            "gridcolor": "white",
            "linecolor": "white",
            "ticks": ""
           }
          },
          "title": {
           "x": 0.05
          },
          "xaxis": {
           "automargin": true,
           "gridcolor": "white",
           "linecolor": "white",
           "ticks": "",
           "title": {
            "standoff": 15
           },
           "zerolinecolor": "white",
           "zerolinewidth": 2
          },
          "yaxis": {
           "automargin": true,
           "gridcolor": "white",
           "linecolor": "white",
           "ticks": "",
           "title": {
            "standoff": 15
           },
           "zerolinecolor": "white",
           "zerolinewidth": 2
          }
         }
        },
        "title": {
         "text": "Top 3 counties with deaths(log normalized values)"
        },
        "xaxis": {
         "anchor": "y",
         "domain": [
          0,
          1
         ],
         "title": {
          "text": "date"
         }
        },
        "yaxis": {
         "anchor": "x",
         "domain": [
          0,
          1
         ],
         "title": {
          "text": "value"
         }
        }
       }
      },
      "text/html": [
       "<div>                            <div id=\"8b3bd42a-aa60-48f0-bfea-ccc118021aa9\" class=\"plotly-graph-div\" style=\"height:525px; width:100%;\"></div>            <script type=\"text/javascript\">                require([\"plotly\"], function(Plotly) {                    window.PLOTLYENV=window.PLOTLYENV || {};                                    if (document.getElementById(\"8b3bd42a-aa60-48f0-bfea-ccc118021aa9\")) {                    Plotly.newPlot(                        \"8b3bd42a-aa60-48f0-bfea-ccc118021aa9\",                        [{\"hovertemplate\":\"County Name=kings county<br>variable=new_deaths_log_norm<br>date=%{x}<br>value=%{y}<extra></extra>\",\"legendgroup\":\"kings county\",\"line\":{\"color\":\"#636efa\",\"dash\":\"solid\"},\"marker\":{\"symbol\":\"circle\"},\"mode\":\"lines\",\"name\":\"kings county\",\"orientation\":\"v\",\"showlegend\":true,\"x\":[\"2020-01-22T00:00:00\",\"2020-01-29T00:00:00\",\"2020-02-05T00:00:00\",\"2020-02-12T00:00:00\",\"2020-02-19T00:00:00\",\"2020-02-26T00:00:00\",\"2020-03-04T00:00:00\",\"2020-03-11T00:00:00\",\"2020-03-18T00:00:00\",\"2020-03-25T00:00:00\",\"2020-04-01T00:00:00\",\"2020-04-08T00:00:00\",\"2020-04-15T00:00:00\",\"2020-04-22T00:00:00\",\"2020-04-29T00:00:00\",\"2020-05-06T00:00:00\",\"2020-05-13T00:00:00\",\"2020-05-20T00:00:00\",\"2020-05-27T00:00:00\",\"2020-06-03T00:00:00\",\"2020-06-10T00:00:00\",\"2020-06-17T00:00:00\",\"2020-06-24T00:00:00\",\"2020-07-01T00:00:00\",\"2020-07-08T00:00:00\",\"2020-07-15T00:00:00\",\"2020-07-22T00:00:00\",\"2020-07-29T00:00:00\",\"2020-08-05T00:00:00\",\"2020-08-12T00:00:00\",\"2020-08-19T00:00:00\",\"2020-08-26T00:00:00\",\"2020-09-02T00:00:00\",\"2020-09-09T00:00:00\",\"2020-09-16T00:00:00\",\"2020-09-23T00:00:00\",\"2020-09-30T00:00:00\",\"2020-10-07T00:00:00\",\"2020-10-14T00:00:00\",\"2020-10-21T00:00:00\",\"2020-10-28T00:00:00\",\"2020-11-04T00:00:00\",\"2020-11-11T00:00:00\",\"2020-11-18T00:00:00\",\"2020-11-25T00:00:00\",\"2020-12-02T00:00:00\",\"2020-12-09T00:00:00\",\"2020-12-16T00:00:00\",\"2020-12-23T00:00:00\",\"2020-12-30T00:00:00\",\"2021-01-06T00:00:00\",\"2021-01-13T00:00:00\",\"2021-01-20T00:00:00\",\"2021-01-27T00:00:00\",\"2021-02-03T00:00:00\",\"2021-02-10T00:00:00\",\"2021-02-17T00:00:00\",\"2021-02-24T00:00:00\",\"2021-03-03T00:00:00\",\"2021-03-10T00:00:00\",\"2021-03-17T00:00:00\",\"2021-03-24T00:00:00\",\"2021-03-31T00:00:00\",\"2021-04-07T00:00:00\",\"2021-04-14T00:00:00\",\"2021-04-21T00:00:00\",\"2021-04-28T00:00:00\",\"2021-05-05T00:00:00\",\"2021-05-12T00:00:00\",\"2021-05-19T00:00:00\",\"2021-05-26T00:00:00\",\"2021-06-02T00:00:00\",\"2021-06-09T00:00:00\",\"2021-06-16T00:00:00\",\"2021-06-23T00:00:00\",\"2021-06-30T00:00:00\",\"2021-07-07T00:00:00\",\"2021-07-14T00:00:00\",\"2021-07-21T00:00:00\",\"2021-07-28T00:00:00\",\"2021-08-04T00:00:00\",\"2021-08-11T00:00:00\",\"2021-08-18T00:00:00\",\"2021-08-25T00:00:00\",\"2021-09-01T00:00:00\",\"2021-09-08T00:00:00\",\"2021-09-15T00:00:00\",\"2021-09-22T00:00:00\",\"2021-09-29T00:00:00\",\"2021-10-06T00:00:00\",\"2021-10-13T00:00:00\",\"2021-10-20T00:00:00\",\"2021-10-27T00:00:00\",\"2021-11-03T00:00:00\",\"2021-11-10T00:00:00\",\"2021-11-17T00:00:00\",\"2021-11-24T00:00:00\",\"2021-12-01T00:00:00\",\"2021-12-08T00:00:00\",\"2021-12-15T00:00:00\",\"2021-12-22T00:00:00\",\"2021-12-29T00:00:00\",\"2022-01-05T00:00:00\",\"2022-01-12T00:00:00\",\"2022-01-19T00:00:00\",\"2022-01-26T00:00:00\",\"2022-02-02T00:00:00\",\"2022-02-09T00:00:00\",\"2022-02-16T00:00:00\",\"2022-02-23T00:00:00\",\"2022-03-02T00:00:00\",\"2022-03-09T00:00:00\",\"2022-03-16T00:00:00\",\"2022-03-23T00:00:00\",\"2022-03-30T00:00:00\",\"2022-04-06T00:00:00\",\"2022-04-13T00:00:00\",\"2022-04-20T00:00:00\",\"2022-04-27T00:00:00\",\"2022-05-04T00:00:00\",\"2022-05-11T00:00:00\",\"2022-05-18T00:00:00\",\"2022-05-25T00:00:00\",\"2022-06-01T00:00:00\",\"2022-06-08T00:00:00\",\"2022-06-15T00:00:00\",\"2022-06-22T00:00:00\",\"2022-06-29T00:00:00\",\"2022-07-06T00:00:00\",\"2022-07-13T00:00:00\",\"2022-07-20T00:00:00\",\"2022-07-27T00:00:00\",\"2022-08-03T00:00:00\",\"2022-08-10T00:00:00\",\"2022-08-17T00:00:00\",\"2022-08-24T00:00:00\",\"2022-08-31T00:00:00\",\"2022-09-07T00:00:00\",\"2022-09-14T00:00:00\",\"2022-09-21T00:00:00\",\"2022-09-28T00:00:00\",\"2022-10-05T00:00:00\",\"2022-10-12T00:00:00\",\"2022-10-19T00:00:00\",\"2022-10-26T00:00:00\",\"2022-11-02T00:00:00\",\"2022-11-09T00:00:00\",\"2022-11-16T00:00:00\",\"2022-11-23T00:00:00\",\"2022-11-30T00:00:00\",\"2022-12-07T00:00:00\",\"2022-12-14T00:00:00\",\"2022-12-21T00:00:00\",\"2022-12-28T00:00:00\",\"2023-01-04T00:00:00\",\"2023-01-11T00:00:00\",\"2023-01-18T00:00:00\",\"2023-01-25T00:00:00\",\"2023-02-01T00:00:00\",\"2023-02-08T00:00:00\"],\"xaxis\":\"x\",\"y\":[0.0,0.0,0.0,0.0,0.0,0.0,0.0,0.0,1.6094379144341004,4.997212273831683,7.078341579566103,8.417372856136236,9.115809888131048,9.29990681533614,8.97297111339926,8.425954710984158,8.139440521877527,7.926602599184994,7.347943823155126,6.861711340491201,6.689599269191405,6.419994928163429,6.068425588267258,5.981414211279733,6.411818267726318,5.730099783006042,5.323009979187189,5.361292165756374,4.605170186088091,4.234106504742186,4.20469261954022,4.248495242192216,4.248495242192216,3.8501476019228247,4.304065093339305,4.406719247386205,4.1431347265502625,4.521788577157736,4.4886363698444995,4.804021044815224,4.6347289883267235,4.955827057671684,5.278114659281537,4.890349128296942,5.337538079749395,5.093750200868112,5.1179938124766355,5.497168225334185,5.73657229751145,5.703782474689534,6.726233402370737,6.759255270675294,6.907755278992137,7.057036981706505,7.180831199052166,7.127693699355424,7.183870715070039,7.111512116504313,7.0282014320668695,5.918893854300029,7.290974778149798,7.095064377295422,4.5951198502356,0.0,7.527255919379166,6.954638864890529,6.57925121202399,6.504288173551616,6.380122536916715,6.1841488909581015,5.780743515823193,5.356586274719183,5.4595855141867125,4.934473933202634,4.615120516940269,4.1743872700494835,4.672828834555364,4.26267987718216,3.9318256329204044,3.433987204807727,4.025351690913721,4.6347289883267235,5.105945473961187,4.787491742865379,5.556828061738148,5.493061443381701,5.4293456289983,5.484796933532149,5.645446897678573,5.488937726198008,5.023880520912066,5.257495372079865,4.882801922662129,4.997212273831683,4.94875989044909,4.934473933202634,5.153291594555583,4.927253685229669,5.35185813352346,5.424950017525456,5.54907608493413,5.7776523232536166,6.295266001458097,6.975413927465298,7.520234556480047,7.606387389777625,7.535296702449427,7.249215057121496,6.8700534118085095,6.817830571465091,6.075346031111673,5.564520407361008,4.941642422680733,5.365976015068581,3.5835189387338877,3.9318256329204044,3.555348061775128,3.8712010111162245,4.820281565685682,4.442651256607963,4.094344562388767,4.691347882320887,4.852030263997742,5.062595033090258,5.2040066871317405,5.17048399509497,5.3082676974507095,5.068904202283124,4.997212273831683,5.365976015068581,4.927253685229669,5.093750200868112,5.337538079749395,5.634789603204964,5.342334252012658,5.327876168838125,5.384495062834961,5.488937726198008,5.036952602478564,5.455321115400436,5.04985600731364,5.068904202283124,4.934473933202634,4.934473933202634,6.249975242278788,6.042632833706135,3.6375861599895436,4.6347289883267235,5.480638923383658,5.356586274719183,5.739792912211389,5.472270673713491,5.613128106424567,5.4205349993165335,6.040254711301223,5.9454206086327535,5.978885764926439,5.347107530765088,5.948034989206755,0.0],\"yaxis\":\"y\",\"type\":\"scatter\"},{\"hovertemplate\":\"County Name=queens county<br>variable=new_deaths_log_norm<br>date=%{x}<br>value=%{y}<extra></extra>\",\"legendgroup\":\"queens county\",\"line\":{\"color\":\"#EF553B\",\"dash\":\"solid\"},\"marker\":{\"symbol\":\"circle\"},\"mode\":\"lines\",\"name\":\"queens county\",\"orientation\":\"v\",\"showlegend\":true,\"x\":[\"2020-01-22T00:00:00\",\"2020-01-29T00:00:00\",\"2020-02-05T00:00:00\",\"2020-02-12T00:00:00\",\"2020-02-19T00:00:00\",\"2020-02-26T00:00:00\",\"2020-03-04T00:00:00\",\"2020-03-11T00:00:00\",\"2020-03-18T00:00:00\",\"2020-03-25T00:00:00\",\"2020-04-01T00:00:00\",\"2020-04-08T00:00:00\",\"2020-04-15T00:00:00\",\"2020-04-22T00:00:00\",\"2020-04-29T00:00:00\",\"2020-05-06T00:00:00\",\"2020-05-13T00:00:00\",\"2020-05-20T00:00:00\",\"2020-05-27T00:00:00\",\"2020-06-03T00:00:00\",\"2020-06-10T00:00:00\",\"2020-06-17T00:00:00\",\"2020-06-24T00:00:00\",\"2020-07-01T00:00:00\",\"2020-07-08T00:00:00\",\"2020-07-15T00:00:00\",\"2020-07-22T00:00:00\",\"2020-07-29T00:00:00\",\"2020-08-05T00:00:00\",\"2020-08-12T00:00:00\",\"2020-08-19T00:00:00\",\"2020-08-26T00:00:00\",\"2020-09-02T00:00:00\",\"2020-09-09T00:00:00\",\"2020-09-16T00:00:00\",\"2020-09-23T00:00:00\",\"2020-09-30T00:00:00\",\"2020-10-07T00:00:00\",\"2020-10-14T00:00:00\",\"2020-10-21T00:00:00\",\"2020-10-28T00:00:00\",\"2020-11-04T00:00:00\",\"2020-11-11T00:00:00\",\"2020-11-18T00:00:00\",\"2020-11-25T00:00:00\",\"2020-12-02T00:00:00\",\"2020-12-09T00:00:00\",\"2020-12-16T00:00:00\",\"2020-12-23T00:00:00\",\"2020-12-30T00:00:00\",\"2021-01-06T00:00:00\",\"2021-01-13T00:00:00\",\"2021-01-20T00:00:00\",\"2021-01-27T00:00:00\",\"2021-02-03T00:00:00\",\"2021-02-10T00:00:00\",\"2021-02-17T00:00:00\",\"2021-02-24T00:00:00\",\"2021-03-03T00:00:00\",\"2021-03-10T00:00:00\",\"2021-03-17T00:00:00\",\"2021-03-24T00:00:00\",\"2021-03-31T00:00:00\",\"2021-04-07T00:00:00\",\"2021-04-14T00:00:00\",\"2021-04-21T00:00:00\",\"2021-04-28T00:00:00\",\"2021-05-05T00:00:00\",\"2021-05-12T00:00:00\",\"2021-05-19T00:00:00\",\"2021-05-26T00:00:00\",\"2021-06-02T00:00:00\",\"2021-06-09T00:00:00\",\"2021-06-16T00:00:00\",\"2021-06-23T00:00:00\",\"2021-06-30T00:00:00\",\"2021-07-07T00:00:00\",\"2021-07-14T00:00:00\",\"2021-07-21T00:00:00\",\"2021-07-28T00:00:00\",\"2021-08-04T00:00:00\",\"2021-08-11T00:00:00\",\"2021-08-18T00:00:00\",\"2021-08-25T00:00:00\",\"2021-09-01T00:00:00\",\"2021-09-08T00:00:00\",\"2021-09-15T00:00:00\",\"2021-09-22T00:00:00\",\"2021-09-29T00:00:00\",\"2021-10-06T00:00:00\",\"2021-10-13T00:00:00\",\"2021-10-20T00:00:00\",\"2021-10-27T00:00:00\",\"2021-11-03T00:00:00\",\"2021-11-10T00:00:00\",\"2021-11-17T00:00:00\",\"2021-11-24T00:00:00\",\"2021-12-01T00:00:00\",\"2021-12-08T00:00:00\",\"2021-12-15T00:00:00\",\"2021-12-22T00:00:00\",\"2021-12-29T00:00:00\",\"2022-01-05T00:00:00\",\"2022-01-12T00:00:00\",\"2022-01-19T00:00:00\",\"2022-01-26T00:00:00\",\"2022-02-02T00:00:00\",\"2022-02-09T00:00:00\",\"2022-02-16T00:00:00\",\"2022-02-23T00:00:00\",\"2022-03-02T00:00:00\",\"2022-03-09T00:00:00\",\"2022-03-16T00:00:00\",\"2022-03-23T00:00:00\",\"2022-03-30T00:00:00\",\"2022-04-06T00:00:00\",\"2022-04-13T00:00:00\",\"2022-04-20T00:00:00\",\"2022-04-27T00:00:00\",\"2022-05-04T00:00:00\",\"2022-05-11T00:00:00\",\"2022-05-18T00:00:00\",\"2022-05-25T00:00:00\",\"2022-06-01T00:00:00\",\"2022-06-08T00:00:00\",\"2022-06-15T00:00:00\",\"2022-06-22T00:00:00\",\"2022-06-29T00:00:00\",\"2022-07-06T00:00:00\",\"2022-07-13T00:00:00\",\"2022-07-20T00:00:00\",\"2022-07-27T00:00:00\",\"2022-08-03T00:00:00\",\"2022-08-10T00:00:00\",\"2022-08-17T00:00:00\",\"2022-08-24T00:00:00\",\"2022-08-31T00:00:00\",\"2022-09-07T00:00:00\",\"2022-09-14T00:00:00\",\"2022-09-21T00:00:00\",\"2022-09-28T00:00:00\",\"2022-10-05T00:00:00\",\"2022-10-12T00:00:00\",\"2022-10-19T00:00:00\",\"2022-10-26T00:00:00\",\"2022-11-02T00:00:00\",\"2022-11-09T00:00:00\",\"2022-11-16T00:00:00\",\"2022-11-23T00:00:00\",\"2022-11-30T00:00:00\",\"2022-12-07T00:00:00\",\"2022-12-14T00:00:00\",\"2022-12-21T00:00:00\",\"2022-12-28T00:00:00\",\"2023-01-04T00:00:00\",\"2023-01-11T00:00:00\",\"2023-01-18T00:00:00\",\"2023-01-25T00:00:00\",\"2023-02-01T00:00:00\",\"2023-02-08T00:00:00\"],\"xaxis\":\"x\",\"y\":[0.0,0.0,0.0,0.0,0.0,0.0,0.0,0.0,0.0,5.361292165756374,7.412764017432598,8.327967858307906,9.105090961258197,9.237177025930716,8.878915376577876,8.377011160818675,8.04526771661101,7.378383713002961,7.170119543457321,6.782192056018129,6.625392368021219,6.439350371116073,6.270988431877203,7.303843225284434,7.8042513835321925,5.153291594555583,5.347107530765088,5.327876168838125,4.787491742865379,4.653960350252762,4.521788577157736,3.784189634145534,3.912023005628146,4.127134385206382,1.6094379144341004,4.304065093339305,3.8501476019228247,4.672828834555364,4.5108595066267405,4.077537444075211,3.6635616463860567,3.555348061775128,4.219507705323165,4.700480365883325,4.779123493195563,4.736198448482215,4.94875989044909,5.442417710565084,5.765191102816193,5.568344503799265,6.368187186367645,6.539585955632121,7.029972911715236,7.003974136731762,7.0379059634559615,7.090076835784425,7.0290875641585195,7.022868086091554,6.879355804470727,6.902742737168643,6.76272950694344,6.595780513974972,6.655440350380517,6.6174029779878465,6.295266001458097,6.22059017011962,6.381816017423018,6.505784060143176,6.113682179854355,5.966146739149333,5.583496308819293,5.416100402248865,4.8978398000255385,4.969813299645445,4.5643481915720026,3.3672958303313014,4.110873864337246,3.9318256329204044,3.9889840467494597,4.691347882320887,3.9702919137408013,3.8712010111162245,4.521788577157736,4.248495242192216,4.753590191192571,4.744932128450206,4.97673374248954,5.14166355656114,5.564520407361008,5.910796644067627,5.062595033090258,5.402677381917324,4.890349128296942,4.882801922662129,5.7493929859401005,4.8751973232774874,4.356708826817797,4.812184355453718,5.147494476871593,5.036952602478564,5.04985600731364,5.278114659281537,6.115892125505109,6.5889264775472745,7.212294468507715,7.334329350307064,7.3198649298155924,7.096721378503038,6.67834211466691,6.403574197951372,6.045005314059709,5.659482215794465,4.836281907030843,4.94875989044909,4.6347289883267235,4.762173934883226,3.912023005628146,4.454347296369787,3.5835189387338877,3.912023005628146,3.71357206694821,4.060443010718833,4.382026634798882,4.828313737382301,4.753590191192571,4.6347289883267235,5.093750200868112,4.7957905456793855,4.927253685229669,4.770684624550411,4.7095302014024245,5.176149732630327,5.393627546397816,5.587248658437702,5.433722003597908,5.472270673713491,5.198497031321074,4.955827057671684,4.644390899237527,5.176149732630327,5.087596335294113,6.023447592985246,5.062595033090258,5.370638028174175,6.863803391463404,7.160069207603897,4.394449154795895,4.941642422680733,5.655991810854817,5.7776523232536166,5.323009979187189,5.337538079749395,5.683579767372695,5.814130531854917,5.85220247980321,5.793013608414632,5.886104031477934,5.225746673766965,5.509388336668463,0.0],\"yaxis\":\"y\",\"type\":\"scatter\"},{\"hovertemplate\":\"County Name=suffolk county<br>variable=new_deaths_log_norm<br>date=%{x}<br>value=%{y}<extra></extra>\",\"legendgroup\":\"suffolk county\",\"line\":{\"color\":\"#00cc96\",\"dash\":\"solid\"},\"marker\":{\"symbol\":\"circle\"},\"mode\":\"lines\",\"name\":\"suffolk county\",\"orientation\":\"v\",\"showlegend\":true,\"x\":[\"2020-01-22T00:00:00\",\"2020-01-29T00:00:00\",\"2020-02-05T00:00:00\",\"2020-02-12T00:00:00\",\"2020-02-19T00:00:00\",\"2020-02-26T00:00:00\",\"2020-03-04T00:00:00\",\"2020-03-11T00:00:00\",\"2020-03-18T00:00:00\",\"2020-03-25T00:00:00\",\"2020-04-01T00:00:00\",\"2020-04-08T00:00:00\",\"2020-04-15T00:00:00\",\"2020-04-22T00:00:00\",\"2020-04-29T00:00:00\",\"2020-05-06T00:00:00\",\"2020-05-13T00:00:00\",\"2020-05-20T00:00:00\",\"2020-05-27T00:00:00\",\"2020-06-03T00:00:00\",\"2020-06-10T00:00:00\",\"2020-06-17T00:00:00\",\"2020-06-24T00:00:00\",\"2020-07-01T00:00:00\",\"2020-07-08T00:00:00\",\"2020-07-15T00:00:00\",\"2020-07-22T00:00:00\",\"2020-07-29T00:00:00\",\"2020-08-05T00:00:00\",\"2020-08-12T00:00:00\",\"2020-08-19T00:00:00\",\"2020-08-26T00:00:00\",\"2020-09-02T00:00:00\",\"2020-09-09T00:00:00\",\"2020-09-16T00:00:00\",\"2020-09-23T00:00:00\",\"2020-09-30T00:00:00\",\"2020-10-07T00:00:00\",\"2020-10-14T00:00:00\",\"2020-10-21T00:00:00\",\"2020-10-28T00:00:00\",\"2020-11-04T00:00:00\",\"2020-11-11T00:00:00\",\"2020-11-18T00:00:00\",\"2020-11-25T00:00:00\",\"2020-12-02T00:00:00\",\"2020-12-09T00:00:00\",\"2020-12-16T00:00:00\",\"2020-12-23T00:00:00\",\"2020-12-30T00:00:00\",\"2021-01-06T00:00:00\",\"2021-01-13T00:00:00\",\"2021-01-20T00:00:00\",\"2021-01-27T00:00:00\",\"2021-02-03T00:00:00\",\"2021-02-10T00:00:00\",\"2021-02-17T00:00:00\",\"2021-02-24T00:00:00\",\"2021-03-03T00:00:00\",\"2021-03-10T00:00:00\",\"2021-03-17T00:00:00\",\"2021-03-24T00:00:00\",\"2021-03-31T00:00:00\",\"2021-04-07T00:00:00\",\"2021-04-14T00:00:00\",\"2021-04-21T00:00:00\",\"2021-04-28T00:00:00\",\"2021-05-05T00:00:00\",\"2021-05-12T00:00:00\",\"2021-05-19T00:00:00\",\"2021-05-26T00:00:00\",\"2021-06-02T00:00:00\",\"2021-06-09T00:00:00\",\"2021-06-16T00:00:00\",\"2021-06-23T00:00:00\",\"2021-06-30T00:00:00\",\"2021-07-07T00:00:00\",\"2021-07-14T00:00:00\",\"2021-07-21T00:00:00\",\"2021-07-28T00:00:00\",\"2021-08-04T00:00:00\",\"2021-08-11T00:00:00\",\"2021-08-18T00:00:00\",\"2021-08-25T00:00:00\",\"2021-09-01T00:00:00\",\"2021-09-08T00:00:00\",\"2021-09-15T00:00:00\",\"2021-09-22T00:00:00\",\"2021-09-29T00:00:00\",\"2021-10-06T00:00:00\",\"2021-10-13T00:00:00\",\"2021-10-20T00:00:00\",\"2021-10-27T00:00:00\",\"2021-11-03T00:00:00\",\"2021-11-10T00:00:00\",\"2021-11-17T00:00:00\",\"2021-11-24T00:00:00\",\"2021-12-01T00:00:00\",\"2021-12-08T00:00:00\",\"2021-12-15T00:00:00\",\"2021-12-22T00:00:00\",\"2021-12-29T00:00:00\",\"2022-01-05T00:00:00\",\"2022-01-12T00:00:00\",\"2022-01-19T00:00:00\",\"2022-01-26T00:00:00\",\"2022-02-02T00:00:00\",\"2022-02-09T00:00:00\",\"2022-02-16T00:00:00\",\"2022-02-23T00:00:00\",\"2022-03-02T00:00:00\",\"2022-03-09T00:00:00\",\"2022-03-16T00:00:00\",\"2022-03-23T00:00:00\",\"2022-03-30T00:00:00\",\"2022-04-06T00:00:00\",\"2022-04-13T00:00:00\",\"2022-04-20T00:00:00\",\"2022-04-27T00:00:00\",\"2022-05-04T00:00:00\",\"2022-05-11T00:00:00\",\"2022-05-18T00:00:00\",\"2022-05-25T00:00:00\",\"2022-06-01T00:00:00\",\"2022-06-08T00:00:00\",\"2022-06-15T00:00:00\",\"2022-06-22T00:00:00\",\"2022-06-29T00:00:00\",\"2022-07-06T00:00:00\",\"2022-07-13T00:00:00\",\"2022-07-20T00:00:00\",\"2022-07-27T00:00:00\",\"2022-08-03T00:00:00\",\"2022-08-10T00:00:00\",\"2022-08-17T00:00:00\",\"2022-08-24T00:00:00\",\"2022-08-31T00:00:00\",\"2022-09-07T00:00:00\",\"2022-09-14T00:00:00\",\"2022-09-21T00:00:00\",\"2022-09-28T00:00:00\",\"2022-10-05T00:00:00\",\"2022-10-12T00:00:00\",\"2022-10-19T00:00:00\",\"2022-10-26T00:00:00\",\"2022-11-02T00:00:00\",\"2022-11-09T00:00:00\",\"2022-11-16T00:00:00\",\"2022-11-23T00:00:00\",\"2022-11-30T00:00:00\",\"2022-12-07T00:00:00\",\"2022-12-14T00:00:00\",\"2022-12-21T00:00:00\",\"2022-12-28T00:00:00\",\"2023-01-04T00:00:00\",\"2023-01-11T00:00:00\",\"2023-01-18T00:00:00\",\"2023-01-25T00:00:00\",\"2023-02-01T00:00:00\",\"2023-02-08T00:00:00\"],\"xaxis\":\"x\",\"y\":[0.0,0.0,0.0,0.0,0.0,0.0,0.0,0.0,1.9459101504838847,3.8501476019228247,5.484796933532149,6.963189985879699,7.712443834279462,7.595387278859,7.536363938409845,7.314552832330738,7.761319180952246,6.80461452007371,6.429719478055266,6.025865973849469,5.579729826023958,5.023880520912066,4.6249728133823105,4.499809670441376,3.555348061775128,4.18965474217794,2.1972245784473308,2.6390573303295444,1.9459101504838847,2.079441542929836,1.6094379144341004,2.6390573303295444,2.079441542929836,3.2958368663746995,3.0910424538128614,2.944438979692756,2.5649493582307676,2.5649493582307676,2.079441542929836,2.3978952737074617,1.9459101504838847,2.4849066506213338,2.302585093994046,3.1354942163639326,4.060443010718833,4.770684624550411,5.225746673766965,5.59098698054817,5.843544417060345,6.398594934551847,6.476972362905068,6.65286302936625,6.736966958013718,6.706862336614972,6.562444093707844,6.368187186367645,6.3243589623992325,6.206575926745089,5.899897353609889,5.720311776640199,5.575949103184195,5.655991810854817,5.416100402248865,5.545177444518625,5.176149732630327,4.941642422680733,4.941642422680733,4.7957905456793855,4.804021044815224,4.276666119154944,3.8712010111162245,3.3672958303313014,3.4965075617695107,3.2958368663746995,2.079441542929836,2.1972245784473308,3.0910424538128614,2.708050201768877,1.3862943636198906,2.6390573303295444,3.1354942163639326,3.2580965384060976,4.219507705323165,4.5849674787726125,4.4886363698444995,4.71849887138438,4.882801922662129,4.882801922662129,4.812184355453718,4.8675344505325056,5.0562458054120025,5.257495372079865,4.912654885809581,4.6347289883267235,4.644390899237527,4.499809670441376,4.5951198502356,4.1431347265502625,4.955827057671684,4.727387818800836,5.3082676974507095,5.433722003597908,5.789960170927834,6.4441312567163385,6.529418838276824,6.602587892202905,6.300785794681593,6.609349243180858,0.0,5.3082676974507095,4.672828834555364,3.951243718773735,4.18965474217794,3.2188758252682006,2.708050201768877,3.6635616463860567,2.89037175845172,2.995732274053991,3.806662489992542,3.6888794543639363,3.9889840467494597,4.521788577157736,4.5108595066267405,4.615120516940269,4.6347289883267235,4.543294782376387,3.555348061775128,4.465908118769526,3.9318256329204044,3.71357206694821,3.610917912914495,4.369447852593604,4.382026634798882,3.891820298314708,4.18965474217794,4.26267987718216,4.219507705323165,4.3174881136696435,4.5849674787726125,4.3174881136696435,4.343805421983554,3.784189634145534,4.060443010718833,4.727387818800836,4.653960350252762,4.744932128450206,4.248495242192216,0.0,6.993932975232363,4.5951198502356,4.343805421983554,4.8978398000255385,5.342334252012658,4.955827057671684,5.257495372079865,5.2040066871317405,4.8675344505325056,5.123963979462783,4.71849887138438,0.0],\"yaxis\":\"y\",\"type\":\"scatter\"}],                        {\"template\":{\"data\":{\"histogram2dcontour\":[{\"type\":\"histogram2dcontour\",\"colorbar\":{\"outlinewidth\":0,\"ticks\":\"\"},\"colorscale\":[[0.0,\"#0d0887\"],[0.1111111111111111,\"#46039f\"],[0.2222222222222222,\"#7201a8\"],[0.3333333333333333,\"#9c179e\"],[0.4444444444444444,\"#bd3786\"],[0.5555555555555556,\"#d8576b\"],[0.6666666666666666,\"#ed7953\"],[0.7777777777777778,\"#fb9f3a\"],[0.8888888888888888,\"#fdca26\"],[1.0,\"#f0f921\"]]}],\"choropleth\":[{\"type\":\"choropleth\",\"colorbar\":{\"outlinewidth\":0,\"ticks\":\"\"}}],\"histogram2d\":[{\"type\":\"histogram2d\",\"colorbar\":{\"outlinewidth\":0,\"ticks\":\"\"},\"colorscale\":[[0.0,\"#0d0887\"],[0.1111111111111111,\"#46039f\"],[0.2222222222222222,\"#7201a8\"],[0.3333333333333333,\"#9c179e\"],[0.4444444444444444,\"#bd3786\"],[0.5555555555555556,\"#d8576b\"],[0.6666666666666666,\"#ed7953\"],[0.7777777777777778,\"#fb9f3a\"],[0.8888888888888888,\"#fdca26\"],[1.0,\"#f0f921\"]]}],\"heatmap\":[{\"type\":\"heatmap\",\"colorbar\":{\"outlinewidth\":0,\"ticks\":\"\"},\"colorscale\":[[0.0,\"#0d0887\"],[0.1111111111111111,\"#46039f\"],[0.2222222222222222,\"#7201a8\"],[0.3333333333333333,\"#9c179e\"],[0.4444444444444444,\"#bd3786\"],[0.5555555555555556,\"#d8576b\"],[0.6666666666666666,\"#ed7953\"],[0.7777777777777778,\"#fb9f3a\"],[0.8888888888888888,\"#fdca26\"],[1.0,\"#f0f921\"]]}],\"heatmapgl\":[{\"type\":\"heatmapgl\",\"colorbar\":{\"outlinewidth\":0,\"ticks\":\"\"},\"colorscale\":[[0.0,\"#0d0887\"],[0.1111111111111111,\"#46039f\"],[0.2222222222222222,\"#7201a8\"],[0.3333333333333333,\"#9c179e\"],[0.4444444444444444,\"#bd3786\"],[0.5555555555555556,\"#d8576b\"],[0.6666666666666666,\"#ed7953\"],[0.7777777777777778,\"#fb9f3a\"],[0.8888888888888888,\"#fdca26\"],[1.0,\"#f0f921\"]]}],\"contourcarpet\":[{\"type\":\"contourcarpet\",\"colorbar\":{\"outlinewidth\":0,\"ticks\":\"\"}}],\"contour\":[{\"type\":\"contour\",\"colorbar\":{\"outlinewidth\":0,\"ticks\":\"\"},\"colorscale\":[[0.0,\"#0d0887\"],[0.1111111111111111,\"#46039f\"],[0.2222222222222222,\"#7201a8\"],[0.3333333333333333,\"#9c179e\"],[0.4444444444444444,\"#bd3786\"],[0.5555555555555556,\"#d8576b\"],[0.6666666666666666,\"#ed7953\"],[0.7777777777777778,\"#fb9f3a\"],[0.8888888888888888,\"#fdca26\"],[1.0,\"#f0f921\"]]}],\"surface\":[{\"type\":\"surface\",\"colorbar\":{\"outlinewidth\":0,\"ticks\":\"\"},\"colorscale\":[[0.0,\"#0d0887\"],[0.1111111111111111,\"#46039f\"],[0.2222222222222222,\"#7201a8\"],[0.3333333333333333,\"#9c179e\"],[0.4444444444444444,\"#bd3786\"],[0.5555555555555556,\"#d8576b\"],[0.6666666666666666,\"#ed7953\"],[0.7777777777777778,\"#fb9f3a\"],[0.8888888888888888,\"#fdca26\"],[1.0,\"#f0f921\"]]}],\"mesh3d\":[{\"type\":\"mesh3d\",\"colorbar\":{\"outlinewidth\":0,\"ticks\":\"\"}}],\"scatter\":[{\"fillpattern\":{\"fillmode\":\"overlay\",\"size\":10,\"solidity\":0.2},\"type\":\"scatter\"}],\"parcoords\":[{\"type\":\"parcoords\",\"line\":{\"colorbar\":{\"outlinewidth\":0,\"ticks\":\"\"}}}],\"scatterpolargl\":[{\"type\":\"scatterpolargl\",\"marker\":{\"colorbar\":{\"outlinewidth\":0,\"ticks\":\"\"}}}],\"bar\":[{\"error_x\":{\"color\":\"#2a3f5f\"},\"error_y\":{\"color\":\"#2a3f5f\"},\"marker\":{\"line\":{\"color\":\"#E5ECF6\",\"width\":0.5},\"pattern\":{\"fillmode\":\"overlay\",\"size\":10,\"solidity\":0.2}},\"type\":\"bar\"}],\"scattergeo\":[{\"type\":\"scattergeo\",\"marker\":{\"colorbar\":{\"outlinewidth\":0,\"ticks\":\"\"}}}],\"scatterpolar\":[{\"type\":\"scatterpolar\",\"marker\":{\"colorbar\":{\"outlinewidth\":0,\"ticks\":\"\"}}}],\"histogram\":[{\"marker\":{\"pattern\":{\"fillmode\":\"overlay\",\"size\":10,\"solidity\":0.2}},\"type\":\"histogram\"}],\"scattergl\":[{\"type\":\"scattergl\",\"marker\":{\"colorbar\":{\"outlinewidth\":0,\"ticks\":\"\"}}}],\"scatter3d\":[{\"type\":\"scatter3d\",\"line\":{\"colorbar\":{\"outlinewidth\":0,\"ticks\":\"\"}},\"marker\":{\"colorbar\":{\"outlinewidth\":0,\"ticks\":\"\"}}}],\"scattermapbox\":[{\"type\":\"scattermapbox\",\"marker\":{\"colorbar\":{\"outlinewidth\":0,\"ticks\":\"\"}}}],\"scatterternary\":[{\"type\":\"scatterternary\",\"marker\":{\"colorbar\":{\"outlinewidth\":0,\"ticks\":\"\"}}}],\"scattercarpet\":[{\"type\":\"scattercarpet\",\"marker\":{\"colorbar\":{\"outlinewidth\":0,\"ticks\":\"\"}}}],\"carpet\":[{\"aaxis\":{\"endlinecolor\":\"#2a3f5f\",\"gridcolor\":\"white\",\"linecolor\":\"white\",\"minorgridcolor\":\"white\",\"startlinecolor\":\"#2a3f5f\"},\"baxis\":{\"endlinecolor\":\"#2a3f5f\",\"gridcolor\":\"white\",\"linecolor\":\"white\",\"minorgridcolor\":\"white\",\"startlinecolor\":\"#2a3f5f\"},\"type\":\"carpet\"}],\"table\":[{\"cells\":{\"fill\":{\"color\":\"#EBF0F8\"},\"line\":{\"color\":\"white\"}},\"header\":{\"fill\":{\"color\":\"#C8D4E3\"},\"line\":{\"color\":\"white\"}},\"type\":\"table\"}],\"barpolar\":[{\"marker\":{\"line\":{\"color\":\"#E5ECF6\",\"width\":0.5},\"pattern\":{\"fillmode\":\"overlay\",\"size\":10,\"solidity\":0.2}},\"type\":\"barpolar\"}],\"pie\":[{\"automargin\":true,\"type\":\"pie\"}]},\"layout\":{\"autotypenumbers\":\"strict\",\"colorway\":[\"#636efa\",\"#EF553B\",\"#00cc96\",\"#ab63fa\",\"#FFA15A\",\"#19d3f3\",\"#FF6692\",\"#B6E880\",\"#FF97FF\",\"#FECB52\"],\"font\":{\"color\":\"#2a3f5f\"},\"hovermode\":\"closest\",\"hoverlabel\":{\"align\":\"left\"},\"paper_bgcolor\":\"white\",\"plot_bgcolor\":\"#E5ECF6\",\"polar\":{\"bgcolor\":\"#E5ECF6\",\"angularaxis\":{\"gridcolor\":\"white\",\"linecolor\":\"white\",\"ticks\":\"\"},\"radialaxis\":{\"gridcolor\":\"white\",\"linecolor\":\"white\",\"ticks\":\"\"}},\"ternary\":{\"bgcolor\":\"#E5ECF6\",\"aaxis\":{\"gridcolor\":\"white\",\"linecolor\":\"white\",\"ticks\":\"\"},\"baxis\":{\"gridcolor\":\"white\",\"linecolor\":\"white\",\"ticks\":\"\"},\"caxis\":{\"gridcolor\":\"white\",\"linecolor\":\"white\",\"ticks\":\"\"}},\"coloraxis\":{\"colorbar\":{\"outlinewidth\":0,\"ticks\":\"\"}},\"colorscale\":{\"sequential\":[[0.0,\"#0d0887\"],[0.1111111111111111,\"#46039f\"],[0.2222222222222222,\"#7201a8\"],[0.3333333333333333,\"#9c179e\"],[0.4444444444444444,\"#bd3786\"],[0.5555555555555556,\"#d8576b\"],[0.6666666666666666,\"#ed7953\"],[0.7777777777777778,\"#fb9f3a\"],[0.8888888888888888,\"#fdca26\"],[1.0,\"#f0f921\"]],\"sequentialminus\":[[0.0,\"#0d0887\"],[0.1111111111111111,\"#46039f\"],[0.2222222222222222,\"#7201a8\"],[0.3333333333333333,\"#9c179e\"],[0.4444444444444444,\"#bd3786\"],[0.5555555555555556,\"#d8576b\"],[0.6666666666666666,\"#ed7953\"],[0.7777777777777778,\"#fb9f3a\"],[0.8888888888888888,\"#fdca26\"],[1.0,\"#f0f921\"]],\"diverging\":[[0,\"#8e0152\"],[0.1,\"#c51b7d\"],[0.2,\"#de77ae\"],[0.3,\"#f1b6da\"],[0.4,\"#fde0ef\"],[0.5,\"#f7f7f7\"],[0.6,\"#e6f5d0\"],[0.7,\"#b8e186\"],[0.8,\"#7fbc41\"],[0.9,\"#4d9221\"],[1,\"#276419\"]]},\"xaxis\":{\"gridcolor\":\"white\",\"linecolor\":\"white\",\"ticks\":\"\",\"title\":{\"standoff\":15},\"zerolinecolor\":\"white\",\"automargin\":true,\"zerolinewidth\":2},\"yaxis\":{\"gridcolor\":\"white\",\"linecolor\":\"white\",\"ticks\":\"\",\"title\":{\"standoff\":15},\"zerolinecolor\":\"white\",\"automargin\":true,\"zerolinewidth\":2},\"scene\":{\"xaxis\":{\"backgroundcolor\":\"#E5ECF6\",\"gridcolor\":\"white\",\"linecolor\":\"white\",\"showbackground\":true,\"ticks\":\"\",\"zerolinecolor\":\"white\",\"gridwidth\":2},\"yaxis\":{\"backgroundcolor\":\"#E5ECF6\",\"gridcolor\":\"white\",\"linecolor\":\"white\",\"showbackground\":true,\"ticks\":\"\",\"zerolinecolor\":\"white\",\"gridwidth\":2},\"zaxis\":{\"backgroundcolor\":\"#E5ECF6\",\"gridcolor\":\"white\",\"linecolor\":\"white\",\"showbackground\":true,\"ticks\":\"\",\"zerolinecolor\":\"white\",\"gridwidth\":2}},\"shapedefaults\":{\"line\":{\"color\":\"#2a3f5f\"}},\"annotationdefaults\":{\"arrowcolor\":\"#2a3f5f\",\"arrowhead\":0,\"arrowwidth\":1},\"geo\":{\"bgcolor\":\"white\",\"landcolor\":\"#E5ECF6\",\"subunitcolor\":\"white\",\"showland\":true,\"showlakes\":true,\"lakecolor\":\"white\"},\"title\":{\"x\":0.05},\"mapbox\":{\"style\":\"light\"}}},\"xaxis\":{\"anchor\":\"y\",\"domain\":[0.0,1.0],\"title\":{\"text\":\"date\"}},\"yaxis\":{\"anchor\":\"x\",\"domain\":[0.0,1.0],\"title\":{\"text\":\"value\"}},\"legend\":{\"title\":{\"text\":\"County Name\"},\"tracegroupgap\":0},\"title\":{\"text\":\"Top 3 counties with deaths(log normalized values)\"}},                        {\"responsive\": true}                    ).then(function(){\n",
       "                            \n",
       "var gd = document.getElementById('8b3bd42a-aa60-48f0-bfea-ccc118021aa9');\n",
       "var x = new MutationObserver(function (mutations, observer) {{\n",
       "        var display = window.getComputedStyle(gd).display;\n",
       "        if (!display || display === 'none') {{\n",
       "            console.log([gd, 'removed!']);\n",
       "            Plotly.purge(gd);\n",
       "            observer.disconnect();\n",
       "        }}\n",
       "}});\n",
       "\n",
       "// Listen for the removal of the full notebook cells\n",
       "var notebookContainer = gd.closest('#notebook-container');\n",
       "if (notebookContainer) {{\n",
       "    x.observe(notebookContainer, {childList: true});\n",
       "}}\n",
       "\n",
       "// Listen for the clearing of the current output cell\n",
       "var outputEl = gd.closest('.output');\n",
       "if (outputEl) {{\n",
       "    x.observe(outputEl, {childList: true});\n",
       "}}\n",
       "\n",
       "                        })                };                });            </script>        </div>"
      ]
     },
     "metadata": {},
     "output_type": "display_data"
    }
   ],
   "source": [
    "deaths_log_values = px.line(counties_weekly, x = 'date', y = ['new_deaths_log_norm'], color='County Name', title=\"Top 3 counties with deaths(log normalized values)\")\n",
    "deaths_log_values.show()"
   ]
  },
  {
   "cell_type": "markdown",
   "id": "78727072",
   "metadata": {},
   "source": [
    "From the plots we understand that, the cases and deaths plot of log normalized values looks more symmetrical and peaks are more clear allowing us to understand the distribution more clear. When compared to all of NY plot above, these counties follow the same pattern."
   ]
  }
 ],
 "metadata": {
  "kernelspec": {
   "display_name": "Python 3 (ipykernel)",
   "language": "python",
   "name": "python3"
  },
  "language_info": {
   "codemirror_mode": {
    "name": "ipython",
    "version": 3
   },
   "file_extension": ".py",
   "mimetype": "text/x-python",
   "name": "python",
   "nbconvert_exporter": "python",
   "pygments_lexer": "ipython3",
   "version": "3.9.13"
  }
 },
 "nbformat": 4,
 "nbformat_minor": 5
}

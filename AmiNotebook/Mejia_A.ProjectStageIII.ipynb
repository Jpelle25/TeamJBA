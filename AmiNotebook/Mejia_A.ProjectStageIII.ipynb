{
 "cells": [
  {
   "cell_type": "code",
   "execution_count": 1,
   "id": "86a84202",
   "metadata": {},
   "outputs": [],
   "source": [
    "import pandas as pd\n",
    "import numpy as np\n",
    "import matplotlib.pyplot as plt\n",
    "import seaborn as sns"
   ]
  },
  {
   "cell_type": "code",
   "execution_count": 2,
   "id": "711ef260",
   "metadata": {},
   "outputs": [],
   "source": [
    "superdata = pd.read_csv('covid19_superdata.csv')"
   ]
  },
  {
   "cell_type": "code",
   "execution_count": 3,
   "id": "c4ef785a",
   "metadata": {},
   "outputs": [],
   "source": [
    "df = pd.concat([superdata.iloc[:, 0:4],superdata.iloc[:,865:1079], \n",
    "                superdata.iloc[:,1976:2190],\n",
    "               superdata.iloc[:, -1]], axis=1)"
   ]
  },
  {
   "cell_type": "code",
   "execution_count": 4,
   "id": "5fa28a6d",
   "metadata": {},
   "outputs": [
    {
     "data": {
      "text/html": [
       "<div>\n",
       "<style scoped>\n",
       "    .dataframe tbody tr th:only-of-type {\n",
       "        vertical-align: middle;\n",
       "    }\n",
       "\n",
       "    .dataframe tbody tr th {\n",
       "        vertical-align: top;\n",
       "    }\n",
       "\n",
       "    .dataframe thead th {\n",
       "        text-align: right;\n",
       "    }\n",
       "</style>\n",
       "<table border=\"1\" class=\"dataframe\">\n",
       "  <thead>\n",
       "    <tr style=\"text-align: right;\">\n",
       "      <th></th>\n",
       "      <th>countyFIPS</th>\n",
       "      <th>County Name</th>\n",
       "      <th>State</th>\n",
       "      <th>StateFIPS</th>\n",
       "      <th>2022-06-01_x</th>\n",
       "      <th>2022-06-02_x</th>\n",
       "      <th>2022-06-03_x</th>\n",
       "      <th>2022-06-04_x</th>\n",
       "      <th>2022-06-05_x</th>\n",
       "      <th>2022-06-06_x</th>\n",
       "      <th>...</th>\n",
       "      <th>2022-12-23_y</th>\n",
       "      <th>2022-12-24_y</th>\n",
       "      <th>2022-12-25_y</th>\n",
       "      <th>2022-12-26_y</th>\n",
       "      <th>2022-12-27_y</th>\n",
       "      <th>2022-12-28_y</th>\n",
       "      <th>2022-12-29_y</th>\n",
       "      <th>2022-12-30_y</th>\n",
       "      <th>2022-12-31_y</th>\n",
       "      <th>population</th>\n",
       "    </tr>\n",
       "  </thead>\n",
       "  <tbody>\n",
       "    <tr>\n",
       "      <th>0</th>\n",
       "      <td>0</td>\n",
       "      <td>statewide unallocated</td>\n",
       "      <td>AL</td>\n",
       "      <td>1</td>\n",
       "      <td>0</td>\n",
       "      <td>0</td>\n",
       "      <td>0</td>\n",
       "      <td>0</td>\n",
       "      <td>0</td>\n",
       "      <td>0</td>\n",
       "      <td>...</td>\n",
       "      <td>0</td>\n",
       "      <td>0</td>\n",
       "      <td>0</td>\n",
       "      <td>0</td>\n",
       "      <td>0</td>\n",
       "      <td>0</td>\n",
       "      <td>0</td>\n",
       "      <td>0</td>\n",
       "      <td>0</td>\n",
       "      <td>0</td>\n",
       "    </tr>\n",
       "    <tr>\n",
       "      <th>1</th>\n",
       "      <td>1001</td>\n",
       "      <td>autauga county</td>\n",
       "      <td>AL</td>\n",
       "      <td>1</td>\n",
       "      <td>15969</td>\n",
       "      <td>15978</td>\n",
       "      <td>15978</td>\n",
       "      <td>15978</td>\n",
       "      <td>15978</td>\n",
       "      <td>16032</td>\n",
       "      <td>...</td>\n",
       "      <td>230</td>\n",
       "      <td>230</td>\n",
       "      <td>230</td>\n",
       "      <td>230</td>\n",
       "      <td>230</td>\n",
       "      <td>230</td>\n",
       "      <td>230</td>\n",
       "      <td>230</td>\n",
       "      <td>230</td>\n",
       "      <td>55869</td>\n",
       "    </tr>\n",
       "    <tr>\n",
       "      <th>2</th>\n",
       "      <td>1003</td>\n",
       "      <td>baldwin county</td>\n",
       "      <td>AL</td>\n",
       "      <td>1</td>\n",
       "      <td>56580</td>\n",
       "      <td>56648</td>\n",
       "      <td>56648</td>\n",
       "      <td>56648</td>\n",
       "      <td>56648</td>\n",
       "      <td>56895</td>\n",
       "      <td>...</td>\n",
       "      <td>719</td>\n",
       "      <td>719</td>\n",
       "      <td>719</td>\n",
       "      <td>719</td>\n",
       "      <td>719</td>\n",
       "      <td>719</td>\n",
       "      <td>719</td>\n",
       "      <td>719</td>\n",
       "      <td>719</td>\n",
       "      <td>223234</td>\n",
       "    </tr>\n",
       "    <tr>\n",
       "      <th>3</th>\n",
       "      <td>1005</td>\n",
       "      <td>barbour county</td>\n",
       "      <td>AL</td>\n",
       "      <td>1</td>\n",
       "      <td>5710</td>\n",
       "      <td>5714</td>\n",
       "      <td>5714</td>\n",
       "      <td>5714</td>\n",
       "      <td>5714</td>\n",
       "      <td>5719</td>\n",
       "      <td>...</td>\n",
       "      <td>103</td>\n",
       "      <td>103</td>\n",
       "      <td>103</td>\n",
       "      <td>103</td>\n",
       "      <td>103</td>\n",
       "      <td>103</td>\n",
       "      <td>103</td>\n",
       "      <td>103</td>\n",
       "      <td>103</td>\n",
       "      <td>24686</td>\n",
       "    </tr>\n",
       "    <tr>\n",
       "      <th>4</th>\n",
       "      <td>1007</td>\n",
       "      <td>bibb county</td>\n",
       "      <td>AL</td>\n",
       "      <td>1</td>\n",
       "      <td>6508</td>\n",
       "      <td>6512</td>\n",
       "      <td>6512</td>\n",
       "      <td>6512</td>\n",
       "      <td>6512</td>\n",
       "      <td>6534</td>\n",
       "      <td>...</td>\n",
       "      <td>108</td>\n",
       "      <td>108</td>\n",
       "      <td>108</td>\n",
       "      <td>108</td>\n",
       "      <td>108</td>\n",
       "      <td>108</td>\n",
       "      <td>108</td>\n",
       "      <td>108</td>\n",
       "      <td>108</td>\n",
       "      <td>22394</td>\n",
       "    </tr>\n",
       "  </tbody>\n",
       "</table>\n",
       "<p>5 rows × 433 columns</p>\n",
       "</div>"
      ],
      "text/plain": [
       "   countyFIPS            County Name State  StateFIPS  2022-06-01_x  \\\n",
       "0           0  statewide unallocated    AL          1             0   \n",
       "1        1001         autauga county    AL          1         15969   \n",
       "2        1003         baldwin county    AL          1         56580   \n",
       "3        1005         barbour county    AL          1          5710   \n",
       "4        1007            bibb county    AL          1          6508   \n",
       "\n",
       "   2022-06-02_x  2022-06-03_x  2022-06-04_x  2022-06-05_x  2022-06-06_x  ...  \\\n",
       "0             0             0             0             0             0  ...   \n",
       "1         15978         15978         15978         15978         16032  ...   \n",
       "2         56648         56648         56648         56648         56895  ...   \n",
       "3          5714          5714          5714          5714          5719  ...   \n",
       "4          6512          6512          6512          6512          6534  ...   \n",
       "\n",
       "   2022-12-23_y  2022-12-24_y  2022-12-25_y  2022-12-26_y  2022-12-27_y  \\\n",
       "0             0             0             0             0             0   \n",
       "1           230           230           230           230           230   \n",
       "2           719           719           719           719           719   \n",
       "3           103           103           103           103           103   \n",
       "4           108           108           108           108           108   \n",
       "\n",
       "   2022-12-28_y  2022-12-29_y  2022-12-30_y  2022-12-31_y  population  \n",
       "0             0             0             0             0           0  \n",
       "1           230           230           230           230       55869  \n",
       "2           719           719           719           719      223234  \n",
       "3           103           103           103           103       24686  \n",
       "4           108           108           108           108       22394  \n",
       "\n",
       "[5 rows x 433 columns]"
      ]
     },
     "execution_count": 4,
     "metadata": {},
     "output_type": "execute_result"
    }
   ],
   "source": [
    "df.head()"
   ]
  },
  {
   "cell_type": "code",
   "execution_count": 5,
   "id": "79fdfa70",
   "metadata": {},
   "outputs": [],
   "source": [
    "def county_state(x):\n",
    "    return x[0] +\"_\"+ x[1]"
   ]
  },
  {
   "cell_type": "code",
   "execution_count": 6,
   "id": "5f3a442a",
   "metadata": {},
   "outputs": [],
   "source": [
    "df[\"county_state\"] = df[[\"County Name\", \"State\"]].apply(county_state, axis=1)"
   ]
  },
  {
   "cell_type": "code",
   "execution_count": 7,
   "id": "bed800c9",
   "metadata": {},
   "outputs": [],
   "source": [
    "df.index=df[\"county_state\"]"
   ]
  },
  {
   "cell_type": "code",
   "execution_count": 8,
   "id": "6da5ff58",
   "metadata": {},
   "outputs": [
    {
     "data": {
      "text/html": [
       "<div>\n",
       "<style scoped>\n",
       "    .dataframe tbody tr th:only-of-type {\n",
       "        vertical-align: middle;\n",
       "    }\n",
       "\n",
       "    .dataframe tbody tr th {\n",
       "        vertical-align: top;\n",
       "    }\n",
       "\n",
       "    .dataframe thead th {\n",
       "        text-align: right;\n",
       "    }\n",
       "</style>\n",
       "<table border=\"1\" class=\"dataframe\">\n",
       "  <thead>\n",
       "    <tr style=\"text-align: right;\">\n",
       "      <th></th>\n",
       "      <th>countyFIPS</th>\n",
       "      <th>County Name</th>\n",
       "      <th>State</th>\n",
       "      <th>StateFIPS</th>\n",
       "      <th>2022-06-01_x</th>\n",
       "      <th>2022-06-02_x</th>\n",
       "      <th>2022-06-03_x</th>\n",
       "      <th>2022-06-04_x</th>\n",
       "      <th>2022-06-05_x</th>\n",
       "      <th>2022-06-06_x</th>\n",
       "      <th>...</th>\n",
       "      <th>2022-12-24_y</th>\n",
       "      <th>2022-12-25_y</th>\n",
       "      <th>2022-12-26_y</th>\n",
       "      <th>2022-12-27_y</th>\n",
       "      <th>2022-12-28_y</th>\n",
       "      <th>2022-12-29_y</th>\n",
       "      <th>2022-12-30_y</th>\n",
       "      <th>2022-12-31_y</th>\n",
       "      <th>population</th>\n",
       "      <th>county_state</th>\n",
       "    </tr>\n",
       "    <tr>\n",
       "      <th>county_state</th>\n",
       "      <th></th>\n",
       "      <th></th>\n",
       "      <th></th>\n",
       "      <th></th>\n",
       "      <th></th>\n",
       "      <th></th>\n",
       "      <th></th>\n",
       "      <th></th>\n",
       "      <th></th>\n",
       "      <th></th>\n",
       "      <th></th>\n",
       "      <th></th>\n",
       "      <th></th>\n",
       "      <th></th>\n",
       "      <th></th>\n",
       "      <th></th>\n",
       "      <th></th>\n",
       "      <th></th>\n",
       "      <th></th>\n",
       "      <th></th>\n",
       "      <th></th>\n",
       "    </tr>\n",
       "  </thead>\n",
       "  <tbody>\n",
       "    <tr>\n",
       "      <th>statewide unallocated_AL</th>\n",
       "      <td>0</td>\n",
       "      <td>statewide unallocated</td>\n",
       "      <td>AL</td>\n",
       "      <td>1</td>\n",
       "      <td>0</td>\n",
       "      <td>0</td>\n",
       "      <td>0</td>\n",
       "      <td>0</td>\n",
       "      <td>0</td>\n",
       "      <td>0</td>\n",
       "      <td>...</td>\n",
       "      <td>0</td>\n",
       "      <td>0</td>\n",
       "      <td>0</td>\n",
       "      <td>0</td>\n",
       "      <td>0</td>\n",
       "      <td>0</td>\n",
       "      <td>0</td>\n",
       "      <td>0</td>\n",
       "      <td>0</td>\n",
       "      <td>statewide unallocated_AL</td>\n",
       "    </tr>\n",
       "    <tr>\n",
       "      <th>autauga county_AL</th>\n",
       "      <td>1001</td>\n",
       "      <td>autauga county</td>\n",
       "      <td>AL</td>\n",
       "      <td>1</td>\n",
       "      <td>15969</td>\n",
       "      <td>15978</td>\n",
       "      <td>15978</td>\n",
       "      <td>15978</td>\n",
       "      <td>15978</td>\n",
       "      <td>16032</td>\n",
       "      <td>...</td>\n",
       "      <td>230</td>\n",
       "      <td>230</td>\n",
       "      <td>230</td>\n",
       "      <td>230</td>\n",
       "      <td>230</td>\n",
       "      <td>230</td>\n",
       "      <td>230</td>\n",
       "      <td>230</td>\n",
       "      <td>55869</td>\n",
       "      <td>autauga county_AL</td>\n",
       "    </tr>\n",
       "    <tr>\n",
       "      <th>baldwin county_AL</th>\n",
       "      <td>1003</td>\n",
       "      <td>baldwin county</td>\n",
       "      <td>AL</td>\n",
       "      <td>1</td>\n",
       "      <td>56580</td>\n",
       "      <td>56648</td>\n",
       "      <td>56648</td>\n",
       "      <td>56648</td>\n",
       "      <td>56648</td>\n",
       "      <td>56895</td>\n",
       "      <td>...</td>\n",
       "      <td>719</td>\n",
       "      <td>719</td>\n",
       "      <td>719</td>\n",
       "      <td>719</td>\n",
       "      <td>719</td>\n",
       "      <td>719</td>\n",
       "      <td>719</td>\n",
       "      <td>719</td>\n",
       "      <td>223234</td>\n",
       "      <td>baldwin county_AL</td>\n",
       "    </tr>\n",
       "    <tr>\n",
       "      <th>barbour county_AL</th>\n",
       "      <td>1005</td>\n",
       "      <td>barbour county</td>\n",
       "      <td>AL</td>\n",
       "      <td>1</td>\n",
       "      <td>5710</td>\n",
       "      <td>5714</td>\n",
       "      <td>5714</td>\n",
       "      <td>5714</td>\n",
       "      <td>5714</td>\n",
       "      <td>5719</td>\n",
       "      <td>...</td>\n",
       "      <td>103</td>\n",
       "      <td>103</td>\n",
       "      <td>103</td>\n",
       "      <td>103</td>\n",
       "      <td>103</td>\n",
       "      <td>103</td>\n",
       "      <td>103</td>\n",
       "      <td>103</td>\n",
       "      <td>24686</td>\n",
       "      <td>barbour county_AL</td>\n",
       "    </tr>\n",
       "    <tr>\n",
       "      <th>bibb county_AL</th>\n",
       "      <td>1007</td>\n",
       "      <td>bibb county</td>\n",
       "      <td>AL</td>\n",
       "      <td>1</td>\n",
       "      <td>6508</td>\n",
       "      <td>6512</td>\n",
       "      <td>6512</td>\n",
       "      <td>6512</td>\n",
       "      <td>6512</td>\n",
       "      <td>6534</td>\n",
       "      <td>...</td>\n",
       "      <td>108</td>\n",
       "      <td>108</td>\n",
       "      <td>108</td>\n",
       "      <td>108</td>\n",
       "      <td>108</td>\n",
       "      <td>108</td>\n",
       "      <td>108</td>\n",
       "      <td>108</td>\n",
       "      <td>22394</td>\n",
       "      <td>bibb county_AL</td>\n",
       "    </tr>\n",
       "  </tbody>\n",
       "</table>\n",
       "<p>5 rows × 434 columns</p>\n",
       "</div>"
      ],
      "text/plain": [
       "                          countyFIPS            County Name State  StateFIPS  \\\n",
       "county_state                                                                   \n",
       "statewide unallocated_AL           0  statewide unallocated    AL          1   \n",
       "autauga county_AL               1001         autauga county    AL          1   \n",
       "baldwin county_AL               1003         baldwin county    AL          1   \n",
       "barbour county_AL               1005         barbour county    AL          1   \n",
       "bibb county_AL                  1007            bibb county    AL          1   \n",
       "\n",
       "                          2022-06-01_x  2022-06-02_x  2022-06-03_x  \\\n",
       "county_state                                                         \n",
       "statewide unallocated_AL             0             0             0   \n",
       "autauga county_AL                15969         15978         15978   \n",
       "baldwin county_AL                56580         56648         56648   \n",
       "barbour county_AL                 5710          5714          5714   \n",
       "bibb county_AL                    6508          6512          6512   \n",
       "\n",
       "                          2022-06-04_x  2022-06-05_x  2022-06-06_x  ...  \\\n",
       "county_state                                                        ...   \n",
       "statewide unallocated_AL             0             0             0  ...   \n",
       "autauga county_AL                15978         15978         16032  ...   \n",
       "baldwin county_AL                56648         56648         56895  ...   \n",
       "barbour county_AL                 5714          5714          5719  ...   \n",
       "bibb county_AL                    6512          6512          6534  ...   \n",
       "\n",
       "                          2022-12-24_y  2022-12-25_y  2022-12-26_y  \\\n",
       "county_state                                                         \n",
       "statewide unallocated_AL             0             0             0   \n",
       "autauga county_AL                  230           230           230   \n",
       "baldwin county_AL                  719           719           719   \n",
       "barbour county_AL                  103           103           103   \n",
       "bibb county_AL                     108           108           108   \n",
       "\n",
       "                          2022-12-27_y  2022-12-28_y  2022-12-29_y  \\\n",
       "county_state                                                         \n",
       "statewide unallocated_AL             0             0             0   \n",
       "autauga county_AL                  230           230           230   \n",
       "baldwin county_AL                  719           719           719   \n",
       "barbour county_AL                  103           103           103   \n",
       "bibb county_AL                     108           108           108   \n",
       "\n",
       "                          2022-12-30_y  2022-12-31_y  population  \\\n",
       "county_state                                                       \n",
       "statewide unallocated_AL             0             0           0   \n",
       "autauga county_AL                  230           230       55869   \n",
       "baldwin county_AL                  719           719      223234   \n",
       "barbour county_AL                  103           103       24686   \n",
       "bibb county_AL                     108           108       22394   \n",
       "\n",
       "                                      county_state  \n",
       "county_state                                        \n",
       "statewide unallocated_AL  statewide unallocated_AL  \n",
       "autauga county_AL                autauga county_AL  \n",
       "baldwin county_AL                baldwin county_AL  \n",
       "barbour county_AL                barbour county_AL  \n",
       "bibb county_AL                      bibb county_AL  \n",
       "\n",
       "[5 rows x 434 columns]"
      ]
     },
     "execution_count": 8,
     "metadata": {},
     "output_type": "execute_result"
    }
   ],
   "source": [
    "df.head()"
   ]
  },
  {
   "cell_type": "code",
   "execution_count": 9,
   "id": "642b8214",
   "metadata": {},
   "outputs": [],
   "source": [
    "superdataT = df.T.copy()"
   ]
  },
  {
   "cell_type": "code",
   "execution_count": 10,
   "id": "f0d47590",
   "metadata": {},
   "outputs": [],
   "source": [
    "superdataT[\"Date\"] = superdataT.index"
   ]
  },
  {
   "cell_type": "code",
   "execution_count": 11,
   "id": "9612db86",
   "metadata": {
    "scrolled": true
   },
   "outputs": [
    {
     "data": {
      "text/plain": [
       "['countyFIPS',\n",
       " 'County Name',\n",
       " 'State',\n",
       " 'StateFIPS',\n",
       " 'population',\n",
       " 'county_state']"
      ]
     },
     "execution_count": 11,
     "metadata": {},
     "output_type": "execute_result"
    }
   ],
   "source": [
    "to_remove = list(superdataT.index[:4])\n",
    "to_remove.append(superdataT.index[-2])\n",
    "to_remove.append(superdataT.index[-1])\n",
    "to_remove"
   ]
  },
  {
   "cell_type": "code",
   "execution_count": 12,
   "id": "945c2ccb",
   "metadata": {},
   "outputs": [],
   "source": [
    "def new_death(x):\n",
    "    if x[-2:]==\"_x\":\n",
    "        return \"new\"\n",
    "    elif x[-2:]==\"_y\":\n",
    "        return \"death\""
   ]
  },
  {
   "cell_type": "code",
   "execution_count": 13,
   "id": "833d660c",
   "metadata": {},
   "outputs": [],
   "source": [
    "superdataT[\"new_death\"]=superdataT[\"Date\"].apply(new_death)"
   ]
  },
  {
   "cell_type": "code",
   "execution_count": 14,
   "id": "af94e1ca",
   "metadata": {},
   "outputs": [
    {
     "data": {
      "text/plain": [
       "Index(['new', 'death'], dtype='object')"
      ]
     },
     "execution_count": 14,
     "metadata": {},
     "output_type": "execute_result"
    }
   ],
   "source": [
    "superdataT[\"new_death\"].value_counts().index"
   ]
  },
  {
   "cell_type": "code",
   "execution_count": 15,
   "id": "156488d3",
   "metadata": {},
   "outputs": [],
   "source": [
    "def clean_date(x,l=to_remove):\n",
    "        if x in l:\n",
    "            return np.nan\n",
    "        else: \n",
    "            return x[:-2]"
   ]
  },
  {
   "cell_type": "code",
   "execution_count": 16,
   "id": "c5105542",
   "metadata": {},
   "outputs": [],
   "source": [
    "superdataT[\"Date\"] = superdataT[\"Date\"].apply(clean_date,l=to_remove)"
   ]
  },
  {
   "cell_type": "code",
   "execution_count": 17,
   "id": "5efe08ec",
   "metadata": {},
   "outputs": [
    {
     "data": {
      "text/html": [
       "<div>\n",
       "<style scoped>\n",
       "    .dataframe tbody tr th:only-of-type {\n",
       "        vertical-align: middle;\n",
       "    }\n",
       "\n",
       "    .dataframe tbody tr th {\n",
       "        vertical-align: top;\n",
       "    }\n",
       "\n",
       "    .dataframe thead th {\n",
       "        text-align: right;\n",
       "    }\n",
       "</style>\n",
       "<table border=\"1\" class=\"dataframe\">\n",
       "  <thead>\n",
       "    <tr style=\"text-align: right;\">\n",
       "      <th>county_state</th>\n",
       "      <th>statewide unallocated_AL</th>\n",
       "      <th>autauga county_AL</th>\n",
       "      <th>baldwin county_AL</th>\n",
       "      <th>barbour county_AL</th>\n",
       "      <th>bibb county_AL</th>\n",
       "      <th>blount county_AL</th>\n",
       "      <th>bullock county_AL</th>\n",
       "      <th>butler county_AL</th>\n",
       "      <th>calhoun county_AL</th>\n",
       "      <th>chambers county_AL</th>\n",
       "      <th>...</th>\n",
       "      <th>platte county_WY</th>\n",
       "      <th>sheridan county_WY</th>\n",
       "      <th>sublette county_WY</th>\n",
       "      <th>sweetwater county_WY</th>\n",
       "      <th>teton county_WY</th>\n",
       "      <th>uinta county_WY</th>\n",
       "      <th>washakie county_WY</th>\n",
       "      <th>weston county_WY</th>\n",
       "      <th>Date</th>\n",
       "      <th>new_death</th>\n",
       "    </tr>\n",
       "  </thead>\n",
       "  <tbody>\n",
       "    <tr>\n",
       "      <th>countyFIPS</th>\n",
       "      <td>0</td>\n",
       "      <td>1001</td>\n",
       "      <td>1003</td>\n",
       "      <td>1005</td>\n",
       "      <td>1007</td>\n",
       "      <td>1009</td>\n",
       "      <td>1011</td>\n",
       "      <td>1013</td>\n",
       "      <td>1015</td>\n",
       "      <td>1017</td>\n",
       "      <td>...</td>\n",
       "      <td>56031</td>\n",
       "      <td>56033</td>\n",
       "      <td>56035</td>\n",
       "      <td>56037</td>\n",
       "      <td>56039</td>\n",
       "      <td>56041</td>\n",
       "      <td>56043</td>\n",
       "      <td>56045</td>\n",
       "      <td>NaN</td>\n",
       "      <td>None</td>\n",
       "    </tr>\n",
       "    <tr>\n",
       "      <th>County Name</th>\n",
       "      <td>statewide unallocated</td>\n",
       "      <td>autauga county</td>\n",
       "      <td>baldwin county</td>\n",
       "      <td>barbour county</td>\n",
       "      <td>bibb county</td>\n",
       "      <td>blount county</td>\n",
       "      <td>bullock county</td>\n",
       "      <td>butler county</td>\n",
       "      <td>calhoun county</td>\n",
       "      <td>chambers county</td>\n",
       "      <td>...</td>\n",
       "      <td>platte county</td>\n",
       "      <td>sheridan county</td>\n",
       "      <td>sublette county</td>\n",
       "      <td>sweetwater county</td>\n",
       "      <td>teton county</td>\n",
       "      <td>uinta county</td>\n",
       "      <td>washakie county</td>\n",
       "      <td>weston county</td>\n",
       "      <td>NaN</td>\n",
       "      <td>None</td>\n",
       "    </tr>\n",
       "    <tr>\n",
       "      <th>State</th>\n",
       "      <td>AL</td>\n",
       "      <td>AL</td>\n",
       "      <td>AL</td>\n",
       "      <td>AL</td>\n",
       "      <td>AL</td>\n",
       "      <td>AL</td>\n",
       "      <td>AL</td>\n",
       "      <td>AL</td>\n",
       "      <td>AL</td>\n",
       "      <td>AL</td>\n",
       "      <td>...</td>\n",
       "      <td>WY</td>\n",
       "      <td>WY</td>\n",
       "      <td>WY</td>\n",
       "      <td>WY</td>\n",
       "      <td>WY</td>\n",
       "      <td>WY</td>\n",
       "      <td>WY</td>\n",
       "      <td>WY</td>\n",
       "      <td>NaN</td>\n",
       "      <td>None</td>\n",
       "    </tr>\n",
       "    <tr>\n",
       "      <th>StateFIPS</th>\n",
       "      <td>1</td>\n",
       "      <td>1</td>\n",
       "      <td>1</td>\n",
       "      <td>1</td>\n",
       "      <td>1</td>\n",
       "      <td>1</td>\n",
       "      <td>1</td>\n",
       "      <td>1</td>\n",
       "      <td>1</td>\n",
       "      <td>1</td>\n",
       "      <td>...</td>\n",
       "      <td>56</td>\n",
       "      <td>56</td>\n",
       "      <td>56</td>\n",
       "      <td>56</td>\n",
       "      <td>56</td>\n",
       "      <td>56</td>\n",
       "      <td>56</td>\n",
       "      <td>56</td>\n",
       "      <td>NaN</td>\n",
       "      <td>None</td>\n",
       "    </tr>\n",
       "    <tr>\n",
       "      <th>2022-06-01_x</th>\n",
       "      <td>0</td>\n",
       "      <td>15969</td>\n",
       "      <td>56580</td>\n",
       "      <td>5710</td>\n",
       "      <td>6508</td>\n",
       "      <td>15077</td>\n",
       "      <td>2337</td>\n",
       "      <td>5091</td>\n",
       "      <td>32596</td>\n",
       "      <td>8551</td>\n",
       "      <td>...</td>\n",
       "      <td>1929</td>\n",
       "      <td>8150</td>\n",
       "      <td>1936</td>\n",
       "      <td>11178</td>\n",
       "      <td>10229</td>\n",
       "      <td>5681</td>\n",
       "      <td>2369</td>\n",
       "      <td>1594</td>\n",
       "      <td>2022-06-01</td>\n",
       "      <td>new</td>\n",
       "    </tr>\n",
       "  </tbody>\n",
       "</table>\n",
       "<p>5 rows × 3191 columns</p>\n",
       "</div>"
      ],
      "text/plain": [
       "county_state statewide unallocated_AL autauga county_AL baldwin county_AL  \\\n",
       "countyFIPS                          0              1001              1003   \n",
       "County Name     statewide unallocated    autauga county    baldwin county   \n",
       "State                              AL                AL                AL   \n",
       "StateFIPS                           1                 1                 1   \n",
       "2022-06-01_x                        0             15969             56580   \n",
       "\n",
       "county_state barbour county_AL bibb county_AL blount county_AL  \\\n",
       "countyFIPS                1005           1007             1009   \n",
       "County Name     barbour county    bibb county    blount county   \n",
       "State                       AL             AL               AL   \n",
       "StateFIPS                    1              1                1   \n",
       "2022-06-01_x              5710           6508            15077   \n",
       "\n",
       "county_state bullock county_AL butler county_AL calhoun county_AL  \\\n",
       "countyFIPS                1011             1013              1015   \n",
       "County Name     bullock county    butler county    calhoun county   \n",
       "State                       AL               AL                AL   \n",
       "StateFIPS                    1                1                 1   \n",
       "2022-06-01_x              2337             5091             32596   \n",
       "\n",
       "county_state chambers county_AL  ... platte county_WY sheridan county_WY  \\\n",
       "countyFIPS                 1017  ...            56031              56033   \n",
       "County Name     chambers county  ...    platte county    sheridan county   \n",
       "State                        AL  ...               WY                 WY   \n",
       "StateFIPS                     1  ...               56                 56   \n",
       "2022-06-01_x               8551  ...             1929               8150   \n",
       "\n",
       "county_state sublette county_WY sweetwater county_WY teton county_WY  \\\n",
       "countyFIPS                56035                56037           56039   \n",
       "County Name     sublette county    sweetwater county    teton county   \n",
       "State                        WY                   WY              WY   \n",
       "StateFIPS                    56                   56              56   \n",
       "2022-06-01_x               1936                11178           10229   \n",
       "\n",
       "county_state uinta county_WY washakie county_WY weston county_WY        Date  \\\n",
       "countyFIPS             56041              56043            56045         NaN   \n",
       "County Name     uinta county    washakie county    weston county         NaN   \n",
       "State                     WY                 WY               WY         NaN   \n",
       "StateFIPS                 56                 56               56         NaN   \n",
       "2022-06-01_x            5681               2369             1594  2022-06-01   \n",
       "\n",
       "county_state new_death  \n",
       "countyFIPS        None  \n",
       "County Name       None  \n",
       "State             None  \n",
       "StateFIPS         None  \n",
       "2022-06-01_x       new  \n",
       "\n",
       "[5 rows x 3191 columns]"
      ]
     },
     "execution_count": 17,
     "metadata": {},
     "output_type": "execute_result"
    }
   ],
   "source": [
    "superdataT.head()"
   ]
  },
  {
   "cell_type": "code",
   "execution_count": 18,
   "id": "6c0d77ee",
   "metadata": {},
   "outputs": [
    {
     "name": "stderr",
     "output_type": "stream",
     "text": [
      "C:\\Users\\amyme\\AppData\\Local\\Temp\\ipykernel_14660\\801288638.py:1: FutureWarning: weekofyear and week have been deprecated, please use DatetimeIndex.isocalendar().week instead, which returns a Series. To exactly reproduce the behavior of week and weekofyear and return an Index, you may call pd.Int64Index(idx.isocalendar().week)\n",
      "  superdataT[\"Week\"]=pd.DatetimeIndex(superdataT[\"Date\"]).week\n"
     ]
    }
   ],
   "source": [
    "superdataT[\"Week\"]=pd.DatetimeIndex(superdataT[\"Date\"]).week"
   ]
  },
  {
   "cell_type": "code",
   "execution_count": 19,
   "id": "c0df4d62",
   "metadata": {},
   "outputs": [],
   "source": [
    "superdataT[\"Date\"]=pd.DatetimeIndex(superdataT[\"Date\"])"
   ]
  },
  {
   "cell_type": "code",
   "execution_count": 20,
   "id": "4478d0fd",
   "metadata": {},
   "outputs": [],
   "source": [
    "superdataT=superdataT[superdataT[\"Date\"].notnull()]"
   ]
  },
  {
   "cell_type": "code",
   "execution_count": 21,
   "id": "40079299",
   "metadata": {},
   "outputs": [],
   "source": [
    "superdataT.index = superdataT[\"Date\"]"
   ]
  },
  {
   "cell_type": "code",
   "execution_count": 22,
   "id": "4c036dc7",
   "metadata": {},
   "outputs": [],
   "source": [
    "superdataT[\"Total\"]=superdataT.iloc[:,:-3].sum(axis=1)"
   ]
  },
  {
   "cell_type": "code",
   "execution_count": 23,
   "id": "5e9b4400",
   "metadata": {},
   "outputs": [],
   "source": [
    "for feat in superdataT.columns[:-4]:\n",
    "    superdataT[feat]=superdataT[feat].astype(\"int\")"
   ]
  },
  {
   "cell_type": "code",
   "execution_count": 24,
   "id": "75e5c60e",
   "metadata": {},
   "outputs": [
    {
     "name": "stdout",
     "output_type": "stream",
     "text": [
      "<class 'pandas.core.frame.DataFrame'>\n",
      "DatetimeIndex: 428 entries, 2022-06-01 to 2022-12-31\n",
      "Columns: 3193 entries, statewide unallocated_AL to Total\n",
      "dtypes: datetime64[ns](1), float64(2), int32(3189), object(1)\n",
      "memory usage: 5.2+ MB\n"
     ]
    }
   ],
   "source": [
    "superdataT.info()"
   ]
  },
  {
   "cell_type": "code",
   "execution_count": 25,
   "id": "94097ec8",
   "metadata": {},
   "outputs": [],
   "source": [
    "superdataT[\"Total\"]=superdataT.iloc[:,:-4].sum(axis=1)"
   ]
  },
  {
   "cell_type": "code",
   "execution_count": 26,
   "id": "733dbebd",
   "metadata": {},
   "outputs": [],
   "source": [
    "superdataT.reset_index(drop=True,inplace=True)"
   ]
  },
  {
   "cell_type": "code",
   "execution_count": 27,
   "id": "195d8aff",
   "metadata": {},
   "outputs": [
    {
     "data": {
      "text/plain": [
       "0      False\n",
       "1      False\n",
       "2      False\n",
       "3      False\n",
       "4      False\n",
       "       ...  \n",
       "423     True\n",
       "424     True\n",
       "425     True\n",
       "426     True\n",
       "427     True\n",
       "Name: new_death, Length: 428, dtype: bool"
      ]
     },
     "execution_count": 27,
     "metadata": {},
     "output_type": "execute_result"
    }
   ],
   "source": [
    "superdataT[\"new_death\"]==\"death\""
   ]
  },
  {
   "cell_type": "code",
   "execution_count": 28,
   "id": "cdef2190",
   "metadata": {},
   "outputs": [
    {
     "data": {
      "text/plain": [
       "1920     alamance county_NC\n",
       "1921    alexander county_NC\n",
       "1922    alleghany county_NC\n",
       "1923        anson county_NC\n",
       "1924         ashe county_NC\n",
       "               ...         \n",
       "2015        wayne county_NC\n",
       "2016       wilkes county_NC\n",
       "2017       wilson county_NC\n",
       "2018       yadkin county_NC\n",
       "2019       yancey county_NC\n",
       "Name: county_state, Length: 100, dtype: object"
      ]
     },
     "execution_count": 28,
     "metadata": {},
     "output_type": "execute_result"
    }
   ],
   "source": [
    "col_NC=pd.Series(superdataT.columns)[pd.Series(superdataT.columns).str.contains(\"_NC\")][1:]\n",
    "col_NC"
   ]
  },
  {
   "cell_type": "code",
   "execution_count": 29,
   "id": "b0beebf2",
   "metadata": {},
   "outputs": [],
   "source": [
    "df_NC = superdataT[col_NC].copy()"
   ]
  },
  {
   "cell_type": "code",
   "execution_count": 30,
   "id": "f26a5117",
   "metadata": {},
   "outputs": [
    {
     "data": {
      "text/html": [
       "<div>\n",
       "<style scoped>\n",
       "    .dataframe tbody tr th:only-of-type {\n",
       "        vertical-align: middle;\n",
       "    }\n",
       "\n",
       "    .dataframe tbody tr th {\n",
       "        vertical-align: top;\n",
       "    }\n",
       "\n",
       "    .dataframe thead th {\n",
       "        text-align: right;\n",
       "    }\n",
       "</style>\n",
       "<table border=\"1\" class=\"dataframe\">\n",
       "  <thead>\n",
       "    <tr style=\"text-align: right;\">\n",
       "      <th>county_state</th>\n",
       "      <th>alamance county_NC</th>\n",
       "      <th>alexander county_NC</th>\n",
       "      <th>alleghany county_NC</th>\n",
       "      <th>anson county_NC</th>\n",
       "      <th>ashe county_NC</th>\n",
       "      <th>avery county_NC</th>\n",
       "      <th>beaufort county_NC</th>\n",
       "      <th>bertie county_NC</th>\n",
       "      <th>bladen county_NC</th>\n",
       "      <th>brunswick county_NC</th>\n",
       "      <th>...</th>\n",
       "      <th>vance county_NC</th>\n",
       "      <th>wake county_NC</th>\n",
       "      <th>warren county_NC</th>\n",
       "      <th>washington county_NC</th>\n",
       "      <th>watauga county_NC</th>\n",
       "      <th>wayne county_NC</th>\n",
       "      <th>wilkes county_NC</th>\n",
       "      <th>wilson county_NC</th>\n",
       "      <th>yadkin county_NC</th>\n",
       "      <th>yancey county_NC</th>\n",
       "    </tr>\n",
       "  </thead>\n",
       "  <tbody>\n",
       "    <tr>\n",
       "      <th>0</th>\n",
       "      <td>49188</td>\n",
       "      <td>10600</td>\n",
       "      <td>3041</td>\n",
       "      <td>6672</td>\n",
       "      <td>6575</td>\n",
       "      <td>4697</td>\n",
       "      <td>12939</td>\n",
       "      <td>4353</td>\n",
       "      <td>9608</td>\n",
       "      <td>31630</td>\n",
       "      <td>...</td>\n",
       "      <td>12222</td>\n",
       "      <td>317226</td>\n",
       "      <td>4502</td>\n",
       "      <td>3091</td>\n",
       "      <td>13215</td>\n",
       "      <td>32084</td>\n",
       "      <td>17994</td>\n",
       "      <td>22266</td>\n",
       "      <td>11315</td>\n",
       "      <td>5574</td>\n",
       "    </tr>\n",
       "    <tr>\n",
       "      <th>1</th>\n",
       "      <td>49188</td>\n",
       "      <td>10600</td>\n",
       "      <td>3041</td>\n",
       "      <td>6672</td>\n",
       "      <td>6575</td>\n",
       "      <td>4697</td>\n",
       "      <td>12939</td>\n",
       "      <td>4353</td>\n",
       "      <td>9608</td>\n",
       "      <td>31630</td>\n",
       "      <td>...</td>\n",
       "      <td>12222</td>\n",
       "      <td>317226</td>\n",
       "      <td>4502</td>\n",
       "      <td>3091</td>\n",
       "      <td>13215</td>\n",
       "      <td>32084</td>\n",
       "      <td>17994</td>\n",
       "      <td>22266</td>\n",
       "      <td>11315</td>\n",
       "      <td>5574</td>\n",
       "    </tr>\n",
       "    <tr>\n",
       "      <th>2</th>\n",
       "      <td>49188</td>\n",
       "      <td>10600</td>\n",
       "      <td>3041</td>\n",
       "      <td>6672</td>\n",
       "      <td>6575</td>\n",
       "      <td>4697</td>\n",
       "      <td>12939</td>\n",
       "      <td>4353</td>\n",
       "      <td>9608</td>\n",
       "      <td>31630</td>\n",
       "      <td>...</td>\n",
       "      <td>12222</td>\n",
       "      <td>317226</td>\n",
       "      <td>4502</td>\n",
       "      <td>3091</td>\n",
       "      <td>13215</td>\n",
       "      <td>32084</td>\n",
       "      <td>17994</td>\n",
       "      <td>22266</td>\n",
       "      <td>11315</td>\n",
       "      <td>5574</td>\n",
       "    </tr>\n",
       "    <tr>\n",
       "      <th>3</th>\n",
       "      <td>49188</td>\n",
       "      <td>10600</td>\n",
       "      <td>3041</td>\n",
       "      <td>6672</td>\n",
       "      <td>6575</td>\n",
       "      <td>4697</td>\n",
       "      <td>12939</td>\n",
       "      <td>4353</td>\n",
       "      <td>9608</td>\n",
       "      <td>31630</td>\n",
       "      <td>...</td>\n",
       "      <td>12222</td>\n",
       "      <td>317226</td>\n",
       "      <td>4502</td>\n",
       "      <td>3091</td>\n",
       "      <td>13215</td>\n",
       "      <td>32084</td>\n",
       "      <td>17994</td>\n",
       "      <td>22266</td>\n",
       "      <td>11315</td>\n",
       "      <td>5574</td>\n",
       "    </tr>\n",
       "    <tr>\n",
       "      <th>4</th>\n",
       "      <td>49188</td>\n",
       "      <td>10600</td>\n",
       "      <td>3041</td>\n",
       "      <td>6672</td>\n",
       "      <td>6575</td>\n",
       "      <td>4697</td>\n",
       "      <td>12939</td>\n",
       "      <td>4353</td>\n",
       "      <td>9608</td>\n",
       "      <td>31630</td>\n",
       "      <td>...</td>\n",
       "      <td>12222</td>\n",
       "      <td>317226</td>\n",
       "      <td>4502</td>\n",
       "      <td>3091</td>\n",
       "      <td>13215</td>\n",
       "      <td>32084</td>\n",
       "      <td>17994</td>\n",
       "      <td>22266</td>\n",
       "      <td>11315</td>\n",
       "      <td>5574</td>\n",
       "    </tr>\n",
       "  </tbody>\n",
       "</table>\n",
       "<p>5 rows × 100 columns</p>\n",
       "</div>"
      ],
      "text/plain": [
       "county_state  alamance county_NC  alexander county_NC  alleghany county_NC  \\\n",
       "0                          49188                10600                 3041   \n",
       "1                          49188                10600                 3041   \n",
       "2                          49188                10600                 3041   \n",
       "3                          49188                10600                 3041   \n",
       "4                          49188                10600                 3041   \n",
       "\n",
       "county_state  anson county_NC  ashe county_NC  avery county_NC  \\\n",
       "0                        6672            6575             4697   \n",
       "1                        6672            6575             4697   \n",
       "2                        6672            6575             4697   \n",
       "3                        6672            6575             4697   \n",
       "4                        6672            6575             4697   \n",
       "\n",
       "county_state  beaufort county_NC  bertie county_NC  bladen county_NC  \\\n",
       "0                          12939              4353              9608   \n",
       "1                          12939              4353              9608   \n",
       "2                          12939              4353              9608   \n",
       "3                          12939              4353              9608   \n",
       "4                          12939              4353              9608   \n",
       "\n",
       "county_state  brunswick county_NC  ...  vance county_NC  wake county_NC  \\\n",
       "0                           31630  ...            12222          317226   \n",
       "1                           31630  ...            12222          317226   \n",
       "2                           31630  ...            12222          317226   \n",
       "3                           31630  ...            12222          317226   \n",
       "4                           31630  ...            12222          317226   \n",
       "\n",
       "county_state  warren county_NC  washington county_NC  watauga county_NC  \\\n",
       "0                         4502                  3091              13215   \n",
       "1                         4502                  3091              13215   \n",
       "2                         4502                  3091              13215   \n",
       "3                         4502                  3091              13215   \n",
       "4                         4502                  3091              13215   \n",
       "\n",
       "county_state  wayne county_NC  wilkes county_NC  wilson county_NC  \\\n",
       "0                       32084             17994             22266   \n",
       "1                       32084             17994             22266   \n",
       "2                       32084             17994             22266   \n",
       "3                       32084             17994             22266   \n",
       "4                       32084             17994             22266   \n",
       "\n",
       "county_state  yadkin county_NC  yancey county_NC  \n",
       "0                        11315              5574  \n",
       "1                        11315              5574  \n",
       "2                        11315              5574  \n",
       "3                        11315              5574  \n",
       "4                        11315              5574  \n",
       "\n",
       "[5 rows x 100 columns]"
      ]
     },
     "execution_count": 30,
     "metadata": {},
     "output_type": "execute_result"
    }
   ],
   "source": [
    "df_NC.head()"
   ]
  },
  {
   "cell_type": "code",
   "execution_count": 31,
   "id": "49c6046a",
   "metadata": {
    "scrolled": true
   },
   "outputs": [],
   "source": [
    "df_NC[\"Total_NC\"]=df_NC.sum(axis=1)\n",
    "df_NC[\"new_death\"]=superdataT[\"new_death\"]\n",
    "df_NC[\"Week\"]=superdataT[\"Week\"]"
   ]
  },
  {
   "cell_type": "code",
   "execution_count": 32,
   "id": "2533cb92",
   "metadata": {
    "scrolled": true
   },
   "outputs": [
    {
     "data": {
      "text/html": [
       "<div>\n",
       "<style scoped>\n",
       "    .dataframe tbody tr th:only-of-type {\n",
       "        vertical-align: middle;\n",
       "    }\n",
       "\n",
       "    .dataframe tbody tr th {\n",
       "        vertical-align: top;\n",
       "    }\n",
       "\n",
       "    .dataframe thead th {\n",
       "        text-align: right;\n",
       "    }\n",
       "</style>\n",
       "<table border=\"1\" class=\"dataframe\">\n",
       "  <thead>\n",
       "    <tr style=\"text-align: right;\">\n",
       "      <th>county_state</th>\n",
       "      <th>alamance county_NC</th>\n",
       "      <th>alexander county_NC</th>\n",
       "      <th>alleghany county_NC</th>\n",
       "      <th>anson county_NC</th>\n",
       "      <th>ashe county_NC</th>\n",
       "      <th>avery county_NC</th>\n",
       "      <th>beaufort county_NC</th>\n",
       "      <th>bertie county_NC</th>\n",
       "      <th>bladen county_NC</th>\n",
       "      <th>brunswick county_NC</th>\n",
       "      <th>...</th>\n",
       "      <th>washington county_NC</th>\n",
       "      <th>watauga county_NC</th>\n",
       "      <th>wayne county_NC</th>\n",
       "      <th>wilkes county_NC</th>\n",
       "      <th>wilson county_NC</th>\n",
       "      <th>yadkin county_NC</th>\n",
       "      <th>yancey county_NC</th>\n",
       "      <th>Total_NC</th>\n",
       "      <th>new_death</th>\n",
       "      <th>Week</th>\n",
       "    </tr>\n",
       "  </thead>\n",
       "  <tbody>\n",
       "    <tr>\n",
       "      <th>0</th>\n",
       "      <td>49188</td>\n",
       "      <td>10600</td>\n",
       "      <td>3041</td>\n",
       "      <td>6672</td>\n",
       "      <td>6575</td>\n",
       "      <td>4697</td>\n",
       "      <td>12939</td>\n",
       "      <td>4353</td>\n",
       "      <td>9608</td>\n",
       "      <td>31630</td>\n",
       "      <td>...</td>\n",
       "      <td>3091</td>\n",
       "      <td>13215</td>\n",
       "      <td>32084</td>\n",
       "      <td>17994</td>\n",
       "      <td>22266</td>\n",
       "      <td>11315</td>\n",
       "      <td>5574</td>\n",
       "      <td>2772725</td>\n",
       "      <td>new</td>\n",
       "      <td>22.0</td>\n",
       "    </tr>\n",
       "    <tr>\n",
       "      <th>1</th>\n",
       "      <td>49188</td>\n",
       "      <td>10600</td>\n",
       "      <td>3041</td>\n",
       "      <td>6672</td>\n",
       "      <td>6575</td>\n",
       "      <td>4697</td>\n",
       "      <td>12939</td>\n",
       "      <td>4353</td>\n",
       "      <td>9608</td>\n",
       "      <td>31630</td>\n",
       "      <td>...</td>\n",
       "      <td>3091</td>\n",
       "      <td>13215</td>\n",
       "      <td>32084</td>\n",
       "      <td>17994</td>\n",
       "      <td>22266</td>\n",
       "      <td>11315</td>\n",
       "      <td>5574</td>\n",
       "      <td>2772725</td>\n",
       "      <td>new</td>\n",
       "      <td>22.0</td>\n",
       "    </tr>\n",
       "    <tr>\n",
       "      <th>2</th>\n",
       "      <td>49188</td>\n",
       "      <td>10600</td>\n",
       "      <td>3041</td>\n",
       "      <td>6672</td>\n",
       "      <td>6575</td>\n",
       "      <td>4697</td>\n",
       "      <td>12939</td>\n",
       "      <td>4353</td>\n",
       "      <td>9608</td>\n",
       "      <td>31630</td>\n",
       "      <td>...</td>\n",
       "      <td>3091</td>\n",
       "      <td>13215</td>\n",
       "      <td>32084</td>\n",
       "      <td>17994</td>\n",
       "      <td>22266</td>\n",
       "      <td>11315</td>\n",
       "      <td>5574</td>\n",
       "      <td>2772725</td>\n",
       "      <td>new</td>\n",
       "      <td>22.0</td>\n",
       "    </tr>\n",
       "    <tr>\n",
       "      <th>3</th>\n",
       "      <td>49188</td>\n",
       "      <td>10600</td>\n",
       "      <td>3041</td>\n",
       "      <td>6672</td>\n",
       "      <td>6575</td>\n",
       "      <td>4697</td>\n",
       "      <td>12939</td>\n",
       "      <td>4353</td>\n",
       "      <td>9608</td>\n",
       "      <td>31630</td>\n",
       "      <td>...</td>\n",
       "      <td>3091</td>\n",
       "      <td>13215</td>\n",
       "      <td>32084</td>\n",
       "      <td>17994</td>\n",
       "      <td>22266</td>\n",
       "      <td>11315</td>\n",
       "      <td>5574</td>\n",
       "      <td>2772725</td>\n",
       "      <td>new</td>\n",
       "      <td>22.0</td>\n",
       "    </tr>\n",
       "    <tr>\n",
       "      <th>4</th>\n",
       "      <td>49188</td>\n",
       "      <td>10600</td>\n",
       "      <td>3041</td>\n",
       "      <td>6672</td>\n",
       "      <td>6575</td>\n",
       "      <td>4697</td>\n",
       "      <td>12939</td>\n",
       "      <td>4353</td>\n",
       "      <td>9608</td>\n",
       "      <td>31630</td>\n",
       "      <td>...</td>\n",
       "      <td>3091</td>\n",
       "      <td>13215</td>\n",
       "      <td>32084</td>\n",
       "      <td>17994</td>\n",
       "      <td>22266</td>\n",
       "      <td>11315</td>\n",
       "      <td>5574</td>\n",
       "      <td>2772725</td>\n",
       "      <td>new</td>\n",
       "      <td>22.0</td>\n",
       "    </tr>\n",
       "  </tbody>\n",
       "</table>\n",
       "<p>5 rows × 103 columns</p>\n",
       "</div>"
      ],
      "text/plain": [
       "county_state  alamance county_NC  alexander county_NC  alleghany county_NC  \\\n",
       "0                          49188                10600                 3041   \n",
       "1                          49188                10600                 3041   \n",
       "2                          49188                10600                 3041   \n",
       "3                          49188                10600                 3041   \n",
       "4                          49188                10600                 3041   \n",
       "\n",
       "county_state  anson county_NC  ashe county_NC  avery county_NC  \\\n",
       "0                        6672            6575             4697   \n",
       "1                        6672            6575             4697   \n",
       "2                        6672            6575             4697   \n",
       "3                        6672            6575             4697   \n",
       "4                        6672            6575             4697   \n",
       "\n",
       "county_state  beaufort county_NC  bertie county_NC  bladen county_NC  \\\n",
       "0                          12939              4353              9608   \n",
       "1                          12939              4353              9608   \n",
       "2                          12939              4353              9608   \n",
       "3                          12939              4353              9608   \n",
       "4                          12939              4353              9608   \n",
       "\n",
       "county_state  brunswick county_NC  ...  washington county_NC  \\\n",
       "0                           31630  ...                  3091   \n",
       "1                           31630  ...                  3091   \n",
       "2                           31630  ...                  3091   \n",
       "3                           31630  ...                  3091   \n",
       "4                           31630  ...                  3091   \n",
       "\n",
       "county_state  watauga county_NC  wayne county_NC  wilkes county_NC  \\\n",
       "0                         13215            32084             17994   \n",
       "1                         13215            32084             17994   \n",
       "2                         13215            32084             17994   \n",
       "3                         13215            32084             17994   \n",
       "4                         13215            32084             17994   \n",
       "\n",
       "county_state  wilson county_NC  yadkin county_NC  yancey county_NC  Total_NC  \\\n",
       "0                        22266             11315              5574   2772725   \n",
       "1                        22266             11315              5574   2772725   \n",
       "2                        22266             11315              5574   2772725   \n",
       "3                        22266             11315              5574   2772725   \n",
       "4                        22266             11315              5574   2772725   \n",
       "\n",
       "county_state  new_death  Week  \n",
       "0                   new  22.0  \n",
       "1                   new  22.0  \n",
       "2                   new  22.0  \n",
       "3                   new  22.0  \n",
       "4                   new  22.0  \n",
       "\n",
       "[5 rows x 103 columns]"
      ]
     },
     "execution_count": 32,
     "metadata": {},
     "output_type": "execute_result"
    }
   ],
   "source": [
    "df_NC.head()"
   ]
  },
  {
   "cell_type": "code",
   "execution_count": 33,
   "id": "5ef7d280",
   "metadata": {},
   "outputs": [],
   "source": [
    "#df_NC.index[]"
   ]
  },
  {
   "cell_type": "code",
   "execution_count": 34,
   "id": "e6aa6111",
   "metadata": {},
   "outputs": [],
   "source": [
    "#(df[\"population\"][pd.Series(df.columns).str.contains(\"_NC\")])"
   ]
  },
  {
   "cell_type": "markdown",
   "id": "5a0eaab4",
   "metadata": {},
   "source": [
    "### Normalizing NC Data"
   ]
  },
  {
   "cell_type": "code",
   "execution_count": 35,
   "id": "9c8d7ae1",
   "metadata": {},
   "outputs": [],
   "source": [
    "nc_pop=superdata[superdata.StateFIPS==37].iloc[:,-1:].sum()"
   ]
  },
  {
   "cell_type": "code",
   "execution_count": 36,
   "id": "8ac72e3c",
   "metadata": {},
   "outputs": [
    {
     "data": {
      "text/plain": [
       "population    10488084\n",
       "dtype: int64"
      ]
     },
     "execution_count": 36,
     "metadata": {},
     "output_type": "execute_result"
    }
   ],
   "source": [
    "nc_pop.head()"
   ]
  },
  {
   "cell_type": "code",
   "execution_count": 37,
   "id": "66820b13",
   "metadata": {
    "scrolled": false
   },
   "outputs": [
    {
     "data": {
      "text/plain": [
       "Index(['alamance county_NC', 'alexander county_NC', 'alleghany county_NC',\n",
       "       'anson county_NC', 'ashe county_NC', 'avery county_NC',\n",
       "       'beaufort county_NC', 'bertie county_NC', 'bladen county_NC',\n",
       "       'brunswick county_NC',\n",
       "       ...\n",
       "       'washington county_NC', 'watauga county_NC', 'wayne county_NC',\n",
       "       'wilkes county_NC', 'wilson county_NC', 'yadkin county_NC',\n",
       "       'yancey county_NC', 'Total_NC', 'new_death', 'Week'],\n",
       "      dtype='object', name='county_state', length=103)"
      ]
     },
     "execution_count": 37,
     "metadata": {},
     "output_type": "execute_result"
    }
   ],
   "source": [
    "df_NC.columns"
   ]
  },
  {
   "cell_type": "code",
   "execution_count": 38,
   "id": "5f2b11ca",
   "metadata": {},
   "outputs": [
    {
     "data": {
      "text/plain": [
       "RangeIndex(start=0, stop=4, step=1)"
      ]
     },
     "execution_count": 38,
     "metadata": {},
     "output_type": "execute_result"
    }
   ],
   "source": [
    "df_NC.index[:4]"
   ]
  },
  {
   "cell_type": "code",
   "execution_count": 39,
   "id": "97af1cac",
   "metadata": {},
   "outputs": [
    {
     "data": {
      "text/html": [
       "<div>\n",
       "<style scoped>\n",
       "    .dataframe tbody tr th:only-of-type {\n",
       "        vertical-align: middle;\n",
       "    }\n",
       "\n",
       "    .dataframe tbody tr th {\n",
       "        vertical-align: top;\n",
       "    }\n",
       "\n",
       "    .dataframe thead th {\n",
       "        text-align: right;\n",
       "    }\n",
       "</style>\n",
       "<table border=\"1\" class=\"dataframe\">\n",
       "  <thead>\n",
       "    <tr style=\"text-align: right;\">\n",
       "      <th>county_state</th>\n",
       "      <th>alleghany county_NC</th>\n",
       "      <th>anson county_NC</th>\n",
       "      <th>ashe county_NC</th>\n",
       "    </tr>\n",
       "  </thead>\n",
       "  <tbody>\n",
       "    <tr>\n",
       "      <th>0</th>\n",
       "      <td>3041</td>\n",
       "      <td>6672</td>\n",
       "      <td>6575</td>\n",
       "    </tr>\n",
       "    <tr>\n",
       "      <th>1</th>\n",
       "      <td>3041</td>\n",
       "      <td>6672</td>\n",
       "      <td>6575</td>\n",
       "    </tr>\n",
       "    <tr>\n",
       "      <th>2</th>\n",
       "      <td>3041</td>\n",
       "      <td>6672</td>\n",
       "      <td>6575</td>\n",
       "    </tr>\n",
       "    <tr>\n",
       "      <th>3</th>\n",
       "      <td>3041</td>\n",
       "      <td>6672</td>\n",
       "      <td>6575</td>\n",
       "    </tr>\n",
       "    <tr>\n",
       "      <th>4</th>\n",
       "      <td>3041</td>\n",
       "      <td>6672</td>\n",
       "      <td>6575</td>\n",
       "    </tr>\n",
       "    <tr>\n",
       "      <th>...</th>\n",
       "      <td>...</td>\n",
       "      <td>...</td>\n",
       "      <td>...</td>\n",
       "    </tr>\n",
       "    <tr>\n",
       "      <th>423</th>\n",
       "      <td>19</td>\n",
       "      <td>109</td>\n",
       "      <td>91</td>\n",
       "    </tr>\n",
       "    <tr>\n",
       "      <th>424</th>\n",
       "      <td>19</td>\n",
       "      <td>109</td>\n",
       "      <td>91</td>\n",
       "    </tr>\n",
       "    <tr>\n",
       "      <th>425</th>\n",
       "      <td>19</td>\n",
       "      <td>109</td>\n",
       "      <td>91</td>\n",
       "    </tr>\n",
       "    <tr>\n",
       "      <th>426</th>\n",
       "      <td>19</td>\n",
       "      <td>109</td>\n",
       "      <td>91</td>\n",
       "    </tr>\n",
       "    <tr>\n",
       "      <th>427</th>\n",
       "      <td>19</td>\n",
       "      <td>109</td>\n",
       "      <td>91</td>\n",
       "    </tr>\n",
       "  </tbody>\n",
       "</table>\n",
       "<p>428 rows × 3 columns</p>\n",
       "</div>"
      ],
      "text/plain": [
       "county_state  alleghany county_NC  anson county_NC  ashe county_NC\n",
       "0                            3041             6672            6575\n",
       "1                            3041             6672            6575\n",
       "2                            3041             6672            6575\n",
       "3                            3041             6672            6575\n",
       "4                            3041             6672            6575\n",
       "..                            ...              ...             ...\n",
       "423                            19              109              91\n",
       "424                            19              109              91\n",
       "425                            19              109              91\n",
       "426                            19              109              91\n",
       "427                            19              109              91\n",
       "\n",
       "[428 rows x 3 columns]"
      ]
     },
     "execution_count": 39,
     "metadata": {},
     "output_type": "execute_result"
    }
   ],
   "source": [
    "df_NC.iloc[:,2:5]"
   ]
  },
  {
   "cell_type": "code",
   "execution_count": 40,
   "id": "e1050be1",
   "metadata": {
    "scrolled": true
   },
   "outputs": [
    {
     "data": {
      "text/plain": [
       "Index(['alamance county_NC', 'alexander county_NC', 'alleghany county_NC',\n",
       "       'anson county_NC', 'ashe county_NC', 'avery county_NC',\n",
       "       'beaufort county_NC', 'bertie county_NC', 'bladen county_NC',\n",
       "       'brunswick county_NC',\n",
       "       ...\n",
       "       'washington county_NC', 'watauga county_NC', 'wayne county_NC',\n",
       "       'wilkes county_NC', 'wilson county_NC', 'yadkin county_NC',\n",
       "       'yancey county_NC', 'Total_NC', 'new_death', 'Week'],\n",
       "      dtype='object', name='county_state', length=103)"
      ]
     },
     "execution_count": 40,
     "metadata": {},
     "output_type": "execute_result"
    }
   ],
   "source": [
    "df_NC.columns"
   ]
  },
  {
   "cell_type": "code",
   "execution_count": 41,
   "id": "735ed727",
   "metadata": {
    "scrolled": true
   },
   "outputs": [
    {
     "data": {
      "text/plain": [
       "county_state\n",
       "yancey county_NC       5574\n",
       "Total_NC            2772725\n",
       "new_death               new\n",
       "Week                   22.0\n",
       "Name: 0, dtype: object"
      ]
     },
     "execution_count": 41,
     "metadata": {},
     "output_type": "execute_result"
    }
   ],
   "source": [
    "df_NC.iloc[0,99:103]"
   ]
  },
  {
   "cell_type": "code",
   "execution_count": 42,
   "id": "b72a23cb",
   "metadata": {},
   "outputs": [],
   "source": [
    "X_data = df_NC[['alamance county_NC', 'alexander county_NC', 'alleghany county_NC','anson county_NC', 'ashe county_NC', 'avery county_NC','beaufort county_NC', 'bertie county_NC', 'bladen county_NC','brunswick county_NC', 'buncombe county_NC', 'burke county_NC','cabarrus county_NC','caldwell county_NC','camden county_NC','carteret county_NC','caswell county_NC','catawba county_NC','chatham county_NC','cherokee county_NC','chowan county_NC','clay county_NC','cleveland county_NC','columbus county_NC','currituck county_NC','dare county_NC','davidson county_NC','davie county_NC','duplin county_NC','durham county_NC','edgecombe county_NC','forsyth county_NC','franklin county_NC','gaston county_NC','gates county_NC','graham county_NC','granville county_NC','greene county_NC','guilford county_NC','halifax county_NC','harnett county_NC','haywood county_NC','henderson county_NC','hertford county_NC','hoke county_NC','hyde county_NC','iredell county_NC','jackson county_NC','johnston county_NC','jones county_NC','lee county_NC','lenoir county_NC','lincoln county_NC','mcdowell county_NC','macon county_NC','madison county_NC','martin county_NC','mecklenburg county_NC','mitchell county_NC','montgomery county_NC','moore county_NC','nash county_NC','new hanover county_NC','northampton county_NC','onslow county_NC','orange county_NC','pamlico county_NC','pasquotank county_NC','pender county_NC','pitt county_NC','polk county_NC','randolph county_NC','richmond county_NC','robeson county_NC','rockingham county_NC','rowan county_NC','rutherford county_NC','sampson county_NC','scotland county_NC','stanly county_NC','stokes county_NC','surry county_NC','swain county_NC','transylvania county_NC','tyrrell county_NC','union county_NC','vance county_NC','wake county_NC','warren county_NC','washington county_NC','watauga county_NC','wayne county_NC','wilkes county_NC','wilson county_NC','yadkin county_NC','yancey county_NC','Total_NC']]\n",
    "Y_data = nc_pop"
   ]
  },
  {
   "cell_type": "code",
   "execution_count": 43,
   "id": "1e5c65ad",
   "metadata": {},
   "outputs": [
    {
     "data": {
      "text/html": [
       "<div>\n",
       "<style scoped>\n",
       "    .dataframe tbody tr th:only-of-type {\n",
       "        vertical-align: middle;\n",
       "    }\n",
       "\n",
       "    .dataframe tbody tr th {\n",
       "        vertical-align: top;\n",
       "    }\n",
       "\n",
       "    .dataframe thead th {\n",
       "        text-align: right;\n",
       "    }\n",
       "</style>\n",
       "<table border=\"1\" class=\"dataframe\">\n",
       "  <thead>\n",
       "    <tr style=\"text-align: right;\">\n",
       "      <th>county_state</th>\n",
       "      <th>alamance county_NC</th>\n",
       "      <th>alexander county_NC</th>\n",
       "      <th>alleghany county_NC</th>\n",
       "      <th>anson county_NC</th>\n",
       "      <th>ashe county_NC</th>\n",
       "      <th>avery county_NC</th>\n",
       "      <th>beaufort county_NC</th>\n",
       "      <th>bertie county_NC</th>\n",
       "      <th>bladen county_NC</th>\n",
       "      <th>brunswick county_NC</th>\n",
       "      <th>...</th>\n",
       "      <th>wake county_NC</th>\n",
       "      <th>warren county_NC</th>\n",
       "      <th>washington county_NC</th>\n",
       "      <th>watauga county_NC</th>\n",
       "      <th>wayne county_NC</th>\n",
       "      <th>wilkes county_NC</th>\n",
       "      <th>wilson county_NC</th>\n",
       "      <th>yadkin county_NC</th>\n",
       "      <th>yancey county_NC</th>\n",
       "      <th>Total_NC</th>\n",
       "    </tr>\n",
       "  </thead>\n",
       "  <tbody>\n",
       "    <tr>\n",
       "      <th>0</th>\n",
       "      <td>49188</td>\n",
       "      <td>10600</td>\n",
       "      <td>3041</td>\n",
       "      <td>6672</td>\n",
       "      <td>6575</td>\n",
       "      <td>4697</td>\n",
       "      <td>12939</td>\n",
       "      <td>4353</td>\n",
       "      <td>9608</td>\n",
       "      <td>31630</td>\n",
       "      <td>...</td>\n",
       "      <td>317226</td>\n",
       "      <td>4502</td>\n",
       "      <td>3091</td>\n",
       "      <td>13215</td>\n",
       "      <td>32084</td>\n",
       "      <td>17994</td>\n",
       "      <td>22266</td>\n",
       "      <td>11315</td>\n",
       "      <td>5574</td>\n",
       "      <td>2772725</td>\n",
       "    </tr>\n",
       "    <tr>\n",
       "      <th>1</th>\n",
       "      <td>49188</td>\n",
       "      <td>10600</td>\n",
       "      <td>3041</td>\n",
       "      <td>6672</td>\n",
       "      <td>6575</td>\n",
       "      <td>4697</td>\n",
       "      <td>12939</td>\n",
       "      <td>4353</td>\n",
       "      <td>9608</td>\n",
       "      <td>31630</td>\n",
       "      <td>...</td>\n",
       "      <td>317226</td>\n",
       "      <td>4502</td>\n",
       "      <td>3091</td>\n",
       "      <td>13215</td>\n",
       "      <td>32084</td>\n",
       "      <td>17994</td>\n",
       "      <td>22266</td>\n",
       "      <td>11315</td>\n",
       "      <td>5574</td>\n",
       "      <td>2772725</td>\n",
       "    </tr>\n",
       "    <tr>\n",
       "      <th>2</th>\n",
       "      <td>49188</td>\n",
       "      <td>10600</td>\n",
       "      <td>3041</td>\n",
       "      <td>6672</td>\n",
       "      <td>6575</td>\n",
       "      <td>4697</td>\n",
       "      <td>12939</td>\n",
       "      <td>4353</td>\n",
       "      <td>9608</td>\n",
       "      <td>31630</td>\n",
       "      <td>...</td>\n",
       "      <td>317226</td>\n",
       "      <td>4502</td>\n",
       "      <td>3091</td>\n",
       "      <td>13215</td>\n",
       "      <td>32084</td>\n",
       "      <td>17994</td>\n",
       "      <td>22266</td>\n",
       "      <td>11315</td>\n",
       "      <td>5574</td>\n",
       "      <td>2772725</td>\n",
       "    </tr>\n",
       "    <tr>\n",
       "      <th>3</th>\n",
       "      <td>49188</td>\n",
       "      <td>10600</td>\n",
       "      <td>3041</td>\n",
       "      <td>6672</td>\n",
       "      <td>6575</td>\n",
       "      <td>4697</td>\n",
       "      <td>12939</td>\n",
       "      <td>4353</td>\n",
       "      <td>9608</td>\n",
       "      <td>31630</td>\n",
       "      <td>...</td>\n",
       "      <td>317226</td>\n",
       "      <td>4502</td>\n",
       "      <td>3091</td>\n",
       "      <td>13215</td>\n",
       "      <td>32084</td>\n",
       "      <td>17994</td>\n",
       "      <td>22266</td>\n",
       "      <td>11315</td>\n",
       "      <td>5574</td>\n",
       "      <td>2772725</td>\n",
       "    </tr>\n",
       "    <tr>\n",
       "      <th>4</th>\n",
       "      <td>49188</td>\n",
       "      <td>10600</td>\n",
       "      <td>3041</td>\n",
       "      <td>6672</td>\n",
       "      <td>6575</td>\n",
       "      <td>4697</td>\n",
       "      <td>12939</td>\n",
       "      <td>4353</td>\n",
       "      <td>9608</td>\n",
       "      <td>31630</td>\n",
       "      <td>...</td>\n",
       "      <td>317226</td>\n",
       "      <td>4502</td>\n",
       "      <td>3091</td>\n",
       "      <td>13215</td>\n",
       "      <td>32084</td>\n",
       "      <td>17994</td>\n",
       "      <td>22266</td>\n",
       "      <td>11315</td>\n",
       "      <td>5574</td>\n",
       "      <td>2772725</td>\n",
       "    </tr>\n",
       "  </tbody>\n",
       "</table>\n",
       "<p>5 rows × 97 columns</p>\n",
       "</div>"
      ],
      "text/plain": [
       "county_state  alamance county_NC  alexander county_NC  alleghany county_NC  \\\n",
       "0                          49188                10600                 3041   \n",
       "1                          49188                10600                 3041   \n",
       "2                          49188                10600                 3041   \n",
       "3                          49188                10600                 3041   \n",
       "4                          49188                10600                 3041   \n",
       "\n",
       "county_state  anson county_NC  ashe county_NC  avery county_NC  \\\n",
       "0                        6672            6575             4697   \n",
       "1                        6672            6575             4697   \n",
       "2                        6672            6575             4697   \n",
       "3                        6672            6575             4697   \n",
       "4                        6672            6575             4697   \n",
       "\n",
       "county_state  beaufort county_NC  bertie county_NC  bladen county_NC  \\\n",
       "0                          12939              4353              9608   \n",
       "1                          12939              4353              9608   \n",
       "2                          12939              4353              9608   \n",
       "3                          12939              4353              9608   \n",
       "4                          12939              4353              9608   \n",
       "\n",
       "county_state  brunswick county_NC  ...  wake county_NC  warren county_NC  \\\n",
       "0                           31630  ...          317226              4502   \n",
       "1                           31630  ...          317226              4502   \n",
       "2                           31630  ...          317226              4502   \n",
       "3                           31630  ...          317226              4502   \n",
       "4                           31630  ...          317226              4502   \n",
       "\n",
       "county_state  washington county_NC  watauga county_NC  wayne county_NC  \\\n",
       "0                             3091              13215            32084   \n",
       "1                             3091              13215            32084   \n",
       "2                             3091              13215            32084   \n",
       "3                             3091              13215            32084   \n",
       "4                             3091              13215            32084   \n",
       "\n",
       "county_state  wilkes county_NC  wilson county_NC  yadkin county_NC  \\\n",
       "0                        17994             22266             11315   \n",
       "1                        17994             22266             11315   \n",
       "2                        17994             22266             11315   \n",
       "3                        17994             22266             11315   \n",
       "4                        17994             22266             11315   \n",
       "\n",
       "county_state  yancey county_NC  Total_NC  \n",
       "0                         5574   2772725  \n",
       "1                         5574   2772725  \n",
       "2                         5574   2772725  \n",
       "3                         5574   2772725  \n",
       "4                         5574   2772725  \n",
       "\n",
       "[5 rows x 97 columns]"
      ]
     },
     "execution_count": 43,
     "metadata": {},
     "output_type": "execute_result"
    }
   ],
   "source": [
    "X_data.head()"
   ]
  },
  {
   "cell_type": "code",
   "execution_count": 44,
   "id": "5fcedd41",
   "metadata": {},
   "outputs": [],
   "source": [
    "#X_data.apply(lambda x: (x-x.min(axis=1))/(x.max(axis=1)-x.min(axis=1))"
   ]
  },
  {
   "cell_type": "markdown",
   "id": "f24b9469",
   "metadata": {},
   "source": [
    "#### Using Sklearn to normalize https://www.youtube.com/watch?v=Fw5iiyIHzew"
   ]
  },
  {
   "cell_type": "code",
   "execution_count": 45,
   "id": "b0b33b87",
   "metadata": {
    "scrolled": true
   },
   "outputs": [],
   "source": [
    "from sklearn.preprocessing import MinMaxScaler"
   ]
  },
  {
   "cell_type": "code",
   "execution_count": 46,
   "id": "ffd91acc",
   "metadata": {},
   "outputs": [],
   "source": [
    "scalar = MinMaxScaler()\n",
    "scalar.fit(X_data)\n",
    "NC_Data = scalar.transform(X_data)"
   ]
  },
  {
   "cell_type": "code",
   "execution_count": 47,
   "id": "89c5bb2b",
   "metadata": {
    "scrolled": false
   },
   "outputs": [
    {
     "data": {
      "text/plain": [
       "array([[8.35033693e-01, 8.58092035e-01, 8.49241999e-01, ...,\n",
       "        7.88698654e-01, 8.95762299e-01, 8.34731959e-01],\n",
       "       [8.35033693e-01, 8.58092035e-01, 8.49241999e-01, ...,\n",
       "        7.88698654e-01, 8.95762299e-01, 8.34731959e-01],\n",
       "       [8.35033693e-01, 8.58092035e-01, 8.49241999e-01, ...,\n",
       "        7.88698654e-01, 8.95762299e-01, 8.34731959e-01],\n",
       "       ...,\n",
       "       [1.02878894e-03, 1.31244361e-03, 8.42223470e-04, ...,\n",
       "        1.40914535e-03, 1.94836824e-03, 9.03965511e-04],\n",
       "       [1.02878894e-03, 1.31244361e-03, 8.42223470e-04, ...,\n",
       "        1.40914535e-03, 1.94836824e-03, 9.03965511e-04],\n",
       "       [1.02878894e-03, 1.31244361e-03, 8.42223470e-04, ...,\n",
       "        1.40914535e-03, 1.94836824e-03, 9.03965511e-04]])"
      ]
     },
     "execution_count": 47,
     "metadata": {},
     "output_type": "execute_result"
    }
   ],
   "source": [
    "NC_Data"
   ]
  },
  {
   "cell_type": "code",
   "execution_count": 48,
   "id": "79053d38",
   "metadata": {},
   "outputs": [],
   "source": [
    "#sns.histplot(data=df_NC[df_NC[\"new_death\"]==\"new\"], x=NC_Data, kde=True)"
   ]
  },
  {
   "cell_type": "markdown",
   "id": "84a0c6ca",
   "metadata": {},
   "source": [
    "### NC Data KDE"
   ]
  },
  {
   "cell_type": "markdown",
   "id": "21d16235",
   "metadata": {},
   "source": [
    "#### Plotting Distribution"
   ]
  },
  {
   "cell_type": "code",
   "execution_count": 49,
   "id": "79acbdd4",
   "metadata": {
    "scrolled": true
   },
   "outputs": [
    {
     "data": {
      "text/plain": [
       "<AxesSubplot:xlabel='Total_NC', ylabel='Count'>"
      ]
     },
     "execution_count": 49,
     "metadata": {},
     "output_type": "execute_result"
    },
    {
     "data": {
      "image/png": "[encoded data removed]",
      "text/plain": [
       "<Figure size 640x480 with 1 Axes>"
      ]
     },
     "metadata": {},
     "output_type": "display_data"
    }
   ],
   "source": [
    "sns.histplot(data=df_NC[df_NC[\"new_death\"]==\"new\"],x=\"Total_NC\", kde = True)"
   ]
  },
  {
   "cell_type": "code",
   "execution_count": 50,
   "id": "82571c06",
   "metadata": {
    "scrolled": true
   },
   "outputs": [
    {
     "data": {
      "text/plain": [
       "<AxesSubplot:xlabel='Total_NC', ylabel='Density'>"
      ]
     },
     "execution_count": 50,
     "metadata": {},
     "output_type": "execute_result"
    },
    {
     "data": {
      "image/png": "[encoded data removed]",
      "text/plain": [
       "<Figure size 640x480 with 1 Axes>"
      ]
     },
     "metadata": {},
     "output_type": "display_data"
    }
   ],
   "source": [
    "sns.kdeplot(data=df_NC[df_NC[\"new_death\"]==\"new\"],x=\"Total_NC\")"
   ]
  },
  {
   "cell_type": "code",
   "execution_count": 51,
   "id": "9c3b4c66",
   "metadata": {
    "scrolled": false
   },
   "outputs": [
    {
     "data": {
      "text/plain": [
       "<matplotlib.lines.Line2D at 0x1b15a4bd940>"
      ]
     },
     "execution_count": 51,
     "metadata": {},
     "output_type": "execute_result"
    },
    {
     "data": {
      "image/png": "[encoded data removed]",
      "text/plain": [
       "<Figure size 640x480 with 1 Axes>"
      ]
     },
     "metadata": {},
     "output_type": "display_data"
    }
   ],
   "source": [
    "sns.kdeplot(data=df_NC[df_NC[\"new_death\"]==\"new\"],x=\"Total_NC\")\n",
    "plt.axvline(df_NC[df_NC[\"new_death\"]==\"new\"][\"Total_NC\"].mean(), color = \"red\")\n",
    "plt.axvline(df_NC[df_NC[\"new_death\"]==\"new\"][\"Total_NC\"].median(), color = \"green\")\n",
    "plt.axvline(df_NC[df_NC[\"new_death\"]==\"new\"][\"Total_NC\"].mode()[0], color = \"blue\")"
   ]
  },
  {
   "cell_type": "code",
   "execution_count": 52,
   "id": "e8ba4893",
   "metadata": {
    "scrolled": false
   },
   "outputs": [
    {
     "data": {
      "text/plain": [
       "3103816.0841121497"
      ]
     },
     "execution_count": 52,
     "metadata": {},
     "output_type": "execute_result"
    }
   ],
   "source": [
    "df_NC[df_NC[\"new_death\"]==\"new\"][\"Total_NC\"].mean()"
   ]
  },
  {
   "cell_type": "code",
   "execution_count": 53,
   "id": "c8d8d97d",
   "metadata": {},
   "outputs": [
    {
     "name": "stdout",
     "output_type": "stream",
     "text": [
      "Variance of new death cases in NC: 28698153394.21727\n"
     ]
    }
   ],
   "source": [
    "ncvar=np.var(df_NC[df_NC[\"new_death\"]==\"new\"][\"Total_NC\"])\n",
    "print(\"Variance of new death cases in NC:\", ncvar)"
   ]
  },
  {
   "cell_type": "markdown",
   "id": "f4779720",
   "metadata": {},
   "source": [
    "###### This is a bimodal distribution because it has two peaks. It is skewed to the left. The center is accounted for through the mean, median and mode which is found around 3103816. "
   ]
  },
  {
   "cell_type": "markdown",
   "id": "a5679b63",
   "metadata": {},
   "source": [
    "## Comparing it to VA, GA, SC"
   ]
  },
  {
   "cell_type": "markdown",
   "id": "323a0b7f",
   "metadata": {},
   "source": [
    "#### VA"
   ]
  },
  {
   "cell_type": "code",
   "execution_count": 70,
   "id": "6975ef1c",
   "metadata": {},
   "outputs": [
    {
     "data": {
      "text/plain": [
       "2863        accomack county_VA\n",
       "2864       albemarle county_VA\n",
       "2865       alleghany county_VA\n",
       "2866          amelia county_VA\n",
       "2867         amherst county_VA\n",
       "                 ...          \n",
       "2991           suffolk city_VA\n",
       "2992    virginia beach city_VA\n",
       "2993        waynesboro city_VA\n",
       "2994      williamsburg city_VA\n",
       "2995        winchester city_VA\n",
       "Name: county_state, Length: 133, dtype: object"
      ]
     },
     "execution_count": 70,
     "metadata": {},
     "output_type": "execute_result"
    }
   ],
   "source": [
    "col_VA=pd.Series(superdataT.columns)[pd.Series(superdataT.columns).str.contains(\"_VA\")][1:]\n",
    "col_VA"
   ]
  },
  {
   "cell_type": "code",
   "execution_count": 71,
   "id": "d7a20def",
   "metadata": {},
   "outputs": [],
   "source": [
    "df_VA = superdataT[col_VA].copy()\n",
    "df_VA[\"Total_VA\"]=df_VA.sum(axis=1)\n",
    "df_VA[\"new_death\"]=superdataT[\"new_death\"]\n",
    "df_VA[\"Week\"]=superdataT[\"Week\"]"
   ]
  },
  {
   "cell_type": "code",
   "execution_count": 89,
   "id": "12a78be3",
   "metadata": {
    "scrolled": true
   },
   "outputs": [
    {
     "data": {
      "text/plain": [
       "<matplotlib.lines.Line2D at 0x1b163607ee0>"
      ]
     },
     "execution_count": 89,
     "metadata": {},
     "output_type": "execute_result"
    },
    {
     "data": {
      "image/png": "[encoded data removed]",
      "text/plain": [
       "<Figure size 640x480 with 1 Axes>"
      ]
     },
     "metadata": {},
     "output_type": "display_data"
    }
   ],
   "source": [
    "sns.histplot(data=df_VA[df_VA[\"new_death\"]==\"new\"],x=\"Total_VA\", kde = True)\n",
    "plt.axvline(df_VA[df_VA[\"new_death\"]==\"new\"][\"Total_VA\"].mean(), color = \"red\")\n",
    "plt.axvline(df_VA[df_VA[\"new_death\"]==\"new\"][\"Total_VA\"].median(), color = \"green\")\n",
    "plt.axvline(df_VA[df_VA[\"new_death\"]==\"new\"][\"Total_VA\"].mode()[0], color = \"blue\")"
   ]
  },
  {
   "cell_type": "code",
   "execution_count": 90,
   "id": "92f87551",
   "metadata": {},
   "outputs": [
    {
     "data": {
      "text/plain": [
       "2032707.1074766356"
      ]
     },
     "execution_count": 90,
     "metadata": {},
     "output_type": "execute_result"
    }
   ],
   "source": [
    "df_VA[df_VA[\"new_death\"]==\"new\"][\"Total_VA\"].mean()"
   ]
  },
  {
   "cell_type": "markdown",
   "id": "3134a3c8",
   "metadata": {},
   "source": [
    "### GA"
   ]
  },
  {
   "cell_type": "code",
   "execution_count": 73,
   "id": "7378ff0f",
   "metadata": {},
   "outputs": [
    {
     "data": {
      "text/plain": [
       "395      appling county_GA\n",
       "396     atkinson county_GA\n",
       "397        bacon county_GA\n",
       "398        baker county_GA\n",
       "399      baldwin county_GA\n",
       "              ...         \n",
       "549    whitfield county_GA\n",
       "550       wilcox county_GA\n",
       "551       wilkes county_GA\n",
       "552    wilkinson county_GA\n",
       "553        worth county_GA\n",
       "Name: county_state, Length: 159, dtype: object"
      ]
     },
     "execution_count": 73,
     "metadata": {},
     "output_type": "execute_result"
    }
   ],
   "source": [
    "col_GA=pd.Series(superdataT.columns)[pd.Series(superdataT.columns).str.contains(\"_GA\")][1:]\n",
    "col_GA"
   ]
  },
  {
   "cell_type": "code",
   "execution_count": 78,
   "id": "24bcedbd",
   "metadata": {},
   "outputs": [],
   "source": [
    "df_GA = superdataT[col_GA].copy()\n",
    "df_GA[\"Total_GA\"]=df_GA.sum(axis=1)\n",
    "df_GA[\"Week\"]=superdataT[\"Week\"]\n",
    "df_GA[\"new_death\"]=superdataT[\"new_death\"]"
   ]
  },
  {
   "cell_type": "code",
   "execution_count": 91,
   "id": "78796fab",
   "metadata": {
    "scrolled": true
   },
   "outputs": [
    {
     "data": {
      "text/plain": [
       "<matplotlib.lines.Line2D at 0x1b1637270d0>"
      ]
     },
     "execution_count": 91,
     "metadata": {},
     "output_type": "execute_result"
    },
    {
     "data": {
      "image/png": "[encoded data removed]",
      "text/plain": [
       "<Figure size 640x480 with 1 Axes>"
      ]
     },
     "metadata": {},
     "output_type": "display_data"
    }
   ],
   "source": [
    "sns.histplot(data=df_GA[df_GA[\"new_death\"]==\"new\"],x=\"Total_GA\", kde = True)\n",
    "plt.axvline(df_GA[df_GA[\"new_death\"]==\"new\"][\"Total_GA\"].mean(), color = \"red\")\n",
    "plt.axvline(df_GA[df_GA[\"new_death\"]==\"new\"][\"Total_GA\"].median(), color = \"green\")\n",
    "plt.axvline(df_GA[df_GA[\"new_death\"]==\"new\"][\"Total_GA\"].mode()[0], color = \"blue\")"
   ]
  },
  {
   "cell_type": "code",
   "execution_count": 92,
   "id": "79febd27",
   "metadata": {},
   "outputs": [
    {
     "data": {
      "text/plain": [
       "2096101.238317757"
      ]
     },
     "execution_count": 92,
     "metadata": {},
     "output_type": "execute_result"
    }
   ],
   "source": [
    "df_GA[df_GA[\"new_death\"]==\"new\"][\"Total_GA\"].mean()"
   ]
  },
  {
   "cell_type": "markdown",
   "id": "6cfd8c0a",
   "metadata": {},
   "source": [
    "### TN"
   ]
  },
  {
   "cell_type": "code",
   "execution_count": 84,
   "id": "e61822bb",
   "metadata": {
    "scrolled": true
   },
   "outputs": [
    {
     "data": {
      "text/plain": [
       "2467      anderson county_TN\n",
       "2468       bedford county_TN\n",
       "2469        benton county_TN\n",
       "2470       bledsoe county_TN\n",
       "2471        blount county_TN\n",
       "                ...         \n",
       "2557         wayne county_TN\n",
       "2558       weakley county_TN\n",
       "2559         white county_TN\n",
       "2560    williamson county_TN\n",
       "2561        wilson county_TN\n",
       "Name: county_state, Length: 95, dtype: object"
      ]
     },
     "execution_count": 84,
     "metadata": {},
     "output_type": "execute_result"
    }
   ],
   "source": [
    "col_TN=pd.Series(superdataT.columns)[pd.Series(superdataT.columns).str.contains(\"_TN\")][1:]\n",
    "col_TN"
   ]
  },
  {
   "cell_type": "code",
   "execution_count": 85,
   "id": "932b5669",
   "metadata": {},
   "outputs": [
    {
     "name": "stderr",
     "output_type": "stream",
     "text": [
      "C:\\Users\\amyme\\AppData\\Local\\Temp\\ipykernel_14660\\3633611855.py:2: FutureWarning: Dropping of nuisance columns in DataFrame reductions (with 'numeric_only=None') is deprecated; in a future version this will raise TypeError.  Select only valid columns before calling the reduction.\n",
      "  df_TN[\"Total_TN\"]=df_sc.sum(axis=1)\n"
     ]
    }
   ],
   "source": [
    "df_TN=superdataT[col_TN].copy()\n",
    "df_TN[\"Total_TN\"]=df_sc.sum(axis=1)\n",
    "df_TN[\"new_death\"]=superdataT[\"new_death\"]\n",
    "df_TN[\"Week\"]=superdataT[\"Week\"]"
   ]
  },
  {
   "cell_type": "code",
   "execution_count": 93,
   "id": "76ddc0df",
   "metadata": {
    "scrolled": true
   },
   "outputs": [
    {
     "data": {
      "text/plain": [
       "<matplotlib.lines.Line2D at 0x1b15a467400>"
      ]
     },
     "execution_count": 93,
     "metadata": {},
     "output_type": "execute_result"
    },
    {
     "data": {
      "image/png": "[encoded data removed]",
      "text/plain": [
       "<Figure size 640x480 with 1 Axes>"
      ]
     },
     "metadata": {},
     "output_type": "display_data"
    }
   ],
   "source": [
    "sns.histplot(data=df_TN[df_TN[\"new_death\"]==\"new\"],x=\"Total_TN\", kde = True)\n",
    "plt.axvline(df_TN[df_TN[\"new_death\"]==\"new\"][\"Total_TN\"].mean(), color = \"red\")\n",
    "plt.axvline(df_TN[df_TN[\"new_death\"]==\"new\"][\"Total_TN\"].median(), color = \"green\")\n",
    "plt.axvline(df_TN[df_TN[\"new_death\"]==\"new\"][\"Total_TN\"].mode()[0], color = \"blue\")"
   ]
  },
  {
   "cell_type": "code",
   "execution_count": 94,
   "id": "55bbbe44",
   "metadata": {
    "scrolled": true
   },
   "outputs": [
    {
     "data": {
      "text/plain": [
       "2963329.070093458"
      ]
     },
     "execution_count": 94,
     "metadata": {},
     "output_type": "execute_result"
    }
   ],
   "source": [
    "df_TN[df_TN[\"new_death\"]==\"new\"][\"Total_TN\"].mean()"
   ]
  },
  {
   "cell_type": "code",
   "execution_count": 104,
   "id": "93c5e42a",
   "metadata": {
    "scrolled": true
   },
   "outputs": [
    {
     "name": "stdout",
     "output_type": "stream",
     "text": [
      "population    0.238147\n",
      "dtype: float64\n"
     ]
    }
   ],
   "source": [
    "norm_VA = (df_VA[df_VA[\"new_death\"]==\"new\"][\"Total_VA\"].mean())/(superdata[superdata.StateFIPS==51].iloc[:,-1:].sum())\n",
    "print(norm_VA)"
   ]
  },
  {
   "cell_type": "code",
   "execution_count": 105,
   "id": "6a0d8940",
   "metadata": {},
   "outputs": [
    {
     "name": "stdout",
     "output_type": "stream",
     "text": [
      "population    0.197421\n",
      "dtype: float64\n"
     ]
    }
   ],
   "source": [
    "norm_GA = (df_GA[df_GA[\"new_death\"]==\"new\"][\"Total_GA\"].mean())/(superdata[superdata.StateFIPS==13].iloc[:,-1:].sum())\n",
    "print(norm_GA)"
   ]
  },
  {
   "cell_type": "code",
   "execution_count": 106,
   "id": "5c163d78",
   "metadata": {},
   "outputs": [
    {
     "name": "stdout",
     "output_type": "stream",
     "text": [
      "population    0.433922\n",
      "dtype: float64\n"
     ]
    }
   ],
   "source": [
    "norm_TN = (df_TN[df_TN[\"new_death\"]==\"new\"][\"Total_TN\"].mean())/(superdata[superdata.StateFIPS==47].iloc[:,-1:].sum())\n",
    "print(norm_TN)"
   ]
  },
  {
   "cell_type": "markdown",
   "id": "cfce4f4d",
   "metadata": {},
   "source": [
    "### With the normalized mean values of Virgina having a mean of .238, Georgia having a mean of .197, and Tennesse a mean of .434 we can observe that Georgia had the most pragmatic approach to covid since it had a lower case mean. Tennesse had high cases for a prolonged period of time, as opposed to Georgia, North Carolina and Virgina that had two high points around the holidays and school beginnings which made the distributions bimodal. "
   ]
  },
  {
   "cell_type": "code",
   "execution_count": 54,
   "id": "2d921220",
   "metadata": {
    "scrolled": false
   },
   "outputs": [
    {
     "name": "stderr",
     "output_type": "stream",
     "text": [
      "C:\\Users\\amyme\\AppData\\Local\\Temp\\ipykernel_14660\\2641987803.py:1: DtypeWarning: Columns (2,3,4,5,6,7,8,9,10,11,12,13,14,15,16,17,18,19,20,21,22,23,24,25,26,27,28,29,30,31,32,33,98,99,100,101,182,183,184,185,186,187,188,189,190,191,192,193,194,195,196,197,198,199,200,201,202,203,204,205,206,207,208,209,210,211,212,213,214,215,216,217,218,219,220,221,222,223,224,225,226,227,228,229,230,231,232,233,234,235,236,237,238,239,240,241,242,243,244,245,246,247,248,249,250,251,252,253,254,255,256,257,258,259,260,261,262,263,264,265,266,267,268,269,270,271,272,273,274,275,276,277,278,279,280,281,286,287,288,289,294,295,296,297,298,299,300,301,302,303,304,305,306,307,308,309,310,311,312,313,314,315,316,317,318,319,320,321,322,323,324,325,326,327,328,329,330,331,332,333,334,335,336,337,338,339,340,341,342,343,344,345,346,347,348,349,350,351,352,353,358,359,360,361,366,367,368,369,370,371,372,373,374,375,376,377,378,379,380,381,382,383,384,385,386,387,388,389,390,391,392,393,394,395,396,397,398,399,400,401,402,403,404,405,406,407,408,409,410,411,412,413,414,415,416,417,418,419,420,421,422,423,424,425,426,427,428,429,430,431,432,433,434,435,436,437,438,439,440,441,442,443,444,445,446,447,448,449,450,451,452,453,454,455,456,457,458,459,460,461,462,463,464,465,466,467,468,469,470,471,472,473,550,551,554,555,556,557,558,559,560,561,562,563,564,565,566,567,568,569,570,571,572,573,574,575,576,577,578,579,582,583,584,585,730,733,734,735,736,737,738,739,740,741,742,743,744,745,746,747,748,749,750,751,754,755,756,757,758,759,760,761,762,763,764,765,766,767,768,769,770,771,772,773,774,775,776,777,778,779,780,781,782,783,784,785,786,787,788,789,790,791,792,793,802,803,804,805,810,811,812,813,818,819,820,821,826,827,828,829,834,835,836,837,842,843,844,845,846,847,850,851,852,853,854,855,856,857,858,859,860,861,862,863,864,865,866,867,868,869,870,871,872,873,874,875,876,877,878,879,880,881,882,883,884,885,886,887,888,889,926,929,930,931,932,933,934,935,936,937,938,939,940,941,942,943,944,945,946,949,950,951,952,953,954,955,958,959,962,965,966,967,968,969,970,971,972,973,974,975,976,977,978,979,980,981,982,983,986,987,988,989,990,991,992,993,994,995,996,997,998,999,1000,1001,1002,1003,1006,1007,1008,1009,1010,1011,1012,1013,1014,1015,1016,1017,1018,1019,1020,1021,1022,1023,1024,1025,1026,1027,1028,1029,1030,1031,1032,1033,1034,1035,1036,1037,1038,1039,1040,1041,1042,1043,1044,1045,1046,1047,1048,1049,1050,1051,1052,1053,1054,1055,1056,1057,1058,1059,1060,1061,1062,1063,1064,1065,1066,1067,1068,1069,1070,1071,1072,1073,1074,1075,1076,1077,1078,1079,1080,1081,1082,1083,1084,1085,1086,1087,1088,1089,1090,1091,1092,1093,1094,1095,1096,1097) have mixed types. Specify dtype option on import or set low_memory=False.\n",
      "  df2 = pd.read_csv(\"EconomicCharac.csv\")\n"
     ]
    }
   ],
   "source": [
    "df2 = pd.read_csv(\"EconomicCharac.csv\")"
   ]
  },
  {
   "cell_type": "code",
   "execution_count": 55,
   "id": "e730c851",
   "metadata": {},
   "outputs": [],
   "source": [
    "df2.columns=df2.iloc[0]"
   ]
  },
  {
   "cell_type": "code",
   "execution_count": 95,
   "id": "c05e96be",
   "metadata": {},
   "outputs": [
    {
     "data": {
      "text/html": [
       "<div>\n",
       "<style scoped>\n",
       "    .dataframe tbody tr th:only-of-type {\n",
       "        vertical-align: middle;\n",
       "    }\n",
       "\n",
       "    .dataframe tbody tr th {\n",
       "        vertical-align: top;\n",
       "    }\n",
       "\n",
       "    .dataframe thead th {\n",
       "        text-align: right;\n",
       "    }\n",
       "</style>\n",
       "<table border=\"1\" class=\"dataframe\">\n",
       "  <thead>\n",
       "    <tr style=\"text-align: right;\">\n",
       "      <th></th>\n",
       "      <th>Geography</th>\n",
       "      <th>Geographic Area Name</th>\n",
       "      <th>Estimate!!EMPLOYMENT STATUS!!Population 16 years and over</th>\n",
       "      <th>Margin of Error!!EMPLOYMENT STATUS!!Population 16 years and over</th>\n",
       "      <th>Annotation of Margin of Error!!EMPLOYMENT STATUS!!Population 16 years and over</th>\n",
       "      <th>Annotation of Estimate!!EMPLOYMENT STATUS!!Population 16 years and over</th>\n",
       "      <th>Estimate!!EMPLOYMENT STATUS!!Population 16 years and over!!In labor force</th>\n",
       "      <th>Annotation of Estimate!!EMPLOYMENT STATUS!!Population 16 years and over!!In labor force</th>\n",
       "      <th>Margin of Error!!EMPLOYMENT STATUS!!Population 16 years and over!!In labor force</th>\n",
       "      <th>Annotation of Margin of Error!!EMPLOYMENT STATUS!!Population 16 years and over!!In labor force</th>\n",
       "      <th>...</th>\n",
       "      <th>Annotation of Percent Margin of Error!!PERCENTAGE OF FAMILIES AND PEOPLE WHOSE INCOME IN THE PAST 12 MONTHS IS BELOW THE POVERTY LEVEL!!All people!!18 years and over!!65 years and over</th>\n",
       "      <th>Percent!!PERCENTAGE OF FAMILIES AND PEOPLE WHOSE INCOME IN THE PAST 12 MONTHS IS BELOW THE POVERTY LEVEL!!All people!!People in families</th>\n",
       "      <th>Percent Margin of Error!!PERCENTAGE OF FAMILIES AND PEOPLE WHOSE INCOME IN THE PAST 12 MONTHS IS BELOW THE POVERTY LEVEL!!All people!!People in families</th>\n",
       "      <th>Annotation of Percent Margin of Error!!PERCENTAGE OF FAMILIES AND PEOPLE WHOSE INCOME IN THE PAST 12 MONTHS IS BELOW THE POVERTY LEVEL!!All people!!People in families</th>\n",
       "      <th>Annotation of Percent!!PERCENTAGE OF FAMILIES AND PEOPLE WHOSE INCOME IN THE PAST 12 MONTHS IS BELOW THE POVERTY LEVEL!!All people!!People in families</th>\n",
       "      <th>Percent!!PERCENTAGE OF FAMILIES AND PEOPLE WHOSE INCOME IN THE PAST 12 MONTHS IS BELOW THE POVERTY LEVEL!!All people!!Unrelated individuals 15 years and over</th>\n",
       "      <th>Annotation of Percent!!PERCENTAGE OF FAMILIES AND PEOPLE WHOSE INCOME IN THE PAST 12 MONTHS IS BELOW THE POVERTY LEVEL!!All people!!Unrelated individuals 15 years and over</th>\n",
       "      <th>Percent Margin of Error!!PERCENTAGE OF FAMILIES AND PEOPLE WHOSE INCOME IN THE PAST 12 MONTHS IS BELOW THE POVERTY LEVEL!!All people!!Unrelated individuals 15 years and over</th>\n",
       "      <th>Annotation of Percent Margin of Error!!PERCENTAGE OF FAMILIES AND PEOPLE WHOSE INCOME IN THE PAST 12 MONTHS IS BELOW THE POVERTY LEVEL!!All people!!Unrelated individuals 15 years and over</th>\n",
       "      <th>NaN</th>\n",
       "    </tr>\n",
       "    <tr>\n",
       "      <th>Geographic Area Name</th>\n",
       "      <th></th>\n",
       "      <th></th>\n",
       "      <th></th>\n",
       "      <th></th>\n",
       "      <th></th>\n",
       "      <th></th>\n",
       "      <th></th>\n",
       "      <th></th>\n",
       "      <th></th>\n",
       "      <th></th>\n",
       "      <th></th>\n",
       "      <th></th>\n",
       "      <th></th>\n",
       "      <th></th>\n",
       "      <th></th>\n",
       "      <th></th>\n",
       "      <th></th>\n",
       "      <th></th>\n",
       "      <th></th>\n",
       "      <th></th>\n",
       "      <th></th>\n",
       "    </tr>\n",
       "  </thead>\n",
       "  <tbody>\n",
       "    <tr>\n",
       "      <th>Alamance County, North Carolina</th>\n",
       "      <td>0500000US37001</td>\n",
       "      <td>Alamance County, North Carolina</td>\n",
       "      <td>139425</td>\n",
       "      <td>705</td>\n",
       "      <td>NaN</td>\n",
       "      <td>NaN</td>\n",
       "      <td>86242</td>\n",
       "      <td>NaN</td>\n",
       "      <td>2629</td>\n",
       "      <td>NaN</td>\n",
       "      <td>...</td>\n",
       "      <td>NaN</td>\n",
       "      <td>8.9</td>\n",
       "      <td>2.9</td>\n",
       "      <td>NaN</td>\n",
       "      <td>NaN</td>\n",
       "      <td>21.7</td>\n",
       "      <td>NaN</td>\n",
       "      <td>4.8</td>\n",
       "      <td>NaN</td>\n",
       "      <td>NaN</td>\n",
       "    </tr>\n",
       "    <tr>\n",
       "      <th>Brunswick County, North Carolina</th>\n",
       "      <td>0500000US37019</td>\n",
       "      <td>Brunswick County, North Carolina</td>\n",
       "      <td>126504</td>\n",
       "      <td>672</td>\n",
       "      <td>NaN</td>\n",
       "      <td>NaN</td>\n",
       "      <td>62863</td>\n",
       "      <td>NaN</td>\n",
       "      <td>2581</td>\n",
       "      <td>NaN</td>\n",
       "      <td>...</td>\n",
       "      <td>NaN</td>\n",
       "      <td>5.6</td>\n",
       "      <td>2.2</td>\n",
       "      <td>NaN</td>\n",
       "      <td>NaN</td>\n",
       "      <td>21.2</td>\n",
       "      <td>NaN</td>\n",
       "      <td>5.2</td>\n",
       "      <td>NaN</td>\n",
       "      <td>NaN</td>\n",
       "    </tr>\n",
       "    <tr>\n",
       "      <th>Buncombe County, North Carolina</th>\n",
       "      <td>0500000US37021</td>\n",
       "      <td>Buncombe County, North Carolina</td>\n",
       "      <td>229261</td>\n",
       "      <td>1380</td>\n",
       "      <td>NaN</td>\n",
       "      <td>NaN</td>\n",
       "      <td>135237</td>\n",
       "      <td>NaN</td>\n",
       "      <td>4319</td>\n",
       "      <td>NaN</td>\n",
       "      <td>...</td>\n",
       "      <td>NaN</td>\n",
       "      <td>7.0</td>\n",
       "      <td>2.2</td>\n",
       "      <td>NaN</td>\n",
       "      <td>NaN</td>\n",
       "      <td>22.1</td>\n",
       "      <td>NaN</td>\n",
       "      <td>3.8</td>\n",
       "      <td>NaN</td>\n",
       "      <td>NaN</td>\n",
       "    </tr>\n",
       "    <tr>\n",
       "      <th>Burke County, North Carolina</th>\n",
       "      <td>0500000US37023</td>\n",
       "      <td>Burke County, North Carolina</td>\n",
       "      <td>73862</td>\n",
       "      <td>543</td>\n",
       "      <td>NaN</td>\n",
       "      <td>NaN</td>\n",
       "      <td>42388</td>\n",
       "      <td>NaN</td>\n",
       "      <td>2175</td>\n",
       "      <td>NaN</td>\n",
       "      <td>...</td>\n",
       "      <td>NaN</td>\n",
       "      <td>10.1</td>\n",
       "      <td>4.1</td>\n",
       "      <td>NaN</td>\n",
       "      <td>NaN</td>\n",
       "      <td>30.1</td>\n",
       "      <td>NaN</td>\n",
       "      <td>7.6</td>\n",
       "      <td>NaN</td>\n",
       "      <td>NaN</td>\n",
       "    </tr>\n",
       "    <tr>\n",
       "      <th>Cabarrus County, North Carolina</th>\n",
       "      <td>0500000US37025</td>\n",
       "      <td>Cabarrus County, North Carolina</td>\n",
       "      <td>180305</td>\n",
       "      <td>1252</td>\n",
       "      <td>NaN</td>\n",
       "      <td>NaN</td>\n",
       "      <td>123309</td>\n",
       "      <td>NaN</td>\n",
       "      <td>3522</td>\n",
       "      <td>NaN</td>\n",
       "      <td>...</td>\n",
       "      <td>NaN</td>\n",
       "      <td>8.2</td>\n",
       "      <td>2.7</td>\n",
       "      <td>NaN</td>\n",
       "      <td>NaN</td>\n",
       "      <td>23.9</td>\n",
       "      <td>NaN</td>\n",
       "      <td>6.6</td>\n",
       "      <td>NaN</td>\n",
       "      <td>NaN</td>\n",
       "    </tr>\n",
       "  </tbody>\n",
       "</table>\n",
       "<p>5 rows × 1099 columns</p>\n",
       "</div>"
      ],
      "text/plain": [
       "0                                      Geography  \\\n",
       "Geographic Area Name                               \n",
       "Alamance County, North Carolina   0500000US37001   \n",
       "Brunswick County, North Carolina  0500000US37019   \n",
       "Buncombe County, North Carolina   0500000US37021   \n",
       "Burke County, North Carolina      0500000US37023   \n",
       "Cabarrus County, North Carolina   0500000US37025   \n",
       "\n",
       "0                                             Geographic Area Name  \\\n",
       "Geographic Area Name                                                 \n",
       "Alamance County, North Carolina    Alamance County, North Carolina   \n",
       "Brunswick County, North Carolina  Brunswick County, North Carolina   \n",
       "Buncombe County, North Carolina    Buncombe County, North Carolina   \n",
       "Burke County, North Carolina          Burke County, North Carolina   \n",
       "Cabarrus County, North Carolina    Cabarrus County, North Carolina   \n",
       "\n",
       "0                                Estimate!!EMPLOYMENT STATUS!!Population 16 years and over  \\\n",
       "Geographic Area Name                                                                         \n",
       "Alamance County, North Carolina                                              139425          \n",
       "Brunswick County, North Carolina                                             126504          \n",
       "Buncombe County, North Carolina                                              229261          \n",
       "Burke County, North Carolina                                                  73862          \n",
       "Cabarrus County, North Carolina                                              180305          \n",
       "\n",
       "0                                Margin of Error!!EMPLOYMENT STATUS!!Population 16 years and over  \\\n",
       "Geographic Area Name                                                                                \n",
       "Alamance County, North Carolina                                                 705                 \n",
       "Brunswick County, North Carolina                                                672                 \n",
       "Buncombe County, North Carolina                                                1380                 \n",
       "Burke County, North Carolina                                                    543                 \n",
       "Cabarrus County, North Carolina                                                1252                 \n",
       "\n",
       "0                                Annotation of Margin of Error!!EMPLOYMENT STATUS!!Population 16 years and over  \\\n",
       "Geographic Area Name                                                                                              \n",
       "Alamance County, North Carolina                                                 NaN                               \n",
       "Brunswick County, North Carolina                                                NaN                               \n",
       "Buncombe County, North Carolina                                                 NaN                               \n",
       "Burke County, North Carolina                                                    NaN                               \n",
       "Cabarrus County, North Carolina                                                 NaN                               \n",
       "\n",
       "0                                Annotation of Estimate!!EMPLOYMENT STATUS!!Population 16 years and over  \\\n",
       "Geographic Area Name                                                                                       \n",
       "Alamance County, North Carolina                                                 NaN                        \n",
       "Brunswick County, North Carolina                                                NaN                        \n",
       "Buncombe County, North Carolina                                                 NaN                        \n",
       "Burke County, North Carolina                                                    NaN                        \n",
       "Cabarrus County, North Carolina                                                 NaN                        \n",
       "\n",
       "0                                Estimate!!EMPLOYMENT STATUS!!Population 16 years and over!!In labor force  \\\n",
       "Geographic Area Name                                                                                         \n",
       "Alamance County, North Carolina                                               86242                          \n",
       "Brunswick County, North Carolina                                              62863                          \n",
       "Buncombe County, North Carolina                                              135237                          \n",
       "Burke County, North Carolina                                                  42388                          \n",
       "Cabarrus County, North Carolina                                              123309                          \n",
       "\n",
       "0                                Annotation of Estimate!!EMPLOYMENT STATUS!!Population 16 years and over!!In labor force  \\\n",
       "Geographic Area Name                                                                                                       \n",
       "Alamance County, North Carolina                                                 NaN                                        \n",
       "Brunswick County, North Carolina                                                NaN                                        \n",
       "Buncombe County, North Carolina                                                 NaN                                        \n",
       "Burke County, North Carolina                                                    NaN                                        \n",
       "Cabarrus County, North Carolina                                                 NaN                                        \n",
       "\n",
       "0                                Margin of Error!!EMPLOYMENT STATUS!!Population 16 years and over!!In labor force  \\\n",
       "Geographic Area Name                                                                                                \n",
       "Alamance County, North Carolina                                                2629                                 \n",
       "Brunswick County, North Carolina                                               2581                                 \n",
       "Buncombe County, North Carolina                                                4319                                 \n",
       "Burke County, North Carolina                                                   2175                                 \n",
       "Cabarrus County, North Carolina                                                3522                                 \n",
       "\n",
       "0                                Annotation of Margin of Error!!EMPLOYMENT STATUS!!Population 16 years and over!!In labor force  \\\n",
       "Geographic Area Name                                                                                                              \n",
       "Alamance County, North Carolina                                                 NaN                                               \n",
       "Brunswick County, North Carolina                                                NaN                                               \n",
       "Buncombe County, North Carolina                                                 NaN                                               \n",
       "Burke County, North Carolina                                                    NaN                                               \n",
       "Cabarrus County, North Carolina                                                 NaN                                               \n",
       "\n",
       "0                                 ...  \\\n",
       "Geographic Area Name              ...   \n",
       "Alamance County, North Carolina   ...   \n",
       "Brunswick County, North Carolina  ...   \n",
       "Buncombe County, North Carolina   ...   \n",
       "Burke County, North Carolina      ...   \n",
       "Cabarrus County, North Carolina   ...   \n",
       "\n",
       "0                                Annotation of Percent Margin of Error!!PERCENTAGE OF FAMILIES AND PEOPLE WHOSE INCOME IN THE PAST 12 MONTHS IS BELOW THE POVERTY LEVEL!!All people!!18 years and over!!65 years and over  \\\n",
       "Geographic Area Name                                                                                                                                                                                                        \n",
       "Alamance County, North Carolina                                                 NaN                                                                                                                                         \n",
       "Brunswick County, North Carolina                                                NaN                                                                                                                                         \n",
       "Buncombe County, North Carolina                                                 NaN                                                                                                                                         \n",
       "Burke County, North Carolina                                                    NaN                                                                                                                                         \n",
       "Cabarrus County, North Carolina                                                 NaN                                                                                                                                         \n",
       "\n",
       "0                                Percent!!PERCENTAGE OF FAMILIES AND PEOPLE WHOSE INCOME IN THE PAST 12 MONTHS IS BELOW THE POVERTY LEVEL!!All people!!People in families  \\\n",
       "Geographic Area Name                                                                                                                                                        \n",
       "Alamance County, North Carolina                                                 8.9                                                                                         \n",
       "Brunswick County, North Carolina                                                5.6                                                                                         \n",
       "Buncombe County, North Carolina                                                 7.0                                                                                         \n",
       "Burke County, North Carolina                                                   10.1                                                                                         \n",
       "Cabarrus County, North Carolina                                                 8.2                                                                                         \n",
       "\n",
       "0                                Percent Margin of Error!!PERCENTAGE OF FAMILIES AND PEOPLE WHOSE INCOME IN THE PAST 12 MONTHS IS BELOW THE POVERTY LEVEL!!All people!!People in families  \\\n",
       "Geographic Area Name                                                                                                                                                                        \n",
       "Alamance County, North Carolina                                                 2.9                                                                                                         \n",
       "Brunswick County, North Carolina                                                2.2                                                                                                         \n",
       "Buncombe County, North Carolina                                                 2.2                                                                                                         \n",
       "Burke County, North Carolina                                                    4.1                                                                                                         \n",
       "Cabarrus County, North Carolina                                                 2.7                                                                                                         \n",
       "\n",
       "0                                Annotation of Percent Margin of Error!!PERCENTAGE OF FAMILIES AND PEOPLE WHOSE INCOME IN THE PAST 12 MONTHS IS BELOW THE POVERTY LEVEL!!All people!!People in families  \\\n",
       "Geographic Area Name                                                                                                                                                                                      \n",
       "Alamance County, North Carolina                                                 NaN                                                                                                                       \n",
       "Brunswick County, North Carolina                                                NaN                                                                                                                       \n",
       "Buncombe County, North Carolina                                                 NaN                                                                                                                       \n",
       "Burke County, North Carolina                                                    NaN                                                                                                                       \n",
       "Cabarrus County, North Carolina                                                 NaN                                                                                                                       \n",
       "\n",
       "0                                Annotation of Percent!!PERCENTAGE OF FAMILIES AND PEOPLE WHOSE INCOME IN THE PAST 12 MONTHS IS BELOW THE POVERTY LEVEL!!All people!!People in families  \\\n",
       "Geographic Area Name                                                                                                                                                                      \n",
       "Alamance County, North Carolina                                                 NaN                                                                                                       \n",
       "Brunswick County, North Carolina                                                NaN                                                                                                       \n",
       "Buncombe County, North Carolina                                                 NaN                                                                                                       \n",
       "Burke County, North Carolina                                                    NaN                                                                                                       \n",
       "Cabarrus County, North Carolina                                                 NaN                                                                                                       \n",
       "\n",
       "0                                Percent!!PERCENTAGE OF FAMILIES AND PEOPLE WHOSE INCOME IN THE PAST 12 MONTHS IS BELOW THE POVERTY LEVEL!!All people!!Unrelated individuals 15 years and over  \\\n",
       "Geographic Area Name                                                                                                                                                                             \n",
       "Alamance County, North Carolina                                                21.7                                                                                                              \n",
       "Brunswick County, North Carolina                                               21.2                                                                                                              \n",
       "Buncombe County, North Carolina                                                22.1                                                                                                              \n",
       "Burke County, North Carolina                                                   30.1                                                                                                              \n",
       "Cabarrus County, North Carolina                                                23.9                                                                                                              \n",
       "\n",
       "0                                Annotation of Percent!!PERCENTAGE OF FAMILIES AND PEOPLE WHOSE INCOME IN THE PAST 12 MONTHS IS BELOW THE POVERTY LEVEL!!All people!!Unrelated individuals 15 years and over  \\\n",
       "Geographic Area Name                                                                                                                                                                                           \n",
       "Alamance County, North Carolina                                                 NaN                                                                                                                            \n",
       "Brunswick County, North Carolina                                                NaN                                                                                                                            \n",
       "Buncombe County, North Carolina                                                 NaN                                                                                                                            \n",
       "Burke County, North Carolina                                                    NaN                                                                                                                            \n",
       "Cabarrus County, North Carolina                                                 NaN                                                                                                                            \n",
       "\n",
       "0                                Percent Margin of Error!!PERCENTAGE OF FAMILIES AND PEOPLE WHOSE INCOME IN THE PAST 12 MONTHS IS BELOW THE POVERTY LEVEL!!All people!!Unrelated individuals 15 years and over  \\\n",
       "Geographic Area Name                                                                                                                                                                                             \n",
       "Alamance County, North Carolina                                                 4.8                                                                                                                              \n",
       "Brunswick County, North Carolina                                                5.2                                                                                                                              \n",
       "Buncombe County, North Carolina                                                 3.8                                                                                                                              \n",
       "Burke County, North Carolina                                                    7.6                                                                                                                              \n",
       "Cabarrus County, North Carolina                                                 6.6                                                                                                                              \n",
       "\n",
       "0                                Annotation of Percent Margin of Error!!PERCENTAGE OF FAMILIES AND PEOPLE WHOSE INCOME IN THE PAST 12 MONTHS IS BELOW THE POVERTY LEVEL!!All people!!Unrelated individuals 15 years and over  \\\n",
       "Geographic Area Name                                                                                                                                                                                                           \n",
       "Alamance County, North Carolina                                                 NaN                                                                                                                                            \n",
       "Brunswick County, North Carolina                                                NaN                                                                                                                                            \n",
       "Buncombe County, North Carolina                                                 NaN                                                                                                                                            \n",
       "Burke County, North Carolina                                                    NaN                                                                                                                                            \n",
       "Cabarrus County, North Carolina                                                 NaN                                                                                                                                            \n",
       "\n",
       "0                                NaN  \n",
       "Geographic Area Name                  \n",
       "Alamance County, North Carolina  NaN  \n",
       "Brunswick County, North Carolina NaN  \n",
       "Buncombe County, North Carolina  NaN  \n",
       "Burke County, North Carolina     NaN  \n",
       "Cabarrus County, North Carolina  NaN  \n",
       "\n",
       "[5 rows x 1099 columns]"
      ]
     },
     "execution_count": 95,
     "metadata": {},
     "output_type": "execute_result"
    }
   ],
   "source": [
    "df2.head()"
   ]
  },
  {
   "cell_type": "code",
   "execution_count": 56,
   "id": "74f3516b",
   "metadata": {},
   "outputs": [
    {
     "data": {
      "text/plain": [
       "0      False\n",
       "1      False\n",
       "2      False\n",
       "3      False\n",
       "4      False\n",
       "       ...  \n",
       "837    False\n",
       "838    False\n",
       "839    False\n",
       "840    False\n",
       "841    False\n",
       "Name: Geographic Area Name, Length: 842, dtype: bool"
      ]
     },
     "execution_count": 56,
     "metadata": {},
     "output_type": "execute_result"
    }
   ],
   "source": [
    "df2[\"Geographic Area Name\"].str.contains(\"North Carolina\")"
   ]
  },
  {
   "cell_type": "code",
   "execution_count": 57,
   "id": "9c26866e",
   "metadata": {
    "scrolled": true
   },
   "outputs": [],
   "source": [
    "df2 = df2[df2[\"Geographic Area Name\"].str.contains(\"North Carolina\")].copy()"
   ]
  },
  {
   "cell_type": "code",
   "execution_count": 58,
   "id": "1d363e00",
   "metadata": {},
   "outputs": [],
   "source": [
    "df2.index=df2[\"Geographic Area Name\"]"
   ]
  },
  {
   "cell_type": "code",
   "execution_count": 60,
   "id": "54e49713",
   "metadata": {},
   "outputs": [
    {
     "data": {
      "text/html": [
       "<div>\n",
       "<style scoped>\n",
       "    .dataframe tbody tr th:only-of-type {\n",
       "        vertical-align: middle;\n",
       "    }\n",
       "\n",
       "    .dataframe tbody tr th {\n",
       "        vertical-align: top;\n",
       "    }\n",
       "\n",
       "    .dataframe thead th {\n",
       "        text-align: right;\n",
       "    }\n",
       "</style>\n",
       "<table border=\"1\" class=\"dataframe\">\n",
       "  <thead>\n",
       "    <tr style=\"text-align: right;\">\n",
       "      <th>county_state</th>\n",
       "      <th>alamance county_NC</th>\n",
       "      <th>alexander county_NC</th>\n",
       "      <th>alleghany county_NC</th>\n",
       "      <th>anson county_NC</th>\n",
       "      <th>ashe county_NC</th>\n",
       "      <th>avery county_NC</th>\n",
       "      <th>beaufort county_NC</th>\n",
       "      <th>bertie county_NC</th>\n",
       "      <th>bladen county_NC</th>\n",
       "      <th>brunswick county_NC</th>\n",
       "      <th>...</th>\n",
       "      <th>washington county_NC</th>\n",
       "      <th>watauga county_NC</th>\n",
       "      <th>wayne county_NC</th>\n",
       "      <th>wilkes county_NC</th>\n",
       "      <th>wilson county_NC</th>\n",
       "      <th>yadkin county_NC</th>\n",
       "      <th>yancey county_NC</th>\n",
       "      <th>Total_NC</th>\n",
       "      <th>new_death</th>\n",
       "      <th>Week</th>\n",
       "    </tr>\n",
       "  </thead>\n",
       "  <tbody>\n",
       "    <tr>\n",
       "      <th>0</th>\n",
       "      <td>49188</td>\n",
       "      <td>10600</td>\n",
       "      <td>3041</td>\n",
       "      <td>6672</td>\n",
       "      <td>6575</td>\n",
       "      <td>4697</td>\n",
       "      <td>12939</td>\n",
       "      <td>4353</td>\n",
       "      <td>9608</td>\n",
       "      <td>31630</td>\n",
       "      <td>...</td>\n",
       "      <td>3091</td>\n",
       "      <td>13215</td>\n",
       "      <td>32084</td>\n",
       "      <td>17994</td>\n",
       "      <td>22266</td>\n",
       "      <td>11315</td>\n",
       "      <td>5574</td>\n",
       "      <td>2772725</td>\n",
       "      <td>new</td>\n",
       "      <td>22.0</td>\n",
       "    </tr>\n",
       "    <tr>\n",
       "      <th>1</th>\n",
       "      <td>49188</td>\n",
       "      <td>10600</td>\n",
       "      <td>3041</td>\n",
       "      <td>6672</td>\n",
       "      <td>6575</td>\n",
       "      <td>4697</td>\n",
       "      <td>12939</td>\n",
       "      <td>4353</td>\n",
       "      <td>9608</td>\n",
       "      <td>31630</td>\n",
       "      <td>...</td>\n",
       "      <td>3091</td>\n",
       "      <td>13215</td>\n",
       "      <td>32084</td>\n",
       "      <td>17994</td>\n",
       "      <td>22266</td>\n",
       "      <td>11315</td>\n",
       "      <td>5574</td>\n",
       "      <td>2772725</td>\n",
       "      <td>new</td>\n",
       "      <td>22.0</td>\n",
       "    </tr>\n",
       "    <tr>\n",
       "      <th>2</th>\n",
       "      <td>49188</td>\n",
       "      <td>10600</td>\n",
       "      <td>3041</td>\n",
       "      <td>6672</td>\n",
       "      <td>6575</td>\n",
       "      <td>4697</td>\n",
       "      <td>12939</td>\n",
       "      <td>4353</td>\n",
       "      <td>9608</td>\n",
       "      <td>31630</td>\n",
       "      <td>...</td>\n",
       "      <td>3091</td>\n",
       "      <td>13215</td>\n",
       "      <td>32084</td>\n",
       "      <td>17994</td>\n",
       "      <td>22266</td>\n",
       "      <td>11315</td>\n",
       "      <td>5574</td>\n",
       "      <td>2772725</td>\n",
       "      <td>new</td>\n",
       "      <td>22.0</td>\n",
       "    </tr>\n",
       "    <tr>\n",
       "      <th>3</th>\n",
       "      <td>49188</td>\n",
       "      <td>10600</td>\n",
       "      <td>3041</td>\n",
       "      <td>6672</td>\n",
       "      <td>6575</td>\n",
       "      <td>4697</td>\n",
       "      <td>12939</td>\n",
       "      <td>4353</td>\n",
       "      <td>9608</td>\n",
       "      <td>31630</td>\n",
       "      <td>...</td>\n",
       "      <td>3091</td>\n",
       "      <td>13215</td>\n",
       "      <td>32084</td>\n",
       "      <td>17994</td>\n",
       "      <td>22266</td>\n",
       "      <td>11315</td>\n",
       "      <td>5574</td>\n",
       "      <td>2772725</td>\n",
       "      <td>new</td>\n",
       "      <td>22.0</td>\n",
       "    </tr>\n",
       "    <tr>\n",
       "      <th>4</th>\n",
       "      <td>49188</td>\n",
       "      <td>10600</td>\n",
       "      <td>3041</td>\n",
       "      <td>6672</td>\n",
       "      <td>6575</td>\n",
       "      <td>4697</td>\n",
       "      <td>12939</td>\n",
       "      <td>4353</td>\n",
       "      <td>9608</td>\n",
       "      <td>31630</td>\n",
       "      <td>...</td>\n",
       "      <td>3091</td>\n",
       "      <td>13215</td>\n",
       "      <td>32084</td>\n",
       "      <td>17994</td>\n",
       "      <td>22266</td>\n",
       "      <td>11315</td>\n",
       "      <td>5574</td>\n",
       "      <td>2772725</td>\n",
       "      <td>new</td>\n",
       "      <td>22.0</td>\n",
       "    </tr>\n",
       "  </tbody>\n",
       "</table>\n",
       "<p>5 rows × 103 columns</p>\n",
       "</div>"
      ],
      "text/plain": [
       "county_state  alamance county_NC  alexander county_NC  alleghany county_NC  \\\n",
       "0                          49188                10600                 3041   \n",
       "1                          49188                10600                 3041   \n",
       "2                          49188                10600                 3041   \n",
       "3                          49188                10600                 3041   \n",
       "4                          49188                10600                 3041   \n",
       "\n",
       "county_state  anson county_NC  ashe county_NC  avery county_NC  \\\n",
       "0                        6672            6575             4697   \n",
       "1                        6672            6575             4697   \n",
       "2                        6672            6575             4697   \n",
       "3                        6672            6575             4697   \n",
       "4                        6672            6575             4697   \n",
       "\n",
       "county_state  beaufort county_NC  bertie county_NC  bladen county_NC  \\\n",
       "0                          12939              4353              9608   \n",
       "1                          12939              4353              9608   \n",
       "2                          12939              4353              9608   \n",
       "3                          12939              4353              9608   \n",
       "4                          12939              4353              9608   \n",
       "\n",
       "county_state  brunswick county_NC  ...  washington county_NC  \\\n",
       "0                           31630  ...                  3091   \n",
       "1                           31630  ...                  3091   \n",
       "2                           31630  ...                  3091   \n",
       "3                           31630  ...                  3091   \n",
       "4                           31630  ...                  3091   \n",
       "\n",
       "county_state  watauga county_NC  wayne county_NC  wilkes county_NC  \\\n",
       "0                         13215            32084             17994   \n",
       "1                         13215            32084             17994   \n",
       "2                         13215            32084             17994   \n",
       "3                         13215            32084             17994   \n",
       "4                         13215            32084             17994   \n",
       "\n",
       "county_state  wilson county_NC  yadkin county_NC  yancey county_NC  Total_NC  \\\n",
       "0                        22266             11315              5574   2772725   \n",
       "1                        22266             11315              5574   2772725   \n",
       "2                        22266             11315              5574   2772725   \n",
       "3                        22266             11315              5574   2772725   \n",
       "4                        22266             11315              5574   2772725   \n",
       "\n",
       "county_state  new_death  Week  \n",
       "0                   new  22.0  \n",
       "1                   new  22.0  \n",
       "2                   new  22.0  \n",
       "3                   new  22.0  \n",
       "4                   new  22.0  \n",
       "\n",
       "[5 rows x 103 columns]"
      ]
     },
     "execution_count": 60,
     "metadata": {},
     "output_type": "execute_result"
    }
   ],
   "source": [
    "df_NC.head"
   ]
  },
  {
   "cell_type": "code",
   "execution_count": 61,
   "id": "0b5d257f",
   "metadata": {},
   "outputs": [],
   "source": [
    "econNC = df2[\"Estimate!!EMPLOYMENT STATUS!!Population 16 years and over!!In labor force!!Civilian labor force\"].astype(\"int64\").copy()"
   ]
  },
  {
   "cell_type": "code",
   "execution_count": 62,
   "id": "91d61791",
   "metadata": {
    "scrolled": true
   },
   "outputs": [
    {
     "name": "stdout",
     "output_type": "stream",
     "text": [
      "Geographic Area Name\n",
      "Alamance County, North Carolina        86112\n",
      "Brunswick County, North Carolina       62820\n",
      "Buncombe County, North Carolina       134702\n",
      "Burke County, North Carolina           42388\n",
      "Cabarrus County, North Carolina       122871\n",
      "Caldwell County, North Carolina        38533\n",
      "Carteret County, North Carolina        31492\n",
      "Catawba County, North Carolina         78052\n",
      "Chatham County, North Carolina         34504\n",
      "Cleveland County, North Carolina       47592\n",
      "Craven County, North Carolina          42567\n",
      "Cumberland County, North Carolina     137715\n",
      "Davidson County, North Carolina        77003\n",
      "Durham County, North Carolina         175578\n",
      "Forsyth County, North Carolina        190093\n",
      "Franklin County, North Carolina        35291\n",
      "Gaston County, North Carolina         114709\n",
      "Guilford County, North Carolina       281445\n",
      "Harnett County, North Carolina         56295\n",
      "Henderson County, North Carolina       54298\n",
      "Iredell County, North Carolina         99722\n",
      "Johnston County, North Carolina       113346\n",
      "Lincoln County, North Carolina         44263\n",
      "Mecklenburg County, North Carolina    637790\n",
      "Moore County, North Carolina           44221\n",
      "Nash County, North Carolina            48093\n",
      "New Hanover County, North Carolina    123929\n",
      "Onslow County, North Carolina          69713\n",
      "Orange County, North Carolina          77574\n",
      "Pitt County, North Carolina            86513\n",
      "Randolph County, North Carolina        69598\n",
      "Robeson County, North Carolina         46973\n",
      "Rockingham County, North Carolina      40711\n",
      "Rowan County, North Carolina           69120\n",
      "Surry County, North Carolina           32965\n",
      "Union County, North Carolina          127438\n",
      "Wake County, North Carolina           633630\n",
      "Wayne County, North Carolina           51839\n",
      "Wilkes County, North Carolina          28028\n",
      "Wilson County, North Carolina          34789\n",
      "Name: Estimate!!EMPLOYMENT STATUS!!Population 16 years and over!!In labor force!!Civilian labor force, dtype: int64\n"
     ]
    }
   ],
   "source": [
    "print(econNC)"
   ]
  },
  {
   "cell_type": "code",
   "execution_count": 63,
   "id": "caf9ee56",
   "metadata": {
    "scrolled": true
   },
   "outputs": [
    {
     "name": "stdout",
     "output_type": "stream",
     "text": [
      "<class 'pandas.core.series.Series'>\n",
      "Index: 40 entries, Alamance County, North Carolina to Wilson County, North Carolina\n",
      "Series name: Estimate!!EMPLOYMENT STATUS!!Population 16 years and over!!In labor force!!Civilian labor force\n",
      "Non-Null Count  Dtype\n",
      "--------------  -----\n",
      "40 non-null     int64\n",
      "dtypes: int64(1)\n",
      "memory usage: 640.0+ bytes\n"
     ]
    }
   ],
   "source": [
    "econNC.info()"
   ]
  },
  {
   "cell_type": "code",
   "execution_count": 64,
   "id": "44a5fac5",
   "metadata": {},
   "outputs": [
    {
     "data": {
      "text/plain": [
       "40"
      ]
     },
     "execution_count": 64,
     "metadata": {},
     "output_type": "execute_result"
    }
   ],
   "source": [
    "len(econNC)"
   ]
  },
  {
   "cell_type": "markdown",
   "id": "8b9b0158",
   "metadata": {},
   "source": [
    "###### I see that the arrays have to be the same size but I'm not sure how to make them the same size here"
   ]
  },
  {
   "cell_type": "code",
   "execution_count": 88,
   "id": "c1e360a6",
   "metadata": {},
   "outputs": [
    {
     "ename": "ValueError",
     "evalue": "all the input array dimensions for the concatenation axis must match exactly, but along dimension 1, the array at index 0 has size 97 and the array at index 1 has size 40",
     "output_type": "error",
     "traceback": [
      "\u001b[1;31m---------------------------------------------------------------------------\u001b[0m",
      "\u001b[1;31mValueError\u001b[0m                                Traceback (most recent call last)",
      "\u001b[1;32m~\\AppData\\Local\\Temp\\ipykernel_14660\\300280163.py\u001b[0m in \u001b[0;36m<module>\u001b[1;34m\u001b[0m\n\u001b[0;32m      1\u001b[0m \u001b[0mx1\u001b[0m \u001b[1;33m=\u001b[0m \u001b[0mNC_Data\u001b[0m\u001b[1;33m\u001b[0m\u001b[1;33m\u001b[0m\u001b[0m\n\u001b[0;32m      2\u001b[0m \u001b[0my1\u001b[0m \u001b[1;33m=\u001b[0m \u001b[0meconNC\u001b[0m\u001b[1;33m\u001b[0m\u001b[1;33m\u001b[0m\u001b[0m\n\u001b[1;32m----> 3\u001b[1;33m \u001b[0mcorr_matrix\u001b[0m \u001b[1;33m=\u001b[0m \u001b[0mnp\u001b[0m\u001b[1;33m.\u001b[0m\u001b[0mcorrcoef\u001b[0m\u001b[1;33m(\u001b[0m\u001b[0mx1\u001b[0m\u001b[1;33m,\u001b[0m\u001b[0my1\u001b[0m\u001b[1;33m)\u001b[0m\u001b[1;33m\u001b[0m\u001b[1;33m\u001b[0m\u001b[0m\n\u001b[0m\u001b[0;32m      4\u001b[0m \u001b[0mcorr_coef\u001b[0m \u001b[1;33m=\u001b[0m \u001b[0mcorr_matrix\u001b[0m\u001b[1;33m[\u001b[0m\u001b[1;36m0\u001b[0m\u001b[1;33m,\u001b[0m\u001b[1;36m1\u001b[0m\u001b[1;33m]\u001b[0m\u001b[1;33m\u001b[0m\u001b[1;33m\u001b[0m\u001b[0m\n\u001b[0;32m      5\u001b[0m \u001b[0mprint\u001b[0m\u001b[1;33m(\u001b[0m\u001b[1;34m\"Correlation coeeficient: \"\u001b[0m\u001b[1;33m,\u001b[0m \u001b[0mcorr_coef\u001b[0m\u001b[1;33m)\u001b[0m\u001b[1;33m\u001b[0m\u001b[1;33m\u001b[0m\u001b[0m\n",
      "\u001b[1;32m<__array_function__ internals>\u001b[0m in \u001b[0;36mcorrcoef\u001b[1;34m(*args, **kwargs)\u001b[0m\n",
      "\u001b[1;32mC:\\ProgramData\\Anaconda3\\lib\\site-packages\\numpy\\lib\\function_base.py\u001b[0m in \u001b[0;36mcorrcoef\u001b[1;34m(x, y, rowvar, bias, ddof, dtype)\u001b[0m\n\u001b[0;32m   2681\u001b[0m         warnings.warn('bias and ddof have no effect and are deprecated',\n\u001b[0;32m   2682\u001b[0m                       DeprecationWarning, stacklevel=3)\n\u001b[1;32m-> 2683\u001b[1;33m     \u001b[0mc\u001b[0m \u001b[1;33m=\u001b[0m \u001b[0mcov\u001b[0m\u001b[1;33m(\u001b[0m\u001b[0mx\u001b[0m\u001b[1;33m,\u001b[0m \u001b[0my\u001b[0m\u001b[1;33m,\u001b[0m \u001b[0mrowvar\u001b[0m\u001b[1;33m,\u001b[0m \u001b[0mdtype\u001b[0m\u001b[1;33m=\u001b[0m\u001b[0mdtype\u001b[0m\u001b[1;33m)\u001b[0m\u001b[1;33m\u001b[0m\u001b[1;33m\u001b[0m\u001b[0m\n\u001b[0m\u001b[0;32m   2684\u001b[0m     \u001b[1;32mtry\u001b[0m\u001b[1;33m:\u001b[0m\u001b[1;33m\u001b[0m\u001b[1;33m\u001b[0m\u001b[0m\n\u001b[0;32m   2685\u001b[0m         \u001b[0md\u001b[0m \u001b[1;33m=\u001b[0m \u001b[0mdiag\u001b[0m\u001b[1;33m(\u001b[0m\u001b[0mc\u001b[0m\u001b[1;33m)\u001b[0m\u001b[1;33m\u001b[0m\u001b[1;33m\u001b[0m\u001b[0m\n",
      "\u001b[1;32m<__array_function__ internals>\u001b[0m in \u001b[0;36mcov\u001b[1;34m(*args, **kwargs)\u001b[0m\n",
      "\u001b[1;32mC:\\ProgramData\\Anaconda3\\lib\\site-packages\\numpy\\lib\\function_base.py\u001b[0m in \u001b[0;36mcov\u001b[1;34m(m, y, rowvar, bias, ddof, fweights, aweights, dtype)\u001b[0m\n\u001b[0;32m   2475\u001b[0m         \u001b[1;32mif\u001b[0m \u001b[1;32mnot\u001b[0m \u001b[0mrowvar\u001b[0m \u001b[1;32mand\u001b[0m \u001b[0my\u001b[0m\u001b[1;33m.\u001b[0m\u001b[0mshape\u001b[0m\u001b[1;33m[\u001b[0m\u001b[1;36m0\u001b[0m\u001b[1;33m]\u001b[0m \u001b[1;33m!=\u001b[0m \u001b[1;36m1\u001b[0m\u001b[1;33m:\u001b[0m\u001b[1;33m\u001b[0m\u001b[1;33m\u001b[0m\u001b[0m\n\u001b[0;32m   2476\u001b[0m             \u001b[0my\u001b[0m \u001b[1;33m=\u001b[0m \u001b[0my\u001b[0m\u001b[1;33m.\u001b[0m\u001b[0mT\u001b[0m\u001b[1;33m\u001b[0m\u001b[1;33m\u001b[0m\u001b[0m\n\u001b[1;32m-> 2477\u001b[1;33m         \u001b[0mX\u001b[0m \u001b[1;33m=\u001b[0m \u001b[0mnp\u001b[0m\u001b[1;33m.\u001b[0m\u001b[0mconcatenate\u001b[0m\u001b[1;33m(\u001b[0m\u001b[1;33m(\u001b[0m\u001b[0mX\u001b[0m\u001b[1;33m,\u001b[0m \u001b[0my\u001b[0m\u001b[1;33m)\u001b[0m\u001b[1;33m,\u001b[0m \u001b[0maxis\u001b[0m\u001b[1;33m=\u001b[0m\u001b[1;36m0\u001b[0m\u001b[1;33m)\u001b[0m\u001b[1;33m\u001b[0m\u001b[1;33m\u001b[0m\u001b[0m\n\u001b[0m\u001b[0;32m   2478\u001b[0m \u001b[1;33m\u001b[0m\u001b[0m\n\u001b[0;32m   2479\u001b[0m     \u001b[1;32mif\u001b[0m \u001b[0mddof\u001b[0m \u001b[1;32mis\u001b[0m \u001b[1;32mNone\u001b[0m\u001b[1;33m:\u001b[0m\u001b[1;33m\u001b[0m\u001b[1;33m\u001b[0m\u001b[0m\n",
      "\u001b[1;32m<__array_function__ internals>\u001b[0m in \u001b[0;36mconcatenate\u001b[1;34m(*args, **kwargs)\u001b[0m\n",
      "\u001b[1;31mValueError\u001b[0m: all the input array dimensions for the concatenation axis must match exactly, but along dimension 1, the array at index 0 has size 97 and the array at index 1 has size 40"
     ]
    }
   ],
   "source": [
    "x1 = NC_Data\n",
    "y1 = econNC\n",
    "corr_matrix = np.corrcoef(x1,y1)\n",
    "corr_coef = corr_matrix[0,1]\n",
    "print(\"Correlation coeeficient: \", corr_coef)"
   ]
  },
  {
   "cell_type": "markdown",
   "id": "bf6a6e5e",
   "metadata": {},
   "source": [
    "##### It would only work if my other array also had 40 entries"
   ]
  },
  {
   "cell_type": "code",
   "execution_count": 66,
   "id": "7520fab3",
   "metadata": {
    "scrolled": false
   },
   "outputs": [
    {
     "data": {
      "image/png": "[encoded data removed]",
      "text/plain": [
       "<Figure size 1200x1000 with 1 Axes>"
      ]
     },
     "metadata": {},
     "output_type": "display_data"
    },
    {
     "name": "stdout",
     "output_type": "stream",
     "text": [
      "Correlation of X and Y: 0.02\n"
     ]
    }
   ],
   "source": [
    "X =np.random.rand(40)\n",
    "Y = X + econNC\n",
    "\n",
    "m, b = np.polyfit(X, Y, 1)\n",
    "\n",
    "plt.figure(figsize=(12,10))\n",
    "plt.scatter(X,Y)\n",
    "plt.xlabel('X Value')\n",
    "plt.ylabel('Y Value')\n",
    "plt.plot(X, m*X + b, 'r-')\n",
    "plt.show()\n",
    "print('Correlation of X and Y: %.2f'%np.corrcoef(X, Y)[0, 1])"
   ]
  },
  {
   "cell_type": "markdown",
   "id": "4afa0d36",
   "metadata": {},
   "source": [
    "#### Here is another attempt at correlation:"
   ]
  },
  {
   "cell_type": "code",
   "execution_count": 96,
   "id": "a224d3fa",
   "metadata": {},
   "outputs": [
    {
     "name": "stdout",
     "output_type": "stream",
     "text": [
      "nan\n"
     ]
    }
   ],
   "source": [
    "corr = df_NC[df_NC[\"new_death\"]==\"new\"][\"Total_NC\"].corr(df2[\"Estimate!!EMPLOYMENT STATUS!!Population 16 years and over!!In labor force!!Civilian labor force\"])\n",
    "print(corr)"
   ]
  },
  {
   "cell_type": "markdown",
   "id": "934811be",
   "metadata": {},
   "source": [
    "#### However, there are no null values in the data"
   ]
  },
  {
   "cell_type": "code",
   "execution_count": 97,
   "id": "356a09c5",
   "metadata": {
    "scrolled": true
   },
   "outputs": [
    {
     "data": {
      "text/plain": [
       "0"
      ]
     },
     "execution_count": 97,
     "metadata": {},
     "output_type": "execute_result"
    }
   ],
   "source": [
    "df2[\"Estimate!!EMPLOYMENT STATUS!!Population 16 years and over!!In labor force!!Civilian labor force\"].isnull().sum()"
   ]
  },
  {
   "cell_type": "markdown",
   "id": "0cad9e21",
   "metadata": {},
   "source": [
    "#### This is another try at correlation:"
   ]
  },
  {
   "cell_type": "code",
   "execution_count": 99,
   "id": "038ccd17",
   "metadata": {},
   "outputs": [],
   "source": [
    "dfint = df2[\"Estimate!!EMPLOYMENT STATUS!!Population 16 years and over!!In labor force!!Civilian labor force\"].astype(\"int64\").copy()"
   ]
  },
  {
   "cell_type": "code",
   "execution_count": 100,
   "id": "31134ec0",
   "metadata": {
    "scrolled": false
   },
   "outputs": [],
   "source": [
    "NCcorr = df_NC[df_NC[\"new_death\"]==\"new\"][\"Total_NC\"].corr(dfint)"
   ]
  },
  {
   "cell_type": "code",
   "execution_count": 101,
   "id": "4121e164",
   "metadata": {},
   "outputs": [
    {
     "name": "stdout",
     "output_type": "stream",
     "text": [
      "nan\n"
     ]
    }
   ],
   "source": [
    "print(NCcorr)"
   ]
  },
  {
   "cell_type": "markdown",
   "id": "de8b3a00",
   "metadata": {},
   "source": [
    "### Hypothesis:"
   ]
  },
  {
   "cell_type": "markdown",
   "id": "a52f7188",
   "metadata": {},
   "source": [
    "#### Is employment status negatively correlated to higher covid cases in North Carolina?\n",
    "##### Does the PERCENTAGE OF FAMILIES AND PEOPLE WHOSE INCOME IN THE PAST 12 MONTHS IS BELOW THE POVERTY LEVEL increase as cases rise?\n",
    "#### Does unemployment rate positively correlated to higher covid cases?"
   ]
  },
  {
   "cell_type": "code",
   "execution_count": null,
   "id": "180b93ec",
   "metadata": {},
   "outputs": [],
   "source": []
  }
 ],
 "metadata": {
  "kernelspec": {
   "display_name": "Python 3 (ipykernel)",
   "language": "python",
   "name": "python3"
  },
  "language_info": {
   "codemirror_mode": {
    "name": "ipython",
    "version": 3
   },
   "file_extension": ".py",
   "mimetype": "text/x-python",
   "name": "python",
   "nbconvert_exporter": "python",
   "pygments_lexer": "ipython3",
   "version": "3.9.13"
  }
 },
 "nbformat": 4,
 "nbformat_minor": 5
}

{
 "cells": [
  {
   "cell_type": "code",
   "execution_count": 204,
   "id": "cd2e7b10",
   "metadata": {},
   "outputs": [],
   "source": [
    "import pandas as pd\n",
    "import numpy as np"
   ]
  },
  {
   "cell_type": "markdown",
   "id": "fd952ba9-672d-4086-b1f0-1aef402425ad",
   "metadata": {},
   "source": [
    "### USA Data Manipulation for country"
   ]
  },
  {
   "cell_type": "code",
   "execution_count": 205,
   "id": "94b69414",
   "metadata": {},
   "outputs": [
    {
     "data": {
      "text/html": [
       "<div>\n",
       "<style scoped>\n",
       "    .dataframe tbody tr th:only-of-type {\n",
       "        vertical-align: middle;\n",
       "    }\n",
       "\n",
       "    .dataframe tbody tr th {\n",
       "        vertical-align: top;\n",
       "    }\n",
       "\n",
       "    .dataframe thead th {\n",
       "        text-align: right;\n",
       "    }\n",
       "</style>\n",
       "<table border=\"1\" class=\"dataframe\">\n",
       "  <thead>\n",
       "    <tr style=\"text-align: right;\">\n",
       "      <th></th>\n",
       "      <th>countyFIPS</th>\n",
       "      <th>County Name</th>\n",
       "      <th>State</th>\n",
       "      <th>StateFIPS</th>\n",
       "      <th>2020-01-22_x</th>\n",
       "      <th>2020-01-23_x</th>\n",
       "      <th>2020-01-24_x</th>\n",
       "      <th>2020-01-25_x</th>\n",
       "      <th>2020-01-26_x</th>\n",
       "      <th>2020-01-27_x</th>\n",
       "      <th>...</th>\n",
       "      <th>2023-01-28_y</th>\n",
       "      <th>2023-01-29_y</th>\n",
       "      <th>2023-01-30_y</th>\n",
       "      <th>2023-01-31_y</th>\n",
       "      <th>2023-02-01_y</th>\n",
       "      <th>2023-02-02_y</th>\n",
       "      <th>2023-02-03_y</th>\n",
       "      <th>2023-02-04_y</th>\n",
       "      <th>2023-02-05_y</th>\n",
       "      <th>population</th>\n",
       "    </tr>\n",
       "  </thead>\n",
       "  <tbody>\n",
       "    <tr>\n",
       "      <th>0</th>\n",
       "      <td>0</td>\n",
       "      <td>statewide unallocated</td>\n",
       "      <td>AL</td>\n",
       "      <td>1</td>\n",
       "      <td>0</td>\n",
       "      <td>0</td>\n",
       "      <td>0</td>\n",
       "      <td>0</td>\n",
       "      <td>0</td>\n",
       "      <td>0</td>\n",
       "      <td>...</td>\n",
       "      <td>0</td>\n",
       "      <td>0</td>\n",
       "      <td>0</td>\n",
       "      <td>0</td>\n",
       "      <td>0</td>\n",
       "      <td>0</td>\n",
       "      <td>0</td>\n",
       "      <td>0</td>\n",
       "      <td>0</td>\n",
       "      <td>0</td>\n",
       "    </tr>\n",
       "    <tr>\n",
       "      <th>1</th>\n",
       "      <td>1001</td>\n",
       "      <td>autauga county</td>\n",
       "      <td>AL</td>\n",
       "      <td>1</td>\n",
       "      <td>0</td>\n",
       "      <td>0</td>\n",
       "      <td>0</td>\n",
       "      <td>0</td>\n",
       "      <td>0</td>\n",
       "      <td>0</td>\n",
       "      <td>...</td>\n",
       "      <td>230</td>\n",
       "      <td>230</td>\n",
       "      <td>230</td>\n",
       "      <td>230</td>\n",
       "      <td>230</td>\n",
       "      <td>230</td>\n",
       "      <td>230</td>\n",
       "      <td>230</td>\n",
       "      <td>230</td>\n",
       "      <td>55869</td>\n",
       "    </tr>\n",
       "    <tr>\n",
       "      <th>2</th>\n",
       "      <td>1003</td>\n",
       "      <td>baldwin county</td>\n",
       "      <td>AL</td>\n",
       "      <td>1</td>\n",
       "      <td>0</td>\n",
       "      <td>0</td>\n",
       "      <td>0</td>\n",
       "      <td>0</td>\n",
       "      <td>0</td>\n",
       "      <td>0</td>\n",
       "      <td>...</td>\n",
       "      <td>723</td>\n",
       "      <td>723</td>\n",
       "      <td>723</td>\n",
       "      <td>723</td>\n",
       "      <td>723</td>\n",
       "      <td>723</td>\n",
       "      <td>723</td>\n",
       "      <td>723</td>\n",
       "      <td>723</td>\n",
       "      <td>223234</td>\n",
       "    </tr>\n",
       "  </tbody>\n",
       "</table>\n",
       "<p>3 rows × 2227 columns</p>\n",
       "</div>"
      ],
      "text/plain": [
       "   countyFIPS            County Name State  StateFIPS  2020-01-22_x  \\\n",
       "0           0  statewide unallocated    AL          1             0   \n",
       "1        1001         autauga county    AL          1             0   \n",
       "2        1003         baldwin county    AL          1             0   \n",
       "\n",
       "   2020-01-23_x  2020-01-24_x  2020-01-25_x  2020-01-26_x  2020-01-27_x  ...  \\\n",
       "0             0             0             0             0             0  ...   \n",
       "1             0             0             0             0             0  ...   \n",
       "2             0             0             0             0             0  ...   \n",
       "\n",
       "   2023-01-28_y  2023-01-29_y  2023-01-30_y  2023-01-31_y  2023-02-01_y  \\\n",
       "0             0             0             0             0             0   \n",
       "1           230           230           230           230           230   \n",
       "2           723           723           723           723           723   \n",
       "\n",
       "   2023-02-02_y  2023-02-03_y  2023-02-04_y  2023-02-05_y  population  \n",
       "0             0             0             0             0           0  \n",
       "1           230           230           230           230       55869  \n",
       "2           723           723           723           723      223234  \n",
       "\n",
       "[3 rows x 2227 columns]"
      ]
     },
     "execution_count": 205,
     "metadata": {},
     "output_type": "execute_result"
    }
   ],
   "source": [
    "superdata = pd.read_csv('covid19_superdata.csv')\n",
    "superdata.head(3)"
   ]
  },
  {
   "cell_type": "code",
   "execution_count": 206,
   "id": "77c60a8f",
   "metadata": {
    "scrolled": true
   },
   "outputs": [
    {
     "data": {
      "text/html": [
       "<div>\n",
       "<style scoped>\n",
       "    .dataframe tbody tr th:only-of-type {\n",
       "        vertical-align: middle;\n",
       "    }\n",
       "\n",
       "    .dataframe tbody tr th {\n",
       "        vertical-align: top;\n",
       "    }\n",
       "\n",
       "    .dataframe thead th {\n",
       "        text-align: right;\n",
       "    }\n",
       "</style>\n",
       "<table border=\"1\" class=\"dataframe\">\n",
       "  <thead>\n",
       "    <tr style=\"text-align: right;\">\n",
       "      <th></th>\n",
       "      <th>2022-06-01_x</th>\n",
       "      <th>2022-06-02_x</th>\n",
       "      <th>2022-06-03_x</th>\n",
       "      <th>2022-06-04_x</th>\n",
       "      <th>2022-06-05_x</th>\n",
       "      <th>2022-06-06_x</th>\n",
       "      <th>2022-06-07_x</th>\n",
       "      <th>2022-06-08_x</th>\n",
       "      <th>2022-06-09_x</th>\n",
       "      <th>2022-06-10_x</th>\n",
       "      <th>...</th>\n",
       "      <th>2022-12-22_x</th>\n",
       "      <th>2022-12-23_x</th>\n",
       "      <th>2022-12-24_x</th>\n",
       "      <th>2022-12-25_x</th>\n",
       "      <th>2022-12-26_x</th>\n",
       "      <th>2022-12-27_x</th>\n",
       "      <th>2022-12-28_x</th>\n",
       "      <th>2022-12-29_x</th>\n",
       "      <th>2022-12-30_x</th>\n",
       "      <th>2022-12-31_x</th>\n",
       "    </tr>\n",
       "  </thead>\n",
       "  <tbody>\n",
       "    <tr>\n",
       "      <th>0</th>\n",
       "      <td>0</td>\n",
       "      <td>0</td>\n",
       "      <td>0</td>\n",
       "      <td>0</td>\n",
       "      <td>0</td>\n",
       "      <td>0</td>\n",
       "      <td>0</td>\n",
       "      <td>0</td>\n",
       "      <td>0</td>\n",
       "      <td>0</td>\n",
       "      <td>...</td>\n",
       "      <td>0</td>\n",
       "      <td>0</td>\n",
       "      <td>0</td>\n",
       "      <td>0</td>\n",
       "      <td>0</td>\n",
       "      <td>0</td>\n",
       "      <td>0</td>\n",
       "      <td>0</td>\n",
       "      <td>0</td>\n",
       "      <td>0</td>\n",
       "    </tr>\n",
       "    <tr>\n",
       "      <th>1</th>\n",
       "      <td>15969</td>\n",
       "      <td>15978</td>\n",
       "      <td>15978</td>\n",
       "      <td>15978</td>\n",
       "      <td>15978</td>\n",
       "      <td>16032</td>\n",
       "      <td>16052</td>\n",
       "      <td>16065</td>\n",
       "      <td>16084</td>\n",
       "      <td>16095</td>\n",
       "      <td>...</td>\n",
       "      <td>18961</td>\n",
       "      <td>18961</td>\n",
       "      <td>18961</td>\n",
       "      <td>18961</td>\n",
       "      <td>18961</td>\n",
       "      <td>18961</td>\n",
       "      <td>18961</td>\n",
       "      <td>18961</td>\n",
       "      <td>18961</td>\n",
       "      <td>18961</td>\n",
       "    </tr>\n",
       "    <tr>\n",
       "      <th>2</th>\n",
       "      <td>56580</td>\n",
       "      <td>56648</td>\n",
       "      <td>56648</td>\n",
       "      <td>56648</td>\n",
       "      <td>56648</td>\n",
       "      <td>56895</td>\n",
       "      <td>56955</td>\n",
       "      <td>57024</td>\n",
       "      <td>57079</td>\n",
       "      <td>57166</td>\n",
       "      <td>...</td>\n",
       "      <td>67496</td>\n",
       "      <td>67496</td>\n",
       "      <td>67496</td>\n",
       "      <td>67496</td>\n",
       "      <td>67496</td>\n",
       "      <td>67496</td>\n",
       "      <td>67496</td>\n",
       "      <td>67496</td>\n",
       "      <td>67496</td>\n",
       "      <td>67496</td>\n",
       "    </tr>\n",
       "    <tr>\n",
       "      <th>3</th>\n",
       "      <td>5710</td>\n",
       "      <td>5714</td>\n",
       "      <td>5714</td>\n",
       "      <td>5714</td>\n",
       "      <td>5714</td>\n",
       "      <td>5719</td>\n",
       "      <td>5733</td>\n",
       "      <td>5734</td>\n",
       "      <td>5744</td>\n",
       "      <td>5748</td>\n",
       "      <td>...</td>\n",
       "      <td>7027</td>\n",
       "      <td>7027</td>\n",
       "      <td>7027</td>\n",
       "      <td>7027</td>\n",
       "      <td>7027</td>\n",
       "      <td>7027</td>\n",
       "      <td>7027</td>\n",
       "      <td>7027</td>\n",
       "      <td>7027</td>\n",
       "      <td>7027</td>\n",
       "    </tr>\n",
       "    <tr>\n",
       "      <th>4</th>\n",
       "      <td>6508</td>\n",
       "      <td>6512</td>\n",
       "      <td>6512</td>\n",
       "      <td>6512</td>\n",
       "      <td>6512</td>\n",
       "      <td>6534</td>\n",
       "      <td>6535</td>\n",
       "      <td>6540</td>\n",
       "      <td>6544</td>\n",
       "      <td>6547</td>\n",
       "      <td>...</td>\n",
       "      <td>7692</td>\n",
       "      <td>7692</td>\n",
       "      <td>7692</td>\n",
       "      <td>7692</td>\n",
       "      <td>7692</td>\n",
       "      <td>7692</td>\n",
       "      <td>7692</td>\n",
       "      <td>7692</td>\n",
       "      <td>7692</td>\n",
       "      <td>7692</td>\n",
       "    </tr>\n",
       "    <tr>\n",
       "      <th>...</th>\n",
       "      <td>...</td>\n",
       "      <td>...</td>\n",
       "      <td>...</td>\n",
       "      <td>...</td>\n",
       "      <td>...</td>\n",
       "      <td>...</td>\n",
       "      <td>...</td>\n",
       "      <td>...</td>\n",
       "      <td>...</td>\n",
       "      <td>...</td>\n",
       "      <td>...</td>\n",
       "      <td>...</td>\n",
       "      <td>...</td>\n",
       "      <td>...</td>\n",
       "      <td>...</td>\n",
       "      <td>...</td>\n",
       "      <td>...</td>\n",
       "      <td>...</td>\n",
       "      <td>...</td>\n",
       "      <td>...</td>\n",
       "      <td>...</td>\n",
       "    </tr>\n",
       "    <tr>\n",
       "      <th>3184</th>\n",
       "      <td>11178</td>\n",
       "      <td>11178</td>\n",
       "      <td>11178</td>\n",
       "      <td>11178</td>\n",
       "      <td>11178</td>\n",
       "      <td>11178</td>\n",
       "      <td>11178</td>\n",
       "      <td>11178</td>\n",
       "      <td>11234</td>\n",
       "      <td>11234</td>\n",
       "      <td>...</td>\n",
       "      <td>12394</td>\n",
       "      <td>12394</td>\n",
       "      <td>12394</td>\n",
       "      <td>12394</td>\n",
       "      <td>12394</td>\n",
       "      <td>12394</td>\n",
       "      <td>12394</td>\n",
       "      <td>12394</td>\n",
       "      <td>12394</td>\n",
       "      <td>12394</td>\n",
       "    </tr>\n",
       "    <tr>\n",
       "      <th>3185</th>\n",
       "      <td>10229</td>\n",
       "      <td>10229</td>\n",
       "      <td>10229</td>\n",
       "      <td>10229</td>\n",
       "      <td>10229</td>\n",
       "      <td>10229</td>\n",
       "      <td>10229</td>\n",
       "      <td>10229</td>\n",
       "      <td>10403</td>\n",
       "      <td>10403</td>\n",
       "      <td>...</td>\n",
       "      <td>11997</td>\n",
       "      <td>11997</td>\n",
       "      <td>11997</td>\n",
       "      <td>11997</td>\n",
       "      <td>11997</td>\n",
       "      <td>11997</td>\n",
       "      <td>11997</td>\n",
       "      <td>11997</td>\n",
       "      <td>11997</td>\n",
       "      <td>11997</td>\n",
       "    </tr>\n",
       "    <tr>\n",
       "      <th>3186</th>\n",
       "      <td>5681</td>\n",
       "      <td>5681</td>\n",
       "      <td>5681</td>\n",
       "      <td>5681</td>\n",
       "      <td>5681</td>\n",
       "      <td>5681</td>\n",
       "      <td>5681</td>\n",
       "      <td>5681</td>\n",
       "      <td>5702</td>\n",
       "      <td>5702</td>\n",
       "      <td>...</td>\n",
       "      <td>6303</td>\n",
       "      <td>6303</td>\n",
       "      <td>6303</td>\n",
       "      <td>6303</td>\n",
       "      <td>6303</td>\n",
       "      <td>6303</td>\n",
       "      <td>6303</td>\n",
       "      <td>6303</td>\n",
       "      <td>6303</td>\n",
       "      <td>6303</td>\n",
       "    </tr>\n",
       "    <tr>\n",
       "      <th>3187</th>\n",
       "      <td>2369</td>\n",
       "      <td>2369</td>\n",
       "      <td>2369</td>\n",
       "      <td>2369</td>\n",
       "      <td>2369</td>\n",
       "      <td>2369</td>\n",
       "      <td>2369</td>\n",
       "      <td>2369</td>\n",
       "      <td>2371</td>\n",
       "      <td>2371</td>\n",
       "      <td>...</td>\n",
       "      <td>2717</td>\n",
       "      <td>2717</td>\n",
       "      <td>2717</td>\n",
       "      <td>2717</td>\n",
       "      <td>2717</td>\n",
       "      <td>2717</td>\n",
       "      <td>2717</td>\n",
       "      <td>2717</td>\n",
       "      <td>2717</td>\n",
       "      <td>2717</td>\n",
       "    </tr>\n",
       "    <tr>\n",
       "      <th>3188</th>\n",
       "      <td>1594</td>\n",
       "      <td>1594</td>\n",
       "      <td>1594</td>\n",
       "      <td>1594</td>\n",
       "      <td>1594</td>\n",
       "      <td>1594</td>\n",
       "      <td>1594</td>\n",
       "      <td>1594</td>\n",
       "      <td>1604</td>\n",
       "      <td>1604</td>\n",
       "      <td>...</td>\n",
       "      <td>1876</td>\n",
       "      <td>1876</td>\n",
       "      <td>1876</td>\n",
       "      <td>1876</td>\n",
       "      <td>1876</td>\n",
       "      <td>1876</td>\n",
       "      <td>1876</td>\n",
       "      <td>1876</td>\n",
       "      <td>1876</td>\n",
       "      <td>1876</td>\n",
       "    </tr>\n",
       "  </tbody>\n",
       "</table>\n",
       "<p>3189 rows × 214 columns</p>\n",
       "</div>"
      ],
      "text/plain": [
       "      2022-06-01_x  2022-06-02_x  2022-06-03_x  2022-06-04_x  2022-06-05_x  \\\n",
       "0                0             0             0             0             0   \n",
       "1            15969         15978         15978         15978         15978   \n",
       "2            56580         56648         56648         56648         56648   \n",
       "3             5710          5714          5714          5714          5714   \n",
       "4             6508          6512          6512          6512          6512   \n",
       "...            ...           ...           ...           ...           ...   \n",
       "3184         11178         11178         11178         11178         11178   \n",
       "3185         10229         10229         10229         10229         10229   \n",
       "3186          5681          5681          5681          5681          5681   \n",
       "3187          2369          2369          2369          2369          2369   \n",
       "3188          1594          1594          1594          1594          1594   \n",
       "\n",
       "      2022-06-06_x  2022-06-07_x  2022-06-08_x  2022-06-09_x  2022-06-10_x  \\\n",
       "0                0             0             0             0             0   \n",
       "1            16032         16052         16065         16084         16095   \n",
       "2            56895         56955         57024         57079         57166   \n",
       "3             5719          5733          5734          5744          5748   \n",
       "4             6534          6535          6540          6544          6547   \n",
       "...            ...           ...           ...           ...           ...   \n",
       "3184         11178         11178         11178         11234         11234   \n",
       "3185         10229         10229         10229         10403         10403   \n",
       "3186          5681          5681          5681          5702          5702   \n",
       "3187          2369          2369          2369          2371          2371   \n",
       "3188          1594          1594          1594          1604          1604   \n",
       "\n",
       "      ...  2022-12-22_x  2022-12-23_x  2022-12-24_x  2022-12-25_x  \\\n",
       "0     ...             0             0             0             0   \n",
       "1     ...         18961         18961         18961         18961   \n",
       "2     ...         67496         67496         67496         67496   \n",
       "3     ...          7027          7027          7027          7027   \n",
       "4     ...          7692          7692          7692          7692   \n",
       "...   ...           ...           ...           ...           ...   \n",
       "3184  ...         12394         12394         12394         12394   \n",
       "3185  ...         11997         11997         11997         11997   \n",
       "3186  ...          6303          6303          6303          6303   \n",
       "3187  ...          2717          2717          2717          2717   \n",
       "3188  ...          1876          1876          1876          1876   \n",
       "\n",
       "      2022-12-26_x  2022-12-27_x  2022-12-28_x  2022-12-29_x  2022-12-30_x  \\\n",
       "0                0             0             0             0             0   \n",
       "1            18961         18961         18961         18961         18961   \n",
       "2            67496         67496         67496         67496         67496   \n",
       "3             7027          7027          7027          7027          7027   \n",
       "4             7692          7692          7692          7692          7692   \n",
       "...            ...           ...           ...           ...           ...   \n",
       "3184         12394         12394         12394         12394         12394   \n",
       "3185         11997         11997         11997         11997         11997   \n",
       "3186          6303          6303          6303          6303          6303   \n",
       "3187          2717          2717          2717          2717          2717   \n",
       "3188          1876          1876          1876          1876          1876   \n",
       "\n",
       "      2022-12-31_x  \n",
       "0                0  \n",
       "1            18961  \n",
       "2            67496  \n",
       "3             7027  \n",
       "4             7692  \n",
       "...            ...  \n",
       "3184         12394  \n",
       "3185         11997  \n",
       "3186          6303  \n",
       "3187          2717  \n",
       "3188          1876  \n",
       "\n",
       "[3189 rows x 214 columns]"
      ]
     },
     "execution_count": 206,
     "metadata": {},
     "output_type": "execute_result"
    }
   ],
   "source": [
    "superdata.iloc[:,865:1079]"
   ]
  },
  {
   "cell_type": "code",
   "execution_count": 207,
   "id": "2d651f1c",
   "metadata": {},
   "outputs": [
    {
     "data": {
      "text/html": [
       "<div>\n",
       "<style scoped>\n",
       "    .dataframe tbody tr th:only-of-type {\n",
       "        vertical-align: middle;\n",
       "    }\n",
       "\n",
       "    .dataframe tbody tr th {\n",
       "        vertical-align: top;\n",
       "    }\n",
       "\n",
       "    .dataframe thead th {\n",
       "        text-align: right;\n",
       "    }\n",
       "</style>\n",
       "<table border=\"1\" class=\"dataframe\">\n",
       "  <thead>\n",
       "    <tr style=\"text-align: right;\">\n",
       "      <th></th>\n",
       "      <th>2022-06-01_y</th>\n",
       "      <th>2022-06-02_y</th>\n",
       "      <th>2022-06-03_y</th>\n",
       "      <th>2022-06-04_y</th>\n",
       "      <th>2022-06-05_y</th>\n",
       "      <th>2022-06-06_y</th>\n",
       "      <th>2022-06-07_y</th>\n",
       "      <th>2022-06-08_y</th>\n",
       "      <th>2022-06-09_y</th>\n",
       "      <th>2022-06-10_y</th>\n",
       "      <th>...</th>\n",
       "      <th>2022-12-22_y</th>\n",
       "      <th>2022-12-23_y</th>\n",
       "      <th>2022-12-24_y</th>\n",
       "      <th>2022-12-25_y</th>\n",
       "      <th>2022-12-26_y</th>\n",
       "      <th>2022-12-27_y</th>\n",
       "      <th>2022-12-28_y</th>\n",
       "      <th>2022-12-29_y</th>\n",
       "      <th>2022-12-30_y</th>\n",
       "      <th>2022-12-31_y</th>\n",
       "    </tr>\n",
       "  </thead>\n",
       "  <tbody>\n",
       "    <tr>\n",
       "      <th>0</th>\n",
       "      <td>0</td>\n",
       "      <td>0</td>\n",
       "      <td>0</td>\n",
       "      <td>0</td>\n",
       "      <td>0</td>\n",
       "      <td>0</td>\n",
       "      <td>0</td>\n",
       "      <td>0</td>\n",
       "      <td>0</td>\n",
       "      <td>0</td>\n",
       "      <td>...</td>\n",
       "      <td>0</td>\n",
       "      <td>0</td>\n",
       "      <td>0</td>\n",
       "      <td>0</td>\n",
       "      <td>0</td>\n",
       "      <td>0</td>\n",
       "      <td>0</td>\n",
       "      <td>0</td>\n",
       "      <td>0</td>\n",
       "      <td>0</td>\n",
       "    </tr>\n",
       "    <tr>\n",
       "      <th>1</th>\n",
       "      <td>216</td>\n",
       "      <td>216</td>\n",
       "      <td>216</td>\n",
       "      <td>216</td>\n",
       "      <td>216</td>\n",
       "      <td>216</td>\n",
       "      <td>216</td>\n",
       "      <td>216</td>\n",
       "      <td>217</td>\n",
       "      <td>217</td>\n",
       "      <td>...</td>\n",
       "      <td>230</td>\n",
       "      <td>230</td>\n",
       "      <td>230</td>\n",
       "      <td>230</td>\n",
       "      <td>230</td>\n",
       "      <td>230</td>\n",
       "      <td>230</td>\n",
       "      <td>230</td>\n",
       "      <td>230</td>\n",
       "      <td>230</td>\n",
       "    </tr>\n",
       "    <tr>\n",
       "      <th>2</th>\n",
       "      <td>683</td>\n",
       "      <td>683</td>\n",
       "      <td>683</td>\n",
       "      <td>683</td>\n",
       "      <td>683</td>\n",
       "      <td>683</td>\n",
       "      <td>683</td>\n",
       "      <td>683</td>\n",
       "      <td>683</td>\n",
       "      <td>683</td>\n",
       "      <td>...</td>\n",
       "      <td>719</td>\n",
       "      <td>719</td>\n",
       "      <td>719</td>\n",
       "      <td>719</td>\n",
       "      <td>719</td>\n",
       "      <td>719</td>\n",
       "      <td>719</td>\n",
       "      <td>719</td>\n",
       "      <td>719</td>\n",
       "      <td>719</td>\n",
       "    </tr>\n",
       "    <tr>\n",
       "      <th>3</th>\n",
       "      <td>99</td>\n",
       "      <td>99</td>\n",
       "      <td>99</td>\n",
       "      <td>99</td>\n",
       "      <td>99</td>\n",
       "      <td>99</td>\n",
       "      <td>99</td>\n",
       "      <td>99</td>\n",
       "      <td>99</td>\n",
       "      <td>99</td>\n",
       "      <td>...</td>\n",
       "      <td>103</td>\n",
       "      <td>103</td>\n",
       "      <td>103</td>\n",
       "      <td>103</td>\n",
       "      <td>103</td>\n",
       "      <td>103</td>\n",
       "      <td>103</td>\n",
       "      <td>103</td>\n",
       "      <td>103</td>\n",
       "      <td>103</td>\n",
       "    </tr>\n",
       "    <tr>\n",
       "      <th>4</th>\n",
       "      <td>105</td>\n",
       "      <td>105</td>\n",
       "      <td>105</td>\n",
       "      <td>105</td>\n",
       "      <td>105</td>\n",
       "      <td>105</td>\n",
       "      <td>105</td>\n",
       "      <td>105</td>\n",
       "      <td>105</td>\n",
       "      <td>105</td>\n",
       "      <td>...</td>\n",
       "      <td>108</td>\n",
       "      <td>108</td>\n",
       "      <td>108</td>\n",
       "      <td>108</td>\n",
       "      <td>108</td>\n",
       "      <td>108</td>\n",
       "      <td>108</td>\n",
       "      <td>108</td>\n",
       "      <td>108</td>\n",
       "      <td>108</td>\n",
       "    </tr>\n",
       "    <tr>\n",
       "      <th>...</th>\n",
       "      <td>...</td>\n",
       "      <td>...</td>\n",
       "      <td>...</td>\n",
       "      <td>...</td>\n",
       "      <td>...</td>\n",
       "      <td>...</td>\n",
       "      <td>...</td>\n",
       "      <td>...</td>\n",
       "      <td>...</td>\n",
       "      <td>...</td>\n",
       "      <td>...</td>\n",
       "      <td>...</td>\n",
       "      <td>...</td>\n",
       "      <td>...</td>\n",
       "      <td>...</td>\n",
       "      <td>...</td>\n",
       "      <td>...</td>\n",
       "      <td>...</td>\n",
       "      <td>...</td>\n",
       "      <td>...</td>\n",
       "      <td>...</td>\n",
       "    </tr>\n",
       "    <tr>\n",
       "      <th>3184</th>\n",
       "      <td>126</td>\n",
       "      <td>126</td>\n",
       "      <td>126</td>\n",
       "      <td>126</td>\n",
       "      <td>126</td>\n",
       "      <td>126</td>\n",
       "      <td>126</td>\n",
       "      <td>126</td>\n",
       "      <td>126</td>\n",
       "      <td>126</td>\n",
       "      <td>...</td>\n",
       "      <td>136</td>\n",
       "      <td>136</td>\n",
       "      <td>136</td>\n",
       "      <td>136</td>\n",
       "      <td>136</td>\n",
       "      <td>136</td>\n",
       "      <td>136</td>\n",
       "      <td>136</td>\n",
       "      <td>136</td>\n",
       "      <td>136</td>\n",
       "    </tr>\n",
       "    <tr>\n",
       "      <th>3185</th>\n",
       "      <td>16</td>\n",
       "      <td>16</td>\n",
       "      <td>16</td>\n",
       "      <td>16</td>\n",
       "      <td>16</td>\n",
       "      <td>16</td>\n",
       "      <td>16</td>\n",
       "      <td>16</td>\n",
       "      <td>16</td>\n",
       "      <td>16</td>\n",
       "      <td>...</td>\n",
       "      <td>16</td>\n",
       "      <td>16</td>\n",
       "      <td>16</td>\n",
       "      <td>16</td>\n",
       "      <td>16</td>\n",
       "      <td>16</td>\n",
       "      <td>16</td>\n",
       "      <td>16</td>\n",
       "      <td>16</td>\n",
       "      <td>16</td>\n",
       "    </tr>\n",
       "    <tr>\n",
       "      <th>3186</th>\n",
       "      <td>39</td>\n",
       "      <td>39</td>\n",
       "      <td>39</td>\n",
       "      <td>39</td>\n",
       "      <td>39</td>\n",
       "      <td>39</td>\n",
       "      <td>39</td>\n",
       "      <td>39</td>\n",
       "      <td>39</td>\n",
       "      <td>39</td>\n",
       "      <td>...</td>\n",
       "      <td>43</td>\n",
       "      <td>43</td>\n",
       "      <td>43</td>\n",
       "      <td>43</td>\n",
       "      <td>43</td>\n",
       "      <td>43</td>\n",
       "      <td>43</td>\n",
       "      <td>43</td>\n",
       "      <td>43</td>\n",
       "      <td>43</td>\n",
       "    </tr>\n",
       "    <tr>\n",
       "      <th>3187</th>\n",
       "      <td>44</td>\n",
       "      <td>44</td>\n",
       "      <td>44</td>\n",
       "      <td>44</td>\n",
       "      <td>44</td>\n",
       "      <td>44</td>\n",
       "      <td>44</td>\n",
       "      <td>44</td>\n",
       "      <td>44</td>\n",
       "      <td>44</td>\n",
       "      <td>...</td>\n",
       "      <td>47</td>\n",
       "      <td>47</td>\n",
       "      <td>47</td>\n",
       "      <td>47</td>\n",
       "      <td>47</td>\n",
       "      <td>47</td>\n",
       "      <td>47</td>\n",
       "      <td>47</td>\n",
       "      <td>47</td>\n",
       "      <td>47</td>\n",
       "    </tr>\n",
       "    <tr>\n",
       "      <th>3188</th>\n",
       "      <td>18</td>\n",
       "      <td>18</td>\n",
       "      <td>18</td>\n",
       "      <td>18</td>\n",
       "      <td>18</td>\n",
       "      <td>18</td>\n",
       "      <td>18</td>\n",
       "      <td>18</td>\n",
       "      <td>19</td>\n",
       "      <td>19</td>\n",
       "      <td>...</td>\n",
       "      <td>22</td>\n",
       "      <td>22</td>\n",
       "      <td>22</td>\n",
       "      <td>22</td>\n",
       "      <td>22</td>\n",
       "      <td>22</td>\n",
       "      <td>22</td>\n",
       "      <td>22</td>\n",
       "      <td>22</td>\n",
       "      <td>22</td>\n",
       "    </tr>\n",
       "  </tbody>\n",
       "</table>\n",
       "<p>3189 rows × 214 columns</p>\n",
       "</div>"
      ],
      "text/plain": [
       "      2022-06-01_y  2022-06-02_y  2022-06-03_y  2022-06-04_y  2022-06-05_y  \\\n",
       "0                0             0             0             0             0   \n",
       "1              216           216           216           216           216   \n",
       "2              683           683           683           683           683   \n",
       "3               99            99            99            99            99   \n",
       "4              105           105           105           105           105   \n",
       "...            ...           ...           ...           ...           ...   \n",
       "3184           126           126           126           126           126   \n",
       "3185            16            16            16            16            16   \n",
       "3186            39            39            39            39            39   \n",
       "3187            44            44            44            44            44   \n",
       "3188            18            18            18            18            18   \n",
       "\n",
       "      2022-06-06_y  2022-06-07_y  2022-06-08_y  2022-06-09_y  2022-06-10_y  \\\n",
       "0                0             0             0             0             0   \n",
       "1              216           216           216           217           217   \n",
       "2              683           683           683           683           683   \n",
       "3               99            99            99            99            99   \n",
       "4              105           105           105           105           105   \n",
       "...            ...           ...           ...           ...           ...   \n",
       "3184           126           126           126           126           126   \n",
       "3185            16            16            16            16            16   \n",
       "3186            39            39            39            39            39   \n",
       "3187            44            44            44            44            44   \n",
       "3188            18            18            18            19            19   \n",
       "\n",
       "      ...  2022-12-22_y  2022-12-23_y  2022-12-24_y  2022-12-25_y  \\\n",
       "0     ...             0             0             0             0   \n",
       "1     ...           230           230           230           230   \n",
       "2     ...           719           719           719           719   \n",
       "3     ...           103           103           103           103   \n",
       "4     ...           108           108           108           108   \n",
       "...   ...           ...           ...           ...           ...   \n",
       "3184  ...           136           136           136           136   \n",
       "3185  ...            16            16            16            16   \n",
       "3186  ...            43            43            43            43   \n",
       "3187  ...            47            47            47            47   \n",
       "3188  ...            22            22            22            22   \n",
       "\n",
       "      2022-12-26_y  2022-12-27_y  2022-12-28_y  2022-12-29_y  2022-12-30_y  \\\n",
       "0                0             0             0             0             0   \n",
       "1              230           230           230           230           230   \n",
       "2              719           719           719           719           719   \n",
       "3              103           103           103           103           103   \n",
       "4              108           108           108           108           108   \n",
       "...            ...           ...           ...           ...           ...   \n",
       "3184           136           136           136           136           136   \n",
       "3185            16            16            16            16            16   \n",
       "3186            43            43            43            43            43   \n",
       "3187            47            47            47            47            47   \n",
       "3188            22            22            22            22            22   \n",
       "\n",
       "      2022-12-31_y  \n",
       "0                0  \n",
       "1              230  \n",
       "2              719  \n",
       "3              103  \n",
       "4              108  \n",
       "...            ...  \n",
       "3184           136  \n",
       "3185            16  \n",
       "3186            43  \n",
       "3187            47  \n",
       "3188            22  \n",
       "\n",
       "[3189 rows x 214 columns]"
      ]
     },
     "execution_count": 207,
     "metadata": {},
     "output_type": "execute_result"
    }
   ],
   "source": [
    "superdata.iloc[:,1976:2190]"
   ]
  },
  {
   "cell_type": "code",
   "execution_count": 208,
   "id": "eb389835",
   "metadata": {},
   "outputs": [
    {
     "data": {
      "text/html": [
       "<div>\n",
       "<style scoped>\n",
       "    .dataframe tbody tr th:only-of-type {\n",
       "        vertical-align: middle;\n",
       "    }\n",
       "\n",
       "    .dataframe tbody tr th {\n",
       "        vertical-align: top;\n",
       "    }\n",
       "\n",
       "    .dataframe thead th {\n",
       "        text-align: right;\n",
       "    }\n",
       "</style>\n",
       "<table border=\"1\" class=\"dataframe\">\n",
       "  <thead>\n",
       "    <tr style=\"text-align: right;\">\n",
       "      <th></th>\n",
       "      <th>countyFIPS</th>\n",
       "      <th>County Name</th>\n",
       "      <th>State</th>\n",
       "      <th>StateFIPS</th>\n",
       "      <th>2022-06-01_x</th>\n",
       "      <th>2022-06-02_x</th>\n",
       "      <th>2022-06-03_x</th>\n",
       "      <th>2022-06-04_x</th>\n",
       "      <th>2022-06-05_x</th>\n",
       "      <th>2022-06-06_x</th>\n",
       "      <th>...</th>\n",
       "      <th>2022-12-23_y</th>\n",
       "      <th>2022-12-24_y</th>\n",
       "      <th>2022-12-25_y</th>\n",
       "      <th>2022-12-26_y</th>\n",
       "      <th>2022-12-27_y</th>\n",
       "      <th>2022-12-28_y</th>\n",
       "      <th>2022-12-29_y</th>\n",
       "      <th>2022-12-30_y</th>\n",
       "      <th>2022-12-31_y</th>\n",
       "      <th>population</th>\n",
       "    </tr>\n",
       "  </thead>\n",
       "  <tbody>\n",
       "    <tr>\n",
       "      <th>0</th>\n",
       "      <td>0</td>\n",
       "      <td>statewide unallocated</td>\n",
       "      <td>AL</td>\n",
       "      <td>1</td>\n",
       "      <td>0</td>\n",
       "      <td>0</td>\n",
       "      <td>0</td>\n",
       "      <td>0</td>\n",
       "      <td>0</td>\n",
       "      <td>0</td>\n",
       "      <td>...</td>\n",
       "      <td>0</td>\n",
       "      <td>0</td>\n",
       "      <td>0</td>\n",
       "      <td>0</td>\n",
       "      <td>0</td>\n",
       "      <td>0</td>\n",
       "      <td>0</td>\n",
       "      <td>0</td>\n",
       "      <td>0</td>\n",
       "      <td>0</td>\n",
       "    </tr>\n",
       "    <tr>\n",
       "      <th>1</th>\n",
       "      <td>1001</td>\n",
       "      <td>autauga county</td>\n",
       "      <td>AL</td>\n",
       "      <td>1</td>\n",
       "      <td>15969</td>\n",
       "      <td>15978</td>\n",
       "      <td>15978</td>\n",
       "      <td>15978</td>\n",
       "      <td>15978</td>\n",
       "      <td>16032</td>\n",
       "      <td>...</td>\n",
       "      <td>230</td>\n",
       "      <td>230</td>\n",
       "      <td>230</td>\n",
       "      <td>230</td>\n",
       "      <td>230</td>\n",
       "      <td>230</td>\n",
       "      <td>230</td>\n",
       "      <td>230</td>\n",
       "      <td>230</td>\n",
       "      <td>55869</td>\n",
       "    </tr>\n",
       "    <tr>\n",
       "      <th>2</th>\n",
       "      <td>1003</td>\n",
       "      <td>baldwin county</td>\n",
       "      <td>AL</td>\n",
       "      <td>1</td>\n",
       "      <td>56580</td>\n",
       "      <td>56648</td>\n",
       "      <td>56648</td>\n",
       "      <td>56648</td>\n",
       "      <td>56648</td>\n",
       "      <td>56895</td>\n",
       "      <td>...</td>\n",
       "      <td>719</td>\n",
       "      <td>719</td>\n",
       "      <td>719</td>\n",
       "      <td>719</td>\n",
       "      <td>719</td>\n",
       "      <td>719</td>\n",
       "      <td>719</td>\n",
       "      <td>719</td>\n",
       "      <td>719</td>\n",
       "      <td>223234</td>\n",
       "    </tr>\n",
       "    <tr>\n",
       "      <th>3</th>\n",
       "      <td>1005</td>\n",
       "      <td>barbour county</td>\n",
       "      <td>AL</td>\n",
       "      <td>1</td>\n",
       "      <td>5710</td>\n",
       "      <td>5714</td>\n",
       "      <td>5714</td>\n",
       "      <td>5714</td>\n",
       "      <td>5714</td>\n",
       "      <td>5719</td>\n",
       "      <td>...</td>\n",
       "      <td>103</td>\n",
       "      <td>103</td>\n",
       "      <td>103</td>\n",
       "      <td>103</td>\n",
       "      <td>103</td>\n",
       "      <td>103</td>\n",
       "      <td>103</td>\n",
       "      <td>103</td>\n",
       "      <td>103</td>\n",
       "      <td>24686</td>\n",
       "    </tr>\n",
       "    <tr>\n",
       "      <th>4</th>\n",
       "      <td>1007</td>\n",
       "      <td>bibb county</td>\n",
       "      <td>AL</td>\n",
       "      <td>1</td>\n",
       "      <td>6508</td>\n",
       "      <td>6512</td>\n",
       "      <td>6512</td>\n",
       "      <td>6512</td>\n",
       "      <td>6512</td>\n",
       "      <td>6534</td>\n",
       "      <td>...</td>\n",
       "      <td>108</td>\n",
       "      <td>108</td>\n",
       "      <td>108</td>\n",
       "      <td>108</td>\n",
       "      <td>108</td>\n",
       "      <td>108</td>\n",
       "      <td>108</td>\n",
       "      <td>108</td>\n",
       "      <td>108</td>\n",
       "      <td>22394</td>\n",
       "    </tr>\n",
       "  </tbody>\n",
       "</table>\n",
       "<p>5 rows × 433 columns</p>\n",
       "</div>"
      ],
      "text/plain": [
       "   countyFIPS            County Name State  StateFIPS  2022-06-01_x  \\\n",
       "0           0  statewide unallocated    AL          1             0   \n",
       "1        1001         autauga county    AL          1         15969   \n",
       "2        1003         baldwin county    AL          1         56580   \n",
       "3        1005         barbour county    AL          1          5710   \n",
       "4        1007            bibb county    AL          1          6508   \n",
       "\n",
       "   2022-06-02_x  2022-06-03_x  2022-06-04_x  2022-06-05_x  2022-06-06_x  ...  \\\n",
       "0             0             0             0             0             0  ...   \n",
       "1         15978         15978         15978         15978         16032  ...   \n",
       "2         56648         56648         56648         56648         56895  ...   \n",
       "3          5714          5714          5714          5714          5719  ...   \n",
       "4          6512          6512          6512          6512          6534  ...   \n",
       "\n",
       "   2022-12-23_y  2022-12-24_y  2022-12-25_y  2022-12-26_y  2022-12-27_y  \\\n",
       "0             0             0             0             0             0   \n",
       "1           230           230           230           230           230   \n",
       "2           719           719           719           719           719   \n",
       "3           103           103           103           103           103   \n",
       "4           108           108           108           108           108   \n",
       "\n",
       "   2022-12-28_y  2022-12-29_y  2022-12-30_y  2022-12-31_y  population  \n",
       "0             0             0             0             0           0  \n",
       "1           230           230           230           230       55869  \n",
       "2           719           719           719           719      223234  \n",
       "3           103           103           103           103       24686  \n",
       "4           108           108           108           108       22394  \n",
       "\n",
       "[5 rows x 433 columns]"
      ]
     },
     "execution_count": 208,
     "metadata": {},
     "output_type": "execute_result"
    }
   ],
   "source": [
    "#parenthesis because its a paramater inside the function/method, square because it's a list\n",
    "#including axis = 1 here so that they are concat on the vertical way\n",
    "df = pd.concat([superdata.iloc[:, 0:4],superdata.iloc[:,865:1079], \n",
    "                superdata.iloc[:,1976:2190],\n",
    "               superdata.iloc[:, -1]], axis=1)\n",
    "df.head()"
   ]
  },
  {
   "cell_type": "code",
   "execution_count": 209,
   "id": "97c59ce7",
   "metadata": {},
   "outputs": [
    {
     "data": {
      "text/plain": [
       "(3189, 433)"
      ]
     },
     "execution_count": 209,
     "metadata": {},
     "output_type": "execute_result"
    }
   ],
   "source": [
    "df.shape"
   ]
  },
  {
   "cell_type": "code",
   "execution_count": 210,
   "id": "1b80e509",
   "metadata": {},
   "outputs": [],
   "source": [
    "def county_state(x):\n",
    "    return x[0] +\"_\"+ x[1]\n",
    "    "
   ]
  },
  {
   "cell_type": "code",
   "execution_count": 211,
   "id": "d09ada1a",
   "metadata": {},
   "outputs": [],
   "source": [
    "#.apply is iterating across the horizontal axis\n",
    "df[\"county_state\"] = df[[\"County Name\", \"State\"]].apply(county_state, axis=1)"
   ]
  },
  {
   "cell_type": "code",
   "execution_count": 212,
   "id": "07726e4c",
   "metadata": {},
   "outputs": [
    {
     "data": {
      "text/plain": [
       "statewide unallocated_AL    1\n",
       "licking county_OH           1\n",
       "lorain county_OH            1\n",
       "lucas county_OH             1\n",
       "madison county_OH           1\n",
       "                           ..\n",
       "johnson county_KY           1\n",
       "kenton county_KY            1\n",
       "knott county_KY             1\n",
       "knox county_KY              1\n",
       "weston county_WY            1\n",
       "Name: county_state, Length: 3189, dtype: int64"
      ]
     },
     "execution_count": 212,
     "metadata": {},
     "output_type": "execute_result"
    }
   ],
   "source": [
    "#value_counts here is counting the times each value category is appearing, this gives a unique in\n",
    "df[\"county_state\"].value_counts()"
   ]
  },
  {
   "cell_type": "code",
   "execution_count": 213,
   "id": "a97dd0e9",
   "metadata": {},
   "outputs": [],
   "source": [
    "#X is confirmed cases\n",
    "#Y is deaths\n",
    "\n",
    "#transpose this: set the index value = statename\n"
   ]
  },
  {
   "cell_type": "code",
   "execution_count": 214,
   "id": "764e1254",
   "metadata": {},
   "outputs": [],
   "source": [
    "df.index=df[\"county_state\"]"
   ]
  },
  {
   "cell_type": "code",
   "execution_count": 215,
   "id": "098d3e49",
   "metadata": {},
   "outputs": [],
   "source": [
    "#transpose capital T here, making a copy here so they don't share a same place in memory\n",
    "superdataT = df.T.copy()"
   ]
  },
  {
   "cell_type": "code",
   "execution_count": 216,
   "id": "201aa02d",
   "metadata": {},
   "outputs": [
    {
     "data": {
      "text/html": [
       "<div>\n",
       "<style scoped>\n",
       "    .dataframe tbody tr th:only-of-type {\n",
       "        vertical-align: middle;\n",
       "    }\n",
       "\n",
       "    .dataframe tbody tr th {\n",
       "        vertical-align: top;\n",
       "    }\n",
       "\n",
       "    .dataframe thead th {\n",
       "        text-align: right;\n",
       "    }\n",
       "</style>\n",
       "<table border=\"1\" class=\"dataframe\">\n",
       "  <thead>\n",
       "    <tr style=\"text-align: right;\">\n",
       "      <th>county_state</th>\n",
       "      <th>statewide unallocated_AL</th>\n",
       "      <th>autauga county_AL</th>\n",
       "      <th>baldwin county_AL</th>\n",
       "      <th>barbour county_AL</th>\n",
       "      <th>bibb county_AL</th>\n",
       "      <th>blount county_AL</th>\n",
       "      <th>bullock county_AL</th>\n",
       "      <th>butler county_AL</th>\n",
       "      <th>calhoun county_AL</th>\n",
       "      <th>chambers county_AL</th>\n",
       "      <th>...</th>\n",
       "      <th>niobrara county_WY</th>\n",
       "      <th>park county_WY</th>\n",
       "      <th>platte county_WY</th>\n",
       "      <th>sheridan county_WY</th>\n",
       "      <th>sublette county_WY</th>\n",
       "      <th>sweetwater county_WY</th>\n",
       "      <th>teton county_WY</th>\n",
       "      <th>uinta county_WY</th>\n",
       "      <th>washakie county_WY</th>\n",
       "      <th>weston county_WY</th>\n",
       "    </tr>\n",
       "  </thead>\n",
       "  <tbody>\n",
       "    <tr>\n",
       "      <th>countyFIPS</th>\n",
       "      <td>0</td>\n",
       "      <td>1001</td>\n",
       "      <td>1003</td>\n",
       "      <td>1005</td>\n",
       "      <td>1007</td>\n",
       "      <td>1009</td>\n",
       "      <td>1011</td>\n",
       "      <td>1013</td>\n",
       "      <td>1015</td>\n",
       "      <td>1017</td>\n",
       "      <td>...</td>\n",
       "      <td>56027</td>\n",
       "      <td>56029</td>\n",
       "      <td>56031</td>\n",
       "      <td>56033</td>\n",
       "      <td>56035</td>\n",
       "      <td>56037</td>\n",
       "      <td>56039</td>\n",
       "      <td>56041</td>\n",
       "      <td>56043</td>\n",
       "      <td>56045</td>\n",
       "    </tr>\n",
       "    <tr>\n",
       "      <th>County Name</th>\n",
       "      <td>statewide unallocated</td>\n",
       "      <td>autauga county</td>\n",
       "      <td>baldwin county</td>\n",
       "      <td>barbour county</td>\n",
       "      <td>bibb county</td>\n",
       "      <td>blount county</td>\n",
       "      <td>bullock county</td>\n",
       "      <td>butler county</td>\n",
       "      <td>calhoun county</td>\n",
       "      <td>chambers county</td>\n",
       "      <td>...</td>\n",
       "      <td>niobrara county</td>\n",
       "      <td>park county</td>\n",
       "      <td>platte county</td>\n",
       "      <td>sheridan county</td>\n",
       "      <td>sublette county</td>\n",
       "      <td>sweetwater county</td>\n",
       "      <td>teton county</td>\n",
       "      <td>uinta county</td>\n",
       "      <td>washakie county</td>\n",
       "      <td>weston county</td>\n",
       "    </tr>\n",
       "    <tr>\n",
       "      <th>State</th>\n",
       "      <td>AL</td>\n",
       "      <td>AL</td>\n",
       "      <td>AL</td>\n",
       "      <td>AL</td>\n",
       "      <td>AL</td>\n",
       "      <td>AL</td>\n",
       "      <td>AL</td>\n",
       "      <td>AL</td>\n",
       "      <td>AL</td>\n",
       "      <td>AL</td>\n",
       "      <td>...</td>\n",
       "      <td>WY</td>\n",
       "      <td>WY</td>\n",
       "      <td>WY</td>\n",
       "      <td>WY</td>\n",
       "      <td>WY</td>\n",
       "      <td>WY</td>\n",
       "      <td>WY</td>\n",
       "      <td>WY</td>\n",
       "      <td>WY</td>\n",
       "      <td>WY</td>\n",
       "    </tr>\n",
       "    <tr>\n",
       "      <th>StateFIPS</th>\n",
       "      <td>1</td>\n",
       "      <td>1</td>\n",
       "      <td>1</td>\n",
       "      <td>1</td>\n",
       "      <td>1</td>\n",
       "      <td>1</td>\n",
       "      <td>1</td>\n",
       "      <td>1</td>\n",
       "      <td>1</td>\n",
       "      <td>1</td>\n",
       "      <td>...</td>\n",
       "      <td>56</td>\n",
       "      <td>56</td>\n",
       "      <td>56</td>\n",
       "      <td>56</td>\n",
       "      <td>56</td>\n",
       "      <td>56</td>\n",
       "      <td>56</td>\n",
       "      <td>56</td>\n",
       "      <td>56</td>\n",
       "      <td>56</td>\n",
       "    </tr>\n",
       "    <tr>\n",
       "      <th>2022-06-01_x</th>\n",
       "      <td>0</td>\n",
       "      <td>15969</td>\n",
       "      <td>56580</td>\n",
       "      <td>5710</td>\n",
       "      <td>6508</td>\n",
       "      <td>15077</td>\n",
       "      <td>2337</td>\n",
       "      <td>5091</td>\n",
       "      <td>32596</td>\n",
       "      <td>8551</td>\n",
       "      <td>...</td>\n",
       "      <td>708</td>\n",
       "      <td>6871</td>\n",
       "      <td>1929</td>\n",
       "      <td>8150</td>\n",
       "      <td>1936</td>\n",
       "      <td>11178</td>\n",
       "      <td>10229</td>\n",
       "      <td>5681</td>\n",
       "      <td>2369</td>\n",
       "      <td>1594</td>\n",
       "    </tr>\n",
       "  </tbody>\n",
       "</table>\n",
       "<p>5 rows × 3189 columns</p>\n",
       "</div>"
      ],
      "text/plain": [
       "county_state statewide unallocated_AL autauga county_AL baldwin county_AL  \\\n",
       "countyFIPS                          0              1001              1003   \n",
       "County Name     statewide unallocated    autauga county    baldwin county   \n",
       "State                              AL                AL                AL   \n",
       "StateFIPS                           1                 1                 1   \n",
       "2022-06-01_x                        0             15969             56580   \n",
       "\n",
       "county_state barbour county_AL bibb county_AL blount county_AL  \\\n",
       "countyFIPS                1005           1007             1009   \n",
       "County Name     barbour county    bibb county    blount county   \n",
       "State                       AL             AL               AL   \n",
       "StateFIPS                    1              1                1   \n",
       "2022-06-01_x              5710           6508            15077   \n",
       "\n",
       "county_state bullock county_AL butler county_AL calhoun county_AL  \\\n",
       "countyFIPS                1011             1013              1015   \n",
       "County Name     bullock county    butler county    calhoun county   \n",
       "State                       AL               AL                AL   \n",
       "StateFIPS                    1                1                 1   \n",
       "2022-06-01_x              2337             5091             32596   \n",
       "\n",
       "county_state chambers county_AL  ... niobrara county_WY park county_WY  \\\n",
       "countyFIPS                 1017  ...              56027          56029   \n",
       "County Name     chambers county  ...    niobrara county    park county   \n",
       "State                        AL  ...                 WY             WY   \n",
       "StateFIPS                     1  ...                 56             56   \n",
       "2022-06-01_x               8551  ...                708           6871   \n",
       "\n",
       "county_state platte county_WY sheridan county_WY sublette county_WY  \\\n",
       "countyFIPS              56031              56033              56035   \n",
       "County Name     platte county    sheridan county    sublette county   \n",
       "State                      WY                 WY                 WY   \n",
       "StateFIPS                  56                 56                 56   \n",
       "2022-06-01_x             1929               8150               1936   \n",
       "\n",
       "county_state sweetwater county_WY teton county_WY uinta county_WY  \\\n",
       "countyFIPS                  56037           56039           56041   \n",
       "County Name     sweetwater county    teton county    uinta county   \n",
       "State                          WY              WY              WY   \n",
       "StateFIPS                      56              56              56   \n",
       "2022-06-01_x                11178           10229            5681   \n",
       "\n",
       "county_state washakie county_WY weston county_WY  \n",
       "countyFIPS                56043            56045  \n",
       "County Name     washakie county    weston county  \n",
       "State                        WY               WY  \n",
       "StateFIPS                    56               56  \n",
       "2022-06-01_x               2369             1594  \n",
       "\n",
       "[5 rows x 3189 columns]"
      ]
     },
     "execution_count": 216,
     "metadata": {},
     "output_type": "execute_result"
    }
   ],
   "source": [
    "superdataT.head()"
   ]
  },
  {
   "cell_type": "code",
   "execution_count": 217,
   "id": "5b4c4096",
   "metadata": {},
   "outputs": [
    {
     "data": {
      "text/plain": [
       "Index(['countyFIPS', 'County Name', 'State', 'StateFIPS', '2022-06-01_x',\n",
       "       '2022-06-02_x', '2022-06-03_x', '2022-06-04_x', '2022-06-05_x',\n",
       "       '2022-06-06_x',\n",
       "       ...\n",
       "       '2022-12-24_y', '2022-12-25_y', '2022-12-26_y', '2022-12-27_y',\n",
       "       '2022-12-28_y', '2022-12-29_y', '2022-12-30_y', '2022-12-31_y',\n",
       "       'population', 'county_state'],\n",
       "      dtype='object', length=434)"
      ]
     },
     "execution_count": 217,
     "metadata": {},
     "output_type": "execute_result"
    }
   ],
   "source": [
    "superdataT.index"
   ]
  },
  {
   "cell_type": "code",
   "execution_count": 218,
   "id": "e32bd432",
   "metadata": {},
   "outputs": [],
   "source": [
    "superdataT[\"Date\"] = superdataT.index"
   ]
  },
  {
   "cell_type": "code",
   "execution_count": 219,
   "id": "4b34ae4c",
   "metadata": {},
   "outputs": [
    {
     "data": {
      "text/plain": [
       "['countyFIPS',\n",
       " 'County Name',\n",
       " 'State',\n",
       " 'StateFIPS',\n",
       " 'population',\n",
       " 'county_state']"
      ]
     },
     "execution_count": 219,
     "metadata": {},
     "output_type": "execute_result"
    }
   ],
   "source": [
    "#append here is sticking an item into the last position of a list\n",
    "to_remove = list(superdataT.index[:4])\n",
    "to_remove.append(superdataT.index[-2])\n",
    "to_remove.append(superdataT.index[-1])\n",
    "to_remove"
   ]
  },
  {
   "cell_type": "code",
   "execution_count": 220,
   "id": "b3e4681f",
   "metadata": {},
   "outputs": [],
   "source": [
    "def new_death(x):\n",
    "    if x[-2:]==\"_x\":\n",
    "        return \"new\"\n",
    "    elif x[-2:]==\"_y\":\n",
    "        return \"death\""
   ]
  },
  {
   "cell_type": "code",
   "execution_count": 221,
   "id": "1455cc55",
   "metadata": {},
   "outputs": [],
   "source": [
    "superdataT[\"new_death\"]=superdataT[\"Date\"].apply(new_death)"
   ]
  },
  {
   "cell_type": "code",
   "execution_count": 222,
   "id": "b4a48565",
   "metadata": {
    "scrolled": true
   },
   "outputs": [
    {
     "data": {
      "text/plain": [
       "Index(['new', 'death'], dtype='object')"
      ]
     },
     "execution_count": 222,
     "metadata": {},
     "output_type": "execute_result"
    }
   ],
   "source": [
    "superdataT[\"new_death\"].value_counts().index"
   ]
  },
  {
   "cell_type": "code",
   "execution_count": 223,
   "id": "811a7d74",
   "metadata": {},
   "outputs": [],
   "source": [
    "#getting rid of other title names, cleaning/removing _x & _y\n",
    "\n",
    "def clean_date(x,l=to_remove):\n",
    "        if x in l:\n",
    "            return np.nan\n",
    "        else: \n",
    "            return x[:-2]"
   ]
  },
  {
   "cell_type": "code",
   "execution_count": 224,
   "id": "d644004d",
   "metadata": {},
   "outputs": [],
   "source": [
    "#apply here is iterating through every row, it is a recursion function, and return without _x & _y\n",
    "#clean_date doesn't have the parenthesis here, function has been refrenced here\n",
    "#refrenced - not used in the moment, -> Ask Rob here about a function being used as an attribute?\n",
    "superdataT[\"Date\"] = superdataT[\"Date\"].apply(clean_date,l=to_remove)"
   ]
  },
  {
   "cell_type": "code",
   "execution_count": 225,
   "id": "9462eaf4",
   "metadata": {},
   "outputs": [
    {
     "name": "stderr",
     "output_type": "stream",
     "text": [
      "<ipython-input-225-c694bb34b93b>:1: FutureWarning: weekofyear and week have been deprecated, please use DatetimeIndex.isocalendar().week instead, which returns a Series. To exactly reproduce the behavior of week and weekofyear and return an Index, you may call pd.Int64Index(idx.isocalendar().week)\n",
      "  superdataT[\"Week\"]=pd.DatetimeIndex(superdataT[\"Date\"]).week\n"
     ]
    }
   ],
   "source": [
    "superdataT[\"Week\"]=pd.DatetimeIndex(superdataT[\"Date\"]).week"
   ]
  },
  {
   "cell_type": "code",
   "execution_count": 226,
   "id": "7f88a70a",
   "metadata": {},
   "outputs": [
    {
     "data": {
      "text/plain": [
       "37.0    14\n",
       "23.0    14\n",
       "49.0    14\n",
       "48.0    14\n",
       "47.0    14\n",
       "46.0    14\n",
       "45.0    14\n",
       "44.0    14\n",
       "43.0    14\n",
       "42.0    14\n",
       "41.0    14\n",
       "40.0    14\n",
       "39.0    14\n",
       "38.0    14\n",
       "36.0    14\n",
       "51.0    14\n",
       "35.0    14\n",
       "34.0    14\n",
       "33.0    14\n",
       "32.0    14\n",
       "31.0    14\n",
       "30.0    14\n",
       "29.0    14\n",
       "28.0    14\n",
       "27.0    14\n",
       "26.0    14\n",
       "25.0    14\n",
       "24.0    14\n",
       "50.0    14\n",
       "52.0    12\n",
       "22.0    10\n",
       "Name: Week, dtype: int64"
      ]
     },
     "execution_count": 226,
     "metadata": {},
     "output_type": "execute_result"
    }
   ],
   "source": [
    "superdataT[\"Week\"].value_counts()\n",
    "#series - left: value - right:counts of that value\n",
    "#always does it from max to min count, that's why this index is out of order"
   ]
  },
  {
   "cell_type": "code",
   "execution_count": 227,
   "id": "2a6466cb",
   "metadata": {},
   "outputs": [
    {
     "data": {
      "text/plain": [
       "countyFIPS             NaN\n",
       "County Name            NaN\n",
       "State                  NaN\n",
       "StateFIPS              NaN\n",
       "2022-06-01_x    2022-06-01\n",
       "                   ...    \n",
       "2022-12-29_y    2022-12-29\n",
       "2022-12-30_y    2022-12-30\n",
       "2022-12-31_y    2022-12-31\n",
       "population             NaN\n",
       "county_state           NaN\n",
       "Name: Date, Length: 434, dtype: object"
      ]
     },
     "execution_count": 227,
     "metadata": {},
     "output_type": "execute_result"
    }
   ],
   "source": [
    "superdataT[\"Date\"]"
   ]
  },
  {
   "cell_type": "code",
   "execution_count": 228,
   "id": "89f25b23",
   "metadata": {},
   "outputs": [],
   "source": [
    "superdataT[\"Date\"]=pd.DatetimeIndex(superdataT[\"Date\"])"
   ]
  },
  {
   "cell_type": "code",
   "execution_count": 229,
   "id": "f6e8051a",
   "metadata": {},
   "outputs": [
    {
     "data": {
      "text/plain": [
       "countyFIPS            NaT\n",
       "County Name           NaT\n",
       "State                 NaT\n",
       "StateFIPS             NaT\n",
       "2022-06-01_x   2022-06-01\n",
       "                  ...    \n",
       "2022-12-29_y   2022-12-29\n",
       "2022-12-30_y   2022-12-30\n",
       "2022-12-31_y   2022-12-31\n",
       "population            NaT\n",
       "county_state          NaT\n",
       "Name: Date, Length: 434, dtype: datetime64[ns]"
      ]
     },
     "execution_count": 229,
     "metadata": {},
     "output_type": "execute_result"
    }
   ],
   "source": [
    "superdataT[\"Date\"]"
   ]
  },
  {
   "cell_type": "code",
   "execution_count": 230,
   "id": "6169c28f",
   "metadata": {},
   "outputs": [
    {
     "data": {
      "text/html": [
       "<div>\n",
       "<style scoped>\n",
       "    .dataframe tbody tr th:only-of-type {\n",
       "        vertical-align: middle;\n",
       "    }\n",
       "\n",
       "    .dataframe tbody tr th {\n",
       "        vertical-align: top;\n",
       "    }\n",
       "\n",
       "    .dataframe thead th {\n",
       "        text-align: right;\n",
       "    }\n",
       "</style>\n",
       "<table border=\"1\" class=\"dataframe\">\n",
       "  <thead>\n",
       "    <tr style=\"text-align: right;\">\n",
       "      <th>county_state</th>\n",
       "      <th>statewide unallocated_AL</th>\n",
       "      <th>autauga county_AL</th>\n",
       "      <th>baldwin county_AL</th>\n",
       "      <th>barbour county_AL</th>\n",
       "      <th>bibb county_AL</th>\n",
       "      <th>blount county_AL</th>\n",
       "      <th>bullock county_AL</th>\n",
       "      <th>butler county_AL</th>\n",
       "      <th>calhoun county_AL</th>\n",
       "      <th>chambers county_AL</th>\n",
       "      <th>...</th>\n",
       "      <th>sheridan county_WY</th>\n",
       "      <th>sublette county_WY</th>\n",
       "      <th>sweetwater county_WY</th>\n",
       "      <th>teton county_WY</th>\n",
       "      <th>uinta county_WY</th>\n",
       "      <th>washakie county_WY</th>\n",
       "      <th>weston county_WY</th>\n",
       "      <th>Date</th>\n",
       "      <th>new_death</th>\n",
       "      <th>Week</th>\n",
       "    </tr>\n",
       "  </thead>\n",
       "  <tbody>\n",
       "    <tr>\n",
       "      <th>countyFIPS</th>\n",
       "      <td>0</td>\n",
       "      <td>1001</td>\n",
       "      <td>1003</td>\n",
       "      <td>1005</td>\n",
       "      <td>1007</td>\n",
       "      <td>1009</td>\n",
       "      <td>1011</td>\n",
       "      <td>1013</td>\n",
       "      <td>1015</td>\n",
       "      <td>1017</td>\n",
       "      <td>...</td>\n",
       "      <td>56033</td>\n",
       "      <td>56035</td>\n",
       "      <td>56037</td>\n",
       "      <td>56039</td>\n",
       "      <td>56041</td>\n",
       "      <td>56043</td>\n",
       "      <td>56045</td>\n",
       "      <td>NaT</td>\n",
       "      <td>None</td>\n",
       "      <td>NaN</td>\n",
       "    </tr>\n",
       "    <tr>\n",
       "      <th>County Name</th>\n",
       "      <td>statewide unallocated</td>\n",
       "      <td>autauga county</td>\n",
       "      <td>baldwin county</td>\n",
       "      <td>barbour county</td>\n",
       "      <td>bibb county</td>\n",
       "      <td>blount county</td>\n",
       "      <td>bullock county</td>\n",
       "      <td>butler county</td>\n",
       "      <td>calhoun county</td>\n",
       "      <td>chambers county</td>\n",
       "      <td>...</td>\n",
       "      <td>sheridan county</td>\n",
       "      <td>sublette county</td>\n",
       "      <td>sweetwater county</td>\n",
       "      <td>teton county</td>\n",
       "      <td>uinta county</td>\n",
       "      <td>washakie county</td>\n",
       "      <td>weston county</td>\n",
       "      <td>NaT</td>\n",
       "      <td>None</td>\n",
       "      <td>NaN</td>\n",
       "    </tr>\n",
       "    <tr>\n",
       "      <th>State</th>\n",
       "      <td>AL</td>\n",
       "      <td>AL</td>\n",
       "      <td>AL</td>\n",
       "      <td>AL</td>\n",
       "      <td>AL</td>\n",
       "      <td>AL</td>\n",
       "      <td>AL</td>\n",
       "      <td>AL</td>\n",
       "      <td>AL</td>\n",
       "      <td>AL</td>\n",
       "      <td>...</td>\n",
       "      <td>WY</td>\n",
       "      <td>WY</td>\n",
       "      <td>WY</td>\n",
       "      <td>WY</td>\n",
       "      <td>WY</td>\n",
       "      <td>WY</td>\n",
       "      <td>WY</td>\n",
       "      <td>NaT</td>\n",
       "      <td>None</td>\n",
       "      <td>NaN</td>\n",
       "    </tr>\n",
       "    <tr>\n",
       "      <th>StateFIPS</th>\n",
       "      <td>1</td>\n",
       "      <td>1</td>\n",
       "      <td>1</td>\n",
       "      <td>1</td>\n",
       "      <td>1</td>\n",
       "      <td>1</td>\n",
       "      <td>1</td>\n",
       "      <td>1</td>\n",
       "      <td>1</td>\n",
       "      <td>1</td>\n",
       "      <td>...</td>\n",
       "      <td>56</td>\n",
       "      <td>56</td>\n",
       "      <td>56</td>\n",
       "      <td>56</td>\n",
       "      <td>56</td>\n",
       "      <td>56</td>\n",
       "      <td>56</td>\n",
       "      <td>NaT</td>\n",
       "      <td>None</td>\n",
       "      <td>NaN</td>\n",
       "    </tr>\n",
       "    <tr>\n",
       "      <th>2022-06-01_x</th>\n",
       "      <td>0</td>\n",
       "      <td>15969</td>\n",
       "      <td>56580</td>\n",
       "      <td>5710</td>\n",
       "      <td>6508</td>\n",
       "      <td>15077</td>\n",
       "      <td>2337</td>\n",
       "      <td>5091</td>\n",
       "      <td>32596</td>\n",
       "      <td>8551</td>\n",
       "      <td>...</td>\n",
       "      <td>8150</td>\n",
       "      <td>1936</td>\n",
       "      <td>11178</td>\n",
       "      <td>10229</td>\n",
       "      <td>5681</td>\n",
       "      <td>2369</td>\n",
       "      <td>1594</td>\n",
       "      <td>2022-06-01</td>\n",
       "      <td>new</td>\n",
       "      <td>22.0</td>\n",
       "    </tr>\n",
       "  </tbody>\n",
       "</table>\n",
       "<p>5 rows × 3192 columns</p>\n",
       "</div>"
      ],
      "text/plain": [
       "county_state statewide unallocated_AL autauga county_AL baldwin county_AL  \\\n",
       "countyFIPS                          0              1001              1003   \n",
       "County Name     statewide unallocated    autauga county    baldwin county   \n",
       "State                              AL                AL                AL   \n",
       "StateFIPS                           1                 1                 1   \n",
       "2022-06-01_x                        0             15969             56580   \n",
       "\n",
       "county_state barbour county_AL bibb county_AL blount county_AL  \\\n",
       "countyFIPS                1005           1007             1009   \n",
       "County Name     barbour county    bibb county    blount county   \n",
       "State                       AL             AL               AL   \n",
       "StateFIPS                    1              1                1   \n",
       "2022-06-01_x              5710           6508            15077   \n",
       "\n",
       "county_state bullock county_AL butler county_AL calhoun county_AL  \\\n",
       "countyFIPS                1011             1013              1015   \n",
       "County Name     bullock county    butler county    calhoun county   \n",
       "State                       AL               AL                AL   \n",
       "StateFIPS                    1                1                 1   \n",
       "2022-06-01_x              2337             5091             32596   \n",
       "\n",
       "county_state chambers county_AL  ... sheridan county_WY sublette county_WY  \\\n",
       "countyFIPS                 1017  ...              56033              56035   \n",
       "County Name     chambers county  ...    sheridan county    sublette county   \n",
       "State                        AL  ...                 WY                 WY   \n",
       "StateFIPS                     1  ...                 56                 56   \n",
       "2022-06-01_x               8551  ...               8150               1936   \n",
       "\n",
       "county_state sweetwater county_WY teton county_WY uinta county_WY  \\\n",
       "countyFIPS                  56037           56039           56041   \n",
       "County Name     sweetwater county    teton county    uinta county   \n",
       "State                          WY              WY              WY   \n",
       "StateFIPS                      56              56              56   \n",
       "2022-06-01_x                11178           10229            5681   \n",
       "\n",
       "county_state washakie county_WY weston county_WY       Date new_death  Week  \n",
       "countyFIPS                56043            56045        NaT      None   NaN  \n",
       "County Name     washakie county    weston county        NaT      None   NaN  \n",
       "State                        WY               WY        NaT      None   NaN  \n",
       "StateFIPS                    56               56        NaT      None   NaN  \n",
       "2022-06-01_x               2369             1594 2022-06-01       new  22.0  \n",
       "\n",
       "[5 rows x 3192 columns]"
      ]
     },
     "execution_count": 230,
     "metadata": {},
     "output_type": "execute_result"
    }
   ],
   "source": [
    "superdataT.head()"
   ]
  },
  {
   "cell_type": "code",
   "execution_count": 231,
   "id": "c703c631",
   "metadata": {},
   "outputs": [
    {
     "data": {
      "text/plain": [
       "countyFIPS      False\n",
       "County Name     False\n",
       "State           False\n",
       "StateFIPS       False\n",
       "2022-06-01_x     True\n",
       "                ...  \n",
       "2022-12-29_y     True\n",
       "2022-12-30_y     True\n",
       "2022-12-31_y     True\n",
       "population      False\n",
       "county_state    False\n",
       "Name: Date, Length: 434, dtype: bool"
      ]
     },
     "execution_count": 231,
     "metadata": {},
     "output_type": "execute_result"
    }
   ],
   "source": [
    "#when there's no parenthesis, you simply refrence it, when you add parenthesis you are actually using it\n",
    "#when you add parenthesis, it is boolean function\n",
    "superdataT[\"Date\"].notnull()"
   ]
  },
  {
   "cell_type": "code",
   "execution_count": 232,
   "id": "593c7502",
   "metadata": {},
   "outputs": [],
   "source": [
    "#logical indexing because what is inside the first set of square brackets is a boolean list\n",
    "#I'm selecting all the true values here\n",
    "superdataT=superdataT[superdataT[\"Date\"].notnull()]"
   ]
  },
  {
   "cell_type": "code",
   "execution_count": 233,
   "id": "1a3e93f2",
   "metadata": {},
   "outputs": [
    {
     "data": {
      "text/html": [
       "<div>\n",
       "<style scoped>\n",
       "    .dataframe tbody tr th:only-of-type {\n",
       "        vertical-align: middle;\n",
       "    }\n",
       "\n",
       "    .dataframe tbody tr th {\n",
       "        vertical-align: top;\n",
       "    }\n",
       "\n",
       "    .dataframe thead th {\n",
       "        text-align: right;\n",
       "    }\n",
       "</style>\n",
       "<table border=\"1\" class=\"dataframe\">\n",
       "  <thead>\n",
       "    <tr style=\"text-align: right;\">\n",
       "      <th>county_state</th>\n",
       "      <th>statewide unallocated_AL</th>\n",
       "      <th>autauga county_AL</th>\n",
       "      <th>baldwin county_AL</th>\n",
       "      <th>barbour county_AL</th>\n",
       "      <th>bibb county_AL</th>\n",
       "      <th>blount county_AL</th>\n",
       "      <th>bullock county_AL</th>\n",
       "      <th>butler county_AL</th>\n",
       "      <th>calhoun county_AL</th>\n",
       "      <th>chambers county_AL</th>\n",
       "      <th>...</th>\n",
       "      <th>sheridan county_WY</th>\n",
       "      <th>sublette county_WY</th>\n",
       "      <th>sweetwater county_WY</th>\n",
       "      <th>teton county_WY</th>\n",
       "      <th>uinta county_WY</th>\n",
       "      <th>washakie county_WY</th>\n",
       "      <th>weston county_WY</th>\n",
       "      <th>Date</th>\n",
       "      <th>new_death</th>\n",
       "      <th>Week</th>\n",
       "    </tr>\n",
       "  </thead>\n",
       "  <tbody>\n",
       "    <tr>\n",
       "      <th>2022-06-01_x</th>\n",
       "      <td>0</td>\n",
       "      <td>15969</td>\n",
       "      <td>56580</td>\n",
       "      <td>5710</td>\n",
       "      <td>6508</td>\n",
       "      <td>15077</td>\n",
       "      <td>2337</td>\n",
       "      <td>5091</td>\n",
       "      <td>32596</td>\n",
       "      <td>8551</td>\n",
       "      <td>...</td>\n",
       "      <td>8150</td>\n",
       "      <td>1936</td>\n",
       "      <td>11178</td>\n",
       "      <td>10229</td>\n",
       "      <td>5681</td>\n",
       "      <td>2369</td>\n",
       "      <td>1594</td>\n",
       "      <td>2022-06-01</td>\n",
       "      <td>new</td>\n",
       "      <td>22.0</td>\n",
       "    </tr>\n",
       "    <tr>\n",
       "      <th>2022-06-02_x</th>\n",
       "      <td>0</td>\n",
       "      <td>15978</td>\n",
       "      <td>56648</td>\n",
       "      <td>5714</td>\n",
       "      <td>6512</td>\n",
       "      <td>15084</td>\n",
       "      <td>2337</td>\n",
       "      <td>5094</td>\n",
       "      <td>32604</td>\n",
       "      <td>8553</td>\n",
       "      <td>...</td>\n",
       "      <td>8150</td>\n",
       "      <td>1936</td>\n",
       "      <td>11178</td>\n",
       "      <td>10229</td>\n",
       "      <td>5681</td>\n",
       "      <td>2369</td>\n",
       "      <td>1594</td>\n",
       "      <td>2022-06-02</td>\n",
       "      <td>new</td>\n",
       "      <td>22.0</td>\n",
       "    </tr>\n",
       "    <tr>\n",
       "      <th>2022-06-03_x</th>\n",
       "      <td>0</td>\n",
       "      <td>15978</td>\n",
       "      <td>56648</td>\n",
       "      <td>5714</td>\n",
       "      <td>6512</td>\n",
       "      <td>15084</td>\n",
       "      <td>2337</td>\n",
       "      <td>5094</td>\n",
       "      <td>32604</td>\n",
       "      <td>8553</td>\n",
       "      <td>...</td>\n",
       "      <td>8150</td>\n",
       "      <td>1936</td>\n",
       "      <td>11178</td>\n",
       "      <td>10229</td>\n",
       "      <td>5681</td>\n",
       "      <td>2369</td>\n",
       "      <td>1594</td>\n",
       "      <td>2022-06-03</td>\n",
       "      <td>new</td>\n",
       "      <td>22.0</td>\n",
       "    </tr>\n",
       "    <tr>\n",
       "      <th>2022-06-04_x</th>\n",
       "      <td>0</td>\n",
       "      <td>15978</td>\n",
       "      <td>56648</td>\n",
       "      <td>5714</td>\n",
       "      <td>6512</td>\n",
       "      <td>15084</td>\n",
       "      <td>2337</td>\n",
       "      <td>5094</td>\n",
       "      <td>32604</td>\n",
       "      <td>8553</td>\n",
       "      <td>...</td>\n",
       "      <td>8150</td>\n",
       "      <td>1936</td>\n",
       "      <td>11178</td>\n",
       "      <td>10229</td>\n",
       "      <td>5681</td>\n",
       "      <td>2369</td>\n",
       "      <td>1594</td>\n",
       "      <td>2022-06-04</td>\n",
       "      <td>new</td>\n",
       "      <td>22.0</td>\n",
       "    </tr>\n",
       "    <tr>\n",
       "      <th>2022-06-05_x</th>\n",
       "      <td>0</td>\n",
       "      <td>15978</td>\n",
       "      <td>56648</td>\n",
       "      <td>5714</td>\n",
       "      <td>6512</td>\n",
       "      <td>15084</td>\n",
       "      <td>2337</td>\n",
       "      <td>5094</td>\n",
       "      <td>32604</td>\n",
       "      <td>8553</td>\n",
       "      <td>...</td>\n",
       "      <td>8150</td>\n",
       "      <td>1936</td>\n",
       "      <td>11178</td>\n",
       "      <td>10229</td>\n",
       "      <td>5681</td>\n",
       "      <td>2369</td>\n",
       "      <td>1594</td>\n",
       "      <td>2022-06-05</td>\n",
       "      <td>new</td>\n",
       "      <td>22.0</td>\n",
       "    </tr>\n",
       "  </tbody>\n",
       "</table>\n",
       "<p>5 rows × 3192 columns</p>\n",
       "</div>"
      ],
      "text/plain": [
       "county_state statewide unallocated_AL autauga county_AL baldwin county_AL  \\\n",
       "2022-06-01_x                        0             15969             56580   \n",
       "2022-06-02_x                        0             15978             56648   \n",
       "2022-06-03_x                        0             15978             56648   \n",
       "2022-06-04_x                        0             15978             56648   \n",
       "2022-06-05_x                        0             15978             56648   \n",
       "\n",
       "county_state barbour county_AL bibb county_AL blount county_AL  \\\n",
       "2022-06-01_x              5710           6508            15077   \n",
       "2022-06-02_x              5714           6512            15084   \n",
       "2022-06-03_x              5714           6512            15084   \n",
       "2022-06-04_x              5714           6512            15084   \n",
       "2022-06-05_x              5714           6512            15084   \n",
       "\n",
       "county_state bullock county_AL butler county_AL calhoun county_AL  \\\n",
       "2022-06-01_x              2337             5091             32596   \n",
       "2022-06-02_x              2337             5094             32604   \n",
       "2022-06-03_x              2337             5094             32604   \n",
       "2022-06-04_x              2337             5094             32604   \n",
       "2022-06-05_x              2337             5094             32604   \n",
       "\n",
       "county_state chambers county_AL  ... sheridan county_WY sublette county_WY  \\\n",
       "2022-06-01_x               8551  ...               8150               1936   \n",
       "2022-06-02_x               8553  ...               8150               1936   \n",
       "2022-06-03_x               8553  ...               8150               1936   \n",
       "2022-06-04_x               8553  ...               8150               1936   \n",
       "2022-06-05_x               8553  ...               8150               1936   \n",
       "\n",
       "county_state sweetwater county_WY teton county_WY uinta county_WY  \\\n",
       "2022-06-01_x                11178           10229            5681   \n",
       "2022-06-02_x                11178           10229            5681   \n",
       "2022-06-03_x                11178           10229            5681   \n",
       "2022-06-04_x                11178           10229            5681   \n",
       "2022-06-05_x                11178           10229            5681   \n",
       "\n",
       "county_state washakie county_WY weston county_WY       Date new_death  Week  \n",
       "2022-06-01_x               2369             1594 2022-06-01       new  22.0  \n",
       "2022-06-02_x               2369             1594 2022-06-02       new  22.0  \n",
       "2022-06-03_x               2369             1594 2022-06-03       new  22.0  \n",
       "2022-06-04_x               2369             1594 2022-06-04       new  22.0  \n",
       "2022-06-05_x               2369             1594 2022-06-05       new  22.0  \n",
       "\n",
       "[5 rows x 3192 columns]"
      ]
     },
     "execution_count": 233,
     "metadata": {},
     "output_type": "execute_result"
    }
   ],
   "source": [
    "superdataT.head()"
   ]
  },
  {
   "cell_type": "code",
   "execution_count": 234,
   "id": "4012171b",
   "metadata": {},
   "outputs": [],
   "source": [
    "superdataT.index = superdataT[\"Date\"]"
   ]
  },
  {
   "cell_type": "code",
   "execution_count": 235,
   "id": "88e50972",
   "metadata": {
    "scrolled": true
   },
   "outputs": [
    {
     "data": {
      "text/html": [
       "<div>\n",
       "<style scoped>\n",
       "    .dataframe tbody tr th:only-of-type {\n",
       "        vertical-align: middle;\n",
       "    }\n",
       "\n",
       "    .dataframe tbody tr th {\n",
       "        vertical-align: top;\n",
       "    }\n",
       "\n",
       "    .dataframe thead th {\n",
       "        text-align: right;\n",
       "    }\n",
       "</style>\n",
       "<table border=\"1\" class=\"dataframe\">\n",
       "  <thead>\n",
       "    <tr style=\"text-align: right;\">\n",
       "      <th>county_state</th>\n",
       "      <th>statewide unallocated_AL</th>\n",
       "      <th>autauga county_AL</th>\n",
       "      <th>baldwin county_AL</th>\n",
       "      <th>barbour county_AL</th>\n",
       "      <th>bibb county_AL</th>\n",
       "      <th>blount county_AL</th>\n",
       "      <th>bullock county_AL</th>\n",
       "      <th>butler county_AL</th>\n",
       "      <th>calhoun county_AL</th>\n",
       "      <th>chambers county_AL</th>\n",
       "      <th>...</th>\n",
       "      <th>sheridan county_WY</th>\n",
       "      <th>sublette county_WY</th>\n",
       "      <th>sweetwater county_WY</th>\n",
       "      <th>teton county_WY</th>\n",
       "      <th>uinta county_WY</th>\n",
       "      <th>washakie county_WY</th>\n",
       "      <th>weston county_WY</th>\n",
       "      <th>Date</th>\n",
       "      <th>new_death</th>\n",
       "      <th>Week</th>\n",
       "    </tr>\n",
       "    <tr>\n",
       "      <th>Date</th>\n",
       "      <th></th>\n",
       "      <th></th>\n",
       "      <th></th>\n",
       "      <th></th>\n",
       "      <th></th>\n",
       "      <th></th>\n",
       "      <th></th>\n",
       "      <th></th>\n",
       "      <th></th>\n",
       "      <th></th>\n",
       "      <th></th>\n",
       "      <th></th>\n",
       "      <th></th>\n",
       "      <th></th>\n",
       "      <th></th>\n",
       "      <th></th>\n",
       "      <th></th>\n",
       "      <th></th>\n",
       "      <th></th>\n",
       "      <th></th>\n",
       "      <th></th>\n",
       "    </tr>\n",
       "  </thead>\n",
       "  <tbody>\n",
       "    <tr>\n",
       "      <th>2022-06-01</th>\n",
       "      <td>0</td>\n",
       "      <td>15969</td>\n",
       "      <td>56580</td>\n",
       "      <td>5710</td>\n",
       "      <td>6508</td>\n",
       "      <td>15077</td>\n",
       "      <td>2337</td>\n",
       "      <td>5091</td>\n",
       "      <td>32596</td>\n",
       "      <td>8551</td>\n",
       "      <td>...</td>\n",
       "      <td>8150</td>\n",
       "      <td>1936</td>\n",
       "      <td>11178</td>\n",
       "      <td>10229</td>\n",
       "      <td>5681</td>\n",
       "      <td>2369</td>\n",
       "      <td>1594</td>\n",
       "      <td>2022-06-01</td>\n",
       "      <td>new</td>\n",
       "      <td>22.0</td>\n",
       "    </tr>\n",
       "    <tr>\n",
       "      <th>2022-06-02</th>\n",
       "      <td>0</td>\n",
       "      <td>15978</td>\n",
       "      <td>56648</td>\n",
       "      <td>5714</td>\n",
       "      <td>6512</td>\n",
       "      <td>15084</td>\n",
       "      <td>2337</td>\n",
       "      <td>5094</td>\n",
       "      <td>32604</td>\n",
       "      <td>8553</td>\n",
       "      <td>...</td>\n",
       "      <td>8150</td>\n",
       "      <td>1936</td>\n",
       "      <td>11178</td>\n",
       "      <td>10229</td>\n",
       "      <td>5681</td>\n",
       "      <td>2369</td>\n",
       "      <td>1594</td>\n",
       "      <td>2022-06-02</td>\n",
       "      <td>new</td>\n",
       "      <td>22.0</td>\n",
       "    </tr>\n",
       "    <tr>\n",
       "      <th>2022-06-03</th>\n",
       "      <td>0</td>\n",
       "      <td>15978</td>\n",
       "      <td>56648</td>\n",
       "      <td>5714</td>\n",
       "      <td>6512</td>\n",
       "      <td>15084</td>\n",
       "      <td>2337</td>\n",
       "      <td>5094</td>\n",
       "      <td>32604</td>\n",
       "      <td>8553</td>\n",
       "      <td>...</td>\n",
       "      <td>8150</td>\n",
       "      <td>1936</td>\n",
       "      <td>11178</td>\n",
       "      <td>10229</td>\n",
       "      <td>5681</td>\n",
       "      <td>2369</td>\n",
       "      <td>1594</td>\n",
       "      <td>2022-06-03</td>\n",
       "      <td>new</td>\n",
       "      <td>22.0</td>\n",
       "    </tr>\n",
       "    <tr>\n",
       "      <th>2022-06-04</th>\n",
       "      <td>0</td>\n",
       "      <td>15978</td>\n",
       "      <td>56648</td>\n",
       "      <td>5714</td>\n",
       "      <td>6512</td>\n",
       "      <td>15084</td>\n",
       "      <td>2337</td>\n",
       "      <td>5094</td>\n",
       "      <td>32604</td>\n",
       "      <td>8553</td>\n",
       "      <td>...</td>\n",
       "      <td>8150</td>\n",
       "      <td>1936</td>\n",
       "      <td>11178</td>\n",
       "      <td>10229</td>\n",
       "      <td>5681</td>\n",
       "      <td>2369</td>\n",
       "      <td>1594</td>\n",
       "      <td>2022-06-04</td>\n",
       "      <td>new</td>\n",
       "      <td>22.0</td>\n",
       "    </tr>\n",
       "    <tr>\n",
       "      <th>2022-06-05</th>\n",
       "      <td>0</td>\n",
       "      <td>15978</td>\n",
       "      <td>56648</td>\n",
       "      <td>5714</td>\n",
       "      <td>6512</td>\n",
       "      <td>15084</td>\n",
       "      <td>2337</td>\n",
       "      <td>5094</td>\n",
       "      <td>32604</td>\n",
       "      <td>8553</td>\n",
       "      <td>...</td>\n",
       "      <td>8150</td>\n",
       "      <td>1936</td>\n",
       "      <td>11178</td>\n",
       "      <td>10229</td>\n",
       "      <td>5681</td>\n",
       "      <td>2369</td>\n",
       "      <td>1594</td>\n",
       "      <td>2022-06-05</td>\n",
       "      <td>new</td>\n",
       "      <td>22.0</td>\n",
       "    </tr>\n",
       "  </tbody>\n",
       "</table>\n",
       "<p>5 rows × 3192 columns</p>\n",
       "</div>"
      ],
      "text/plain": [
       "county_state statewide unallocated_AL autauga county_AL baldwin county_AL  \\\n",
       "Date                                                                        \n",
       "2022-06-01                          0             15969             56580   \n",
       "2022-06-02                          0             15978             56648   \n",
       "2022-06-03                          0             15978             56648   \n",
       "2022-06-04                          0             15978             56648   \n",
       "2022-06-05                          0             15978             56648   \n",
       "\n",
       "county_state barbour county_AL bibb county_AL blount county_AL  \\\n",
       "Date                                                             \n",
       "2022-06-01                5710           6508            15077   \n",
       "2022-06-02                5714           6512            15084   \n",
       "2022-06-03                5714           6512            15084   \n",
       "2022-06-04                5714           6512            15084   \n",
       "2022-06-05                5714           6512            15084   \n",
       "\n",
       "county_state bullock county_AL butler county_AL calhoun county_AL  \\\n",
       "Date                                                                \n",
       "2022-06-01                2337             5091             32596   \n",
       "2022-06-02                2337             5094             32604   \n",
       "2022-06-03                2337             5094             32604   \n",
       "2022-06-04                2337             5094             32604   \n",
       "2022-06-05                2337             5094             32604   \n",
       "\n",
       "county_state chambers county_AL  ... sheridan county_WY sublette county_WY  \\\n",
       "Date                             ...                                         \n",
       "2022-06-01                 8551  ...               8150               1936   \n",
       "2022-06-02                 8553  ...               8150               1936   \n",
       "2022-06-03                 8553  ...               8150               1936   \n",
       "2022-06-04                 8553  ...               8150               1936   \n",
       "2022-06-05                 8553  ...               8150               1936   \n",
       "\n",
       "county_state sweetwater county_WY teton county_WY uinta county_WY  \\\n",
       "Date                                                                \n",
       "2022-06-01                  11178           10229            5681   \n",
       "2022-06-02                  11178           10229            5681   \n",
       "2022-06-03                  11178           10229            5681   \n",
       "2022-06-04                  11178           10229            5681   \n",
       "2022-06-05                  11178           10229            5681   \n",
       "\n",
       "county_state washakie county_WY weston county_WY       Date new_death  Week  \n",
       "Date                                                                         \n",
       "2022-06-01                 2369             1594 2022-06-01       new  22.0  \n",
       "2022-06-02                 2369             1594 2022-06-02       new  22.0  \n",
       "2022-06-03                 2369             1594 2022-06-03       new  22.0  \n",
       "2022-06-04                 2369             1594 2022-06-04       new  22.0  \n",
       "2022-06-05                 2369             1594 2022-06-05       new  22.0  \n",
       "\n",
       "[5 rows x 3192 columns]"
      ]
     },
     "execution_count": 235,
     "metadata": {},
     "output_type": "execute_result"
    }
   ],
   "source": [
    "superdataT.head()"
   ]
  },
  {
   "cell_type": "markdown",
   "id": "f3ec5347",
   "metadata": {},
   "source": [
    "# Q1 - Compare the weekly statistics (mean, median, mode) for number of new deaths across US."
   ]
  },
  {
   "cell_type": "code",
   "execution_count": 236,
   "id": "6b034e15",
   "metadata": {},
   "outputs": [],
   "source": [
    "#: all columns, sum accorss horizontally rows\n",
    "superdataT[\"Total\"]=superdataT.iloc[:,:-3].sum(axis=1)"
   ]
  },
  {
   "cell_type": "code",
   "execution_count": 237,
   "id": "76cfcf4b",
   "metadata": {
    "scrolled": true
   },
   "outputs": [
    {
     "name": "stdout",
     "output_type": "stream",
     "text": [
      "<class 'pandas.core.frame.DataFrame'>\n",
      "DatetimeIndex: 428 entries, 2022-06-01 to 2022-12-31\n",
      "Columns: 3193 entries, statewide unallocated_AL to Total\n",
      "dtypes: datetime64[ns](1), float64(2), object(3190)\n",
      "memory usage: 10.4+ MB\n"
     ]
    }
   ],
   "source": [
    "superdataT.info()"
   ]
  },
  {
   "cell_type": "code",
   "execution_count": 238,
   "id": "26ea3988",
   "metadata": {},
   "outputs": [
    {
     "data": {
      "text/plain": [
       "Index(['statewide unallocated_AL', 'autauga county_AL', 'baldwin county_AL',\n",
       "       'barbour county_AL', 'bibb county_AL', 'blount county_AL',\n",
       "       'bullock county_AL', 'butler county_AL', 'calhoun county_AL',\n",
       "       'chambers county_AL',\n",
       "       ...\n",
       "       'park county_WY', 'platte county_WY', 'sheridan county_WY',\n",
       "       'sublette county_WY', 'sweetwater county_WY', 'teton county_WY',\n",
       "       'uinta county_WY', 'washakie county_WY', 'weston county_WY', 'Date'],\n",
       "      dtype='object', name='county_state', length=3190)"
      ]
     },
     "execution_count": 238,
     "metadata": {},
     "output_type": "execute_result"
    }
   ],
   "source": [
    "superdataT.columns[:-3]"
   ]
  },
  {
   "cell_type": "code",
   "execution_count": 239,
   "id": "7a2b8c2d",
   "metadata": {},
   "outputs": [],
   "source": [
    "for feat in superdataT.columns[:-4]:\n",
    "    superdataT[feat]=superdataT[feat].astype(\"int\")"
   ]
  },
  {
   "cell_type": "code",
   "execution_count": 240,
   "id": "e1934f9d",
   "metadata": {},
   "outputs": [
    {
     "name": "stdout",
     "output_type": "stream",
     "text": [
      "<class 'pandas.core.frame.DataFrame'>\n",
      "DatetimeIndex: 428 entries, 2022-06-01 to 2022-12-31\n",
      "Columns: 3193 entries, statewide unallocated_AL to Total\n",
      "dtypes: datetime64[ns](1), float64(2), int64(3189), object(1)\n",
      "memory usage: 10.4+ MB\n"
     ]
    }
   ],
   "source": [
    "superdataT.info()"
   ]
  },
  {
   "cell_type": "code",
   "execution_count": 241,
   "id": "1a8a2fd8",
   "metadata": {
    "scrolled": true
   },
   "outputs": [],
   "source": [
    "#rows first, all columns up until 3\n",
    "superdataT[\"Total\"]=superdataT.iloc[:,:-4].sum(axis=1)"
   ]
  },
  {
   "cell_type": "code",
   "execution_count": 242,
   "id": "e2549d1e",
   "metadata": {},
   "outputs": [
    {
     "data": {
      "text/plain": [
       "0"
      ]
     },
     "execution_count": 242,
     "metadata": {},
     "output_type": "execute_result"
    }
   ],
   "source": [
    "superdataT[\"new_death\"].isnull().sum()"
   ]
  },
  {
   "cell_type": "code",
   "execution_count": 243,
   "id": "d4a11735",
   "metadata": {},
   "outputs": [],
   "source": [
    "superdataT.reset_index(drop=True,inplace=True)"
   ]
  },
  {
   "cell_type": "code",
   "execution_count": 244,
   "id": "527238cb",
   "metadata": {
    "scrolled": true
   },
   "outputs": [
    {
     "data": {
      "text/plain": [
       "0      False\n",
       "1      False\n",
       "2      False\n",
       "3      False\n",
       "4      False\n",
       "       ...  \n",
       "423     True\n",
       "424     True\n",
       "425     True\n",
       "426     True\n",
       "427     True\n",
       "Name: new_death, Length: 428, dtype: bool"
      ]
     },
     "execution_count": 244,
     "metadata": {},
     "output_type": "execute_result"
    }
   ],
   "source": [
    "superdataT[\"new_death\"]==\"death\""
   ]
  },
  {
   "cell_type": "code",
   "execution_count": 245,
   "id": "ef4df604",
   "metadata": {},
   "outputs": [
    {
     "data": {
      "text/plain": [
       "(428, 3193)"
      ]
     },
     "execution_count": 245,
     "metadata": {},
     "output_type": "execute_result"
    }
   ],
   "source": [
    "superdataT.shape"
   ]
  },
  {
   "cell_type": "code",
   "execution_count": 246,
   "id": "d1dbc3b0",
   "metadata": {},
   "outputs": [
    {
     "name": "stderr",
     "output_type": "stream",
     "text": [
      "<ipython-input-246-d8517f0364c8>:2: FutureWarning: The default value of numeric_only in DataFrameGroupBy.sum is deprecated. In a future version, numeric_only will default to False. Either specify numeric_only or select only columns which should be valid for the function.\n",
      "  superdataT[superdataT[\"new_death\"]==\"death\"].groupby(\"Week\").sum()[\"Total\"].plot(title=\"Total Deaths\", figsize=(10,10))\n"
     ]
    },
    {
     "data": {
      "text/plain": [
       "<Axes: title={'center': 'Total Deaths'}, xlabel='Week'>"
      ]
     },
     "execution_count": 246,
     "metadata": {},
     "output_type": "execute_result"
    },
    {
     "data": {
      "image/png": "[encoded data removed]",
      "text/plain": [
       "<Figure size 720x720 with 1 Axes>"
      ]
     },
     "metadata": {
      "needs_background": "light"
     },
     "output_type": "display_data"
    }
   ],
   "source": [
    "#filtered only the ones that are new, and grouped by only the week and got a total\n",
    "superdataT[superdataT[\"new_death\"]==\"death\"].groupby(\"Week\").sum()[\"Total\"].plot(title=\"Total Deaths\", figsize=(10,10))"
   ]
  },
  {
   "cell_type": "markdown",
   "id": "35a79909-3014-49c3-810f-c4c7f03b3dc0",
   "metadata": {},
   "source": [
    "### US (new_deaths) - median"
   ]
  },
  {
   "cell_type": "code",
   "execution_count": 247,
   "id": "a1eeaf39",
   "metadata": {},
   "outputs": [
    {
     "name": "stderr",
     "output_type": "stream",
     "text": [
      "<ipython-input-247-b169653b3b88>:1: FutureWarning: The default value of numeric_only in DataFrameGroupBy.mean is deprecated. In a future version, numeric_only will default to False. Either specify numeric_only or select only columns which should be valid for the function.\n",
      "  superdataT[superdataT[\"new_death\"]==\"death\"].groupby(\"Week\").mean()[\"Total\"].plot(title=\"Average Deaths\", figsize=(10,10))\n"
     ]
    },
    {
     "data": {
      "text/plain": [
       "<Axes: title={'center': 'Average Deaths'}, xlabel='Week'>"
      ]
     },
     "execution_count": 247,
     "metadata": {},
     "output_type": "execute_result"
    },
    {
     "data": {
      "image/png": "[encoded data removed]",
      "text/plain": [
       "<Figure size 720x720 with 1 Axes>"
      ]
     },
     "metadata": {
      "needs_background": "light"
     },
     "output_type": "display_data"
    }
   ],
   "source": [
    "superdataT[superdataT[\"new_death\"]==\"death\"].groupby(\"Week\").mean()[\"Total\"].plot(title=\"Average Deaths\", figsize=(10,10))"
   ]
  },
  {
   "cell_type": "markdown",
   "id": "0c318a0d-cfb8-4739-8d69-a9380a8f14f3",
   "metadata": {},
   "source": [
    "### US (new_deaths) - mean"
   ]
  },
  {
   "cell_type": "code",
   "execution_count": 248,
   "id": "2c1954d9",
   "metadata": {},
   "outputs": [
    {
     "name": "stderr",
     "output_type": "stream",
     "text": [
      "<ipython-input-248-1f2695927164>:1: FutureWarning: The default value of numeric_only in DataFrameGroupBy.median is deprecated. In a future version, numeric_only will default to False. Either specify numeric_only or select only columns which should be valid for the function.\n",
      "  superdataT[superdataT[\"new_death\"]==\"death\"].groupby(\"Week\").median()[\"Total\"].plot(title=\"Median Deaths\", figsize=(10,10))\n"
     ]
    },
    {
     "data": {
      "text/plain": [
       "<Axes: title={'center': 'Median Deaths'}, xlabel='Week'>"
      ]
     },
     "execution_count": 248,
     "metadata": {},
     "output_type": "execute_result"
    },
    {
     "data": {
      "image/png": "[encoded data removed]",
      "text/plain": [
       "<Figure size 720x720 with 1 Axes>"
      ]
     },
     "metadata": {
      "needs_background": "light"
     },
     "output_type": "display_data"
    }
   ],
   "source": [
    "superdataT[superdataT[\"new_death\"]==\"death\"].groupby(\"Week\").median()[\"Total\"].plot(title=\"Median Deaths\", figsize=(10,10))"
   ]
  },
  {
   "cell_type": "markdown",
   "id": "cdf15bdb-8e68-4de4-b086-a799e3c8784c",
   "metadata": {},
   "source": [
    "### US (new_deaths) - mode"
   ]
  },
  {
   "cell_type": "code",
   "execution_count": 249,
   "id": "27f733b1",
   "metadata": {},
   "outputs": [
    {
     "data": {
      "text/plain": [
       "Week\n",
       "22.0     994605\n",
       "23.0     995529\n",
       "24.0     998197\n",
       "25.0    1000752\n",
       "26.0    1002744\n",
       "27.0    1006187\n",
       "28.0    1007564\n",
       "29.0    1010301\n",
       "30.0    1012789\n",
       "31.0    1015481\n",
       "32.0    1018657\n",
       "33.0    1021770\n",
       "34.0    1024739\n",
       "35.0    1028067\n",
       "36.0    1031183\n",
       "37.0    1033505\n",
       "38.0    1036036\n",
       "39.0    1038769\n",
       "40.0    1041280\n",
       "41.0    1043893\n",
       "42.0    1046182\n",
       "43.0    1047388\n",
       "44.0    1049282\n",
       "45.0    1053839\n",
       "46.0    1055594\n",
       "47.0    1057165\n",
       "48.0    1059349\n",
       "49.0    1061367\n",
       "50.0    1063436\n",
       "51.0    1064489\n",
       "52.0    1064501\n",
       "Name: Total, dtype: int64"
      ]
     },
     "execution_count": 249,
     "metadata": {},
     "output_type": "execute_result"
    }
   ],
   "source": [
    "superdataT[superdataT[\"new_death\"]==\"death\"].groupby([\"Week\"]).agg(lambda x:x.value_counts().index[0])[\"Total\"]"
   ]
  },
  {
   "cell_type": "markdown",
   "id": "f6955da4",
   "metadata": {},
   "source": [
    "# Compare the weekly statistics (mean, median, mode) for number of new cases across US)"
   ]
  },
  {
   "cell_type": "code",
   "execution_count": 250,
   "id": "8c606776-7898-4daa-8485-52f71a74b7b4",
   "metadata": {},
   "outputs": [
    {
     "name": "stderr",
     "output_type": "stream",
     "text": [
      "<ipython-input-250-57e0fb381db1>:1: FutureWarning: The default value of numeric_only in DataFrameGroupBy.sum is deprecated. In a future version, numeric_only will default to False. Either specify numeric_only or select only columns which should be valid for the function.\n",
      "  superdataT[superdataT[\"new_death\"]==\"new\"].groupby(\"Week\").sum()[\"Total\"].plot(title=\"Total New Cases\", figsize=(10,10))\n"
     ]
    },
    {
     "data": {
      "text/plain": [
       "<Axes: title={'center': 'Total New Cases'}, xlabel='Week'>"
      ]
     },
     "execution_count": 250,
     "metadata": {},
     "output_type": "execute_result"
    },
    {
     "data": {
      "image/png": "[encoded data removed]",
      "text/plain": [
       "<Figure size 720x720 with 1 Axes>"
      ]
     },
     "metadata": {
      "needs_background": "light"
     },
     "output_type": "display_data"
    }
   ],
   "source": [
    "superdataT[superdataT[\"new_death\"]==\"new\"].groupby(\"Week\").sum()[\"Total\"].plot(title=\"Total New Cases\", figsize=(10,10))"
   ]
  },
  {
   "cell_type": "markdown",
   "id": "165997b7-8ecd-4989-aaf3-c922ef7899b4",
   "metadata": {},
   "source": [
    "### US (new_cases) - mean"
   ]
  },
  {
   "cell_type": "code",
   "execution_count": 251,
   "id": "618db2fe-108b-47f3-b7f3-3d4c3e9d1c68",
   "metadata": {},
   "outputs": [
    {
     "name": "stderr",
     "output_type": "stream",
     "text": [
      "<ipython-input-251-dacf60ed971a>:1: FutureWarning: The default value of numeric_only in DataFrameGroupBy.mean is deprecated. In a future version, numeric_only will default to False. Either specify numeric_only or select only columns which should be valid for the function.\n",
      "  superdataT[superdataT[\"new_death\"]==\"new\"].groupby(\"Week\").mean()[\"Total\"].plot(title=\"Average Confirmed Cases\", figsize=(10,10))\n"
     ]
    },
    {
     "data": {
      "text/plain": [
       "<Axes: title={'center': 'Average Confirmed Cases'}, xlabel='Week'>"
      ]
     },
     "execution_count": 251,
     "metadata": {},
     "output_type": "execute_result"
    },
    {
     "data": {
      "image/png": "[encoded data removed]",
      "text/plain": [
       "<Figure size 720x720 with 1 Axes>"
      ]
     },
     "metadata": {
      "needs_background": "light"
     },
     "output_type": "display_data"
    }
   ],
   "source": [
    "superdataT[superdataT[\"new_death\"]==\"new\"].groupby(\"Week\").mean()[\"Total\"].plot(title=\"Average Confirmed Cases\", figsize=(10,10))"
   ]
  },
  {
   "cell_type": "markdown",
   "id": "b0b75a43-fff7-4126-b830-5f6b31e7c87a",
   "metadata": {},
   "source": [
    "### US (new_cases) - median"
   ]
  },
  {
   "cell_type": "code",
   "execution_count": 252,
   "id": "73375e0e-7781-4817-b7ad-34318b1d9f3b",
   "metadata": {},
   "outputs": [
    {
     "name": "stderr",
     "output_type": "stream",
     "text": [
      "<ipython-input-252-045212907803>:1: FutureWarning: The default value of numeric_only in DataFrameGroupBy.median is deprecated. In a future version, numeric_only will default to False. Either specify numeric_only or select only columns which should be valid for the function.\n",
      "  superdataT[superdataT[\"new_death\"]==\"new\"].groupby(\"Week\").median()[\"Total\"].plot(title=\"Median Confirmed Cases\", figsize=(10,10))\n"
     ]
    },
    {
     "data": {
      "text/plain": [
       "<Axes: title={'center': 'Median Confirmed Cases'}, xlabel='Week'>"
      ]
     },
     "execution_count": 252,
     "metadata": {},
     "output_type": "execute_result"
    },
    {
     "data": {
      "image/png": "[encoded data removed]",
      "text/plain": [
       "<Figure size 720x720 with 1 Axes>"
      ]
     },
     "metadata": {
      "needs_background": "light"
     },
     "output_type": "display_data"
    }
   ],
   "source": [
    "superdataT[superdataT[\"new_death\"]==\"new\"].groupby(\"Week\").median()[\"Total\"].plot(title=\"Median Confirmed Cases\", figsize=(10,10))"
   ]
  },
  {
   "cell_type": "markdown",
   "id": "ff78bd7d-9c05-4aa8-b927-4b41bab16817",
   "metadata": {},
   "source": [
    "### US (new_cases) - mode"
   ]
  },
  {
   "cell_type": "code",
   "execution_count": 253,
   "id": "588d5af8-1dbe-4293-aed2-9aa913bf73ae",
   "metadata": {},
   "outputs": [
    {
     "data": {
      "text/plain": [
       "Week\n",
       "22.0    81744241\n",
       "23.0    82153138\n",
       "24.0    82784731\n",
       "25.0    83507331\n",
       "26.0    84205911\n",
       "27.0    84880981\n",
       "28.0    85668412\n",
       "29.0    86453204\n",
       "30.0    87274173\n",
       "31.0    88049729\n",
       "32.0    88716326\n",
       "33.0    89407555\n",
       "34.0    89969729\n",
       "35.0    90544597\n",
       "36.0    90995772\n",
       "37.0    91404127\n",
       "38.0    91747226\n",
       "39.0    92093640\n",
       "40.0    92334136\n",
       "41.0    92585662\n",
       "42.0    92823236\n",
       "43.0    93028912\n",
       "44.0    93211488\n",
       "45.0    93442092\n",
       "46.0    93791648\n",
       "47.0    93976424\n",
       "48.0    94458920\n",
       "49.0    94764616\n",
       "50.0    95083722\n",
       "51.0    95122405\n",
       "52.0    95391562\n",
       "Name: Total, dtype: int64"
      ]
     },
     "execution_count": 253,
     "metadata": {},
     "output_type": "execute_result"
    }
   ],
   "source": [
    "superdataT[superdataT[\"new_death\"]==\"new\"].groupby([\"Week\"]).agg(lambda x:x.value_counts().index[0])[\"Total\"]"
   ]
  },
  {
   "cell_type": "markdown",
   "id": "b06e526a",
   "metadata": {},
   "source": [
    "# Q2 Rounded Mean of BOTH New Cases & Deaths"
   ]
  },
  {
   "cell_type": "code",
   "execution_count": 254,
   "id": "978c2a78",
   "metadata": {},
   "outputs": [
    {
     "name": "stderr",
     "output_type": "stream",
     "text": [
      "<ipython-input-254-e18b089eff88>:3: FutureWarning: The default value of numeric_only in DataFrameGroupBy.mean is deprecated. In a future version, numeric_only will default to False. Either specify numeric_only or select only columns which should be valid for the function.\n",
      "  df_d=superdataT[superdataT[\"new_death\"]==\"death\"].groupby(\"Week\").mean()[\"Total\"].round()\n"
     ]
    }
   ],
   "source": [
    "#rounding means, then creating two dataframes\n",
    "#rounded mean of deaths per week = df_d\n",
    "df_d=superdataT[superdataT[\"new_death\"]==\"death\"].groupby(\"Week\").mean()[\"Total\"].round()"
   ]
  },
  {
   "cell_type": "code",
   "execution_count": 255,
   "id": "af4bde6f",
   "metadata": {},
   "outputs": [
    {
     "name": "stderr",
     "output_type": "stream",
     "text": [
      "<ipython-input-255-20feb969d117>:2: FutureWarning: The default value of numeric_only in DataFrameGroupBy.mean is deprecated. In a future version, numeric_only will default to False. Either specify numeric_only or select only columns which should be valid for the function.\n",
      "  df_n=superdataT[superdataT[\"new_death\"]==\"new\"].groupby(\"Week\").mean()[\"Total\"].round()\n"
     ]
    }
   ],
   "source": [
    "#rounded mean of new confirmed cases per week = df_n\n",
    "df_n=superdataT[superdataT[\"new_death\"]==\"new\"].groupby(\"Week\").mean()[\"Total\"].round()"
   ]
  },
  {
   "cell_type": "code",
   "execution_count": 256,
   "id": "8a74c497",
   "metadata": {},
   "outputs": [
    {
     "name": "stdout",
     "output_type": "stream",
     "text": [
      "mean of deaths:  1032631.3870967742\n",
      "median of deaths:  1034881.0\n",
      "mode of deaths:  996977.0\n"
     ]
    }
   ],
   "source": [
    "print(\"mean of deaths: \",df_d.mean())\n",
    "print(\"median of deaths: \",df_d.median())\n",
    "#indexing into the output of mode, it is a list here, so gotta index here\n",
    "print(\"mode of deaths: \",df_d.mode()[1])"
   ]
  },
  {
   "cell_type": "code",
   "execution_count": 257,
   "id": "90d1539d",
   "metadata": {},
   "outputs": [
    {
     "name": "stdout",
     "output_type": "stream",
     "text": [
      "mean of new confirmed cases:  90252963.25806452\n",
      "median of new confirmed cases:  91582128.0\n",
      "mode of new confirmed cases:  82437206.0\n"
     ]
    }
   ],
   "source": [
    "print(\"mean of new confirmed cases: \",df_n.mean())\n",
    "print(\"median of new confirmed cases: \",df_n.median())\n",
    "#indexing into the output of mode, it is a list here, so gotta index here\n",
    "print(\"mode of new confirmed cases: \",df_n.mode()[1])"
   ]
  },
  {
   "cell_type": "markdown",
   "id": "d1a9d617",
   "metadata": {},
   "source": [
    "# Comparing Countries "
   ]
  },
  {
   "cell_type": "code",
   "execution_count": 258,
   "id": "3d99036a",
   "metadata": {},
   "outputs": [],
   "source": [
    "df_temp = pd.read_csv('owid-covid-data.csv')"
   ]
  },
  {
   "cell_type": "code",
   "execution_count": 259,
   "id": "c3772a26",
   "metadata": {},
   "outputs": [],
   "source": [
    "df_Ind = df_temp[df_temp[\"location\"]==\"Indonesia\"].copy()\n",
    "df_Pak = df_temp[df_temp[\"location\"]==\"Pakistan\"].copy()\n",
    "df_Ni = df_temp[df_temp[\"location\"]==\"Nigeria\"].copy()"
   ]
  },
  {
   "cell_type": "code",
   "execution_count": 260,
   "id": "1ceed95f",
   "metadata": {
    "scrolled": true
   },
   "outputs": [
    {
     "name": "stdout",
     "output_type": "stream",
     "text": [
      "<class 'pandas.core.frame.DataFrame'>\n",
      "Int64Index: 1160 entries, 118285 to 119444\n",
      "Data columns (total 67 columns):\n",
      " #   Column                                      Non-Null Count  Dtype  \n",
      "---  ------                                      --------------  -----  \n",
      " 0   iso_code                                    1160 non-null   object \n",
      " 1   continent                                   1160 non-null   object \n",
      " 2   location                                    1160 non-null   object \n",
      " 3   date                                        1160 non-null   object \n",
      " 4   total_cases                                 1101 non-null   float64\n",
      " 5   new_cases                                   1159 non-null   float64\n",
      " 6   new_cases_smoothed                          1154 non-null   float64\n",
      " 7   total_deaths                                1092 non-null   float64\n",
      " 8   new_deaths                                  1160 non-null   float64\n",
      " 9   new_deaths_smoothed                         1155 non-null   float64\n",
      " 10  total_cases_per_million                     1101 non-null   float64\n",
      " 11  new_cases_per_million                       1159 non-null   float64\n",
      " 12  new_cases_smoothed_per_million              1154 non-null   float64\n",
      " 13  total_deaths_per_million                    1092 non-null   float64\n",
      " 14  new_deaths_per_million                      1160 non-null   float64\n",
      " 15  new_deaths_smoothed_per_million             1155 non-null   float64\n",
      " 16  reproduction_rate                           1023 non-null   float64\n",
      " 17  icu_patients                                0 non-null      float64\n",
      " 18  icu_patients_per_million                    0 non-null      float64\n",
      " 19  hosp_patients                               0 non-null      float64\n",
      " 20  hosp_patients_per_million                   0 non-null      float64\n",
      " 21  weekly_icu_admissions                       0 non-null      float64\n",
      " 22  weekly_icu_admissions_per_million           0 non-null      float64\n",
      " 23  weekly_hosp_admissions                      0 non-null      float64\n",
      " 24  weekly_hosp_admissions_per_million          0 non-null      float64\n",
      " 25  total_tests                                 371 non-null    float64\n",
      " 26  new_tests                                   369 non-null    float64\n",
      " 27  total_tests_per_thousand                    371 non-null    float64\n",
      " 28  new_tests_per_thousand                      369 non-null    float64\n",
      " 29  new_tests_smoothed                          365 non-null    float64\n",
      " 30  new_tests_smoothed_per_thousand             365 non-null    float64\n",
      " 31  positive_rate                               365 non-null    float64\n",
      " 32  tests_per_case                              365 non-null    float64\n",
      " 33  tests_units                                 372 non-null    object \n",
      " 34  total_vaccinations                          456 non-null    float64\n",
      " 35  people_vaccinated                           500 non-null    float64\n",
      " 36  people_fully_vaccinated                     502 non-null    float64\n",
      " 37  total_boosters                              121 non-null    float64\n",
      " 38  new_vaccinations                            409 non-null    float64\n",
      " 39  new_vaccinations_smoothed                   735 non-null    float64\n",
      " 40  total_vaccinations_per_hundred              456 non-null    float64\n",
      " 41  people_vaccinated_per_hundred               500 non-null    float64\n",
      " 42  people_fully_vaccinated_per_hundred         502 non-null    float64\n",
      " 43  total_boosters_per_hundred                  121 non-null    float64\n",
      " 44  new_vaccinations_smoothed_per_million       735 non-null    float64\n",
      " 45  new_people_vaccinated_smoothed              735 non-null    float64\n",
      " 46  new_people_vaccinated_smoothed_per_hundred  735 non-null    float64\n",
      " 47  stringency_index                            1075 non-null   float64\n",
      " 48  population_density                          1160 non-null   float64\n",
      " 49  median_age                                  1160 non-null   float64\n",
      " 50  aged_65_older                               1160 non-null   float64\n",
      " 51  aged_70_older                               1160 non-null   float64\n",
      " 52  gdp_per_capita                              1160 non-null   float64\n",
      " 53  extreme_poverty                             1160 non-null   float64\n",
      " 54  cardiovasc_death_rate                       1160 non-null   float64\n",
      " 55  diabetes_prevalence                         1160 non-null   float64\n",
      " 56  female_smokers                              1160 non-null   float64\n",
      " 57  male_smokers                                1160 non-null   float64\n",
      " 58  handwashing_facilities                      1160 non-null   float64\n",
      " 59  hospital_beds_per_thousand                  1160 non-null   float64\n",
      " 60  life_expectancy                             1160 non-null   float64\n",
      " 61  human_development_index                     1160 non-null   float64\n",
      " 62  population                                  1160 non-null   float64\n",
      " 63  excess_mortality_cumulative_absolute        0 non-null      float64\n",
      " 64  excess_mortality_cumulative                 0 non-null      float64\n",
      " 65  excess_mortality                            0 non-null      float64\n",
      " 66  excess_mortality_cumulative_per_million     0 non-null      float64\n",
      "dtypes: float64(62), object(5)\n",
      "memory usage: 616.2+ KB\n"
     ]
    }
   ],
   "source": [
    "df_Ind.info()"
   ]
  },
  {
   "cell_type": "code",
   "execution_count": 261,
   "id": "c57f2516",
   "metadata": {},
   "outputs": [],
   "source": [
    "df_Ind[\"date\"]=pd.to_datetime(df_Ind[\"date\"])\n",
    "df_Pak[\"date\"]=pd.to_datetime(df_Pak[\"date\"])\n",
    "df_Ni[\"date\"]=pd.to_datetime(df_Ni[\"date\"])"
   ]
  },
  {
   "cell_type": "code",
   "execution_count": 262,
   "id": "85648b00",
   "metadata": {},
   "outputs": [
    {
     "name": "stdout",
     "output_type": "stream",
     "text": [
      "<class 'pandas.core.frame.DataFrame'>\n",
      "Int64Index: 1160 entries, 118285 to 119444\n",
      "Data columns (total 67 columns):\n",
      " #   Column                                      Non-Null Count  Dtype         \n",
      "---  ------                                      --------------  -----         \n",
      " 0   iso_code                                    1160 non-null   object        \n",
      " 1   continent                                   1160 non-null   object        \n",
      " 2   location                                    1160 non-null   object        \n",
      " 3   date                                        1160 non-null   datetime64[ns]\n",
      " 4   total_cases                                 1101 non-null   float64       \n",
      " 5   new_cases                                   1159 non-null   float64       \n",
      " 6   new_cases_smoothed                          1154 non-null   float64       \n",
      " 7   total_deaths                                1092 non-null   float64       \n",
      " 8   new_deaths                                  1160 non-null   float64       \n",
      " 9   new_deaths_smoothed                         1155 non-null   float64       \n",
      " 10  total_cases_per_million                     1101 non-null   float64       \n",
      " 11  new_cases_per_million                       1159 non-null   float64       \n",
      " 12  new_cases_smoothed_per_million              1154 non-null   float64       \n",
      " 13  total_deaths_per_million                    1092 non-null   float64       \n",
      " 14  new_deaths_per_million                      1160 non-null   float64       \n",
      " 15  new_deaths_smoothed_per_million             1155 non-null   float64       \n",
      " 16  reproduction_rate                           1023 non-null   float64       \n",
      " 17  icu_patients                                0 non-null      float64       \n",
      " 18  icu_patients_per_million                    0 non-null      float64       \n",
      " 19  hosp_patients                               0 non-null      float64       \n",
      " 20  hosp_patients_per_million                   0 non-null      float64       \n",
      " 21  weekly_icu_admissions                       0 non-null      float64       \n",
      " 22  weekly_icu_admissions_per_million           0 non-null      float64       \n",
      " 23  weekly_hosp_admissions                      0 non-null      float64       \n",
      " 24  weekly_hosp_admissions_per_million          0 non-null      float64       \n",
      " 25  total_tests                                 371 non-null    float64       \n",
      " 26  new_tests                                   369 non-null    float64       \n",
      " 27  total_tests_per_thousand                    371 non-null    float64       \n",
      " 28  new_tests_per_thousand                      369 non-null    float64       \n",
      " 29  new_tests_smoothed                          365 non-null    float64       \n",
      " 30  new_tests_smoothed_per_thousand             365 non-null    float64       \n",
      " 31  positive_rate                               365 non-null    float64       \n",
      " 32  tests_per_case                              365 non-null    float64       \n",
      " 33  tests_units                                 372 non-null    object        \n",
      " 34  total_vaccinations                          456 non-null    float64       \n",
      " 35  people_vaccinated                           500 non-null    float64       \n",
      " 36  people_fully_vaccinated                     502 non-null    float64       \n",
      " 37  total_boosters                              121 non-null    float64       \n",
      " 38  new_vaccinations                            409 non-null    float64       \n",
      " 39  new_vaccinations_smoothed                   735 non-null    float64       \n",
      " 40  total_vaccinations_per_hundred              456 non-null    float64       \n",
      " 41  people_vaccinated_per_hundred               500 non-null    float64       \n",
      " 42  people_fully_vaccinated_per_hundred         502 non-null    float64       \n",
      " 43  total_boosters_per_hundred                  121 non-null    float64       \n",
      " 44  new_vaccinations_smoothed_per_million       735 non-null    float64       \n",
      " 45  new_people_vaccinated_smoothed              735 non-null    float64       \n",
      " 46  new_people_vaccinated_smoothed_per_hundred  735 non-null    float64       \n",
      " 47  stringency_index                            1075 non-null   float64       \n",
      " 48  population_density                          1160 non-null   float64       \n",
      " 49  median_age                                  1160 non-null   float64       \n",
      " 50  aged_65_older                               1160 non-null   float64       \n",
      " 51  aged_70_older                               1160 non-null   float64       \n",
      " 52  gdp_per_capita                              1160 non-null   float64       \n",
      " 53  extreme_poverty                             1160 non-null   float64       \n",
      " 54  cardiovasc_death_rate                       1160 non-null   float64       \n",
      " 55  diabetes_prevalence                         1160 non-null   float64       \n",
      " 56  female_smokers                              1160 non-null   float64       \n",
      " 57  male_smokers                                1160 non-null   float64       \n",
      " 58  handwashing_facilities                      1160 non-null   float64       \n",
      " 59  hospital_beds_per_thousand                  1160 non-null   float64       \n",
      " 60  life_expectancy                             1160 non-null   float64       \n",
      " 61  human_development_index                     1160 non-null   float64       \n",
      " 62  population                                  1160 non-null   float64       \n",
      " 63  excess_mortality_cumulative_absolute        0 non-null      float64       \n",
      " 64  excess_mortality_cumulative                 0 non-null      float64       \n",
      " 65  excess_mortality                            0 non-null      float64       \n",
      " 66  excess_mortality_cumulative_per_million     0 non-null      float64       \n",
      "dtypes: datetime64[ns](1), float64(62), object(4)\n",
      "memory usage: 616.2+ KB\n"
     ]
    }
   ],
   "source": [
    "#checking to see if it's datetime\n",
    "df_Ind.info()"
   ]
  },
  {
   "cell_type": "code",
   "execution_count": 263,
   "id": "dd5ddfe0",
   "metadata": {},
   "outputs": [],
   "source": [
    "#because its in Datetime data type\n",
    "#two logic statements\n",
    "df_Ind=df_Ind[(df_Ind[\"date\"]>=\"2022-06-01\")&(df_Ind[\"date\"]<=\"2022-12-31\")].copy()\n",
    "df_Pak=df_Pak[(df_Pak[\"date\"]>=\"2022-06-01\")&(df_Pak[\"date\"]<=\"2022-12-31\")].copy()\n",
    "df_Ni=df_Ni[(df_Ni[\"date\"]>=\"2022-06-01\")&(df_Ni[\"date\"]<=\"2022-12-31\")].copy()"
   ]
  },
  {
   "cell_type": "code",
   "execution_count": 264,
   "id": "0f1a40a2",
   "metadata": {
    "scrolled": true
   },
   "outputs": [
    {
     "name": "stderr",
     "output_type": "stream",
     "text": [
      "<ipython-input-264-a6a44c638604>:2: FutureWarning: weekofyear and week have been deprecated, please use DatetimeIndex.isocalendar().week instead, which returns a Series. To exactly reproduce the behavior of week and weekofyear and return an Index, you may call pd.Int64Index(idx.isocalendar().week)\n",
      "  df_Ind[\"week\"]=pd.DatetimeIndex(df_Ind[\"date\"]).week\n",
      "<ipython-input-264-a6a44c638604>:3: FutureWarning: weekofyear and week have been deprecated, please use DatetimeIndex.isocalendar().week instead, which returns a Series. To exactly reproduce the behavior of week and weekofyear and return an Index, you may call pd.Int64Index(idx.isocalendar().week)\n",
      "  df_Pak[\"week\"]=pd.DatetimeIndex(df_Pak[\"date\"]).week\n",
      "<ipython-input-264-a6a44c638604>:4: FutureWarning: weekofyear and week have been deprecated, please use DatetimeIndex.isocalendar().week instead, which returns a Series. To exactly reproduce the behavior of week and weekofyear and return an Index, you may call pd.Int64Index(idx.isocalendar().week)\n",
      "  df_Ni[\"week\"]=pd.DatetimeIndex(df_Ni[\"date\"]).week\n"
     ]
    }
   ],
   "source": [
    "#asking for attribute\n",
    "df_Ind[\"week\"]=pd.DatetimeIndex(df_Ind[\"date\"]).week\n",
    "df_Pak[\"week\"]=pd.DatetimeIndex(df_Pak[\"date\"]).week\n",
    "df_Ni[\"week\"]=pd.DatetimeIndex(df_Ni[\"date\"]).week"
   ]
  },
  {
   "cell_type": "code",
   "execution_count": 265,
   "id": "e207251d",
   "metadata": {},
   "outputs": [],
   "source": [
    "df_Ind[\"date\"]=pd.to_datetime(df_Ind[\"date\"])\n",
    "df_Pak[\"date\"]=pd.to_datetime(df_Pak[\"date\"])\n",
    "df_Ni[\"date\"]=pd.to_datetime(df_Ni[\"date\"])"
   ]
  },
  {
   "cell_type": "code",
   "execution_count": 266,
   "id": "353e151a",
   "metadata": {},
   "outputs": [],
   "source": [
    "#setting index to datetime\n",
    "df_Ind.index=df_Ind[\"date\"]\n",
    "df_Pak.index=df_Pak[\"date\"]\n",
    "df_Ni.index=df_Ni[\"date\"]"
   ]
  },
  {
   "cell_type": "markdown",
   "id": "71c1facd-b6c5-4b14-95f6-b6b1961e6143",
   "metadata": {},
   "source": [
    "### Observing Indonesia"
   ]
  },
  {
   "cell_type": "code",
   "execution_count": 267,
   "id": "48f07634",
   "metadata": {},
   "outputs": [
    {
     "data": {
      "text/plain": [
       "<Axes: xlabel='date'>"
      ]
     },
     "execution_count": 267,
     "metadata": {},
     "output_type": "execute_result"
    },
    {
     "data": {
      "image/png": "[encoded data removed]",
      "text/plain": [
       "<Figure size 720x720 with 1 Axes>"
      ]
     },
     "metadata": {
      "needs_background": "light"
     },
     "output_type": "display_data"
    }
   ],
   "source": [
    "#x-axis here is row values\n",
    "#y-axis here is log of new cases & deaths - making extreme values less extreme\n",
    "df_Ind[[\"new_cases\",\"new_deaths\"]].plot(logy=True, figsize=(10,10))"
   ]
  },
  {
   "cell_type": "markdown",
   "id": "46736b30-589d-47ed-9889-4844dd64a947",
   "metadata": {},
   "source": [
    "### New Confirmed Cases for Indonesia, Pakistan and Nigeria - plot"
   ]
  },
  {
   "cell_type": "code",
   "execution_count": 268,
   "id": "acb2290f",
   "metadata": {},
   "outputs": [
    {
     "data": {
      "text/plain": [
       "<Axes: title={'center': 'New Confirmed Cases for Indonesia, Pakistan and Nigeria'}, xlabel='date'>"
      ]
     },
     "execution_count": 268,
     "metadata": {},
     "output_type": "execute_result"
    },
    {
     "data": {
      "image/png": "[encoded data removed]",
      "text/plain": [
       "<Figure size 720x720 with 1 Axes>"
      ]
     },
     "metadata": {
      "needs_background": "light"
     },
     "output_type": "display_data"
    }
   ],
   "source": [
    "#subplot(in matplatlib) in pandas version as ax objects\n",
    "#Indonesia is RED, Pakistan is GREEN, Nigeria is PURPLE\n",
    "#ax=ax meaning here to put the Pakistan plot in ax plot\n",
    "ax = df_Ind[\"new_cases\"].plot(color=\"red\")\n",
    "df_Pak[\"new_cases\"].plot(color=\"green\", ax=ax)\n",
    "df_Ni[\"new_cases\"].plot(color=\"purple\", ax=ax, title = \"New Confirmed Cases for Indonesia, Pakistan and Nigeria\", figsize=(10,10))"
   ]
  },
  {
   "cell_type": "code",
   "execution_count": 269,
   "id": "8b8e8ec3",
   "metadata": {},
   "outputs": [],
   "source": [
    "#preparing superdataT for full country comparison\n",
    "superdataT.index = superdataT[\"Date\"]"
   ]
  },
  {
   "cell_type": "code",
   "execution_count": 270,
   "id": "1cc92235",
   "metadata": {
    "scrolled": true
   },
   "outputs": [
    {
     "data": {
      "text/plain": [
       "<Axes: title={'center': 'New Cases for Indonesia, Pakistan, Nigeria and USA'}, xlabel='Date'>"
      ]
     },
     "execution_count": 270,
     "metadata": {},
     "output_type": "execute_result"
    },
    {
     "data": {
      "image/png": "[encoded data removed]",
      "text/plain": [
       "<Figure size 720x720 with 1 Axes>"
      ]
     },
     "metadata": {
      "needs_background": "light"
     },
     "output_type": "display_data"
    }
   ],
   "source": [
    "ax = df_Ind[\"new_cases\"].plot(color=\"red\", title = \"New Cases for Indonesia, Pakistan, Nigeria and USA\")\n",
    "df_Pak[\"new_cases\"].plot(color=\"green\", ax=ax)\n",
    "df_Ni[\"new_cases\"].plot(color=\"purple\", ax=ax)\n",
    "#logical indexing\n",
    "superdataT[superdataT[\"new_death\"]==\"new\"][\"Total\"].plot(color=\"blue\", ax=ax, logy=True, figsize=(10,10))"
   ]
  },
  {
   "cell_type": "code",
   "execution_count": 271,
   "id": "ba8f0dda",
   "metadata": {},
   "outputs": [
    {
     "data": {
      "text/plain": [
       "<Axes: title={'center': 'New Deaths for Indonesia, Pakistan, Nigeria and USA'}, xlabel='Date'>"
      ]
     },
     "execution_count": 271,
     "metadata": {},
     "output_type": "execute_result"
    },
    {
     "data": {
      "image/png": "[encoded data removed]",
      "text/plain": [
       "<Figure size 720x720 with 1 Axes>"
      ]
     },
     "metadata": {
      "needs_background": "light"
     },
     "output_type": "display_data"
    }
   ],
   "source": [
    "ax = df_Ind[\"new_deaths\"].plot(color=\"red\", title = \"New Deaths for Indonesia, Pakistan, Nigeria and USA\")\n",
    "df_Pak[\"new_deaths\"].plot(color=\"green\", ax=ax)\n",
    "df_Ni[\"new_deaths\"].plot(color=\"purple\", ax=ax)\n",
    "#logical indexing\n",
    "superdataT[superdataT[\"new_death\"]==\"death\"][\"Total\"].plot(color=\"blue\", ax=ax, logy=True, figsize=(10,10))"
   ]
  },
  {
   "cell_type": "code",
   "execution_count": 272,
   "id": "f1dd1985",
   "metadata": {},
   "outputs": [],
   "source": [
    "#difference between rows -> Difference between day/daily change\n",
    "superdataT[\"Total_dif\"]=superdataT[\"Total\"].diff()"
   ]
  },
  {
   "cell_type": "code",
   "execution_count": 273,
   "id": "599aca26",
   "metadata": {},
   "outputs": [
    {
     "data": {
      "text/plain": [
       "<Axes: title={'center': 'New Confirmed Cases for Indonesia, Pakistan, Nigeria and USA'}, xlabel='Date'>"
      ]
     },
     "execution_count": 273,
     "metadata": {},
     "output_type": "execute_result"
    },
    {
     "data": {
      "image/png": "[encoded data removed]",
      "text/plain": [
       "<Figure size 720x720 with 1 Axes>"
      ]
     },
     "metadata": {
      "needs_background": "light"
     },
     "output_type": "display_data"
    }
   ],
   "source": [
    "ax = df_Ind[\"new_cases\"].plot(color=\"red\", title = \"New Confirmed Cases for Indonesia, Pakistan, Nigeria and USA\")\n",
    "df_Pak[\"new_cases\"].plot(color=\"green\", ax=ax)\n",
    "df_Ni[\"new_cases\"].plot(color=\"purple\", ax=ax)\n",
    "#logical indexing\n",
    "superdataT[superdataT[\"new_death\"]==\"new\"][\"Total_dif\"].plot(color=\"blue\", ax=ax, logy=True, figsize=(10,10))"
   ]
  },
  {
   "cell_type": "markdown",
   "id": "695fc9f1-f337-4238-af42-685bcc25aed0",
   "metadata": {},
   "source": [
    "### Peak weeks"
   ]
  },
  {
   "cell_type": "code",
   "execution_count": 274,
   "id": "059387ae-d71f-47f5-89ad-585db2898959",
   "metadata": {},
   "outputs": [
    {
     "name": "stdout",
     "output_type": "stream",
     "text": [
      "US peak death is: \n"
     ]
    },
    {
     "name": "stderr",
     "output_type": "stream",
     "text": [
      "<ipython-input-274-87f7836dd0ba>:2: FutureWarning: The default value of numeric_only in DataFrameGroupBy.sum is deprecated. In a future version, numeric_only will default to False. Either specify numeric_only or select only columns which should be valid for the function.\n",
      "  superdataT[superdataT[\"new_death\"]==\"death\"].groupby(\"Week\").sum()[\"Total\"].max()\n"
     ]
    },
    {
     "data": {
      "text/plain": [
       "7449099"
      ]
     },
     "execution_count": 274,
     "metadata": {},
     "output_type": "execute_result"
    }
   ],
   "source": [
    "print('US peak death is: ')\n",
    "superdataT[superdataT[\"new_death\"]==\"death\"].groupby(\"Week\").sum()[\"Total\"].max()"
   ]
  },
  {
   "cell_type": "code",
   "execution_count": 275,
   "id": "05406272-d426-479b-bb8c-34dc1c708b76",
   "metadata": {},
   "outputs": [
    {
     "name": "stdout",
     "output_type": "stream",
     "text": [
      "US peak cases is: \n"
     ]
    },
    {
     "name": "stderr",
     "output_type": "stream",
     "text": [
      "<ipython-input-275-edd7c2698e66>:2: FutureWarning: The default value of numeric_only in DataFrameGroupBy.sum is deprecated. In a future version, numeric_only will default to False. Either specify numeric_only or select only columns which should be valid for the function.\n",
      "  superdataT[superdataT[\"new_death\"]==\"new\"].groupby(\"Week\").sum()[\"Total\"].max()\n"
     ]
    },
    {
     "data": {
      "text/plain": [
       "667137461"
      ]
     },
     "execution_count": 275,
     "metadata": {},
     "output_type": "execute_result"
    }
   ],
   "source": [
    "print('US peak cases is: ')\n",
    "superdataT[superdataT[\"new_death\"]==\"new\"].groupby(\"Week\").sum()[\"Total\"].max()"
   ]
  },
  {
   "cell_type": "code",
   "execution_count": 276,
   "id": "a6497f4c-9741-4a18-9c52-3f881ae7c26f",
   "metadata": {},
   "outputs": [
    {
     "name": "stdout",
     "output_type": "stream",
     "text": [
      "Indonesia peak death is: \n"
     ]
    },
    {
     "data": {
      "text/plain": [
       "new_deaths    59.0\n",
       "dtype: float64"
      ]
     },
     "execution_count": 276,
     "metadata": {},
     "output_type": "execute_result"
    }
   ],
   "source": [
    "print('Indonesia peak death is: ')\n",
    "df_Ind[[\"new_deaths\"]].max()"
   ]
  },
  {
   "cell_type": "code",
   "execution_count": 277,
   "id": "dcd2753a-edaf-466b-92a1-3bc1d0c85a00",
   "metadata": {},
   "outputs": [
    {
     "name": "stdout",
     "output_type": "stream",
     "text": [
      "Indonesia peak cases is: \n"
     ]
    },
    {
     "data": {
      "text/plain": [
       "new_cases    8486.0\n",
       "dtype: float64"
      ]
     },
     "execution_count": 277,
     "metadata": {},
     "output_type": "execute_result"
    }
   ],
   "source": [
    "print('Indonesia peak cases is: ')\n",
    "df_Ind[[\"new_cases\"]].max()"
   ]
  },
  {
   "cell_type": "code",
   "execution_count": 278,
   "id": "efbbf59c-b5c2-4e01-a47b-1de835b3a0c5",
   "metadata": {},
   "outputs": [
    {
     "name": "stdout",
     "output_type": "stream",
     "text": [
      "Pakistan peak death is: \n"
     ]
    },
    {
     "data": {
      "text/plain": [
       "11.0"
      ]
     },
     "execution_count": 278,
     "metadata": {},
     "output_type": "execute_result"
    }
   ],
   "source": [
    "print('Pakistan peak death is: ')\n",
    "df_Pak[\"new_deaths\"].max()"
   ]
  },
  {
   "cell_type": "code",
   "execution_count": 279,
   "id": "f5de8b69-e72e-4c55-ac3f-9dfca2d2448b",
   "metadata": {},
   "outputs": [
    {
     "name": "stdout",
     "output_type": "stream",
     "text": [
      "Pakistan peak cases is: \n"
     ]
    },
    {
     "data": {
      "text/plain": [
       "872.0"
      ]
     },
     "execution_count": 279,
     "metadata": {},
     "output_type": "execute_result"
    }
   ],
   "source": [
    "print('Pakistan peak cases is: ')\n",
    "df_Pak[\"new_cases\"].max()"
   ]
  },
  {
   "cell_type": "code",
   "execution_count": 280,
   "id": "55a674de-a632-466c-b3c0-2587890e7852",
   "metadata": {},
   "outputs": [
    {
     "name": "stdout",
     "output_type": "stream",
     "text": [
      "Nigeria peak death is: \n"
     ]
    },
    {
     "data": {
      "text/plain": [
       "6.0"
      ]
     },
     "execution_count": 280,
     "metadata": {},
     "output_type": "execute_result"
    }
   ],
   "source": [
    "print('Nigeria peak death is: ')\n",
    "df_Ni[\"new_deaths\"].max()"
   ]
  },
  {
   "cell_type": "code",
   "execution_count": 281,
   "id": "857f0f21-8263-410f-91cb-7e774f77a20a",
   "metadata": {},
   "outputs": [
    {
     "name": "stdout",
     "output_type": "stream",
     "text": [
      "Nigeria peak cases is: \n"
     ]
    },
    {
     "data": {
      "text/plain": [
       "1279.0"
      ]
     },
     "execution_count": 281,
     "metadata": {},
     "output_type": "execute_result"
    }
   ],
   "source": [
    "print('Nigeria peak cases is: ')\n",
    "df_Ni[\"new_cases\"].max()"
   ]
  },
  {
   "cell_type": "markdown",
   "id": "8183e7c2-30ce-485b-be57-a3d1ab11657f",
   "metadata": {},
   "source": [
    "### Background research for weekly trends"
   ]
  },
  {
   "cell_type": "markdown",
   "id": "78f13d75-5508-4c09-bfd5-ca23c4296e51",
   "metadata": {},
   "source": [
    "Prior to the project as a team we assumed that peaks of data would be higher during the holidays, including last week of December, and month of January. "
   ]
  },
  {
   "cell_type": "markdown",
   "id": "b7e09855-d284-4ed9-a8df-a06ee20b5eb0",
   "metadata": {},
   "source": [
    "##### Some links relating to the data ar included in the following:"
   ]
  },
  {
   "cell_type": "markdown",
   "id": "dac18072-d052-4824-9079-f9b54cc7ef96",
   "metadata": {},
   "source": [
    "Population data link: \"https://www.indexmundi.com/g/r.aspx\"\n",
    "\n",
    "This link was used in order to select countries with a similar population density. "
   ]
  },
  {
   "cell_type": "markdown",
   "id": "999e139f-1c8b-4ebf-97a4-2ac3ffe4a052",
   "metadata": {},
   "source": [
    "US: https://www.ncbi.nlm.nih.gov/pmc/articles/PMC9169704/#:~:text=The%20largest%20peak%20in%20hospitalizations,surveillance%20data%20has%20several%20benefits.\n",
    "\n",
    "This link describes peak hospitalizations which was used to assume the peak times of cases and deaths. "
   ]
  },
  {
   "cell_type": "markdown",
   "id": "9d700605-6d9f-421b-8dae-0d74bce9c9cc",
   "metadata": {},
   "source": [
    "Indonesia:https://www.researchgate.net/publication/46395110_Multi_input_intervention_model_for_evaluating_the_impact_of_the_asian_crisis_and_terrorist_attacks_on_tourist_arrivals\n",
    "\n",
    "\n",
    "This link describes the Indonesian travel time which corelates to the peak Indonesian cases and deaths."
   ]
  },
  {
   "cell_type": "markdown",
   "id": "7fe9462a-3497-47f7-b1d6-d5a37c017132",
   "metadata": {},
   "source": [
    "Pakistan: https://covid19.healthdata.org/pakistan?view=cumulative-deaths&tab=trend\n",
    "    \n",
    "This link provides a graphical analysis of the peak covid times for Pakistan"
   ]
  },
  {
   "cell_type": "markdown",
   "id": "31563b8a-2a13-4b6c-97a6-5c0529606a59",
   "metadata": {},
   "source": [
    "Nigeria: https://www.premiumtimesng.com/news/headlines/478855-covid-19-nigeria-records-790-new-cases-wednesday-highest-daily-infections-in-six-months.html?tztc=1\n",
    "\n",
    "This link provides an article that shows the increase of covid cases relating to a surge in the same time the data shows a peak for Nigeria. "
   ]
  }
 ],
 "metadata": {
  "kernelspec": {
   "display_name": "Python 3",
   "language": "python",
   "name": "python3"
  },
  "language_info": {
   "codemirror_mode": {
    "name": "ipython",
    "version": 3
   },
   "file_extension": ".py",
   "mimetype": "text/x-python",
   "name": "python",
   "nbconvert_exporter": "python",
   "pygments_lexer": "ipython3",
   "version": "3.8.8"
  }
 },
 "nbformat": 4,
 "nbformat_minor": 5
}
